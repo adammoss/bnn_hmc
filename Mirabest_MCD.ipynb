{
  "cells": [
    {
      "cell_type": "markdown",
      "metadata": {
        "id": "view-in-github",
        "colab_type": "text"
      },
      "source": [
        "<a href=\"https://colab.research.google.com/github/adammoss/bnn_hmc/blob/main/Mirabest_MCD.ipynb\" target=\"_parent\"><img src=\"https://colab.research.google.com/assets/colab-badge.svg\" alt=\"Open In Colab\"/></a>"
      ]
    },
    {
      "cell_type": "code",
      "source": [
        "!pip install astro-datasets --upgrade"
      ],
      "metadata": {
        "id": "UCaVOb8qDuss",
        "colab": {
          "base_uri": "https://localhost:8080/"
        },
        "outputId": "5fc10997-0422-4d65-fe0c-c49a4241fc10"
      },
      "execution_count": null,
      "outputs": [
        {
          "output_type": "stream",
          "name": "stdout",
          "text": [
            "Looking in indexes: https://pypi.org/simple, https://us-python.pkg.dev/colab-wheels/public/simple/\n",
            "Requirement already satisfied: astro-datasets in /usr/local/lib/python3.7/dist-packages (0.0.9)\n",
            "Requirement already satisfied: tensorflow in /usr/local/lib/python3.7/dist-packages (from astro-datasets) (2.8.2+zzzcolab20220719082949)\n",
            "Requirement already satisfied: numpy in /usr/local/lib/python3.7/dist-packages (from astro-datasets) (1.21.6)\n",
            "Requirement already satisfied: pandas in /usr/local/lib/python3.7/dist-packages (from astro-datasets) (1.3.5)\n",
            "Requirement already satisfied: tensorflow-datasets in /usr/local/lib/python3.7/dist-packages (from astro-datasets) (4.6.0)\n",
            "Requirement already satisfied: python-dateutil>=2.7.3 in /usr/local/lib/python3.7/dist-packages (from pandas->astro-datasets) (2.8.2)\n",
            "Requirement already satisfied: pytz>=2017.3 in /usr/local/lib/python3.7/dist-packages (from pandas->astro-datasets) (2022.1)\n",
            "Requirement already satisfied: six>=1.5 in /usr/local/lib/python3.7/dist-packages (from python-dateutil>=2.7.3->pandas->astro-datasets) (1.15.0)\n",
            "Requirement already satisfied: gast>=0.2.1 in /usr/local/lib/python3.7/dist-packages (from tensorflow->astro-datasets) (0.5.3)\n",
            "Requirement already satisfied: h5py>=2.9.0 in /usr/local/lib/python3.7/dist-packages (from tensorflow->astro-datasets) (3.1.0)\n",
            "Requirement already satisfied: tensorflow-io-gcs-filesystem>=0.23.1 in /usr/local/lib/python3.7/dist-packages (from tensorflow->astro-datasets) (0.26.0)\n",
            "Requirement already satisfied: keras<2.9,>=2.8.0rc0 in /usr/local/lib/python3.7/dist-packages (from tensorflow->astro-datasets) (2.8.0)\n",
            "Requirement already satisfied: opt-einsum>=2.3.2 in /usr/local/lib/python3.7/dist-packages (from tensorflow->astro-datasets) (3.3.0)\n",
            "Requirement already satisfied: protobuf<3.20,>=3.9.2 in /usr/local/lib/python3.7/dist-packages (from tensorflow->astro-datasets) (3.17.3)\n",
            "Requirement already satisfied: wrapt>=1.11.0 in /usr/local/lib/python3.7/dist-packages (from tensorflow->astro-datasets) (1.14.1)\n",
            "Requirement already satisfied: setuptools in /usr/local/lib/python3.7/dist-packages (from tensorflow->astro-datasets) (57.4.0)\n",
            "Requirement already satisfied: grpcio<2.0,>=1.24.3 in /usr/local/lib/python3.7/dist-packages (from tensorflow->astro-datasets) (1.47.0)\n",
            "Requirement already satisfied: termcolor>=1.1.0 in /usr/local/lib/python3.7/dist-packages (from tensorflow->astro-datasets) (1.1.0)\n",
            "Requirement already satisfied: libclang>=9.0.1 in /usr/local/lib/python3.7/dist-packages (from tensorflow->astro-datasets) (14.0.6)\n",
            "Requirement already satisfied: keras-preprocessing>=1.1.1 in /usr/local/lib/python3.7/dist-packages (from tensorflow->astro-datasets) (1.1.2)\n",
            "Requirement already satisfied: astunparse>=1.6.0 in /usr/local/lib/python3.7/dist-packages (from tensorflow->astro-datasets) (1.6.3)\n",
            "Requirement already satisfied: flatbuffers>=1.12 in /usr/local/lib/python3.7/dist-packages (from tensorflow->astro-datasets) (2.0)\n",
            "Requirement already satisfied: typing-extensions>=3.6.6 in /usr/local/lib/python3.7/dist-packages (from tensorflow->astro-datasets) (4.1.1)\n",
            "Requirement already satisfied: google-pasta>=0.1.1 in /usr/local/lib/python3.7/dist-packages (from tensorflow->astro-datasets) (0.2.0)\n",
            "Requirement already satisfied: absl-py>=0.4.0 in /usr/local/lib/python3.7/dist-packages (from tensorflow->astro-datasets) (1.2.0)\n",
            "Requirement already satisfied: tensorboard<2.9,>=2.8 in /usr/local/lib/python3.7/dist-packages (from tensorflow->astro-datasets) (2.8.0)\n",
            "Requirement already satisfied: tensorflow-estimator<2.9,>=2.8 in /usr/local/lib/python3.7/dist-packages (from tensorflow->astro-datasets) (2.8.0)\n",
            "Requirement already satisfied: wheel<1.0,>=0.23.0 in /usr/local/lib/python3.7/dist-packages (from astunparse>=1.6.0->tensorflow->astro-datasets) (0.37.1)\n",
            "Requirement already satisfied: cached-property in /usr/local/lib/python3.7/dist-packages (from h5py>=2.9.0->tensorflow->astro-datasets) (1.5.2)\n",
            "Requirement already satisfied: markdown>=2.6.8 in /usr/local/lib/python3.7/dist-packages (from tensorboard<2.9,>=2.8->tensorflow->astro-datasets) (3.4.1)\n",
            "Requirement already satisfied: werkzeug>=0.11.15 in /usr/local/lib/python3.7/dist-packages (from tensorboard<2.9,>=2.8->tensorflow->astro-datasets) (1.0.1)\n",
            "Requirement already satisfied: tensorboard-data-server<0.7.0,>=0.6.0 in /usr/local/lib/python3.7/dist-packages (from tensorboard<2.9,>=2.8->tensorflow->astro-datasets) (0.6.1)\n",
            "Requirement already satisfied: requests<3,>=2.21.0 in /usr/local/lib/python3.7/dist-packages (from tensorboard<2.9,>=2.8->tensorflow->astro-datasets) (2.23.0)\n",
            "Requirement already satisfied: google-auth-oauthlib<0.5,>=0.4.1 in /usr/local/lib/python3.7/dist-packages (from tensorboard<2.9,>=2.8->tensorflow->astro-datasets) (0.4.6)\n",
            "Requirement already satisfied: google-auth<3,>=1.6.3 in /usr/local/lib/python3.7/dist-packages (from tensorboard<2.9,>=2.8->tensorflow->astro-datasets) (1.35.0)\n",
            "Requirement already satisfied: tensorboard-plugin-wit>=1.6.0 in /usr/local/lib/python3.7/dist-packages (from tensorboard<2.9,>=2.8->tensorflow->astro-datasets) (1.8.1)\n",
            "Requirement already satisfied: pyasn1-modules>=0.2.1 in /usr/local/lib/python3.7/dist-packages (from google-auth<3,>=1.6.3->tensorboard<2.9,>=2.8->tensorflow->astro-datasets) (0.2.8)\n",
            "Requirement already satisfied: cachetools<5.0,>=2.0.0 in /usr/local/lib/python3.7/dist-packages (from google-auth<3,>=1.6.3->tensorboard<2.9,>=2.8->tensorflow->astro-datasets) (4.2.4)\n",
            "Requirement already satisfied: rsa<5,>=3.1.4 in /usr/local/lib/python3.7/dist-packages (from google-auth<3,>=1.6.3->tensorboard<2.9,>=2.8->tensorflow->astro-datasets) (4.9)\n",
            "Requirement already satisfied: requests-oauthlib>=0.7.0 in /usr/local/lib/python3.7/dist-packages (from google-auth-oauthlib<0.5,>=0.4.1->tensorboard<2.9,>=2.8->tensorflow->astro-datasets) (1.3.1)\n",
            "Requirement already satisfied: importlib-metadata>=4.4 in /usr/local/lib/python3.7/dist-packages (from markdown>=2.6.8->tensorboard<2.9,>=2.8->tensorflow->astro-datasets) (4.12.0)\n",
            "Requirement already satisfied: zipp>=0.5 in /usr/local/lib/python3.7/dist-packages (from importlib-metadata>=4.4->markdown>=2.6.8->tensorboard<2.9,>=2.8->tensorflow->astro-datasets) (3.8.1)\n",
            "Requirement already satisfied: pyasn1<0.5.0,>=0.4.6 in /usr/local/lib/python3.7/dist-packages (from pyasn1-modules>=0.2.1->google-auth<3,>=1.6.3->tensorboard<2.9,>=2.8->tensorflow->astro-datasets) (0.4.8)\n",
            "Requirement already satisfied: urllib3!=1.25.0,!=1.25.1,<1.26,>=1.21.1 in /usr/local/lib/python3.7/dist-packages (from requests<3,>=2.21.0->tensorboard<2.9,>=2.8->tensorflow->astro-datasets) (1.24.3)\n",
            "Requirement already satisfied: idna<3,>=2.5 in /usr/local/lib/python3.7/dist-packages (from requests<3,>=2.21.0->tensorboard<2.9,>=2.8->tensorflow->astro-datasets) (2.10)\n",
            "Requirement already satisfied: certifi>=2017.4.17 in /usr/local/lib/python3.7/dist-packages (from requests<3,>=2.21.0->tensorboard<2.9,>=2.8->tensorflow->astro-datasets) (2022.6.15)\n",
            "Requirement already satisfied: chardet<4,>=3.0.2 in /usr/local/lib/python3.7/dist-packages (from requests<3,>=2.21.0->tensorboard<2.9,>=2.8->tensorflow->astro-datasets) (3.0.4)\n",
            "Requirement already satisfied: oauthlib>=3.0.0 in /usr/local/lib/python3.7/dist-packages (from requests-oauthlib>=0.7.0->google-auth-oauthlib<0.5,>=0.4.1->tensorboard<2.9,>=2.8->tensorflow->astro-datasets) (3.2.0)\n",
            "Requirement already satisfied: promise in /usr/local/lib/python3.7/dist-packages (from tensorflow-datasets->astro-datasets) (2.3)\n",
            "Requirement already satisfied: toml in /usr/local/lib/python3.7/dist-packages (from tensorflow-datasets->astro-datasets) (0.10.2)\n",
            "Requirement already satisfied: importlib-resources in /usr/local/lib/python3.7/dist-packages (from tensorflow-datasets->astro-datasets) (5.9.0)\n",
            "Requirement already satisfied: etils[epath] in /usr/local/lib/python3.7/dist-packages (from tensorflow-datasets->astro-datasets) (0.6.0)\n",
            "Requirement already satisfied: dill in /usr/local/lib/python3.7/dist-packages (from tensorflow-datasets->astro-datasets) (0.3.5.1)\n",
            "Requirement already satisfied: tqdm in /usr/local/lib/python3.7/dist-packages (from tensorflow-datasets->astro-datasets) (4.64.0)\n",
            "Requirement already satisfied: tensorflow-metadata in /usr/local/lib/python3.7/dist-packages (from tensorflow-datasets->astro-datasets) (1.9.0)\n",
            "Requirement already satisfied: googleapis-common-protos<2,>=1.52.0 in /usr/local/lib/python3.7/dist-packages (from tensorflow-metadata->tensorflow-datasets->astro-datasets) (1.56.4)\n"
          ]
        }
      ]
    },
    {
      "cell_type": "code",
      "source": [
        "!pip install tensorflow_datasets --upgrade"
      ],
      "metadata": {
        "id": "RxQoEJrn1bMU",
        "colab": {
          "base_uri": "https://localhost:8080/"
        },
        "outputId": "7f4a9ba4-ba8b-46a9-db45-744e03e01653"
      },
      "execution_count": null,
      "outputs": [
        {
          "output_type": "stream",
          "name": "stdout",
          "text": [
            "Looking in indexes: https://pypi.org/simple, https://us-python.pkg.dev/colab-wheels/public/simple/\n",
            "Requirement already satisfied: tensorflow_datasets in /usr/local/lib/python3.7/dist-packages (4.6.0)\n",
            "Requirement already satisfied: etils[epath] in /usr/local/lib/python3.7/dist-packages (from tensorflow_datasets) (0.6.0)\n",
            "Requirement already satisfied: toml in /usr/local/lib/python3.7/dist-packages (from tensorflow_datasets) (0.10.2)\n",
            "Requirement already satisfied: absl-py in /usr/local/lib/python3.7/dist-packages (from tensorflow_datasets) (1.2.0)\n",
            "Requirement already satisfied: six in /usr/local/lib/python3.7/dist-packages (from tensorflow_datasets) (1.15.0)\n",
            "Requirement already satisfied: numpy in /usr/local/lib/python3.7/dist-packages (from tensorflow_datasets) (1.21.6)\n",
            "Requirement already satisfied: tqdm in /usr/local/lib/python3.7/dist-packages (from tensorflow_datasets) (4.64.0)\n",
            "Requirement already satisfied: typing-extensions in /usr/local/lib/python3.7/dist-packages (from tensorflow_datasets) (4.1.1)\n",
            "Requirement already satisfied: protobuf>=3.12.2 in /usr/local/lib/python3.7/dist-packages (from tensorflow_datasets) (3.17.3)\n",
            "Requirement already satisfied: termcolor in /usr/local/lib/python3.7/dist-packages (from tensorflow_datasets) (1.1.0)\n",
            "Requirement already satisfied: tensorflow-metadata in /usr/local/lib/python3.7/dist-packages (from tensorflow_datasets) (1.9.0)\n",
            "Requirement already satisfied: importlib-resources in /usr/local/lib/python3.7/dist-packages (from tensorflow_datasets) (5.9.0)\n",
            "Requirement already satisfied: promise in /usr/local/lib/python3.7/dist-packages (from tensorflow_datasets) (2.3)\n",
            "Requirement already satisfied: dill in /usr/local/lib/python3.7/dist-packages (from tensorflow_datasets) (0.3.5.1)\n",
            "Requirement already satisfied: requests>=2.19.0 in /usr/local/lib/python3.7/dist-packages (from tensorflow_datasets) (2.23.0)\n",
            "Requirement already satisfied: urllib3!=1.25.0,!=1.25.1,<1.26,>=1.21.1 in /usr/local/lib/python3.7/dist-packages (from requests>=2.19.0->tensorflow_datasets) (1.24.3)\n",
            "Requirement already satisfied: idna<3,>=2.5 in /usr/local/lib/python3.7/dist-packages (from requests>=2.19.0->tensorflow_datasets) (2.10)\n",
            "Requirement already satisfied: chardet<4,>=3.0.2 in /usr/local/lib/python3.7/dist-packages (from requests>=2.19.0->tensorflow_datasets) (3.0.4)\n",
            "Requirement already satisfied: certifi>=2017.4.17 in /usr/local/lib/python3.7/dist-packages (from requests>=2.19.0->tensorflow_datasets) (2022.6.15)\n",
            "Requirement already satisfied: zipp in /usr/local/lib/python3.7/dist-packages (from etils[epath]->tensorflow_datasets) (3.8.1)\n",
            "Requirement already satisfied: googleapis-common-protos<2,>=1.52.0 in /usr/local/lib/python3.7/dist-packages (from tensorflow-metadata->tensorflow_datasets) (1.56.4)\n"
          ]
        }
      ]
    },
    {
      "cell_type": "code",
      "execution_count": null,
      "outputs": [],
      "source": [
        "import tensorflow as tf\n",
        "import numpy as np\n",
        "import os\n",
        "import astro_datasets\n",
        "import tensorflow_datasets as tfds\n",
        "from matplotlib import pyplot as plt"
      ],
      "metadata": {
        "pycharm": {
          "name": "#%%\n"
        },
        "id": "yRdiCVPGDc3N"
      }
    },
    {
      "cell_type": "markdown",
      "source": [
        "Load dataset, splitting into training, validation and testing"
      ],
      "metadata": {
        "collapsed": false,
        "pycharm": {
          "name": "#%% md\n"
        },
        "id": "3QjJ8hJkDc3P"
      }
    },
    {
      "cell_type": "code",
      "execution_count": null,
      "outputs": [],
      "source": [
        "dataset_train, info_train = tfds.load(name='mirabest/confident', split='train[:80%]', batch_size=50, as_supervised=True, with_info=True)\n",
        "dataset_valid, info_valid = tfds.load(name='mirabest/confident', split='train[80%:]', batch_size=50, as_supervised=True, with_info=True) \n",
        "dataset_test, info_test = tfds.load(name='mirabest/confident', split='test', batch_size=50, as_supervised=True, with_info=True) "
      ],
      "metadata": {
        "pycharm": {
          "name": "#%%\n"
        },
        "id": "PxcCbkYaDc3R"
      }
    },
    {
      "cell_type": "code",
      "source": [
        ""
      ],
      "metadata": {
        "id": "HlQNxJJLkCko"
      },
      "execution_count": null,
      "outputs": []
    },
    {
      "cell_type": "code",
      "source": [
        "#dataset_train, info_train = tfds.load(name='mirabest_confident', split='train', batch_size=729, as_supervised=True, with_info=True)\n",
        "\n",
        "\n",
        "#for (x,y) in dataset_train:\n",
        "  #mean = np.mean(x)\n",
        "  #std = np.std(x)\n",
        "#print('Mean = ',mean)\n",
        "#print('Standard deviation = ',std)\n"
      ],
      "metadata": {
        "id": "0h9eHkueVRlt"
      },
      "execution_count": null,
      "outputs": []
    },
    {
      "cell_type": "code",
      "source": [
        "#dataset, info = tfds.load(name='mirabest', split='train', batch_size=1099,as_supervised=True, with_info=True)\n",
        "#for (x,y) in dataset:\n",
        "  #mean = np.mean(x)\n",
        "  #std = np.std(x)\n",
        "#print('Mean = ',mean)\n",
        "#print('Standard deviation = ',std)"
      ],
      "metadata": {
        "id": "7CH_zKlCZ-oe"
      },
      "execution_count": null,
      "outputs": []
    },
    {
      "cell_type": "markdown",
      "source": [
        "Define MCD layer"
      ],
      "metadata": {
        "id": "XaopgRkWW1sP"
      }
    },
    {
      "cell_type": "code",
      "source": [
        "class MonteCarloDropout(tf.keras.layers.Dropout):\n",
        "     def call(self, inputs):\n",
        "         return super().call(inputs, training=True)"
      ],
      "metadata": {
        "id": "UeBngvEAW2Ev"
      },
      "execution_count": null,
      "outputs": []
    },
    {
      "cell_type": "markdown",
      "source": [
        "Create model"
      ],
      "metadata": {
        "collapsed": false,
        "pycharm": {
          "name": "#%% md\n"
        },
        "id": "BBxP_9PqDc3T"
      }
    },
    {
      "cell_type": "code",
      "execution_count": null,
      "outputs": [],
      "source": [
        "model = tf.keras.models.Sequential([\n",
        "    tf.keras.layers.Conv2D(6, kernel_size=5, strides=1, padding = 'same', input_shape=(150, 150, 1)),\n",
        "    tf.keras.layers.ReLU(),\n",
        "    tf.keras.layers.MaxPool2D(pool_size=(2, 2)),\n",
        "    MonteCarloDropout(0.1),\n",
        "    tf.keras.layers.Conv2D(16, kernel_size=5, strides=1, padding = 'same'),\n",
        "    tf.keras.layers.ReLU(),\n",
        "    tf.keras.layers.MaxPool2D(pool_size=(2, 2)),\n",
        "    MonteCarloDropout(0.1),\n",
        "    tf.keras.layers.Conv2D(26, kernel_size=5, strides=1, padding = 'same'),\n",
        "    tf.keras.layers.ReLU(),\n",
        "    tf.keras.layers.MaxPool2D(pool_size=(2, 2)),\n",
        "    MonteCarloDropout(0.1),\n",
        "    tf.keras.layers.Conv2D(32, kernel_size=5, strides=1, padding = 'same'),\n",
        "    tf.keras.layers.ReLU(),\n",
        "    tf.keras.layers.MaxPool2D(pool_size=(2, 2)),\n",
        "    tf.keras.layers.Flatten(),\n",
        "    MonteCarloDropout(0.1),\n",
        "    tf.keras.layers.Dense(120),\n",
        "    tf.keras.layers.ReLU(),\n",
        "    MonteCarloDropout(0.1),\n",
        "    tf.keras.layers.Dense(84),\n",
        "    tf.keras.layers.ReLU(),\n",
        "    MonteCarloDropout(0.1),\n",
        "    tf.keras.layers.Dense(2, activation='softmax'),\n",
        "    ])"
      ],
      "metadata": {
        "pycharm": {
          "name": "#%%\n"
        },
        "id": "Njap0BGqDc3T"
      }
    },
    {
      "cell_type": "code",
      "source": [
        "#model.summary()"
      ],
      "metadata": {
        "id": "r47JZ-5iDXuf"
      },
      "execution_count": null,
      "outputs": []
    },
    {
      "cell_type": "markdown",
      "source": [
        "Loss function"
      ],
      "metadata": {
        "collapsed": false,
        "pycharm": {
          "name": "#%% md\n"
        },
        "id": "yVQ_MlmaDc3U"
      }
    },
    {
      "cell_type": "code",
      "execution_count": null,
      "outputs": [],
      "source": [
        "loss=tf.keras.losses.SparseCategoricalCrossentropy()"
      ],
      "metadata": {
        "pycharm": {
          "name": "#%%\n"
        },
        "id": "6yASCNz9Dc3V"
      }
    },
    {
      "cell_type": "markdown",
      "source": [
        "Optimiser and learning rate scheduler"
      ],
      "metadata": {
        "collapsed": false,
        "pycharm": {
          "name": "#%% md\n"
        },
        "id": "o05piryBDc3V"
      }
    },
    {
      "cell_type": "code",
      "execution_count": null,
      "outputs": [],
      "source": [
        "opt = tf.keras.optimizers.Adam(learning_rate=5e-5)\n",
        "reduce_lr = tf.keras.callbacks.ReduceLROnPlateau(monitor='val_loss', factor=0.95, patience=3)"
      ],
      "metadata": {
        "pycharm": {
          "name": "#%%\n"
        },
        "id": "tRKUeZ8MDc3W"
      }
    },
    {
      "cell_type": "markdown",
      "source": [
        "Compile model"
      ],
      "metadata": {
        "collapsed": false,
        "pycharm": {
          "name": "#%% md\n"
        },
        "id": "poiLvWqlDc3W"
      }
    },
    {
      "cell_type": "code",
      "execution_count": null,
      "outputs": [],
      "source": [
        "model.compile(optimizer=opt,\n",
        "              loss=loss,\n",
        "              metrics='accuracy')\n"
      ],
      "metadata": {
        "pycharm": {
          "name": "#%%\n"
        },
        "id": "7fT8Wre_Dc3W"
      }
    },
    {
      "cell_type": "markdown",
      "source": [
        "Save best weights"
      ],
      "metadata": {
        "collapsed": false,
        "pycharm": {
          "name": "#%% md\n"
        },
        "id": "b0qDJiw4Dc3X"
      }
    },
    {
      "cell_type": "code",
      "execution_count": null,
      "outputs": [],
      "source": [
        "checkpoint_path = \"mirabest/cp.ckpt\"\n",
        "checkpoint_dir = os.path.dirname(checkpoint_path)\n",
        "\n",
        "cp_callback = tf.keras.callbacks.ModelCheckpoint(filepath=checkpoint_path,\n",
        "                                                  save_weights_only=False,\n",
        "                                                  monitor='val_loss',\n",
        "                                                  mode='min',\n",
        "                                                  verbose=1,\n",
        "                                                  save_best_only=True)"
      ],
      "metadata": {
        "pycharm": {
          "name": "#%%\n"
        },
        "id": "u_ycRk-vDc3X"
      }
    },
    {
      "cell_type": "markdown",
      "source": [
        "Train model"
      ],
      "metadata": {
        "collapsed": false,
        "pycharm": {
          "name": "#%% md\n"
        },
        "id": "JzEdGL4YDc3X"
      }
    },
    {
      "cell_type": "code",
      "execution_count": null,
      "outputs": [
        {
          "output_type": "stream",
          "name": "stdout",
          "text": [
            "Epoch 1/100\n",
            "12/12 [==============================] - ETA: 0s - loss: 3.6766 - accuracy: 0.5026\n",
            "Epoch 1: val_loss improved from inf to 2.53051, saving model to mirabest/cp.ckpt\n",
            "INFO:tensorflow:Assets written to: mirabest/cp.ckpt/assets\n"
          ]
        },
        {
          "output_type": "stream",
          "name": "stderr",
          "text": [
            "INFO:tensorflow:Assets written to: mirabest/cp.ckpt/assets\n"
          ]
        },
        {
          "output_type": "stream",
          "name": "stdout",
          "text": [
            "\b\b\b\b\b\b\b\b\b\b\b\b\b\b\b\b\b\b\b\b\b\b\b\b\b\b\b\b\b\b\b\b\b\b\b\b\b\b\b\b\b\b\b\b\b\b\b\b\b\b\b\b\b\b\b\b\b\b\b\b\b\b\b\b\b\b\b\b\b\b\b\b\b\b\b\b\b\b\b\b\b\b\r12/12 [==============================] - 6s 229ms/step - loss: 3.6766 - accuracy: 0.5026 - val_loss: 2.5305 - val_accuracy: 0.5068 - lr: 5.0000e-05\n",
            "Epoch 2/100\n",
            " 9/12 [=====================>........] - ETA: 0s - loss: 2.3120 - accuracy: 0.5000\n",
            "Epoch 2: val_loss improved from 2.53051 to 1.32829, saving model to mirabest/cp.ckpt\n",
            "INFO:tensorflow:Assets written to: mirabest/cp.ckpt/assets\n"
          ]
        },
        {
          "output_type": "stream",
          "name": "stderr",
          "text": [
            "INFO:tensorflow:Assets written to: mirabest/cp.ckpt/assets\n"
          ]
        },
        {
          "output_type": "stream",
          "name": "stdout",
          "text": [
            "\b\b\b\b\b\b\b\b\b\b\b\b\b\b\b\b\b\b\b\b\b\b\b\b\b\b\b\b\b\b\b\b\b\b\b\b\b\b\b\b\b\b\b\b\b\b\b\b\b\b\b\b\b\b\b\b\b\b\b\b\b\b\b\b\b\b\b\b\b\b\b\b\b\b\b\b\b\b\b\b\b\b\r12/12 [==============================] - 9s 816ms/step - loss: 2.1908 - accuracy: 0.5026 - val_loss: 1.3283 - val_accuracy: 0.5548 - lr: 5.0000e-05\n",
            "Epoch 3/100\n",
            "11/12 [==========================>...] - ETA: 0s - loss: 1.4177 - accuracy: 0.5545\n",
            "Epoch 3: val_loss did not improve from 1.32829\n",
            "12/12 [==============================] - 0s 32ms/step - loss: 1.3889 - accuracy: 0.5557 - val_loss: 1.4026 - val_accuracy: 0.4932 - lr: 5.0000e-05\n",
            "Epoch 4/100\n",
            " 9/12 [=====================>........] - ETA: 0s - loss: 1.1721 - accuracy: 0.5600\n",
            "Epoch 4: val_loss improved from 1.32829 to 1.12379, saving model to mirabest/cp.ckpt\n",
            "INFO:tensorflow:Assets written to: mirabest/cp.ckpt/assets\n"
          ]
        },
        {
          "output_type": "stream",
          "name": "stderr",
          "text": [
            "INFO:tensorflow:Assets written to: mirabest/cp.ckpt/assets\n"
          ]
        },
        {
          "output_type": "stream",
          "name": "stdout",
          "text": [
            "\b\b\b\b\b\b\b\b\b\b\b\b\b\b\b\b\b\b\b\b\b\b\b\b\b\b\b\b\b\b\b\b\b\b\b\b\b\b\b\b\b\b\b\b\b\b\b\b\b\b\b\b\b\b\b\b\b\b\b\b\b\b\b\b\b\b\b\b\b\b\b\b\b\b\b\b\b\b\b\b\b\b\r12/12 [==============================] - 2s 163ms/step - loss: 1.1664 - accuracy: 0.5660 - val_loss: 1.1238 - val_accuracy: 0.6096 - lr: 5.0000e-05\n",
            "Epoch 5/100\n",
            " 9/12 [=====================>........] - ETA: 0s - loss: 1.0631 - accuracy: 0.5711\n",
            "Epoch 5: val_loss did not improve from 1.12379\n",
            "12/12 [==============================] - 0s 19ms/step - loss: 1.0147 - accuracy: 0.5780 - val_loss: 1.2088 - val_accuracy: 0.5274 - lr: 5.0000e-05\n",
            "Epoch 6/100\n",
            " 9/12 [=====================>........] - ETA: 0s - loss: 0.9954 - accuracy: 0.6022\n",
            "Epoch 6: val_loss improved from 1.12379 to 0.91587, saving model to mirabest/cp.ckpt\n",
            "INFO:tensorflow:Assets written to: mirabest/cp.ckpt/assets\n"
          ]
        },
        {
          "output_type": "stream",
          "name": "stderr",
          "text": [
            "INFO:tensorflow:Assets written to: mirabest/cp.ckpt/assets\n"
          ]
        },
        {
          "output_type": "stream",
          "name": "stdout",
          "text": [
            "\b\b\b\b\b\b\b\b\b\b\b\b\b\b\b\b\b\b\b\b\b\b\b\b\b\b\b\b\b\b\b\b\b\b\b\b\b\b\b\b\b\b\b\b\b\b\b\b\b\b\b\b\b\b\b\b\b\b\b\b\b\b\b\b\b\b\b\b\b\b\b\b\b\b\b\b\b\b\b\b\b\b\r12/12 [==============================] - 2s 183ms/step - loss: 0.9864 - accuracy: 0.6003 - val_loss: 0.9159 - val_accuracy: 0.5959 - lr: 5.0000e-05\n",
            "Epoch 7/100\n",
            "10/12 [========================>.....] - ETA: 0s - loss: 0.8959 - accuracy: 0.6060\n",
            "Epoch 7: val_loss did not improve from 0.91587\n",
            "12/12 [==============================] - 0s 28ms/step - loss: 0.9059 - accuracy: 0.6055 - val_loss: 1.0118 - val_accuracy: 0.5822 - lr: 5.0000e-05\n",
            "Epoch 8/100\n",
            "12/12 [==============================] - ETA: 0s - loss: 0.9063 - accuracy: 0.5969\n",
            "Epoch 8: val_loss did not improve from 0.91587\n",
            "12/12 [==============================] - 0s 21ms/step - loss: 0.9063 - accuracy: 0.5969 - val_loss: 0.9889 - val_accuracy: 0.5342 - lr: 5.0000e-05\n",
            "Epoch 9/100\n",
            " 9/12 [=====================>........] - ETA: 0s - loss: 0.8614 - accuracy: 0.6378\n",
            "Epoch 9: val_loss improved from 0.91587 to 0.83944, saving model to mirabest/cp.ckpt\n",
            "INFO:tensorflow:Assets written to: mirabest/cp.ckpt/assets\n"
          ]
        },
        {
          "output_type": "stream",
          "name": "stderr",
          "text": [
            "INFO:tensorflow:Assets written to: mirabest/cp.ckpt/assets\n"
          ]
        },
        {
          "output_type": "stream",
          "name": "stdout",
          "text": [
            "\b\b\b\b\b\b\b\b\b\b\b\b\b\b\b\b\b\b\b\b\b\b\b\b\b\b\b\b\b\b\b\b\b\b\b\b\b\b\b\b\b\b\b\b\b\b\b\b\b\b\b\b\b\b\b\b\b\b\b\b\b\b\b\b\b\b\b\b\b\b\b\b\b\b\b\b\b\b\b\b\b\b\r12/12 [==============================] - 2s 185ms/step - loss: 0.8484 - accuracy: 0.6278 - val_loss: 0.8394 - val_accuracy: 0.5959 - lr: 5.0000e-05\n",
            "Epoch 10/100\n",
            "10/12 [========================>.....] - ETA: 0s - loss: 0.7800 - accuracy: 0.6340\n",
            "Epoch 10: val_loss did not improve from 0.83944\n",
            "12/12 [==============================] - 0s 27ms/step - loss: 0.7563 - accuracy: 0.6535 - val_loss: 0.9678 - val_accuracy: 0.5959 - lr: 5.0000e-05\n",
            "Epoch 11/100\n",
            " 9/12 [=====================>........] - ETA: 0s - loss: 0.8285 - accuracy: 0.6267\n",
            "Epoch 11: val_loss improved from 0.83944 to 0.81025, saving model to mirabest/cp.ckpt\n",
            "INFO:tensorflow:Assets written to: mirabest/cp.ckpt/assets\n"
          ]
        },
        {
          "output_type": "stream",
          "name": "stderr",
          "text": [
            "INFO:tensorflow:Assets written to: mirabest/cp.ckpt/assets\n"
          ]
        },
        {
          "output_type": "stream",
          "name": "stdout",
          "text": [
            "\b\b\b\b\b\b\b\b\b\b\b\b\b\b\b\b\b\b\b\b\b\b\b\b\b\b\b\b\b\b\b\b\b\b\b\b\b\b\b\b\b\b\b\b\b\b\b\b\b\b\b\b\b\b\b\b\b\b\b\b\b\b\b\b\b\b\b\b\b\b\b\b\b\b\b\b\b\b\b\b\b\b\r12/12 [==============================] - 2s 162ms/step - loss: 0.8230 - accuracy: 0.6192 - val_loss: 0.8103 - val_accuracy: 0.5822 - lr: 5.0000e-05\n",
            "Epoch 12/100\n",
            " 9/12 [=====================>........] - ETA: 0s - loss: 0.7877 - accuracy: 0.6111\n",
            "Epoch 12: val_loss did not improve from 0.81025\n",
            "12/12 [==============================] - 0s 19ms/step - loss: 0.7664 - accuracy: 0.6244 - val_loss: 0.8866 - val_accuracy: 0.5753 - lr: 5.0000e-05\n",
            "Epoch 13/100\n",
            " 9/12 [=====================>........] - ETA: 0s - loss: 0.7217 - accuracy: 0.6289\n",
            "Epoch 13: val_loss improved from 0.81025 to 0.80804, saving model to mirabest/cp.ckpt\n",
            "INFO:tensorflow:Assets written to: mirabest/cp.ckpt/assets\n"
          ]
        },
        {
          "output_type": "stream",
          "name": "stderr",
          "text": [
            "INFO:tensorflow:Assets written to: mirabest/cp.ckpt/assets\n"
          ]
        },
        {
          "output_type": "stream",
          "name": "stdout",
          "text": [
            "\b\b\b\b\b\b\b\b\b\b\b\b\b\b\b\b\b\b\b\b\b\b\b\b\b\b\b\b\b\b\b\b\b\b\b\b\b\b\b\b\b\b\b\b\b\b\b\b\b\b\b\b\b\b\b\b\b\b\b\b\b\b\b\b\b\b\b\b\b\b\b\b\b\b\b\b\b\b\b\b\b\b\r12/12 [==============================] - 2s 185ms/step - loss: 0.7044 - accuracy: 0.6364 - val_loss: 0.8080 - val_accuracy: 0.5822 - lr: 5.0000e-05\n",
            "Epoch 14/100\n",
            "10/12 [========================>.....] - ETA: 0s - loss: 0.6433 - accuracy: 0.6660\n",
            "Epoch 14: val_loss did not improve from 0.80804\n",
            "12/12 [==============================] - 0s 28ms/step - loss: 0.6462 - accuracy: 0.6621 - val_loss: 0.8220 - val_accuracy: 0.6233 - lr: 5.0000e-05\n",
            "Epoch 15/100\n",
            " 9/12 [=====================>........] - ETA: 0s - loss: 0.6950 - accuracy: 0.6400\n",
            "Epoch 15: val_loss did not improve from 0.80804\n",
            "12/12 [==============================] - 0s 20ms/step - loss: 0.6992 - accuracy: 0.6518 - val_loss: 0.8551 - val_accuracy: 0.6233 - lr: 5.0000e-05\n",
            "Epoch 16/100\n",
            " 9/12 [=====================>........] - ETA: 0s - loss: 0.6861 - accuracy: 0.6489\n",
            "Epoch 16: val_loss improved from 0.80804 to 0.64463, saving model to mirabest/cp.ckpt\n",
            "INFO:tensorflow:Assets written to: mirabest/cp.ckpt/assets\n"
          ]
        },
        {
          "output_type": "stream",
          "name": "stderr",
          "text": [
            "INFO:tensorflow:Assets written to: mirabest/cp.ckpt/assets\n"
          ]
        },
        {
          "output_type": "stream",
          "name": "stdout",
          "text": [
            "\b\b\b\b\b\b\b\b\b\b\b\b\b\b\b\b\b\b\b\b\b\b\b\b\b\b\b\b\b\b\b\b\b\b\b\b\b\b\b\b\b\b\b\b\b\b\b\b\b\b\b\b\b\b\b\b\b\b\b\b\b\b\b\b\b\b\b\b\b\b\b\b\b\b\b\b\b\b\b\b\b\b\r12/12 [==============================] - 2s 163ms/step - loss: 0.6782 - accuracy: 0.6587 - val_loss: 0.6446 - val_accuracy: 0.6712 - lr: 5.0000e-05\n",
            "Epoch 17/100\n",
            " 9/12 [=====================>........] - ETA: 0s - loss: 0.6708 - accuracy: 0.6533\n",
            "Epoch 17: val_loss did not improve from 0.64463\n",
            "12/12 [==============================] - 0s 19ms/step - loss: 0.6566 - accuracy: 0.6638 - val_loss: 0.7400 - val_accuracy: 0.6027 - lr: 5.0000e-05\n",
            "Epoch 18/100\n",
            "12/12 [==============================] - ETA: 0s - loss: 0.6224 - accuracy: 0.6981\n",
            "Epoch 18: val_loss did not improve from 0.64463\n",
            "12/12 [==============================] - 0s 20ms/step - loss: 0.6224 - accuracy: 0.6981 - val_loss: 0.7904 - val_accuracy: 0.5890 - lr: 5.0000e-05\n",
            "Epoch 19/100\n",
            " 9/12 [=====================>........] - ETA: 0s - loss: 0.6081 - accuracy: 0.6667\n",
            "Epoch 19: val_loss did not improve from 0.64463\n",
            "12/12 [==============================] - 0s 19ms/step - loss: 0.5975 - accuracy: 0.6741 - val_loss: 0.8020 - val_accuracy: 0.6164 - lr: 5.0000e-05\n",
            "Epoch 20/100\n",
            " 9/12 [=====================>........] - ETA: 0s - loss: 0.6149 - accuracy: 0.6711\n",
            "Epoch 20: val_loss did not improve from 0.64463\n",
            "12/12 [==============================] - 0s 19ms/step - loss: 0.6053 - accuracy: 0.6844 - val_loss: 0.8746 - val_accuracy: 0.6027 - lr: 4.7500e-05\n",
            "Epoch 21/100\n",
            " 9/12 [=====================>........] - ETA: 0s - loss: 0.5931 - accuracy: 0.7356\n",
            "Epoch 21: val_loss did not improve from 0.64463\n",
            "12/12 [==============================] - 0s 20ms/step - loss: 0.5916 - accuracy: 0.7307 - val_loss: 0.7697 - val_accuracy: 0.6712 - lr: 4.7500e-05\n",
            "Epoch 22/100\n",
            " 9/12 [=====================>........] - ETA: 0s - loss: 0.6014 - accuracy: 0.6978\n",
            "Epoch 22: val_loss did not improve from 0.64463\n",
            "12/12 [==============================] - 0s 19ms/step - loss: 0.5994 - accuracy: 0.7050 - val_loss: 0.7653 - val_accuracy: 0.5411 - lr: 4.7500e-05\n",
            "Epoch 23/100\n",
            " 9/12 [=====================>........] - ETA: 0s - loss: 0.5836 - accuracy: 0.7000\n",
            "Epoch 23: val_loss did not improve from 0.64463\n",
            "12/12 [==============================] - 0s 20ms/step - loss: 0.5630 - accuracy: 0.7067 - val_loss: 0.7525 - val_accuracy: 0.6370 - lr: 4.5125e-05\n",
            "Epoch 24/100\n",
            " 9/12 [=====================>........] - ETA: 0s - loss: 0.5926 - accuracy: 0.6711\n",
            "Epoch 24: val_loss did not improve from 0.64463\n",
            "12/12 [==============================] - 0s 19ms/step - loss: 0.5748 - accuracy: 0.6964 - val_loss: 0.6697 - val_accuracy: 0.6507 - lr: 4.5125e-05\n",
            "Epoch 25/100\n",
            " 9/12 [=====================>........] - ETA: 0s - loss: 0.5315 - accuracy: 0.7356\n",
            "Epoch 25: val_loss did not improve from 0.64463\n",
            "12/12 [==============================] - 0s 19ms/step - loss: 0.5626 - accuracy: 0.7204 - val_loss: 0.6553 - val_accuracy: 0.6164 - lr: 4.5125e-05\n",
            "Epoch 26/100\n",
            " 9/12 [=====================>........] - ETA: 0s - loss: 0.5414 - accuracy: 0.7333\n",
            "Epoch 26: val_loss did not improve from 0.64463\n",
            "12/12 [==============================] - 0s 20ms/step - loss: 0.5417 - accuracy: 0.7273 - val_loss: 0.8357 - val_accuracy: 0.6096 - lr: 4.2869e-05\n",
            "Epoch 27/100\n",
            " 9/12 [=====================>........] - ETA: 0s - loss: 0.5649 - accuracy: 0.7044\n",
            "Epoch 27: val_loss did not improve from 0.64463\n",
            "12/12 [==============================] - 0s 19ms/step - loss: 0.5628 - accuracy: 0.6998 - val_loss: 0.6585 - val_accuracy: 0.6781 - lr: 4.2869e-05\n",
            "Epoch 28/100\n",
            " 9/12 [=====================>........] - ETA: 0s - loss: 0.6526 - accuracy: 0.6800\n",
            "Epoch 28: val_loss did not improve from 0.64463\n",
            "12/12 [==============================] - 0s 20ms/step - loss: 0.6187 - accuracy: 0.6964 - val_loss: 0.6783 - val_accuracy: 0.6233 - lr: 4.2869e-05\n",
            "Epoch 29/100\n",
            "12/12 [==============================] - ETA: 0s - loss: 0.5658 - accuracy: 0.7084\n",
            "Epoch 29: val_loss did not improve from 0.64463\n",
            "12/12 [==============================] - 0s 20ms/step - loss: 0.5658 - accuracy: 0.7084 - val_loss: 0.7053 - val_accuracy: 0.6507 - lr: 4.0725e-05\n",
            "Epoch 30/100\n",
            " 9/12 [=====================>........] - ETA: 0s - loss: 0.5738 - accuracy: 0.7022\n",
            "Epoch 30: val_loss improved from 0.64463 to 0.62655, saving model to mirabest/cp.ckpt\n",
            "INFO:tensorflow:Assets written to: mirabest/cp.ckpt/assets\n"
          ]
        },
        {
          "output_type": "stream",
          "name": "stderr",
          "text": [
            "INFO:tensorflow:Assets written to: mirabest/cp.ckpt/assets\n"
          ]
        },
        {
          "output_type": "stream",
          "name": "stdout",
          "text": [
            "\b\b\b\b\b\b\b\b\b\b\b\b\b\b\b\b\b\b\b\b\b\b\b\b\b\b\b\b\b\b\b\b\b\b\b\b\b\b\b\b\b\b\b\b\b\b\b\b\b\b\b\b\b\b\b\b\b\b\b\b\b\b\b\b\b\b\b\b\b\b\b\b\b\b\b\b\b\b\b\b\b\b\r12/12 [==============================] - 6s 583ms/step - loss: 0.5598 - accuracy: 0.7187 - val_loss: 0.6266 - val_accuracy: 0.6438 - lr: 4.0725e-05\n",
            "Epoch 31/100\n",
            "10/12 [========================>.....] - ETA: 0s - loss: 0.5860 - accuracy: 0.7200\n",
            "Epoch 31: val_loss did not improve from 0.62655\n",
            "12/12 [==============================] - 0s 28ms/step - loss: 0.5712 - accuracy: 0.7290 - val_loss: 0.7515 - val_accuracy: 0.6096 - lr: 4.0725e-05\n",
            "Epoch 32/100\n",
            " 9/12 [=====================>........] - ETA: 0s - loss: 0.5619 - accuracy: 0.7222\n",
            "Epoch 32: val_loss improved from 0.62655 to 0.55876, saving model to mirabest/cp.ckpt\n",
            "INFO:tensorflow:Assets written to: mirabest/cp.ckpt/assets\n"
          ]
        },
        {
          "output_type": "stream",
          "name": "stderr",
          "text": [
            "INFO:tensorflow:Assets written to: mirabest/cp.ckpt/assets\n"
          ]
        },
        {
          "output_type": "stream",
          "name": "stdout",
          "text": [
            "\b\b\b\b\b\b\b\b\b\b\b\b\b\b\b\b\b\b\b\b\b\b\b\b\b\b\b\b\b\b\b\b\b\b\b\b\b\b\b\b\b\b\b\b\b\b\b\b\b\b\b\b\b\b\b\b\b\b\b\b\b\b\b\b\b\b\b\b\b\b\b\b\b\b\b\b\b\b\b\b\b\b\r12/12 [==============================] - 2s 183ms/step - loss: 0.5544 - accuracy: 0.7273 - val_loss: 0.5588 - val_accuracy: 0.7055 - lr: 4.0725e-05\n",
            "Epoch 33/100\n",
            "10/12 [========================>.....] - ETA: 0s - loss: 0.5296 - accuracy: 0.7100\n",
            "Epoch 33: val_loss did not improve from 0.55876\n",
            "12/12 [==============================] - 0s 28ms/step - loss: 0.5229 - accuracy: 0.7118 - val_loss: 0.6299 - val_accuracy: 0.6849 - lr: 4.0725e-05\n",
            "Epoch 34/100\n",
            " 9/12 [=====================>........] - ETA: 0s - loss: 0.4804 - accuracy: 0.7489\n",
            "Epoch 34: val_loss did not improve from 0.55876\n",
            "12/12 [==============================] - 0s 20ms/step - loss: 0.5114 - accuracy: 0.7376 - val_loss: 0.6699 - val_accuracy: 0.6575 - lr: 4.0725e-05\n",
            "Epoch 35/100\n",
            " 9/12 [=====================>........] - ETA: 0s - loss: 0.5118 - accuracy: 0.7556\n",
            "Epoch 35: val_loss did not improve from 0.55876\n",
            "12/12 [==============================] - 0s 20ms/step - loss: 0.5194 - accuracy: 0.7513 - val_loss: 0.6825 - val_accuracy: 0.6301 - lr: 4.0725e-05\n",
            "Epoch 36/100\n",
            " 9/12 [=====================>........] - ETA: 0s - loss: 0.5117 - accuracy: 0.7622\n",
            "Epoch 36: val_loss did not improve from 0.55876\n",
            "12/12 [==============================] - 0s 19ms/step - loss: 0.5138 - accuracy: 0.7650 - val_loss: 0.5740 - val_accuracy: 0.7055 - lr: 3.8689e-05\n",
            "Epoch 37/100\n",
            " 9/12 [=====================>........] - ETA: 0s - loss: 0.5043 - accuracy: 0.7644\n",
            "Epoch 37: val_loss did not improve from 0.55876\n",
            "12/12 [==============================] - 0s 19ms/step - loss: 0.4919 - accuracy: 0.7702 - val_loss: 0.6977 - val_accuracy: 0.6712 - lr: 3.8689e-05\n",
            "Epoch 38/100\n",
            " 9/12 [=====================>........] - ETA: 0s - loss: 0.5461 - accuracy: 0.7422\n",
            "Epoch 38: val_loss did not improve from 0.55876\n",
            "12/12 [==============================] - 0s 19ms/step - loss: 0.5505 - accuracy: 0.7358 - val_loss: 0.6887 - val_accuracy: 0.6438 - lr: 3.8689e-05\n",
            "Epoch 39/100\n",
            " 9/12 [=====================>........] - ETA: 0s - loss: 0.5189 - accuracy: 0.7467\n",
            "Epoch 39: val_loss did not improve from 0.55876\n",
            "12/12 [==============================] - 0s 20ms/step - loss: 0.5052 - accuracy: 0.7547 - val_loss: 0.6287 - val_accuracy: 0.6781 - lr: 3.6755e-05\n",
            "Epoch 40/100\n",
            " 9/12 [=====================>........] - ETA: 0s - loss: 0.4781 - accuracy: 0.7578\n",
            "Epoch 40: val_loss improved from 0.55876 to 0.54277, saving model to mirabest/cp.ckpt\n",
            "INFO:tensorflow:Assets written to: mirabest/cp.ckpt/assets\n"
          ]
        },
        {
          "output_type": "stream",
          "name": "stderr",
          "text": [
            "INFO:tensorflow:Assets written to: mirabest/cp.ckpt/assets\n"
          ]
        },
        {
          "output_type": "stream",
          "name": "stdout",
          "text": [
            "\b\b\b\b\b\b\b\b\b\b\b\b\b\b\b\b\b\b\b\b\b\b\b\b\b\b\b\b\b\b\b\b\b\b\b\b\b\b\b\b\b\b\b\b\b\b\b\b\b\b\b\b\b\b\b\b\b\b\b\b\b\b\b\b\b\b\b\b\b\b\b\b\b\b\b\b\b\b\b\b\b\b\r12/12 [==============================] - 2s 218ms/step - loss: 0.4902 - accuracy: 0.7547 - val_loss: 0.5428 - val_accuracy: 0.7397 - lr: 3.6755e-05\n",
            "Epoch 41/100\n",
            "10/12 [========================>.....] - ETA: 0s - loss: 0.5063 - accuracy: 0.7540\n",
            "Epoch 41: val_loss did not improve from 0.54277\n",
            "12/12 [==============================] - 0s 27ms/step - loss: 0.5018 - accuracy: 0.7564 - val_loss: 0.6660 - val_accuracy: 0.6986 - lr: 3.6755e-05\n",
            "Epoch 42/100\n",
            "12/12 [==============================] - ETA: 0s - loss: 0.4609 - accuracy: 0.7599\n",
            "Epoch 42: val_loss did not improve from 0.54277\n",
            "12/12 [==============================] - 0s 21ms/step - loss: 0.4609 - accuracy: 0.7599 - val_loss: 0.7009 - val_accuracy: 0.6712 - lr: 3.6755e-05\n",
            "Epoch 43/100\n",
            " 9/12 [=====================>........] - ETA: 0s - loss: 0.4562 - accuracy: 0.7733\n",
            "Epoch 43: val_loss did not improve from 0.54277\n",
            "12/12 [==============================] - 0s 20ms/step - loss: 0.4585 - accuracy: 0.7702 - val_loss: 0.6711 - val_accuracy: 0.6438 - lr: 3.6755e-05\n",
            "Epoch 44/100\n",
            " 9/12 [=====================>........] - ETA: 0s - loss: 0.4654 - accuracy: 0.7800\n",
            "Epoch 44: val_loss did not improve from 0.54277\n",
            "12/12 [==============================] - 0s 20ms/step - loss: 0.4702 - accuracy: 0.7804 - val_loss: 0.6375 - val_accuracy: 0.6575 - lr: 3.4917e-05\n",
            "Epoch 45/100\n",
            " 9/12 [=====================>........] - ETA: 0s - loss: 0.4764 - accuracy: 0.7733\n",
            "Epoch 45: val_loss did not improve from 0.54277\n",
            "12/12 [==============================] - 0s 20ms/step - loss: 0.4753 - accuracy: 0.7633 - val_loss: 0.6596 - val_accuracy: 0.7055 - lr: 3.4917e-05\n",
            "Epoch 46/100\n",
            " 9/12 [=====================>........] - ETA: 0s - loss: 0.4821 - accuracy: 0.7756\n",
            "Epoch 46: val_loss did not improve from 0.54277\n",
            "12/12 [==============================] - 0s 20ms/step - loss: 0.4579 - accuracy: 0.7925 - val_loss: 0.6503 - val_accuracy: 0.6507 - lr: 3.4917e-05\n",
            "Epoch 47/100\n",
            " 9/12 [=====================>........] - ETA: 0s - loss: 0.4520 - accuracy: 0.7933\n",
            "Epoch 47: val_loss did not improve from 0.54277\n",
            "12/12 [==============================] - 0s 19ms/step - loss: 0.4677 - accuracy: 0.7770 - val_loss: 0.5967 - val_accuracy: 0.7055 - lr: 3.3171e-05\n",
            "Epoch 48/100\n",
            " 9/12 [=====================>........] - ETA: 0s - loss: 0.4971 - accuracy: 0.7533\n",
            "Epoch 48: val_loss did not improve from 0.54277\n",
            "12/12 [==============================] - 0s 19ms/step - loss: 0.4906 - accuracy: 0.7581 - val_loss: 0.5531 - val_accuracy: 0.7466 - lr: 3.3171e-05\n",
            "Epoch 49/100\n",
            " 9/12 [=====================>........] - ETA: 0s - loss: 0.4627 - accuracy: 0.7822\n",
            "Epoch 49: val_loss did not improve from 0.54277\n",
            "12/12 [==============================] - 0s 19ms/step - loss: 0.4601 - accuracy: 0.7822 - val_loss: 0.6234 - val_accuracy: 0.7123 - lr: 3.3171e-05\n",
            "Epoch 50/100\n",
            "12/12 [==============================] - ETA: 0s - loss: 0.4885 - accuracy: 0.7702\n",
            "Epoch 50: val_loss did not improve from 0.54277\n",
            "12/12 [==============================] - 0s 25ms/step - loss: 0.4885 - accuracy: 0.7702 - val_loss: 0.6109 - val_accuracy: 0.7055 - lr: 3.1512e-05\n",
            "Epoch 51/100\n",
            " 9/12 [=====================>........] - ETA: 0s - loss: 0.4844 - accuracy: 0.7644\n",
            "Epoch 51: val_loss did not improve from 0.54277\n",
            "12/12 [==============================] - 0s 19ms/step - loss: 0.4726 - accuracy: 0.7719 - val_loss: 0.6208 - val_accuracy: 0.6644 - lr: 3.1512e-05\n",
            "Epoch 52/100\n",
            " 9/12 [=====================>........] - ETA: 0s - loss: 0.4583 - accuracy: 0.7911\n",
            "Epoch 52: val_loss did not improve from 0.54277\n",
            "12/12 [==============================] - 0s 20ms/step - loss: 0.4545 - accuracy: 0.7907 - val_loss: 0.6051 - val_accuracy: 0.6918 - lr: 3.1512e-05\n",
            "Epoch 53/100\n",
            " 9/12 [=====================>........] - ETA: 0s - loss: 0.4447 - accuracy: 0.7867\n",
            "Epoch 53: val_loss did not improve from 0.54277\n",
            "12/12 [==============================] - 0s 23ms/step - loss: 0.4354 - accuracy: 0.7890 - val_loss: 0.6705 - val_accuracy: 0.6644 - lr: 2.9937e-05\n",
            "Epoch 54/100\n",
            " 9/12 [=====================>........] - ETA: 0s - loss: 0.4675 - accuracy: 0.7733\n",
            "Epoch 54: val_loss did not improve from 0.54277\n",
            "12/12 [==============================] - 0s 20ms/step - loss: 0.4647 - accuracy: 0.7770 - val_loss: 0.6217 - val_accuracy: 0.7055 - lr: 2.9937e-05\n",
            "Epoch 55/100\n",
            " 9/12 [=====================>........] - ETA: 0s - loss: 0.4332 - accuracy: 0.7889\n",
            "Epoch 55: val_loss did not improve from 0.54277\n",
            "12/12 [==============================] - 0s 20ms/step - loss: 0.4328 - accuracy: 0.7959 - val_loss: 0.6694 - val_accuracy: 0.6644 - lr: 2.9937e-05\n",
            "Epoch 56/100\n",
            " 9/12 [=====================>........] - ETA: 0s - loss: 0.4488 - accuracy: 0.7778\n",
            "Epoch 56: val_loss did not improve from 0.54277\n",
            "12/12 [==============================] - 0s 20ms/step - loss: 0.4701 - accuracy: 0.7650 - val_loss: 0.6351 - val_accuracy: 0.7055 - lr: 2.8440e-05\n",
            "Epoch 57/100\n",
            " 9/12 [=====================>........] - ETA: 0s - loss: 0.4881 - accuracy: 0.7689\n",
            "Epoch 57: val_loss did not improve from 0.54277\n",
            "12/12 [==============================] - 0s 20ms/step - loss: 0.4801 - accuracy: 0.7787 - val_loss: 0.5698 - val_accuracy: 0.7329 - lr: 2.8440e-05\n",
            "Epoch 58/100\n",
            " 9/12 [=====================>........] - ETA: 0s - loss: 0.4476 - accuracy: 0.7889\n",
            "Epoch 58: val_loss did not improve from 0.54277\n",
            "12/12 [==============================] - 0s 20ms/step - loss: 0.4438 - accuracy: 0.7873 - val_loss: 0.6328 - val_accuracy: 0.6438 - lr: 2.8440e-05\n",
            "Epoch 59/100\n",
            " 9/12 [=====================>........] - ETA: 0s - loss: 0.4752 - accuracy: 0.7756\n",
            "Epoch 59: val_loss did not improve from 0.54277\n",
            "12/12 [==============================] - 0s 19ms/step - loss: 0.4737 - accuracy: 0.7804 - val_loss: 0.7396 - val_accuracy: 0.6849 - lr: 2.7018e-05\n",
            "Epoch 60/100\n",
            " 9/12 [=====================>........] - ETA: 0s - loss: 0.4550 - accuracy: 0.7822\n",
            "Epoch 60: val_loss did not improve from 0.54277\n",
            "12/12 [==============================] - 0s 20ms/step - loss: 0.4416 - accuracy: 0.7873 - val_loss: 0.6069 - val_accuracy: 0.6712 - lr: 2.7018e-05\n",
            "Epoch 61/100\n",
            " 9/12 [=====================>........] - ETA: 0s - loss: 0.4694 - accuracy: 0.7911\n",
            "Epoch 61: val_loss did not improve from 0.54277\n",
            "12/12 [==============================] - 0s 20ms/step - loss: 0.4485 - accuracy: 0.8062 - val_loss: 0.6293 - val_accuracy: 0.7123 - lr: 2.7018e-05\n",
            "Epoch 62/100\n",
            " 9/12 [=====================>........] - ETA: 0s - loss: 0.4958 - accuracy: 0.7600\n",
            "Epoch 62: val_loss did not improve from 0.54277\n",
            "12/12 [==============================] - 0s 20ms/step - loss: 0.4773 - accuracy: 0.7684 - val_loss: 0.6673 - val_accuracy: 0.6507 - lr: 2.5667e-05\n",
            "Epoch 63/100\n",
            " 9/12 [=====================>........] - ETA: 0s - loss: 0.4225 - accuracy: 0.7733\n",
            "Epoch 63: val_loss did not improve from 0.54277\n",
            "12/12 [==============================] - 0s 19ms/step - loss: 0.4217 - accuracy: 0.7804 - val_loss: 0.6144 - val_accuracy: 0.6712 - lr: 2.5667e-05\n",
            "Epoch 64/100\n",
            " 9/12 [=====================>........] - ETA: 0s - loss: 0.4365 - accuracy: 0.7978\n",
            "Epoch 64: val_loss improved from 0.54277 to 0.54273, saving model to mirabest/cp.ckpt\n",
            "INFO:tensorflow:Assets written to: mirabest/cp.ckpt/assets\n"
          ]
        },
        {
          "output_type": "stream",
          "name": "stderr",
          "text": [
            "INFO:tensorflow:Assets written to: mirabest/cp.ckpt/assets\n"
          ]
        },
        {
          "output_type": "stream",
          "name": "stdout",
          "text": [
            "\b\b\b\b\b\b\b\b\b\b\b\b\b\b\b\b\b\b\b\b\b\b\b\b\b\b\b\b\b\b\b\b\b\b\b\b\b\b\b\b\b\b\b\b\b\b\b\b\b\b\b\b\b\b\b\b\b\b\b\b\b\b\b\b\b\b\b\b\b\b\b\b\b\b\b\b\b\b\b\b\b\b\r12/12 [==============================] - 3s 278ms/step - loss: 0.4385 - accuracy: 0.8010 - val_loss: 0.5427 - val_accuracy: 0.7534 - lr: 2.5667e-05\n",
            "Epoch 65/100\n",
            "10/12 [========================>.....] - ETA: 0s - loss: 0.4387 - accuracy: 0.7940\n",
            "Epoch 65: val_loss did not improve from 0.54273\n",
            "12/12 [==============================] - 0s 25ms/step - loss: 0.4288 - accuracy: 0.8062 - val_loss: 0.5973 - val_accuracy: 0.7329 - lr: 2.4384e-05\n",
            "Epoch 66/100\n",
            " 9/12 [=====================>........] - ETA: 0s - loss: 0.4086 - accuracy: 0.8111\n",
            "Epoch 66: val_loss did not improve from 0.54273\n",
            "12/12 [==============================] - 0s 21ms/step - loss: 0.4065 - accuracy: 0.7993 - val_loss: 0.6019 - val_accuracy: 0.6781 - lr: 2.4384e-05\n",
            "Epoch 67/100\n",
            " 9/12 [=====================>........] - ETA: 0s - loss: 0.4281 - accuracy: 0.7911\n",
            "Epoch 67: val_loss did not improve from 0.54273\n",
            "12/12 [==============================] - 0s 20ms/step - loss: 0.4175 - accuracy: 0.7925 - val_loss: 0.6688 - val_accuracy: 0.6644 - lr: 2.4384e-05\n",
            "Epoch 68/100\n",
            "12/12 [==============================] - ETA: 0s - loss: 0.4228 - accuracy: 0.8045\n",
            "Epoch 68: val_loss did not improve from 0.54273\n",
            "12/12 [==============================] - 0s 20ms/step - loss: 0.4228 - accuracy: 0.8045 - val_loss: 0.6291 - val_accuracy: 0.6849 - lr: 2.3165e-05\n",
            "Epoch 69/100\n",
            " 9/12 [=====================>........] - ETA: 0s - loss: 0.4411 - accuracy: 0.7956\n",
            "Epoch 69: val_loss did not improve from 0.54273\n",
            "12/12 [==============================] - 0s 20ms/step - loss: 0.4267 - accuracy: 0.8096 - val_loss: 0.5763 - val_accuracy: 0.7123 - lr: 2.3165e-05\n",
            "Epoch 70/100\n",
            " 9/12 [=====================>........] - ETA: 0s - loss: 0.4014 - accuracy: 0.8178\n",
            "Epoch 70: val_loss did not improve from 0.54273\n",
            "12/12 [==============================] - 0s 19ms/step - loss: 0.4030 - accuracy: 0.8233 - val_loss: 0.6471 - val_accuracy: 0.6644 - lr: 2.3165e-05\n",
            "Epoch 71/100\n",
            "12/12 [==============================] - ETA: 0s - loss: 0.4248 - accuracy: 0.7976\n",
            "Epoch 71: val_loss did not improve from 0.54273\n",
            "12/12 [==============================] - 0s 20ms/step - loss: 0.4248 - accuracy: 0.7976 - val_loss: 0.5766 - val_accuracy: 0.7260 - lr: 2.2006e-05\n",
            "Epoch 72/100\n",
            " 9/12 [=====================>........] - ETA: 0s - loss: 0.4106 - accuracy: 0.7978\n",
            "Epoch 72: val_loss did not improve from 0.54273\n",
            "12/12 [==============================] - 0s 19ms/step - loss: 0.4014 - accuracy: 0.8062 - val_loss: 0.6037 - val_accuracy: 0.7123 - lr: 2.2006e-05\n",
            "Epoch 73/100\n",
            " 9/12 [=====================>........] - ETA: 0s - loss: 0.4007 - accuracy: 0.8178\n",
            "Epoch 73: val_loss did not improve from 0.54273\n",
            "12/12 [==============================] - 0s 19ms/step - loss: 0.4139 - accuracy: 0.8010 - val_loss: 0.6391 - val_accuracy: 0.6918 - lr: 2.2006e-05\n",
            "Epoch 74/100\n",
            " 9/12 [=====================>........] - ETA: 0s - loss: 0.4295 - accuracy: 0.8200\n",
            "Epoch 74: val_loss did not improve from 0.54273\n",
            "12/12 [==============================] - 0s 20ms/step - loss: 0.4293 - accuracy: 0.8096 - val_loss: 0.6098 - val_accuracy: 0.6986 - lr: 2.0906e-05\n",
            "Epoch 75/100\n",
            " 9/12 [=====================>........] - ETA: 0s - loss: 0.4356 - accuracy: 0.7978\n",
            "Epoch 75: val_loss did not improve from 0.54273\n",
            "12/12 [==============================] - 0s 20ms/step - loss: 0.4211 - accuracy: 0.8027 - val_loss: 0.6126 - val_accuracy: 0.6986 - lr: 2.0906e-05\n",
            "Epoch 76/100\n",
            " 9/12 [=====================>........] - ETA: 0s - loss: 0.4054 - accuracy: 0.8200\n",
            "Epoch 76: val_loss improved from 0.54273 to 0.53332, saving model to mirabest/cp.ckpt\n",
            "INFO:tensorflow:Assets written to: mirabest/cp.ckpt/assets\n"
          ]
        },
        {
          "output_type": "stream",
          "name": "stderr",
          "text": [
            "INFO:tensorflow:Assets written to: mirabest/cp.ckpt/assets\n"
          ]
        },
        {
          "output_type": "stream",
          "name": "stdout",
          "text": [
            "\b\b\b\b\b\b\b\b\b\b\b\b\b\b\b\b\b\b\b\b\b\b\b\b\b\b\b\b\b\b\b\b\b\b\b\b\b\b\b\b\b\b\b\b\b\b\b\b\b\b\b\b\b\b\b\b\b\b\b\b\b\b\b\b\b\b\b\b\b\b\b\b\b\b\b\b\b\b\b\b\b\b\r12/12 [==============================] - 5s 473ms/step - loss: 0.3966 - accuracy: 0.8268 - val_loss: 0.5333 - val_accuracy: 0.7671 - lr: 2.0906e-05\n",
            "Epoch 77/100\n",
            "10/12 [========================>.....] - ETA: 0s - loss: 0.3944 - accuracy: 0.8340\n",
            "Epoch 77: val_loss did not improve from 0.53332\n",
            "12/12 [==============================] - 0s 27ms/step - loss: 0.4003 - accuracy: 0.8319 - val_loss: 0.6159 - val_accuracy: 0.6849 - lr: 2.0906e-05\n",
            "Epoch 78/100\n",
            "12/12 [==============================] - ETA: 0s - loss: 0.4161 - accuracy: 0.7890\n",
            "Epoch 78: val_loss improved from 0.53332 to 0.49197, saving model to mirabest/cp.ckpt\n",
            "INFO:tensorflow:Assets written to: mirabest/cp.ckpt/assets\n"
          ]
        },
        {
          "output_type": "stream",
          "name": "stderr",
          "text": [
            "INFO:tensorflow:Assets written to: mirabest/cp.ckpt/assets\n"
          ]
        },
        {
          "output_type": "stream",
          "name": "stdout",
          "text": [
            "\b\b\b\b\b\b\b\b\b\b\b\b\b\b\b\b\b\b\b\b\b\b\b\b\b\b\b\b\b\b\b\b\b\b\b\b\b\b\b\b\b\b\b\b\b\b\b\b\b\b\b\b\b\b\b\b\b\b\b\b\b\b\b\b\b\b\b\b\b\b\b\b\b\b\b\b\b\b\b\b\b\b\r12/12 [==============================] - 7s 599ms/step - loss: 0.4161 - accuracy: 0.7890 - val_loss: 0.4920 - val_accuracy: 0.7945 - lr: 2.0906e-05\n",
            "Epoch 79/100\n",
            "10/12 [========================>.....] - ETA: 0s - loss: 0.4177 - accuracy: 0.8220\n",
            "Epoch 79: val_loss did not improve from 0.49197\n",
            "12/12 [==============================] - 0s 29ms/step - loss: 0.4081 - accuracy: 0.8285 - val_loss: 0.6204 - val_accuracy: 0.6986 - lr: 2.0906e-05\n",
            "Epoch 80/100\n",
            "11/12 [==========================>...] - ETA: 0s - loss: 0.4147 - accuracy: 0.8073\n",
            "Epoch 80: val_loss did not improve from 0.49197\n",
            "12/12 [==============================] - 0s 28ms/step - loss: 0.4166 - accuracy: 0.8062 - val_loss: 0.5958 - val_accuracy: 0.6918 - lr: 2.0906e-05\n",
            "Epoch 81/100\n",
            " 9/12 [=====================>........] - ETA: 0s - loss: 0.3953 - accuracy: 0.8267\n",
            "Epoch 81: val_loss did not improve from 0.49197\n",
            "12/12 [==============================] - 0s 20ms/step - loss: 0.4007 - accuracy: 0.8199 - val_loss: 0.5223 - val_accuracy: 0.7260 - lr: 2.0906e-05\n",
            "Epoch 82/100\n",
            " 9/12 [=====================>........] - ETA: 0s - loss: 0.4231 - accuracy: 0.8178\n",
            "Epoch 82: val_loss did not improve from 0.49197\n",
            "12/12 [==============================] - 0s 26ms/step - loss: 0.4115 - accuracy: 0.8165 - val_loss: 0.4961 - val_accuracy: 0.7466 - lr: 1.9861e-05\n",
            "Epoch 83/100\n",
            " 9/12 [=====================>........] - ETA: 0s - loss: 0.4205 - accuracy: 0.8111\n",
            "Epoch 83: val_loss did not improve from 0.49197\n",
            "12/12 [==============================] - 0s 20ms/step - loss: 0.4113 - accuracy: 0.8096 - val_loss: 0.5987 - val_accuracy: 0.7260 - lr: 1.9861e-05\n",
            "Epoch 84/100\n",
            " 9/12 [=====================>........] - ETA: 0s - loss: 0.4292 - accuracy: 0.7933\n",
            "Epoch 84: val_loss did not improve from 0.49197\n",
            "12/12 [==============================] - 0s 19ms/step - loss: 0.4202 - accuracy: 0.8079 - val_loss: 0.6297 - val_accuracy: 0.7123 - lr: 1.9861e-05\n",
            "Epoch 85/100\n",
            " 9/12 [=====================>........] - ETA: 0s - loss: 0.4260 - accuracy: 0.8022\n",
            "Epoch 85: val_loss did not improve from 0.49197\n",
            "12/12 [==============================] - 0s 20ms/step - loss: 0.4130 - accuracy: 0.8165 - val_loss: 0.5514 - val_accuracy: 0.7329 - lr: 1.8868e-05\n",
            "Epoch 86/100\n",
            " 9/12 [=====================>........] - ETA: 0s - loss: 0.3993 - accuracy: 0.8089\n",
            "Epoch 86: val_loss did not improve from 0.49197\n",
            "12/12 [==============================] - 0s 20ms/step - loss: 0.3975 - accuracy: 0.8199 - val_loss: 0.6170 - val_accuracy: 0.7397 - lr: 1.8868e-05\n",
            "Epoch 87/100\n",
            " 9/12 [=====================>........] - ETA: 0s - loss: 0.4341 - accuracy: 0.7956\n",
            "Epoch 87: val_loss did not improve from 0.49197\n",
            "12/12 [==============================] - 0s 19ms/step - loss: 0.4317 - accuracy: 0.7959 - val_loss: 0.6183 - val_accuracy: 0.6918 - lr: 1.8868e-05\n",
            "Epoch 88/100\n",
            " 9/12 [=====================>........] - ETA: 0s - loss: 0.3930 - accuracy: 0.8222\n",
            "Epoch 88: val_loss did not improve from 0.49197\n",
            "12/12 [==============================] - 0s 20ms/step - loss: 0.3907 - accuracy: 0.8199 - val_loss: 0.5991 - val_accuracy: 0.7397 - lr: 1.7924e-05\n",
            "Epoch 89/100\n",
            " 9/12 [=====================>........] - ETA: 0s - loss: 0.3822 - accuracy: 0.8200\n",
            "Epoch 89: val_loss did not improve from 0.49197\n",
            "12/12 [==============================] - 0s 20ms/step - loss: 0.3839 - accuracy: 0.8216 - val_loss: 0.5473 - val_accuracy: 0.7192 - lr: 1.7924e-05\n",
            "Epoch 90/100\n",
            " 9/12 [=====================>........] - ETA: 0s - loss: 0.4080 - accuracy: 0.8044\n",
            "Epoch 90: val_loss did not improve from 0.49197\n",
            "12/12 [==============================] - 0s 20ms/step - loss: 0.4096 - accuracy: 0.8148 - val_loss: 0.5782 - val_accuracy: 0.6918 - lr: 1.7924e-05\n",
            "Epoch 91/100\n",
            " 9/12 [=====================>........] - ETA: 0s - loss: 0.4413 - accuracy: 0.8022\n",
            "Epoch 91: val_loss did not improve from 0.49197\n",
            "12/12 [==============================] - 0s 19ms/step - loss: 0.4150 - accuracy: 0.8182 - val_loss: 0.5526 - val_accuracy: 0.7329 - lr: 1.7028e-05\n",
            "Epoch 92/100\n",
            " 9/12 [=====================>........] - ETA: 0s - loss: 0.3965 - accuracy: 0.8356\n",
            "Epoch 92: val_loss did not improve from 0.49197\n",
            "12/12 [==============================] - 0s 20ms/step - loss: 0.3924 - accuracy: 0.8353 - val_loss: 0.5944 - val_accuracy: 0.7329 - lr: 1.7028e-05\n",
            "Epoch 93/100\n",
            " 9/12 [=====================>........] - ETA: 0s - loss: 0.4096 - accuracy: 0.8111\n",
            "Epoch 93: val_loss did not improve from 0.49197\n",
            "12/12 [==============================] - 0s 20ms/step - loss: 0.4035 - accuracy: 0.8148 - val_loss: 0.6052 - val_accuracy: 0.7123 - lr: 1.7028e-05\n",
            "Epoch 94/100\n",
            " 9/12 [=====================>........] - ETA: 0s - loss: 0.3862 - accuracy: 0.8378\n",
            "Epoch 94: val_loss did not improve from 0.49197\n",
            "12/12 [==============================] - 0s 21ms/step - loss: 0.3827 - accuracy: 0.8422 - val_loss: 0.5308 - val_accuracy: 0.7808 - lr: 1.6177e-05\n",
            "Epoch 95/100\n",
            " 9/12 [=====================>........] - ETA: 0s - loss: 0.3988 - accuracy: 0.8200\n",
            "Epoch 95: val_loss improved from 0.49197 to 0.42348, saving model to mirabest/cp.ckpt\n",
            "INFO:tensorflow:Assets written to: mirabest/cp.ckpt/assets\n"
          ]
        },
        {
          "output_type": "stream",
          "name": "stderr",
          "text": [
            "INFO:tensorflow:Assets written to: mirabest/cp.ckpt/assets\n"
          ]
        },
        {
          "output_type": "stream",
          "name": "stdout",
          "text": [
            "\b\b\b\b\b\b\b\b\b\b\b\b\b\b\b\b\b\b\b\b\b\b\b\b\b\b\b\b\b\b\b\b\b\b\b\b\b\b\b\b\b\b\b\b\b\b\b\b\b\b\b\b\b\b\b\b\b\b\b\b\b\b\b\b\b\b\b\b\b\b\b\b\b\b\b\b\b\b\b\b\b\b\r12/12 [==============================] - 2s 167ms/step - loss: 0.3944 - accuracy: 0.8250 - val_loss: 0.4235 - val_accuracy: 0.7808 - lr: 1.6177e-05\n",
            "Epoch 96/100\n",
            "11/12 [==========================>...] - ETA: 0s - loss: 0.3960 - accuracy: 0.8182\n",
            "Epoch 96: val_loss did not improve from 0.42348\n",
            "12/12 [==============================] - 0s 22ms/step - loss: 0.3947 - accuracy: 0.8199 - val_loss: 0.5574 - val_accuracy: 0.7260 - lr: 1.6177e-05\n",
            "Epoch 97/100\n",
            " 9/12 [=====================>........] - ETA: 0s - loss: 0.4297 - accuracy: 0.7844\n",
            "Epoch 97: val_loss did not improve from 0.42348\n",
            "12/12 [==============================] - 0s 20ms/step - loss: 0.4089 - accuracy: 0.8010 - val_loss: 0.5302 - val_accuracy: 0.6986 - lr: 1.6177e-05\n",
            "Epoch 98/100\n",
            " 9/12 [=====================>........] - ETA: 0s - loss: 0.4158 - accuracy: 0.8222\n",
            "Epoch 98: val_loss did not improve from 0.42348\n",
            "12/12 [==============================] - 0s 20ms/step - loss: 0.3978 - accuracy: 0.8233 - val_loss: 0.6050 - val_accuracy: 0.6781 - lr: 1.6177e-05\n",
            "Epoch 99/100\n",
            " 9/12 [=====================>........] - ETA: 0s - loss: 0.3682 - accuracy: 0.8378\n",
            "Epoch 99: val_loss did not improve from 0.42348\n",
            "12/12 [==============================] - 0s 19ms/step - loss: 0.3587 - accuracy: 0.8353 - val_loss: 0.5651 - val_accuracy: 0.7397 - lr: 1.5368e-05\n",
            "Epoch 100/100\n",
            " 9/12 [=====================>........] - ETA: 0s - loss: 0.3718 - accuracy: 0.8467\n",
            "Epoch 100: val_loss did not improve from 0.42348\n",
            "12/12 [==============================] - 0s 20ms/step - loss: 0.3636 - accuracy: 0.8439 - val_loss: 0.6227 - val_accuracy: 0.6986 - lr: 1.5368e-05\n"
          ]
        },
        {
          "output_type": "execute_result",
          "data": {
            "text/plain": [
              "<keras.callbacks.History at 0x7f14100db490>"
            ]
          },
          "metadata": {},
          "execution_count": 14
        }
      ],
      "source": [
        "\n",
        "\n",
        "model.fit(dataset_train, epochs=100, callbacks=[reduce_lr, cp_callback], validation_data=dataset_valid)\n",
        "\n",
        "\n"
      ],
      "metadata": {
        "pycharm": {
          "name": "#%%\n"
        },
        "id": "tOeSoxd0Dc3X",
        "colab": {
          "base_uri": "https://localhost:8080/"
        },
        "outputId": "e41adf51-b997-49b3-ce75-8d4b7ee01acb"
      }
    },
    {
      "cell_type": "markdown",
      "source": [
        "Test model"
      ],
      "metadata": {
        "id": "JnC3v4hG4iEO"
      }
    },
    {
      "cell_type": "code",
      "source": [
        "\n",
        "new_model = tf.keras.models.load_model('mirabest/cp.ckpt')\n",
        "\n",
        "#label_predict = new_model.predict(dataset_test)\n"
      ],
      "metadata": {
        "id": "IxWv_8E_4hq2"
      },
      "execution_count": null,
      "outputs": []
    },
    {
      "cell_type": "code",
      "source": [
        "for _ in range(10):\n",
        "  correct, n = 0, 0\n",
        "  for (x, y) in dataset_test:\n",
        "    yhat = new_model.predict(x)\n",
        "    correct += np.sum(np.argmax(yhat, axis=-1) == y)\n",
        "    n += len(y)\n",
        "  print('Accuracy:',correct / n)"
      ],
      "metadata": {
        "colab": {
          "base_uri": "https://localhost:8080/"
        },
        "id": "xXBIaixNyduZ",
        "outputId": "48d7a750-7015-4de8-db56-6525592dfec3"
      },
      "execution_count": null,
      "outputs": [
        {
          "output_type": "stream",
          "name": "stdout",
          "text": [
            "Accuracy: 0.7307692307692307\n",
            "Accuracy: 0.6923076923076923\n",
            "Accuracy: 0.7692307692307693\n",
            "Accuracy: 0.7307692307692307\n",
            "Accuracy: 0.7596153846153846\n",
            "Accuracy: 0.7692307692307693\n",
            "Accuracy: 0.7596153846153846\n",
            "Accuracy: 0.7788461538461539\n",
            "Accuracy: 0.7596153846153846\n",
            "Accuracy: 0.7596153846153846\n"
          ]
        }
      ]
    },
    {
      "cell_type": "markdown",
      "source": [
        "Predictive entropy, mutual information, average entropy"
      ],
      "metadata": {
        "id": "4TqcaqAYFwBZ"
      }
    },
    {
      "cell_type": "code",
      "source": [
        "\n",
        "samples_iter = 200\n",
        "softmax = []\n",
        "\n",
        "for _ in range(samples_iter):\n",
        "  s = []\n",
        "  for (x, y) in dataset_test:\n",
        "    pred = new_model.predict(x)\n",
        "    #softmax.append(pred)\n",
        "    s.append(pred)\n",
        "  s = np.concatenate(s)\n",
        "  softmax.append(s)\n",
        "\n",
        "softmax = np.array(softmax)\n",
        "\n",
        "\n",
        "\n",
        "def entropy_MI(softmax, samples_iter):\n",
        "\n",
        "    class_0 = softmax[:][0]\n",
        "    class_1 = softmax[:][1]\n",
        "    #biased estimator of predictive entropy, bias will reduce as samples_iter is increased\n",
        "    predictive_entropy = -((np.sum(class_0)/samples_iter) * np.log(np.sum(class_0)/samples_iter) + (np.sum(class_1)/samples_iter) * np.log(np.sum(class_1)/samples_iter))\n",
        "    \n",
        "    #Orignal: -((np.sum(class_0)/samples_iter) * np.log(np.sum(class_0)/samples_iter) + (np.sum(class_1)/samples_iter) * np.log(np.sum(class_1)/samples_iter))\n",
        "    \n",
        "\n",
        "    mutual_info = predictive_entropy + np.sum((class_0 * np.log(class_0)) + (class_1 * np.log(class_1)))/samples_iter\n",
        "\n",
        "    #Original: predictive_entropy + np.sum(class_0*np.log(class_0))/samples_iter +  np.sum(class_1*np.log(class_1))/samples_iter\n",
        "    \n",
        "    #entropy of a single pass\n",
        "    class0 = softmax[:][0][0]\n",
        "    class1 = softmax[:][1][0]\n",
        "    entropy_singlepass = -np.sum((class0 * np.log(class0)) + (class1 * np.log(class1)))/samples_iter\n",
        "\n",
        "    #Original: -(class0 * np.log(class0) + class1 * np.log(class1))\n",
        "\n",
        "    #print(\"Entropy of a single pass:\", entropy_singlepass)\n",
        "    return predictive_entropy, mutual_info, entropy_singlepass\n",
        "\n",
        "\n",
        "\n",
        "predictive_entropy, mutual_info, entropy_singlepass = entropy_MI(softmax, samples_iter)\n",
        "\n",
        "\n",
        "print(\"Predictive Entropy:\", predictive_entropy)\n",
        "print(\"Mutual Information:\", mutual_info)\n",
        "print(\"Entropy of a single pass:\", entropy_singlepass)"
      ],
      "metadata": {
        "id": "fTKvdGbM2T7-",
        "colab": {
          "base_uri": "https://localhost:8080/"
        },
        "outputId": "47211893-48ca-42b7-c336-26ec154187e6"
      },
      "execution_count": null,
      "outputs": [
        {
          "output_type": "stream",
          "name": "stdout",
          "text": [
            "Predictive Entropy: 0.6800835261029305\n",
            "Mutual Information: 0.24403707834902427\n",
            "Entropy of a single pass: 0.0028205105662345888\n"
          ]
        }
      ]
    }
  ],
  "metadata": {
    "kernelspec": {
      "display_name": "Python 3",
      "language": "python",
      "name": "python3"
    },
    "language_info": {
      "codemirror_mode": {
        "name": "ipython",
        "version": 2
      },
      "file_extension": ".py",
      "mimetype": "text/x-python",
      "name": "python",
      "nbconvert_exporter": "python",
      "pygments_lexer": "ipython2",
      "version": "2.7.6"
    },
    "colab": {
      "name": "Mirabest_MCD.ipynb",
      "provenance": [],
      "collapsed_sections": [],
      "include_colab_link": true
    },
    "accelerator": "GPU",
    "gpuClass": "standard"
  },
  "nbformat": 4,
  "nbformat_minor": 0
}