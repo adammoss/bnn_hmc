{
  "cells": [
    {
      "cell_type": "markdown",
      "metadata": {
        "id": "view-in-github",
        "colab_type": "text"
      },
      "source": [
        "<a href=\"https://colab.research.google.com/github/adammoss/bnn_hmc/blob/main/results/MLSST_HMC_lenet1.ipynb\" target=\"_parent\"><img src=\"https://colab.research.google.com/assets/colab-badge.svg\" alt=\"Open In Colab\"/></a>"
      ]
    },
    {
      "cell_type": "code",
      "execution_count": null,
      "metadata": {
        "id": "L7tkJA-ZFSX1"
      },
      "outputs": [],
      "source": [
        "import os\n",
        "import sys\n",
        "import shutil\n",
        "import subprocess\n",
        "import glob\n",
        "import matplotlib.pyplot as plt\n",
        "import seaborn as sns\n",
        "import numpy as np"
      ]
    },
    {
      "cell_type": "code",
      "execution_count": null,
      "metadata": {
        "colab": {
          "base_uri": "https://localhost:8080/"
        },
        "id": "wOgWNjptJTLD",
        "outputId": "249380b9-4a13-46e8-ea6e-aa94d112ed22"
      },
      "outputs": [
        {
          "name": "stdout",
          "output_type": "stream",
          "text": [
            "env: XLA_FLAGS=--xla_gpu_cuda_data_dir=/usr/local/cuda-11.2\n"
          ]
        }
      ],
      "source": [
        "%env XLA_FLAGS=--xla_gpu_cuda_data_dir=/usr/local/cuda-11.2"
      ]
    },
    {
      "cell_type": "code",
      "execution_count": null,
      "metadata": {
        "colab": {
          "base_uri": "https://localhost:8080/"
        },
        "id": "xfGbNEkeFZP9",
        "outputId": "d2fed755-9d52-4bc3-9154-ad16bb10aa50"
      },
      "outputs": [
        {
          "name": "stdout",
          "output_type": "stream",
          "text": [
            "Wed Oct 12 12:22:16 2022       \n",
            "+-----------------------------------------------------------------------------+\n",
            "| NVIDIA-SMI 460.32.03    Driver Version: 460.32.03    CUDA Version: 11.2     |\n",
            "|-------------------------------+----------------------+----------------------+\n",
            "| GPU  Name        Persistence-M| Bus-Id        Disp.A | Volatile Uncorr. ECC |\n",
            "| Fan  Temp  Perf  Pwr:Usage/Cap|         Memory-Usage | GPU-Util  Compute M. |\n",
            "|                               |                      |               MIG M. |\n",
            "|===============================+======================+======================|\n",
            "|   0  A100-SXM4-40GB      Off  | 00000000:00:04.0 Off |                    0 |\n",
            "| N/A   30C    P0    44W / 400W |      0MiB / 40536MiB |      0%      Default |\n",
            "|                               |                      |             Disabled |\n",
            "+-------------------------------+----------------------+----------------------+\n",
            "                                                                               \n",
            "+-----------------------------------------------------------------------------+\n",
            "| Processes:                                                                  |\n",
            "|  GPU   GI   CI        PID   Type   Process name                  GPU Memory |\n",
            "|        ID   ID                                                   Usage      |\n",
            "|=============================================================================|\n",
            "|  No running processes found                                                 |\n",
            "+-----------------------------------------------------------------------------+\n"
          ]
        }
      ],
      "source": [
        "!nvidia-smi"
      ]
    },
    {
      "cell_type": "code",
      "execution_count": null,
      "metadata": {
        "colab": {
          "base_uri": "https://localhost:8080/"
        },
        "id": "HuByEPhIFawq",
        "outputId": "cf32f0d3-a3b9-405e-cf66-6024f7cfe8ab"
      },
      "outputs": [
        {
          "name": "stdout",
          "output_type": "stream",
          "text": [
            "Looking in indexes: https://pypi.org/simple, https://us-python.pkg.dev/colab-wheels/public/simple/\n",
            "Requirement already satisfied: astro-datasets in /usr/local/lib/python3.7/dist-packages (0.0.17)\n",
            "Requirement already satisfied: numpy in /usr/local/lib/python3.7/dist-packages (from astro-datasets) (1.21.6)\n",
            "Requirement already satisfied: tensorflow-datasets in /usr/local/lib/python3.7/dist-packages (from astro-datasets) (4.7.0)\n",
            "Requirement already satisfied: pandas in /usr/local/lib/python3.7/dist-packages (from astro-datasets) (1.3.5)\n",
            "Requirement already satisfied: tensorflow in /usr/local/lib/python3.7/dist-packages (from astro-datasets) (2.8.2+zzzcolab20220929150707)\n",
            "Requirement already satisfied: python-dateutil>=2.7.3 in /usr/local/lib/python3.7/dist-packages (from pandas->astro-datasets) (2.8.2)\n",
            "Requirement already satisfied: pytz>=2017.3 in /usr/local/lib/python3.7/dist-packages (from pandas->astro-datasets) (2022.4)\n",
            "Requirement already satisfied: six>=1.5 in /usr/local/lib/python3.7/dist-packages (from python-dateutil>=2.7.3->pandas->astro-datasets) (1.15.0)\n",
            "Requirement already satisfied: h5py>=2.9.0 in /usr/local/lib/python3.7/dist-packages (from tensorflow->astro-datasets) (3.1.0)\n",
            "Requirement already satisfied: tensorflow-io-gcs-filesystem>=0.23.1 in /usr/local/lib/python3.7/dist-packages (from tensorflow->astro-datasets) (0.27.0)\n",
            "Requirement already satisfied: tensorflow-estimator<2.9,>=2.8 in /usr/local/lib/python3.7/dist-packages (from tensorflow->astro-datasets) (2.8.0)\n",
            "Requirement already satisfied: protobuf<3.20,>=3.9.2 in /usr/local/lib/python3.7/dist-packages (from tensorflow->astro-datasets) (3.17.3)\n",
            "Requirement already satisfied: wrapt>=1.11.0 in /usr/local/lib/python3.7/dist-packages (from tensorflow->astro-datasets) (1.14.1)\n",
            "Requirement already satisfied: keras-preprocessing>=1.1.1 in /usr/local/lib/python3.7/dist-packages (from tensorflow->astro-datasets) (1.1.2)\n",
            "Requirement already satisfied: setuptools in /usr/local/lib/python3.7/dist-packages (from tensorflow->astro-datasets) (57.4.0)\n",
            "Requirement already satisfied: google-pasta>=0.1.1 in /usr/local/lib/python3.7/dist-packages (from tensorflow->astro-datasets) (0.2.0)\n",
            "Requirement already satisfied: keras<2.9,>=2.8.0rc0 in /usr/local/lib/python3.7/dist-packages (from tensorflow->astro-datasets) (2.8.0)\n",
            "Requirement already satisfied: gast>=0.2.1 in /usr/local/lib/python3.7/dist-packages (from tensorflow->astro-datasets) (0.5.3)\n",
            "Requirement already satisfied: astunparse>=1.6.0 in /usr/local/lib/python3.7/dist-packages (from tensorflow->astro-datasets) (1.6.3)\n",
            "Requirement already satisfied: absl-py>=0.4.0 in /usr/local/lib/python3.7/dist-packages (from tensorflow->astro-datasets) (1.2.0)\n",
            "Requirement already satisfied: opt-einsum>=2.3.2 in /usr/local/lib/python3.7/dist-packages (from tensorflow->astro-datasets) (3.3.0)\n",
            "Requirement already satisfied: grpcio<2.0,>=1.24.3 in /usr/local/lib/python3.7/dist-packages (from tensorflow->astro-datasets) (1.49.1)\n",
            "Requirement already satisfied: typing-extensions>=3.6.6 in /usr/local/lib/python3.7/dist-packages (from tensorflow->astro-datasets) (4.1.1)\n",
            "Requirement already satisfied: tensorboard<2.9,>=2.8 in /usr/local/lib/python3.7/dist-packages (from tensorflow->astro-datasets) (2.8.0)\n",
            "Requirement already satisfied: flatbuffers>=1.12 in /usr/local/lib/python3.7/dist-packages (from tensorflow->astro-datasets) (22.9.24)\n",
            "Requirement already satisfied: libclang>=9.0.1 in /usr/local/lib/python3.7/dist-packages (from tensorflow->astro-datasets) (14.0.6)\n",
            "Requirement already satisfied: termcolor>=1.1.0 in /usr/local/lib/python3.7/dist-packages (from tensorflow->astro-datasets) (2.0.1)\n",
            "Requirement already satisfied: wheel<1.0,>=0.23.0 in /usr/local/lib/python3.7/dist-packages (from astunparse>=1.6.0->tensorflow->astro-datasets) (0.37.1)\n",
            "Requirement already satisfied: cached-property in /usr/local/lib/python3.7/dist-packages (from h5py>=2.9.0->tensorflow->astro-datasets) (1.5.2)\n",
            "Requirement already satisfied: markdown>=2.6.8 in /usr/local/lib/python3.7/dist-packages (from tensorboard<2.9,>=2.8->tensorflow->astro-datasets) (3.4.1)\n",
            "Requirement already satisfied: google-auth<3,>=1.6.3 in /usr/local/lib/python3.7/dist-packages (from tensorboard<2.9,>=2.8->tensorflow->astro-datasets) (1.35.0)\n",
            "Requirement already satisfied: requests<3,>=2.21.0 in /usr/local/lib/python3.7/dist-packages (from tensorboard<2.9,>=2.8->tensorflow->astro-datasets) (2.23.0)\n",
            "Requirement already satisfied: tensorboard-plugin-wit>=1.6.0 in /usr/local/lib/python3.7/dist-packages (from tensorboard<2.9,>=2.8->tensorflow->astro-datasets) (1.8.1)\n",
            "Requirement already satisfied: tensorboard-data-server<0.7.0,>=0.6.0 in /usr/local/lib/python3.7/dist-packages (from tensorboard<2.9,>=2.8->tensorflow->astro-datasets) (0.6.1)\n",
            "Requirement already satisfied: werkzeug>=0.11.15 in /usr/local/lib/python3.7/dist-packages (from tensorboard<2.9,>=2.8->tensorflow->astro-datasets) (1.0.1)\n",
            "Requirement already satisfied: google-auth-oauthlib<0.5,>=0.4.1 in /usr/local/lib/python3.7/dist-packages (from tensorboard<2.9,>=2.8->tensorflow->astro-datasets) (0.4.6)\n",
            "Requirement already satisfied: pyasn1-modules>=0.2.1 in /usr/local/lib/python3.7/dist-packages (from google-auth<3,>=1.6.3->tensorboard<2.9,>=2.8->tensorflow->astro-datasets) (0.2.8)\n",
            "Requirement already satisfied: cachetools<5.0,>=2.0.0 in /usr/local/lib/python3.7/dist-packages (from google-auth<3,>=1.6.3->tensorboard<2.9,>=2.8->tensorflow->astro-datasets) (4.2.4)\n",
            "Requirement already satisfied: rsa<5,>=3.1.4 in /usr/local/lib/python3.7/dist-packages (from google-auth<3,>=1.6.3->tensorboard<2.9,>=2.8->tensorflow->astro-datasets) (4.9)\n",
            "Requirement already satisfied: requests-oauthlib>=0.7.0 in /usr/local/lib/python3.7/dist-packages (from google-auth-oauthlib<0.5,>=0.4.1->tensorboard<2.9,>=2.8->tensorflow->astro-datasets) (1.3.1)\n",
            "Requirement already satisfied: importlib-metadata>=4.4 in /usr/local/lib/python3.7/dist-packages (from markdown>=2.6.8->tensorboard<2.9,>=2.8->tensorflow->astro-datasets) (5.0.0)\n",
            "Requirement already satisfied: zipp>=0.5 in /usr/local/lib/python3.7/dist-packages (from importlib-metadata>=4.4->markdown>=2.6.8->tensorboard<2.9,>=2.8->tensorflow->astro-datasets) (3.8.1)\n",
            "Requirement already satisfied: pyasn1<0.5.0,>=0.4.6 in /usr/local/lib/python3.7/dist-packages (from pyasn1-modules>=0.2.1->google-auth<3,>=1.6.3->tensorboard<2.9,>=2.8->tensorflow->astro-datasets) (0.4.8)\n",
            "Requirement already satisfied: urllib3!=1.25.0,!=1.25.1,<1.26,>=1.21.1 in /usr/local/lib/python3.7/dist-packages (from requests<3,>=2.21.0->tensorboard<2.9,>=2.8->tensorflow->astro-datasets) (1.24.3)\n",
            "Requirement already satisfied: idna<3,>=2.5 in /usr/local/lib/python3.7/dist-packages (from requests<3,>=2.21.0->tensorboard<2.9,>=2.8->tensorflow->astro-datasets) (2.10)\n",
            "Requirement already satisfied: certifi>=2017.4.17 in /usr/local/lib/python3.7/dist-packages (from requests<3,>=2.21.0->tensorboard<2.9,>=2.8->tensorflow->astro-datasets) (2022.9.24)\n",
            "Requirement already satisfied: chardet<4,>=3.0.2 in /usr/local/lib/python3.7/dist-packages (from requests<3,>=2.21.0->tensorboard<2.9,>=2.8->tensorflow->astro-datasets) (3.0.4)\n",
            "Requirement already satisfied: oauthlib>=3.0.0 in /usr/local/lib/python3.7/dist-packages (from requests-oauthlib>=0.7.0->google-auth-oauthlib<0.5,>=0.4.1->tensorboard<2.9,>=2.8->tensorflow->astro-datasets) (3.2.1)\n",
            "Requirement already satisfied: tqdm in /usr/local/lib/python3.7/dist-packages (from tensorflow-datasets->astro-datasets) (4.64.1)\n",
            "Requirement already satisfied: tensorflow-metadata in /usr/local/lib/python3.7/dist-packages (from tensorflow-datasets->astro-datasets) (1.10.0)\n",
            "Requirement already satisfied: toml in /usr/local/lib/python3.7/dist-packages (from tensorflow-datasets->astro-datasets) (0.10.2)\n",
            "Requirement already satisfied: dill in /usr/local/lib/python3.7/dist-packages (from tensorflow-datasets->astro-datasets) (0.3.5.1)\n",
            "Requirement already satisfied: etils[epath] in /usr/local/lib/python3.7/dist-packages (from tensorflow-datasets->astro-datasets) (0.8.0)\n",
            "Requirement already satisfied: promise in /usr/local/lib/python3.7/dist-packages (from tensorflow-datasets->astro-datasets) (2.3)\n",
            "Requirement already satisfied: importlib-resources in /usr/local/lib/python3.7/dist-packages (from tensorflow-datasets->astro-datasets) (5.9.0)\n",
            "Requirement already satisfied: googleapis-common-protos<2,>=1.52.0 in /usr/local/lib/python3.7/dist-packages (from tensorflow-metadata->tensorflow-datasets->astro-datasets) (1.56.4)\n",
            "Looking in indexes: https://pypi.org/simple, https://us-python.pkg.dev/colab-wheels/public/simple/\n",
            "Requirement already satisfied: tensorflow_datasets in /usr/local/lib/python3.7/dist-packages (4.7.0)\n",
            "Requirement already satisfied: etils[epath] in /usr/local/lib/python3.7/dist-packages (from tensorflow_datasets) (0.8.0)\n",
            "Requirement already satisfied: typing-extensions in /usr/local/lib/python3.7/dist-packages (from tensorflow_datasets) (4.1.1)\n",
            "Requirement already satisfied: requests>=2.19.0 in /usr/local/lib/python3.7/dist-packages (from tensorflow_datasets) (2.23.0)\n",
            "Requirement already satisfied: absl-py in /usr/local/lib/python3.7/dist-packages (from tensorflow_datasets) (1.2.0)\n",
            "Requirement already satisfied: promise in /usr/local/lib/python3.7/dist-packages (from tensorflow_datasets) (2.3)\n",
            "Requirement already satisfied: termcolor in /usr/local/lib/python3.7/dist-packages (from tensorflow_datasets) (2.0.1)\n",
            "Requirement already satisfied: importlib-resources in /usr/local/lib/python3.7/dist-packages (from tensorflow_datasets) (5.9.0)\n",
            "Requirement already satisfied: protobuf>=3.12.2 in /usr/local/lib/python3.7/dist-packages (from tensorflow_datasets) (3.17.3)\n",
            "Requirement already satisfied: tensorflow-metadata in /usr/local/lib/python3.7/dist-packages (from tensorflow_datasets) (1.10.0)\n",
            "Requirement already satisfied: tqdm in /usr/local/lib/python3.7/dist-packages (from tensorflow_datasets) (4.64.1)\n",
            "Requirement already satisfied: toml in /usr/local/lib/python3.7/dist-packages (from tensorflow_datasets) (0.10.2)\n",
            "Requirement already satisfied: six in /usr/local/lib/python3.7/dist-packages (from tensorflow_datasets) (1.15.0)\n",
            "Requirement already satisfied: numpy in /usr/local/lib/python3.7/dist-packages (from tensorflow_datasets) (1.21.6)\n",
            "Requirement already satisfied: dill in /usr/local/lib/python3.7/dist-packages (from tensorflow_datasets) (0.3.5.1)\n",
            "Requirement already satisfied: urllib3!=1.25.0,!=1.25.1,<1.26,>=1.21.1 in /usr/local/lib/python3.7/dist-packages (from requests>=2.19.0->tensorflow_datasets) (1.24.3)\n",
            "Requirement already satisfied: chardet<4,>=3.0.2 in /usr/local/lib/python3.7/dist-packages (from requests>=2.19.0->tensorflow_datasets) (3.0.4)\n",
            "Requirement already satisfied: certifi>=2017.4.17 in /usr/local/lib/python3.7/dist-packages (from requests>=2.19.0->tensorflow_datasets) (2022.9.24)\n",
            "Requirement already satisfied: idna<3,>=2.5 in /usr/local/lib/python3.7/dist-packages (from requests>=2.19.0->tensorflow_datasets) (2.10)\n",
            "Requirement already satisfied: zipp in /usr/local/lib/python3.7/dist-packages (from etils[epath]->tensorflow_datasets) (3.8.1)\n",
            "Requirement already satisfied: googleapis-common-protos<2,>=1.52.0 in /usr/local/lib/python3.7/dist-packages (from tensorflow-metadata->tensorflow_datasets) (1.56.4)\n"
          ]
        }
      ],
      "source": [
        "!pip install astro-datasets --upgrade\n",
        "!pip install tensorflow_datasets --upgrade"
      ]
    },
    {
      "cell_type": "code",
      "execution_count": null,
      "metadata": {
        "id": "MSD-dcRaFcfO"
      },
      "outputs": [],
      "source": [
        "shutil.rmtree('bnn_hmc', ignore_errors=True)"
      ]
    },
    {
      "cell_type": "code",
      "execution_count": null,
      "metadata": {
        "colab": {
          "base_uri": "https://localhost:8080/"
        },
        "id": "Bk7cb1-cFe5h",
        "outputId": "5308c18c-a4b5-448e-a68e-4b3ec4cdcb53"
      },
      "outputs": [
        {
          "name": "stdout",
          "output_type": "stream",
          "text": [
            "Cloning into 'bnn_hmc'...\n",
            "remote: Enumerating objects: 1187, done.\u001b[K\n",
            "remote: Counting objects: 100% (184/184), done.\u001b[K\n",
            "remote: Compressing objects: 100% (132/132), done.\u001b[K\n",
            "remote: Total 1187 (delta 116), reused 114 (delta 52), pack-reused 1003\u001b[K\n",
            "Receiving objects: 100% (1187/1187), 1.54 MiB | 11.01 MiB/s, done.\n",
            "Resolving deltas: 100% (796/796), done.\n"
          ]
        }
      ],
      "source": [
        "!git clone https://github.com/adammoss/bnn_hmc"
      ]
    },
    {
      "cell_type": "code",
      "execution_count": null,
      "metadata": {
        "colab": {
          "base_uri": "https://localhost:8080/"
        },
        "id": "e8zzsI1QFhNK",
        "outputId": "46043a0a-fb58-4cb8-dedc-34483f3c6182"
      },
      "outputs": [
        {
          "name": "stdout",
          "output_type": "stream",
          "text": [
            "Looking in indexes: https://pypi.org/simple, https://us-python.pkg.dev/colab-wheels/public/simple/\n",
            "Collecting jaxlib==0.1.65+cuda111\n",
            "  Using cached https://storage.googleapis.com/jax-releases/cuda111/jaxlib-0.1.65+cuda111-cp37-none-manylinux2010_x86_64.whl (189.4 MB)\n",
            "Requirement already satisfied: scipy in /usr/local/lib/python3.7/dist-packages (from jaxlib==0.1.65+cuda111) (1.7.3)\n",
            "Requirement already satisfied: numpy>=1.16 in /usr/local/lib/python3.7/dist-packages (from jaxlib==0.1.65+cuda111) (1.21.6)\n",
            "Requirement already satisfied: absl-py in /usr/local/lib/python3.7/dist-packages (from jaxlib==0.1.65+cuda111) (1.2.0)\n",
            "Requirement already satisfied: flatbuffers in /usr/local/lib/python3.7/dist-packages (from jaxlib==0.1.65+cuda111) (22.9.24)\n",
            "Looking in indexes: https://pypi.org/simple, https://us-python.pkg.dev/colab-wheels/public/simple/\n",
            "Requirement already satisfied: jax==0.2.12 in /usr/local/lib/python3.7/dist-packages (0.2.12)\n",
            "Requirement already satisfied: absl-py in /usr/local/lib/python3.7/dist-packages (from jax==0.2.12) (1.2.0)\n",
            "Requirement already satisfied: opt-einsum in /usr/local/lib/python3.7/dist-packages (from jax==0.2.12) (3.3.0)\n",
            "Requirement already satisfied: numpy>=1.12 in /usr/local/lib/python3.7/dist-packages (from jax==0.2.12) (1.21.6)\n",
            "Looking in indexes: https://pypi.org/simple, https://us-python.pkg.dev/colab-wheels/public/simple/\n",
            "Requirement already satisfied: dm-haiku==0.0.5.dev0 in /usr/local/lib/python3.7/dist-packages (0.0.5.dev0)\n",
            "Requirement already satisfied: optax==0.0.6 in /usr/local/lib/python3.7/dist-packages (0.0.6)\n",
            "Requirement already satisfied: chex==0.0.6 in /usr/local/lib/python3.7/dist-packages (0.0.6)\n",
            "Requirement already satisfied: tabulate>=0.8.9 in /usr/local/lib/python3.7/dist-packages (from dm-haiku==0.0.5.dev0) (0.8.10)\n",
            "Requirement already satisfied: absl-py>=0.7.1 in /usr/local/lib/python3.7/dist-packages (from dm-haiku==0.0.5.dev0) (1.2.0)\n",
            "Requirement already satisfied: numpy>=1.18.0 in /usr/local/lib/python3.7/dist-packages (from dm-haiku==0.0.5.dev0) (1.21.6)\n",
            "Requirement already satisfied: typing-extensions in /usr/local/lib/python3.7/dist-packages (from dm-haiku==0.0.5.dev0) (4.1.1)\n",
            "Requirement already satisfied: jax>=0.1.55 in /usr/local/lib/python3.7/dist-packages (from optax==0.0.6) (0.2.12)\n",
            "Requirement already satisfied: jaxlib>=0.1.37 in /usr/local/lib/python3.7/dist-packages (from optax==0.0.6) (0.1.65+cuda111)\n",
            "Requirement already satisfied: toolz>=0.9.0 in /usr/local/lib/python3.7/dist-packages (from chex==0.0.6) (0.12.0)\n",
            "Requirement already satisfied: dm-tree>=0.1.5 in /usr/local/lib/python3.7/dist-packages (from chex==0.0.6) (0.1.7)\n",
            "Requirement already satisfied: opt-einsum in /usr/local/lib/python3.7/dist-packages (from jax>=0.1.55->optax==0.0.6) (3.3.0)\n",
            "Requirement already satisfied: scipy in /usr/local/lib/python3.7/dist-packages (from jaxlib>=0.1.37->optax==0.0.6) (1.7.3)\n",
            "Requirement already satisfied: flatbuffers in /usr/local/lib/python3.7/dist-packages (from jaxlib>=0.1.37->optax==0.0.6) (22.9.24)\n"
          ]
        }
      ],
      "source": [
        "# https://storage.googleapis.com/jax-releases/jax_cuda_releases.html\n",
        "!pip install --upgrade https://storage.googleapis.com/jax-releases/cuda111/jaxlib-0.1.65+cuda111-cp37-none-manylinux2010_x86_64.whl\n",
        "!pip install jax==0.2.12\n",
        "!pip install dm-haiku==0.0.5.dev0 optax==0.0.6 chex==0.0.6"
      ]
    },
    {
      "cell_type": "code",
      "execution_count": null,
      "metadata": {
        "id": "0PH7x7kDFi05"
      },
      "outputs": [],
      "source": [
        "for i, root in enumerate(glob.glob('/content/runs/*/')):\n",
        "  shutil.rmtree(root, ignore_errors=True)"
      ]
    },
    {
      "cell_type": "code",
      "execution_count": null,
      "metadata": {
        "colab": {
          "base_uri": "https://localhost:8080/"
        },
        "id": "d3pvb-GRFk5H",
        "outputId": "9cb19ec1-0605-4fdd-8437-91137d6f22e2"
      },
      "outputs": [
        {
          "name": "stdout",
          "output_type": "stream",
          "text": [
            "JAX sees the following devices: [GpuDevice(id=0, process_index=0)]\n",
            "TF sees the following devices: [PhysicalDevice(name='/physical_device:CPU:0', device_type='CPU')]\n",
            "Namespace(builder_kwargs=None, dataset_name='mlsst/Y10', dir='runs/hmc/mlsst/', ensemble_exclude_metric=None, ensemble_exclude_value=1.0, ensemble_root=None, eval_split=None, image_size=64, init_checkpoint=None, max_num_leapfrog_steps=10000, model_name='lenet', no_mh=False, num_burn_in_iterations=10, num_iterations=20, output_prefix=None, patience=None, scaling='asinh', seed=0, step_size=3e-05, subset_train_to=5000, tabulate_freq=40, temperature=1.0, test_builder_kwargs=None, test_dataset_name=None, test_split='validation', tpu_ip=None, train_split='train', trajectory_len=0.1, use_float64=False, weight_decay=50.0)\n",
            "tcmalloc: large alloc 1154433024 bytes == 0x1b32e000 @  0x7fcbe615fb6b 0x7fcbe617f379 0x7fcb8851d8f7 0x7fcb7690b7af 0x7fcb769a8eb8 0x7fcb8210ab00 0x7fcb8210b093 0x7fcb836b0af2 0x7fcb76ad029b 0x7fcb83784ef1 0x7fcb7c56f1b1 0x7fcb7c56be73 0x7fcb7720a515 0x7fcbe5b416db 0x7fcbe5e7a61f\n",
            "Starting from random initialization with provided seed\n",
            "/content/bnn_hmc/bnn_hmc/utils/script_utils.py:156: VisibleDeprecationWarning: Creating an ndarray from ragged nested sequences (which is a list-or-tuple of lists-or-tuples-or ndarrays with different lengths or shapes) is deprecated. If you meant to do this, you must specify 'dtype=object' when creating the ndarray.\n",
            "  predict_fn(net_apply, params, net_state, test_set))\n",
            "/content/bnn_hmc/bnn_hmc/utils/script_utils.py:158: VisibleDeprecationWarning: Creating an ndarray from ragged nested sequences (which is a list-or-tuple of lists-or-tuples-or ndarrays with different lengths or shapes) is deprecated. If you meant to do this, you must specify 'dtype=object' when creating the ndarray.\n",
            "  predict_fn(net_apply, params, net_state, train_set))\n",
            "---  --------  ----------------  ---------------  ----------  -------------------  --------------  --------------  ----------  ----------\n",
            "  i         t    train/accuracy    test/accuracy    test/nll  test/ens_accuracy    test/ens_nll    test/ens_ece      accept_p    accepted\n",
            "---  --------  ----------------  ---------------  ----------  -------------------  --------------  --------------  ----------  ----------\n",
            "  0  184.3617            0.6182           0.5768      0.9037                                                           0.9922      1.0000\n",
            "  1  184.0815            0.6596           0.5732      0.9646                                                           0.9394      1.0000\n",
            "  2  184.0739            0.6880           0.5690      0.9991                                                           1.0000      1.0000\n",
            "  3  184.1456            0.7342           0.5797      1.0900                                                           1.0000      1.0000\n",
            "  4  184.1123            0.7628           0.5857      1.1020                                                           0.4301      0.0000\n",
            "  5  184.1416            0.7876           0.5806      1.2547                                                           0.2722      0.0000\n",
            "  6  184.0873            0.8004           0.5958      1.2879                                                           1.0000      1.0000\n",
            "  7  184.1279            0.8164           0.6018      1.3256                                                           1.0000      1.0000\n",
            "  8  184.2394            0.8290           0.5991      1.3732                                                           0.2807      0.0000\n",
            "  9  184.1084            0.8390           0.5866      1.4854                                                           0.7014      0.0000\n",
            " 10  184.3634            0.8446           0.5851      1.5323               0.5851          1.5323          0.2606      0.8501      1.0000\n",
            " 11  184.3035            0.8446           0.5851      1.5323                                                           0.5928      0.0000\n",
            " 12  184.2482            0.8612           0.5920      1.5941               0.6209          1.1520          0.1481      0.8558      1.0000\n",
            " 13  184.3461            0.8612           0.5920      1.5941                                                           0.1411      0.0000\n",
            " 14  184.2706            0.8612           0.5920      1.5941                                                           0.3944      0.0000\n",
            " 15  184.2789            0.8628           0.5982      1.6665               0.6268          1.0178          0.1205      0.5032      1.0000\n",
            " 16  184.3175            0.8628           0.5982      1.6665                                                           0.1876      0.0000\n",
            " 17  184.4304            0.8628           0.5982      1.6665                                                           0.3841      0.0000\n",
            " 18  184.2512            0.8628           0.5982      1.6665                                                           0.6799      0.0000\n",
            " 19  184.2840            0.8806           0.6054      1.7279               0.6426          0.9521          0.0917      0.4637      1.0000\n"
          ]
        }
      ],
      "source": [
        "!python3 bnn_hmc/scripts/run_hmc.py --seed=0 --weight_decay=50 --temperature=1.0 \\\n",
        "  --dir=runs/hmc/mlsst/ --dataset_name=mlsst/Y10 --scaling=asinh \\\n",
        "  --model_name=lenet --step_size=3.e-05 --trajectory_len=0.1 \\\n",
        "  --num_iterations=20 --max_num_leapfrog_steps=10000 \\\n",
        "  --num_burn_in_iterations=10 --image_size=64 --train_split=train --test_split=validation --subset_train_to=5000 "
      ]
    },
    {
      "cell_type": "code",
      "execution_count": null,
      "metadata": {
        "colab": {
          "base_uri": "https://localhost:8080/"
        },
        "id": "H0VZtE-yGbct",
        "outputId": "14686221-9794-470b-cb46-5300a31f5c81"
      },
      "outputs": [
        {
          "name": "stdout",
          "output_type": "stream",
          "text": [
            "JAX sees the following devices: [GpuDevice(id=0, process_index=0)]\n",
            "TF sees the following devices: [PhysicalDevice(name='/physical_device:CPU:0', device_type='CPU')]\n",
            "Namespace(builder_kwargs=None, dataset_name='mlsst/Y10', dir='runs/hmc/mlsst/', ensemble_exclude_metric=None, ensemble_exclude_value=1.0, ensemble_root=None, eval_split=None, image_size=64, init_checkpoint=None, max_num_leapfrog_steps=10000, model_name='lenet', no_mh=False, num_burn_in_iterations=10, num_iterations=20, output_prefix=None, patience=None, scaling='asinh', seed=0, step_size=1e-05, subset_train_to=5000, tabulate_freq=40, temperature=1.0, test_builder_kwargs=None, test_dataset_name=None, test_split='validation', tpu_ip=None, train_split='train', trajectory_len=0.1, use_float64=False, weight_decay=50.0)\n",
            "tcmalloc: large alloc 1154433024 bytes == 0x19d7e000 @  0x7f2551a3fb6b 0x7f2551a5f379 0x7f24f3dfd8f7 0x7f24e21eb7af 0x7f24e2288eb8 0x7f24ed9eab00 0x7f24ed9eb093 0x7f24eef90af2 0x7f24e23b029b 0x7f24ef064ef1 0x7f24e7e4f1b1 0x7f24e7e4be73 0x7f24e2aea515 0x7f25514216db 0x7f255175a61f\n",
            "Starting from random initialization with provided seed\n",
            "/content/bnn_hmc/bnn_hmc/utils/script_utils.py:156: VisibleDeprecationWarning: Creating an ndarray from ragged nested sequences (which is a list-or-tuple of lists-or-tuples-or ndarrays with different lengths or shapes) is deprecated. If you meant to do this, you must specify 'dtype=object' when creating the ndarray.\n",
            "  predict_fn(net_apply, params, net_state, test_set))\n",
            "/content/bnn_hmc/bnn_hmc/utils/script_utils.py:158: VisibleDeprecationWarning: Creating an ndarray from ragged nested sequences (which is a list-or-tuple of lists-or-tuples-or ndarrays with different lengths or shapes) is deprecated. If you meant to do this, you must specify 'dtype=object' when creating the ndarray.\n",
            "  predict_fn(net_apply, params, net_state, train_set))\n",
            "---  --------  ----------------  ---------------  ----------  -------------------  --------------  --------------  ----------  ----------\n",
            "  i         t    train/accuracy    test/accuracy    test/nll  test/ens_accuracy    test/ens_nll    test/ens_ece      accept_p    accepted\n",
            "---  --------  ----------------  ---------------  ----------  -------------------  --------------  --------------  ----------  ----------\n",
            "  0  551.2332            0.6124           0.5785      0.9061                                                           0.9768      1.0000\n",
            "  1  550.8627            0.6576           0.5744      0.9384                                                           1.0000      1.0000\n",
            "  2  550.8980            0.6962           0.5925      0.9835                                                           1.0000      1.0000\n",
            "  3  550.8098            0.7422           0.5857      1.0835                                                           0.6077      1.0000\n",
            "  4  550.9003            0.7584           0.5985      1.0697                                                           0.9768      1.0000\n",
            "  5  550.8693            0.7944           0.6024      1.1777                                                           0.2767      0.0000\n",
            "  6  550.8872            0.8084           0.6104      1.2275                                                           1.0000      1.0000\n",
            "  7  550.8476            0.8308           0.5917      1.3163                                                           0.4266      1.0000\n",
            "  8  550.9988            0.8290           0.6027      1.3877                                                           1.0000      1.0000\n",
            "  9  550.8288            0.8510           0.5911      1.4343                                                           0.6494      0.0000\n",
            " 10  550.4401            0.8510           0.5911      1.4343                                                           0.6635      0.0000\n",
            " 11  550.3010            0.8544           0.5905      1.5528               0.5905          1.5528          0.2551      1.0000      1.0000\n",
            " 12  550.4057            0.8544           0.5905      1.5528                                                           0.2847      0.0000\n",
            " 13  550.3104            0.8544           0.5905      1.5528                                                           0.1058      0.0000\n",
            " 14  550.2442            0.8544           0.5905      1.5528                                                           0.6674      0.0000\n",
            " 15  550.2954            0.8544           0.5905      1.5528                                                           0.0968      0.0000\n",
            " 16  550.3021            0.8668           0.5997      1.5456               0.6185          1.1516          0.1484      1.0000      1.0000\n",
            " 17  550.5263            0.8668           0.5997      1.5456                                                           0.2928      0.0000\n",
            " 18  550.3505            0.8668           0.5997      1.5456                                                           0.6625      0.0000\n",
            " 19  550.2643            0.8552           0.6089      1.6386               0.6355          1.0099          0.1152      0.4273      1.0000\n"
          ]
        }
      ],
      "source": [
        "!python3 bnn_hmc/scripts/run_hmc.py --seed=0 --weight_decay=50 --temperature=1.0 \\\n",
        "  --dir=runs/hmc/mlsst/ --dataset_name=mlsst/Y10 --scaling=asinh \\\n",
        "  --model_name=lenet --step_size=1.e-05 --trajectory_len=0.1 \\\n",
        "  --num_iterations=20 --max_num_leapfrog_steps=10000 \\\n",
        "  --num_burn_in_iterations=10 --image_size=64 --train_split=train --test_split=validation --subset_train_to=5000 "
      ]
    },
    {
      "cell_type": "code",
      "execution_count": null,
      "metadata": {
        "id": "GwL2ziUodce0"
      },
      "outputs": [],
      "source": [
        "for i, root in enumerate(glob.glob('/content/runs/*/')):\n",
        "  shutil.rmtree(root, ignore_errors=True)"
      ]
    },
    {
      "cell_type": "code",
      "execution_count": null,
      "metadata": {
        "colab": {
          "base_uri": "https://localhost:8080/"
        },
        "id": "1qeb2kvMaD7Y",
        "outputId": "eddc1fcf-cb69-44e8-ea98-18f9d731fe84"
      },
      "outputs": [
        {
          "name": "stdout",
          "output_type": "stream",
          "text": [
            "JAX sees the following devices: [GpuDevice(id=0, process_index=0)]\n",
            "TF sees the following devices: [PhysicalDevice(name='/physical_device:CPU:0', device_type='CPU')]\n",
            "Namespace(builder_kwargs=None, dataset_name='mlsst/Y10', dir='runs/hmc/mlsst/', ensemble_exclude_metric=None, ensemble_exclude_value=1.0, ensemble_root=None, eval_split=None, image_size=64, init_checkpoint=None, max_num_leapfrog_steps=10000, model_name='lenet', no_mh=False, num_burn_in_iterations=10, num_iterations=20, output_prefix=None, patience=None, scaling='asinh', seed=0, step_size=3e-05, subset_train_to=20000, tabulate_freq=40, temperature=1.0, test_builder_kwargs=None, test_dataset_name=None, test_split='validation', tpu_ip=None, train_split='train', trajectory_len=0.1, use_float64=False, weight_decay=50.0)\n",
            "tcmalloc: large alloc 1154433024 bytes == 0x1a716000 @  0x7fc159773b6b 0x7fc159793379 0x7fc0fbb318f7 0x7fc0e9f1f7af 0x7fc0e9fbceb8 0x7fc0f571eb00 0x7fc0f571f093 0x7fc0f6cc4af2 0x7fc0ea0e429b 0x7fc0f6d98ef1 0x7fc0efb831b1 0x7fc0efb7fe73 0x7fc0ea81e515 0x7fc1591556db 0x7fc15948e61f\n",
            "Starting from random initialization with provided seed\n",
            "/content/bnn_hmc/bnn_hmc/utils/script_utils.py:156: VisibleDeprecationWarning: Creating an ndarray from ragged nested sequences (which is a list-or-tuple of lists-or-tuples-or ndarrays with different lengths or shapes) is deprecated. If you meant to do this, you must specify 'dtype=object' when creating the ndarray.\n",
            "  predict_fn(net_apply, params, net_state, test_set))\n",
            "/content/bnn_hmc/bnn_hmc/utils/script_utils.py:158: VisibleDeprecationWarning: Creating an ndarray from ragged nested sequences (which is a list-or-tuple of lists-or-tuples-or ndarrays with different lengths or shapes) is deprecated. If you meant to do this, you must specify 'dtype=object' when creating the ndarray.\n",
            "  predict_fn(net_apply, params, net_state, train_set))\n",
            "---  --------  ----------------  ---------------  ----------  -------------------  --------------  --------------  ----------  ----------\n",
            "  i         t    train/accuracy    test/accuracy    test/nll  test/ens_accuracy    test/ens_nll    test/ens_ece      accept_p    accepted\n",
            "---  --------  ----------------  ---------------  ----------  -------------------  --------------  --------------  ----------  ----------\n",
            "  0  778.2816            0.6147           0.6170      0.8381                                                           1.0000      1.0000\n",
            "  1  777.6014            0.6752           0.6429      0.8047                                                           0.9505      1.0000\n",
            "  2  777.6151            0.7316           0.6715      0.7962                                                           1.0000      1.0000\n",
            "  3  777.5517            0.7734           0.6745      0.8142                                                           1.0000      1.0000\n",
            "  4  777.5474            0.8068           0.6966      0.8391                                                           0.0287      0.0000\n",
            "  5  777.6389            0.8377           0.7013      0.9081                                                           1.0000      1.0000\n",
            "  6  777.6431            0.8660           0.7073      1.0063                                                           1.0000      1.0000\n",
            "  7  777.6690            0.8870           0.7294      1.0600                                                           0.0001      0.0000\n",
            "  8  777.7715            0.8992           0.7347      1.2528                                                           0.0000      0.0000\n",
            "  9  777.6623            0.9143           0.7350      1.2695                                                           0.0713      0.0000\n",
            " 10  780.3080            0.9143           0.7350      1.2695                                                           0.0000      0.0000\n",
            " 11  780.1827            0.9143           0.7350      1.2695                                                           0.0001      0.0000\n",
            " 12  780.1822            0.9143           0.7350      1.2695                                                           0.0000      0.0000\n",
            "^C\n"
          ]
        }
      ],
      "source": [
        "!python3 bnn_hmc/scripts/run_hmc.py --seed=0 --weight_decay=50 --temperature=1.0 \\\n",
        "  --dir=runs/hmc/mlsst/ --dataset_name=mlsst/Y10 --scaling=asinh \\\n",
        "  --model_name=lenet --step_size=3e-05 --trajectory_len=0.1 \\\n",
        "  --num_iterations=20 --max_num_leapfrog_steps=10000 \\\n",
        "  --num_burn_in_iterations=10 --image_size=64 --train_split=train --test_split=validation --subset_train_to=20000"
      ]
    },
    {
      "cell_type": "code",
      "execution_count": null,
      "metadata": {
        "colab": {
          "background_save": true,
          "base_uri": "https://localhost:8080/"
        },
        "id": "4LkR8FddddpR",
        "outputId": "d9cd9008-5d51-44c9-9bcf-92957cf5d92e"
      },
      "outputs": [
        {
          "name": "stdout",
          "output_type": "stream",
          "text": [
            "JAX sees the following devices: [GpuDevice(id=0, process_index=0)]\n",
            "TF sees the following devices: [PhysicalDevice(name='/physical_device:CPU:0', device_type='CPU')]\n",
            "Namespace(builder_kwargs=None, dataset_name='mlsst/Y10', dir='runs/hmc/mlsst/', ensemble_exclude_metric=None, ensemble_exclude_value=1.0, ensemble_root=None, eval_split=None, image_size=64, init_checkpoint=None, max_num_leapfrog_steps=10000, model_name='lenet', no_mh=False, num_burn_in_iterations=10, num_iterations=20, output_prefix=None, patience=None, scaling='asinh', seed=0, step_size=1e-05, subset_train_to=20000, tabulate_freq=40, temperature=1.0, test_builder_kwargs=None, test_dataset_name=None, test_split='validation', tpu_ip=None, train_split='train', trajectory_len=0.1, use_float64=False, weight_decay=50.0)\n",
            "tcmalloc: large alloc 1154433024 bytes == 0x1c674000 @  0x7fa4be13db6b 0x7fa4be15d379 0x7fa4604fb8f7 0x7fa44e8e97af 0x7fa44e986eb8 0x7fa45a0e8b00 0x7fa45a0e9093 0x7fa45b68eaf2 0x7fa44eaae29b 0x7fa45b762ef1 0x7fa45454d1b1 0x7fa454549e73 0x7fa44f1e8515 0x7fa4bdb1f6db 0x7fa4bde5861f\n",
            "Starting from random initialization with provided seed\n",
            "/content/bnn_hmc/bnn_hmc/utils/script_utils.py:156: VisibleDeprecationWarning: Creating an ndarray from ragged nested sequences (which is a list-or-tuple of lists-or-tuples-or ndarrays with different lengths or shapes) is deprecated. If you meant to do this, you must specify 'dtype=object' when creating the ndarray.\n",
            "  predict_fn(net_apply, params, net_state, test_set))\n",
            "/content/bnn_hmc/bnn_hmc/utils/script_utils.py:158: VisibleDeprecationWarning: Creating an ndarray from ragged nested sequences (which is a list-or-tuple of lists-or-tuples-or ndarrays with different lengths or shapes) is deprecated. If you meant to do this, you must specify 'dtype=object' when creating the ndarray.\n",
            "  predict_fn(net_apply, params, net_state, train_set))\n",
            "---  ---------  ----------------  ---------------  ----------  -------------------  --------------  --------------  ----------  ----------\n",
            "  i          t    train/accuracy    test/accuracy    test/nll  test/ens_accuracy    test/ens_nll    test/ens_ece      accept_p    accepted\n",
            "---  ---------  ----------------  ---------------  ----------  -------------------  --------------  --------------  ----------  ----------\n",
            "  0  2335.7200            0.6138           0.6137      0.8387                                                           1.0000      1.0000\n",
            "  1  2334.2377            0.6737           0.6405      0.7904                                                           1.0000      1.0000\n",
            "  2  2334.2748            0.7379           0.6572      0.7846                                                           0.8999      1.0000\n",
            "  3  2334.1888            0.7709           0.6802      0.7807                                                           0.2417      0.0000\n",
            "  4  2334.2797            0.8170           0.6981      0.8655                                                           0.0000      0.0000\n",
            "  5  2334.2892            0.8488           0.7180      0.8976                                                           0.0010      0.0000\n",
            "  6  2334.2543            0.8797           0.7255      1.0738                                                           1.0000      1.0000\n",
            "  7  2334.3666            0.8970           0.7329      1.1759                                                           0.0334      0.0000\n",
            "  8  2334.5472            0.9142           0.7335      1.3222                                                           0.0005      0.0000\n",
            "  9  2334.3939            0.9287           0.7377      1.4556                                                           0.3634      0.0000\n",
            " 10  2337.6097            0.9287           0.7377      1.4556                                                           0.0048      0.0000\n",
            " 11  2337.5515            0.9287           0.7377      1.4556                                                           0.0000      0.0000\n",
            " 12  2337.5505            0.9287           0.7377      1.4556                                                           0.0000      0.0000\n",
            " 13  2337.6158            0.9287           0.7377      1.4556                                                           0.0000      0.0000\n",
            " 14  2337.6278            0.9287           0.7377      1.4556                                                           0.0724      0.0000\n",
            " 15  2337.6138            0.9287           0.7377      1.4556                                                           0.0001      0.0000\n",
            " 16  2337.6211            0.9287           0.7377      1.4556                                                           0.0000      0.0000\n",
            " 17  2337.5535            0.9287           0.7377      1.4556                                                           0.0000      0.0000\n",
            " 18  2337.7211            0.9287           0.7377      1.4556                                                           0.0001      0.0000\n",
            " 19  2337.5379            0.9287           0.7377      1.4556                                                           0.0000      0.0000\n"
          ]
        }
      ],
      "source": [
        "!python3 bnn_hmc/scripts/run_hmc.py --seed=0 --weight_decay=50 --temperature=1.0 \\\n",
        "  --dir=runs/hmc/mlsst/ --dataset_name=mlsst/Y10 --scaling=asinh \\\n",
        "  --model_name=lenet --step_size=1e-05 --trajectory_len=0.1 \\\n",
        "  --num_iterations=20 --max_num_leapfrog_steps=10000 \\\n",
        "  --num_burn_in_iterations=10 --image_size=64 --train_split=train --test_split=validation --subset_train_to=20000"
      ]
    },
    {
      "cell_type": "code",
      "source": [],
      "metadata": {
        "id": "JXYgYVKa33bu"
      },
      "execution_count": null,
      "outputs": []
    }
  ],
  "metadata": {
    "accelerator": "GPU",
    "colab": {
      "provenance": [],
      "authorship_tag": "ABX9TyOq0DrM+OTYG2AjqPpzdBsX",
      "include_colab_link": true
    },
    "gpuClass": "premium",
    "kernelspec": {
      "display_name": "Python 3",
      "name": "python3"
    },
    "language_info": {
      "name": "python"
    }
  },
  "nbformat": 4,
  "nbformat_minor": 0
}