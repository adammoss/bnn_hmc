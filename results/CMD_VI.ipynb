{
  "nbformat": 4,
  "nbformat_minor": 0,
  "metadata": {
    "colab": {
      "name": "CMD_VI.ipynb",
      "provenance": [],
      "background_execution": "on",
      "machine_shape": "hm",
      "authorship_tag": "ABX9TyOsfe2CnKdzsixuanMxHsP+",
      "include_colab_link": true
    },
    "kernelspec": {
      "name": "python3",
      "display_name": "Python 3"
    },
    "language_info": {
      "name": "python"
    },
    "accelerator": "GPU",
    "gpuClass": "standard"
  },
  "cells": [
    {
      "cell_type": "markdown",
      "metadata": {
        "id": "view-in-github",
        "colab_type": "text"
      },
      "source": [
        "<a href=\"https://colab.research.google.com/github/adammoss/bnn_hmc/blob/main/results/CMD_VI.ipynb\" target=\"_parent\"><img src=\"https://colab.research.google.com/assets/colab-badge.svg\" alt=\"Open In Colab\"/></a>"
      ]
    },
    {
      "cell_type": "code",
      "execution_count": 1,
      "metadata": {
        "id": "mJl9_xfKbsGE"
      },
      "outputs": [],
      "source": [
        "import os\n",
        "import sys\n",
        "import shutil\n",
        "import subprocess\n",
        "import glob\n",
        "import matplotlib.pyplot as plt\n",
        "import seaborn as sns\n",
        "import numpy as np"
      ]
    },
    {
      "cell_type": "code",
      "source": [
        "!nvidia-smi"
      ],
      "metadata": {
        "colab": {
          "base_uri": "https://localhost:8080/"
        },
        "id": "KuJcZeZfntZA",
        "outputId": "388b328a-c2a9-4ab9-be6d-b48aa68bf602"
      },
      "execution_count": 2,
      "outputs": [
        {
          "output_type": "stream",
          "name": "stdout",
          "text": [
            "Tue Aug 23 18:15:19 2022       \n",
            "+-----------------------------------------------------------------------------+\n",
            "| NVIDIA-SMI 460.32.03    Driver Version: 460.32.03    CUDA Version: 11.2     |\n",
            "|-------------------------------+----------------------+----------------------+\n",
            "| GPU  Name        Persistence-M| Bus-Id        Disp.A | Volatile Uncorr. ECC |\n",
            "| Fan  Temp  Perf  Pwr:Usage/Cap|         Memory-Usage | GPU-Util  Compute M. |\n",
            "|                               |                      |               MIG M. |\n",
            "|===============================+======================+======================|\n",
            "|   0  Tesla V100-SXM2...  Off  | 00000000:00:04.0 Off |                    0 |\n",
            "| N/A   43C    P0    50W / 300W |      0MiB / 16160MiB |      0%      Default |\n",
            "|                               |                      |                  N/A |\n",
            "+-------------------------------+----------------------+----------------------+\n",
            "                                                                               \n",
            "+-----------------------------------------------------------------------------+\n",
            "| Processes:                                                                  |\n",
            "|  GPU   GI   CI        PID   Type   Process name                  GPU Memory |\n",
            "|        ID   ID                                                   Usage      |\n",
            "|=============================================================================|\n",
            "|  No running processes found                                                 |\n",
            "+-----------------------------------------------------------------------------+\n"
          ]
        }
      ]
    },
    {
      "cell_type": "code",
      "source": [
        "!pip install astro-datasets --upgrade\n",
        "!pip install tensorflow_datasets --upgrade"
      ],
      "metadata": {
        "colab": {
          "base_uri": "https://localhost:8080/"
        },
        "id": "yv5bS1FsnxkW",
        "outputId": "dec5efdd-af28-4813-f759-77a7b332bd8e"
      },
      "execution_count": 3,
      "outputs": [
        {
          "output_type": "stream",
          "name": "stdout",
          "text": [
            "Looking in indexes: https://pypi.org/simple, https://us-python.pkg.dev/colab-wheels/public/simple/\n",
            "Requirement already satisfied: astro-datasets in /usr/local/lib/python3.7/dist-packages (0.0.10)\n",
            "Requirement already satisfied: tensorflow-datasets in /usr/local/lib/python3.7/dist-packages (from astro-datasets) (4.6.0)\n",
            "Requirement already satisfied: numpy in /usr/local/lib/python3.7/dist-packages (from astro-datasets) (1.21.6)\n",
            "Requirement already satisfied: tensorflow in /usr/local/lib/python3.7/dist-packages (from astro-datasets) (2.8.2+zzzcolab20220719082949)\n",
            "Requirement already satisfied: pandas in /usr/local/lib/python3.7/dist-packages (from astro-datasets) (1.3.5)\n",
            "Requirement already satisfied: pytz>=2017.3 in /usr/local/lib/python3.7/dist-packages (from pandas->astro-datasets) (2022.2.1)\n",
            "Requirement already satisfied: python-dateutil>=2.7.3 in /usr/local/lib/python3.7/dist-packages (from pandas->astro-datasets) (2.8.2)\n",
            "Requirement already satisfied: six>=1.5 in /usr/local/lib/python3.7/dist-packages (from python-dateutil>=2.7.3->pandas->astro-datasets) (1.15.0)\n",
            "Requirement already satisfied: tensorflow-io-gcs-filesystem>=0.23.1 in /usr/local/lib/python3.7/dist-packages (from tensorflow->astro-datasets) (0.26.0)\n",
            "Requirement already satisfied: flatbuffers>=1.12 in /usr/local/lib/python3.7/dist-packages (from tensorflow->astro-datasets) (2.0)\n",
            "Requirement already satisfied: h5py>=2.9.0 in /usr/local/lib/python3.7/dist-packages (from tensorflow->astro-datasets) (3.1.0)\n",
            "Requirement already satisfied: setuptools in /usr/local/lib/python3.7/dist-packages (from tensorflow->astro-datasets) (57.4.0)\n",
            "Requirement already satisfied: protobuf<3.20,>=3.9.2 in /usr/local/lib/python3.7/dist-packages (from tensorflow->astro-datasets) (3.17.3)\n",
            "Requirement already satisfied: typing-extensions>=3.6.6 in /usr/local/lib/python3.7/dist-packages (from tensorflow->astro-datasets) (4.1.1)\n",
            "Requirement already satisfied: grpcio<2.0,>=1.24.3 in /usr/local/lib/python3.7/dist-packages (from tensorflow->astro-datasets) (1.47.0)\n",
            "Requirement already satisfied: absl-py>=0.4.0 in /usr/local/lib/python3.7/dist-packages (from tensorflow->astro-datasets) (1.2.0)\n",
            "Requirement already satisfied: gast>=0.2.1 in /usr/local/lib/python3.7/dist-packages (from tensorflow->astro-datasets) (0.5.3)\n",
            "Requirement already satisfied: tensorflow-estimator<2.9,>=2.8 in /usr/local/lib/python3.7/dist-packages (from tensorflow->astro-datasets) (2.8.0)\n",
            "Requirement already satisfied: keras<2.9,>=2.8.0rc0 in /usr/local/lib/python3.7/dist-packages (from tensorflow->astro-datasets) (2.8.0)\n",
            "Requirement already satisfied: wrapt>=1.11.0 in /usr/local/lib/python3.7/dist-packages (from tensorflow->astro-datasets) (1.14.1)\n",
            "Requirement already satisfied: astunparse>=1.6.0 in /usr/local/lib/python3.7/dist-packages (from tensorflow->astro-datasets) (1.6.3)\n",
            "Requirement already satisfied: libclang>=9.0.1 in /usr/local/lib/python3.7/dist-packages (from tensorflow->astro-datasets) (14.0.6)\n",
            "Requirement already satisfied: google-pasta>=0.1.1 in /usr/local/lib/python3.7/dist-packages (from tensorflow->astro-datasets) (0.2.0)\n",
            "Requirement already satisfied: keras-preprocessing>=1.1.1 in /usr/local/lib/python3.7/dist-packages (from tensorflow->astro-datasets) (1.1.2)\n",
            "Requirement already satisfied: tensorboard<2.9,>=2.8 in /usr/local/lib/python3.7/dist-packages (from tensorflow->astro-datasets) (2.8.0)\n",
            "Requirement already satisfied: opt-einsum>=2.3.2 in /usr/local/lib/python3.7/dist-packages (from tensorflow->astro-datasets) (3.3.0)\n",
            "Requirement already satisfied: termcolor>=1.1.0 in /usr/local/lib/python3.7/dist-packages (from tensorflow->astro-datasets) (1.1.0)\n",
            "Requirement already satisfied: wheel<1.0,>=0.23.0 in /usr/local/lib/python3.7/dist-packages (from astunparse>=1.6.0->tensorflow->astro-datasets) (0.37.1)\n",
            "Requirement already satisfied: cached-property in /usr/local/lib/python3.7/dist-packages (from h5py>=2.9.0->tensorflow->astro-datasets) (1.5.2)\n",
            "Requirement already satisfied: google-auth-oauthlib<0.5,>=0.4.1 in /usr/local/lib/python3.7/dist-packages (from tensorboard<2.9,>=2.8->tensorflow->astro-datasets) (0.4.6)\n",
            "Requirement already satisfied: requests<3,>=2.21.0 in /usr/local/lib/python3.7/dist-packages (from tensorboard<2.9,>=2.8->tensorflow->astro-datasets) (2.23.0)\n",
            "Requirement already satisfied: tensorboard-data-server<0.7.0,>=0.6.0 in /usr/local/lib/python3.7/dist-packages (from tensorboard<2.9,>=2.8->tensorflow->astro-datasets) (0.6.1)\n",
            "Requirement already satisfied: tensorboard-plugin-wit>=1.6.0 in /usr/local/lib/python3.7/dist-packages (from tensorboard<2.9,>=2.8->tensorflow->astro-datasets) (1.8.1)\n",
            "Requirement already satisfied: markdown>=2.6.8 in /usr/local/lib/python3.7/dist-packages (from tensorboard<2.9,>=2.8->tensorflow->astro-datasets) (3.4.1)\n",
            "Requirement already satisfied: google-auth<3,>=1.6.3 in /usr/local/lib/python3.7/dist-packages (from tensorboard<2.9,>=2.8->tensorflow->astro-datasets) (1.35.0)\n",
            "Requirement already satisfied: werkzeug>=0.11.15 in /usr/local/lib/python3.7/dist-packages (from tensorboard<2.9,>=2.8->tensorflow->astro-datasets) (1.0.1)\n",
            "Requirement already satisfied: pyasn1-modules>=0.2.1 in /usr/local/lib/python3.7/dist-packages (from google-auth<3,>=1.6.3->tensorboard<2.9,>=2.8->tensorflow->astro-datasets) (0.2.8)\n",
            "Requirement already satisfied: cachetools<5.0,>=2.0.0 in /usr/local/lib/python3.7/dist-packages (from google-auth<3,>=1.6.3->tensorboard<2.9,>=2.8->tensorflow->astro-datasets) (4.2.4)\n",
            "Requirement already satisfied: rsa<5,>=3.1.4 in /usr/local/lib/python3.7/dist-packages (from google-auth<3,>=1.6.3->tensorboard<2.9,>=2.8->tensorflow->astro-datasets) (4.9)\n",
            "Requirement already satisfied: requests-oauthlib>=0.7.0 in /usr/local/lib/python3.7/dist-packages (from google-auth-oauthlib<0.5,>=0.4.1->tensorboard<2.9,>=2.8->tensorflow->astro-datasets) (1.3.1)\n",
            "Requirement already satisfied: importlib-metadata>=4.4 in /usr/local/lib/python3.7/dist-packages (from markdown>=2.6.8->tensorboard<2.9,>=2.8->tensorflow->astro-datasets) (4.12.0)\n",
            "Requirement already satisfied: zipp>=0.5 in /usr/local/lib/python3.7/dist-packages (from importlib-metadata>=4.4->markdown>=2.6.8->tensorboard<2.9,>=2.8->tensorflow->astro-datasets) (3.8.1)\n",
            "Requirement already satisfied: pyasn1<0.5.0,>=0.4.6 in /usr/local/lib/python3.7/dist-packages (from pyasn1-modules>=0.2.1->google-auth<3,>=1.6.3->tensorboard<2.9,>=2.8->tensorflow->astro-datasets) (0.4.8)\n",
            "Requirement already satisfied: certifi>=2017.4.17 in /usr/local/lib/python3.7/dist-packages (from requests<3,>=2.21.0->tensorboard<2.9,>=2.8->tensorflow->astro-datasets) (2022.6.15)\n",
            "Requirement already satisfied: chardet<4,>=3.0.2 in /usr/local/lib/python3.7/dist-packages (from requests<3,>=2.21.0->tensorboard<2.9,>=2.8->tensorflow->astro-datasets) (3.0.4)\n",
            "Requirement already satisfied: idna<3,>=2.5 in /usr/local/lib/python3.7/dist-packages (from requests<3,>=2.21.0->tensorboard<2.9,>=2.8->tensorflow->astro-datasets) (2.10)\n",
            "Requirement already satisfied: urllib3!=1.25.0,!=1.25.1,<1.26,>=1.21.1 in /usr/local/lib/python3.7/dist-packages (from requests<3,>=2.21.0->tensorboard<2.9,>=2.8->tensorflow->astro-datasets) (1.24.3)\n",
            "Requirement already satisfied: oauthlib>=3.0.0 in /usr/local/lib/python3.7/dist-packages (from requests-oauthlib>=0.7.0->google-auth-oauthlib<0.5,>=0.4.1->tensorboard<2.9,>=2.8->tensorflow->astro-datasets) (3.2.0)\n",
            "Requirement already satisfied: tqdm in /usr/local/lib/python3.7/dist-packages (from tensorflow-datasets->astro-datasets) (4.64.0)\n",
            "Requirement already satisfied: toml in /usr/local/lib/python3.7/dist-packages (from tensorflow-datasets->astro-datasets) (0.10.2)\n",
            "Requirement already satisfied: importlib-resources in /usr/local/lib/python3.7/dist-packages (from tensorflow-datasets->astro-datasets) (5.9.0)\n",
            "Requirement already satisfied: etils[epath] in /usr/local/lib/python3.7/dist-packages (from tensorflow-datasets->astro-datasets) (0.7.1)\n",
            "Requirement already satisfied: promise in /usr/local/lib/python3.7/dist-packages (from tensorflow-datasets->astro-datasets) (2.3)\n",
            "Requirement already satisfied: dill in /usr/local/lib/python3.7/dist-packages (from tensorflow-datasets->astro-datasets) (0.3.5.1)\n",
            "Requirement already satisfied: tensorflow-metadata in /usr/local/lib/python3.7/dist-packages (from tensorflow-datasets->astro-datasets) (1.9.0)\n",
            "Requirement already satisfied: googleapis-common-protos<2,>=1.52.0 in /usr/local/lib/python3.7/dist-packages (from tensorflow-metadata->tensorflow-datasets->astro-datasets) (1.56.4)\n",
            "Looking in indexes: https://pypi.org/simple, https://us-python.pkg.dev/colab-wheels/public/simple/\n",
            "Requirement already satisfied: tensorflow_datasets in /usr/local/lib/python3.7/dist-packages (4.6.0)\n",
            "Requirement already satisfied: numpy in /usr/local/lib/python3.7/dist-packages (from tensorflow_datasets) (1.21.6)\n",
            "Requirement already satisfied: dill in /usr/local/lib/python3.7/dist-packages (from tensorflow_datasets) (0.3.5.1)\n",
            "Requirement already satisfied: importlib-resources in /usr/local/lib/python3.7/dist-packages (from tensorflow_datasets) (5.9.0)\n",
            "Requirement already satisfied: toml in /usr/local/lib/python3.7/dist-packages (from tensorflow_datasets) (0.10.2)\n",
            "Requirement already satisfied: absl-py in /usr/local/lib/python3.7/dist-packages (from tensorflow_datasets) (1.2.0)\n",
            "Requirement already satisfied: tensorflow-metadata in /usr/local/lib/python3.7/dist-packages (from tensorflow_datasets) (1.9.0)\n",
            "Requirement already satisfied: tqdm in /usr/local/lib/python3.7/dist-packages (from tensorflow_datasets) (4.64.0)\n",
            "Requirement already satisfied: typing-extensions in /usr/local/lib/python3.7/dist-packages (from tensorflow_datasets) (4.1.1)\n",
            "Requirement already satisfied: promise in /usr/local/lib/python3.7/dist-packages (from tensorflow_datasets) (2.3)\n",
            "Requirement already satisfied: etils[epath] in /usr/local/lib/python3.7/dist-packages (from tensorflow_datasets) (0.7.1)\n",
            "Requirement already satisfied: termcolor in /usr/local/lib/python3.7/dist-packages (from tensorflow_datasets) (1.1.0)\n",
            "Requirement already satisfied: protobuf>=3.12.2 in /usr/local/lib/python3.7/dist-packages (from tensorflow_datasets) (3.17.3)\n",
            "Requirement already satisfied: six in /usr/local/lib/python3.7/dist-packages (from tensorflow_datasets) (1.15.0)\n",
            "Requirement already satisfied: requests>=2.19.0 in /usr/local/lib/python3.7/dist-packages (from tensorflow_datasets) (2.23.0)\n",
            "Requirement already satisfied: certifi>=2017.4.17 in /usr/local/lib/python3.7/dist-packages (from requests>=2.19.0->tensorflow_datasets) (2022.6.15)\n",
            "Requirement already satisfied: idna<3,>=2.5 in /usr/local/lib/python3.7/dist-packages (from requests>=2.19.0->tensorflow_datasets) (2.10)\n",
            "Requirement already satisfied: urllib3!=1.25.0,!=1.25.1,<1.26,>=1.21.1 in /usr/local/lib/python3.7/dist-packages (from requests>=2.19.0->tensorflow_datasets) (1.24.3)\n",
            "Requirement already satisfied: chardet<4,>=3.0.2 in /usr/local/lib/python3.7/dist-packages (from requests>=2.19.0->tensorflow_datasets) (3.0.4)\n",
            "Requirement already satisfied: zipp in /usr/local/lib/python3.7/dist-packages (from etils[epath]->tensorflow_datasets) (3.8.1)\n",
            "Requirement already satisfied: googleapis-common-protos<2,>=1.52.0 in /usr/local/lib/python3.7/dist-packages (from tensorflow-metadata->tensorflow_datasets) (1.56.4)\n"
          ]
        }
      ]
    },
    {
      "cell_type": "code",
      "source": [
        "shutil.rmtree('bnn_hmc', ignore_errors=True)"
      ],
      "metadata": {
        "id": "tuE-W3DGn1Kz"
      },
      "execution_count": 4,
      "outputs": []
    },
    {
      "cell_type": "code",
      "source": [
        "!git clone https://github.com/adammoss/bnn_hmc"
      ],
      "metadata": {
        "colab": {
          "base_uri": "https://localhost:8080/"
        },
        "id": "XnS4Dpfen4ag",
        "outputId": "56aba653-12bf-4529-d75d-ee7b81c427b0"
      },
      "execution_count": 5,
      "outputs": [
        {
          "output_type": "stream",
          "name": "stdout",
          "text": [
            "Cloning into 'bnn_hmc'...\n",
            "remote: Enumerating objects: 491, done.\u001b[K\n",
            "remote: Counting objects: 100% (203/203), done.\u001b[K\n",
            "remote: Compressing objects: 100% (145/145), done.\u001b[K\n",
            "remote: Total 491 (delta 144), reused 93 (delta 58), pack-reused 288\u001b[K\n",
            "Receiving objects: 100% (491/491), 943.70 KiB | 18.15 MiB/s, done.\n",
            "Resolving deltas: 100% (338/338), done.\n"
          ]
        }
      ]
    },
    {
      "cell_type": "code",
      "source": [
        "# https://storage.googleapis.com/jax-releases/jax_cuda_releases.html\n",
        "!pip install --upgrade https://storage.googleapis.com/jax-releases/cuda111/jaxlib-0.1.65+cuda111-cp37-none-manylinux2010_x86_64.whl\n",
        "!pip install jax==0.2.12\n",
        "!pip install dm-haiku==0.0.5.dev0 optax==0.0.6 chex==0.0.6"
      ],
      "metadata": {
        "colab": {
          "base_uri": "https://localhost:8080/"
        },
        "id": "OTEjMYEin6OH",
        "outputId": "5a316c1c-f97b-4752-8673-da410cfe36df"
      },
      "execution_count": 6,
      "outputs": [
        {
          "output_type": "stream",
          "name": "stdout",
          "text": [
            "Looking in indexes: https://pypi.org/simple, https://us-python.pkg.dev/colab-wheels/public/simple/\n",
            "Collecting jaxlib==0.1.65+cuda111\n",
            "  Using cached https://storage.googleapis.com/jax-releases/cuda111/jaxlib-0.1.65+cuda111-cp37-none-manylinux2010_x86_64.whl (189.4 MB)\n",
            "Requirement already satisfied: numpy>=1.16 in /usr/local/lib/python3.7/dist-packages (from jaxlib==0.1.65+cuda111) (1.21.6)\n",
            "Requirement already satisfied: absl-py in /usr/local/lib/python3.7/dist-packages (from jaxlib==0.1.65+cuda111) (1.2.0)\n",
            "Requirement already satisfied: scipy in /usr/local/lib/python3.7/dist-packages (from jaxlib==0.1.65+cuda111) (1.7.3)\n",
            "Requirement already satisfied: flatbuffers in /usr/local/lib/python3.7/dist-packages (from jaxlib==0.1.65+cuda111) (2.0)\n",
            "Looking in indexes: https://pypi.org/simple, https://us-python.pkg.dev/colab-wheels/public/simple/\n",
            "Requirement already satisfied: jax==0.2.12 in /usr/local/lib/python3.7/dist-packages (0.2.12)\n",
            "Requirement already satisfied: numpy>=1.12 in /usr/local/lib/python3.7/dist-packages (from jax==0.2.12) (1.21.6)\n",
            "Requirement already satisfied: opt-einsum in /usr/local/lib/python3.7/dist-packages (from jax==0.2.12) (3.3.0)\n",
            "Requirement already satisfied: absl-py in /usr/local/lib/python3.7/dist-packages (from jax==0.2.12) (1.2.0)\n",
            "Looking in indexes: https://pypi.org/simple, https://us-python.pkg.dev/colab-wheels/public/simple/\n",
            "Requirement already satisfied: dm-haiku==0.0.5.dev0 in /usr/local/lib/python3.7/dist-packages (0.0.5.dev0)\n",
            "Requirement already satisfied: optax==0.0.6 in /usr/local/lib/python3.7/dist-packages (0.0.6)\n",
            "Requirement already satisfied: chex==0.0.6 in /usr/local/lib/python3.7/dist-packages (0.0.6)\n",
            "Requirement already satisfied: typing-extensions in /usr/local/lib/python3.7/dist-packages (from dm-haiku==0.0.5.dev0) (4.1.1)\n",
            "Requirement already satisfied: tabulate>=0.8.9 in /usr/local/lib/python3.7/dist-packages (from dm-haiku==0.0.5.dev0) (0.8.10)\n",
            "Requirement already satisfied: absl-py>=0.7.1 in /usr/local/lib/python3.7/dist-packages (from dm-haiku==0.0.5.dev0) (1.2.0)\n",
            "Requirement already satisfied: numpy>=1.18.0 in /usr/local/lib/python3.7/dist-packages (from dm-haiku==0.0.5.dev0) (1.21.6)\n",
            "Requirement already satisfied: jaxlib>=0.1.37 in /usr/local/lib/python3.7/dist-packages (from optax==0.0.6) (0.1.65+cuda111)\n",
            "Requirement already satisfied: jax>=0.1.55 in /usr/local/lib/python3.7/dist-packages (from optax==0.0.6) (0.2.12)\n",
            "Requirement already satisfied: dm-tree>=0.1.5 in /usr/local/lib/python3.7/dist-packages (from chex==0.0.6) (0.1.7)\n",
            "Requirement already satisfied: toolz>=0.9.0 in /usr/local/lib/python3.7/dist-packages (from chex==0.0.6) (0.12.0)\n",
            "Requirement already satisfied: opt-einsum in /usr/local/lib/python3.7/dist-packages (from jax>=0.1.55->optax==0.0.6) (3.3.0)\n",
            "Requirement already satisfied: flatbuffers in /usr/local/lib/python3.7/dist-packages (from jaxlib>=0.1.37->optax==0.0.6) (2.0)\n",
            "Requirement already satisfied: scipy in /usr/local/lib/python3.7/dist-packages (from jaxlib>=0.1.37->optax==0.0.6) (1.7.3)\n"
          ]
        }
      ]
    },
    {
      "cell_type": "code",
      "source": [
        "for i, root in enumerate(glob.glob('/content/runs/*/')):\n",
        "  shutil.rmtree(root, ignore_errors=True)"
      ],
      "metadata": {
        "id": "nljNKFMtn9KN"
      },
      "execution_count": 7,
      "outputs": []
    },
    {
      "cell_type": "code",
      "source": [
        "!python3 bnn_hmc/scripts/run_vi.py --seed=1 --weight_decay=5. --dir=runs/vi/cmd/ \\\n",
        "  --dataset_name=cmd --model_name=lenet --scaling=asinh --image_size=64 \\\n",
        "  --init_step_size=1e-4 --num_epochs=200 --eval_freq=5 --batch_size=100 --patience 20\\\n",
        "  --save_freq=300 --optimizer=Adam --builder_kwargs='{\"simulation\": \"IllustrisTNG\", \"field\": \"Mtot\", \"parameters\": [\"omegam\"]}' \\\n",
        "  --vi_sigma_init=0.01 --temperature=1. --vi_ensemble_size=20 --train_split=train[:90%] --test_split=train[90%:95%]"
      ],
      "metadata": {
        "colab": {
          "base_uri": "https://localhost:8080/"
        },
        "id": "qUbs6c27oAV0",
        "outputId": "dec02242-f8a8-47f8-80dc-0734d6b3bd04"
      },
      "execution_count": 8,
      "outputs": [
        {
          "output_type": "stream",
          "name": "stdout",
          "text": [
            "JAX sees the following devices: [GpuDevice(id=0, process_index=0)]\n",
            "TF sees the following devices: [PhysicalDevice(name='/physical_device:CPU:0', device_type='CPU')]\n",
            "Starting from random initialization with provided seed\n",
            "/content/bnn_hmc/bnn_hmc/utils/script_utils.py:152: VisibleDeprecationWarning: Creating an ndarray from ragged nested sequences (which is a list-or-tuple of lists-or-tuples-or ndarrays with different lengths or shapes) is deprecated. If you meant to do this, you must specify 'dtype=object' when creating the ndarray.\n",
            "  predict_fn(net_apply, params, net_state, test_set))\n",
            "/content/bnn_hmc/bnn_hmc/utils/script_utils.py:154: VisibleDeprecationWarning: Creating an ndarray from ragged nested sequences (which is a list-or-tuple of lists-or-tuples-or ndarrays with different lengths or shapes) is deprecated. If you meant to do this, you must specify 'dtype=object' when creating the ndarray.\n",
            "  predict_fn(net_apply, params, net_state, train_set))\n",
            "bnn_hmc/scripts/run_vi.py:199: VisibleDeprecationWarning: Creating an ndarray from ragged nested sequences (which is a list-or-tuple of lists-or-tuples-or ndarrays with different lengths or shapes) is deprecated. If you meant to do this, you must specify 'dtype=object' when creating the ndarray.\n",
            "  vi_ensemble_predict_fn(net_apply, params, net_state, test_set))\n",
            "---  --------  ------------  -----------  -----------  ----------  ---------------  --------------  --------\n",
            "  i         t    train/rmse    train/nll    test/rmse    test/nll    test/ens_rmse    test/ens_nll        lr\n",
            "---  --------  ------------  -----------  -----------  ----------  ---------------  --------------  --------\n",
            "  0    3.6567        0.1080       0.0207       0.1103      0.0214           0.1077          0.0315    0.0001\n",
            "  1    0.3544        0.1500      -0.2931       0.1487     -0.2994           0.1333         -0.3416    0.0001\n",
            "  2    0.3565        0.0956      -0.5290       0.0956     -0.5331           0.0979         -0.5399    0.0001\n",
            "  3    0.3579        0.1503      -0.3697       0.1494     -0.3787           0.1361         -0.4584    0.0001\n",
            "  4    0.3544        0.0789      -0.7565       0.0811     -0.7541           0.0887         -0.6576    0.0001\n",
            "  5    0.3562        0.0767      -0.7191       0.0786     -0.7182           0.0783         -0.7349    0.0001\n",
            "  6    0.3560        0.0762      -0.8473       0.0781     -0.8450           0.0915         -0.7762    0.0001\n",
            "  7    0.3554        0.1005      -0.6863       0.1011     -0.6896           0.0956         -0.7254    0.0001\n",
            "  8    0.3565        0.1042      -0.7483       0.1079     -0.7333           0.1417         -0.5462    0.0001\n",
            "  9    0.3543        0.0795      -0.6170       0.0828     -0.6137           0.0990         -0.6043    0.0001\n",
            " 10    0.3565        0.0791      -0.8838       0.0821     -0.8768           0.0883         -0.8102    0.0001\n",
            " 11    0.3535        0.0755      -0.8581       0.0784     -0.8529           0.0826         -0.8432    0.0001\n",
            " 12    0.3547        0.0760      -0.7876       0.0791     -0.7830           0.0900         -0.7749    0.0001\n",
            " 13    0.3552        0.0783      -1.0221       0.0821     -1.0038           0.0904         -0.9419    0.0001\n",
            " 14    0.3546        0.0818      -0.8370       0.0841     -0.8345           0.0783         -0.9159    0.0001\n",
            " 15    0.3537        0.0748      -0.9392       0.0781     -0.9296           0.0789         -0.9729    0.0001\n",
            " 16    0.3531        0.0756      -0.9484       0.0793     -0.9362           0.0858         -0.8625    0.0001\n",
            " 17    0.3547        0.0942      -0.7375       0.0960     -0.7360           0.0831         -0.8274    0.0001\n",
            " 18    0.3551        0.0766      -0.8730       0.0806     -0.8619           0.0873         -0.8416    0.0001\n",
            " 19    0.3532        0.0758      -0.9649       0.0799     -0.9488           0.0816         -0.9777    0.0001\n",
            " 20    0.3537        0.0993      -0.7352       0.1010     -0.7341           0.0960         -0.7863    0.0001\n",
            " 21    0.3556        0.0747      -1.0212       0.0785     -1.0046           0.0822         -1.0025    0.0001\n",
            " 22    0.3538        0.0781      -1.0956       0.0823     -1.0631           0.0950         -0.9402    0.0001\n",
            " 23    0.3536        0.0802      -0.8472       0.0835     -0.8399           0.0804         -0.8850    0.0001\n",
            " 24    0.3548        0.0773      -0.9594       0.0805     -0.9492           0.0781         -0.9879    0.0001\n",
            " 25    0.3546        0.0750      -0.9916       0.0788     -0.9779           0.0774         -1.0299    0.0001\n",
            " 26    0.3544        0.0763      -0.9320       0.0800     -0.9197           0.0788         -0.9691    0.0001\n",
            " 27    0.3553        0.0733      -1.0583       0.0777     -1.0351           0.0827         -1.0292    0.0001\n",
            " 28    0.3532        0.0730      -1.0741       0.0776     -1.0500           0.0802         -1.0670    0.0001\n",
            " 29    0.3557        0.0842      -0.8761       0.0875     -0.8655           0.0825         -0.9382    0.0001\n",
            " 30    0.3569        0.0801      -0.9430       0.0836     -0.9295           0.0781         -1.0187    0.0001\n",
            " 31    0.3554        0.0721      -1.0622       0.0767     -1.0394           0.0768         -1.0775    0.0001\n",
            " 32    0.3550        0.0810      -0.9748       0.0843     -0.9597           0.0771         -1.0544    0.0001\n",
            " 33    0.3526        0.0778      -0.9568       0.0815     -0.9431           0.0769         -1.0335    0.0001\n",
            " 34    0.3528        0.0749      -1.0463       0.0790     -1.0253           0.0761         -1.0795    0.0001\n",
            " 35    0.3526        0.0851      -0.9144       0.0884     -0.9003           0.0796         -1.0179    0.0001\n",
            " 36    0.3562        0.0745      -0.9770       0.0788     -0.9600           0.0762         -1.0219    0.0001\n",
            " 37    0.3559        0.0743      -1.0280       0.0793     -1.0027           0.0808         -1.0293    0.0001\n",
            " 38    0.3557        0.0727      -1.0701       0.0781     -1.0392           0.0863         -1.0261    0.0001\n",
            " 39    0.3555        0.0715      -1.0988       0.0768     -1.0648           0.0919         -0.9920    0.0001\n",
            "---  --------  ------------  -----------  -----------  ----------  ---------------  --------------  --------\n",
            "  i         t    train/rmse    train/nll    test/rmse    test/nll    test/ens_rmse    test/ens_nll        lr\n",
            "---  --------  ------------  -----------  -----------  ----------  ---------------  --------------  --------\n",
            " 40    0.3550        0.0808      -0.9342       0.0845     -0.9179           0.0761         -1.0391    0.0001\n",
            " 41    0.3541        0.0806      -0.9609       0.0845     -0.9424           0.0776         -1.0390    0.0001\n",
            " 42    0.3525        0.0775      -1.0251       0.0818     -1.0017           0.0758         -1.0773    0.0001\n",
            " 43    0.3531        0.0894      -0.8459       0.0928     -0.8330           0.0848         -0.9315    0.0001\n",
            " 44    0.3556        0.0719      -1.0795       0.0767     -1.0517           0.0752         -1.0942    0.0001\n",
            " 45    0.3554        0.0784      -1.0105       0.0825     -0.9886           0.0765         -1.0661    0.0001\n",
            " 46    0.3528        0.0812      -0.9865       0.0851     -0.9642           0.0751         -1.0608    0.0001\n",
            " 47    0.3546        0.0864      -0.9339       0.0903     -0.9132           0.0756         -1.0803    0.0001\n",
            " 48    0.3551        0.0812      -0.9152       0.0859     -0.8947           0.0793         -0.9747    0.0001\n",
            " 49    0.3561        0.0702      -1.1261       0.0760     -1.0861           0.0750         -1.0950    0.0001\n",
            " 50    0.3549        0.0706      -1.0566       0.0764     -1.0252           0.0757         -1.0664    0.0001\n",
            " 51    0.3560        0.0696      -1.0845       0.0755     -1.0506           0.0834         -1.0297    0.0001\n",
            " 52    0.3530        0.0722      -1.0908       0.0777     -1.0548           0.0757         -1.1243    0.0001\n",
            " 53    0.3558        0.0705      -1.0793       0.0765     -1.0444           0.0774         -1.0898    0.0001\n",
            " 54    0.3562        0.0687      -1.1338       0.0758     -1.0863           0.0858         -1.0512    0.0001\n",
            " 55    0.3535        0.0867      -0.9327       0.0912     -0.9060           0.0805         -1.0177    0.0001\n",
            " 56    0.3548        0.0680      -1.1706       0.0748     -1.1207           0.0832         -1.0896    0.0001\n",
            " 57    0.3540        0.0714      -1.0982       0.0774     -1.0578           0.0760         -1.1210    0.0001\n",
            " 58    0.3555        0.0752      -1.0937       0.0808     -1.0482           0.0779         -1.1353    0.0001\n",
            " 59    0.3552        0.0682      -1.1341       0.0747     -1.0903           0.0779         -1.1227    0.0001\n",
            " 60    0.3565        0.0768      -1.0569       0.0826     -1.0112           0.0738         -1.1340    0.0001\n",
            " 61    0.3540        0.0731      -1.0944       0.0792     -1.0495           0.0739         -1.1637    0.0001\n",
            " 62    0.3531        0.0793      -1.0431       0.0850     -0.9942           0.0738         -1.1399    0.0001\n",
            " 63    0.3531        0.0728      -1.1253       0.0791     -1.0702           0.0738         -1.1540    0.0001\n",
            " 64    0.3553        0.0689      -1.1311       0.0759     -1.0808           0.0751         -1.1178    0.0001\n",
            " 65    0.3541        0.0684      -1.1783       0.0757     -1.1149           0.0824         -1.1038    0.0001\n",
            " 66    0.3534        0.0740      -1.0621       0.0803     -1.0200           0.0733         -1.1177    0.0001\n",
            " 67    0.3551        0.0730      -1.1068       0.0796     -1.0547           0.0741         -1.1364    0.0001\n",
            " 68    0.3528        0.0879      -0.9563       0.0933     -0.9071           0.0769         -1.0990    0.0001\n",
            " 69    0.3534        0.0792      -1.0303       0.0854     -0.9850           0.0742         -1.1054    0.0001\n",
            " 70    0.3559        0.0674      -1.1854       0.0748     -1.1233           0.0768         -1.1529    0.0001\n",
            " 71    0.3562        0.0699      -1.1455       0.0769     -1.0878           0.0723         -1.1636    0.0001\n",
            " 72    0.3539        0.0656      -1.1876       0.0736     -1.1267           0.0857         -1.0526    0.0001\n",
            " 73    0.3536        0.0703      -1.1326       0.0775     -1.0774           0.0751         -1.1352    0.0001\n",
            " 74    0.3565        0.0761      -1.0778       0.0829     -1.0226           0.0731         -1.1514    0.0001\n",
            " 75    0.3532        0.0762      -1.1028       0.0831     -1.0352           0.0742         -1.1521    0.0001\n",
            " 76    0.3533        0.0796      -1.0482       0.0859     -0.9935           0.0746         -1.1214    0.0001\n",
            " 77    0.3553        0.0756      -1.0908       0.0825     -1.0318           0.0725         -1.1469    0.0001\n",
            " 78    0.3548        0.0891      -0.9523       0.0947     -0.9011           0.0754         -1.1021    0.0001\n",
            " 79    0.3557        0.0844      -1.0051       0.0906     -0.9370           0.0715         -1.1829    0.0001\n",
            "---  --------  ------------  -----------  -----------  ----------  ---------------  --------------  --------\n",
            "  i         t    train/rmse    train/nll    test/rmse    test/nll    test/ens_rmse    test/ens_nll        lr\n",
            "---  --------  ------------  -----------  -----------  ----------  ---------------  --------------  --------\n",
            " 80    0.3540        0.0743      -1.1185       0.0816     -1.0475           0.0718         -1.1911    0.0001\n",
            " 81    0.3543        0.0646      -1.2341       0.0733     -1.1577           0.0761         -1.1515    0.0001\n",
            " 82    0.3526        0.0849      -0.9971       0.0913     -0.9331           0.0732         -1.1483    0.0001\n",
            " 83    0.3553        0.0736      -1.1517       0.0812     -1.0649           0.0722         -1.1967    0.0001\n",
            " 84    0.3531        0.0707      -1.1589       0.0786     -1.0875           0.0718         -1.1667    0.0001\n",
            " 85    0.3551        0.0787      -1.0814       0.0856     -1.0122           0.0719         -1.1784    0.0001\n",
            " 86    0.3534        0.0692      -1.1811       0.0773     -1.1056           0.0711         -1.1855    0.0001\n",
            " 87    0.3531        0.0711      -1.1321       0.0789     -1.0685           0.0712         -1.1505    0.0001\n",
            " 88    0.3533        0.0775      -1.1017       0.0849     -1.0144           0.0708         -1.2077    0.0001\n",
            " 89    0.3552        0.0703      -1.1985       0.0785     -1.1002           0.0709         -1.2151    0.0001\n",
            " 90    0.3563        0.0704      -1.1796       0.0789     -1.0966           0.0722         -1.1909    0.0001\n",
            " 91    0.3542        0.0719      -1.1510       0.0802     -1.0725           0.0735         -1.1617    0.0001\n",
            " 92    0.3531        0.0730      -1.1707       0.0813     -1.0643           0.0731         -1.2104    0.0001\n",
            " 93    0.3533        0.0720      -1.1816       0.0804     -1.0767           0.0709         -1.2366    0.0001\n",
            " 94    0.3550        0.0749      -1.1360       0.0826     -1.0452           0.0703         -1.2268    0.0001\n",
            " 95    0.3535        0.0756      -1.1199       0.0836     -1.0382           0.0709         -1.1962    0.0001\n",
            " 96    0.3533        0.0955      -0.8934       0.1017     -0.8130           0.0743         -1.1476    0.0001\n",
            " 97    0.3542        0.0749      -1.1415       0.0827     -1.0477           0.0702         -1.2186    0.0001\n",
            " 98    0.3540        0.0749      -1.1421       0.0830     -1.0428           0.0711         -1.1962    0.0001\n",
            " 99    0.3535        0.0691      -1.2211       0.0781     -1.1124           0.0731         -1.2044    0.0000\n",
            "100    0.3534        0.0781      -1.0997       0.0861     -1.0077           0.0699         -1.2131    0.0000\n",
            "101    0.3560        0.1113      -0.7276       0.1167     -0.6581           0.0848         -1.0288    0.0000\n",
            "102    0.3533        0.0724      -1.1820       0.0809     -1.0781           0.0713         -1.2088    0.0000\n",
            "103    0.3535        0.0753      -1.1412       0.0836     -1.0370           0.0711         -1.2151    0.0000\n",
            "104    0.3545        0.0734      -1.1654       0.0819     -1.0561           0.0698         -1.2304    0.0000\n",
            "105    0.3533        0.0709      -1.1940       0.0801     -1.0932           0.0703         -1.2344    0.0000\n",
            "106    0.3563        0.0785      -1.1041       0.0867     -1.0038           0.0739         -1.1739    0.0000\n",
            "107    0.3532        0.0727      -1.1778       0.0816     -1.0567           0.0699         -1.2417    0.0000\n",
            "108    0.3549        0.0708      -1.2034       0.0801     -1.0896           0.0740         -1.1985    0.0000\n",
            "109    0.3533        0.0908      -0.9636       0.0980     -0.8870           0.0707         -1.1702    0.0000\n",
            "110    0.3564        0.0674      -1.2395       0.0773     -1.1282           0.0730         -1.2112    0.0000\n",
            "111    0.3533        0.0736      -1.1682       0.0825     -1.0602           0.0703         -1.2395    0.0000\n",
            "112    0.3547        0.0703      -1.2026       0.0797     -1.0920           0.0729         -1.1876    0.0000\n",
            "113    0.3531        0.0688      -1.2270       0.0781     -1.1130           0.0696         -1.2357    0.0000\n",
            "114    0.3534        0.0738      -1.1692       0.0828     -1.0471           0.0698         -1.2223    0.0000\n",
            "115    0.3560        0.0754      -1.1510       0.0842     -1.0270           0.0713         -1.2246    0.0000\n",
            "116    0.3536        0.0782      -1.1127       0.0869     -1.0060           0.0697         -1.2137    0.0000\n",
            "117    0.3549        0.0841      -1.0299       0.0922     -0.8994           0.0699         -1.2219    0.0000\n",
            "118    0.3529        0.0729      -1.1876       0.0822     -1.0560           0.0695         -1.2501    0.0000\n",
            "119    0.3556        0.0707      -1.2076       0.0802     -1.0888           0.0720         -1.2263    0.0000\n",
            "---  --------  ------------  -----------  -----------  ----------  ---------------  --------------  --------\n",
            "  i         t    train/rmse    train/nll    test/rmse    test/nll    test/ens_rmse    test/ens_nll        lr\n",
            "---  --------  ------------  -----------  -----------  ----------  ---------------  --------------  --------\n",
            "120    0.3527        0.0893      -0.9843       0.0970     -0.8824           0.0735         -1.1613    0.0000\n",
            "121    0.3535        0.0735      -1.1779       0.0826     -1.0493           0.0697         -1.2425    0.0000\n",
            "122    0.3552        0.0778      -1.1120       0.0866     -0.9904           0.0691         -1.2512    0.0000\n",
            "123    0.3555        0.0750      -1.1387       0.0843     -1.0403           0.0717         -1.1604    0.0000\n",
            "124    0.3556        0.0874      -0.9846       0.0954     -0.8637           0.0691         -1.2388    0.0000\n",
            "125    0.3558        0.0789      -1.1078       0.0878     -0.9937           0.0706         -1.2230    0.0000\n",
            "126    0.3536        0.0748      -1.1596       0.0841     -1.0275           0.0696         -1.2492    0.0000\n",
            "127    0.3534        0.0730      -1.1809       0.0824     -1.0535           0.0696         -1.2504    0.0000\n",
            "128    0.3559        0.0812      -1.0780       0.0898     -0.9602           0.0704         -1.2074    0.0000\n",
            "129    0.3547        0.0889      -0.9437       0.0966     -0.8170           0.0724         -1.2018    0.0000\n",
            "130    0.3546        0.0753      -1.1492       0.0843     -1.0344           0.0689         -1.2353    0.0000\n",
            "131    0.3558        0.0751      -1.1578       0.0841     -1.0288           0.0703         -1.2456    0.0000\n",
            "132    0.3552        0.0654      -1.2860       0.0757     -1.1533           0.0700         -1.2441    0.0000\n",
            "133    0.3556        0.0739      -1.1722       0.0833     -1.0367           0.0688         -1.2640    0.0000\n",
            "134    0.3550        0.0753      -1.1502       0.0846     -1.0374           0.0695         -1.2288    0.0000\n",
            "135    0.3530        0.0722      -1.1973       0.0819     -1.0697           0.0693         -1.2355    0.0000\n",
            "136    0.3554        0.0769      -1.1353       0.0861     -1.0153           0.0689         -1.2256    0.0000\n",
            "137    0.3539        0.0716      -1.2022       0.0813     -1.0730           0.0718         -1.2127    0.0000\n",
            "138    0.3555        0.0758      -1.1510       0.0850     -1.0253           0.0687         -1.2317    0.0000\n",
            "139    0.3536        0.0815      -1.0784       0.0901     -0.9611           0.0706         -1.2135    0.0000\n",
            "140    0.3542        0.0743      -1.1735       0.0836     -1.0479           0.0684         -1.2642    0.0000\n",
            "141    0.3556        0.0761      -1.1522       0.0853     -1.0206           0.0692         -1.2138    0.0000\n",
            "142    0.3529        0.0718      -1.1984       0.0814     -1.0763           0.0697         -1.2408    0.0000\n",
            "143    0.3534        0.0725      -1.1810       0.0820     -1.0740           0.0691         -1.2223    0.0000\n",
            "144    0.3537        0.0712      -1.2156       0.0812     -1.0801           0.0701         -1.2359    0.0000\n",
            "145    0.3537        0.0747      -1.1719       0.0843     -1.0362           0.0696         -1.2549    0.0000\n",
            "146    0.3541        0.0820      -1.0650       0.0907     -0.9367           0.0681         -1.2512    0.0000\n",
            "147    0.3537        0.0679      -1.2504       0.0783     -1.1181           0.0693         -1.2644    0.0000\n",
            "148    0.3559        0.0773      -1.1369       0.0867     -0.9976           0.0693         -1.2517    0.0000\n",
            "149    0.3546        0.0795      -1.0998       0.0884     -0.9791           0.0704         -1.2138    0.0000\n",
            "150    0.3562        0.0718      -1.2045       0.0817     -1.0742           0.0698         -1.2505    0.0000\n",
            "151    0.3536        0.0772      -1.1295       0.0865     -0.9870           0.0684         -1.2596    0.0000\n",
            "152    0.3552        0.0756      -1.1528       0.0852     -1.0110           0.0680         -1.2706    0.0000\n",
            "153    0.3558        0.0825      -1.0564       0.0914     -0.9185           0.0708         -1.2254    0.0000\n",
            "154    0.3555        0.0745      -1.1733       0.0844     -1.0329           0.0692         -1.2491    0.0000\n",
            "155    0.3539        0.0797      -1.0966       0.0889     -0.9532           0.0690         -1.2504    0.0000\n",
            "156    0.3556        0.0706      -1.2245       0.0809     -1.0814           0.0683         -1.2511    0.0000\n",
            "157    0.3529        0.0771      -1.1336       0.0865     -1.0097           0.0691         -1.2431    0.0000\n",
            "158    0.3536        0.0728      -1.1973       0.0828     -1.0579           0.0704         -1.2368    0.0000\n",
            "159    0.3527        0.0735      -1.1839       0.0834     -1.0546           0.0697         -1.2581    0.0000\n",
            "---  --------  ------------  -----------  -----------  ----------  ---------------  --------------  --------\n",
            "  i         t    train/rmse    train/nll    test/rmse    test/nll    test/ens_rmse    test/ens_nll        lr\n",
            "---  --------  ------------  -----------  -----------  ----------  ---------------  --------------  --------\n",
            "160    0.3546        0.0797      -1.1067       0.0889     -0.9779           0.0682         -1.2550    0.0000\n",
            "161    0.3531        0.0744      -1.1762       0.0843     -1.0298           0.0684         -1.2608    0.0000\n",
            "162    0.3558        0.0684      -1.2493       0.0790     -1.1099           0.0686         -1.2491    0.0000\n",
            "163    0.3548        0.0753      -1.1638       0.0851     -1.0162           0.0689         -1.2542    0.0000\n",
            "164    0.3563        0.0740      -1.1811       0.0839     -1.0468           0.0696         -1.2466    0.0000\n",
            "165    0.3567        0.0712      -1.2202       0.0815     -1.0701           0.0705         -1.2499    0.0000\n",
            "166    0.3530        0.0783      -1.1222       0.0878     -0.9732           0.0691         -1.2588    0.0000\n",
            "167    0.3530        0.0811      -1.0816       0.0903     -0.9321           0.0685         -1.2617    0.0000\n",
            "168    0.3547        0.0752      -1.1661       0.0850     -1.0209           0.0683         -1.2796    0.0000\n",
            "169    0.3552        0.0795      -1.1055       0.0889     -0.9630           0.0682         -1.2532    0.0000\n",
            "170    0.3553        0.0751      -1.1630       0.0850     -1.0114           0.0683         -1.2855    0.0000\n",
            "171    0.3522        0.0748      -1.1699       0.0846     -1.0215           0.0688         -1.2711    0.0000\n",
            "172    0.3525        0.0791      -1.1106       0.0885     -0.9685           0.0681         -1.2340    0.0000\n",
            "173    0.3536        0.0753      -1.1622       0.0851     -1.0208           0.0685         -1.2549    0.0000\n",
            "174    0.3533        0.0805      -1.0865       0.0897     -0.9389           0.0686         -1.2522    0.0000\n",
            "175    0.3561        0.0794      -1.1059       0.0888     -0.9631           0.0692         -1.2550    0.0000\n",
            "176    0.3537        0.0772      -1.1356       0.0869     -0.9839           0.0686         -1.2647    0.0000\n",
            "177    0.3549        0.0774      -1.1360       0.0870     -0.9904           0.0683         -1.2559    0.0000\n",
            "178    0.3519        0.0753      -1.1636       0.0852     -1.0135           0.0687         -1.2652    0.0000\n",
            "179    0.3550        0.0755      -1.1605       0.0854     -1.0136           0.0684         -1.2535    0.0000\n",
            "180    0.3534        0.0773      -1.1358       0.0870     -0.9936           0.0682         -1.2717    0.0000\n",
            "181    0.3548        0.0771      -1.1384       0.0868     -0.9953           0.0688         -1.2406    0.0000\n",
            "182    0.3565        0.0794      -1.1063       0.0888     -0.9642           0.0682         -1.2632    0.0000\n",
            "183    0.3539        0.0766      -1.1443       0.0864     -1.0010           0.0682         -1.2491    0.0000\n",
            "184    0.3557        0.0774      -1.1353       0.0870     -0.9920           0.0691         -1.2602    0.0000\n",
            "185    0.3532        0.0764      -1.1477       0.0862     -1.0052           0.0698         -1.2492    0.0000\n",
            "186    0.3530        0.0772      -1.1371       0.0869     -0.9930           0.0682         -1.2455    0.0000\n",
            "187    0.3561        0.0760      -1.1538       0.0858     -1.0087           0.0692         -1.2523    0.0000\n",
            "188    0.3563        0.0773      -1.1356       0.0870     -0.9913           0.0685         -1.2649    0.0000\n",
            "189    0.3560        0.0781      -1.1254       0.0877     -0.9804           0.0685         -1.2644    0.0000\n",
            "190    0.3539        0.0781      -1.1248       0.0877     -0.9808           0.0701         -1.2354    0.0000\n"
          ]
        }
      ]
    },
    {
      "cell_type": "code",
      "source": [
        "!python3 bnn_hmc/scripts/run_vi.py --seed=1 --weight_decay=5. --dir=runs/vi/cmd/ \\\n",
        "  --dataset_name=cmd --model_name=lenet --scaling=asinh --image_size=64 \\\n",
        "  --init_step_size=1e-4 --num_epochs=200 --eval_freq=5 --batch_size=100 --patience 20\\\n",
        "  --save_freq=300 --optimizer=Adam --builder_kwargs='{\"simulation\": \"IllustrisTNG\", \"field\": \"Mtot\", \"parameters\": [\"omegam\"]}' \\\n",
        "  --vi_sigma_init=0.01 --temperature=1. --vi_ensemble_size=20 --eval_split=train[95%:]"
      ],
      "metadata": {
        "id": "z0HyQIvrofh3",
        "colab": {
          "base_uri": "https://localhost:8080/"
        },
        "outputId": "3c26a96e-b99f-4bc0-f07a-31bed47755f0"
      },
      "execution_count": 9,
      "outputs": [
        {
          "output_type": "stream",
          "name": "stdout",
          "text": [
            "JAX sees the following devices: [GpuDevice(id=0, process_index=0)]\n",
            "TF sees the following devices: [PhysicalDevice(name='/physical_device:CPU:0', device_type='CPU')]\n",
            "Continuing the run from the last saved checkpoint\n",
            "bnn_hmc/scripts/run_vi.py:246: VisibleDeprecationWarning: Creating an ndarray from ragged nested sequences (which is a list-or-tuple of lists-or-tuples-or ndarrays with different lengths or shapes) is deprecated. If you meant to do this, you must specify 'dtype=object' when creating the ndarray.\n",
            "  vi_ensemble_predict_fn(net_apply, params, net_state, test_set))\n",
            "{'scaled_nll': -1.3476083278656006, 'scaled_mse': 0.0037258071824908257, 'scaled_rmse': 0.061039390417097265, 'nll': -1.3476083278656006, 'mse': 0.0037258071824908257, 'rmse': 0.061039390417097265}\n"
          ]
        }
      ]
    },
    {
      "cell_type": "code",
      "source": [
        "accuracies = []\n",
        "nlls = []\n",
        "eces = []\n",
        "softmax = []\n",
        "for i, root in enumerate(glob.glob('/content/runs/vi/cmd/*/')):\n",
        "  data = np.load(root + '/test_set.npy')  \n",
        "  predictions = np.squeeze(np.load(root + '/predictions.npy'))[:,:,0]\n",
        "  errors = np.squeeze(np.load(root + '/predictions.npy'))[:,:,1]\n",
        "  metrics = np.load(root + '/metrics.npy', allow_pickle=True)\n",
        "  print(metrics)"
      ],
      "metadata": {
        "colab": {
          "base_uri": "https://localhost:8080/"
        },
        "id": "JJE6SN0ynE5M",
        "outputId": "5a132892-c2a5-4108-f806-9ca9c4bfaf51"
      },
      "execution_count": 14,
      "outputs": [
        {
          "output_type": "stream",
          "name": "stdout",
          "text": [
            "{'scaled_nll': -1.3476083278656006, 'scaled_mse': 0.0037258071824908257, 'scaled_rmse': 0.061039390417097265, 'nll': -1.3476083278656006, 'mse': 0.0037258071824908257, 'rmse': 0.061039390417097265}\n"
          ]
        }
      ]
    },
    {
      "cell_type": "code",
      "source": [
        "mean_predictions = np.mean(predictions, axis=0)\n",
        "mean_errors = np.std(errors, axis=0)\n",
        "total_errors = (mean_errors**2 + np.std(predictions, axis=0)**2)**0.5\n",
        "diffs = mean_predictions - data[0,:,0]"
      ],
      "metadata": {
        "id": "W85Ed6cOn9i3"
      },
      "execution_count": 15,
      "outputs": []
    },
    {
      "cell_type": "code",
      "source": [
        "print('Ensemble MSE', np.mean(diffs**2))\n",
        "print('Ensemble MAE', np.mean(np.abs(diffs)))"
      ],
      "metadata": {
        "colab": {
          "base_uri": "https://localhost:8080/"
        },
        "id": "wwBMw_7ws5Wf",
        "outputId": "1fcb0033-57fa-4756-90e3-aca86756a9f8"
      },
      "execution_count": 16,
      "outputs": [
        {
          "output_type": "stream",
          "name": "stdout",
          "text": [
            "Ensemble MSE 0.0037258072\n",
            "Ensemble MAE 0.049060144\n"
          ]
        }
      ]
    },
    {
      "cell_type": "code",
      "source": [
        "plt.figure(figsize=(10,8))\n",
        "plt.errorbar(data[0,::10,0], mean_predictions[::10], total_errors[::10],  ls='none')\n",
        "plt.errorbar(data[0,::10,0], mean_predictions[::10], mean_errors[::10],  ls='none')\n",
        "plt.plot(np.linspace(0,0.5,10), np.linspace(0,0.5,10), linestyle='--', color='black', alpha=0.5)\n",
        "plt.xlabel('Ground truth', fontsize=14)\n",
        "plt.ylabel('Prediction', fontsize=14)\n",
        "plt.show()"
      ],
      "metadata": {
        "colab": {
          "base_uri": "https://localhost:8080/",
          "height": 501
        },
        "id": "8nmFuXpVrVK9",
        "outputId": "ab055e0f-00dd-4099-dd5e-2d9e84e3fe54"
      },
      "execution_count": 17,
      "outputs": [
        {
          "output_type": "display_data",
          "data": {
            "text/plain": [
              "<Figure size 720x576 with 1 Axes>"
            ],
            "image/png": "[encoded data removed]"
          },
          "metadata": {
            "needs_background": "light"
          }
        }
      ]
    },
    {
      "cell_type": "code",
      "source": [
        ""
      ],
      "metadata": {
        "id": "xZsNGyResXr7"
      },
      "execution_count": 13,
      "outputs": []
    }
  ]
}