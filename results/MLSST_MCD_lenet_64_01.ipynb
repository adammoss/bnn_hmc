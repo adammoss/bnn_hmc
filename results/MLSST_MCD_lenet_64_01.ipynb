{
  "nbformat": 4,
  "nbformat_minor": 0,
  "metadata": {
    "colab": {
      "name": "MLSST_MCD_lenet_64_01.ipynb",
      "provenance": [],
      "authorship_tag": "ABX9TyNSEqqAM4AuckJynLexuDOL",
      "include_colab_link": true
    },
    "kernelspec": {
      "name": "python3",
      "display_name": "Python 3"
    },
    "language_info": {
      "name": "python"
    },
    "accelerator": "GPU",
    "gpuClass": "standard"
  },
  "cells": [
    {
      "cell_type": "markdown",
      "metadata": {
        "id": "view-in-github",
        "colab_type": "text"
      },
      "source": [
        "<a href=\"https://colab.research.google.com/github/adammoss/bnn_hmc/blob/main/results/MLSST_MCD_lenet_64_01.ipynb\" target=\"_parent\"><img src=\"https://colab.research.google.com/assets/colab-badge.svg\" alt=\"Open In Colab\"/></a>"
      ]
    },
    {
      "cell_type": "code",
      "execution_count": 1,
      "metadata": {
        "id": "fkHbmimJE5CF"
      },
      "outputs": [],
      "source": [
        "import os\n",
        "import sys\n",
        "import shutil\n",
        "import subprocess\n",
        "import glob\n",
        "import matplotlib.pyplot as plt\n",
        "import seaborn as sns\n",
        "import numpy as np"
      ]
    },
    {
      "cell_type": "code",
      "source": [
        "!nvidia-smi"
      ],
      "metadata": {
        "colab": {
          "base_uri": "https://localhost:8080/"
        },
        "id": "LT2I17CFE7Mr",
        "outputId": "8bc322ee-6640-4f8b-e636-c438a1ae309b"
      },
      "execution_count": 2,
      "outputs": [
        {
          "output_type": "stream",
          "name": "stdout",
          "text": [
            "Wed Aug 24 17:50:47 2022       \n",
            "+-----------------------------------------------------------------------------+\n",
            "| NVIDIA-SMI 460.32.03    Driver Version: 460.32.03    CUDA Version: 11.2     |\n",
            "|-------------------------------+----------------------+----------------------+\n",
            "| GPU  Name        Persistence-M| Bus-Id        Disp.A | Volatile Uncorr. ECC |\n",
            "| Fan  Temp  Perf  Pwr:Usage/Cap|         Memory-Usage | GPU-Util  Compute M. |\n",
            "|                               |                      |               MIG M. |\n",
            "|===============================+======================+======================|\n",
            "|   0  Tesla V100-SXM2...  Off  | 00000000:00:04.0 Off |                    0 |\n",
            "| N/A   36C    P0    22W / 300W |      0MiB / 16160MiB |      0%      Default |\n",
            "|                               |                      |                  N/A |\n",
            "+-------------------------------+----------------------+----------------------+\n",
            "                                                                               \n",
            "+-----------------------------------------------------------------------------+\n",
            "| Processes:                                                                  |\n",
            "|  GPU   GI   CI        PID   Type   Process name                  GPU Memory |\n",
            "|        ID   ID                                                   Usage      |\n",
            "|=============================================================================|\n",
            "|  No running processes found                                                 |\n",
            "+-----------------------------------------------------------------------------+\n"
          ]
        }
      ]
    },
    {
      "cell_type": "code",
      "source": [
        "!pip install astro-datasets --upgrade\n",
        "!pip install tensorflow_datasets --upgrade"
      ],
      "metadata": {
        "colab": {
          "base_uri": "https://localhost:8080/"
        },
        "id": "SDu0z1IBE9Rk",
        "outputId": "020fdc0e-a4ca-4f45-ccfb-f8c61f8317c3"
      },
      "execution_count": 3,
      "outputs": [
        {
          "output_type": "stream",
          "name": "stdout",
          "text": [
            "Looking in indexes: https://pypi.org/simple, https://us-python.pkg.dev/colab-wheels/public/simple/\n",
            "Requirement already satisfied: astro-datasets in /usr/local/lib/python3.7/dist-packages (0.0.10)\n",
            "Requirement already satisfied: numpy in /usr/local/lib/python3.7/dist-packages (from astro-datasets) (1.21.6)\n",
            "Requirement already satisfied: tensorflow in /usr/local/lib/python3.7/dist-packages (from astro-datasets) (2.8.2+zzzcolab20220719082949)\n",
            "Requirement already satisfied: tensorflow-datasets in /usr/local/lib/python3.7/dist-packages (from astro-datasets) (4.6.0)\n",
            "Requirement already satisfied: pandas in /usr/local/lib/python3.7/dist-packages (from astro-datasets) (1.3.5)\n",
            "Requirement already satisfied: pytz>=2017.3 in /usr/local/lib/python3.7/dist-packages (from pandas->astro-datasets) (2022.2.1)\n",
            "Requirement already satisfied: python-dateutil>=2.7.3 in /usr/local/lib/python3.7/dist-packages (from pandas->astro-datasets) (2.8.2)\n",
            "Requirement already satisfied: six>=1.5 in /usr/local/lib/python3.7/dist-packages (from python-dateutil>=2.7.3->pandas->astro-datasets) (1.15.0)\n",
            "Requirement already satisfied: opt-einsum>=2.3.2 in /usr/local/lib/python3.7/dist-packages (from tensorflow->astro-datasets) (3.3.0)\n",
            "Requirement already satisfied: astunparse>=1.6.0 in /usr/local/lib/python3.7/dist-packages (from tensorflow->astro-datasets) (1.6.3)\n",
            "Requirement already satisfied: libclang>=9.0.1 in /usr/local/lib/python3.7/dist-packages (from tensorflow->astro-datasets) (14.0.6)\n",
            "Requirement already satisfied: h5py>=2.9.0 in /usr/local/lib/python3.7/dist-packages (from tensorflow->astro-datasets) (3.1.0)\n",
            "Requirement already satisfied: protobuf<3.20,>=3.9.2 in /usr/local/lib/python3.7/dist-packages (from tensorflow->astro-datasets) (3.17.3)\n",
            "Requirement already satisfied: tensorflow-io-gcs-filesystem>=0.23.1 in /usr/local/lib/python3.7/dist-packages (from tensorflow->astro-datasets) (0.26.0)\n",
            "Requirement already satisfied: tensorflow-estimator<2.9,>=2.8 in /usr/local/lib/python3.7/dist-packages (from tensorflow->astro-datasets) (2.8.0)\n",
            "Requirement already satisfied: wrapt>=1.11.0 in /usr/local/lib/python3.7/dist-packages (from tensorflow->astro-datasets) (1.14.1)\n",
            "Requirement already satisfied: termcolor>=1.1.0 in /usr/local/lib/python3.7/dist-packages (from tensorflow->astro-datasets) (1.1.0)\n",
            "Requirement already satisfied: grpcio<2.0,>=1.24.3 in /usr/local/lib/python3.7/dist-packages (from tensorflow->astro-datasets) (1.47.0)\n",
            "Requirement already satisfied: keras<2.9,>=2.8.0rc0 in /usr/local/lib/python3.7/dist-packages (from tensorflow->astro-datasets) (2.8.0)\n",
            "Requirement already satisfied: absl-py>=0.4.0 in /usr/local/lib/python3.7/dist-packages (from tensorflow->astro-datasets) (1.2.0)\n",
            "Requirement already satisfied: tensorboard<2.9,>=2.8 in /usr/local/lib/python3.7/dist-packages (from tensorflow->astro-datasets) (2.8.0)\n",
            "Requirement already satisfied: flatbuffers>=1.12 in /usr/local/lib/python3.7/dist-packages (from tensorflow->astro-datasets) (2.0)\n",
            "Requirement already satisfied: keras-preprocessing>=1.1.1 in /usr/local/lib/python3.7/dist-packages (from tensorflow->astro-datasets) (1.1.2)\n",
            "Requirement already satisfied: typing-extensions>=3.6.6 in /usr/local/lib/python3.7/dist-packages (from tensorflow->astro-datasets) (4.1.1)\n",
            "Requirement already satisfied: gast>=0.2.1 in /usr/local/lib/python3.7/dist-packages (from tensorflow->astro-datasets) (0.5.3)\n",
            "Requirement already satisfied: setuptools in /usr/local/lib/python3.7/dist-packages (from tensorflow->astro-datasets) (57.4.0)\n",
            "Requirement already satisfied: google-pasta>=0.1.1 in /usr/local/lib/python3.7/dist-packages (from tensorflow->astro-datasets) (0.2.0)\n",
            "Requirement already satisfied: wheel<1.0,>=0.23.0 in /usr/local/lib/python3.7/dist-packages (from astunparse>=1.6.0->tensorflow->astro-datasets) (0.37.1)\n",
            "Requirement already satisfied: cached-property in /usr/local/lib/python3.7/dist-packages (from h5py>=2.9.0->tensorflow->astro-datasets) (1.5.2)\n",
            "Requirement already satisfied: markdown>=2.6.8 in /usr/local/lib/python3.7/dist-packages (from tensorboard<2.9,>=2.8->tensorflow->astro-datasets) (3.4.1)\n",
            "Requirement already satisfied: tensorboard-plugin-wit>=1.6.0 in /usr/local/lib/python3.7/dist-packages (from tensorboard<2.9,>=2.8->tensorflow->astro-datasets) (1.8.1)\n",
            "Requirement already satisfied: werkzeug>=0.11.15 in /usr/local/lib/python3.7/dist-packages (from tensorboard<2.9,>=2.8->tensorflow->astro-datasets) (1.0.1)\n",
            "Requirement already satisfied: tensorboard-data-server<0.7.0,>=0.6.0 in /usr/local/lib/python3.7/dist-packages (from tensorboard<2.9,>=2.8->tensorflow->astro-datasets) (0.6.1)\n",
            "Requirement already satisfied: requests<3,>=2.21.0 in /usr/local/lib/python3.7/dist-packages (from tensorboard<2.9,>=2.8->tensorflow->astro-datasets) (2.23.0)\n",
            "Requirement already satisfied: google-auth-oauthlib<0.5,>=0.4.1 in /usr/local/lib/python3.7/dist-packages (from tensorboard<2.9,>=2.8->tensorflow->astro-datasets) (0.4.6)\n",
            "Requirement already satisfied: google-auth<3,>=1.6.3 in /usr/local/lib/python3.7/dist-packages (from tensorboard<2.9,>=2.8->tensorflow->astro-datasets) (1.35.0)\n",
            "Requirement already satisfied: pyasn1-modules>=0.2.1 in /usr/local/lib/python3.7/dist-packages (from google-auth<3,>=1.6.3->tensorboard<2.9,>=2.8->tensorflow->astro-datasets) (0.2.8)\n",
            "Requirement already satisfied: cachetools<5.0,>=2.0.0 in /usr/local/lib/python3.7/dist-packages (from google-auth<3,>=1.6.3->tensorboard<2.9,>=2.8->tensorflow->astro-datasets) (4.2.4)\n",
            "Requirement already satisfied: rsa<5,>=3.1.4 in /usr/local/lib/python3.7/dist-packages (from google-auth<3,>=1.6.3->tensorboard<2.9,>=2.8->tensorflow->astro-datasets) (4.9)\n",
            "Requirement already satisfied: requests-oauthlib>=0.7.0 in /usr/local/lib/python3.7/dist-packages (from google-auth-oauthlib<0.5,>=0.4.1->tensorboard<2.9,>=2.8->tensorflow->astro-datasets) (1.3.1)\n",
            "Requirement already satisfied: importlib-metadata>=4.4 in /usr/local/lib/python3.7/dist-packages (from markdown>=2.6.8->tensorboard<2.9,>=2.8->tensorflow->astro-datasets) (4.12.0)\n",
            "Requirement already satisfied: zipp>=0.5 in /usr/local/lib/python3.7/dist-packages (from importlib-metadata>=4.4->markdown>=2.6.8->tensorboard<2.9,>=2.8->tensorflow->astro-datasets) (3.8.1)\n",
            "Requirement already satisfied: pyasn1<0.5.0,>=0.4.6 in /usr/local/lib/python3.7/dist-packages (from pyasn1-modules>=0.2.1->google-auth<3,>=1.6.3->tensorboard<2.9,>=2.8->tensorflow->astro-datasets) (0.4.8)\n",
            "Requirement already satisfied: urllib3!=1.25.0,!=1.25.1,<1.26,>=1.21.1 in /usr/local/lib/python3.7/dist-packages (from requests<3,>=2.21.0->tensorboard<2.9,>=2.8->tensorflow->astro-datasets) (1.24.3)\n",
            "Requirement already satisfied: certifi>=2017.4.17 in /usr/local/lib/python3.7/dist-packages (from requests<3,>=2.21.0->tensorboard<2.9,>=2.8->tensorflow->astro-datasets) (2022.6.15)\n",
            "Requirement already satisfied: idna<3,>=2.5 in /usr/local/lib/python3.7/dist-packages (from requests<3,>=2.21.0->tensorboard<2.9,>=2.8->tensorflow->astro-datasets) (2.10)\n",
            "Requirement already satisfied: chardet<4,>=3.0.2 in /usr/local/lib/python3.7/dist-packages (from requests<3,>=2.21.0->tensorboard<2.9,>=2.8->tensorflow->astro-datasets) (3.0.4)\n",
            "Requirement already satisfied: oauthlib>=3.0.0 in /usr/local/lib/python3.7/dist-packages (from requests-oauthlib>=0.7.0->google-auth-oauthlib<0.5,>=0.4.1->tensorboard<2.9,>=2.8->tensorflow->astro-datasets) (3.2.0)\n",
            "Requirement already satisfied: toml in /usr/local/lib/python3.7/dist-packages (from tensorflow-datasets->astro-datasets) (0.10.2)\n",
            "Requirement already satisfied: tensorflow-metadata in /usr/local/lib/python3.7/dist-packages (from tensorflow-datasets->astro-datasets) (1.9.0)\n",
            "Requirement already satisfied: dill in /usr/local/lib/python3.7/dist-packages (from tensorflow-datasets->astro-datasets) (0.3.5.1)\n",
            "Requirement already satisfied: importlib-resources in /usr/local/lib/python3.7/dist-packages (from tensorflow-datasets->astro-datasets) (5.9.0)\n",
            "Requirement already satisfied: promise in /usr/local/lib/python3.7/dist-packages (from tensorflow-datasets->astro-datasets) (2.3)\n",
            "Requirement already satisfied: tqdm in /usr/local/lib/python3.7/dist-packages (from tensorflow-datasets->astro-datasets) (4.64.0)\n",
            "Requirement already satisfied: etils[epath] in /usr/local/lib/python3.7/dist-packages (from tensorflow-datasets->astro-datasets) (0.7.1)\n",
            "Requirement already satisfied: googleapis-common-protos<2,>=1.52.0 in /usr/local/lib/python3.7/dist-packages (from tensorflow-metadata->tensorflow-datasets->astro-datasets) (1.56.4)\n",
            "Looking in indexes: https://pypi.org/simple, https://us-python.pkg.dev/colab-wheels/public/simple/\n",
            "Requirement already satisfied: tensorflow_datasets in /usr/local/lib/python3.7/dist-packages (4.6.0)\n",
            "Requirement already satisfied: promise in /usr/local/lib/python3.7/dist-packages (from tensorflow_datasets) (2.3)\n",
            "Requirement already satisfied: numpy in /usr/local/lib/python3.7/dist-packages (from tensorflow_datasets) (1.21.6)\n",
            "Requirement already satisfied: termcolor in /usr/local/lib/python3.7/dist-packages (from tensorflow_datasets) (1.1.0)\n",
            "Requirement already satisfied: tqdm in /usr/local/lib/python3.7/dist-packages (from tensorflow_datasets) (4.64.0)\n",
            "Requirement already satisfied: requests>=2.19.0 in /usr/local/lib/python3.7/dist-packages (from tensorflow_datasets) (2.23.0)\n",
            "Requirement already satisfied: importlib-resources in /usr/local/lib/python3.7/dist-packages (from tensorflow_datasets) (5.9.0)\n",
            "Requirement already satisfied: toml in /usr/local/lib/python3.7/dist-packages (from tensorflow_datasets) (0.10.2)\n",
            "Requirement already satisfied: absl-py in /usr/local/lib/python3.7/dist-packages (from tensorflow_datasets) (1.2.0)\n",
            "Requirement already satisfied: six in /usr/local/lib/python3.7/dist-packages (from tensorflow_datasets) (1.15.0)\n",
            "Requirement already satisfied: protobuf>=3.12.2 in /usr/local/lib/python3.7/dist-packages (from tensorflow_datasets) (3.17.3)\n",
            "Requirement already satisfied: etils[epath] in /usr/local/lib/python3.7/dist-packages (from tensorflow_datasets) (0.7.1)\n",
            "Requirement already satisfied: typing-extensions in /usr/local/lib/python3.7/dist-packages (from tensorflow_datasets) (4.1.1)\n",
            "Requirement already satisfied: tensorflow-metadata in /usr/local/lib/python3.7/dist-packages (from tensorflow_datasets) (1.9.0)\n",
            "Requirement already satisfied: dill in /usr/local/lib/python3.7/dist-packages (from tensorflow_datasets) (0.3.5.1)\n",
            "Requirement already satisfied: urllib3!=1.25.0,!=1.25.1,<1.26,>=1.21.1 in /usr/local/lib/python3.7/dist-packages (from requests>=2.19.0->tensorflow_datasets) (1.24.3)\n",
            "Requirement already satisfied: chardet<4,>=3.0.2 in /usr/local/lib/python3.7/dist-packages (from requests>=2.19.0->tensorflow_datasets) (3.0.4)\n",
            "Requirement already satisfied: idna<3,>=2.5 in /usr/local/lib/python3.7/dist-packages (from requests>=2.19.0->tensorflow_datasets) (2.10)\n",
            "Requirement already satisfied: certifi>=2017.4.17 in /usr/local/lib/python3.7/dist-packages (from requests>=2.19.0->tensorflow_datasets) (2022.6.15)\n",
            "Requirement already satisfied: zipp in /usr/local/lib/python3.7/dist-packages (from etils[epath]->tensorflow_datasets) (3.8.1)\n",
            "Requirement already satisfied: googleapis-common-protos<2,>=1.52.0 in /usr/local/lib/python3.7/dist-packages (from tensorflow-metadata->tensorflow_datasets) (1.56.4)\n"
          ]
        }
      ]
    },
    {
      "cell_type": "code",
      "source": [
        "shutil.rmtree('bnn_hmc', ignore_errors=True)"
      ],
      "metadata": {
        "id": "I2alp5inFFu0"
      },
      "execution_count": 4,
      "outputs": []
    },
    {
      "cell_type": "code",
      "source": [
        "!git clone https://github.com/adammoss/bnn_hmc"
      ],
      "metadata": {
        "colab": {
          "base_uri": "https://localhost:8080/"
        },
        "id": "9iiiXe79FJYK",
        "outputId": "a078a113-6a0a-4c90-976e-c467d509ba59"
      },
      "execution_count": 5,
      "outputs": [
        {
          "output_type": "stream",
          "name": "stdout",
          "text": [
            "Cloning into 'bnn_hmc'...\n",
            "remote: Enumerating objects: 550, done.\u001b[K\n",
            "remote: Counting objects: 100% (19/19), done.\u001b[K\n",
            "remote: Compressing objects: 100% (19/19), done.\u001b[K\n",
            "remote: Total 550 (delta 11), reused 0 (delta 0), pack-reused 531\u001b[K\n",
            "Receiving objects: 100% (550/550), 1.03 MiB | 3.54 MiB/s, done.\n",
            "Resolving deltas: 100% (392/392), done.\n"
          ]
        }
      ]
    },
    {
      "cell_type": "code",
      "source": [
        "!cd bnn_hmc && git checkout dropout_wip"
      ],
      "metadata": {
        "colab": {
          "base_uri": "https://localhost:8080/"
        },
        "id": "_dvjWk1aFLt8",
        "outputId": "8e9b3a14-29b7-4259-f2e0-3f75f52d5ed9"
      },
      "execution_count": 6,
      "outputs": [
        {
          "output_type": "stream",
          "name": "stdout",
          "text": [
            "Branch 'dropout_wip' set up to track remote branch 'dropout_wip' from 'origin'.\n",
            "Switched to a new branch 'dropout_wip'\n"
          ]
        }
      ]
    },
    {
      "cell_type": "code",
      "source": [
        "# https://storage.googleapis.com/jax-releases/jax_cuda_releases.html\n",
        "!pip install --upgrade https://storage.googleapis.com/jax-releases/cuda111/jaxlib-0.1.65+cuda111-cp37-none-manylinux2010_x86_64.whl\n",
        "!pip install jax==0.2.12\n",
        "!pip install dm-haiku==0.0.5.dev0 optax==0.0.6 chex==0.0.6"
      ],
      "metadata": {
        "colab": {
          "base_uri": "https://localhost:8080/"
        },
        "id": "hFTgggGdFOG6",
        "outputId": "bd85fac8-cec9-4323-94cd-9a445c20b30e"
      },
      "execution_count": 7,
      "outputs": [
        {
          "output_type": "stream",
          "name": "stdout",
          "text": [
            "Looking in indexes: https://pypi.org/simple, https://us-python.pkg.dev/colab-wheels/public/simple/\n",
            "Collecting jaxlib==0.1.65+cuda111\n",
            "  Using cached https://storage.googleapis.com/jax-releases/cuda111/jaxlib-0.1.65+cuda111-cp37-none-manylinux2010_x86_64.whl (189.4 MB)\n",
            "Requirement already satisfied: flatbuffers in /usr/local/lib/python3.7/dist-packages (from jaxlib==0.1.65+cuda111) (2.0)\n",
            "Requirement already satisfied: scipy in /usr/local/lib/python3.7/dist-packages (from jaxlib==0.1.65+cuda111) (1.7.3)\n",
            "Requirement already satisfied: absl-py in /usr/local/lib/python3.7/dist-packages (from jaxlib==0.1.65+cuda111) (1.2.0)\n",
            "Requirement already satisfied: numpy>=1.16 in /usr/local/lib/python3.7/dist-packages (from jaxlib==0.1.65+cuda111) (1.21.6)\n",
            "Looking in indexes: https://pypi.org/simple, https://us-python.pkg.dev/colab-wheels/public/simple/\n",
            "Requirement already satisfied: jax==0.2.12 in /usr/local/lib/python3.7/dist-packages (0.2.12)\n",
            "Requirement already satisfied: numpy>=1.12 in /usr/local/lib/python3.7/dist-packages (from jax==0.2.12) (1.21.6)\n",
            "Requirement already satisfied: absl-py in /usr/local/lib/python3.7/dist-packages (from jax==0.2.12) (1.2.0)\n",
            "Requirement already satisfied: opt-einsum in /usr/local/lib/python3.7/dist-packages (from jax==0.2.12) (3.3.0)\n",
            "Looking in indexes: https://pypi.org/simple, https://us-python.pkg.dev/colab-wheels/public/simple/\n",
            "Requirement already satisfied: dm-haiku==0.0.5.dev0 in /usr/local/lib/python3.7/dist-packages (0.0.5.dev0)\n",
            "Requirement already satisfied: optax==0.0.6 in /usr/local/lib/python3.7/dist-packages (0.0.6)\n",
            "Requirement already satisfied: chex==0.0.6 in /usr/local/lib/python3.7/dist-packages (0.0.6)\n",
            "Requirement already satisfied: absl-py>=0.7.1 in /usr/local/lib/python3.7/dist-packages (from dm-haiku==0.0.5.dev0) (1.2.0)\n",
            "Requirement already satisfied: tabulate>=0.8.9 in /usr/local/lib/python3.7/dist-packages (from dm-haiku==0.0.5.dev0) (0.8.10)\n",
            "Requirement already satisfied: typing-extensions in /usr/local/lib/python3.7/dist-packages (from dm-haiku==0.0.5.dev0) (4.1.1)\n",
            "Requirement already satisfied: numpy>=1.18.0 in /usr/local/lib/python3.7/dist-packages (from dm-haiku==0.0.5.dev0) (1.21.6)\n",
            "Requirement already satisfied: jax>=0.1.55 in /usr/local/lib/python3.7/dist-packages (from optax==0.0.6) (0.2.12)\n",
            "Requirement already satisfied: jaxlib>=0.1.37 in /usr/local/lib/python3.7/dist-packages (from optax==0.0.6) (0.1.65+cuda111)\n",
            "Requirement already satisfied: dm-tree>=0.1.5 in /usr/local/lib/python3.7/dist-packages (from chex==0.0.6) (0.1.7)\n",
            "Requirement already satisfied: toolz>=0.9.0 in /usr/local/lib/python3.7/dist-packages (from chex==0.0.6) (0.12.0)\n",
            "Requirement already satisfied: opt-einsum in /usr/local/lib/python3.7/dist-packages (from jax>=0.1.55->optax==0.0.6) (3.3.0)\n",
            "Requirement already satisfied: flatbuffers in /usr/local/lib/python3.7/dist-packages (from jaxlib>=0.1.37->optax==0.0.6) (2.0)\n",
            "Requirement already satisfied: scipy in /usr/local/lib/python3.7/dist-packages (from jaxlib>=0.1.37->optax==0.0.6) (1.7.3)\n"
          ]
        }
      ]
    },
    {
      "cell_type": "code",
      "source": [
        "for i, root in enumerate(glob.glob('/content/runs/*/')):\n",
        "  shutil.rmtree(root, ignore_errors=True)"
      ],
      "metadata": {
        "id": "2-kn_WUcFQJs"
      },
      "execution_count": 18,
      "outputs": []
    },
    {
      "cell_type": "code",
      "source": [
        "!python3 bnn_hmc/scripts/run_sgd.py --seed=0 --weight_decay=10 --dir=runs/sgd/mlsst/ \\\n",
        "--dataset_name=mlsst/Y10 --model_name=lenet_dropout --init_step_size=3e-7 --num_epochs=200 --eval_freq=5 \\\n",
        "--batch_size=100 --save_freq=5 --optimizer=SGD --patience 20 --test_split validation \\\n",
        "--dropout_rate 0.1 --image_size=64 --scaling asinh --subset_train_to=20000"
      ],
      "metadata": {
        "colab": {
          "base_uri": "https://localhost:8080/"
        },
        "id": "n0eudOdmFVSn",
        "outputId": "68858f20-7c80-4b68-b72a-001c65615954"
      },
      "execution_count": 19,
      "outputs": [
        {
          "output_type": "stream",
          "name": "stdout",
          "text": [
            "JAX sees the following devices: [GpuDevice(id=0, process_index=0)]\n",
            "TF sees the following devices: [PhysicalDevice(name='/physical_device:CPU:0', device_type='CPU')]\n",
            "2022-08-24 17:56:34.905987: W tensorflow/core/framework/cpu_allocator_impl.cc:82] Allocation of 1154433024 exceeds 10% of free system memory.\n",
            "tcmalloc: large alloc 1154433024 bytes == 0x1d416000 @  0x7f0561dc8b6b 0x7f0561de8379 0x7f051475ffc7 0x7f0502b9666f 0x7f0502c33d78 0x7f050e34d1d0 0x7f050e34d763 0x7f050f8f31c2 0x7f0502d5826b 0x7f050f9c75c1 0x7f05087b1551 0x7f05087ae213 0x7f0503492515 0x7f05617aa6db 0x7f0561ae361f\n",
            "Starting from random initialization with provided seed\n",
            "/content/bnn_hmc/bnn_hmc/utils/script_utils.py:153: VisibleDeprecationWarning: Creating an ndarray from ragged nested sequences (which is a list-or-tuple of lists-or-tuples-or ndarrays with different lengths or shapes) is deprecated. If you meant to do this, you must specify 'dtype=object' when creating the ndarray.\n",
            "  predict_fn(net_apply, params, net_state, test_set, key))\n",
            "/content/bnn_hmc/bnn_hmc/utils/script_utils.py:155: VisibleDeprecationWarning: Creating an ndarray from ragged nested sequences (which is a list-or-tuple of lists-or-tuples-or ndarrays with different lengths or shapes) is deprecated. If you meant to do this, you must specify 'dtype=object' when creating the ndarray.\n",
            "  predict_fn(net_apply, params, net_state, train_set, key))\n",
            "---  --------  ----------------  ---------------  ----------  -------------------  --------------  --------------  --------\n",
            "  i         t    train/accuracy    test/accuracy    test/nll  test/ens_accuracy    test/ens_nll    test/ens_ece          lr\n",
            "---  --------  ----------------  ---------------  ----------  -------------------  --------------  --------------  --------\n",
            "  0    5.2175            0.4237           0.4268      1.0730                                                         0.0000\n",
            "  1    0.4993            0.4237           0.4268      1.0731                                                         0.0000\n",
            "  2    0.5002            0.4237           0.4268      1.0730                                                         0.0000\n",
            "  3    0.4997            0.4237           0.4268      1.0732                                                         0.0000\n",
            "  4    0.4999            0.4239           0.4268      1.0732                                                         0.0000\n",
            "  5    0.5002            0.4237           0.4268      1.0731                                                         0.0000\n",
            "  6    0.4995            0.5445           0.5508      0.9768                                                         0.0000\n",
            "  7    0.5247            0.5710           0.5845      0.8908                                                         0.0000\n",
            "  8    0.4997            0.5821           0.5902      0.8830                                                         0.0000\n",
            "  9    0.5006            0.5889           0.5973      0.8679                                                         0.0000\n",
            " 10    0.4998            0.5776           0.5770      0.8771                                                         0.0000\n",
            " 11    0.4992            0.5986           0.6021      0.8732                                                         0.0000\n",
            " 12    0.4992            0.5972           0.6075      0.8608                                                         0.0000\n",
            " 13    0.5000            0.5990           0.6048      0.8571                                                         0.0000\n",
            " 14    0.4997            0.6031           0.6063      0.8825                                                         0.0000\n",
            " 15    0.4998            0.6010           0.6006      0.8663                                                         0.0000\n",
            " 16    0.5000            0.6032           0.5931      0.8686                                                         0.0000\n",
            " 17    0.5006            0.6090           0.6089      0.8629                                                         0.0000\n",
            " 18    0.5003            0.6117           0.6131      0.8590                                                         0.0000\n",
            " 19    0.4996            0.6173           0.6092      0.8719                                                         0.0000\n",
            " 20    0.4994            0.6128           0.6092      0.8439                                                         0.0000\n",
            " 21    0.5003            0.6155           0.6086      0.8441                                                         0.0000\n",
            " 22    0.4998            0.6191           0.6161      0.8406                                                         0.0000\n",
            " 23    0.4999            0.6152           0.5985      0.8770                                                         0.0000\n",
            " 24    0.4996            0.6171           0.6080      0.8651                                                         0.0000\n",
            " 25    0.4999            0.6221           0.6024      0.8559                                                         0.0000\n",
            " 26    0.5007            0.6294           0.6209      0.8381                                                         0.0000\n",
            " 27    0.4998            0.6212           0.6113      0.8486                                                         0.0000\n",
            " 28    0.5002            0.6247           0.6194      0.8482                                                         0.0000\n",
            " 29    0.4999            0.6351           0.6230      0.8372                                                         0.0000\n",
            " 30    0.5013            0.6180           0.6060      0.8546                                                         0.0000\n",
            " 31    0.4997            0.6196           0.5893      0.8544                                                         0.0000\n",
            " 32    0.5003            0.6360           0.6069      0.8604                                                         0.0000\n",
            " 33    0.5000            0.6436           0.6167      0.8356                                                         0.0000\n",
            " 34    0.4998            0.6354           0.6170      0.8354                                                         0.0000\n",
            " 35    0.5015            0.6452           0.6262      0.8238                                                         0.0000\n",
            " 36    0.5009            0.6392           0.6054      0.8595                                                         0.0000\n",
            " 37    0.4993            0.6127           0.5866      0.8777                                                         0.0000\n",
            " 38    0.5015            0.6581           0.6182      0.8384                                                         0.0000\n",
            " 39    0.5007            0.6560           0.6259      0.8274                                                         0.0000\n",
            "---  --------  ----------------  ---------------  ----------  -------------------  --------------  --------------  --------\n",
            "  i         t    train/accuracy    test/accuracy    test/nll  test/ens_accuracy    test/ens_nll    test/ens_ece          lr\n",
            "---  --------  ----------------  ---------------  ----------  -------------------  --------------  --------------  --------\n",
            " 40    0.5004            0.6540           0.6292      0.8211                                                         0.0000\n",
            " 41    0.5010            0.6676           0.6385      0.8157                                                         0.0000\n",
            " 42    0.5004            0.6504           0.6054      0.8424                                                         0.0000\n",
            " 43    0.4999            0.6562           0.6218      0.8558                                                         0.0000\n",
            " 44    0.5020            0.6781           0.6340      0.8166                                                         0.0000\n",
            " 45    0.5009            0.6599           0.6322      0.8309                                                         0.0000\n",
            " 46    0.5003            0.6719           0.6322      0.8113                                                         0.0000\n",
            " 47    0.5009            0.6602           0.6185      0.8262                                                         0.0000\n",
            " 48    0.5003            0.6709           0.6265      0.8166                                                         0.0000\n",
            " 49    0.5004            0.6792           0.6247      0.8150                                                         0.0000\n",
            " 50    0.5010            0.6589           0.6271      0.8342                                                         0.0000\n",
            " 51    0.5018            0.6385           0.6048      0.8559                                                         0.0000\n",
            " 52    0.5009            0.6730           0.6244      0.8211                                                         0.0000\n",
            " 53    0.5009            0.6830           0.6319      0.8212                                                         0.0000\n",
            " 54    0.5014            0.6388           0.6006      0.8638                                                         0.0000\n",
            " 55    0.5003            0.6817           0.6340      0.8124                                                         0.0000\n",
            " 56    0.5010            0.6753           0.6280      0.8401                                                         0.0000\n",
            " 57    0.5001            0.6895           0.6432      0.8051                                                         0.0000\n",
            " 58    0.5009            0.6846           0.6316      0.8178                                                         0.0000\n",
            " 59    0.5001            0.6900           0.6250      0.8200                                                         0.0000\n",
            " 60    0.4991            0.6784           0.6286      0.8256                                                         0.0000\n",
            " 61    0.5010            0.7010           0.6382      0.8016                                                         0.0000\n",
            " 62    0.5003            0.6931           0.6313      0.8223                                                         0.0000\n",
            " 63    0.5021            0.7068           0.6465      0.7929                                                         0.0000\n",
            " 64    0.5010            0.6762           0.6215      0.8236                                                         0.0000\n",
            " 65    0.5013            0.6951           0.6295      0.8095                                                         0.0000\n",
            " 66    0.5006            0.7069           0.6390      0.8017                                                         0.0000\n",
            " 67    0.5010            0.7189           0.6569      0.7804                                                         0.0000\n",
            " 68    0.5006            0.6944           0.6408      0.8121                                                         0.0000\n",
            " 69    0.5031            0.7114           0.6501      0.8018                                                         0.0000\n",
            " 70    0.5010            0.7096           0.6414      0.8192                                                         0.0000\n",
            " 71    0.4997            0.6920           0.6221      0.8213                                                         0.0000\n",
            " 72    0.4995            0.7098           0.6244      0.8306                                                         0.0000\n",
            " 73    0.5007            0.7200           0.6510      0.8119                                                         0.0000\n",
            " 74    0.5012            0.7081           0.6423      0.7950                                                         0.0000\n",
            " 75    0.5002            0.7352           0.6468      0.8161                                                         0.0000\n",
            " 76    0.4996            0.7143           0.6516      0.7885                                                         0.0000\n",
            " 77    0.5001            0.7300           0.6477      0.7966                                                         0.0000\n",
            " 78    0.5000            0.7283           0.6513      0.7868                                                         0.0000\n",
            " 79    0.4998            0.7401           0.6468      0.7950                                                         0.0000\n",
            "---  --------  ----------------  ---------------  ----------  -------------------  --------------  --------------  --------\n",
            "  i         t    train/accuracy    test/accuracy    test/nll  test/ens_accuracy    test/ens_nll    test/ens_ece          lr\n",
            "---  --------  ----------------  ---------------  ----------  -------------------  --------------  --------------  --------\n",
            " 80    0.5005            0.7324           0.6528      0.7983                                                         0.0000\n",
            " 81    0.5013            0.7218           0.6450      0.7978                                                         0.0000\n",
            " 82    0.5001            0.7220           0.6423      0.7950                                                         0.0000\n",
            " 83    0.5007            0.7388           0.6614      0.7807                                                         0.0000\n",
            " 84    0.5021            0.7282           0.6343      0.8066                                                         0.0000\n",
            " 85    0.5004            0.7376           0.6510      0.7817                                                         0.0000\n",
            " 86    0.5003            0.7391           0.6474      0.8108                                                         0.0000\n",
            " 87    0.5005            0.7538           0.6590      0.7720                                                         0.0000\n",
            " 88    0.5012            0.7466           0.6566      0.7983                                                         0.0000\n",
            " 89    0.4999            0.7380           0.6358      0.8150                                                         0.0000\n",
            " 90    0.5003            0.7364           0.6426      0.8007                                                         0.0000\n",
            " 91    0.4999            0.7412           0.6438      0.7903                                                         0.0000\n",
            " 92    0.5005            0.7592           0.6590      0.7751                                                         0.0000\n",
            " 93    0.5014            0.7576           0.6468      0.8095                                                         0.0000\n",
            " 94    0.4997            0.7601           0.6477      0.7921                                                         0.0000\n",
            " 95    0.5012            0.7623           0.6581      0.7877                                                         0.0000\n",
            " 96    0.5008            0.7552           0.6522      0.7826                                                         0.0000\n",
            " 97    0.5021            0.7727           0.6659      0.7768                                                         0.0000\n",
            " 98    0.5013            0.7224           0.6215      0.8283                                                         0.0000\n",
            " 99    0.5004            0.7271           0.6450      0.7989                                                         0.0000\n",
            "100    0.5001            0.7680           0.6537      0.8073                                                         0.0000\n",
            "101    0.5003            0.7527           0.6462      0.7934                                                         0.0000\n",
            "102    0.5005            0.7781           0.6644      0.7617                                                         0.0000\n",
            "103    0.5008            0.7781           0.6608      0.7799                                                         0.0000\n",
            "104    0.5006            0.7645           0.6531      0.7818                                                         0.0000\n",
            "105    0.5005            0.7805           0.6727      0.7629                                                         0.0000\n",
            "106    0.5012            0.7861           0.6635      0.7709                                                         0.0000\n",
            "107    0.5014            0.7859           0.6596      0.7831                                                         0.0000\n",
            "108    0.5007            0.7849           0.6650      0.7756                                                         0.0000\n",
            "109    0.5014            0.7930           0.6545      0.8078                                                         0.0000\n",
            "110    0.5006            0.7575           0.6537      0.7880                                                         0.0000\n",
            "111    0.5010            0.7613           0.6426      0.7896                                                         0.0000\n",
            "112    0.5009            0.7972           0.6739      0.7596                                                         0.0000\n",
            "113    0.5006            0.7832           0.6715      0.7659                                                         0.0000\n",
            "114    0.4998            0.8138           0.6721      0.7701                                                         0.0000\n",
            "115    0.4998            0.8016           0.6635      0.7805                                                         0.0000\n",
            "116    0.4994            0.8057           0.6596      0.7771                                                         0.0000\n",
            "117    0.4995            0.7632           0.6638      0.7819                                                         0.0000\n",
            "118    0.5006            0.7955           0.6548      0.7981                                                         0.0000\n",
            "119    0.5006            0.8057           0.6778      0.7648                                                         0.0000\n",
            "---  --------  ----------------  ---------------  ----------  -------------------  --------------  --------------  --------\n",
            "  i         t    train/accuracy    test/accuracy    test/nll  test/ens_accuracy    test/ens_nll    test/ens_ece          lr\n",
            "---  --------  ----------------  ---------------  ----------  -------------------  --------------  --------------  --------\n",
            "120    0.5009            0.8064           0.6635      0.7801                                                         0.0000\n",
            "121    0.5014            0.8011           0.6629      0.7639                                                         0.0000\n",
            "122    0.5000            0.7990           0.6659      0.7697                                                         0.0000\n",
            "123    0.5017            0.8171           0.6796      0.7523                                                         0.0000\n",
            "124    0.5014            0.8165           0.6733      0.7599                                                         0.0000\n",
            "125    0.4997            0.7829           0.6694      0.7702                                                         0.0000\n",
            "126    0.4996            0.7964           0.6694      0.7766                                                         0.0000\n",
            "127    0.5003            0.8127           0.6706      0.7703                                                         0.0000\n",
            "128    0.5010            0.8159           0.6769      0.7569                                                         0.0000\n",
            "129    0.5027            0.8258           0.6638      0.7854                                                         0.0000\n",
            "130    0.5007            0.8183           0.6733      0.7685                                                         0.0000\n",
            "131    0.5009            0.7840           0.6489      0.8029                                                         0.0000\n",
            "132    0.5008            0.8100           0.6644      0.7789                                                         0.0000\n",
            "133    0.5004            0.8104           0.6584      0.7932                                                         0.0000\n",
            "134    0.5015            0.8176           0.6829      0.7626                                                         0.0000\n",
            "135    0.5015            0.8338           0.6808      0.7697                                                         0.0000\n",
            "136    0.5001            0.8298           0.6748      0.7751                                                         0.0000\n",
            "137    0.4993            0.8151           0.6802      0.7528                                                         0.0000\n",
            "138    0.5003            0.8344           0.6641      0.7758                                                         0.0000\n",
            "139    0.5015            0.8206           0.6584      0.7789                                                         0.0000\n",
            "140    0.5001            0.8341           0.6870      0.7494                                                         0.0000\n",
            "141    0.5009            0.8068           0.6593      0.7814                                                         0.0000\n",
            "142    0.5010            0.8364           0.6754      0.7652                                                         0.0000\n",
            "143    0.5005            0.8351           0.6697      0.7692                                                         0.0000\n",
            "144    0.4995            0.8385           0.6799      0.7576                                                         0.0000\n",
            "145    0.4995            0.8424           0.6697      0.7829                                                         0.0000\n",
            "146    0.5009            0.8150           0.6510      0.7932                                                         0.0000\n",
            "147    0.5012            0.8321           0.6712      0.7537                                                         0.0000\n",
            "148    0.5003            0.8214           0.6531      0.7816                                                         0.0000\n",
            "149    0.5002            0.8281           0.6539      0.7775                                                         0.0000\n",
            "150    0.5005            0.8440           0.6864      0.7521                                                         0.0000\n",
            "151    0.4997            0.8492           0.6730      0.7520                                                         0.0000\n",
            "152    0.5017            0.8453           0.6668      0.7652                                                         0.0000\n",
            "153    0.5015            0.8569           0.6855      0.7650                                                         0.0000\n",
            "154    0.5016            0.8301           0.6590      0.7796                                                         0.0000\n",
            "155    0.5008            0.8521           0.6873      0.7407                                                         0.0000\n",
            "156    0.5009            0.8579           0.6838      0.7538                                                         0.0000\n",
            "157    0.5003            0.8448           0.6584      0.7819                                                         0.0000\n",
            "158    0.5013            0.8632           0.6945      0.7537                                                         0.0000\n",
            "159    0.5014            0.8502           0.6855      0.7528                                                         0.0000\n",
            "---  --------  ----------------  ---------------  ----------  -------------------  --------------  --------------  --------\n",
            "  i         t    train/accuracy    test/accuracy    test/nll  test/ens_accuracy    test/ens_nll    test/ens_ece          lr\n",
            "---  --------  ----------------  ---------------  ----------  -------------------  --------------  --------------  --------\n",
            "160    0.5013            0.8381           0.6626      0.7689                                                         0.0000\n",
            "161    0.5011            0.8534           0.6844      0.7525                                                         0.0000\n",
            "162    0.5007            0.8662           0.6844      0.7525                                                         0.0000\n",
            "163    0.5012            0.8578           0.6870      0.7445                                                         0.0000\n",
            "164    0.5022            0.8636           0.6876      0.7544                                                         0.0000\n",
            "165    0.5012            0.8654           0.6924      0.7494                                                         0.0000\n",
            "166    0.5010            0.8267           0.6557      0.7857                                                         0.0000\n",
            "167    0.5023            0.8695           0.6855      0.7509                                                         0.0000\n",
            "168    0.5006            0.8611           0.6936      0.7394                                                         0.0000\n",
            "169    0.5008            0.8650           0.6918      0.7495                                                         0.0000\n",
            "170    0.5014            0.8658           0.6903      0.7426                                                         0.0000\n",
            "171    0.5006            0.8637           0.6918      0.7496                                                         0.0000\n",
            "172    0.5013            0.8637           0.6841      0.7526                                                         0.0000\n",
            "173    0.5060            0.8654           0.6888      0.7567                                                         0.0000\n",
            "174    0.5017            0.8626           0.6838      0.7506                                                         0.0000\n",
            "175    0.5011            0.8609           0.6772      0.7582                                                         0.0000\n",
            "176    0.5009            0.8650           0.6864      0.7498                                                         0.0000\n",
            "177    0.5009            0.8563           0.6769      0.7623                                                         0.0000\n",
            "178    0.5021            0.8571           0.6775      0.7580                                                         0.0000\n",
            "179    0.5010            0.8705           0.6948      0.7471                                                         0.0000\n",
            "180    0.5017            0.8625           0.6790      0.7607                                                         0.0000\n",
            "181    0.4999            0.8648           0.6772      0.7637                                                         0.0000\n",
            "182    0.5005            0.8657           0.6805      0.7597                                                         0.0000\n",
            "183    0.5020            0.8701           0.6930      0.7489                                                         0.0000\n",
            "184    0.5019            0.8601           0.6784      0.7618                                                         0.0000\n",
            "185    0.5245            0.8687           0.6900      0.7458                                                         0.0000\n",
            "186    0.5021            0.8690           0.6924      0.7502                                                         0.0000\n",
            "187    0.5007            0.8670           0.6873      0.7541                                                         0.0000\n",
            "188    0.5022            0.8705           0.6903      0.7515                                                         0.0000\n"
          ]
        }
      ]
    },
    {
      "cell_type": "code",
      "source": [
        "!python3 bnn_hmc/scripts/run_sgd.py --seed=0 --weight_decay=10 --dir=runs/sgd/mlsst/ \\\n",
        "--dataset_name=mlsst/Y10 --model_name=lenet_dropout --init_step_size=3e-7 --num_epochs=200 --eval_freq=5 \\\n",
        "--batch_size=100 --save_freq=5 --optimizer=SGD --patience 10 --eval_split test \\\n",
        "--dropout_rate 0.1 --image_size=64 --scaling asinh --repeats 10"
      ],
      "metadata": {
        "colab": {
          "base_uri": "https://localhost:8080/"
        },
        "id": "6XX4bsLyGHWu",
        "outputId": "e944d27e-79c6-4724-9fb1-1baa114683da"
      },
      "execution_count": 20,
      "outputs": [
        {
          "output_type": "stream",
          "name": "stdout",
          "text": [
            "JAX sees the following devices: [GpuDevice(id=0, process_index=0)]\n",
            "TF sees the following devices: [PhysicalDevice(name='/physical_device:CPU:0', device_type='CPU')]\n",
            "2022-08-24 18:02:46.462841: W tensorflow/core/framework/cpu_allocator_impl.cc:82] Allocation of 1154433024 exceeds 10% of free system memory.\n",
            "tcmalloc: large alloc 1154433024 bytes == 0x1beb6000 @  0x7fe44799bb6b 0x7fe4479bb379 0x7fe3fa332fc7 0x7fe3e876966f 0x7fe3e8806d78 0x7fe3f3f201d0 0x7fe3f3f20763 0x7fe3f54c61c2 0x7fe3e892b26b 0x7fe3f559a5c1 0x7fe3ee384551 0x7fe3ee381213 0x7fe3e9065515 0x7fe44737d6db 0x7fe4476b661f\n",
            "Continuing the run from the last saved checkpoint\n",
            "bnn_hmc/scripts/run_sgd.py:188: VisibleDeprecationWarning: Creating an ndarray from ragged nested sequences (which is a list-or-tuple of lists-or-tuples-or ndarrays with different lengths or shapes) is deprecated. If you meant to do this, you must specify 'dtype=object' when creating the ndarray.\n",
            "  predict_fn(net_apply, params, net_state, test_set, key))\n",
            "{'accuracy': DeviceArray(0.6405063, dtype=float32), 'nll': 0.94891155, 'ece': DeviceArray(0.12537982, dtype=float32)}\n",
            "{'accuracy': DeviceArray(0.6455696, dtype=float32), 'nll': 0.94587576, 'ece': DeviceArray(0.11323478, dtype=float32)}\n",
            "{'accuracy': DeviceArray(0.63544303, dtype=float32), 'nll': 0.9673609, 'ece': DeviceArray(0.12593244, dtype=float32)}\n",
            "{'accuracy': DeviceArray(0.637379, dtype=float32), 'nll': 0.96582425, 'ece': DeviceArray(0.12404026, dtype=float32)}\n",
            "{'accuracy': DeviceArray(0.6388682, dtype=float32), 'nll': 0.9698109, 'ece': DeviceArray(0.12337077, dtype=float32)}\n",
            "{'accuracy': DeviceArray(0.6349963, dtype=float32), 'nll': 0.9653466, 'ece': DeviceArray(0.12712434, dtype=float32)}\n",
            "{'accuracy': DeviceArray(0.6357409, dtype=float32), 'nll': 0.9646271, 'ece': DeviceArray(0.1281301, dtype=float32)}\n",
            "{'accuracy': DeviceArray(0.64139986, dtype=float32), 'nll': 0.94426686, 'ece': DeviceArray(0.1172181, dtype=float32)}\n",
            "{'accuracy': DeviceArray(0.64035743, dtype=float32), 'nll': 0.9469337, 'ece': DeviceArray(0.12167293, dtype=float32)}\n",
            "{'accuracy': DeviceArray(0.6367833, dtype=float32), 'nll': 0.9615883, 'ece': DeviceArray(0.12559278, dtype=float32)}\n"
          ]
        }
      ]
    },
    {
      "cell_type": "code",
      "source": [
        "softmax = []\n",
        "for i, root in enumerate(glob.glob('/content/runs/sgd/mlsst/*/predictions*npy')):\n",
        "  data = np.load(root.replace('predictions', 'test_set')) \n",
        "  prediction = np.load(root)\n",
        "  metrics = np.load(root.replace('predictions', 'metrics'), allow_pickle=True)\n",
        "  print(metrics)\n",
        "  softmax.append(np.squeeze(prediction))\n",
        "softmax = np.array(softmax)"
      ],
      "metadata": {
        "colab": {
          "base_uri": "https://localhost:8080/"
        },
        "id": "ge7v7XCtdqdH",
        "outputId": "c3bfa121-9689-4a7a-cb1a-56837031b97d"
      },
      "execution_count": 21,
      "outputs": [
        {
          "output_type": "stream",
          "name": "stdout",
          "text": [
            "{'accuracy': array(0.63544303, dtype=float32), 'nll': 0.9673609, 'ece': array(0.12593244, dtype=float32)}\n",
            "{'accuracy': array(0.6405063, dtype=float32), 'nll': 0.94891155, 'ece': array(0.12537982, dtype=float32)}\n",
            "{'accuracy': array(0.637379, dtype=float32), 'nll': 0.96582425, 'ece': array(0.12404026, dtype=float32)}\n",
            "{'accuracy': array(0.6455696, dtype=float32), 'nll': 0.94587576, 'ece': array(0.11323478, dtype=float32)}\n",
            "{'accuracy': array(0.64139986, dtype=float32), 'nll': 0.94426686, 'ece': array(0.1172181, dtype=float32)}\n",
            "{'accuracy': array(0.6388682, dtype=float32), 'nll': 0.9698109, 'ece': array(0.12337077, dtype=float32)}\n",
            "{'accuracy': array(0.6357409, dtype=float32), 'nll': 0.9646271, 'ece': array(0.1281301, dtype=float32)}\n",
            "{'accuracy': array(0.64035743, dtype=float32), 'nll': 0.9469337, 'ece': array(0.12167293, dtype=float32)}\n",
            "{'accuracy': array(0.6349963, dtype=float32), 'nll': 0.9653466, 'ece': array(0.12712434, dtype=float32)}\n",
            "{'accuracy': array(0.6367833, dtype=float32), 'nll': 0.9615883, 'ece': array(0.12559278, dtype=float32)}\n"
          ]
        }
      ]
    },
    {
      "cell_type": "code",
      "source": [
        "mean_softmax = np.mean(softmax, axis=0)\n",
        "ensemble_accuracy = np.mean(np.argmax(mean_softmax, axis=-1) == data)\n",
        "print('Ensemble accuracy', ensemble_accuracy)"
      ],
      "metadata": {
        "colab": {
          "base_uri": "https://localhost:8080/"
        },
        "id": "ZQXcWe-7eq8W",
        "outputId": "624a5667-6685-413d-9d7f-2169c42a34b0"
      },
      "execution_count": 22,
      "outputs": [
        {
          "output_type": "stream",
          "name": "stdout",
          "text": [
            "Ensemble accuracy 0.6820551005212211\n"
          ]
        }
      ]
    },
    {
      "cell_type": "code",
      "source": [
        "def uncertainty(softmax):\n",
        "  # Per example softmax with shape(num_examples, num_classes)\n",
        "  predictive_entropy = 0\n",
        "  single_pass_entropy = 0\n",
        "  for i in range(softmax.shape[1]):\n",
        "    # Sum over classes\n",
        "    predictive_entropy += -np.mean(softmax[:,i])*np.log(np.mean(softmax[:,i]))\n",
        "    single_pass_entropy += -softmax[:,i]*np.log(softmax[:,i])\n",
        "  single_pass_entropy = np.mean(single_pass_entropy)\n",
        "  mutual_info = predictive_entropy - single_pass_entropy\n",
        "  return predictive_entropy, single_pass_entropy, mutual_info"
      ],
      "metadata": {
        "id": "ZO6-3wWwetpR"
      },
      "execution_count": 23,
      "outputs": []
    },
    {
      "cell_type": "code",
      "source": [
        "predictive_entropies = [] \n",
        "single_pass_entropies = []\n",
        "mutual_infos = []\n",
        "for i in range(softmax.shape[1]):\n",
        "  predictive_entropy, single_pass_entropy, mutual_info = uncertainty(softmax[:,i,:])\n",
        "  predictive_entropies.append(predictive_entropy)\n",
        "  single_pass_entropies.append(single_pass_entropy)\n",
        "  mutual_infos.append(mutual_info)\n",
        "print('Predictive entropy:', np.mean(predictive_entropies), np.std(predictive_entropies))\n",
        "print('Single pass entropy:', np.mean(single_pass_entropies), np.std(single_pass_entropies))\n",
        "print('Mutual info:', np.mean(mutual_infos), np.std(mutual_infos))"
      ],
      "metadata": {
        "colab": {
          "base_uri": "https://localhost:8080/"
        },
        "id": "xbS53hwKexDm",
        "outputId": "0f31cab3-a4d9-4241-dbd9-3cf4f73655a7"
      },
      "execution_count": 24,
      "outputs": [
        {
          "output_type": "stream",
          "name": "stdout",
          "text": [
            "Predictive entropy: 0.6728934176087049 0.3261580638619812\n",
            "Single pass entropy: 0.55011487 0.29535943\n",
            "Mutual info: 0.12277855433855503 0.08790546940997121\n"
          ]
        }
      ]
    },
    {
      "cell_type": "code",
      "source": [
        "sns.boxplot(predictive_entropies)\n",
        "plt.show()"
      ],
      "metadata": {
        "colab": {
          "base_uri": "https://localhost:8080/",
          "height": 321
        },
        "id": "7KWTXrRhezLR",
        "outputId": "ab49b33c-0f07-4bb6-f1f4-89dda7a73bb8"
      },
      "execution_count": 25,
      "outputs": [
        {
          "output_type": "stream",
          "name": "stderr",
          "text": [
            "/usr/local/lib/python3.7/dist-packages/seaborn/_decorators.py:43: FutureWarning: Pass the following variable as a keyword arg: x. From version 0.12, the only valid positional argument will be `data`, and passing other arguments without an explicit keyword will result in an error or misinterpretation.\n",
            "  FutureWarning\n"
          ]
        },
        {
          "output_type": "display_data",
          "data": {
            "text/plain": [
              "<Figure size 432x288 with 1 Axes>"
            ],
            "image/png": "[encoded data removed]"
          },
          "metadata": {
            "needs_background": "light"
          }
        }
      ]
    },
    {
      "cell_type": "code",
      "source": [
        "sns.boxplot(single_pass_entropies)\n",
        "plt.show()"
      ],
      "metadata": {
        "colab": {
          "base_uri": "https://localhost:8080/",
          "height": 321
        },
        "id": "EiJbRMj2e1ut",
        "outputId": "ac64e0fa-a9da-4744-f4cb-05e995d62fc5"
      },
      "execution_count": 26,
      "outputs": [
        {
          "output_type": "stream",
          "name": "stderr",
          "text": [
            "/usr/local/lib/python3.7/dist-packages/seaborn/_decorators.py:43: FutureWarning: Pass the following variable as a keyword arg: x. From version 0.12, the only valid positional argument will be `data`, and passing other arguments without an explicit keyword will result in an error or misinterpretation.\n",
            "  FutureWarning\n"
          ]
        },
        {
          "output_type": "display_data",
          "data": {
            "text/plain": [
              "<Figure size 432x288 with 1 Axes>"
            ],
            "image/png": "[encoded data removed]"
          },
          "metadata": {
            "needs_background": "light"
          }
        }
      ]
    },
    {
      "cell_type": "code",
      "source": [
        "sns.boxplot(mutual_infos)\n",
        "plt.show()"
      ],
      "metadata": {
        "colab": {
          "base_uri": "https://localhost:8080/",
          "height": 321
        },
        "id": "a6JYqWr7e5ZO",
        "outputId": "597a0677-9cec-4f4e-e7b5-3a675df214a7"
      },
      "execution_count": 27,
      "outputs": [
        {
          "output_type": "stream",
          "name": "stderr",
          "text": [
            "/usr/local/lib/python3.7/dist-packages/seaborn/_decorators.py:43: FutureWarning: Pass the following variable as a keyword arg: x. From version 0.12, the only valid positional argument will be `data`, and passing other arguments without an explicit keyword will result in an error or misinterpretation.\n",
            "  FutureWarning\n"
          ]
        },
        {
          "output_type": "display_data",
          "data": {
            "text/plain": [
              "<Figure size 432x288 with 1 Axes>"
            ],
            "image/png": "[encoded data removed]"
          },
          "metadata": {
            "needs_background": "light"
          }
        }
      ]
    },
    {
      "cell_type": "code",
      "source": [],
      "metadata": {
        "id": "di4p7-hie72k"
      },
      "execution_count": 17,
      "outputs": []
    }
  ]
}