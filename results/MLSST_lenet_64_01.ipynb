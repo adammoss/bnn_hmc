{
  "nbformat": 4,
  "nbformat_minor": 0,
  "metadata": {
    "colab": {
      "name": "MLSST_lenet_64_01.ipynb",
      "provenance": [],
      "authorship_tag": "ABX9TyPcvaX3RvjHQBqvRoqLp12Y",
      "include_colab_link": true
    },
    "kernelspec": {
      "name": "python3",
      "display_name": "Python 3"
    },
    "language_info": {
      "name": "python"
    },
    "accelerator": "GPU",
    "gpuClass": "standard"
  },
  "cells": [
    {
      "cell_type": "markdown",
      "metadata": {
        "id": "view-in-github",
        "colab_type": "text"
      },
      "source": [
        "<a href=\"https://colab.research.google.com/github/adammoss/bnn_hmc/blob/main/results/MLSST_lenet_64_01.ipynb\" target=\"_parent\"><img src=\"https://colab.research.google.com/assets/colab-badge.svg\" alt=\"Open In Colab\"/></a>"
      ]
    },
    {
      "cell_type": "code",
      "execution_count": 1,
      "metadata": {
        "id": "fkHbmimJE5CF"
      },
      "outputs": [],
      "source": [
        "import os\n",
        "import sys\n",
        "import shutil\n",
        "import subprocess\n",
        "import glob\n",
        "import matplotlib.pyplot as plt\n",
        "import seaborn as sns\n",
        "import numpy as np"
      ]
    },
    {
      "cell_type": "code",
      "source": [
        "!nvidia-smi"
      ],
      "metadata": {
        "colab": {
          "base_uri": "https://localhost:8080/"
        },
        "id": "LT2I17CFE7Mr",
        "outputId": "2cd6e5b1-476f-48a9-fff9-eefd0885889f"
      },
      "execution_count": 2,
      "outputs": [
        {
          "output_type": "stream",
          "name": "stdout",
          "text": [
            "Wed Aug 24 13:39:24 2022       \n",
            "+-----------------------------------------------------------------------------+\n",
            "| NVIDIA-SMI 460.32.03    Driver Version: 460.32.03    CUDA Version: 11.2     |\n",
            "|-------------------------------+----------------------+----------------------+\n",
            "| GPU  Name        Persistence-M| Bus-Id        Disp.A | Volatile Uncorr. ECC |\n",
            "| Fan  Temp  Perf  Pwr:Usage/Cap|         Memory-Usage | GPU-Util  Compute M. |\n",
            "|                               |                      |               MIG M. |\n",
            "|===============================+======================+======================|\n",
            "|   0  Tesla V100-SXM2...  Off  | 00000000:00:04.0 Off |                    0 |\n",
            "| N/A   34C    P0    24W / 300W |      0MiB / 16160MiB |      0%      Default |\n",
            "|                               |                      |                  N/A |\n",
            "+-------------------------------+----------------------+----------------------+\n",
            "                                                                               \n",
            "+-----------------------------------------------------------------------------+\n",
            "| Processes:                                                                  |\n",
            "|  GPU   GI   CI        PID   Type   Process name                  GPU Memory |\n",
            "|        ID   ID                                                   Usage      |\n",
            "|=============================================================================|\n",
            "|  No running processes found                                                 |\n",
            "+-----------------------------------------------------------------------------+\n"
          ]
        }
      ]
    },
    {
      "cell_type": "code",
      "source": [
        "!pip install astro-datasets --upgrade\n",
        "!pip install tensorflow_datasets --upgrade"
      ],
      "metadata": {
        "colab": {
          "base_uri": "https://localhost:8080/"
        },
        "id": "SDu0z1IBE9Rk",
        "outputId": "69e1b4e3-f68e-4800-e802-26d910c71152"
      },
      "execution_count": 3,
      "outputs": [
        {
          "output_type": "stream",
          "name": "stdout",
          "text": [
            "Looking in indexes: https://pypi.org/simple, https://us-python.pkg.dev/colab-wheels/public/simple/\n",
            "Collecting astro-datasets\n",
            "  Downloading astro_datasets-0.0.10.tar.gz (12 kB)\n",
            "Requirement already satisfied: tensorflow in /usr/local/lib/python3.7/dist-packages (from astro-datasets) (2.8.2+zzzcolab20220719082949)\n",
            "Requirement already satisfied: tensorflow_datasets in /usr/local/lib/python3.7/dist-packages (from astro-datasets) (4.6.0)\n",
            "Requirement already satisfied: numpy in /usr/local/lib/python3.7/dist-packages (from astro-datasets) (1.21.6)\n",
            "Requirement already satisfied: pandas in /usr/local/lib/python3.7/dist-packages (from astro-datasets) (1.3.5)\n",
            "Requirement already satisfied: pytz>=2017.3 in /usr/local/lib/python3.7/dist-packages (from pandas->astro-datasets) (2022.2.1)\n",
            "Requirement already satisfied: python-dateutil>=2.7.3 in /usr/local/lib/python3.7/dist-packages (from pandas->astro-datasets) (2.8.2)\n",
            "Requirement already satisfied: six>=1.5 in /usr/local/lib/python3.7/dist-packages (from python-dateutil>=2.7.3->pandas->astro-datasets) (1.15.0)\n",
            "Requirement already satisfied: grpcio<2.0,>=1.24.3 in /usr/local/lib/python3.7/dist-packages (from tensorflow->astro-datasets) (1.47.0)\n",
            "Requirement already satisfied: wrapt>=1.11.0 in /usr/local/lib/python3.7/dist-packages (from tensorflow->astro-datasets) (1.14.1)\n",
            "Requirement already satisfied: setuptools in /usr/local/lib/python3.7/dist-packages (from tensorflow->astro-datasets) (57.4.0)\n",
            "Requirement already satisfied: keras<2.9,>=2.8.0rc0 in /usr/local/lib/python3.7/dist-packages (from tensorflow->astro-datasets) (2.8.0)\n",
            "Requirement already satisfied: h5py>=2.9.0 in /usr/local/lib/python3.7/dist-packages (from tensorflow->astro-datasets) (3.1.0)\n",
            "Requirement already satisfied: astunparse>=1.6.0 in /usr/local/lib/python3.7/dist-packages (from tensorflow->astro-datasets) (1.6.3)\n",
            "Requirement already satisfied: libclang>=9.0.1 in /usr/local/lib/python3.7/dist-packages (from tensorflow->astro-datasets) (14.0.6)\n",
            "Requirement already satisfied: termcolor>=1.1.0 in /usr/local/lib/python3.7/dist-packages (from tensorflow->astro-datasets) (1.1.0)\n",
            "Requirement already satisfied: flatbuffers>=1.12 in /usr/local/lib/python3.7/dist-packages (from tensorflow->astro-datasets) (2.0)\n",
            "Requirement already satisfied: protobuf<3.20,>=3.9.2 in /usr/local/lib/python3.7/dist-packages (from tensorflow->astro-datasets) (3.17.3)\n",
            "Requirement already satisfied: google-pasta>=0.1.1 in /usr/local/lib/python3.7/dist-packages (from tensorflow->astro-datasets) (0.2.0)\n",
            "Requirement already satisfied: gast>=0.2.1 in /usr/local/lib/python3.7/dist-packages (from tensorflow->astro-datasets) (0.5.3)\n",
            "Requirement already satisfied: absl-py>=0.4.0 in /usr/local/lib/python3.7/dist-packages (from tensorflow->astro-datasets) (1.2.0)\n",
            "Requirement already satisfied: tensorflow-io-gcs-filesystem>=0.23.1 in /usr/local/lib/python3.7/dist-packages (from tensorflow->astro-datasets) (0.26.0)\n",
            "Requirement already satisfied: tensorflow-estimator<2.9,>=2.8 in /usr/local/lib/python3.7/dist-packages (from tensorflow->astro-datasets) (2.8.0)\n",
            "Requirement already satisfied: opt-einsum>=2.3.2 in /usr/local/lib/python3.7/dist-packages (from tensorflow->astro-datasets) (3.3.0)\n",
            "Requirement already satisfied: tensorboard<2.9,>=2.8 in /usr/local/lib/python3.7/dist-packages (from tensorflow->astro-datasets) (2.8.0)\n",
            "Requirement already satisfied: typing-extensions>=3.6.6 in /usr/local/lib/python3.7/dist-packages (from tensorflow->astro-datasets) (4.1.1)\n",
            "Requirement already satisfied: keras-preprocessing>=1.1.1 in /usr/local/lib/python3.7/dist-packages (from tensorflow->astro-datasets) (1.1.2)\n",
            "Requirement already satisfied: wheel<1.0,>=0.23.0 in /usr/local/lib/python3.7/dist-packages (from astunparse>=1.6.0->tensorflow->astro-datasets) (0.37.1)\n",
            "Requirement already satisfied: cached-property in /usr/local/lib/python3.7/dist-packages (from h5py>=2.9.0->tensorflow->astro-datasets) (1.5.2)\n",
            "Requirement already satisfied: google-auth<3,>=1.6.3 in /usr/local/lib/python3.7/dist-packages (from tensorboard<2.9,>=2.8->tensorflow->astro-datasets) (1.35.0)\n",
            "Requirement already satisfied: requests<3,>=2.21.0 in /usr/local/lib/python3.7/dist-packages (from tensorboard<2.9,>=2.8->tensorflow->astro-datasets) (2.23.0)\n",
            "Requirement already satisfied: markdown>=2.6.8 in /usr/local/lib/python3.7/dist-packages (from tensorboard<2.9,>=2.8->tensorflow->astro-datasets) (3.4.1)\n",
            "Requirement already satisfied: tensorboard-data-server<0.7.0,>=0.6.0 in /usr/local/lib/python3.7/dist-packages (from tensorboard<2.9,>=2.8->tensorflow->astro-datasets) (0.6.1)\n",
            "Requirement already satisfied: tensorboard-plugin-wit>=1.6.0 in /usr/local/lib/python3.7/dist-packages (from tensorboard<2.9,>=2.8->tensorflow->astro-datasets) (1.8.1)\n",
            "Requirement already satisfied: werkzeug>=0.11.15 in /usr/local/lib/python3.7/dist-packages (from tensorboard<2.9,>=2.8->tensorflow->astro-datasets) (1.0.1)\n",
            "Requirement already satisfied: google-auth-oauthlib<0.5,>=0.4.1 in /usr/local/lib/python3.7/dist-packages (from tensorboard<2.9,>=2.8->tensorflow->astro-datasets) (0.4.6)\n",
            "Requirement already satisfied: rsa<5,>=3.1.4 in /usr/local/lib/python3.7/dist-packages (from google-auth<3,>=1.6.3->tensorboard<2.9,>=2.8->tensorflow->astro-datasets) (4.9)\n",
            "Requirement already satisfied: pyasn1-modules>=0.2.1 in /usr/local/lib/python3.7/dist-packages (from google-auth<3,>=1.6.3->tensorboard<2.9,>=2.8->tensorflow->astro-datasets) (0.2.8)\n",
            "Requirement already satisfied: cachetools<5.0,>=2.0.0 in /usr/local/lib/python3.7/dist-packages (from google-auth<3,>=1.6.3->tensorboard<2.9,>=2.8->tensorflow->astro-datasets) (4.2.4)\n",
            "Requirement already satisfied: requests-oauthlib>=0.7.0 in /usr/local/lib/python3.7/dist-packages (from google-auth-oauthlib<0.5,>=0.4.1->tensorboard<2.9,>=2.8->tensorflow->astro-datasets) (1.3.1)\n",
            "Requirement already satisfied: importlib-metadata>=4.4 in /usr/local/lib/python3.7/dist-packages (from markdown>=2.6.8->tensorboard<2.9,>=2.8->tensorflow->astro-datasets) (4.12.0)\n",
            "Requirement already satisfied: zipp>=0.5 in /usr/local/lib/python3.7/dist-packages (from importlib-metadata>=4.4->markdown>=2.6.8->tensorboard<2.9,>=2.8->tensorflow->astro-datasets) (3.8.1)\n",
            "Requirement already satisfied: pyasn1<0.5.0,>=0.4.6 in /usr/local/lib/python3.7/dist-packages (from pyasn1-modules>=0.2.1->google-auth<3,>=1.6.3->tensorboard<2.9,>=2.8->tensorflow->astro-datasets) (0.4.8)\n",
            "Requirement already satisfied: chardet<4,>=3.0.2 in /usr/local/lib/python3.7/dist-packages (from requests<3,>=2.21.0->tensorboard<2.9,>=2.8->tensorflow->astro-datasets) (3.0.4)\n",
            "Requirement already satisfied: certifi>=2017.4.17 in /usr/local/lib/python3.7/dist-packages (from requests<3,>=2.21.0->tensorboard<2.9,>=2.8->tensorflow->astro-datasets) (2022.6.15)\n",
            "Requirement already satisfied: urllib3!=1.25.0,!=1.25.1,<1.26,>=1.21.1 in /usr/local/lib/python3.7/dist-packages (from requests<3,>=2.21.0->tensorboard<2.9,>=2.8->tensorflow->astro-datasets) (1.24.3)\n",
            "Requirement already satisfied: idna<3,>=2.5 in /usr/local/lib/python3.7/dist-packages (from requests<3,>=2.21.0->tensorboard<2.9,>=2.8->tensorflow->astro-datasets) (2.10)\n",
            "Requirement already satisfied: oauthlib>=3.0.0 in /usr/local/lib/python3.7/dist-packages (from requests-oauthlib>=0.7.0->google-auth-oauthlib<0.5,>=0.4.1->tensorboard<2.9,>=2.8->tensorflow->astro-datasets) (3.2.0)\n",
            "Requirement already satisfied: tensorflow-metadata in /usr/local/lib/python3.7/dist-packages (from tensorflow_datasets->astro-datasets) (1.9.0)\n",
            "Requirement already satisfied: tqdm in /usr/local/lib/python3.7/dist-packages (from tensorflow_datasets->astro-datasets) (4.64.0)\n",
            "Requirement already satisfied: promise in /usr/local/lib/python3.7/dist-packages (from tensorflow_datasets->astro-datasets) (2.3)\n",
            "Requirement already satisfied: etils[epath] in /usr/local/lib/python3.7/dist-packages (from tensorflow_datasets->astro-datasets) (0.7.1)\n",
            "Requirement already satisfied: dill in /usr/local/lib/python3.7/dist-packages (from tensorflow_datasets->astro-datasets) (0.3.5.1)\n",
            "Requirement already satisfied: toml in /usr/local/lib/python3.7/dist-packages (from tensorflow_datasets->astro-datasets) (0.10.2)\n",
            "Requirement already satisfied: importlib-resources in /usr/local/lib/python3.7/dist-packages (from tensorflow_datasets->astro-datasets) (5.9.0)\n",
            "Requirement already satisfied: googleapis-common-protos<2,>=1.52.0 in /usr/local/lib/python3.7/dist-packages (from tensorflow-metadata->tensorflow_datasets->astro-datasets) (1.56.4)\n",
            "Building wheels for collected packages: astro-datasets\n",
            "  Building wheel for astro-datasets (setup.py) ... \u001b[?25l\u001b[?25hdone\n",
            "  Created wheel for astro-datasets: filename=astro_datasets-0.0.10-py3-none-any.whl size=15992 sha256=fc5917102b469f6211a4dee364fdea026da58ed8294c3bc3f7b145ef1cbe9644\n",
            "  Stored in directory: /root/.cache/pip/wheels/33/b2/9d/97c264f6addbd178fe1c8ff119617e1515cb8c0d0f220605cf\n",
            "Successfully built astro-datasets\n",
            "Installing collected packages: astro-datasets\n",
            "Successfully installed astro-datasets-0.0.10\n",
            "Looking in indexes: https://pypi.org/simple, https://us-python.pkg.dev/colab-wheels/public/simple/\n",
            "Requirement already satisfied: tensorflow_datasets in /usr/local/lib/python3.7/dist-packages (4.6.0)\n",
            "Requirement already satisfied: absl-py in /usr/local/lib/python3.7/dist-packages (from tensorflow_datasets) (1.2.0)\n",
            "Requirement already satisfied: protobuf>=3.12.2 in /usr/local/lib/python3.7/dist-packages (from tensorflow_datasets) (3.17.3)\n",
            "Requirement already satisfied: importlib-resources in /usr/local/lib/python3.7/dist-packages (from tensorflow_datasets) (5.9.0)\n",
            "Requirement already satisfied: requests>=2.19.0 in /usr/local/lib/python3.7/dist-packages (from tensorflow_datasets) (2.23.0)\n",
            "Requirement already satisfied: promise in /usr/local/lib/python3.7/dist-packages (from tensorflow_datasets) (2.3)\n",
            "Requirement already satisfied: termcolor in /usr/local/lib/python3.7/dist-packages (from tensorflow_datasets) (1.1.0)\n",
            "Requirement already satisfied: typing-extensions in /usr/local/lib/python3.7/dist-packages (from tensorflow_datasets) (4.1.1)\n",
            "Requirement already satisfied: toml in /usr/local/lib/python3.7/dist-packages (from tensorflow_datasets) (0.10.2)\n",
            "Requirement already satisfied: six in /usr/local/lib/python3.7/dist-packages (from tensorflow_datasets) (1.15.0)\n",
            "Requirement already satisfied: numpy in /usr/local/lib/python3.7/dist-packages (from tensorflow_datasets) (1.21.6)\n",
            "Requirement already satisfied: tqdm in /usr/local/lib/python3.7/dist-packages (from tensorflow_datasets) (4.64.0)\n",
            "Requirement already satisfied: dill in /usr/local/lib/python3.7/dist-packages (from tensorflow_datasets) (0.3.5.1)\n",
            "Requirement already satisfied: tensorflow-metadata in /usr/local/lib/python3.7/dist-packages (from tensorflow_datasets) (1.9.0)\n",
            "Requirement already satisfied: etils[epath] in /usr/local/lib/python3.7/dist-packages (from tensorflow_datasets) (0.7.1)\n",
            "Requirement already satisfied: idna<3,>=2.5 in /usr/local/lib/python3.7/dist-packages (from requests>=2.19.0->tensorflow_datasets) (2.10)\n",
            "Requirement already satisfied: urllib3!=1.25.0,!=1.25.1,<1.26,>=1.21.1 in /usr/local/lib/python3.7/dist-packages (from requests>=2.19.0->tensorflow_datasets) (1.24.3)\n",
            "Requirement already satisfied: chardet<4,>=3.0.2 in /usr/local/lib/python3.7/dist-packages (from requests>=2.19.0->tensorflow_datasets) (3.0.4)\n",
            "Requirement already satisfied: certifi>=2017.4.17 in /usr/local/lib/python3.7/dist-packages (from requests>=2.19.0->tensorflow_datasets) (2022.6.15)\n",
            "Requirement already satisfied: zipp in /usr/local/lib/python3.7/dist-packages (from etils[epath]->tensorflow_datasets) (3.8.1)\n",
            "Requirement already satisfied: googleapis-common-protos<2,>=1.52.0 in /usr/local/lib/python3.7/dist-packages (from tensorflow-metadata->tensorflow_datasets) (1.56.4)\n"
          ]
        }
      ]
    },
    {
      "cell_type": "code",
      "source": [
        "shutil.rmtree('bnn_hmc', ignore_errors=True)"
      ],
      "metadata": {
        "id": "I2alp5inFFu0"
      },
      "execution_count": 4,
      "outputs": []
    },
    {
      "cell_type": "code",
      "source": [
        "!git clone https://github.com/adammoss/bnn_hmc"
      ],
      "metadata": {
        "colab": {
          "base_uri": "https://localhost:8080/"
        },
        "id": "9iiiXe79FJYK",
        "outputId": "c3f132ca-1a34-441f-dc8a-ee6962ebf19e"
      },
      "execution_count": 5,
      "outputs": [
        {
          "output_type": "stream",
          "name": "stdout",
          "text": [
            "Cloning into 'bnn_hmc'...\n",
            "remote: Enumerating objects: 523, done.\u001b[K\n",
            "remote: Counting objects: 100% (235/235), done.\u001b[K\n",
            "remote: Compressing objects: 100% (177/177), done.\u001b[K\n",
            "remote: Total 523 (delta 167), reused 93 (delta 58), pack-reused 288\u001b[K\n",
            "Receiving objects: 100% (523/523), 1.04 MiB | 5.52 MiB/s, done.\n",
            "Resolving deltas: 100% (361/361), done.\n"
          ]
        }
      ]
    },
    {
      "cell_type": "code",
      "source": [
        "!cd bnn_hmc && git checkout dropout_wip"
      ],
      "metadata": {
        "colab": {
          "base_uri": "https://localhost:8080/"
        },
        "id": "_dvjWk1aFLt8",
        "outputId": "0187fc23-da62-4ef8-c5de-c9fa737a31d8"
      },
      "execution_count": 6,
      "outputs": [
        {
          "output_type": "stream",
          "name": "stdout",
          "text": [
            "Branch 'dropout_wip' set up to track remote branch 'dropout_wip' from 'origin'.\n",
            "Switched to a new branch 'dropout_wip'\n"
          ]
        }
      ]
    },
    {
      "cell_type": "code",
      "source": [
        "# https://storage.googleapis.com/jax-releases/jax_cuda_releases.html\n",
        "!pip install --upgrade https://storage.googleapis.com/jax-releases/cuda111/jaxlib-0.1.65+cuda111-cp37-none-manylinux2010_x86_64.whl\n",
        "!pip install jax==0.2.12\n",
        "!pip install dm-haiku==0.0.5.dev0 optax==0.0.6 chex==0.0.6"
      ],
      "metadata": {
        "colab": {
          "base_uri": "https://localhost:8080/"
        },
        "id": "hFTgggGdFOG6",
        "outputId": "939a2501-4605-4cff-8a74-ae8eda9a4ec7"
      },
      "execution_count": 7,
      "outputs": [
        {
          "output_type": "stream",
          "name": "stdout",
          "text": [
            "Looking in indexes: https://pypi.org/simple, https://us-python.pkg.dev/colab-wheels/public/simple/\n",
            "Collecting jaxlib==0.1.65+cuda111\n",
            "  Downloading https://storage.googleapis.com/jax-releases/cuda111/jaxlib-0.1.65+cuda111-cp37-none-manylinux2010_x86_64.whl (189.4 MB)\n",
            "\u001b[K     |████████████████████████████████| 189.4 MB 21 kB/s \n",
            "\u001b[?25hRequirement already satisfied: absl-py in /usr/local/lib/python3.7/dist-packages (from jaxlib==0.1.65+cuda111) (1.2.0)\n",
            "Requirement already satisfied: numpy>=1.16 in /usr/local/lib/python3.7/dist-packages (from jaxlib==0.1.65+cuda111) (1.21.6)\n",
            "Requirement already satisfied: flatbuffers in /usr/local/lib/python3.7/dist-packages (from jaxlib==0.1.65+cuda111) (2.0)\n",
            "Requirement already satisfied: scipy in /usr/local/lib/python3.7/dist-packages (from jaxlib==0.1.65+cuda111) (1.7.3)\n",
            "Installing collected packages: jaxlib\n",
            "  Attempting uninstall: jaxlib\n",
            "    Found existing installation: jaxlib 0.3.14+cuda11.cudnn805\n",
            "    Uninstalling jaxlib-0.3.14+cuda11.cudnn805:\n",
            "      Successfully uninstalled jaxlib-0.3.14+cuda11.cudnn805\n",
            "Successfully installed jaxlib-0.1.65+cuda111\n",
            "Looking in indexes: https://pypi.org/simple, https://us-python.pkg.dev/colab-wheels/public/simple/\n",
            "Collecting jax==0.2.12\n",
            "  Downloading jax-0.2.12.tar.gz (590 kB)\n",
            "\u001b[K     |████████████████████████████████| 590 kB 14.7 MB/s \n",
            "\u001b[?25hRequirement already satisfied: numpy>=1.12 in /usr/local/lib/python3.7/dist-packages (from jax==0.2.12) (1.21.6)\n",
            "Requirement already satisfied: absl-py in /usr/local/lib/python3.7/dist-packages (from jax==0.2.12) (1.2.0)\n",
            "Requirement already satisfied: opt_einsum in /usr/local/lib/python3.7/dist-packages (from jax==0.2.12) (3.3.0)\n",
            "Building wheels for collected packages: jax\n",
            "  Building wheel for jax (setup.py) ... \u001b[?25l\u001b[?25hdone\n",
            "  Created wheel for jax: filename=jax-0.2.12-py3-none-any.whl size=682487 sha256=024daddf587869aadf17eb672137468a867ae5a4afca081dd42b2983f04cff36\n",
            "  Stored in directory: /root/.cache/pip/wheels/f6/4d/e5/73eec5070b77f25664c67bd793d4eb97f41bbf9be7afafd15e\n",
            "Successfully built jax\n",
            "Installing collected packages: jax\n",
            "  Attempting uninstall: jax\n",
            "    Found existing installation: jax 0.3.14\n",
            "    Uninstalling jax-0.3.14:\n",
            "      Successfully uninstalled jax-0.3.14\n",
            "Successfully installed jax-0.2.12\n",
            "Looking in indexes: https://pypi.org/simple, https://us-python.pkg.dev/colab-wheels/public/simple/\n",
            "Collecting dm-haiku==0.0.5.dev0\n",
            "  Downloading dm_haiku-0.0.5.dev0-py3-none-any.whl (284 kB)\n",
            "\u001b[K     |████████████████████████████████| 284 kB 15.6 MB/s \n",
            "\u001b[?25hCollecting optax==0.0.6\n",
            "  Downloading optax-0.0.6-py3-none-any.whl (96 kB)\n",
            "\u001b[K     |████████████████████████████████| 96 kB 6.3 MB/s \n",
            "\u001b[?25hCollecting chex==0.0.6\n",
            "  Downloading chex-0.0.6-py3-none-any.whl (51 kB)\n",
            "\u001b[K     |████████████████████████████████| 51 kB 626 kB/s \n",
            "\u001b[?25hRequirement already satisfied: absl-py>=0.7.1 in /usr/local/lib/python3.7/dist-packages (from dm-haiku==0.0.5.dev0) (1.2.0)\n",
            "Requirement already satisfied: numpy>=1.18.0 in /usr/local/lib/python3.7/dist-packages (from dm-haiku==0.0.5.dev0) (1.21.6)\n",
            "Requirement already satisfied: tabulate>=0.8.9 in /usr/local/lib/python3.7/dist-packages (from dm-haiku==0.0.5.dev0) (0.8.10)\n",
            "Requirement already satisfied: typing-extensions in /usr/local/lib/python3.7/dist-packages (from dm-haiku==0.0.5.dev0) (4.1.1)\n",
            "Requirement already satisfied: jaxlib>=0.1.37 in /usr/local/lib/python3.7/dist-packages (from optax==0.0.6) (0.1.65+cuda111)\n",
            "Requirement already satisfied: jax>=0.1.55 in /usr/local/lib/python3.7/dist-packages (from optax==0.0.6) (0.2.12)\n",
            "Requirement already satisfied: dm-tree>=0.1.5 in /usr/local/lib/python3.7/dist-packages (from chex==0.0.6) (0.1.7)\n",
            "Requirement already satisfied: toolz>=0.9.0 in /usr/local/lib/python3.7/dist-packages (from chex==0.0.6) (0.12.0)\n",
            "Requirement already satisfied: opt-einsum in /usr/local/lib/python3.7/dist-packages (from jax>=0.1.55->optax==0.0.6) (3.3.0)\n",
            "Requirement already satisfied: scipy in /usr/local/lib/python3.7/dist-packages (from jaxlib>=0.1.37->optax==0.0.6) (1.7.3)\n",
            "Requirement already satisfied: flatbuffers in /usr/local/lib/python3.7/dist-packages (from jaxlib>=0.1.37->optax==0.0.6) (2.0)\n",
            "Installing collected packages: chex, optax, dm-haiku\n",
            "Successfully installed chex-0.0.6 dm-haiku-0.0.5.dev0 optax-0.0.6\n"
          ]
        }
      ]
    },
    {
      "cell_type": "code",
      "source": [
        "for i, root in enumerate(glob.glob('/content/runs/*/')):\n",
        "  shutil.rmtree(root, ignore_errors=True)"
      ],
      "metadata": {
        "id": "2-kn_WUcFQJs"
      },
      "execution_count": 24,
      "outputs": []
    },
    {
      "cell_type": "code",
      "source": [
        "!python3 bnn_hmc/scripts/run_sgd.py --seed=0 --weight_decay=10 --dir=runs/sgd/mlsst/ \\\n",
        "--dataset_name=mlsst/Y10 --model_name=lenet_dropout --init_step_size=3e-7 --num_epochs=200 --eval_freq=5 \\\n",
        "--batch_size=100 --save_freq=5 --optimizer=SGD --patience 10 --test_split validation \\\n",
        "--dropout_rate 0.1 --image_size=64 --scaling asinh --subset_train_to=20000"
      ],
      "metadata": {
        "colab": {
          "base_uri": "https://localhost:8080/"
        },
        "id": "n0eudOdmFVSn",
        "outputId": "740af4e0-8732-4ff5-e298-9ec7ba2b4bf7"
      },
      "execution_count": 25,
      "outputs": [
        {
          "output_type": "stream",
          "name": "stdout",
          "text": [
            "JAX sees the following devices: [GpuDevice(id=0, process_index=0)]\n",
            "TF sees the following devices: [PhysicalDevice(name='/physical_device:CPU:0', device_type='CPU')]\n",
            "2022-08-24 14:52:41.959403: W tensorflow/core/framework/cpu_allocator_impl.cc:82] Allocation of 1154433024 exceeds 10% of free system memory.\n",
            "tcmalloc: large alloc 1154433024 bytes == 0x20976000 @  0x7effbf6d4b6b 0x7effbf6f4379 0x7eff7206bfc7 0x7eff604a266f 0x7eff6053fd78 0x7eff6bc591d0 0x7eff6bc59763 0x7eff6d1ff1c2 0x7eff6066426b 0x7eff6d2d35c1 0x7eff660bd551 0x7eff660ba213 0x7eff60d9e515 0x7effbf0b66db 0x7effbf3ef61f\n",
            "Starting from random initialization with provided seed\n",
            "/content/bnn_hmc/bnn_hmc/utils/script_utils.py:153: VisibleDeprecationWarning: Creating an ndarray from ragged nested sequences (which is a list-or-tuple of lists-or-tuples-or ndarrays with different lengths or shapes) is deprecated. If you meant to do this, you must specify 'dtype=object' when creating the ndarray.\n",
            "  predict_fn(net_apply, params, net_state, test_set, key))\n",
            "/content/bnn_hmc/bnn_hmc/utils/script_utils.py:155: VisibleDeprecationWarning: Creating an ndarray from ragged nested sequences (which is a list-or-tuple of lists-or-tuples-or ndarrays with different lengths or shapes) is deprecated. If you meant to do this, you must specify 'dtype=object' when creating the ndarray.\n",
            "  predict_fn(net_apply, params, net_state, train_set, key))\n",
            "---  --------  ----------------  ---------------  ----------  -------------------  --------------  --------------  --------\n",
            "  i         t    train/accuracy    test/accuracy    test/nll  test/ens_accuracy    test/ens_nll    test/ens_ece          lr\n",
            "---  --------  ----------------  ---------------  ----------  -------------------  --------------  --------------  --------\n",
            "  0    5.3351            0.4237           0.4268      1.0731                                                         0.0000\n",
            "  1    0.4987            0.4237           0.4268      1.0731                                                         0.0000\n",
            "  2    0.5003            0.4237           0.4268      1.0731                                                         0.0000\n",
            "  3    0.4981            0.4238           0.4268      1.0732                                                         0.0000\n",
            "  4    0.4984            0.4244           0.4274      1.0730                                                         0.0000\n",
            "  5    0.4987            0.4268           0.4313      1.0703                                                         0.0000\n",
            "  6    0.4988            0.5763           0.5815      0.9205                                                         0.0000\n",
            "  7    0.4979            0.5754           0.5812      0.8756                                                         0.0000\n",
            "  8    0.4990            0.5849           0.5899      0.8778                                                         0.0000\n",
            "  9    0.5163            0.5784           0.5851      0.8688                                                         0.0000\n",
            " 10    0.4989            0.5926           0.5964      0.8707                                                         0.0000\n",
            " 11    0.4990            0.5896           0.6009      0.8789                                                         0.0000\n",
            " 12    0.4996            0.5877           0.5920      0.8607                                                         0.0000\n",
            " 13    0.4989            0.5953           0.6051      0.8579                                                         0.0000\n",
            " 14    0.4991            0.5968           0.5994      0.8738                                                         0.0000\n",
            " 15    0.4989            0.5899           0.5964      0.8610                                                         0.0000\n",
            " 16    0.4985            0.6023           0.6039      0.8674                                                         0.0000\n",
            " 17    0.4988            0.6054           0.6063      0.8628                                                         0.0000\n",
            " 18    0.4989            0.6027           0.6009      0.8678                                                         0.0000\n",
            " 19    0.4985            0.6078           0.6060      0.8675                                                         0.0000\n",
            " 20    0.4981            0.6048           0.6027      0.8583                                                         0.0000\n",
            " 21    0.4987            0.6051           0.6036      0.8486                                                         0.0000\n",
            " 22    0.4984            0.6063           0.6048      0.8502                                                         0.0000\n",
            " 23    0.4984            0.6015           0.5964      0.8736                                                         0.0000\n",
            " 24    0.4976            0.6005           0.5875      0.8754                                                         0.0000\n",
            " 25    0.4977            0.6167           0.6077      0.8483                                                         0.0000\n",
            " 26    0.4992            0.6192           0.6095      0.8451                                                         0.0000\n",
            " 27    0.4995            0.6216           0.6137      0.8445                                                         0.0000\n",
            " 28    0.4991            0.6113           0.6009      0.8643                                                         0.0000\n",
            " 29    0.4995            0.6084           0.5964      0.8589                                                         0.0000\n",
            " 30    0.5006            0.6248           0.6083      0.8664                                                         0.0000\n",
            " 31    0.4998            0.6269           0.6060      0.8385                                                         0.0000\n",
            " 32    0.4994            0.6307           0.6021      0.8590                                                         0.0000\n",
            " 33    0.4998            0.6305           0.6015      0.8461                                                         0.0000\n",
            " 34    0.4995            0.6242           0.5994      0.8447                                                         0.0000\n",
            " 35    0.4990            0.6312           0.6146      0.8379                                                         0.0000\n",
            " 36    0.4988            0.6396           0.6146      0.8496                                                         0.0000\n",
            " 37    0.4991            0.5725           0.5559      0.9069                                                         0.0000\n",
            " 38    0.4994            0.6405           0.5985      0.8695                                                         0.0000\n",
            " 39    0.5005            0.6346           0.6173      0.8350                                                         0.0000\n",
            "---  --------  ----------------  ---------------  ----------  -------------------  --------------  --------------  --------\n",
            "  i         t    train/accuracy    test/accuracy    test/nll  test/ens_accuracy    test/ens_nll    test/ens_ece          lr\n",
            "---  --------  ----------------  ---------------  ----------  -------------------  --------------  --------------  --------\n",
            " 40    0.4995            0.6283           0.5997      0.8364                                                         0.0000\n",
            " 41    0.4994            0.6443           0.6033      0.8386                                                         0.0000\n",
            " 42    0.4986            0.6457           0.6083      0.8329                                                         0.0000\n",
            " 43    0.4985            0.6439           0.6098      0.8660                                                         0.0000\n",
            " 44    0.4979            0.6548           0.6215      0.8330                                                         0.0000\n",
            " 45    0.4983            0.6439           0.6101      0.8392                                                         0.0000\n",
            " 46    0.4984            0.6483           0.6080      0.8361                                                         0.0000\n",
            " 47    0.4993            0.6427           0.5985      0.8366                                                         0.0000\n",
            " 48    0.4986            0.6510           0.6110      0.8277                                                         0.0000\n",
            " 49    0.4980            0.6596           0.6173      0.8296                                                         0.0000\n",
            " 50    0.4981            0.6623           0.6063      0.8269                                                         0.0000\n",
            " 51    0.4991            0.6576           0.5982      0.8638                                                         0.0000\n",
            " 52    0.4984            0.6455           0.5982      0.8414                                                         0.0000\n",
            " 53    0.4980            0.6631           0.6098      0.8398                                                         0.0000\n",
            " 54    0.4984            0.6373           0.5925      0.8716                                                         0.0000\n",
            " 55    0.4985            0.6766           0.6289      0.8144                                                         0.0000\n",
            " 56    0.4989            0.6772           0.6167      0.8433                                                         0.0000\n",
            " 57    0.4988            0.6696           0.6182      0.8426                                                         0.0000\n",
            " 58    0.4987            0.6652           0.6241      0.8232                                                         0.0000\n",
            " 59    0.4992            0.6980           0.6256      0.8378                                                         0.0000\n",
            " 60    0.4985            0.6631           0.6072      0.8491                                                         0.0000\n",
            " 61    0.4980            0.6566           0.6069      0.8376                                                         0.0000\n",
            " 62    0.4991            0.6574           0.6003      0.8668                                                         0.0000\n",
            " 63    0.4993            0.6968           0.6256      0.8110                                                         0.0000\n",
            " 64    0.4980            0.7023           0.6221      0.8277                                                         0.0000\n",
            " 65    0.4979            0.7103           0.6286      0.8166                                                         0.0000\n",
            " 66    0.4986            0.6973           0.6110      0.8290                                                         0.0000\n",
            " 67    0.4993            0.6844           0.6271      0.8130                                                         0.0000\n",
            " 68    0.4991            0.7103           0.6387      0.8049                                                         0.0000\n",
            " 69    0.4990            0.7037           0.6283      0.8177                                                         0.0000\n",
            " 70    0.4992            0.6983           0.6232      0.8270                                                         0.0000\n",
            " 71    0.4990            0.7113           0.6322      0.8166                                                         0.0000\n",
            " 72    0.4995            0.7107           0.6292      0.8148                                                         0.0000\n",
            " 73    0.4998            0.7080           0.6206      0.8188                                                         0.0000\n",
            " 74    0.4995            0.7176           0.6313      0.8040                                                         0.0000\n",
            " 75    0.4985            0.7298           0.6477      0.8143                                                         0.0000\n",
            " 76    0.4978            0.7180           0.6331      0.8131                                                         0.0000\n",
            " 77    0.4979            0.7419           0.6393      0.8093                                                         0.0000\n",
            " 78    0.4987            0.7009           0.6095      0.8185                                                         0.0000\n",
            " 79    0.4992            0.6918           0.6262      0.8225                                                         0.0000\n",
            "---  --------  ----------------  ---------------  ----------  -------------------  --------------  --------------  --------\n",
            "  i         t    train/accuracy    test/accuracy    test/nll  test/ens_accuracy    test/ens_nll    test/ens_ece          lr\n",
            "---  --------  ----------------  ---------------  ----------  -------------------  --------------  --------------  --------\n",
            " 80    0.4988            0.7250           0.6206      0.8289                                                         0.0000\n",
            " 81    0.5001            0.7281           0.6358      0.8132                                                         0.0000\n",
            " 82    0.4987            0.7376           0.6435      0.7890                                                         0.0000\n",
            " 83    0.4992            0.7190           0.6307      0.7993                                                         0.0000\n",
            " 84    0.4985            0.7556           0.6519      0.7803                                                         0.0000\n",
            " 85    0.4983            0.7468           0.6435      0.7855                                                         0.0000\n",
            " 86    0.4985            0.7551           0.6373      0.8134                                                         0.0000\n",
            " 87    0.4987            0.7180           0.6286      0.8151                                                         0.0000\n",
            " 88    0.4984            0.7538           0.6423      0.8057                                                         0.0000\n",
            " 89    0.4991            0.7419           0.6143      0.8283                                                         0.0000\n",
            " 90    0.4994            0.7503           0.6417      0.7912                                                         0.0000\n",
            " 91    0.4983            0.7582           0.6402      0.8092                                                         0.0000\n",
            " 92    0.4987            0.7598           0.6420      0.7868                                                         0.0000\n",
            " 93    0.4989            0.7333           0.6137      0.8323                                                         0.0000\n",
            " 94    0.4982            0.7719           0.6468      0.7982                                                         0.0000\n"
          ]
        }
      ]
    },
    {
      "cell_type": "code",
      "source": [
        "!python3 bnn_hmc/scripts/run_sgd.py --seed=0 --weight_decay=10 --dir=runs/sgd/mlsst/ \\\n",
        "--dataset_name=mlsst/Y10 --model_name=lenet_dropout --init_step_size=3e-7 --num_epochs=200 --eval_freq=5 \\\n",
        "--batch_size=100 --save_freq=5 --optimizer=SGD --patience 10 --eval_split test \\\n",
        "--dropout_rate 0.1 --image_size=64 --scaling asinh --repeats 10"
      ],
      "metadata": {
        "colab": {
          "base_uri": "https://localhost:8080/"
        },
        "id": "6XX4bsLyGHWu",
        "outputId": "85719881-5ece-4353-cf27-64896dbf61bf"
      },
      "execution_count": 27,
      "outputs": [
        {
          "output_type": "stream",
          "name": "stdout",
          "text": [
            "JAX sees the following devices: [GpuDevice(id=0, process_index=0)]\n",
            "TF sees the following devices: [PhysicalDevice(name='/physical_device:CPU:0', device_type='CPU')]\n",
            "2022-08-24 15:30:13.609353: W tensorflow/core/framework/cpu_allocator_impl.cc:82] Allocation of 1154433024 exceeds 10% of free system memory.\n",
            "tcmalloc: large alloc 1154433024 bytes == 0x1c536000 @  0x7f4a1689cb6b 0x7f4a168bc379 0x7f49c9233fc7 0x7f49b766a66f 0x7f49b7707d78 0x7f49c2e211d0 0x7f49c2e21763 0x7f49c43c71c2 0x7f49b782c26b 0x7f49c449b5c1 0x7f49bd285551 0x7f49bd282213 0x7f49b7f66515 0x7f4a1627e6db 0x7f4a165b761f\n",
            "Continuing the run from the last saved checkpoint\n",
            "bnn_hmc/scripts/run_sgd.py:188: VisibleDeprecationWarning: Creating an ndarray from ragged nested sequences (which is a list-or-tuple of lists-or-tuples-or ndarrays with different lengths or shapes) is deprecated. If you meant to do this, you must specify 'dtype=object' when creating the ndarray.\n",
            "  predict_fn(net_apply, params, net_state, test_set, key))\n",
            "{'accuracy': DeviceArray(0.6069993, dtype=float32), 'nll': 0.8953633, 'ece': DeviceArray(0.0755069, dtype=float32)}\n",
            "{'accuracy': DeviceArray(0.60268056, dtype=float32), 'nll': 0.88045216, 'ece': DeviceArray(0.07444064, dtype=float32)}\n",
            "{'accuracy': DeviceArray(0.59880865, dtype=float32), 'nll': 0.891691, 'ece': DeviceArray(0.08004492, dtype=float32)}\n",
            "{'accuracy': DeviceArray(0.60491437, dtype=float32), 'nll': 0.89353424, 'ece': DeviceArray(0.07420287, dtype=float32)}\n",
            "{'accuracy': DeviceArray(0.601936, dtype=float32), 'nll': 0.88756275, 'ece': DeviceArray(0.07823691, dtype=float32)}\n",
            "{'accuracy': DeviceArray(0.6050633, dtype=float32), 'nll': 0.8900392, 'ece': DeviceArray(0.07771396, dtype=float32)}\n",
            "{'accuracy': DeviceArray(0.6043187, dtype=float32), 'nll': 0.8961781, 'ece': DeviceArray(0.0753431, dtype=float32)}\n",
            "{'accuracy': DeviceArray(0.60789275, dtype=float32), 'nll': 0.8941127, 'ece': DeviceArray(0.07390728, dtype=float32)}\n",
            "{'accuracy': DeviceArray(0.6014892, dtype=float32), 'nll': 0.8971248, 'ece': DeviceArray(0.07997353, dtype=float32)}\n",
            "{'accuracy': DeviceArray(0.603723, dtype=float32), 'nll': 0.8933134, 'ece': DeviceArray(0.07880723, dtype=float32)}\n"
          ]
        }
      ]
    },
    {
      "cell_type": "code",
      "source": [
        "softmax = []\n",
        "for i, root in enumerate(glob.glob('/content/runs/sgd/mlsst/*/predictions*npy')):\n",
        "  data = np.load(root.replace('predictions', 'test_set')) \n",
        "  prediction = np.load(root)\n",
        "  metrics = np.load(root.replace('predictions', 'metrics'), allow_pickle=True)\n",
        "  print(metrics)\n",
        "  softmax.append(np.squeeze(prediction))\n",
        "softmax = np.array(softmax)"
      ],
      "metadata": {
        "colab": {
          "base_uri": "https://localhost:8080/"
        },
        "id": "ge7v7XCtdqdH",
        "outputId": "ffef69ef-8dc2-412d-b40f-89dfa07baa25"
      },
      "execution_count": 28,
      "outputs": [
        {
          "output_type": "stream",
          "name": "stdout",
          "text": [
            "{'accuracy': array(0.60491437, dtype=float32), 'nll': 0.89353424, 'ece': array(0.07420287, dtype=float32)}\n",
            "{'accuracy': array(0.60268056, dtype=float32), 'nll': 0.88045216, 'ece': array(0.07444064, dtype=float32)}\n",
            "{'accuracy': array(0.603723, dtype=float32), 'nll': 0.8933134, 'ece': array(0.07880723, dtype=float32)}\n",
            "{'accuracy': array(0.6050633, dtype=float32), 'nll': 0.8900392, 'ece': array(0.07771396, dtype=float32)}\n",
            "{'accuracy': array(0.59880865, dtype=float32), 'nll': 0.891691, 'ece': array(0.08004492, dtype=float32)}\n",
            "{'accuracy': array(0.6014892, dtype=float32), 'nll': 0.8971248, 'ece': array(0.07997353, dtype=float32)}\n",
            "{'accuracy': array(0.60789275, dtype=float32), 'nll': 0.8941127, 'ece': array(0.07390728, dtype=float32)}\n",
            "{'accuracy': array(0.601936, dtype=float32), 'nll': 0.88756275, 'ece': array(0.07823691, dtype=float32)}\n",
            "{'accuracy': array(0.6043187, dtype=float32), 'nll': 0.8961781, 'ece': array(0.0753431, dtype=float32)}\n",
            "{'accuracy': array(0.6069993, dtype=float32), 'nll': 0.8953633, 'ece': array(0.0755069, dtype=float32)}\n"
          ]
        }
      ]
    },
    {
      "cell_type": "code",
      "source": [
        "mean_softmax = np.mean(softmax, axis=0)\n",
        "ensemble_accuracy = np.mean(np.argmax(mean_softmax, axis=-1) == data)\n",
        "print('Ensemble accuracy', ensemble_accuracy)"
      ],
      "metadata": {
        "colab": {
          "base_uri": "https://localhost:8080/"
        },
        "id": "ZQXcWe-7eq8W",
        "outputId": "a0156245-9aee-4aec-83d2-fa045f3437ca"
      },
      "execution_count": 29,
      "outputs": [
        {
          "output_type": "stream",
          "name": "stdout",
          "text": [
            "Ensemble accuracy 0.6299329858525688\n"
          ]
        }
      ]
    },
    {
      "cell_type": "code",
      "source": [
        "def uncertainty(softmax):\n",
        "  # Per example softmax with shape(num_examples, num_classes)\n",
        "  predictive_entropy = 0\n",
        "  single_pass_entropy = 0\n",
        "  for i in range(softmax.shape[1]):\n",
        "    # Sum over classes\n",
        "    predictive_entropy += -np.mean(softmax[:,i])*np.log(np.mean(softmax[:,i]))\n",
        "    single_pass_entropy += -softmax[:,i]*np.log(softmax[:,i])\n",
        "  single_pass_entropy = np.mean(single_pass_entropy)\n",
        "  mutual_info = predictive_entropy - single_pass_entropy\n",
        "  return predictive_entropy, single_pass_entropy, mutual_info"
      ],
      "metadata": {
        "id": "ZO6-3wWwetpR"
      },
      "execution_count": 30,
      "outputs": []
    },
    {
      "cell_type": "code",
      "source": [
        "predictive_entropies = [] \n",
        "single_pass_entropies = []\n",
        "mutual_infos = []\n",
        "for i in range(softmax.shape[1]):\n",
        "  predictive_entropy, single_pass_entropy, mutual_info = uncertainty(softmax[:,i,:])\n",
        "  predictive_entropies.append(predictive_entropy)\n",
        "  single_pass_entropies.append(single_pass_entropy)\n",
        "  mutual_infos.append(mutual_info)\n",
        "print('Predictive entropy:', np.mean(predictive_entropies), np.std(predictive_entropies))\n",
        "print('Single pass entropy:', np.mean(single_pass_entropies), np.std(single_pass_entropies))\n",
        "print('Mutual info:', np.mean(mutual_infos), np.std(mutual_infos))"
      ],
      "metadata": {
        "colab": {
          "base_uri": "https://localhost:8080/"
        },
        "id": "xbS53hwKexDm",
        "outputId": "dfffc52f-6f26-4574-bb97-f769a2bcbe5d"
      },
      "execution_count": 32,
      "outputs": [
        {
          "output_type": "stream",
          "name": "stdout",
          "text": [
            "Predictive entropy: 0.7784837075290597 0.29004131838329106\n",
            "Single pass entropy: 0.7096751 0.28107408\n",
            "Mutual info: 0.06880862090574216 0.045200938266472014\n"
          ]
        }
      ]
    },
    {
      "cell_type": "code",
      "source": [
        "sns.boxplot(predictive_entropies)\n",
        "plt.show()"
      ],
      "metadata": {
        "colab": {
          "base_uri": "https://localhost:8080/",
          "height": 321
        },
        "id": "7KWTXrRhezLR",
        "outputId": "63fa3a8a-3d39-4a0b-dd99-b91631c24d7b"
      },
      "execution_count": 33,
      "outputs": [
        {
          "output_type": "stream",
          "name": "stderr",
          "text": [
            "/usr/local/lib/python3.7/dist-packages/seaborn/_decorators.py:43: FutureWarning: Pass the following variable as a keyword arg: x. From version 0.12, the only valid positional argument will be `data`, and passing other arguments without an explicit keyword will result in an error or misinterpretation.\n",
            "  FutureWarning\n"
          ]
        },
        {
          "output_type": "display_data",
          "data": {
            "text/plain": [
              "<Figure size 432x288 with 1 Axes>"
            ],
            "image/png": "[encoded data removed]"
          },
          "metadata": {
            "needs_background": "light"
          }
        }
      ]
    },
    {
      "cell_type": "code",
      "source": [
        "sns.boxplot(single_pass_entropies)\n",
        "plt.show()"
      ],
      "metadata": {
        "colab": {
          "base_uri": "https://localhost:8080/",
          "height": 321
        },
        "id": "EiJbRMj2e1ut",
        "outputId": "e0a96d29-ae3b-4317-fd8b-4e82e329a868"
      },
      "execution_count": 34,
      "outputs": [
        {
          "output_type": "stream",
          "name": "stderr",
          "text": [
            "/usr/local/lib/python3.7/dist-packages/seaborn/_decorators.py:43: FutureWarning: Pass the following variable as a keyword arg: x. From version 0.12, the only valid positional argument will be `data`, and passing other arguments without an explicit keyword will result in an error or misinterpretation.\n",
            "  FutureWarning\n"
          ]
        },
        {
          "output_type": "display_data",
          "data": {
            "text/plain": [
              "<Figure size 432x288 with 1 Axes>"
            ],
            "image/png": "[encoded data removed]"
          },
          "metadata": {
            "needs_background": "light"
          }
        }
      ]
    },
    {
      "cell_type": "code",
      "source": [
        "sns.boxplot(mutual_infos)\n",
        "plt.show()"
      ],
      "metadata": {
        "colab": {
          "base_uri": "https://localhost:8080/",
          "height": 321
        },
        "id": "a6JYqWr7e5ZO",
        "outputId": "e3558d59-b305-4760-b2ad-b16eb2248e06"
      },
      "execution_count": 35,
      "outputs": [
        {
          "output_type": "stream",
          "name": "stderr",
          "text": [
            "/usr/local/lib/python3.7/dist-packages/seaborn/_decorators.py:43: FutureWarning: Pass the following variable as a keyword arg: x. From version 0.12, the only valid positional argument will be `data`, and passing other arguments without an explicit keyword will result in an error or misinterpretation.\n",
            "  FutureWarning\n"
          ]
        },
        {
          "output_type": "display_data",
          "data": {
            "text/plain": [
              "<Figure size 432x288 with 1 Axes>"
            ],
            "image/png": "[encoded data removed]"
          },
          "metadata": {
            "needs_background": "light"
          }
        }
      ]
    },
    {
      "cell_type": "code",
      "source": [
        ""
      ],
      "metadata": {
        "id": "di4p7-hie72k"
      },
      "execution_count": null,
      "outputs": []
    }
  ]
}