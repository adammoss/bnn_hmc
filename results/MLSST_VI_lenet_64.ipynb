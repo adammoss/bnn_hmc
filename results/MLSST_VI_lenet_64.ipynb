{
  "nbformat": 4,
  "nbformat_minor": 0,
  "metadata": {
    "colab": {
      "name": "MLSST_VI_lenet_64.ipynb",
      "provenance": [],
      "authorship_tag": "ABX9TyPAYjMN35nSaTL/njl9hlFw",
      "include_colab_link": true
    },
    "kernelspec": {
      "name": "python3",
      "display_name": "Python 3"
    },
    "language_info": {
      "name": "python"
    },
    "accelerator": "GPU",
    "gpuClass": "standard"
  },
  "cells": [
    {
      "cell_type": "markdown",
      "metadata": {
        "id": "view-in-github",
        "colab_type": "text"
      },
      "source": [
        "<a href=\"https://colab.research.google.com/github/adammoss/bnn_hmc/blob/main/results/MLSST_VI_lenet_64.ipynb\" target=\"_parent\"><img src=\"https://colab.research.google.com/assets/colab-badge.svg\" alt=\"Open In Colab\"/></a>"
      ]
    },
    {
      "cell_type": "code",
      "execution_count": 9,
      "metadata": {
        "id": "k3Vyn7k-CVKE"
      },
      "outputs": [],
      "source": [
        "import os\n",
        "import sys\n",
        "import shutil\n",
        "import subprocess\n",
        "import glob\n",
        "import matplotlib.pyplot as plt\n",
        "import seaborn as sns\n",
        "import numpy as np"
      ]
    },
    {
      "cell_type": "code",
      "source": [
        "!nvidia-smi"
      ],
      "metadata": {
        "colab": {
          "base_uri": "https://localhost:8080/"
        },
        "id": "dncr4Q84CZU0",
        "outputId": "9686f5be-4222-4ee1-9942-c75cba985133"
      },
      "execution_count": 10,
      "outputs": [
        {
          "output_type": "stream",
          "name": "stdout",
          "text": [
            "Wed Aug 24 20:08:17 2022       \n",
            "+-----------------------------------------------------------------------------+\n",
            "| NVIDIA-SMI 460.32.03    Driver Version: 460.32.03    CUDA Version: 11.2     |\n",
            "|-------------------------------+----------------------+----------------------+\n",
            "| GPU  Name        Persistence-M| Bus-Id        Disp.A | Volatile Uncorr. ECC |\n",
            "| Fan  Temp  Perf  Pwr:Usage/Cap|         Memory-Usage | GPU-Util  Compute M. |\n",
            "|                               |                      |               MIG M. |\n",
            "|===============================+======================+======================|\n",
            "|   0  A100-SXM4-40GB      Off  | 00000000:00:04.0 Off |                    0 |\n",
            "| N/A   31C    P0    41W / 400W |      0MiB / 40536MiB |      0%      Default |\n",
            "|                               |                      |             Disabled |\n",
            "+-------------------------------+----------------------+----------------------+\n",
            "                                                                               \n",
            "+-----------------------------------------------------------------------------+\n",
            "| Processes:                                                                  |\n",
            "|  GPU   GI   CI        PID   Type   Process name                  GPU Memory |\n",
            "|        ID   ID                                                   Usage      |\n",
            "|=============================================================================|\n",
            "|  No running processes found                                                 |\n",
            "+-----------------------------------------------------------------------------+\n"
          ]
        }
      ]
    },
    {
      "cell_type": "code",
      "source": [
        "!pip install astro-datasets --upgrade\n",
        "!pip install tensorflow_datasets --upgrade"
      ],
      "metadata": {
        "colab": {
          "base_uri": "https://localhost:8080/"
        },
        "id": "chkzfCNuCcXD",
        "outputId": "229b427f-4d80-4876-c147-f7bc9c11b6c2"
      },
      "execution_count": 11,
      "outputs": [
        {
          "output_type": "stream",
          "name": "stdout",
          "text": [
            "Looking in indexes: https://pypi.org/simple, https://us-python.pkg.dev/colab-wheels/public/simple/\n",
            "Requirement already satisfied: astro-datasets in /usr/local/lib/python3.7/dist-packages (0.0.10)\n",
            "Requirement already satisfied: pandas in /usr/local/lib/python3.7/dist-packages (from astro-datasets) (1.3.5)\n",
            "Requirement already satisfied: tensorflow in /usr/local/lib/python3.7/dist-packages (from astro-datasets) (2.8.2+zzzcolab20220719082949)\n",
            "Requirement already satisfied: numpy in /usr/local/lib/python3.7/dist-packages (from astro-datasets) (1.21.6)\n",
            "Requirement already satisfied: tensorflow-datasets in /usr/local/lib/python3.7/dist-packages (from astro-datasets) (4.6.0)\n",
            "Requirement already satisfied: python-dateutil>=2.7.3 in /usr/local/lib/python3.7/dist-packages (from pandas->astro-datasets) (2.8.2)\n",
            "Requirement already satisfied: pytz>=2017.3 in /usr/local/lib/python3.7/dist-packages (from pandas->astro-datasets) (2022.2.1)\n",
            "Requirement already satisfied: six>=1.5 in /usr/local/lib/python3.7/dist-packages (from python-dateutil>=2.7.3->pandas->astro-datasets) (1.15.0)\n",
            "Requirement already satisfied: grpcio<2.0,>=1.24.3 in /usr/local/lib/python3.7/dist-packages (from tensorflow->astro-datasets) (1.47.0)\n",
            "Requirement already satisfied: typing-extensions>=3.6.6 in /usr/local/lib/python3.7/dist-packages (from tensorflow->astro-datasets) (4.1.1)\n",
            "Requirement already satisfied: keras-preprocessing>=1.1.1 in /usr/local/lib/python3.7/dist-packages (from tensorflow->astro-datasets) (1.1.2)\n",
            "Requirement already satisfied: tensorflow-estimator<2.9,>=2.8 in /usr/local/lib/python3.7/dist-packages (from tensorflow->astro-datasets) (2.8.0)\n",
            "Requirement already satisfied: tensorboard<2.9,>=2.8 in /usr/local/lib/python3.7/dist-packages (from tensorflow->astro-datasets) (2.8.0)\n",
            "Requirement already satisfied: opt-einsum>=2.3.2 in /usr/local/lib/python3.7/dist-packages (from tensorflow->astro-datasets) (3.3.0)\n",
            "Requirement already satisfied: keras<2.9,>=2.8.0rc0 in /usr/local/lib/python3.7/dist-packages (from tensorflow->astro-datasets) (2.8.0)\n",
            "Requirement already satisfied: libclang>=9.0.1 in /usr/local/lib/python3.7/dist-packages (from tensorflow->astro-datasets) (14.0.6)\n",
            "Requirement already satisfied: setuptools in /usr/local/lib/python3.7/dist-packages (from tensorflow->astro-datasets) (57.4.0)\n",
            "Requirement already satisfied: astunparse>=1.6.0 in /usr/local/lib/python3.7/dist-packages (from tensorflow->astro-datasets) (1.6.3)\n",
            "Requirement already satisfied: wrapt>=1.11.0 in /usr/local/lib/python3.7/dist-packages (from tensorflow->astro-datasets) (1.14.1)\n",
            "Requirement already satisfied: absl-py>=0.4.0 in /usr/local/lib/python3.7/dist-packages (from tensorflow->astro-datasets) (1.2.0)\n",
            "Requirement already satisfied: flatbuffers>=1.12 in /usr/local/lib/python3.7/dist-packages (from tensorflow->astro-datasets) (2.0)\n",
            "Requirement already satisfied: google-pasta>=0.1.1 in /usr/local/lib/python3.7/dist-packages (from tensorflow->astro-datasets) (0.2.0)\n",
            "Requirement already satisfied: gast>=0.2.1 in /usr/local/lib/python3.7/dist-packages (from tensorflow->astro-datasets) (0.5.3)\n",
            "Requirement already satisfied: tensorflow-io-gcs-filesystem>=0.23.1 in /usr/local/lib/python3.7/dist-packages (from tensorflow->astro-datasets) (0.26.0)\n",
            "Requirement already satisfied: h5py>=2.9.0 in /usr/local/lib/python3.7/dist-packages (from tensorflow->astro-datasets) (3.1.0)\n",
            "Requirement already satisfied: termcolor>=1.1.0 in /usr/local/lib/python3.7/dist-packages (from tensorflow->astro-datasets) (1.1.0)\n",
            "Requirement already satisfied: protobuf<3.20,>=3.9.2 in /usr/local/lib/python3.7/dist-packages (from tensorflow->astro-datasets) (3.17.3)\n",
            "Requirement already satisfied: wheel<1.0,>=0.23.0 in /usr/local/lib/python3.7/dist-packages (from astunparse>=1.6.0->tensorflow->astro-datasets) (0.37.1)\n",
            "Requirement already satisfied: cached-property in /usr/local/lib/python3.7/dist-packages (from h5py>=2.9.0->tensorflow->astro-datasets) (1.5.2)\n",
            "Requirement already satisfied: markdown>=2.6.8 in /usr/local/lib/python3.7/dist-packages (from tensorboard<2.9,>=2.8->tensorflow->astro-datasets) (3.4.1)\n",
            "Requirement already satisfied: google-auth-oauthlib<0.5,>=0.4.1 in /usr/local/lib/python3.7/dist-packages (from tensorboard<2.9,>=2.8->tensorflow->astro-datasets) (0.4.6)\n",
            "Requirement already satisfied: tensorboard-plugin-wit>=1.6.0 in /usr/local/lib/python3.7/dist-packages (from tensorboard<2.9,>=2.8->tensorflow->astro-datasets) (1.8.1)\n",
            "Requirement already satisfied: requests<3,>=2.21.0 in /usr/local/lib/python3.7/dist-packages (from tensorboard<2.9,>=2.8->tensorflow->astro-datasets) (2.23.0)\n",
            "Requirement already satisfied: google-auth<3,>=1.6.3 in /usr/local/lib/python3.7/dist-packages (from tensorboard<2.9,>=2.8->tensorflow->astro-datasets) (1.35.0)\n",
            "Requirement already satisfied: tensorboard-data-server<0.7.0,>=0.6.0 in /usr/local/lib/python3.7/dist-packages (from tensorboard<2.9,>=2.8->tensorflow->astro-datasets) (0.6.1)\n",
            "Requirement already satisfied: werkzeug>=0.11.15 in /usr/local/lib/python3.7/dist-packages (from tensorboard<2.9,>=2.8->tensorflow->astro-datasets) (1.0.1)\n",
            "Requirement already satisfied: cachetools<5.0,>=2.0.0 in /usr/local/lib/python3.7/dist-packages (from google-auth<3,>=1.6.3->tensorboard<2.9,>=2.8->tensorflow->astro-datasets) (4.2.4)\n",
            "Requirement already satisfied: pyasn1-modules>=0.2.1 in /usr/local/lib/python3.7/dist-packages (from google-auth<3,>=1.6.3->tensorboard<2.9,>=2.8->tensorflow->astro-datasets) (0.2.8)\n",
            "Requirement already satisfied: rsa<5,>=3.1.4 in /usr/local/lib/python3.7/dist-packages (from google-auth<3,>=1.6.3->tensorboard<2.9,>=2.8->tensorflow->astro-datasets) (4.9)\n",
            "Requirement already satisfied: requests-oauthlib>=0.7.0 in /usr/local/lib/python3.7/dist-packages (from google-auth-oauthlib<0.5,>=0.4.1->tensorboard<2.9,>=2.8->tensorflow->astro-datasets) (1.3.1)\n",
            "Requirement already satisfied: importlib-metadata>=4.4 in /usr/local/lib/python3.7/dist-packages (from markdown>=2.6.8->tensorboard<2.9,>=2.8->tensorflow->astro-datasets) (4.12.0)\n",
            "Requirement already satisfied: zipp>=0.5 in /usr/local/lib/python3.7/dist-packages (from importlib-metadata>=4.4->markdown>=2.6.8->tensorboard<2.9,>=2.8->tensorflow->astro-datasets) (3.8.1)\n",
            "Requirement already satisfied: pyasn1<0.5.0,>=0.4.6 in /usr/local/lib/python3.7/dist-packages (from pyasn1-modules>=0.2.1->google-auth<3,>=1.6.3->tensorboard<2.9,>=2.8->tensorflow->astro-datasets) (0.4.8)\n",
            "Requirement already satisfied: urllib3!=1.25.0,!=1.25.1,<1.26,>=1.21.1 in /usr/local/lib/python3.7/dist-packages (from requests<3,>=2.21.0->tensorboard<2.9,>=2.8->tensorflow->astro-datasets) (1.24.3)\n",
            "Requirement already satisfied: chardet<4,>=3.0.2 in /usr/local/lib/python3.7/dist-packages (from requests<3,>=2.21.0->tensorboard<2.9,>=2.8->tensorflow->astro-datasets) (3.0.4)\n",
            "Requirement already satisfied: certifi>=2017.4.17 in /usr/local/lib/python3.7/dist-packages (from requests<3,>=2.21.0->tensorboard<2.9,>=2.8->tensorflow->astro-datasets) (2022.6.15)\n",
            "Requirement already satisfied: idna<3,>=2.5 in /usr/local/lib/python3.7/dist-packages (from requests<3,>=2.21.0->tensorboard<2.9,>=2.8->tensorflow->astro-datasets) (2.10)\n",
            "Requirement already satisfied: oauthlib>=3.0.0 in /usr/local/lib/python3.7/dist-packages (from requests-oauthlib>=0.7.0->google-auth-oauthlib<0.5,>=0.4.1->tensorboard<2.9,>=2.8->tensorflow->astro-datasets) (3.2.0)\n",
            "Requirement already satisfied: promise in /usr/local/lib/python3.7/dist-packages (from tensorflow-datasets->astro-datasets) (2.3)\n",
            "Requirement already satisfied: toml in /usr/local/lib/python3.7/dist-packages (from tensorflow-datasets->astro-datasets) (0.10.2)\n",
            "Requirement already satisfied: etils[epath] in /usr/local/lib/python3.7/dist-packages (from tensorflow-datasets->astro-datasets) (0.7.1)\n",
            "Requirement already satisfied: importlib-resources in /usr/local/lib/python3.7/dist-packages (from tensorflow-datasets->astro-datasets) (5.9.0)\n",
            "Requirement already satisfied: tqdm in /usr/local/lib/python3.7/dist-packages (from tensorflow-datasets->astro-datasets) (4.64.0)\n",
            "Requirement already satisfied: tensorflow-metadata in /usr/local/lib/python3.7/dist-packages (from tensorflow-datasets->astro-datasets) (1.9.0)\n",
            "Requirement already satisfied: dill in /usr/local/lib/python3.7/dist-packages (from tensorflow-datasets->astro-datasets) (0.3.5.1)\n",
            "Requirement already satisfied: googleapis-common-protos<2,>=1.52.0 in /usr/local/lib/python3.7/dist-packages (from tensorflow-metadata->tensorflow-datasets->astro-datasets) (1.56.4)\n",
            "Looking in indexes: https://pypi.org/simple, https://us-python.pkg.dev/colab-wheels/public/simple/\n",
            "Requirement already satisfied: tensorflow_datasets in /usr/local/lib/python3.7/dist-packages (4.6.0)\n",
            "Requirement already satisfied: dill in /usr/local/lib/python3.7/dist-packages (from tensorflow_datasets) (0.3.5.1)\n",
            "Requirement already satisfied: typing-extensions in /usr/local/lib/python3.7/dist-packages (from tensorflow_datasets) (4.1.1)\n",
            "Requirement already satisfied: tensorflow-metadata in /usr/local/lib/python3.7/dist-packages (from tensorflow_datasets) (1.9.0)\n",
            "Requirement already satisfied: toml in /usr/local/lib/python3.7/dist-packages (from tensorflow_datasets) (0.10.2)\n",
            "Requirement already satisfied: importlib-resources in /usr/local/lib/python3.7/dist-packages (from tensorflow_datasets) (5.9.0)\n",
            "Requirement already satisfied: termcolor in /usr/local/lib/python3.7/dist-packages (from tensorflow_datasets) (1.1.0)\n",
            "Requirement already satisfied: absl-py in /usr/local/lib/python3.7/dist-packages (from tensorflow_datasets) (1.2.0)\n",
            "Requirement already satisfied: numpy in /usr/local/lib/python3.7/dist-packages (from tensorflow_datasets) (1.21.6)\n",
            "Requirement already satisfied: etils[epath] in /usr/local/lib/python3.7/dist-packages (from tensorflow_datasets) (0.7.1)\n",
            "Requirement already satisfied: promise in /usr/local/lib/python3.7/dist-packages (from tensorflow_datasets) (2.3)\n",
            "Requirement already satisfied: six in /usr/local/lib/python3.7/dist-packages (from tensorflow_datasets) (1.15.0)\n",
            "Requirement already satisfied: requests>=2.19.0 in /usr/local/lib/python3.7/dist-packages (from tensorflow_datasets) (2.23.0)\n",
            "Requirement already satisfied: protobuf>=3.12.2 in /usr/local/lib/python3.7/dist-packages (from tensorflow_datasets) (3.17.3)\n",
            "Requirement already satisfied: tqdm in /usr/local/lib/python3.7/dist-packages (from tensorflow_datasets) (4.64.0)\n",
            "Requirement already satisfied: urllib3!=1.25.0,!=1.25.1,<1.26,>=1.21.1 in /usr/local/lib/python3.7/dist-packages (from requests>=2.19.0->tensorflow_datasets) (1.24.3)\n",
            "Requirement already satisfied: idna<3,>=2.5 in /usr/local/lib/python3.7/dist-packages (from requests>=2.19.0->tensorflow_datasets) (2.10)\n",
            "Requirement already satisfied: chardet<4,>=3.0.2 in /usr/local/lib/python3.7/dist-packages (from requests>=2.19.0->tensorflow_datasets) (3.0.4)\n",
            "Requirement already satisfied: certifi>=2017.4.17 in /usr/local/lib/python3.7/dist-packages (from requests>=2.19.0->tensorflow_datasets) (2022.6.15)\n",
            "Requirement already satisfied: zipp in /usr/local/lib/python3.7/dist-packages (from etils[epath]->tensorflow_datasets) (3.8.1)\n",
            "Requirement already satisfied: googleapis-common-protos<2,>=1.52.0 in /usr/local/lib/python3.7/dist-packages (from tensorflow-metadata->tensorflow_datasets) (1.56.4)\n"
          ]
        }
      ]
    },
    {
      "cell_type": "code",
      "source": [
        "shutil.rmtree('bnn_hmc', ignore_errors=True)"
      ],
      "metadata": {
        "id": "NQFJTLoKCebi"
      },
      "execution_count": 12,
      "outputs": []
    },
    {
      "cell_type": "code",
      "source": [
        "!git clone https://github.com/adammoss/bnn_hmc"
      ],
      "metadata": {
        "colab": {
          "base_uri": "https://localhost:8080/"
        },
        "id": "XPfEAVvcCg1O",
        "outputId": "b681a52c-0bf7-4769-de00-f84e4b6367c1"
      },
      "execution_count": 13,
      "outputs": [
        {
          "output_type": "stream",
          "name": "stdout",
          "text": [
            "Cloning into 'bnn_hmc'...\n",
            "remote: Enumerating objects: 554, done.\u001b[K\n",
            "remote: Counting objects:   4% (1/23)\u001b[K\rremote: Counting objects:   8% (2/23)\u001b[K\rremote: Counting objects:  13% (3/23)\u001b[K\rremote: Counting objects:  17% (4/23)\u001b[K\rremote: Counting objects:  21% (5/23)\u001b[K\rremote: Counting objects:  26% (6/23)\u001b[K\rremote: Counting objects:  30% (7/23)\u001b[K\rremote: Counting objects:  34% (8/23)\u001b[K\rremote: Counting objects:  39% (9/23)\u001b[K\rremote: Counting objects:  43% (10/23)\u001b[K\rremote: Counting objects:  47% (11/23)\u001b[K\rremote: Counting objects:  52% (12/23)\u001b[K\rremote: Counting objects:  56% (13/23)\u001b[K\rremote: Counting objects:  60% (14/23)\u001b[K\rremote: Counting objects:  65% (15/23)\u001b[K\rremote: Counting objects:  69% (16/23)\u001b[K\rremote: Counting objects:  73% (17/23)\u001b[K\rremote: Counting objects:  78% (18/23)\u001b[K\rremote: Counting objects:  82% (19/23)\u001b[K\rremote: Counting objects:  86% (20/23)\u001b[K\rremote: Counting objects:  91% (21/23)\u001b[K\rremote: Counting objects:  95% (22/23)\u001b[K\rremote: Counting objects: 100% (23/23)\u001b[K\rremote: Counting objects: 100% (23/23), done.\u001b[K\n",
            "remote: Compressing objects: 100% (23/23), done.\u001b[K\n",
            "remote: Total 554 (delta 14), reused 0 (delta 0), pack-reused 531\u001b[K\n",
            "Receiving objects: 100% (554/554), 1.04 MiB | 13.47 MiB/s, done.\n",
            "Resolving deltas: 100% (395/395), done.\n"
          ]
        }
      ]
    },
    {
      "cell_type": "code",
      "source": [
        "# https://storage.googleapis.com/jax-releases/jax_cuda_releases.html\n",
        "!pip install --upgrade https://storage.googleapis.com/jax-releases/cuda111/jaxlib-0.1.65+cuda111-cp37-none-manylinux2010_x86_64.whl\n",
        "!pip install jax==0.2.12\n",
        "!pip install dm-haiku==0.0.5.dev0 optax==0.0.6 chex==0.0.6"
      ],
      "metadata": {
        "colab": {
          "base_uri": "https://localhost:8080/"
        },
        "id": "uQdyQekACiXp",
        "outputId": "accd8eba-2f2f-4516-add4-81488c342bf9"
      },
      "execution_count": 14,
      "outputs": [
        {
          "output_type": "stream",
          "name": "stdout",
          "text": [
            "Looking in indexes: https://pypi.org/simple, https://us-python.pkg.dev/colab-wheels/public/simple/\n",
            "Collecting jaxlib==0.1.65+cuda111\n",
            "  Using cached https://storage.googleapis.com/jax-releases/cuda111/jaxlib-0.1.65+cuda111-cp37-none-manylinux2010_x86_64.whl (189.4 MB)\n",
            "Requirement already satisfied: numpy>=1.16 in /usr/local/lib/python3.7/dist-packages (from jaxlib==0.1.65+cuda111) (1.21.6)\n",
            "Requirement already satisfied: scipy in /usr/local/lib/python3.7/dist-packages (from jaxlib==0.1.65+cuda111) (1.7.3)\n",
            "Requirement already satisfied: flatbuffers in /usr/local/lib/python3.7/dist-packages (from jaxlib==0.1.65+cuda111) (2.0)\n",
            "Requirement already satisfied: absl-py in /usr/local/lib/python3.7/dist-packages (from jaxlib==0.1.65+cuda111) (1.2.0)\n",
            "Looking in indexes: https://pypi.org/simple, https://us-python.pkg.dev/colab-wheels/public/simple/\n",
            "Requirement already satisfied: jax==0.2.12 in /usr/local/lib/python3.7/dist-packages (0.2.12)\n",
            "Requirement already satisfied: opt-einsum in /usr/local/lib/python3.7/dist-packages (from jax==0.2.12) (3.3.0)\n",
            "Requirement already satisfied: numpy>=1.12 in /usr/local/lib/python3.7/dist-packages (from jax==0.2.12) (1.21.6)\n",
            "Requirement already satisfied: absl-py in /usr/local/lib/python3.7/dist-packages (from jax==0.2.12) (1.2.0)\n",
            "Looking in indexes: https://pypi.org/simple, https://us-python.pkg.dev/colab-wheels/public/simple/\n",
            "Requirement already satisfied: dm-haiku==0.0.5.dev0 in /usr/local/lib/python3.7/dist-packages (0.0.5.dev0)\n",
            "Requirement already satisfied: optax==0.0.6 in /usr/local/lib/python3.7/dist-packages (0.0.6)\n",
            "Requirement already satisfied: chex==0.0.6 in /usr/local/lib/python3.7/dist-packages (0.0.6)\n",
            "Requirement already satisfied: numpy>=1.18.0 in /usr/local/lib/python3.7/dist-packages (from dm-haiku==0.0.5.dev0) (1.21.6)\n",
            "Requirement already satisfied: tabulate>=0.8.9 in /usr/local/lib/python3.7/dist-packages (from dm-haiku==0.0.5.dev0) (0.8.10)\n",
            "Requirement already satisfied: absl-py>=0.7.1 in /usr/local/lib/python3.7/dist-packages (from dm-haiku==0.0.5.dev0) (1.2.0)\n",
            "Requirement already satisfied: typing-extensions in /usr/local/lib/python3.7/dist-packages (from dm-haiku==0.0.5.dev0) (4.1.1)\n",
            "Requirement already satisfied: jax>=0.1.55 in /usr/local/lib/python3.7/dist-packages (from optax==0.0.6) (0.2.12)\n",
            "Requirement already satisfied: jaxlib>=0.1.37 in /usr/local/lib/python3.7/dist-packages (from optax==0.0.6) (0.1.65+cuda111)\n",
            "Requirement already satisfied: dm-tree>=0.1.5 in /usr/local/lib/python3.7/dist-packages (from chex==0.0.6) (0.1.7)\n",
            "Requirement already satisfied: toolz>=0.9.0 in /usr/local/lib/python3.7/dist-packages (from chex==0.0.6) (0.12.0)\n",
            "Requirement already satisfied: opt-einsum in /usr/local/lib/python3.7/dist-packages (from jax>=0.1.55->optax==0.0.6) (3.3.0)\n",
            "Requirement already satisfied: scipy in /usr/local/lib/python3.7/dist-packages (from jaxlib>=0.1.37->optax==0.0.6) (1.7.3)\n",
            "Requirement already satisfied: flatbuffers in /usr/local/lib/python3.7/dist-packages (from jaxlib>=0.1.37->optax==0.0.6) (2.0)\n"
          ]
        }
      ]
    },
    {
      "cell_type": "code",
      "source": [
        "for i, root in enumerate(glob.glob('/content/runs/*/')):\n",
        "  shutil.rmtree(root, ignore_errors=True)"
      ],
      "metadata": {
        "id": "0HRoaN1PCkxD"
      },
      "execution_count": 15,
      "outputs": []
    },
    {
      "cell_type": "code",
      "source": [
        "!python3 bnn_hmc/scripts/run_vi.py --seed=1 --weight_decay=5. --dir=runs/vi/mlsst/ \\\n",
        "  --dataset_name=mlsst/Y10 --model_name=lenet \\\n",
        "  --init_step_size=1e-4 --num_epochs=200 --eval_freq=5 --batch_size=100 --patience 10\\\n",
        "  --save_freq=300 --optimizer=Adam \\\n",
        "  --vi_sigma_init=0.01 --temperature=1. --vi_ensemble_size=20 --scaling=asinh --test_split=validation --image_size=64 --subset_train_to=20000"
      ],
      "metadata": {
        "colab": {
          "base_uri": "https://localhost:8080/"
        },
        "id": "3RYnqhllCvTQ",
        "outputId": "07b92d83-54ea-4a6e-c1e8-188a52484f25"
      },
      "execution_count": 17,
      "outputs": [
        {
          "output_type": "stream",
          "name": "stdout",
          "text": [
            "JAX sees the following devices: [GpuDevice(id=0, process_index=0)]\n",
            "TF sees the following devices: [PhysicalDevice(name='/physical_device:CPU:0', device_type='CPU')]\n",
            "tcmalloc: large alloc 1154433024 bytes == 0x1d364000 @  0x7fe9a95c4b6b 0x7fe9a95e4379 0x7fe947227fc7 0x7fe93565e66f 0x7fe9356fbd78 0x7fe940e151d0 0x7fe940e15763 0x7fe9423bb1c2 0x7fe93582026b 0x7fe94248f5c1 0x7fe93b279551 0x7fe93b276213 0x7fe935f5a515 0x7fe9a8fa66db 0x7fe9a92df61f\n",
            "Starting from random initialization with provided seed\n",
            "/content/bnn_hmc/bnn_hmc/utils/script_utils.py:152: VisibleDeprecationWarning: Creating an ndarray from ragged nested sequences (which is a list-or-tuple of lists-or-tuples-or ndarrays with different lengths or shapes) is deprecated. If you meant to do this, you must specify 'dtype=object' when creating the ndarray.\n",
            "  predict_fn(net_apply, params, net_state, test_set))\n",
            "/content/bnn_hmc/bnn_hmc/utils/script_utils.py:154: VisibleDeprecationWarning: Creating an ndarray from ragged nested sequences (which is a list-or-tuple of lists-or-tuples-or ndarrays with different lengths or shapes) is deprecated. If you meant to do this, you must specify 'dtype=object' when creating the ndarray.\n",
            "  predict_fn(net_apply, params, net_state, train_set))\n",
            "bnn_hmc/scripts/run_vi.py:199: VisibleDeprecationWarning: Creating an ndarray from ragged nested sequences (which is a list-or-tuple of lists-or-tuples-or ndarrays with different lengths or shapes) is deprecated. If you meant to do this, you must specify 'dtype=object' when creating the ndarray.\n",
            "  vi_ensemble_predict_fn(net_apply, params, net_state, test_set))\n",
            "---  --------  ----------------  ---------------  ----------  -------------------  --------------  --------------  --------\n",
            "  i         t    train/accuracy    test/accuracy    test/nll    test/ens_accuracy    test/ens_nll    test/ens_ece        lr\n",
            "---  --------  ----------------  ---------------  ----------  -------------------  --------------  --------------  --------\n",
            "  0    5.2041            0.4209           0.4134      1.0691               0.5255          1.0236          0.1242    0.0001\n",
            "  1    0.4660            0.4988           0.5091      0.9848               0.5428          0.9783          0.1144    0.0001\n",
            "  2    0.4730            0.5248           0.5311      0.9708               0.5627          0.9785          0.1345    0.0001\n",
            "  3    0.4657            0.5248           0.5332      0.9352               0.5463          0.9325          0.0708    0.0001\n",
            "  4    0.4679            0.5582           0.5702      0.9380               0.5717          0.9500          0.1109    0.0001\n",
            "  5    0.4655            0.5555           0.5604      0.9218               0.5618          0.9185          0.0569    0.0001\n",
            "  6    0.4664            0.5631           0.5732      0.9241               0.5690          0.9146          0.0591    0.0001\n",
            "  7    0.4660            0.5504           0.5535      0.9093               0.5466          0.9131          0.0416    0.0001\n",
            "  8    0.4680            0.5635           0.5735      0.9057               0.5627          0.9081          0.0222    0.0001\n",
            "  9    0.4651            0.5659           0.5788      0.9046               0.5782          0.9014          0.0475    0.0001\n",
            " 10    0.4675            0.5697           0.5773      0.8952               0.5714          0.9010          0.0368    0.0001\n",
            " 11    0.4655            0.5707           0.5785      0.9041               0.5768          0.8996          0.0474    0.0001\n",
            " 12    0.4655            0.5749           0.5884      0.8953               0.5830          0.8915          0.0453    0.0001\n",
            " 13    0.4678            0.5781           0.5845      0.8914               0.5773          0.8900          0.0427    0.0001\n",
            " 14    0.4659            0.5854           0.5920      0.8882               0.5851          0.8880          0.0379    0.0001\n",
            " 15    0.4660            0.5896           0.5920      0.8876               0.5949          0.8845          0.0606    0.0001\n",
            " 16    0.4651            0.5919           0.5934      0.8901               0.5934          0.8817          0.0631    0.0001\n",
            " 17    0.4663            0.5907           0.5857      0.8882               0.5914          0.8813          0.0603    0.0001\n",
            " 18    0.4655            0.5965           0.5985      0.8734               0.5994          0.8738          0.0422    0.0001\n",
            " 19    0.4657            0.6011           0.6012      0.8689               0.5949          0.8665          0.0390    0.0001\n",
            " 20    0.4657            0.5993           0.5997      0.8633               0.6021          0.8630          0.0370    0.0001\n",
            " 21    0.4668            0.6102           0.6075      0.8623               0.6018          0.8585          0.0376    0.0001\n",
            " 22    0.4661            0.6120           0.5931      0.8728               0.5768          0.8852          0.0563    0.0001\n",
            " 23    0.4653            0.6167           0.6107      0.8623               0.6069          0.8541          0.0411    0.0001\n",
            " 24    0.4652            0.6193           0.6080      0.8575               0.6086          0.8505          0.0362    0.0001\n",
            " 25    0.4657            0.6225           0.6086      0.8520               0.6146          0.8467          0.0381    0.0001\n",
            " 26    0.4663            0.6274           0.6063      0.8532               0.6095          0.8461          0.0420    0.0001\n",
            " 27    0.4668            0.6343           0.6107      0.8508               0.6066          0.8473          0.0248    0.0001\n",
            " 28    0.4656            0.6323           0.6113      0.8511               0.6095          0.8441          0.0333    0.0001\n",
            " 29    0.4651            0.6268           0.6116      0.8512               0.6200          0.8423          0.0307    0.0001\n",
            " 30    0.4663            0.6359           0.6119      0.8465               0.6146          0.8464          0.0389    0.0001\n",
            " 31    0.4656            0.6281           0.6137      0.8427               0.6185          0.8371          0.0179    0.0001\n",
            " 32    0.4653            0.6308           0.6128      0.8477               0.6191          0.8404          0.0354    0.0001\n",
            " 33    0.4681            0.6354           0.6134      0.8543               0.6203          0.8397          0.0371    0.0001\n",
            " 34    0.4661            0.6392           0.6089      0.8459               0.6232          0.8343          0.0381    0.0001\n",
            " 35    0.4654            0.6488           0.6167      0.8395               0.6265          0.8327          0.0470    0.0001\n",
            " 36    0.4654            0.6463           0.6092      0.8403               0.6224          0.8309          0.0384    0.0001\n",
            " 37    0.4668            0.6486           0.6149      0.8315               0.6241          0.8267          0.0278    0.0001\n",
            " 38    0.4666            0.6622           0.6197      0.8350               0.6316          0.8274          0.0429    0.0001\n",
            " 39    0.4660            0.6576           0.6152      0.8316               0.6247          0.8268          0.0288    0.0001\n",
            "---  --------  ----------------  ---------------  ----------  -------------------  --------------  --------------  --------\n",
            "  i         t    train/accuracy    test/accuracy    test/nll    test/ens_accuracy    test/ens_nll    test/ens_ece        lr\n",
            "---  --------  ----------------  ---------------  ----------  -------------------  --------------  --------------  --------\n",
            " 40    0.4668            0.6592           0.6164      0.8272               0.6289          0.8242          0.0234    0.0001\n",
            " 41    0.4675            0.6690           0.6179      0.8330               0.6173          0.8296          0.0232    0.0001\n",
            " 42    0.4676            0.6816           0.6227      0.8229               0.6334          0.8207          0.0323    0.0001\n",
            " 43    0.4668            0.6711           0.6125      0.8248               0.6250          0.8248          0.0370    0.0001\n",
            " 44    0.4650            0.6739           0.6200      0.8256               0.6301          0.8195          0.0274    0.0001\n",
            " 45    0.4658            0.6887           0.6200      0.8189               0.6346          0.8172          0.0353    0.0001\n",
            " 46    0.4666            0.6805           0.6203      0.8215               0.6376          0.8143          0.0293    0.0001\n",
            " 47    0.4653            0.6660           0.6095      0.8305               0.6283          0.8148          0.0248    0.0001\n",
            " 48    0.4664            0.7004           0.6253      0.8131               0.6396          0.8103          0.0260    0.0001\n",
            " 49    0.4661            0.6859           0.6301      0.8156               0.6292          0.8155          0.0322    0.0001\n",
            " 50    0.4669            0.6964           0.6194      0.8322               0.6405          0.8160          0.0587    0.0001\n",
            " 51    0.4662            0.6965           0.6238      0.8166               0.6390          0.8067          0.0272    0.0001\n",
            " 52    0.4655            0.7176           0.6379      0.8083               0.6379          0.8104          0.0313    0.0001\n",
            " 53    0.4685            0.6993           0.6250      0.8140               0.6396          0.8066          0.0218    0.0001\n",
            " 54    0.4654            0.7212           0.6355      0.8040               0.6411          0.8057          0.0299    0.0001\n",
            " 55    0.4651            0.7049           0.6268      0.8165               0.6435          0.8039          0.0327    0.0001\n",
            " 56    0.4658            0.7156           0.6265      0.8125               0.6435          0.7999          0.0232    0.0001\n",
            " 57    0.4677            0.7322           0.6322      0.8114               0.6504          0.8030          0.0264    0.0001\n",
            " 58    0.4701            0.7328           0.6396      0.8012               0.6528          0.7986          0.0256    0.0001\n",
            " 59    0.4677            0.7299           0.6405      0.8025               0.6453          0.7977          0.0226    0.0001\n",
            " 60    0.4654            0.7355           0.6355      0.8063               0.6486          0.7960          0.0392    0.0001\n",
            " 61    0.4685            0.7429           0.6429      0.8019               0.6417          0.8041          0.0343    0.0001\n",
            " 62    0.4654            0.7441           0.6387      0.8086               0.6531          0.7979          0.0401    0.0001\n",
            " 63    0.4655            0.7450           0.6340      0.8066               0.6563          0.7943          0.0276    0.0001\n",
            " 64    0.4661            0.7456           0.6420      0.8045               0.6551          0.7920          0.0225    0.0001\n",
            " 65    0.4659            0.7661           0.6390      0.8098               0.6399          0.8141          0.0323    0.0001\n",
            " 66    0.4672            0.7619           0.6554      0.7918               0.6608          0.7857          0.0247    0.0001\n",
            " 67    0.4651            0.7737           0.6513      0.7880               0.6471          0.7916          0.0319    0.0001\n",
            " 68    0.4664            0.7480           0.6361      0.8088               0.6560          0.7886          0.0230    0.0001\n",
            " 69    0.4693            0.7669           0.6474      0.7937               0.6575          0.7836          0.0334    0.0001\n",
            " 70    0.4687            0.7649           0.6322      0.8165               0.6438          0.8025          0.0400    0.0001\n",
            " 71    0.4677            0.7827           0.6578      0.7895               0.6608          0.7835          0.0349    0.0001\n",
            " 72    0.4663            0.7865           0.6575      0.7836               0.6465          0.7943          0.0143    0.0001\n",
            " 73    0.4693            0.7918           0.6557      0.7869               0.6566          0.7876          0.0232    0.0001\n",
            " 74    0.4674            0.7966           0.6620      0.7829               0.6542          0.7882          0.0268    0.0001\n",
            " 75    0.4661            0.7851           0.6581      0.7877               0.6629          0.7770          0.0315    0.0001\n",
            " 76    0.4693            0.7825           0.6516      0.7887               0.6608          0.7796          0.0279    0.0001\n",
            " 77    0.4654            0.7957           0.6614      0.7787               0.6486          0.7881          0.0307    0.0001\n",
            " 78    0.4657            0.7564           0.6298      0.8317               0.6396          0.8044          0.0414    0.0001\n",
            " 79    0.4685            0.7881           0.6534      0.7912               0.6599          0.7766          0.0278    0.0001\n",
            "---  --------  ----------------  ---------------  ----------  -------------------  --------------  --------------  --------\n",
            "  i         t    train/accuracy    test/accuracy    test/nll    test/ens_accuracy    test/ens_nll    test/ens_ece        lr\n",
            "---  --------  ----------------  ---------------  ----------  -------------------  --------------  --------------  --------\n",
            " 80    0.4665            0.7793           0.6531      0.8017               0.6703          0.7773          0.0299    0.0001\n",
            " 81    0.4674            0.7935           0.6659      0.7854               0.6665          0.7753          0.0347    0.0001\n",
            " 82    0.4688            0.8079           0.6578      0.7867               0.6623          0.7745          0.0324    0.0001\n",
            " 83    0.4660            0.8030           0.6632      0.7804               0.6662          0.7727          0.0386    0.0001\n",
            " 84    0.4647            0.8240           0.6689      0.7817               0.6635          0.7817          0.0301    0.0001\n",
            " 85    0.4694            0.8192           0.6680      0.7802               0.6668          0.7700          0.0236    0.0001\n",
            " 86    0.4677            0.8167           0.6623      0.7853               0.6709          0.7657          0.0323    0.0001\n",
            " 87    0.4661            0.8259           0.6653      0.7829               0.6715          0.7664          0.0336    0.0001\n",
            " 88    0.4662            0.8195           0.6715      0.7753               0.6712          0.7667          0.0298    0.0001\n",
            " 89    0.4651            0.8197           0.6689      0.7792               0.6712          0.7635          0.0384    0.0001\n",
            " 90    0.4644            0.8350           0.6766      0.7746               0.6694          0.7632          0.0216    0.0001\n",
            " 91    0.4670            0.8151           0.6656      0.7902               0.6787          0.7639          0.0287    0.0001\n",
            " 92    0.4667            0.8242           0.6697      0.7826               0.6692          0.7633          0.0513    0.0001\n",
            " 93    0.4669            0.8305           0.6712      0.7787               0.6683          0.7647          0.0331    0.0001\n",
            " 94    0.4684            0.8409           0.6775      0.7750               0.6745          0.7637          0.0273    0.0001\n",
            " 95    0.4664            0.8462           0.6775      0.7745               0.6754          0.7581          0.0358    0.0001\n",
            " 96    0.4659            0.8078           0.6608      0.8092               0.6736          0.7689          0.0296    0.0001\n",
            " 97    0.4679            0.8444           0.6683      0.7867               0.6757          0.7715          0.0350    0.0001\n",
            " 98    0.4650            0.8463           0.6823      0.7680               0.6742          0.7597          0.0311    0.0001\n",
            " 99    0.4654            0.8508           0.6709      0.7730               0.6706          0.7648          0.0289    0.0000\n",
            "100    0.4684            0.8401           0.6751      0.7797               0.6787          0.7600          0.0394    0.0000\n",
            "101    0.4691            0.8386           0.6823      0.7736               0.6829          0.7616          0.0268    0.0000\n",
            "102    0.4683            0.8466           0.6692      0.7921               0.6712          0.7710          0.0410    0.0000\n",
            "103    0.4664            0.8321           0.6692      0.8027               0.6727          0.7694          0.0234    0.0000\n",
            "104    0.4656            0.8557           0.6829      0.7767               0.6790          0.7560          0.0322    0.0000\n",
            "105    0.4671            0.8551           0.6772      0.7722               0.6873          0.7540          0.0303    0.0000\n",
            "106    0.4666            0.8575           0.6846      0.7662               0.6790          0.7555          0.0314    0.0000\n",
            "107    0.4676            0.8634           0.6849      0.7755               0.6766          0.7627          0.0203    0.0000\n",
            "108    0.4666            0.8500           0.6784      0.7841               0.6844          0.7516          0.0260    0.0000\n",
            "109    0.4707            0.8580           0.6742      0.7886               0.6835          0.7614          0.0293    0.0000\n",
            "110    0.4659            0.8528           0.6846      0.7765               0.6826          0.7570          0.0204    0.0000\n",
            "111    0.4660            0.8656           0.6864      0.7629               0.6760          0.7537          0.0373    0.0000\n",
            "112    0.4668            0.8633           0.6811      0.7725               0.6841          0.7571          0.0333    0.0000\n",
            "113    0.4693            0.8574           0.6769      0.7904               0.6888          0.7564          0.0303    0.0000\n",
            "114    0.4667            0.8583           0.6811      0.7832               0.6888          0.7539          0.0352    0.0000\n",
            "115    0.4671            0.8681           0.6873      0.7729               0.6805          0.7567          0.0318    0.0000\n",
            "116    0.4650            0.8719           0.6846      0.7708               0.6918          0.7476          0.0399    0.0000\n",
            "117    0.4679            0.8597           0.6775      0.7824               0.6876          0.7553          0.0296    0.0000\n",
            "118    0.4662            0.8485           0.6724      0.7939               0.6838          0.7602          0.0321    0.0000\n",
            "119    0.4662            0.8725           0.6894      0.7680               0.6912          0.7491          0.0270    0.0000\n",
            "---  --------  ----------------  ---------------  ----------  -------------------  --------------  --------------  --------\n",
            "  i         t    train/accuracy    test/accuracy    test/nll    test/ens_accuracy    test/ens_nll    test/ens_ece        lr\n",
            "---  --------  ----------------  ---------------  ----------  -------------------  --------------  --------------  --------\n",
            "120    0.4670            0.8719           0.6841      0.7729               0.6888          0.7506          0.0320    0.0000\n",
            "121    0.4695            0.8811           0.6897      0.7658               0.6885          0.7471          0.0243    0.0000\n",
            "122    0.4662            0.8778           0.6829      0.7742               0.6882          0.7529          0.0331    0.0000\n",
            "123    0.4663            0.8702           0.6790      0.7810               0.6918          0.7476          0.0285    0.0000\n",
            "124    0.4688            0.8693           0.6787      0.7833               0.6924          0.7436          0.0330    0.0000\n",
            "125    0.4669            0.8788           0.6906      0.7648               0.6885          0.7425          0.0241    0.0000\n",
            "126    0.4683            0.8711           0.6846      0.7747               0.6930          0.7519          0.0336    0.0000\n",
            "127    0.4658            0.8783           0.6858      0.7713               0.6882          0.7499          0.0300    0.0000\n",
            "128    0.4656            0.8799           0.6852      0.7732               0.6906          0.7514          0.0274    0.0000\n",
            "129    0.4664            0.8896           0.6894      0.7669               0.6897          0.7459          0.0279    0.0000\n",
            "130    0.4686            0.8883           0.6799      0.7701               0.6844          0.7503          0.0230    0.0000\n",
            "131    0.4654            0.8768           0.6846      0.7728               0.6867          0.7432          0.0264    0.0000\n",
            "132    0.4659            0.8784           0.6882      0.7675               0.6954          0.7449          0.0292    0.0000\n",
            "133    0.4662            0.8770           0.6832      0.7754               0.6960          0.7415          0.0339    0.0000\n",
            "134    0.4664            0.8799           0.6861      0.7708               0.6909          0.7435          0.0308    0.0000\n",
            "135    0.4684            0.8839           0.6849      0.7739               0.6915          0.7480          0.0260    0.0000\n",
            "136    0.4670            0.8747           0.6772      0.7932               0.6942          0.7483          0.0301    0.0000\n",
            "137    0.4728            0.8886           0.6879      0.7723               0.6858          0.7433          0.0265    0.0000\n",
            "138    0.4668            0.8812           0.6855      0.7732               0.6900          0.7411          0.0296    0.0000\n",
            "139    0.4666            0.8795           0.6870      0.7749               0.6906          0.7420          0.0236    0.0000\n",
            "140    0.4694            0.8874           0.6861      0.7730               0.6912          0.7368          0.0242    0.0000\n",
            "141    0.4668            0.8873           0.6838      0.7764               0.6912          0.7440          0.0308    0.0000\n",
            "142    0.4669            0.8790           0.6885      0.7842               0.6939          0.7448          0.0329    0.0000\n",
            "143    0.4689            0.8865           0.6927      0.7702               0.6993          0.7347          0.0301    0.0000\n",
            "144    0.4666            0.8805           0.6882      0.7831               0.6933          0.7421          0.0276    0.0000\n",
            "145    0.4665            0.8848           0.6867      0.7773               0.6909          0.7383          0.0282    0.0000\n",
            "146    0.4691            0.8931           0.6873      0.7687               0.6841          0.7478          0.0280    0.0000\n",
            "147    0.4669            0.8866           0.6897      0.7748               0.6981          0.7461          0.0300    0.0000\n",
            "148    0.4678            0.8985           0.6909      0.7671               0.6891          0.7423          0.0286    0.0000\n",
            "149    0.4662            0.8948           0.6867      0.7705               0.6924          0.7401          0.0297    0.0000\n",
            "150    0.4655            0.8875           0.6876      0.7799               0.6960          0.7383          0.0279    0.0000\n",
            "151    0.4667            0.8960           0.6873      0.7681               0.6921          0.7460          0.0258    0.0000\n",
            "152    0.4682            0.8899           0.6891      0.7779               0.6945          0.7403          0.0289    0.0000\n",
            "153    0.4683            0.8909           0.6903      0.7749               0.6978          0.7390          0.0252    0.0000\n"
          ]
        }
      ]
    },
    {
      "cell_type": "code",
      "source": [
        "!python3 bnn_hmc/scripts/run_vi.py --seed=1 --weight_decay=5. --dir=runs/vi/mlsst/ \\\n",
        "  --dataset_name=mlsst/Y10 --model_name=lenet \\\n",
        "  --init_step_size=1e-4 --num_epochs=200 --eval_freq=5 --batch_size=100 --patience 10\\\n",
        "  --save_freq=300 --optimizer=Adam \\\n",
        "  --vi_sigma_init=0.01 --temperature=1. --vi_ensemble_size=20 --scaling=asinh --eval_split=test --image_size=64 "
      ],
      "metadata": {
        "colab": {
          "base_uri": "https://localhost:8080/"
        },
        "id": "4dfSFarUiJV_",
        "outputId": "f8740276-4a44-4bc4-d655-41cf172f03a9"
      },
      "execution_count": 21,
      "outputs": [
        {
          "output_type": "stream",
          "name": "stdout",
          "text": [
            "JAX sees the following devices: [GpuDevice(id=0, process_index=0)]\n",
            "TF sees the following devices: [PhysicalDevice(name='/physical_device:CPU:0', device_type='CPU')]\n",
            "tcmalloc: large alloc 1154433024 bytes == 0x1b01a000 @  0x7fc14e923b6b 0x7fc14e943379 0x7fc0ec5c6fc7 0x7fc0da9fd66f 0x7fc0daa9ad78 0x7fc0e61b41d0 0x7fc0e61b4763 0x7fc0e775a1c2 0x7fc0dabbf26b 0x7fc0e782e5c1 0x7fc0e0618551 0x7fc0e0615213 0x7fc0db2f9515 0x7fc14e3056db 0x7fc14e63e61f\n",
            "Continuing the run from the last saved checkpoint\n",
            "bnn_hmc/scripts/run_vi.py:246: VisibleDeprecationWarning: Creating an ndarray from ragged nested sequences (which is a list-or-tuple of lists-or-tuples-or ndarrays with different lengths or shapes) is deprecated. If you meant to do this, you must specify 'dtype=object' when creating the ndarray.\n",
            "  vi_ensemble_predict_fn(net_apply, params, net_state, test_set))\n",
            "{'accuracy': DeviceArray(0.68309754, dtype=float32), 'nll': 0.7575772, 'ece': 0.021959149797550356}\n"
          ]
        }
      ]
    },
    {
      "cell_type": "code",
      "source": [
        "accuracies = []\n",
        "nlls = []\n",
        "eces = []\n",
        "softmax = []\n",
        "for i, root in enumerate(glob.glob('/content/runs/vi/mlsst/*/')):\n",
        "  data = np.load(root + '/test_set.npy')  \n",
        "  softmax = np.squeeze(np.load(root + '/predictions.npy'))\n",
        "  metrics = np.load(root + '/metrics.npy', allow_pickle=True)\n",
        "  accuracies.append(metrics.item()['accuracy'])\n",
        "  nlls.append(metrics.item()['nll'])\n",
        "  eces.append(metrics.item()['ece'])\n",
        "  print(softmax.shape)\n",
        "print('Accuracy', np.mean(accuracies), np.std(accuracies))\n",
        "print('NLL', np.mean(nlls), np.std(nlls))\n",
        "print('ECE', np.mean(eces), np.std(eces))"
      ],
      "metadata": {
        "colab": {
          "base_uri": "https://localhost:8080/"
        },
        "id": "KOfO64SVC-6B",
        "outputId": "28ca2723-a5b7-4b7b-9e29-83c54e886242"
      },
      "execution_count": 30,
      "outputs": [
        {
          "output_type": "stream",
          "name": "stdout",
          "text": [
            "(20, 6715, 3)\n",
            "Accuracy 0.68309754 0.0\n",
            "NLL 0.7575772 0.0\n",
            "ECE 0.021959149797550356 0.0\n"
          ]
        }
      ]
    },
    {
      "cell_type": "code",
      "source": [
        "print('Ensemble accuracy', np.sum(np.argmax(np.mean(softmax, axis=0), axis=-1) == data) / softmax.shape[1])"
      ],
      "metadata": {
        "id": "YT4adErnjbBI",
        "outputId": "611feab2-a660-415d-bedf-b3179440911b",
        "colab": {
          "base_uri": "https://localhost:8080/"
        }
      },
      "execution_count": 38,
      "outputs": [
        {
          "output_type": "stream",
          "name": "stdout",
          "text": [
            "Ensemble accuracy 0.6830975428145942\n"
          ]
        }
      ]
    },
    {
      "cell_type": "code",
      "source": [
        "def uncertainty(softmax):\n",
        "  # Per example softmax with shape(num_examples, num_classes)\n",
        "  predictive_entropy = 0\n",
        "  single_pass_entropy = 0\n",
        "  for i in range(softmax.shape[1]):\n",
        "    # Sum over classes\n",
        "    predictive_entropy += -np.mean(softmax[:,i])*np.log(np.mean(softmax[:,i]))\n",
        "    single_pass_entropy += -softmax[:,i]*np.log(softmax[:,i])\n",
        "  single_pass_entropy = np.mean(single_pass_entropy)\n",
        "  mutual_info = predictive_entropy - single_pass_entropy\n",
        "  return predictive_entropy, single_pass_entropy, mutual_info"
      ],
      "metadata": {
        "id": "6_E5w4i8iecM"
      },
      "execution_count": 39,
      "outputs": []
    },
    {
      "cell_type": "code",
      "source": [
        "predictive_entropies = [] \n",
        "single_pass_entropies = []\n",
        "mutual_infos = []\n",
        "for i in range(softmax.shape[1]):\n",
        "  predictive_entropy, single_pass_entropy, mutual_info = uncertainty(softmax[:,i,:])\n",
        "  predictive_entropies.append(predictive_entropy)\n",
        "  single_pass_entropies.append(single_pass_entropy)\n",
        "  mutual_infos.append(mutual_info)\n",
        "print('Predictive entropy:', np.mean(predictive_entropies), np.std(predictive_entropies))\n",
        "print('Single pass entropy:', np.mean(single_pass_entropies), np.std(single_pass_entropies))\n",
        "print('Mutual info:', np.mean(mutual_infos), np.std(mutual_infos))"
      ],
      "metadata": {
        "colab": {
          "base_uri": "https://localhost:8080/"
        },
        "id": "sJI6SFaviiTa",
        "outputId": "c4bd5550-9024-4278-d324-1d0f38ab06a9"
      },
      "execution_count": 40,
      "outputs": [
        {
          "output_type": "stream",
          "name": "stdout",
          "text": [
            "Predictive entropy: 0.703704446267382 0.31475620205990334\n",
            "Single pass entropy: 0.5694462 0.27059555\n",
            "Mutual info: 0.13425824296792582 0.07080005245917964\n"
          ]
        }
      ]
    },
    {
      "cell_type": "code",
      "source": [
        "sns.boxplot(predictive_entropies)\n",
        "plt.show()"
      ],
      "metadata": {
        "colab": {
          "base_uri": "https://localhost:8080/",
          "height": 321
        },
        "id": "OkunQawZik9a",
        "outputId": "992eca32-52d2-4b0c-f4c1-3f64c410d563"
      },
      "execution_count": 41,
      "outputs": [
        {
          "output_type": "stream",
          "name": "stderr",
          "text": [
            "/usr/local/lib/python3.7/dist-packages/seaborn/_decorators.py:43: FutureWarning: Pass the following variable as a keyword arg: x. From version 0.12, the only valid positional argument will be `data`, and passing other arguments without an explicit keyword will result in an error or misinterpretation.\n",
            "  FutureWarning\n"
          ]
        },
        {
          "output_type": "display_data",
          "data": {
            "text/plain": [
              "<Figure size 432x288 with 1 Axes>"
            ],
            "image/png": "[encoded data removed]"
          },
          "metadata": {
            "needs_background": "light"
          }
        }
      ]
    },
    {
      "cell_type": "code",
      "source": [
        "sns.boxplot(single_pass_entropies)\n",
        "plt.show()"
      ],
      "metadata": {
        "colab": {
          "base_uri": "https://localhost:8080/",
          "height": 321
        },
        "id": "_6YuzGnGinlC",
        "outputId": "c4377442-ea4f-4668-f957-74046224f410"
      },
      "execution_count": 28,
      "outputs": [
        {
          "output_type": "stream",
          "name": "stderr",
          "text": [
            "/usr/local/lib/python3.7/dist-packages/seaborn/_decorators.py:43: FutureWarning: Pass the following variable as a keyword arg: x. From version 0.12, the only valid positional argument will be `data`, and passing other arguments without an explicit keyword will result in an error or misinterpretation.\n",
            "  FutureWarning\n"
          ]
        },
        {
          "output_type": "display_data",
          "data": {
            "text/plain": [
              "<Figure size 432x288 with 1 Axes>"
            ],
            "image/png": "[encoded data removed]"
          },
          "metadata": {
            "needs_background": "light"
          }
        }
      ]
    },
    {
      "cell_type": "code",
      "source": [
        "sns.boxplot(mutual_infos)\n",
        "plt.show()"
      ],
      "metadata": {
        "colab": {
          "base_uri": "https://localhost:8080/",
          "height": 321
        },
        "id": "TLuArzeOip-A",
        "outputId": "e7049953-2213-43a5-9aa1-0ddd224c5a89"
      },
      "execution_count": 29,
      "outputs": [
        {
          "output_type": "stream",
          "name": "stderr",
          "text": [
            "/usr/local/lib/python3.7/dist-packages/seaborn/_decorators.py:43: FutureWarning: Pass the following variable as a keyword arg: x. From version 0.12, the only valid positional argument will be `data`, and passing other arguments without an explicit keyword will result in an error or misinterpretation.\n",
            "  FutureWarning\n"
          ]
        },
        {
          "output_type": "display_data",
          "data": {
            "text/plain": [
              "<Figure size 432x288 with 1 Axes>"
            ],
            "image/png": "[encoded data removed]"
          },
          "metadata": {
            "needs_background": "light"
          }
        }
      ]
    },
    {
      "cell_type": "code",
      "source": [],
      "metadata": {
        "id": "-17EiZKViscX"
      },
      "execution_count": null,
      "outputs": []
    }
  ]
}