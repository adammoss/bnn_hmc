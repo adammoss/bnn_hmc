{
  "nbformat": 4,
  "nbformat_minor": 0,
  "metadata": {
    "colab": {
      "name": "MLSST_VI_lenet_64.ipynb",
      "provenance": [],
      "authorship_tag": "ABX9TyPAYjMN35nSaTL/njl9hlFw",
      "include_colab_link": true
    },
    "kernelspec": {
      "name": "python3",
      "display_name": "Python 3"
    },
    "language_info": {
      "name": "python"
    },
    "accelerator": "GPU",
    "gpuClass": "standard"
  },
  "cells": [
    {
      "cell_type": "markdown",
      "metadata": {
        "id": "view-in-github",
        "colab_type": "text"
      },
      "source": [
        "<a href=\"https://colab.research.google.com/github/adammoss/bnn_hmc/blob/main/results/MLSST_VI_lenet_64.ipynb\" target=\"_parent\"><img src=\"https://colab.research.google.com/assets/colab-badge.svg\" alt=\"Open In Colab\"/></a>"
      ]
    },
    {
      "cell_type": "code",
      "execution_count": 1,
      "metadata": {
        "id": "k3Vyn7k-CVKE"
      },
      "outputs": [],
      "source": [
        "import os\n",
        "import sys\n",
        "import shutil\n",
        "import subprocess\n",
        "import glob\n",
        "import matplotlib.pyplot as plt\n",
        "import seaborn as sns\n",
        "import numpy as np"
      ]
    },
    {
      "cell_type": "code",
      "source": [
        "!nvidia-smi"
      ],
      "metadata": {
        "colab": {
          "base_uri": "https://localhost:8080/"
        },
        "id": "dncr4Q84CZU0",
        "outputId": "24d93512-601e-47e7-c1ae-18d3e534ecfd"
      },
      "execution_count": 2,
      "outputs": [
        {
          "output_type": "stream",
          "name": "stdout",
          "text": [
            "Wed Sep  7 11:16:01 2022       \n",
            "+-----------------------------------------------------------------------------+\n",
            "| NVIDIA-SMI 460.32.03    Driver Version: 460.32.03    CUDA Version: 11.2     |\n",
            "|-------------------------------+----------------------+----------------------+\n",
            "| GPU  Name        Persistence-M| Bus-Id        Disp.A | Volatile Uncorr. ECC |\n",
            "| Fan  Temp  Perf  Pwr:Usage/Cap|         Memory-Usage | GPU-Util  Compute M. |\n",
            "|                               |                      |               MIG M. |\n",
            "|===============================+======================+======================|\n",
            "|   0  Tesla V100-SXM2...  Off  | 00000000:00:04.0 Off |                    0 |\n",
            "| N/A   35C    P0    23W / 300W |      0MiB / 16160MiB |      0%      Default |\n",
            "|                               |                      |                  N/A |\n",
            "+-------------------------------+----------------------+----------------------+\n",
            "                                                                               \n",
            "+-----------------------------------------------------------------------------+\n",
            "| Processes:                                                                  |\n",
            "|  GPU   GI   CI        PID   Type   Process name                  GPU Memory |\n",
            "|        ID   ID                                                   Usage      |\n",
            "|=============================================================================|\n",
            "|  No running processes found                                                 |\n",
            "+-----------------------------------------------------------------------------+\n"
          ]
        }
      ]
    },
    {
      "cell_type": "code",
      "source": [
        "!pip install astro-datasets --upgrade\n",
        "!pip install tensorflow_datasets --upgrade"
      ],
      "metadata": {
        "colab": {
          "base_uri": "https://localhost:8080/"
        },
        "id": "chkzfCNuCcXD",
        "outputId": "3449af36-344b-4383-a055-8f6573edfcfe"
      },
      "execution_count": 3,
      "outputs": [
        {
          "output_type": "stream",
          "name": "stdout",
          "text": [
            "Looking in indexes: https://pypi.org/simple, https://us-python.pkg.dev/colab-wheels/public/simple/\n",
            "Requirement already satisfied: astro-datasets in /usr/local/lib/python3.7/dist-packages (0.0.10)\n",
            "Requirement already satisfied: tensorflow in /usr/local/lib/python3.7/dist-packages (from astro-datasets) (2.8.2+zzzcolab20220719082949)\n",
            "Requirement already satisfied: numpy in /usr/local/lib/python3.7/dist-packages (from astro-datasets) (1.21.6)\n",
            "Requirement already satisfied: pandas in /usr/local/lib/python3.7/dist-packages (from astro-datasets) (1.3.5)\n",
            "Requirement already satisfied: tensorflow-datasets in /usr/local/lib/python3.7/dist-packages (from astro-datasets) (4.6.0)\n",
            "Requirement already satisfied: python-dateutil>=2.7.3 in /usr/local/lib/python3.7/dist-packages (from pandas->astro-datasets) (2.8.2)\n",
            "Requirement already satisfied: pytz>=2017.3 in /usr/local/lib/python3.7/dist-packages (from pandas->astro-datasets) (2022.2.1)\n",
            "Requirement already satisfied: six>=1.5 in /usr/local/lib/python3.7/dist-packages (from python-dateutil>=2.7.3->pandas->astro-datasets) (1.15.0)\n",
            "Requirement already satisfied: absl-py>=0.4.0 in /usr/local/lib/python3.7/dist-packages (from tensorflow->astro-datasets) (1.2.0)\n",
            "Requirement already satisfied: termcolor>=1.1.0 in /usr/local/lib/python3.7/dist-packages (from tensorflow->astro-datasets) (1.1.0)\n",
            "Requirement already satisfied: tensorflow-io-gcs-filesystem>=0.23.1 in /usr/local/lib/python3.7/dist-packages (from tensorflow->astro-datasets) (0.26.0)\n",
            "Requirement already satisfied: h5py>=2.9.0 in /usr/local/lib/python3.7/dist-packages (from tensorflow->astro-datasets) (3.1.0)\n",
            "Requirement already satisfied: astunparse>=1.6.0 in /usr/local/lib/python3.7/dist-packages (from tensorflow->astro-datasets) (1.6.3)\n",
            "Requirement already satisfied: gast>=0.2.1 in /usr/local/lib/python3.7/dist-packages (from tensorflow->astro-datasets) (0.5.3)\n",
            "Requirement already satisfied: setuptools in /usr/local/lib/python3.7/dist-packages (from tensorflow->astro-datasets) (57.4.0)\n",
            "Requirement already satisfied: libclang>=9.0.1 in /usr/local/lib/python3.7/dist-packages (from tensorflow->astro-datasets) (14.0.6)\n",
            "Requirement already satisfied: wrapt>=1.11.0 in /usr/local/lib/python3.7/dist-packages (from tensorflow->astro-datasets) (1.14.1)\n",
            "Requirement already satisfied: grpcio<2.0,>=1.24.3 in /usr/local/lib/python3.7/dist-packages (from tensorflow->astro-datasets) (1.47.0)\n",
            "Requirement already satisfied: keras<2.9,>=2.8.0rc0 in /usr/local/lib/python3.7/dist-packages (from tensorflow->astro-datasets) (2.8.0)\n",
            "Requirement already satisfied: google-pasta>=0.1.1 in /usr/local/lib/python3.7/dist-packages (from tensorflow->astro-datasets) (0.2.0)\n",
            "Requirement already satisfied: protobuf<3.20,>=3.9.2 in /usr/local/lib/python3.7/dist-packages (from tensorflow->astro-datasets) (3.17.3)\n",
            "Requirement already satisfied: keras-preprocessing>=1.1.1 in /usr/local/lib/python3.7/dist-packages (from tensorflow->astro-datasets) (1.1.2)\n",
            "Requirement already satisfied: flatbuffers>=1.12 in /usr/local/lib/python3.7/dist-packages (from tensorflow->astro-datasets) (2.0.7)\n",
            "Requirement already satisfied: tensorboard<2.9,>=2.8 in /usr/local/lib/python3.7/dist-packages (from tensorflow->astro-datasets) (2.8.0)\n",
            "Requirement already satisfied: tensorflow-estimator<2.9,>=2.8 in /usr/local/lib/python3.7/dist-packages (from tensorflow->astro-datasets) (2.8.0)\n",
            "Requirement already satisfied: opt-einsum>=2.3.2 in /usr/local/lib/python3.7/dist-packages (from tensorflow->astro-datasets) (3.3.0)\n",
            "Requirement already satisfied: typing-extensions>=3.6.6 in /usr/local/lib/python3.7/dist-packages (from tensorflow->astro-datasets) (4.1.1)\n",
            "Requirement already satisfied: wheel<1.0,>=0.23.0 in /usr/local/lib/python3.7/dist-packages (from astunparse>=1.6.0->tensorflow->astro-datasets) (0.37.1)\n",
            "Requirement already satisfied: cached-property in /usr/local/lib/python3.7/dist-packages (from h5py>=2.9.0->tensorflow->astro-datasets) (1.5.2)\n",
            "Requirement already satisfied: tensorboard-data-server<0.7.0,>=0.6.0 in /usr/local/lib/python3.7/dist-packages (from tensorboard<2.9,>=2.8->tensorflow->astro-datasets) (0.6.1)\n",
            "Requirement already satisfied: werkzeug>=0.11.15 in /usr/local/lib/python3.7/dist-packages (from tensorboard<2.9,>=2.8->tensorflow->astro-datasets) (1.0.1)\n",
            "Requirement already satisfied: google-auth<3,>=1.6.3 in /usr/local/lib/python3.7/dist-packages (from tensorboard<2.9,>=2.8->tensorflow->astro-datasets) (1.35.0)\n",
            "Requirement already satisfied: google-auth-oauthlib<0.5,>=0.4.1 in /usr/local/lib/python3.7/dist-packages (from tensorboard<2.9,>=2.8->tensorflow->astro-datasets) (0.4.6)\n",
            "Requirement already satisfied: markdown>=2.6.8 in /usr/local/lib/python3.7/dist-packages (from tensorboard<2.9,>=2.8->tensorflow->astro-datasets) (3.4.1)\n",
            "Requirement already satisfied: requests<3,>=2.21.0 in /usr/local/lib/python3.7/dist-packages (from tensorboard<2.9,>=2.8->tensorflow->astro-datasets) (2.23.0)\n",
            "Requirement already satisfied: tensorboard-plugin-wit>=1.6.0 in /usr/local/lib/python3.7/dist-packages (from tensorboard<2.9,>=2.8->tensorflow->astro-datasets) (1.8.1)\n",
            "Requirement already satisfied: cachetools<5.0,>=2.0.0 in /usr/local/lib/python3.7/dist-packages (from google-auth<3,>=1.6.3->tensorboard<2.9,>=2.8->tensorflow->astro-datasets) (4.2.4)\n",
            "Requirement already satisfied: pyasn1-modules>=0.2.1 in /usr/local/lib/python3.7/dist-packages (from google-auth<3,>=1.6.3->tensorboard<2.9,>=2.8->tensorflow->astro-datasets) (0.2.8)\n",
            "Requirement already satisfied: rsa<5,>=3.1.4 in /usr/local/lib/python3.7/dist-packages (from google-auth<3,>=1.6.3->tensorboard<2.9,>=2.8->tensorflow->astro-datasets) (4.9)\n",
            "Requirement already satisfied: requests-oauthlib>=0.7.0 in /usr/local/lib/python3.7/dist-packages (from google-auth-oauthlib<0.5,>=0.4.1->tensorboard<2.9,>=2.8->tensorflow->astro-datasets) (1.3.1)\n",
            "Requirement already satisfied: importlib-metadata>=4.4 in /usr/local/lib/python3.7/dist-packages (from markdown>=2.6.8->tensorboard<2.9,>=2.8->tensorflow->astro-datasets) (4.12.0)\n",
            "Requirement already satisfied: zipp>=0.5 in /usr/local/lib/python3.7/dist-packages (from importlib-metadata>=4.4->markdown>=2.6.8->tensorboard<2.9,>=2.8->tensorflow->astro-datasets) (3.8.1)\n",
            "Requirement already satisfied: pyasn1<0.5.0,>=0.4.6 in /usr/local/lib/python3.7/dist-packages (from pyasn1-modules>=0.2.1->google-auth<3,>=1.6.3->tensorboard<2.9,>=2.8->tensorflow->astro-datasets) (0.4.8)\n",
            "Requirement already satisfied: urllib3!=1.25.0,!=1.25.1,<1.26,>=1.21.1 in /usr/local/lib/python3.7/dist-packages (from requests<3,>=2.21.0->tensorboard<2.9,>=2.8->tensorflow->astro-datasets) (1.24.3)\n",
            "Requirement already satisfied: chardet<4,>=3.0.2 in /usr/local/lib/python3.7/dist-packages (from requests<3,>=2.21.0->tensorboard<2.9,>=2.8->tensorflow->astro-datasets) (3.0.4)\n",
            "Requirement already satisfied: idna<3,>=2.5 in /usr/local/lib/python3.7/dist-packages (from requests<3,>=2.21.0->tensorboard<2.9,>=2.8->tensorflow->astro-datasets) (2.10)\n",
            "Requirement already satisfied: certifi>=2017.4.17 in /usr/local/lib/python3.7/dist-packages (from requests<3,>=2.21.0->tensorboard<2.9,>=2.8->tensorflow->astro-datasets) (2022.6.15)\n",
            "Requirement already satisfied: oauthlib>=3.0.0 in /usr/local/lib/python3.7/dist-packages (from requests-oauthlib>=0.7.0->google-auth-oauthlib<0.5,>=0.4.1->tensorboard<2.9,>=2.8->tensorflow->astro-datasets) (3.2.0)\n",
            "Requirement already satisfied: importlib-resources in /usr/local/lib/python3.7/dist-packages (from tensorflow-datasets->astro-datasets) (5.9.0)\n",
            "Requirement already satisfied: tqdm in /usr/local/lib/python3.7/dist-packages (from tensorflow-datasets->astro-datasets) (4.64.0)\n",
            "Requirement already satisfied: dill in /usr/local/lib/python3.7/dist-packages (from tensorflow-datasets->astro-datasets) (0.3.5.1)\n",
            "Requirement already satisfied: promise in /usr/local/lib/python3.7/dist-packages (from tensorflow-datasets->astro-datasets) (2.3)\n",
            "Requirement already satisfied: etils[epath] in /usr/local/lib/python3.7/dist-packages (from tensorflow-datasets->astro-datasets) (0.7.1)\n",
            "Requirement already satisfied: toml in /usr/local/lib/python3.7/dist-packages (from tensorflow-datasets->astro-datasets) (0.10.2)\n",
            "Requirement already satisfied: tensorflow-metadata in /usr/local/lib/python3.7/dist-packages (from tensorflow-datasets->astro-datasets) (1.10.0)\n",
            "Requirement already satisfied: googleapis-common-protos<2,>=1.52.0 in /usr/local/lib/python3.7/dist-packages (from tensorflow-metadata->tensorflow-datasets->astro-datasets) (1.56.4)\n",
            "Looking in indexes: https://pypi.org/simple, https://us-python.pkg.dev/colab-wheels/public/simple/\n",
            "Requirement already satisfied: tensorflow_datasets in /usr/local/lib/python3.7/dist-packages (4.6.0)\n",
            "Requirement already satisfied: absl-py in /usr/local/lib/python3.7/dist-packages (from tensorflow_datasets) (1.2.0)\n",
            "Requirement already satisfied: six in /usr/local/lib/python3.7/dist-packages (from tensorflow_datasets) (1.15.0)\n",
            "Requirement already satisfied: typing-extensions in /usr/local/lib/python3.7/dist-packages (from tensorflow_datasets) (4.1.1)\n",
            "Requirement already satisfied: etils[epath] in /usr/local/lib/python3.7/dist-packages (from tensorflow_datasets) (0.7.1)\n",
            "Requirement already satisfied: promise in /usr/local/lib/python3.7/dist-packages (from tensorflow_datasets) (2.3)\n",
            "Requirement already satisfied: dill in /usr/local/lib/python3.7/dist-packages (from tensorflow_datasets) (0.3.5.1)\n",
            "Requirement already satisfied: protobuf>=3.12.2 in /usr/local/lib/python3.7/dist-packages (from tensorflow_datasets) (3.17.3)\n",
            "Requirement already satisfied: termcolor in /usr/local/lib/python3.7/dist-packages (from tensorflow_datasets) (1.1.0)\n",
            "Requirement already satisfied: importlib-resources in /usr/local/lib/python3.7/dist-packages (from tensorflow_datasets) (5.9.0)\n",
            "Requirement already satisfied: requests>=2.19.0 in /usr/local/lib/python3.7/dist-packages (from tensorflow_datasets) (2.23.0)\n",
            "Requirement already satisfied: toml in /usr/local/lib/python3.7/dist-packages (from tensorflow_datasets) (0.10.2)\n",
            "Requirement already satisfied: tqdm in /usr/local/lib/python3.7/dist-packages (from tensorflow_datasets) (4.64.0)\n",
            "Requirement already satisfied: tensorflow-metadata in /usr/local/lib/python3.7/dist-packages (from tensorflow_datasets) (1.10.0)\n",
            "Requirement already satisfied: numpy in /usr/local/lib/python3.7/dist-packages (from tensorflow_datasets) (1.21.6)\n",
            "Requirement already satisfied: urllib3!=1.25.0,!=1.25.1,<1.26,>=1.21.1 in /usr/local/lib/python3.7/dist-packages (from requests>=2.19.0->tensorflow_datasets) (1.24.3)\n",
            "Requirement already satisfied: idna<3,>=2.5 in /usr/local/lib/python3.7/dist-packages (from requests>=2.19.0->tensorflow_datasets) (2.10)\n",
            "Requirement already satisfied: certifi>=2017.4.17 in /usr/local/lib/python3.7/dist-packages (from requests>=2.19.0->tensorflow_datasets) (2022.6.15)\n",
            "Requirement already satisfied: chardet<4,>=3.0.2 in /usr/local/lib/python3.7/dist-packages (from requests>=2.19.0->tensorflow_datasets) (3.0.4)\n",
            "Requirement already satisfied: zipp in /usr/local/lib/python3.7/dist-packages (from etils[epath]->tensorflow_datasets) (3.8.1)\n",
            "Requirement already satisfied: googleapis-common-protos<2,>=1.52.0 in /usr/local/lib/python3.7/dist-packages (from tensorflow-metadata->tensorflow_datasets) (1.56.4)\n"
          ]
        }
      ]
    },
    {
      "cell_type": "code",
      "source": [
        "shutil.rmtree('bnn_hmc', ignore_errors=True)"
      ],
      "metadata": {
        "id": "NQFJTLoKCebi"
      },
      "execution_count": 4,
      "outputs": []
    },
    {
      "cell_type": "code",
      "source": [
        "!git clone https://github.com/adammoss/bnn_hmc"
      ],
      "metadata": {
        "colab": {
          "base_uri": "https://localhost:8080/"
        },
        "id": "XPfEAVvcCg1O",
        "outputId": "3579b3b3-9643-4a80-83bb-2a2a4e1e160b"
      },
      "execution_count": 5,
      "outputs": [
        {
          "output_type": "stream",
          "name": "stdout",
          "text": [
            "Cloning into 'bnn_hmc'...\n",
            "remote: Enumerating objects: 640, done.\u001b[K\n",
            "remote: Counting objects: 100% (109/109), done.\u001b[K\n",
            "remote: Compressing objects: 100% (98/98), done.\u001b[K\n",
            "remote: Total 640 (delta 71), reused 26 (delta 11), pack-reused 531\u001b[K\n",
            "Receiving objects: 100% (640/640), 1.21 MiB | 18.78 MiB/s, done.\n",
            "Resolving deltas: 100% (452/452), done.\n"
          ]
        }
      ]
    },
    {
      "cell_type": "code",
      "source": [
        "# https://storage.googleapis.com/jax-releases/jax_cuda_releases.html\n",
        "!pip install --upgrade https://storage.googleapis.com/jax-releases/cuda111/jaxlib-0.1.65+cuda111-cp37-none-manylinux2010_x86_64.whl\n",
        "!pip install jax==0.2.12\n",
        "!pip install dm-haiku==0.0.5.dev0 optax==0.0.6 chex==0.0.6"
      ],
      "metadata": {
        "colab": {
          "base_uri": "https://localhost:8080/"
        },
        "id": "uQdyQekACiXp",
        "outputId": "9912f508-2ed3-48f2-fea0-573c818538b3"
      },
      "execution_count": 6,
      "outputs": [
        {
          "output_type": "stream",
          "name": "stdout",
          "text": [
            "Looking in indexes: https://pypi.org/simple, https://us-python.pkg.dev/colab-wheels/public/simple/\n",
            "Collecting jaxlib==0.1.65+cuda111\n",
            "  Using cached https://storage.googleapis.com/jax-releases/cuda111/jaxlib-0.1.65+cuda111-cp37-none-manylinux2010_x86_64.whl (189.4 MB)\n",
            "Requirement already satisfied: flatbuffers in /usr/local/lib/python3.7/dist-packages (from jaxlib==0.1.65+cuda111) (2.0.7)\n",
            "Requirement already satisfied: scipy in /usr/local/lib/python3.7/dist-packages (from jaxlib==0.1.65+cuda111) (1.7.3)\n",
            "Requirement already satisfied: numpy>=1.16 in /usr/local/lib/python3.7/dist-packages (from jaxlib==0.1.65+cuda111) (1.21.6)\n",
            "Requirement already satisfied: absl-py in /usr/local/lib/python3.7/dist-packages (from jaxlib==0.1.65+cuda111) (1.2.0)\n",
            "Looking in indexes: https://pypi.org/simple, https://us-python.pkg.dev/colab-wheels/public/simple/\n",
            "Requirement already satisfied: jax==0.2.12 in /usr/local/lib/python3.7/dist-packages (0.2.12)\n",
            "Requirement already satisfied: absl-py in /usr/local/lib/python3.7/dist-packages (from jax==0.2.12) (1.2.0)\n",
            "Requirement already satisfied: opt-einsum in /usr/local/lib/python3.7/dist-packages (from jax==0.2.12) (3.3.0)\n",
            "Requirement already satisfied: numpy>=1.12 in /usr/local/lib/python3.7/dist-packages (from jax==0.2.12) (1.21.6)\n",
            "Looking in indexes: https://pypi.org/simple, https://us-python.pkg.dev/colab-wheels/public/simple/\n",
            "Requirement already satisfied: dm-haiku==0.0.5.dev0 in /usr/local/lib/python3.7/dist-packages (0.0.5.dev0)\n",
            "Requirement already satisfied: optax==0.0.6 in /usr/local/lib/python3.7/dist-packages (0.0.6)\n",
            "Requirement already satisfied: chex==0.0.6 in /usr/local/lib/python3.7/dist-packages (0.0.6)\n",
            "Requirement already satisfied: tabulate>=0.8.9 in /usr/local/lib/python3.7/dist-packages (from dm-haiku==0.0.5.dev0) (0.8.10)\n",
            "Requirement already satisfied: typing-extensions in /usr/local/lib/python3.7/dist-packages (from dm-haiku==0.0.5.dev0) (4.1.1)\n",
            "Requirement already satisfied: numpy>=1.18.0 in /usr/local/lib/python3.7/dist-packages (from dm-haiku==0.0.5.dev0) (1.21.6)\n",
            "Requirement already satisfied: absl-py>=0.7.1 in /usr/local/lib/python3.7/dist-packages (from dm-haiku==0.0.5.dev0) (1.2.0)\n",
            "Requirement already satisfied: jaxlib>=0.1.37 in /usr/local/lib/python3.7/dist-packages (from optax==0.0.6) (0.1.65+cuda111)\n",
            "Requirement already satisfied: jax>=0.1.55 in /usr/local/lib/python3.7/dist-packages (from optax==0.0.6) (0.2.12)\n",
            "Requirement already satisfied: toolz>=0.9.0 in /usr/local/lib/python3.7/dist-packages (from chex==0.0.6) (0.12.0)\n",
            "Requirement already satisfied: dm-tree>=0.1.5 in /usr/local/lib/python3.7/dist-packages (from chex==0.0.6) (0.1.7)\n",
            "Requirement already satisfied: opt-einsum in /usr/local/lib/python3.7/dist-packages (from jax>=0.1.55->optax==0.0.6) (3.3.0)\n",
            "Requirement already satisfied: scipy in /usr/local/lib/python3.7/dist-packages (from jaxlib>=0.1.37->optax==0.0.6) (1.7.3)\n",
            "Requirement already satisfied: flatbuffers in /usr/local/lib/python3.7/dist-packages (from jaxlib>=0.1.37->optax==0.0.6) (2.0.7)\n"
          ]
        }
      ]
    },
    {
      "cell_type": "code",
      "source": [
        "for i, root in enumerate(glob.glob('/content/runs/*/')):\n",
        "  shutil.rmtree(root, ignore_errors=True)"
      ],
      "metadata": {
        "id": "0HRoaN1PCkxD"
      },
      "execution_count": 7,
      "outputs": []
    },
    {
      "cell_type": "code",
      "source": [
        "!python3 bnn_hmc/scripts/run_vi.py --seed=1 --weight_decay=5. --dir=runs/vi/mlsst/ \\\n",
        "  --dataset_name=mlsst/Y10 --model_name=lenet \\\n",
        "  --init_step_size=1e-4 --num_epochs=200 --eval_freq=5 --batch_size=100 --patience 10\\\n",
        "  --save_freq=300 --optimizer=Adam \\\n",
        "  --vi_sigma_init=0.01 --temperature=1. --vi_ensemble_size=20 --scaling=asinh --test_split=validation --image_size=64 --subset_train_to=20000"
      ],
      "metadata": {
        "colab": {
          "base_uri": "https://localhost:8080/"
        },
        "id": "3RYnqhllCvTQ",
        "outputId": "13255218-242f-4737-ca2e-5f6e88b57346"
      },
      "execution_count": 8,
      "outputs": [
        {
          "output_type": "stream",
          "name": "stdout",
          "text": [
            "JAX sees the following devices: [GpuDevice(id=0, process_index=0)]\n",
            "TF sees the following devices: [PhysicalDevice(name='/physical_device:CPU:0', device_type='CPU')]\n",
            "2022-09-07 11:16:37.822517: W tensorflow/core/framework/cpu_allocator_impl.cc:82] Allocation of 1154433024 exceeds 10% of free system memory.\n",
            "tcmalloc: large alloc 1154433024 bytes == 0x1caf0000 @  0x7f10e6f15b6b 0x7f10e6f35379 0x7f109a418fc7 0x7f108884f66f 0x7f10888ecd78 0x7f10940061d0 0x7f1094006763 0x7f10955ac1c2 0x7f1088a1126b 0x7f10956805c1 0x7f108e46a551 0x7f108e467213 0x7f108914b515 0x7f10e68f76db 0x7f10e6c3061f\n",
            "Starting from random initialization with provided seed\n",
            "/content/bnn_hmc/bnn_hmc/utils/script_utils.py:152: VisibleDeprecationWarning: Creating an ndarray from ragged nested sequences (which is a list-or-tuple of lists-or-tuples-or ndarrays with different lengths or shapes) is deprecated. If you meant to do this, you must specify 'dtype=object' when creating the ndarray.\n",
            "  predict_fn(net_apply, params, net_state, test_set))\n",
            "/content/bnn_hmc/bnn_hmc/utils/script_utils.py:154: VisibleDeprecationWarning: Creating an ndarray from ragged nested sequences (which is a list-or-tuple of lists-or-tuples-or ndarrays with different lengths or shapes) is deprecated. If you meant to do this, you must specify 'dtype=object' when creating the ndarray.\n",
            "  predict_fn(net_apply, params, net_state, train_set))\n",
            "bnn_hmc/scripts/run_vi.py:199: VisibleDeprecationWarning: Creating an ndarray from ragged nested sequences (which is a list-or-tuple of lists-or-tuples-or ndarrays with different lengths or shapes) is deprecated. If you meant to do this, you must specify 'dtype=object' when creating the ndarray.\n",
            "  vi_ensemble_predict_fn(net_apply, params, net_state, test_set))\n",
            "---  --------  ----------------  ---------------  ----------  -------------------  --------------  --------------  --------\n",
            "  i         t    train/accuracy    test/accuracy    test/nll    test/ens_accuracy    test/ens_nll    test/ens_ece        lr\n",
            "---  --------  ----------------  ---------------  ----------  -------------------  --------------  --------------  --------\n",
            "  0    6.4571            0.4929           0.4951      1.0413               0.5073          1.0116          0.0905    0.0001\n",
            "  1    0.6990            0.4984           0.5034      0.9865               0.5395          0.9789          0.1145    0.0001\n",
            "  2    0.5603            0.5143           0.5165      0.9635               0.5556          0.9715          0.1190    0.0001\n",
            "  3    0.5609            0.5115           0.5136      0.9421               0.5365          0.9401          0.0755    0.0001\n",
            "  4    0.5602            0.5585           0.5621      0.9453               0.5669          0.9551          0.1114    0.0001\n",
            "  5    0.5598            0.5591           0.5598      0.9199               0.5604          0.9191          0.0569    0.0001\n",
            "  6    0.5607            0.5600           0.5696      0.9166               0.5571          0.9134          0.0479    0.0001\n",
            "  7    0.5601            0.5583           0.5621      0.9085               0.5583          0.9098          0.0272    0.0001\n",
            "  8    0.5599            0.5648           0.5744      0.9064               0.5693          0.9067          0.0318    0.0001\n",
            "  9    0.5604            0.5697           0.5776      0.9040               0.5726          0.9018          0.0483    0.0001\n",
            " 10    0.5611            0.5694           0.5756      0.8947               0.5666          0.9023          0.0357    0.0001\n",
            " 11    0.5591            0.5703           0.5762      0.9057               0.5681          0.9026          0.0495    0.0001\n",
            " 12    0.5607            0.5738           0.5827      0.8947               0.5809          0.8915          0.0398    0.0001\n",
            " 13    0.5613            0.5771           0.5821      0.8911               0.5836          0.8878          0.0396    0.0001\n",
            " 14    0.5597            0.5756           0.5776      0.8934               0.5714          0.8939          0.0365    0.0001\n",
            " 15    0.5589            0.5855           0.5863      0.8839               0.5890          0.8820          0.0537    0.0001\n",
            " 16    0.5612            0.5870           0.5890      0.8928               0.5946          0.8837          0.0677    0.0001\n",
            " 17    0.5600            0.5967           0.5949      0.8839               0.5982          0.8753          0.0593    0.0001\n",
            " 18    0.5599            0.5998           0.6021      0.8666               0.5949          0.8737          0.0375    0.0001\n",
            " 19    0.5596            0.6024           0.5994      0.8664               0.6021          0.8634          0.0370    0.0001\n",
            " 20    0.5597            0.6048           0.6063      0.8604               0.6045          0.8617          0.0273    0.0001\n",
            " 21    0.5603            0.6038           0.5994      0.8659               0.6030          0.8620          0.0387    0.0001\n",
            " 22    0.5611            0.5797           0.5687      0.8894               0.5920          0.8702          0.0685    0.0001\n",
            " 23    0.5596            0.6132           0.6027      0.8636               0.6110          0.8527          0.0333    0.0001\n",
            " 24    0.5596            0.6113           0.6036      0.8569               0.6152          0.8506          0.0305    0.0001\n",
            " 25    0.5606            0.6178           0.6086      0.8489               0.6072          0.8464          0.0324    0.0001\n",
            " 26    0.5606            0.6198           0.6092      0.8503               0.6155          0.8447          0.0301    0.0001\n",
            " 27    0.5593            0.6252           0.6137      0.8522               0.6009          0.8493          0.0313    0.0001\n",
            " 28    0.5604            0.6231           0.6125      0.8536               0.6176          0.8470          0.0424    0.0001\n",
            " 29    0.5600            0.6231           0.6116      0.8510               0.6164          0.8434          0.0336    0.0001\n",
            " 30    0.5597            0.6306           0.6155      0.8461               0.6122          0.8458          0.0292    0.0001\n",
            " 31    0.5626            0.6222           0.6069      0.8448               0.6149          0.8418          0.0209    0.0001\n",
            " 32    0.5595            0.6324           0.6197      0.8475               0.6080          0.8525          0.0315    0.0001\n",
            " 33    0.5606            0.6284           0.6086      0.8510               0.6167          0.8381          0.0344    0.0001\n",
            " 34    0.5594            0.6360           0.6092      0.8498               0.6253          0.8409          0.0535    0.0001\n",
            " 35    0.5598            0.6384           0.6146      0.8379               0.6203          0.8336          0.0303    0.0001\n",
            " 36    0.5596            0.6354           0.6167      0.8464               0.6307          0.8322          0.0504    0.0001\n",
            " 37    0.5585            0.6425           0.6221      0.8318               0.6241          0.8274          0.0223    0.0001\n",
            " 38    0.5606            0.6477           0.6161      0.8391               0.6271          0.8337          0.0415    0.0001\n",
            " 39    0.5592            0.6481           0.6182      0.8309               0.6292          0.8290          0.0344    0.0001\n",
            "---  --------  ----------------  ---------------  ----------  -------------------  --------------  --------------  --------\n",
            "  i         t    train/accuracy    test/accuracy    test/nll    test/ens_accuracy    test/ens_nll    test/ens_ece        lr\n",
            "---  --------  ----------------  ---------------  ----------  -------------------  --------------  --------------  --------\n",
            " 40    0.5611            0.6414           0.6131      0.8340               0.6259          0.8276          0.0285    0.0001\n",
            " 41    0.5603            0.6673           0.6230      0.8275               0.6098          0.8356          0.0337    0.0001\n",
            " 42    0.5641            0.6605           0.6149      0.8306               0.6241          0.8246          0.0396    0.0001\n",
            " 43    0.5593            0.6453           0.6110      0.8331               0.6286          0.8245          0.0227    0.0001\n",
            " 44    0.5589            0.6646           0.6152      0.8284               0.6331          0.8188          0.0309    0.0001\n",
            " 45    0.5591            0.6584           0.6179      0.8256               0.6292          0.8200          0.0308    0.0001\n",
            " 46    0.5606            0.6750           0.6200      0.8192               0.6274          0.8166          0.0229    0.0001\n",
            " 47    0.5606            0.6567           0.6176      0.8293               0.6289          0.8173          0.0304    0.0001\n",
            " 48    0.5610            0.6963           0.6301      0.8145               0.6116          0.8265          0.0353    0.0001\n",
            " 49    0.5591            0.6749           0.6316      0.8183               0.6262          0.8203          0.0359    0.0001\n",
            " 50    0.5584            0.6630           0.6131      0.8342               0.6319          0.8177          0.0459    0.0001\n",
            " 51    0.5591            0.6846           0.6256      0.8195               0.6429          0.8084          0.0296    0.0001\n",
            " 52    0.5603            0.7021           0.6277      0.8167               0.6337          0.8116          0.0341    0.0001\n",
            " 53    0.5597            0.6679           0.6167      0.8283               0.6230          0.8252          0.0243    0.0001\n",
            " 54    0.5590            0.6833           0.6194      0.8223               0.6385          0.8069          0.0245    0.0001\n",
            " 55    0.5611            0.6643           0.6075      0.8368               0.6194          0.8266          0.0279    0.0001\n",
            " 56    0.5587            0.6706           0.6116      0.8360               0.6292          0.8081          0.0290    0.0001\n",
            " 57    0.5589            0.7056           0.6241      0.8151               0.6450          0.8042          0.0184    0.0001\n",
            " 58    0.5601            0.7180           0.6319      0.8060               0.6402          0.8032          0.0213    0.0001\n",
            " 59    0.5609            0.7074           0.6340      0.8130               0.6361          0.8081          0.0235    0.0001\n",
            " 60    0.5583            0.7256           0.6373      0.8026               0.6423          0.7974          0.0283    0.0001\n",
            " 61    0.5615            0.7396           0.6432      0.8074               0.6444          0.8036          0.0318    0.0001\n",
            " 62    0.5603            0.7202           0.6182      0.8247               0.6423          0.8070          0.0441    0.0001\n",
            " 63    0.5593            0.7262           0.6227      0.8174               0.6417          0.8057          0.0225    0.0001\n",
            " 64    0.5596            0.7279           0.6265      0.8152               0.6414          0.8000          0.0351    0.0001\n",
            " 65    0.5606            0.7392           0.6203      0.8360               0.6289          0.8338          0.0453    0.0001\n",
            " 66    0.5595            0.7432           0.6337      0.8053               0.6471          0.7937          0.0198    0.0001\n",
            " 67    0.5601            0.7359           0.6268      0.8114               0.6423          0.7971          0.0264    0.0001\n",
            " 68    0.5590            0.7464           0.6387      0.8022               0.6471          0.7913          0.0308    0.0001\n",
            " 69    0.5601            0.7528           0.6426      0.7998               0.6477          0.7873          0.0339    0.0001\n",
            " 70    0.5587            0.7699           0.6390      0.8053               0.6402          0.8139          0.0283    0.0001\n",
            " 71    0.5635            0.7705           0.6426      0.7906               0.6438          0.7928          0.0422    0.0001\n",
            " 72    0.5593            0.7742           0.6468      0.7854               0.6450          0.7998          0.0338    0.0001\n",
            " 73    0.5609            0.7771           0.6423      0.7996               0.6495          0.7990          0.0231    0.0001\n",
            " 74    0.5603            0.7791           0.6596      0.7816               0.6525          0.7919          0.0235    0.0001\n",
            " 75    0.5605            0.7628           0.6471      0.7946               0.6489          0.7896          0.0223    0.0001\n",
            " 76    0.5594            0.7797           0.6504      0.7866               0.6542          0.7897          0.0212    0.0001\n",
            " 77    0.5605            0.7797           0.6519      0.7870               0.6516          0.7884          0.0238    0.0001\n",
            " 78    0.5600            0.7508           0.6307      0.8293               0.6405          0.8141          0.0385    0.0001\n",
            " 79    0.5591            0.7868           0.6545      0.7869               0.6542          0.7885          0.0305    0.0001\n",
            "---  --------  ----------------  ---------------  ----------  -------------------  --------------  --------------  --------\n",
            "  i         t    train/accuracy    test/accuracy    test/nll    test/ens_accuracy    test/ens_nll    test/ens_ece        lr\n",
            "---  --------  ----------------  ---------------  ----------  -------------------  --------------  --------------  --------\n",
            " 80    0.5589            0.7846           0.6525      0.7952               0.6525          0.7841          0.0280    0.0001\n",
            " 81    0.5604            0.7800           0.6534      0.7975               0.6554          0.7881          0.0323    0.0001\n",
            " 82    0.5599            0.7937           0.6545      0.7894               0.6578          0.7890          0.0324    0.0001\n",
            " 83    0.5582            0.7953           0.6581      0.7828               0.6528          0.7815          0.0185    0.0001\n",
            " 84    0.5581            0.8031           0.6566      0.7828               0.6590          0.7867          0.0353    0.0001\n",
            " 85    0.5599            0.8036           0.6548      0.7862               0.6528          0.7820          0.0291    0.0001\n",
            " 86    0.5589            0.8127           0.6611      0.7810               0.6548          0.7868          0.0278    0.0001\n",
            " 87    0.5601            0.8008           0.6522      0.7931               0.6650          0.7815          0.0350    0.0001\n",
            " 88    0.5613            0.8058           0.6623      0.7828               0.6563          0.7811          0.0359    0.0001\n",
            " 89    0.5606            0.8055           0.6623      0.7794               0.6581          0.7738          0.0303    0.0001\n",
            " 90    0.5595            0.8131           0.6650      0.7866               0.6611          0.7782          0.0395    0.0001\n",
            " 91    0.5627            0.8087           0.6566      0.7913               0.6623          0.7769          0.0301    0.0001\n",
            " 92    0.5634            0.8038           0.6548      0.7985               0.6617          0.7791          0.0297    0.0001\n",
            " 93    0.5605            0.8249           0.6590      0.7847               0.6611          0.7845          0.0274    0.0001\n",
            " 94    0.5595            0.8158           0.6626      0.7858               0.6650          0.7728          0.0382    0.0001\n",
            " 95    0.5603            0.8196           0.6599      0.7874               0.6644          0.7728          0.0314    0.0001\n",
            " 96    0.5601            0.8131           0.6641      0.8011               0.6638          0.7785          0.0287    0.0001\n",
            " 97    0.5602            0.8289           0.6677      0.7805               0.6519          0.7910          0.0248    0.0001\n",
            " 98    0.5590            0.8291           0.6709      0.7769               0.6581          0.7749          0.0238    0.0001\n",
            " 99    0.5601            0.8247           0.6650      0.7825               0.6575          0.7748          0.0307    0.0000\n",
            "100    0.5614            0.8017           0.6575      0.8159               0.6569          0.7850          0.0297    0.0000\n",
            "101    0.5602            0.8227           0.6745      0.7844               0.6608          0.7787          0.0397    0.0000\n",
            "102    0.5622            0.8313           0.6644      0.7954               0.6605          0.7873          0.0337    0.0000\n",
            "103    0.5600            0.8280           0.6581      0.7969               0.6638          0.7733          0.0300    0.0000\n",
            "104    0.5615            0.8378           0.6721      0.7836               0.6668          0.7699          0.0358    0.0000\n",
            "105    0.5603            0.8382           0.6754      0.7784               0.6724          0.7690          0.0325    0.0000\n",
            "106    0.5592            0.8380           0.6745      0.7813               0.6689          0.7736          0.0278    0.0000\n",
            "107    0.5596            0.8464           0.6689      0.7820               0.6671          0.7741          0.0251    0.0000\n",
            "108    0.5587            0.8364           0.6709      0.7877               0.6626          0.7689          0.0296    0.0000\n",
            "109    0.5599            0.8351           0.6754      0.7877               0.6694          0.7785          0.0233    0.0000\n",
            "110    0.5596            0.8393           0.6736      0.7795               0.6647          0.7694          0.0269    0.0000\n",
            "111    0.5611            0.8522           0.6754      0.7707               0.6665          0.7708          0.0309    0.0000\n",
            "112    0.5604            0.8414           0.6715      0.7861               0.6689          0.7758          0.0292    0.0000\n",
            "113    0.5635            0.8387           0.6689      0.7920               0.6680          0.7719          0.0259    0.0000\n",
            "114    0.5598            0.8470           0.6790      0.7855               0.6778          0.7686          0.0278    0.0000\n",
            "115    0.5607            0.8490           0.6760      0.7806               0.6683          0.7681          0.0295    0.0000\n",
            "116    0.5581            0.8572           0.6778      0.7751               0.6793          0.7621          0.0368    0.0000\n",
            "117    0.5616            0.8444           0.6709      0.7869               0.6742          0.7719          0.0299    0.0000\n",
            "118    0.5648            0.8380           0.6697      0.7976               0.6709          0.7735          0.0365    0.0000\n",
            "119    0.5589            0.8552           0.6778      0.7771               0.6742          0.7636          0.0294    0.0000\n",
            "---  --------  ----------------  ---------------  ----------  -------------------  --------------  --------------  --------\n",
            "  i         t    train/accuracy    test/accuracy    test/nll    test/ens_accuracy    test/ens_nll    test/ens_ece        lr\n",
            "---  --------  ----------------  ---------------  ----------  -------------------  --------------  --------------  --------\n",
            "120    0.5610            0.8492           0.6689      0.7924               0.6736          0.7641          0.0264    0.0000\n",
            "121    0.5602            0.8563           0.6748      0.7844               0.6775          0.7630          0.0236    0.0000\n",
            "122    0.5605            0.8630           0.6757      0.7804               0.6736          0.7688          0.0235    0.0000\n",
            "123    0.5609            0.8479           0.6697      0.7961               0.6760          0.7689          0.0310    0.0000\n",
            "124    0.5595            0.8491           0.6674      0.7920               0.6793          0.7583          0.0272    0.0000\n",
            "125    0.5597            0.8609           0.6832      0.7784               0.6727          0.7655          0.0343    0.0000\n",
            "126    0.5599            0.8527           0.6736      0.7903               0.6769          0.7649          0.0283    0.0000\n",
            "127    0.5595            0.8560           0.6733      0.7890               0.6763          0.7646          0.0314    0.0000\n",
            "128    0.5597            0.8544           0.6686      0.7900               0.6694          0.7642          0.0327    0.0000\n",
            "129    0.5595            0.8654           0.6742      0.7773               0.6769          0.7664          0.0267    0.0000\n",
            "130    0.5613            0.8650           0.6674      0.7853               0.6715          0.7657          0.0326    0.0000\n",
            "131    0.5599            0.8540           0.6766      0.7954               0.6766          0.7641          0.0369    0.0000\n",
            "132    0.5593            0.8738           0.6838      0.7782               0.6799          0.7607          0.0301    0.0000\n",
            "133    0.5606            0.8695           0.6778      0.7828               0.6814          0.7563          0.0277    0.0000\n",
            "134    0.5595            0.8731           0.6796      0.7771               0.6832          0.7594          0.0251    0.0000\n",
            "135    0.5593            0.8735           0.6793      0.7833               0.6823          0.7630          0.0292    0.0000\n",
            "136    0.5613            0.8695           0.6745      0.7877               0.6766          0.7646          0.0402    0.0000\n",
            "137    0.5621            0.8752           0.6784      0.7886               0.6805          0.7630          0.0411    0.0000\n",
            "138    0.5600            0.8762           0.6832      0.7766               0.6814          0.7553          0.0256    0.0000\n",
            "139    0.5595            0.8778           0.6781      0.7751               0.6787          0.7585          0.0340    0.0000\n",
            "140    0.5593            0.8782           0.6814      0.7745               0.6835          0.7581          0.0335    0.0000\n",
            "141    0.5607            0.8769           0.6793      0.7846               0.6757          0.7614          0.0368    0.0000\n",
            "142    0.5586            0.8726           0.6820      0.7870               0.6799          0.7641          0.0300    0.0000\n",
            "143    0.5601            0.8824           0.6849      0.7735               0.6814          0.7544          0.0369    0.0000\n",
            "144    0.5593            0.8775           0.6820      0.7828               0.6802          0.7562          0.0279    0.0000\n",
            "145    0.5623            0.8757           0.6823      0.7846               0.6858          0.7589          0.0345    0.0000\n",
            "146    0.5576            0.8756           0.6787      0.7881               0.6808          0.7669          0.0352    0.0000\n",
            "147    0.5597            0.8786           0.6832      0.7804               0.6829          0.7581          0.0365    0.0000\n",
            "148    0.5598            0.8845           0.6808      0.7781               0.6781          0.7705          0.0319    0.0000\n",
            "149    0.5585            0.8781           0.6796      0.7860               0.6796          0.7615          0.0301    0.0000\n",
            "150    0.5606            0.8784           0.6757      0.7899               0.6846          0.7554          0.0329    0.0000\n",
            "151    0.5577            0.8815           0.6802      0.7814               0.6805          0.7599          0.0211    0.0000\n",
            "152    0.5602            0.8826           0.6835      0.7806               0.6844          0.7614          0.0282    0.0000\n",
            "153    0.5587            0.8840           0.6805      0.7752               0.6826          0.7588          0.0397    0.0000\n"
          ]
        }
      ]
    },
    {
      "cell_type": "code",
      "source": [
        "!python3 bnn_hmc/scripts/run_vi.py --seed=1 --weight_decay=5. --dir=runs/vi/mlsst/ \\\n",
        "  --dataset_name=mlsst/Y10 --model_name=lenet \\\n",
        "  --init_step_size=1e-4 --num_epochs=200 --eval_freq=5 --batch_size=100 --patience 10\\\n",
        "  --save_freq=300 --optimizer=Adam \\\n",
        "  --vi_sigma_init=0.01 --temperature=1. --vi_ensemble_size=20 --scaling=asinh --eval_split=test --image_size=64 "
      ],
      "metadata": {
        "colab": {
          "base_uri": "https://localhost:8080/"
        },
        "id": "4dfSFarUiJV_",
        "outputId": "44113598-639d-43bd-8592-580187a6af75"
      },
      "execution_count": 9,
      "outputs": [
        {
          "output_type": "stream",
          "name": "stdout",
          "text": [
            "JAX sees the following devices: [GpuDevice(id=0, process_index=0)]\n",
            "TF sees the following devices: [PhysicalDevice(name='/physical_device:CPU:0', device_type='CPU')]\n",
            "2022-09-07 11:26:04.010145: W tensorflow/core/framework/cpu_allocator_impl.cc:82] Allocation of 1154433024 exceeds 10% of free system memory.\n",
            "tcmalloc: large alloc 1154433024 bytes == 0x19a34000 @  0x7faca86c4b6b 0x7faca86e4379 0x7fac5bbc7fc7 0x7fac49ffe66f 0x7fac4a09bd78 0x7fac557b51d0 0x7fac557b5763 0x7fac56d5b1c2 0x7fac4a1c026b 0x7fac56e2f5c1 0x7fac4fc19551 0x7fac4fc16213 0x7fac4a8fa515 0x7faca80a66db 0x7faca83df61f\n",
            "Continuing the run from the last saved checkpoint\n",
            "bnn_hmc/scripts/run_vi.py:246: VisibleDeprecationWarning: Creating an ndarray from ragged nested sequences (which is a list-or-tuple of lists-or-tuples-or ndarrays with different lengths or shapes) is deprecated. If you meant to do this, you must specify 'dtype=object' when creating the ndarray.\n",
            "  vi_ensemble_predict_fn(net_apply, params, net_state, test_set))\n",
            "{'accuracy': DeviceArray(0.6753537, dtype=float32), 'nll': 0.7724887, 'ece': 0.02179794856530912}\n"
          ]
        }
      ]
    },
    {
      "cell_type": "code",
      "source": [
        "accuracies = []\n",
        "nlls = []\n",
        "eces = []\n",
        "softmax = []\n",
        "for i, root in enumerate(glob.glob('/content/runs/vi/mlsst/*/')):\n",
        "  data = np.load(root + '/test_set.npy')  \n",
        "  softmax = np.squeeze(np.load(root + '/predictions.npy'))\n",
        "  metrics = np.load(root + '/metrics.npy', allow_pickle=True)\n",
        "  accuracies.append(metrics.item()['accuracy'])\n",
        "  nlls.append(metrics.item()['nll'])\n",
        "  eces.append(metrics.item()['ece'])\n",
        "  print(softmax.shape)\n",
        "print('Accuracy', np.mean(accuracies), np.std(accuracies))\n",
        "print('NLL', np.mean(nlls), np.std(nlls))\n",
        "print('ECE', np.mean(eces), np.std(eces))"
      ],
      "metadata": {
        "colab": {
          "base_uri": "https://localhost:8080/"
        },
        "id": "KOfO64SVC-6B",
        "outputId": "9d9092b8-2df2-4242-80bc-1470ddda0b62"
      },
      "execution_count": 10,
      "outputs": [
        {
          "output_type": "stream",
          "name": "stdout",
          "text": [
            "(20, 6715, 3)\n",
            "Accuracy 0.6753537 0.0\n",
            "NLL 0.7724887 0.0\n",
            "ECE 0.02179794856530912 0.0\n"
          ]
        }
      ]
    },
    {
      "cell_type": "code",
      "source": [
        "print('Ensemble accuracy', np.sum(np.argmax(np.mean(softmax, axis=0), axis=-1) == data) / softmax.shape[1])"
      ],
      "metadata": {
        "id": "YT4adErnjbBI",
        "outputId": "1c2f9b78-acee-48e1-aeb8-9036668e5991",
        "colab": {
          "base_uri": "https://localhost:8080/"
        }
      },
      "execution_count": 11,
      "outputs": [
        {
          "output_type": "stream",
          "name": "stdout",
          "text": [
            "Ensemble accuracy 0.6753536857781087\n"
          ]
        }
      ]
    },
    {
      "cell_type": "code",
      "source": [
        "def uncertainty(softmax):\n",
        "  # Per example softmax with shape(num_examples, num_classes)\n",
        "  predictive_entropy = 0\n",
        "  single_pass_entropy = 0\n",
        "  for i in range(softmax.shape[1]):\n",
        "    # Sum over classes\n",
        "    predictive_entropy += -np.mean(softmax[:,i])*np.log(np.mean(softmax[:,i]))\n",
        "    single_pass_entropy += -softmax[:,i]*np.log(softmax[:,i])\n",
        "  single_pass_entropy = np.mean(single_pass_entropy)\n",
        "  mutual_info = predictive_entropy - single_pass_entropy\n",
        "  return predictive_entropy, single_pass_entropy, mutual_info"
      ],
      "metadata": {
        "id": "6_E5w4i8iecM"
      },
      "execution_count": 12,
      "outputs": []
    },
    {
      "cell_type": "code",
      "source": [
        "predictive_entropies = [] \n",
        "single_pass_entropies = []\n",
        "mutual_infos = []\n",
        "for i in range(softmax.shape[1]):\n",
        "  predictive_entropy, single_pass_entropy, mutual_info = uncertainty(softmax[:,i,:])\n",
        "  predictive_entropies.append(predictive_entropy)\n",
        "  single_pass_entropies.append(single_pass_entropy)\n",
        "  mutual_infos.append(mutual_info)\n",
        "print('Predictive entropy:', np.mean(predictive_entropies), np.std(predictive_entropies))\n",
        "print('Single pass entropy:', np.mean(single_pass_entropies), np.std(single_pass_entropies))\n",
        "print('Mutual info:', np.mean(mutual_infos), np.std(mutual_infos))"
      ],
      "metadata": {
        "colab": {
          "base_uri": "https://localhost:8080/"
        },
        "id": "sJI6SFaviiTa",
        "outputId": "13d48430-9f2e-4496-ddb5-e90691928236"
      },
      "execution_count": 13,
      "outputs": [
        {
          "output_type": "stream",
          "name": "stdout",
          "text": [
            "Predictive entropy: 0.7281161893021579 0.30995701250035695\n",
            "Single pass entropy: 0.5887428 0.27103764\n",
            "Mutual info: 0.13937338878631494 0.07284936076723794\n"
          ]
        }
      ]
    },
    {
      "cell_type": "code",
      "source": [
        "sns.boxplot(predictive_entropies)\n",
        "plt.show()"
      ],
      "metadata": {
        "colab": {
          "base_uri": "https://localhost:8080/",
          "height": 321
        },
        "id": "OkunQawZik9a",
        "outputId": "9d7c49bf-fe5c-41f3-f14e-9562f9db432a"
      },
      "execution_count": 14,
      "outputs": [
        {
          "output_type": "stream",
          "name": "stderr",
          "text": [
            "/usr/local/lib/python3.7/dist-packages/seaborn/_decorators.py:43: FutureWarning: Pass the following variable as a keyword arg: x. From version 0.12, the only valid positional argument will be `data`, and passing other arguments without an explicit keyword will result in an error or misinterpretation.\n",
            "  FutureWarning\n"
          ]
        },
        {
          "output_type": "display_data",
          "data": {
            "text/plain": [
              "<Figure size 432x288 with 1 Axes>"
            ],
            "image/png": "[encoded data removed]"
          },
          "metadata": {
            "needs_background": "light"
          }
        }
      ]
    },
    {
      "cell_type": "code",
      "source": [
        "sns.boxplot(single_pass_entropies)\n",
        "plt.show()"
      ],
      "metadata": {
        "colab": {
          "base_uri": "https://localhost:8080/",
          "height": 321
        },
        "id": "_6YuzGnGinlC",
        "outputId": "91ce1850-f77e-424b-94fc-f12e54cb7b73"
      },
      "execution_count": 15,
      "outputs": [
        {
          "output_type": "stream",
          "name": "stderr",
          "text": [
            "/usr/local/lib/python3.7/dist-packages/seaborn/_decorators.py:43: FutureWarning: Pass the following variable as a keyword arg: x. From version 0.12, the only valid positional argument will be `data`, and passing other arguments without an explicit keyword will result in an error or misinterpretation.\n",
            "  FutureWarning\n"
          ]
        },
        {
          "output_type": "display_data",
          "data": {
            "text/plain": [
              "<Figure size 432x288 with 1 Axes>"
            ],
            "image/png": "[encoded data removed]"
          },
          "metadata": {
            "needs_background": "light"
          }
        }
      ]
    },
    {
      "cell_type": "code",
      "source": [
        "sns.boxplot(mutual_infos)\n",
        "plt.show()"
      ],
      "metadata": {
        "colab": {
          "base_uri": "https://localhost:8080/",
          "height": 321
        },
        "id": "TLuArzeOip-A",
        "outputId": "f2e205de-6402-4835-80fd-1872a16f5703"
      },
      "execution_count": 16,
      "outputs": [
        {
          "output_type": "stream",
          "name": "stderr",
          "text": [
            "/usr/local/lib/python3.7/dist-packages/seaborn/_decorators.py:43: FutureWarning: Pass the following variable as a keyword arg: x. From version 0.12, the only valid positional argument will be `data`, and passing other arguments without an explicit keyword will result in an error or misinterpretation.\n",
            "  FutureWarning\n"
          ]
        },
        {
          "output_type": "display_data",
          "data": {
            "text/plain": [
              "<Figure size 432x288 with 1 Axes>"
            ],
            "image/png": "[encoded data removed]"
          },
          "metadata": {
            "needs_background": "light"
          }
        }
      ]
    },
    {
      "cell_type": "code",
      "source": [],
      "metadata": {
        "id": "-17EiZKViscX"
      },
      "execution_count": 16,
      "outputs": []
    }
  ]
}