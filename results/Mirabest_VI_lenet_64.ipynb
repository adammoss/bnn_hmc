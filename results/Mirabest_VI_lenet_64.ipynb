{
  "nbformat": 4,
  "nbformat_minor": 0,
  "metadata": {
    "colab": {
      "name": "Mirabest_VI_lenet_64.ipynb",
      "provenance": [],
      "collapsed_sections": [],
      "include_colab_link": true
    },
    "kernelspec": {
      "name": "python3",
      "display_name": "Python 3"
    },
    "language_info": {
      "name": "python"
    },
    "accelerator": "GPU",
    "gpuClass": "standard"
  },
  "cells": [
    {
      "cell_type": "markdown",
      "metadata": {
        "id": "view-in-github",
        "colab_type": "text"
      },
      "source": [
        "<a href=\"https://colab.research.google.com/github/adammoss/bnn_hmc/blob/main/results/Mirabest_VI_lenet_64.ipynb\" target=\"_parent\"><img src=\"https://colab.research.google.com/assets/colab-badge.svg\" alt=\"Open In Colab\"/></a>"
      ]
    },
    {
      "cell_type": "code",
      "source": [
        "import os\n",
        "import sys\n",
        "import shutil\n",
        "import glob\n",
        "import matplotlib.pyplot as plt\n",
        "import numpy as np\n",
        "import seaborn as sns"
      ],
      "metadata": {
        "id": "--RvnGTcWeVk"
      },
      "execution_count": 1,
      "outputs": []
    },
    {
      "cell_type": "code",
      "source": [
        "!nvidia-smi"
      ],
      "metadata": {
        "id": "it2_wWXXWhfE",
        "colab": {
          "base_uri": "https://localhost:8080/"
        },
        "outputId": "c38045a4-3cdb-49ec-aa43-5be24cd8bbb0"
      },
      "execution_count": 2,
      "outputs": [
        {
          "output_type": "stream",
          "name": "stdout",
          "text": [
            "Wed Aug 24 20:37:00 2022       \n",
            "+-----------------------------------------------------------------------------+\n",
            "| NVIDIA-SMI 460.32.03    Driver Version: 460.32.03    CUDA Version: 11.2     |\n",
            "|-------------------------------+----------------------+----------------------+\n",
            "| GPU  Name        Persistence-M| Bus-Id        Disp.A | Volatile Uncorr. ECC |\n",
            "| Fan  Temp  Perf  Pwr:Usage/Cap|         Memory-Usage | GPU-Util  Compute M. |\n",
            "|                               |                      |               MIG M. |\n",
            "|===============================+======================+======================|\n",
            "|   0  Tesla V100-SXM2...  Off  | 00000000:00:04.0 Off |                    0 |\n",
            "| N/A   35C    P0    24W / 300W |      0MiB / 16160MiB |      0%      Default |\n",
            "|                               |                      |                  N/A |\n",
            "+-------------------------------+----------------------+----------------------+\n",
            "                                                                               \n",
            "+-----------------------------------------------------------------------------+\n",
            "| Processes:                                                                  |\n",
            "|  GPU   GI   CI        PID   Type   Process name                  GPU Memory |\n",
            "|        ID   ID                                                   Usage      |\n",
            "|=============================================================================|\n",
            "|  No running processes found                                                 |\n",
            "+-----------------------------------------------------------------------------+\n"
          ]
        }
      ]
    },
    {
      "cell_type": "code",
      "source": [
        "!pip install astro-datasets --upgrade\n",
        "!pip install tensorflow_datasets --upgrade"
      ],
      "metadata": {
        "id": "vvg8DWZ6WiPd",
        "colab": {
          "base_uri": "https://localhost:8080/"
        },
        "outputId": "01c77263-7fcf-4d5d-cc1d-f0c1f68be420"
      },
      "execution_count": 3,
      "outputs": [
        {
          "output_type": "stream",
          "name": "stdout",
          "text": [
            "Looking in indexes: https://pypi.org/simple, https://us-python.pkg.dev/colab-wheels/public/simple/\n",
            "Collecting astro-datasets\n",
            "  Downloading astro_datasets-0.0.10.tar.gz (12 kB)\n",
            "Requirement already satisfied: tensorflow in /usr/local/lib/python3.7/dist-packages (from astro-datasets) (2.8.2+zzzcolab20220719082949)\n",
            "Requirement already satisfied: tensorflow_datasets in /usr/local/lib/python3.7/dist-packages (from astro-datasets) (4.6.0)\n",
            "Requirement already satisfied: numpy in /usr/local/lib/python3.7/dist-packages (from astro-datasets) (1.21.6)\n",
            "Requirement already satisfied: pandas in /usr/local/lib/python3.7/dist-packages (from astro-datasets) (1.3.5)\n",
            "Requirement already satisfied: python-dateutil>=2.7.3 in /usr/local/lib/python3.7/dist-packages (from pandas->astro-datasets) (2.8.2)\n",
            "Requirement already satisfied: pytz>=2017.3 in /usr/local/lib/python3.7/dist-packages (from pandas->astro-datasets) (2022.2.1)\n",
            "Requirement already satisfied: six>=1.5 in /usr/local/lib/python3.7/dist-packages (from python-dateutil>=2.7.3->pandas->astro-datasets) (1.15.0)\n",
            "Requirement already satisfied: google-pasta>=0.1.1 in /usr/local/lib/python3.7/dist-packages (from tensorflow->astro-datasets) (0.2.0)\n",
            "Requirement already satisfied: absl-py>=0.4.0 in /usr/local/lib/python3.7/dist-packages (from tensorflow->astro-datasets) (1.2.0)\n",
            "Requirement already satisfied: setuptools in /usr/local/lib/python3.7/dist-packages (from tensorflow->astro-datasets) (57.4.0)\n",
            "Requirement already satisfied: gast>=0.2.1 in /usr/local/lib/python3.7/dist-packages (from tensorflow->astro-datasets) (0.5.3)\n",
            "Requirement already satisfied: opt-einsum>=2.3.2 in /usr/local/lib/python3.7/dist-packages (from tensorflow->astro-datasets) (3.3.0)\n",
            "Requirement already satisfied: flatbuffers>=1.12 in /usr/local/lib/python3.7/dist-packages (from tensorflow->astro-datasets) (2.0)\n",
            "Requirement already satisfied: wrapt>=1.11.0 in /usr/local/lib/python3.7/dist-packages (from tensorflow->astro-datasets) (1.14.1)\n",
            "Requirement already satisfied: keras-preprocessing>=1.1.1 in /usr/local/lib/python3.7/dist-packages (from tensorflow->astro-datasets) (1.1.2)\n",
            "Requirement already satisfied: h5py>=2.9.0 in /usr/local/lib/python3.7/dist-packages (from tensorflow->astro-datasets) (3.1.0)\n",
            "Requirement already satisfied: termcolor>=1.1.0 in /usr/local/lib/python3.7/dist-packages (from tensorflow->astro-datasets) (1.1.0)\n",
            "Requirement already satisfied: libclang>=9.0.1 in /usr/local/lib/python3.7/dist-packages (from tensorflow->astro-datasets) (14.0.6)\n",
            "Requirement already satisfied: tensorboard<2.9,>=2.8 in /usr/local/lib/python3.7/dist-packages (from tensorflow->astro-datasets) (2.8.0)\n",
            "Requirement already satisfied: astunparse>=1.6.0 in /usr/local/lib/python3.7/dist-packages (from tensorflow->astro-datasets) (1.6.3)\n",
            "Requirement already satisfied: tensorflow-io-gcs-filesystem>=0.23.1 in /usr/local/lib/python3.7/dist-packages (from tensorflow->astro-datasets) (0.26.0)\n",
            "Requirement already satisfied: protobuf<3.20,>=3.9.2 in /usr/local/lib/python3.7/dist-packages (from tensorflow->astro-datasets) (3.17.3)\n",
            "Requirement already satisfied: keras<2.9,>=2.8.0rc0 in /usr/local/lib/python3.7/dist-packages (from tensorflow->astro-datasets) (2.8.0)\n",
            "Requirement already satisfied: typing-extensions>=3.6.6 in /usr/local/lib/python3.7/dist-packages (from tensorflow->astro-datasets) (4.1.1)\n",
            "Requirement already satisfied: grpcio<2.0,>=1.24.3 in /usr/local/lib/python3.7/dist-packages (from tensorflow->astro-datasets) (1.47.0)\n",
            "Requirement already satisfied: tensorflow-estimator<2.9,>=2.8 in /usr/local/lib/python3.7/dist-packages (from tensorflow->astro-datasets) (2.8.0)\n",
            "Requirement already satisfied: wheel<1.0,>=0.23.0 in /usr/local/lib/python3.7/dist-packages (from astunparse>=1.6.0->tensorflow->astro-datasets) (0.37.1)\n",
            "Requirement already satisfied: cached-property in /usr/local/lib/python3.7/dist-packages (from h5py>=2.9.0->tensorflow->astro-datasets) (1.5.2)\n",
            "Requirement already satisfied: tensorboard-data-server<0.7.0,>=0.6.0 in /usr/local/lib/python3.7/dist-packages (from tensorboard<2.9,>=2.8->tensorflow->astro-datasets) (0.6.1)\n",
            "Requirement already satisfied: markdown>=2.6.8 in /usr/local/lib/python3.7/dist-packages (from tensorboard<2.9,>=2.8->tensorflow->astro-datasets) (3.4.1)\n",
            "Requirement already satisfied: tensorboard-plugin-wit>=1.6.0 in /usr/local/lib/python3.7/dist-packages (from tensorboard<2.9,>=2.8->tensorflow->astro-datasets) (1.8.1)\n",
            "Requirement already satisfied: google-auth-oauthlib<0.5,>=0.4.1 in /usr/local/lib/python3.7/dist-packages (from tensorboard<2.9,>=2.8->tensorflow->astro-datasets) (0.4.6)\n",
            "Requirement already satisfied: werkzeug>=0.11.15 in /usr/local/lib/python3.7/dist-packages (from tensorboard<2.9,>=2.8->tensorflow->astro-datasets) (1.0.1)\n",
            "Requirement already satisfied: requests<3,>=2.21.0 in /usr/local/lib/python3.7/dist-packages (from tensorboard<2.9,>=2.8->tensorflow->astro-datasets) (2.23.0)\n",
            "Requirement already satisfied: google-auth<3,>=1.6.3 in /usr/local/lib/python3.7/dist-packages (from tensorboard<2.9,>=2.8->tensorflow->astro-datasets) (1.35.0)\n",
            "Requirement already satisfied: cachetools<5.0,>=2.0.0 in /usr/local/lib/python3.7/dist-packages (from google-auth<3,>=1.6.3->tensorboard<2.9,>=2.8->tensorflow->astro-datasets) (4.2.4)\n",
            "Requirement already satisfied: pyasn1-modules>=0.2.1 in /usr/local/lib/python3.7/dist-packages (from google-auth<3,>=1.6.3->tensorboard<2.9,>=2.8->tensorflow->astro-datasets) (0.2.8)\n",
            "Requirement already satisfied: rsa<5,>=3.1.4 in /usr/local/lib/python3.7/dist-packages (from google-auth<3,>=1.6.3->tensorboard<2.9,>=2.8->tensorflow->astro-datasets) (4.9)\n",
            "Requirement already satisfied: requests-oauthlib>=0.7.0 in /usr/local/lib/python3.7/dist-packages (from google-auth-oauthlib<0.5,>=0.4.1->tensorboard<2.9,>=2.8->tensorflow->astro-datasets) (1.3.1)\n",
            "Requirement already satisfied: importlib-metadata>=4.4 in /usr/local/lib/python3.7/dist-packages (from markdown>=2.6.8->tensorboard<2.9,>=2.8->tensorflow->astro-datasets) (4.12.0)\n",
            "Requirement already satisfied: zipp>=0.5 in /usr/local/lib/python3.7/dist-packages (from importlib-metadata>=4.4->markdown>=2.6.8->tensorboard<2.9,>=2.8->tensorflow->astro-datasets) (3.8.1)\n",
            "Requirement already satisfied: pyasn1<0.5.0,>=0.4.6 in /usr/local/lib/python3.7/dist-packages (from pyasn1-modules>=0.2.1->google-auth<3,>=1.6.3->tensorboard<2.9,>=2.8->tensorflow->astro-datasets) (0.4.8)\n",
            "Requirement already satisfied: certifi>=2017.4.17 in /usr/local/lib/python3.7/dist-packages (from requests<3,>=2.21.0->tensorboard<2.9,>=2.8->tensorflow->astro-datasets) (2022.6.15)\n",
            "Requirement already satisfied: idna<3,>=2.5 in /usr/local/lib/python3.7/dist-packages (from requests<3,>=2.21.0->tensorboard<2.9,>=2.8->tensorflow->astro-datasets) (2.10)\n",
            "Requirement already satisfied: chardet<4,>=3.0.2 in /usr/local/lib/python3.7/dist-packages (from requests<3,>=2.21.0->tensorboard<2.9,>=2.8->tensorflow->astro-datasets) (3.0.4)\n",
            "Requirement already satisfied: urllib3!=1.25.0,!=1.25.1,<1.26,>=1.21.1 in /usr/local/lib/python3.7/dist-packages (from requests<3,>=2.21.0->tensorboard<2.9,>=2.8->tensorflow->astro-datasets) (1.24.3)\n",
            "Requirement already satisfied: oauthlib>=3.0.0 in /usr/local/lib/python3.7/dist-packages (from requests-oauthlib>=0.7.0->google-auth-oauthlib<0.5,>=0.4.1->tensorboard<2.9,>=2.8->tensorflow->astro-datasets) (3.2.0)\n",
            "Requirement already satisfied: tensorflow-metadata in /usr/local/lib/python3.7/dist-packages (from tensorflow_datasets->astro-datasets) (1.9.0)\n",
            "Requirement already satisfied: dill in /usr/local/lib/python3.7/dist-packages (from tensorflow_datasets->astro-datasets) (0.3.5.1)\n",
            "Requirement already satisfied: promise in /usr/local/lib/python3.7/dist-packages (from tensorflow_datasets->astro-datasets) (2.3)\n",
            "Requirement already satisfied: importlib-resources in /usr/local/lib/python3.7/dist-packages (from tensorflow_datasets->astro-datasets) (5.9.0)\n",
            "Requirement already satisfied: etils[epath] in /usr/local/lib/python3.7/dist-packages (from tensorflow_datasets->astro-datasets) (0.7.1)\n",
            "Requirement already satisfied: toml in /usr/local/lib/python3.7/dist-packages (from tensorflow_datasets->astro-datasets) (0.10.2)\n",
            "Requirement already satisfied: tqdm in /usr/local/lib/python3.7/dist-packages (from tensorflow_datasets->astro-datasets) (4.64.0)\n",
            "Requirement already satisfied: googleapis-common-protos<2,>=1.52.0 in /usr/local/lib/python3.7/dist-packages (from tensorflow-metadata->tensorflow_datasets->astro-datasets) (1.56.4)\n",
            "Building wheels for collected packages: astro-datasets\n",
            "  Building wheel for astro-datasets (setup.py) ... \u001b[?25l\u001b[?25hdone\n",
            "  Created wheel for astro-datasets: filename=astro_datasets-0.0.10-py3-none-any.whl size=15992 sha256=d5e5f83113e8ddb2bbc18dd7680412c2b24905c93d33fa26faf2c2dbe04c3b86\n",
            "  Stored in directory: /root/.cache/pip/wheels/33/b2/9d/97c264f6addbd178fe1c8ff119617e1515cb8c0d0f220605cf\n",
            "Successfully built astro-datasets\n",
            "Installing collected packages: astro-datasets\n",
            "Successfully installed astro-datasets-0.0.10\n",
            "Looking in indexes: https://pypi.org/simple, https://us-python.pkg.dev/colab-wheels/public/simple/\n",
            "Requirement already satisfied: tensorflow_datasets in /usr/local/lib/python3.7/dist-packages (4.6.0)\n",
            "Requirement already satisfied: etils[epath] in /usr/local/lib/python3.7/dist-packages (from tensorflow_datasets) (0.7.1)\n",
            "Requirement already satisfied: numpy in /usr/local/lib/python3.7/dist-packages (from tensorflow_datasets) (1.21.6)\n",
            "Requirement already satisfied: promise in /usr/local/lib/python3.7/dist-packages (from tensorflow_datasets) (2.3)\n",
            "Requirement already satisfied: dill in /usr/local/lib/python3.7/dist-packages (from tensorflow_datasets) (0.3.5.1)\n",
            "Requirement already satisfied: protobuf>=3.12.2 in /usr/local/lib/python3.7/dist-packages (from tensorflow_datasets) (3.17.3)\n",
            "Requirement already satisfied: requests>=2.19.0 in /usr/local/lib/python3.7/dist-packages (from tensorflow_datasets) (2.23.0)\n",
            "Requirement already satisfied: tensorflow-metadata in /usr/local/lib/python3.7/dist-packages (from tensorflow_datasets) (1.9.0)\n",
            "Requirement already satisfied: importlib-resources in /usr/local/lib/python3.7/dist-packages (from tensorflow_datasets) (5.9.0)\n",
            "Requirement already satisfied: termcolor in /usr/local/lib/python3.7/dist-packages (from tensorflow_datasets) (1.1.0)\n",
            "Requirement already satisfied: tqdm in /usr/local/lib/python3.7/dist-packages (from tensorflow_datasets) (4.64.0)\n",
            "Requirement already satisfied: toml in /usr/local/lib/python3.7/dist-packages (from tensorflow_datasets) (0.10.2)\n",
            "Requirement already satisfied: typing-extensions in /usr/local/lib/python3.7/dist-packages (from tensorflow_datasets) (4.1.1)\n",
            "Requirement already satisfied: absl-py in /usr/local/lib/python3.7/dist-packages (from tensorflow_datasets) (1.2.0)\n",
            "Requirement already satisfied: six in /usr/local/lib/python3.7/dist-packages (from tensorflow_datasets) (1.15.0)\n",
            "Requirement already satisfied: chardet<4,>=3.0.2 in /usr/local/lib/python3.7/dist-packages (from requests>=2.19.0->tensorflow_datasets) (3.0.4)\n",
            "Requirement already satisfied: certifi>=2017.4.17 in /usr/local/lib/python3.7/dist-packages (from requests>=2.19.0->tensorflow_datasets) (2022.6.15)\n",
            "Requirement already satisfied: urllib3!=1.25.0,!=1.25.1,<1.26,>=1.21.1 in /usr/local/lib/python3.7/dist-packages (from requests>=2.19.0->tensorflow_datasets) (1.24.3)\n",
            "Requirement already satisfied: idna<3,>=2.5 in /usr/local/lib/python3.7/dist-packages (from requests>=2.19.0->tensorflow_datasets) (2.10)\n",
            "Requirement already satisfied: zipp in /usr/local/lib/python3.7/dist-packages (from etils[epath]->tensorflow_datasets) (3.8.1)\n",
            "Requirement already satisfied: googleapis-common-protos<2,>=1.52.0 in /usr/local/lib/python3.7/dist-packages (from tensorflow-metadata->tensorflow_datasets) (1.56.4)\n"
          ]
        }
      ]
    },
    {
      "cell_type": "code",
      "source": [
        "shutil.rmtree('bnn_hmc', ignore_errors=True)"
      ],
      "metadata": {
        "id": "RBlVxYN-WjM9"
      },
      "execution_count": 4,
      "outputs": []
    },
    {
      "cell_type": "code",
      "source": [
        "!git clone https://github.com/adammoss/bnn_hmc"
      ],
      "metadata": {
        "id": "KdgVM_pIWko2",
        "colab": {
          "base_uri": "https://localhost:8080/"
        },
        "outputId": "f3579513-a5bd-4b85-fa11-78ac97a3528d"
      },
      "execution_count": 5,
      "outputs": [
        {
          "output_type": "stream",
          "name": "stdout",
          "text": [
            "Cloning into 'bnn_hmc'...\n",
            "remote: Enumerating objects: 566, done.\u001b[K\n",
            "remote: Counting objects: 100% (35/35), done.\u001b[K\n",
            "remote: Compressing objects: 100% (35/35), done.\u001b[K\n",
            "remote: Total 566 (delta 23), reused 0 (delta 0), pack-reused 531\u001b[K\n",
            "Receiving objects: 100% (566/566), 1.07 MiB | 1.07 MiB/s, done.\n",
            "Resolving deltas: 100% (404/404), done.\n"
          ]
        }
      ]
    },
    {
      "cell_type": "code",
      "source": [
        "# https://storage.googleapis.com/jax-releases/jax_cuda_releases.html\n",
        "\n",
        "!pip install --upgrade https://storage.googleapis.com/jax-releases/cuda111/jaxlib-0.1.65+cuda111-cp37-none-manylinux2010_x86_64.whl\n",
        "!pip install jax==0.2.12\n",
        "!pip install dm-haiku==0.0.5.dev0 optax==0.0.6 chex==0.0.6"
      ],
      "metadata": {
        "id": "ldTPWi-hWltO",
        "colab": {
          "base_uri": "https://localhost:8080/"
        },
        "outputId": "b4384dd1-eb0d-47b7-86f6-156760bdb42b"
      },
      "execution_count": 6,
      "outputs": [
        {
          "output_type": "stream",
          "name": "stdout",
          "text": [
            "Looking in indexes: https://pypi.org/simple, https://us-python.pkg.dev/colab-wheels/public/simple/\n",
            "Collecting jaxlib==0.1.65+cuda111\n",
            "  Downloading https://storage.googleapis.com/jax-releases/cuda111/jaxlib-0.1.65+cuda111-cp37-none-manylinux2010_x86_64.whl (189.4 MB)\n",
            "\u001b[K     |████████████████████████████████| 189.4 MB 17 kB/s \n",
            "\u001b[?25hRequirement already satisfied: flatbuffers in /usr/local/lib/python3.7/dist-packages (from jaxlib==0.1.65+cuda111) (2.0)\n",
            "Requirement already satisfied: numpy>=1.16 in /usr/local/lib/python3.7/dist-packages (from jaxlib==0.1.65+cuda111) (1.21.6)\n",
            "Requirement already satisfied: absl-py in /usr/local/lib/python3.7/dist-packages (from jaxlib==0.1.65+cuda111) (1.2.0)\n",
            "Requirement already satisfied: scipy in /usr/local/lib/python3.7/dist-packages (from jaxlib==0.1.65+cuda111) (1.7.3)\n",
            "Installing collected packages: jaxlib\n",
            "  Attempting uninstall: jaxlib\n",
            "    Found existing installation: jaxlib 0.3.14+cuda11.cudnn805\n",
            "    Uninstalling jaxlib-0.3.14+cuda11.cudnn805:\n",
            "      Successfully uninstalled jaxlib-0.3.14+cuda11.cudnn805\n",
            "Successfully installed jaxlib-0.1.65+cuda111\n",
            "Looking in indexes: https://pypi.org/simple, https://us-python.pkg.dev/colab-wheels/public/simple/\n",
            "Collecting jax==0.2.12\n",
            "  Downloading jax-0.2.12.tar.gz (590 kB)\n",
            "\u001b[K     |████████████████████████████████| 590 kB 15.4 MB/s \n",
            "\u001b[?25hRequirement already satisfied: numpy>=1.12 in /usr/local/lib/python3.7/dist-packages (from jax==0.2.12) (1.21.6)\n",
            "Requirement already satisfied: absl-py in /usr/local/lib/python3.7/dist-packages (from jax==0.2.12) (1.2.0)\n",
            "Requirement already satisfied: opt_einsum in /usr/local/lib/python3.7/dist-packages (from jax==0.2.12) (3.3.0)\n",
            "Building wheels for collected packages: jax\n",
            "  Building wheel for jax (setup.py) ... \u001b[?25l\u001b[?25hdone\n",
            "  Created wheel for jax: filename=jax-0.2.12-py3-none-any.whl size=682487 sha256=280340694f9f82c69df033c75789bad276e1402e8cd503aa4666d6583c2c9c12\n",
            "  Stored in directory: /root/.cache/pip/wheels/f6/4d/e5/73eec5070b77f25664c67bd793d4eb97f41bbf9be7afafd15e\n",
            "Successfully built jax\n",
            "Installing collected packages: jax\n",
            "  Attempting uninstall: jax\n",
            "    Found existing installation: jax 0.3.14\n",
            "    Uninstalling jax-0.3.14:\n",
            "      Successfully uninstalled jax-0.3.14\n",
            "Successfully installed jax-0.2.12\n",
            "Looking in indexes: https://pypi.org/simple, https://us-python.pkg.dev/colab-wheels/public/simple/\n",
            "Collecting dm-haiku==0.0.5.dev0\n",
            "  Downloading dm_haiku-0.0.5.dev0-py3-none-any.whl (284 kB)\n",
            "\u001b[K     |████████████████████████████████| 284 kB 15.2 MB/s \n",
            "\u001b[?25hCollecting optax==0.0.6\n",
            "  Downloading optax-0.0.6-py3-none-any.whl (96 kB)\n",
            "\u001b[K     |████████████████████████████████| 96 kB 6.6 MB/s \n",
            "\u001b[?25hCollecting chex==0.0.6\n",
            "  Downloading chex-0.0.6-py3-none-any.whl (51 kB)\n",
            "\u001b[K     |████████████████████████████████| 51 kB 653 kB/s \n",
            "\u001b[?25hRequirement already satisfied: tabulate>=0.8.9 in /usr/local/lib/python3.7/dist-packages (from dm-haiku==0.0.5.dev0) (0.8.10)\n",
            "Requirement already satisfied: absl-py>=0.7.1 in /usr/local/lib/python3.7/dist-packages (from dm-haiku==0.0.5.dev0) (1.2.0)\n",
            "Requirement already satisfied: numpy>=1.18.0 in /usr/local/lib/python3.7/dist-packages (from dm-haiku==0.0.5.dev0) (1.21.6)\n",
            "Requirement already satisfied: typing-extensions in /usr/local/lib/python3.7/dist-packages (from dm-haiku==0.0.5.dev0) (4.1.1)\n",
            "Requirement already satisfied: jax>=0.1.55 in /usr/local/lib/python3.7/dist-packages (from optax==0.0.6) (0.2.12)\n",
            "Requirement already satisfied: jaxlib>=0.1.37 in /usr/local/lib/python3.7/dist-packages (from optax==0.0.6) (0.1.65+cuda111)\n",
            "Requirement already satisfied: dm-tree>=0.1.5 in /usr/local/lib/python3.7/dist-packages (from chex==0.0.6) (0.1.7)\n",
            "Requirement already satisfied: toolz>=0.9.0 in /usr/local/lib/python3.7/dist-packages (from chex==0.0.6) (0.12.0)\n",
            "Requirement already satisfied: opt-einsum in /usr/local/lib/python3.7/dist-packages (from jax>=0.1.55->optax==0.0.6) (3.3.0)\n",
            "Requirement already satisfied: flatbuffers in /usr/local/lib/python3.7/dist-packages (from jaxlib>=0.1.37->optax==0.0.6) (2.0)\n",
            "Requirement already satisfied: scipy in /usr/local/lib/python3.7/dist-packages (from jaxlib>=0.1.37->optax==0.0.6) (1.7.3)\n",
            "Installing collected packages: chex, optax, dm-haiku\n",
            "Successfully installed chex-0.0.6 dm-haiku-0.0.5.dev0 optax-0.0.6\n"
          ]
        }
      ]
    },
    {
      "cell_type": "code",
      "source": [
        "!python3 bnn_hmc/scripts/run_vi.py --seed=1 --weight_decay=5. --dir=runs/vi/mirabestc/ \\\n",
        "  --dataset_name=mirabest/confident --model_name=lenet \\\n",
        "  --init_step_size=1e-4 --num_epochs=200 --eval_freq=5 --batch_size=53 --patience 10\\\n",
        "  --save_freq=300 --optimizer=Adam \\\n",
        "  --vi_sigma_init=0.01 --temperature=1. --vi_ensemble_size=20 --train_split=train[:80%] --test_split=train[80%:] --image_size=64"
      ],
      "metadata": {
        "id": "WRN8a5273v1-",
        "outputId": "903289bc-3b19-46c7-e87c-e460ed55add0",
        "colab": {
          "base_uri": "https://localhost:8080/"
        }
      },
      "execution_count": 7,
      "outputs": [
        {
          "output_type": "stream",
          "name": "stdout",
          "text": [
            "JAX sees the following devices: [GpuDevice(id=0, process_index=0)]\n",
            "TF sees the following devices: [PhysicalDevice(name='/physical_device:CPU:0', device_type='CPU')]\n",
            "2022-08-24 20:37:53.095488: W tensorflow/core/platform/cloud/google_auth_provider.cc:184] All attempts to get a Google authentication bearer token failed, returning an empty token. Retrieving token from files failed with \"NOT_FOUND: Could not locate the credentials file.\". Retrieving token from GCE failed with \"NOT_FOUND: Error executing an HTTP request: HTTP response code 404\".\n",
            "\u001b[1mDownloading and preparing dataset Unknown size (download: Unknown size, generated: Unknown size, total: Unknown size) to ~/tensorflow_datasets/mirabest/confident/1.0.0...\u001b[0m\n",
            "Dl Completed...: 0 url [00:00, ? url/s]\n",
            "Dl Size...: 0 MiB [00:00, ? MiB/s]\u001b[A\n",
            "\n",
            "Dl Completed...:   0% 0/1 [00:00<?, ? url/s]\n",
            "Dl Size...: 0 MiB [00:00, ? MiB/s]\u001b[A\n",
            "\n",
            "Dl Completed...:   0% 0/1 [00:00<?, ? url/s]\n",
            "Dl Size...: 0 MiB [00:00, ? MiB/s]\u001b[A\n",
            "\n",
            "Dl Completed...: 100% 1/1 [00:00<00:00,  3.33 url/s]\n",
            "Dl Size...: 0 MiB [00:00, ? MiB/s]\u001b[A\n",
            "\n",
            "Dl Completed...: 100% 1/1 [00:00<00:00,  3.33 url/s]\n",
            "Dl Size...: 0 MiB [00:00, ? MiB/s]\u001b[A\n",
            "\n",
            "Extraction completed...:   0% 0/1 [00:00<?, ? file/s]\u001b[A\u001b[A\n",
            "\n",
            "Dl Completed...: 100% 1/1 [00:00<00:00,  3.33 url/s]\n",
            "Dl Size...: 0 MiB [00:00, ? MiB/s]\u001b[A\n",
            "\n",
            "Extraction completed...: 100% 1/1 [00:00<00:00,  1.75 file/s]\n",
            "Dl Size...: 0 MiB [00:00, ? MiB/s]\n",
            "Dl Completed...: 100% 1/1 [00:00<00:00,  1.75 url/s]\n",
            "Generating splits...:   0% 0/2 [00:00<?, ? splits/s]\n",
            "Generating train examples...: 0 examples [00:00, ? examples/s]\u001b[A\n",
            "Generating train examples...: 80 examples [00:00, 780.82 examples/s]\u001b[A\n",
            "Generating train examples...: 159 examples [00:00, 707.96 examples/s]\u001b[A\n",
            "Generating train examples...: 232 examples [00:00, 709.55 examples/s]\u001b[A\n",
            "Generating train examples...: 304 examples [00:00, 456.11 examples/s]\u001b[A\n",
            "Generating train examples...: 377 examples [00:00, 524.91 examples/s]\u001b[A\n",
            "Generating train examples...: 453 examples [00:00, 586.90 examples/s]\u001b[A\n",
            "Generating train examples...: 528 examples [00:00, 630.40 examples/s]\u001b[A\n",
            "Generating train examples...: 613 examples [00:00, 692.34 examples/s]\u001b[A\n",
            "Generating train examples...: 687 examples [00:01, 592.56 examples/s]\u001b[A\n",
            "                                                                     \u001b[A\n",
            "Shuffling ~/tensorflow_datasets/mirabest/confident/1.0.0.incompleteVP4XOL/mirabest-train.tfrecord*...:   0% 0/729 [00:00<?, ? examples/s]\u001b[A\n",
            "Generating splits...:  50% 1/2 [00:01<00:01,  1.22s/ splits]\n",
            "Generating test examples...: 0 examples [00:00, ? examples/s]\u001b[A\n",
            "Generating test examples...: 83 examples [00:00, 826.61 examples/s]\u001b[A\n",
            "                                                                   \u001b[A\n",
            "Shuffling ~/tensorflow_datasets/mirabest/confident/1.0.0.incompleteVP4XOL/mirabest-test.tfrecord*...:   0% 0/104 [00:00<?, ? examples/s]\u001b[A\n",
            "\u001b[1mDataset mirabest downloaded and prepared to ~/tensorflow_datasets/mirabest/confident/1.0.0. Subsequent calls will reuse this data.\u001b[0m\n",
            "Starting from random initialization with provided seed\n",
            "/content/bnn_hmc/bnn_hmc/utils/script_utils.py:152: VisibleDeprecationWarning: Creating an ndarray from ragged nested sequences (which is a list-or-tuple of lists-or-tuples-or ndarrays with different lengths or shapes) is deprecated. If you meant to do this, you must specify 'dtype=object' when creating the ndarray.\n",
            "  predict_fn(net_apply, params, net_state, test_set))\n",
            "/content/bnn_hmc/bnn_hmc/utils/script_utils.py:154: VisibleDeprecationWarning: Creating an ndarray from ragged nested sequences (which is a list-or-tuple of lists-or-tuples-or ndarrays with different lengths or shapes) is deprecated. If you meant to do this, you must specify 'dtype=object' when creating the ndarray.\n",
            "  predict_fn(net_apply, params, net_state, train_set))\n",
            "bnn_hmc/scripts/run_vi.py:199: VisibleDeprecationWarning: Creating an ndarray from ragged nested sequences (which is a list-or-tuple of lists-or-tuples-or ndarrays with different lengths or shapes) is deprecated. If you meant to do this, you must specify 'dtype=object' when creating the ndarray.\n",
            "  vi_ensemble_predict_fn(net_apply, params, net_state, test_set))\n",
            "---  --------  ----------------  ---------------  ----------  -------------------  --------------  --------------  --------\n",
            "  i         t    train/accuracy    test/accuracy    test/nll    test/ens_accuracy    test/ens_nll    test/ens_ece        lr\n",
            "---  --------  ----------------  ---------------  ----------  -------------------  --------------  --------------  --------\n",
            "  0    4.5235            0.5077           0.5274      0.7334               0.5274          0.7192          0.1778    0.0001\n",
            "  1    0.0309            0.6449           0.6233      0.6847               0.6370          0.6839          0.1607    0.0001\n",
            "  2    0.0306            0.5540           0.4932      0.7801               0.4932          0.7717          0.2120    0.0001\n",
            "  3    0.0309            0.5969           0.5890      0.6886               0.5616          0.6727          0.1222    0.0001\n",
            "  4    0.0313            0.7547           0.6233      0.6306               0.7123          0.6295          0.1481    0.0001\n",
            "  5    0.0316            0.7770           0.6438      0.6209               0.6301          0.6301          0.1232    0.0001\n",
            "  6    0.0317            0.7787           0.6301      0.6087               0.6438          0.6152          0.1677    0.0001\n",
            "  7    0.0351            0.6158           0.6164      0.7112               0.6301          0.6714          0.1368    0.0001\n",
            "  8    0.0322            0.7907           0.6370      0.5999               0.6849          0.6010          0.1682    0.0001\n",
            "  9    0.0317            0.7925           0.6370      0.5846               0.6575          0.6006          0.1271    0.0001\n",
            " 10    0.0327            0.7702           0.6438      0.5919               0.6233          0.6188          0.1604    0.0001\n",
            " 11    0.0314            0.7993           0.6849      0.5852               0.6918          0.5779          0.1518    0.0001\n",
            " 12    0.0324            0.8148           0.7466      0.5811               0.7397          0.5677          0.1081    0.0001\n",
            " 13    0.0319            0.8250           0.7123      0.5655               0.6918          0.5630          0.1296    0.0001\n",
            " 14    0.0322            0.8113           0.7397      0.5873               0.7329          0.5714          0.1245    0.0001\n",
            " 15    0.0319            0.8370           0.7466      0.5565               0.6986          0.5467          0.1432    0.0001\n",
            " 16    0.0321            0.8473           0.6986      0.5358               0.6712          0.5659          0.1491    0.0001\n",
            " 17    0.0321            0.8079           0.7877      0.5746               0.7534          0.5522          0.1330    0.0001\n",
            " 18    0.0316            0.8130           0.7945      0.5713               0.8151          0.5417          0.1790    0.0001\n",
            " 19    0.0316            0.8182           0.6644      0.5658               0.6438          0.5899          0.1535    0.0001\n",
            " 20    0.0316            0.7959           0.6507      0.5856               0.6438          0.6131          0.1807    0.0001\n",
            " 21    0.0319            0.8679           0.7534      0.5257               0.7466          0.5173          0.1408    0.0001\n",
            " 22    0.0322            0.8662           0.7740      0.5109               0.7740          0.5074          0.1209    0.0001\n",
            " 23    0.0320            0.7839           0.7466      0.6252               0.7671          0.5686          0.1301    0.0001\n",
            " 24    0.0319            0.8456           0.6918      0.5353               0.6438          0.5806          0.1396    0.0001\n",
            " 25    0.0316            0.8456           0.6849      0.5472               0.6507          0.5731          0.1334    0.0001\n",
            " 26    0.0321            0.8799           0.8014      0.4975               0.8014          0.4902          0.1160    0.0001\n",
            " 27    0.0315            0.8834           0.8082      0.5007               0.8151          0.4943          0.1256    0.0001\n",
            " 28    0.0322            0.8885           0.7603      0.4826               0.7671          0.4834          0.1128    0.0001\n",
            " 29    0.0327            0.8937           0.8014      0.5039               0.8082          0.4990          0.1147    0.0001\n",
            " 30    0.0326            0.8439           0.7123      0.5372               0.6986          0.5376          0.0936    0.0001\n",
            " 31    0.0316            0.7822           0.6644      0.6308               0.6027          0.6913          0.2063    0.0001\n",
            " 32    0.0337            0.8919           0.7945      0.4724               0.7466          0.4877          0.0945    0.0001\n",
            " 33    0.0322            0.8714           0.7877      0.5155               0.8288          0.4707          0.1171    0.0001\n",
            " 34    0.0321            0.8765           0.7329      0.4902               0.7534          0.4818          0.0965    0.0001\n",
            " 35    0.0316            0.9125           0.8014      0.4571               0.8014          0.4686          0.1121    0.0001\n",
            " 36    0.0315            0.8045           0.7192      0.6168               0.7603          0.5651          0.1058    0.0001\n",
            " 37    0.0315            0.7153           0.5959      0.8006               0.5753          0.8174          0.2766    0.0001\n",
            " 38    0.0344            0.9057           0.8014      0.4829               0.8014          0.4747          0.0983    0.0001\n",
            " 39    0.0316            0.9005           0.7603      0.4697               0.7260          0.4865          0.0985    0.0001\n",
            "---  --------  ----------------  ---------------  ----------  -------------------  --------------  --------------  --------\n",
            "  i         t    train/accuracy    test/accuracy    test/nll    test/ens_accuracy    test/ens_nll    test/ens_ece        lr\n",
            "---  --------  ----------------  ---------------  ----------  -------------------  --------------  --------------  --------\n",
            " 40    0.0320            0.9194           0.8288      0.4534               0.8219          0.4632          0.1190    0.0001\n",
            " 41    0.0320            0.9245           0.8219      0.4543               0.8082          0.4568          0.1380    0.0001\n",
            " 42    0.0310            0.9177           0.8014      0.4603               0.8082          0.4606          0.0745    0.0001\n",
            " 43    0.0317            0.9177           0.8288      0.4476               0.7945          0.4499          0.0696    0.0001\n",
            " 44    0.0311            0.9057           0.8014      0.4838               0.7945          0.4918          0.0788    0.0001\n",
            " 45    0.0344            0.9245           0.8219      0.4374               0.8082          0.4400          0.0862    0.0001\n",
            " 46    0.0329            0.9074           0.8014      0.4502               0.8014          0.4562          0.1255    0.0001\n",
            " 47    0.0317            0.9160           0.8151      0.4428               0.7877          0.4537          0.1277    0.0001\n",
            " 48    0.0321            0.9091           0.8082      0.4692               0.8288          0.4412          0.1162    0.0001\n",
            " 49    0.0316            0.9314           0.8356      0.4349               0.8151          0.4389          0.0703    0.0001\n",
            " 50    0.0318            0.9383           0.8356      0.4363               0.8288          0.4362          0.1140    0.0001\n",
            " 51    0.0333            0.9314           0.8288      0.4352               0.8219          0.4480          0.1016    0.0001\n",
            " 52    0.0321            0.9005           0.7671      0.4874               0.7534          0.4859          0.1191    0.0001\n",
            " 53    0.0319            0.9039           0.7740      0.5107               0.7740          0.5150          0.1107    0.0001\n",
            " 54    0.0309            0.9108           0.7877      0.4675               0.7877          0.4620          0.0852    0.0001\n",
            " 55    0.0308            0.9314           0.8219      0.4359               0.7740          0.4724          0.0930    0.0001\n",
            " 56    0.0321            0.8748           0.7877      0.5400               0.8082          0.5017          0.0922    0.0001\n",
            " 57    0.0322            0.9537           0.8356      0.4157               0.8425          0.4147          0.0781    0.0001\n",
            " 58    0.0325            0.9468           0.8425      0.4207               0.8356          0.4145          0.0998    0.0001\n",
            " 59    0.0319            0.9485           0.8356      0.4299               0.8151          0.4265          0.0753    0.0001\n",
            " 60    0.0319            0.9520           0.8288      0.4089               0.8082          0.4216          0.0877    0.0001\n",
            " 61    0.0395            0.9503           0.8425      0.4149               0.8562          0.4152          0.0921    0.0001\n",
            " 62    0.0327            0.9057           0.7877      0.4925               0.7740          0.5157          0.1311    0.0001\n",
            " 63    0.0325            0.9039           0.7671      0.4851               0.7123          0.5453          0.1321    0.0001\n",
            " 64    0.0318            0.9554           0.8288      0.4148               0.8288          0.4196          0.1078    0.0001\n",
            " 65    0.0322            0.9554           0.8425      0.4219               0.8288          0.4030          0.1149    0.0001\n",
            " 66    0.0322            0.9280           0.8219      0.4451               0.7603          0.4780          0.1028    0.0001\n",
            " 67    0.0330            0.9520           0.8151      0.4116               0.8082          0.4262          0.0689    0.0001\n",
            " 68    0.0321            0.9503           0.8493      0.4037               0.8493          0.3983          0.0898    0.0001\n",
            " 69    0.0318            0.9485           0.8493      0.4350               0.8425          0.4175          0.0841    0.0001\n",
            " 70    0.0324            0.9571           0.8356      0.4002               0.8288          0.4168          0.1008    0.0001\n",
            " 71    0.0311            0.9503           0.8425      0.4461               0.8493          0.4214          0.1153    0.0001\n",
            " 72    0.0320            0.9588           0.8219      0.4111               0.8219          0.4046          0.0937    0.0001\n",
            " 73    0.0310            0.9331           0.8288      0.4374               0.7808          0.4674          0.1026    0.0001\n",
            " 74    0.0315            0.9503           0.8288      0.4111               0.8082          0.4157          0.0837    0.0001\n",
            " 75    0.0330            0.9520           0.8493      0.3923               0.8562          0.3896          0.0942    0.0001\n",
            " 76    0.0317            0.8937           0.8082      0.5355               0.8219          0.4870          0.1004    0.0001\n",
            " 77    0.0321            0.9468           0.8219      0.4114               0.8219          0.4196          0.1140    0.0001\n",
            " 78    0.0321            0.9657           0.8151      0.3971               0.8288          0.3858          0.1071    0.0001\n",
            " 79    0.0317            0.9434           0.8014      0.4298               0.8219          0.4247          0.0900    0.0001\n",
            "---  --------  ----------------  ---------------  ----------  -------------------  --------------  --------------  --------\n",
            "  i         t    train/accuracy    test/accuracy    test/nll    test/ens_accuracy    test/ens_nll    test/ens_ece        lr\n",
            "---  --------  ----------------  ---------------  ----------  -------------------  --------------  --------------  --------\n",
            " 80    0.0317            0.9211           0.8288      0.5017               0.8219          0.4677          0.1280    0.0001\n",
            " 81    0.0317            0.8851           0.7877      0.5404               0.7534          0.5161          0.1073    0.0001\n",
            " 82    0.0311            0.9554           0.8356      0.4072               0.8493          0.3971          0.0984    0.0001\n",
            " 83    0.0322            0.9571           0.8219      0.3975               0.8151          0.3974          0.0738    0.0001\n",
            " 84    0.0323            0.9571           0.8219      0.4153               0.8356          0.3928          0.0710    0.0001\n",
            " 85    0.0318            0.9537           0.8082      0.4105               0.8219          0.4007          0.0914    0.0001\n",
            " 86    0.0320            0.9657           0.8219      0.4162               0.8356          0.3984          0.0854    0.0001\n",
            " 87    0.0319            0.9571           0.8288      0.3845               0.8425          0.3837          0.0704    0.0001\n",
            " 88    0.0320            0.9571           0.8288      0.3916               0.8082          0.4016          0.0938    0.0001\n",
            " 89    0.0313            0.9554           0.8356      0.4377               0.8493          0.4490          0.1037    0.0001\n",
            " 90    0.0318            0.9571           0.8151      0.3992               0.8288          0.3968          0.0712    0.0001\n",
            " 91    0.0322            0.9365           0.8151      0.4979               0.8356          0.4318          0.0898    0.0001\n",
            " 92    0.0322            0.9348           0.8082      0.4392               0.7945          0.4658          0.0785    0.0001\n",
            " 93    0.0322            0.9571           0.8356      0.4218               0.8630          0.4056          0.0942    0.0001\n",
            " 94    0.0309            0.9691           0.8288      0.3790               0.8425          0.3854          0.0822    0.0001\n",
            " 95    0.0317            0.9691           0.8356      0.3786               0.8425          0.3742          0.0973    0.0001\n",
            " 96    0.0317            0.9691           0.8356      0.3833               0.8356          0.3723          0.0977    0.0001\n",
            " 97    0.0317            0.9691           0.8425      0.4162               0.8630          0.3808          0.0591    0.0001\n",
            " 98    0.0325            0.9691           0.8356      0.3827               0.8493          0.3712          0.0677    0.0001\n",
            " 99    0.0310            0.9708           0.8356      0.3740               0.8493          0.3756          0.0925    0.0000\n",
            "100    0.0308            0.9588           0.8425      0.4435               0.8425          0.4196          0.0816    0.0000\n",
            "101    0.0320            0.9708           0.8356      0.3741               0.8356          0.3780          0.0786    0.0000\n",
            "102    0.0316            0.9691           0.8356      0.3709               0.8288          0.3714          0.0983    0.0000\n",
            "103    0.0331            0.9674           0.8425      0.4044               0.8562          0.3911          0.0535    0.0000\n",
            "104    0.0321            0.9434           0.8082      0.4465               0.7808          0.4648          0.1154    0.0000\n",
            "105    0.0317            0.9726           0.8356      0.4079               0.8356          0.3929          0.1004    0.0000\n",
            "106    0.0322            0.9691           0.8425      0.3867               0.8219          0.3924          0.0606    0.0000\n",
            "107    0.0321            0.9743           0.8356      0.3808               0.8425          0.3678          0.0665    0.0000\n",
            "108    0.0311            0.9726           0.8356      0.3796               0.8562          0.3742          0.1000    0.0000\n",
            "109    0.0325            0.9605           0.8219      0.4045               0.8288          0.3891          0.0643    0.0000\n",
            "110    0.0317            0.9811           0.8425      0.3783               0.8562          0.3692          0.0883    0.0000\n",
            "111    0.0312            0.9743           0.8562      0.3767               0.8493          0.3633          0.0856    0.0000\n",
            "112    0.0321            0.9743           0.8288      0.4064               0.8151          0.3757          0.0993    0.0000\n",
            "113    0.0322            0.9708           0.8219      0.3888               0.8356          0.3729          0.0662    0.0000\n",
            "114    0.0329            0.9726           0.8288      0.3735               0.8356          0.3595          0.0889    0.0000\n",
            "115    0.0321            0.9743           0.8288      0.3716               0.8493          0.3579          0.0727    0.0000\n",
            "116    0.0311            0.9743           0.8356      0.3731               0.8630          0.3632          0.0811    0.0000\n",
            "117    0.0315            0.9743           0.8425      0.3751               0.8562          0.3698          0.0821    0.0000\n",
            "118    0.0315            0.9726           0.8356      0.3787               0.8356          0.3869          0.0673    0.0000\n",
            "119    0.0322            0.9623           0.8493      0.4223               0.8699          0.4070          0.1003    0.0000\n",
            "---  --------  ----------------  ---------------  ----------  -------------------  --------------  --------------  --------\n",
            "  i         t    train/accuracy    test/accuracy    test/nll    test/ens_accuracy    test/ens_nll    test/ens_ece        lr\n",
            "---  --------  ----------------  ---------------  ----------  -------------------  --------------  --------------  --------\n",
            "120    0.0324            0.9760           0.8356      0.3619               0.8425          0.3549          0.0675    0.0000\n",
            "121    0.0322            0.9777           0.8356      0.3616               0.8493          0.3488          0.0678    0.0000\n",
            "122    0.0320            0.9760           0.8288      0.3667               0.8493          0.3576          0.0598    0.0000\n",
            "123    0.0320            0.9811           0.8630      0.3811               0.8699          0.3604          0.0785    0.0000\n",
            "124    0.0315            0.9811           0.8630      0.3778               0.8562          0.3672          0.0758    0.0000\n",
            "125    0.0331            0.9777           0.8288      0.3622               0.8288          0.3572          0.0845    0.0000\n",
            "126    0.0313            0.9777           0.8493      0.3648               0.8425          0.3568          0.0841    0.0000\n",
            "127    0.0321            0.9605           0.8562      0.4350               0.8562          0.4035          0.1115    0.0000\n",
            "128    0.0322            0.9760           0.8493      0.3721               0.8151          0.4078          0.0946    0.0000\n",
            "129    0.0309            0.9760           0.8288      0.3690               0.8630          0.3554          0.0791    0.0000\n",
            "130    0.0323            0.9777           0.8425      0.4092               0.8562          0.3790          0.0738    0.0000\n",
            "131    0.0323            0.9760           0.8425      0.3848               0.8425          0.3900          0.0830    0.0000\n"
          ]
        }
      ]
    },
    {
      "cell_type": "code",
      "source": [
        "!python3 bnn_hmc/scripts/run_vi.py --seed=1 --weight_decay=5. --dir=runs/vi/mirabestc/ \\\n",
        "  --dataset_name=mirabest/confident --model_name=lenet \\\n",
        "  --init_step_size=1e-4 --num_epochs=200 --eval_freq=5 --batch_size=53 --patience 10\\\n",
        "  --save_freq=300 --optimizer=Adam \\\n",
        "  --vi_sigma_init=0.01 --temperature=1. --vi_ensemble_size=20 --eval_split=test --image_size=64"
      ],
      "metadata": {
        "id": "uwW4MiQ25WDy",
        "outputId": "227e7ad7-66d4-4ed1-cb9b-8dfb0fa577bc",
        "colab": {
          "base_uri": "https://localhost:8080/"
        }
      },
      "execution_count": 8,
      "outputs": [
        {
          "output_type": "stream",
          "name": "stdout",
          "text": [
            "JAX sees the following devices: [GpuDevice(id=0, process_index=0)]\n",
            "TF sees the following devices: [PhysicalDevice(name='/physical_device:CPU:0', device_type='CPU')]\n",
            "Continuing the run from the last saved checkpoint\n",
            "bnn_hmc/scripts/run_vi.py:246: VisibleDeprecationWarning: Creating an ndarray from ragged nested sequences (which is a list-or-tuple of lists-or-tuples-or ndarrays with different lengths or shapes) is deprecated. If you meant to do this, you must specify 'dtype=object' when creating the ndarray.\n",
            "  vi_ensemble_predict_fn(net_apply, params, net_state, test_set))\n",
            "{'accuracy': DeviceArray(0.87500006, dtype=float32), 'nll': 0.27393287, 'ece': 0.05458591362604729}\n"
          ]
        }
      ]
    },
    {
      "cell_type": "code",
      "source": [
        "accuracies = []\n",
        "nlls = []\n",
        "eces = []\n",
        "softmax = []\n",
        "for i, root in enumerate(glob.glob('/content/runs/vi/mirabestc/*/')):\n",
        "  data = np.load(root + '/test_set.npy')  \n",
        "  softmax = np.squeeze(np.load(root + '/predictions.npy'))\n",
        "  metrics = np.load(root + '/metrics.npy', allow_pickle=True)\n",
        "  accuracies.append(metrics.item()['accuracy'])\n",
        "  nlls.append(metrics.item()['nll'])\n",
        "  eces.append(metrics.item()['ece'])\n",
        "print('Accuracy', np.mean(accuracies), np.std(accuracies))\n",
        "print('NLL', np.mean(nlls), np.std(nlls))\n",
        "print('ECE', np.mean(eces), np.std(eces))"
      ],
      "metadata": {
        "id": "rimSQy4KXAfV",
        "colab": {
          "base_uri": "https://localhost:8080/"
        },
        "outputId": "79a2c759-037e-492d-e9e4-e91412689e0f"
      },
      "execution_count": 9,
      "outputs": [
        {
          "output_type": "stream",
          "name": "stdout",
          "text": [
            "Accuracy 0.87500006 0.0\n",
            "NLL 0.27393287 0.0\n",
            "ECE 0.05458591362604729 0.0\n"
          ]
        }
      ]
    },
    {
      "cell_type": "code",
      "source": [
        "print('Ensemble accuracy', np.sum(np.argmax(np.mean(softmax, axis=0), axis=-1) == data) / softmax.shape[1])"
      ],
      "metadata": {
        "id": "hFiV7yCqkgqR",
        "outputId": "93b186b4-a207-46d7-ca35-b374a56d46f3",
        "colab": {
          "base_uri": "https://localhost:8080/"
        }
      },
      "execution_count": 10,
      "outputs": [
        {
          "output_type": "stream",
          "name": "stdout",
          "text": [
            "Ensemble accuracy 0.875\n"
          ]
        }
      ]
    },
    {
      "cell_type": "code",
      "source": [
        "def uncertainty(softmax):\n",
        "  # Per example softmax with shape(num_examples, num_classes)\n",
        "  predictive_entropy = 0\n",
        "  single_pass_entropy = 0\n",
        "  for i in range(softmax.shape[1]):\n",
        "    # Sum over classes\n",
        "    predictive_entropy += -np.mean(softmax[:,i])*np.log(np.mean(softmax[:,i]))\n",
        "    single_pass_entropy += -softmax[:,i]*np.log(softmax[:,i])\n",
        "  single_pass_entropy = np.mean(single_pass_entropy)\n",
        "  mutual_info = predictive_entropy - single_pass_entropy\n",
        "  return predictive_entropy, single_pass_entropy, mutual_info"
      ],
      "metadata": {
        "id": "Sh9QOtbn7YjW"
      },
      "execution_count": 11,
      "outputs": []
    },
    {
      "cell_type": "code",
      "source": [
        "predictive_entropies = [] \n",
        "single_pass_entropies = []\n",
        "mutual_infos = []\n",
        "for i in range(softmax.shape[1]):\n",
        "  predictive_entropy, single_pass_entropy, mutual_info = uncertainty(softmax[:,i,:])\n",
        "  predictive_entropies.append(predictive_entropy)\n",
        "  single_pass_entropies.append(single_pass_entropy)\n",
        "  mutual_infos.append(mutual_info)\n",
        "print('Predictive entropy:', np.mean(predictive_entropies), np.std(predictive_entropies))\n",
        "print('Single pass entropy:', np.mean(single_pass_entropies), np.std(single_pass_entropies))\n",
        "print('Mutual info:', np.mean(mutual_infos), np.std(mutual_infos))"
      ],
      "metadata": {
        "id": "ZxJ_3dBm84-Q",
        "outputId": "fe69aef5-cf6f-4c8b-e75b-143ca3e99b31",
        "colab": {
          "base_uri": "https://localhost:8080/"
        }
      },
      "execution_count": 12,
      "outputs": [
        {
          "output_type": "stream",
          "name": "stdout",
          "text": [
            "Predictive entropy: 0.3070552674523172 0.2340306137553394\n",
            "Single pass entropy: 0.2705673 0.20309389\n",
            "Mutual info: 0.03648796909594519 0.03551029272517334\n"
          ]
        }
      ]
    },
    {
      "cell_type": "code",
      "source": [
        "sns.boxplot(predictive_entropies)\n",
        "plt.show()"
      ],
      "metadata": {
        "id": "Lgr7kpI187ez",
        "outputId": "c6c7c6d5-4813-4a8d-962c-467031c42efb",
        "colab": {
          "base_uri": "https://localhost:8080/",
          "height": 321
        }
      },
      "execution_count": 13,
      "outputs": [
        {
          "output_type": "stream",
          "name": "stderr",
          "text": [
            "/usr/local/lib/python3.7/dist-packages/seaborn/_decorators.py:43: FutureWarning: Pass the following variable as a keyword arg: x. From version 0.12, the only valid positional argument will be `data`, and passing other arguments without an explicit keyword will result in an error or misinterpretation.\n",
            "  FutureWarning\n"
          ]
        },
        {
          "output_type": "display_data",
          "data": {
            "text/plain": [
              "<Figure size 432x288 with 1 Axes>"
            ],
            "image/png": "[encoded data removed]"
          },
          "metadata": {
            "needs_background": "light"
          }
        }
      ]
    },
    {
      "cell_type": "code",
      "source": [
        "sns.boxplot(single_pass_entropies)\n",
        "plt.show()"
      ],
      "metadata": {
        "id": "p39VLjKl9Alq",
        "outputId": "77dcfc7c-6dc6-4521-f3d0-88c47177d5ca",
        "colab": {
          "base_uri": "https://localhost:8080/",
          "height": 321
        }
      },
      "execution_count": 14,
      "outputs": [
        {
          "output_type": "stream",
          "name": "stderr",
          "text": [
            "/usr/local/lib/python3.7/dist-packages/seaborn/_decorators.py:43: FutureWarning: Pass the following variable as a keyword arg: x. From version 0.12, the only valid positional argument will be `data`, and passing other arguments without an explicit keyword will result in an error or misinterpretation.\n",
            "  FutureWarning\n"
          ]
        },
        {
          "output_type": "display_data",
          "data": {
            "text/plain": [
              "<Figure size 432x288 with 1 Axes>"
            ],
            "image/png": "[encoded data removed]"
          },
          "metadata": {
            "needs_background": "light"
          }
        }
      ]
    },
    {
      "cell_type": "code",
      "source": [
        "sns.boxplot(mutual_infos)\n",
        "plt.show()"
      ],
      "metadata": {
        "id": "dxFm-R6G9Kmn",
        "outputId": "168a6d11-f454-4149-9119-4f4547598ab2",
        "colab": {
          "base_uri": "https://localhost:8080/",
          "height": 321
        }
      },
      "execution_count": 15,
      "outputs": [
        {
          "output_type": "stream",
          "name": "stderr",
          "text": [
            "/usr/local/lib/python3.7/dist-packages/seaborn/_decorators.py:43: FutureWarning: Pass the following variable as a keyword arg: x. From version 0.12, the only valid positional argument will be `data`, and passing other arguments without an explicit keyword will result in an error or misinterpretation.\n",
            "  FutureWarning\n"
          ]
        },
        {
          "output_type": "display_data",
          "data": {
            "text/plain": [
              "<Figure size 432x288 with 1 Axes>"
            ],
            "image/png": "[encoded data removed]"
          },
          "metadata": {
            "needs_background": "light"
          }
        }
      ]
    }
  ]
}