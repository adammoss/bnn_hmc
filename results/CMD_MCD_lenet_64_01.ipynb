{
  "nbformat": 4,
  "nbformat_minor": 0,
  "metadata": {
    "colab": {
      "name": "CMD_MCD_lenet_64_01.ipynb",
      "provenance": [],
      "authorship_tag": "ABX9TyMTQ7smdy4kypRLI4DIttrD",
      "include_colab_link": true
    },
    "kernelspec": {
      "name": "python3",
      "display_name": "Python 3"
    },
    "language_info": {
      "name": "python"
    },
    "accelerator": "GPU",
    "gpuClass": "standard"
  },
  "cells": [
    {
      "cell_type": "markdown",
      "metadata": {
        "id": "view-in-github",
        "colab_type": "text"
      },
      "source": [
        "<a href=\"https://colab.research.google.com/github/adammoss/bnn_hmc/blob/main/results/CMD_MCD_lenet_64_01.ipynb\" target=\"_parent\"><img src=\"https://colab.research.google.com/assets/colab-badge.svg\" alt=\"Open In Colab\"/></a>"
      ]
    },
    {
      "cell_type": "code",
      "execution_count": 1,
      "metadata": {
        "id": "pKwEMxwzWa02"
      },
      "outputs": [],
      "source": [
        "import os\n",
        "import sys\n",
        "import shutil\n",
        "import subprocess\n",
        "import glob\n",
        "import matplotlib.pyplot as plt\n",
        "import seaborn as sns\n",
        "import numpy as np"
      ]
    },
    {
      "cell_type": "code",
      "source": [
        "!nvidia-smi"
      ],
      "metadata": {
        "colab": {
          "base_uri": "https://localhost:8080/"
        },
        "id": "sMBIXrkLZAt9",
        "outputId": "a4b335cd-bfdf-46ff-ad9d-91a890d648d5"
      },
      "execution_count": 2,
      "outputs": [
        {
          "output_type": "stream",
          "name": "stdout",
          "text": [
            "Tue Aug 23 16:53:45 2022       \n",
            "+-----------------------------------------------------------------------------+\n",
            "| NVIDIA-SMI 460.32.03    Driver Version: 460.32.03    CUDA Version: 11.2     |\n",
            "|-------------------------------+----------------------+----------------------+\n",
            "| GPU  Name        Persistence-M| Bus-Id        Disp.A | Volatile Uncorr. ECC |\n",
            "| Fan  Temp  Perf  Pwr:Usage/Cap|         Memory-Usage | GPU-Util  Compute M. |\n",
            "|                               |                      |               MIG M. |\n",
            "|===============================+======================+======================|\n",
            "|   0  A100-SXM4-40GB      Off  | 00000000:00:04.0 Off |                    0 |\n",
            "| N/A   34C    P0    42W / 400W |      0MiB / 40536MiB |      0%      Default |\n",
            "|                               |                      |             Disabled |\n",
            "+-------------------------------+----------------------+----------------------+\n",
            "                                                                               \n",
            "+-----------------------------------------------------------------------------+\n",
            "| Processes:                                                                  |\n",
            "|  GPU   GI   CI        PID   Type   Process name                  GPU Memory |\n",
            "|        ID   ID                                                   Usage      |\n",
            "|=============================================================================|\n",
            "|  No running processes found                                                 |\n",
            "+-----------------------------------------------------------------------------+\n"
          ]
        }
      ]
    },
    {
      "cell_type": "code",
      "source": [
        "!pip install astro-datasets --upgrade\n",
        "!pip install tensorflow_datasets --upgrade"
      ],
      "metadata": {
        "colab": {
          "base_uri": "https://localhost:8080/"
        },
        "id": "7tvZXaoMZC9y",
        "outputId": "b93fe5ab-864c-4d70-e3d2-aa6adb1633fa"
      },
      "execution_count": 3,
      "outputs": [
        {
          "output_type": "stream",
          "name": "stdout",
          "text": [
            "Looking in indexes: https://pypi.org/simple, https://us-python.pkg.dev/colab-wheels/public/simple/\n",
            "Requirement already satisfied: astro-datasets in /usr/local/lib/python3.7/dist-packages (0.0.10)\n",
            "Requirement already satisfied: tensorflow-datasets in /usr/local/lib/python3.7/dist-packages (from astro-datasets) (4.6.0)\n",
            "Requirement already satisfied: pandas in /usr/local/lib/python3.7/dist-packages (from astro-datasets) (1.3.5)\n",
            "Requirement already satisfied: numpy in /usr/local/lib/python3.7/dist-packages (from astro-datasets) (1.21.6)\n",
            "Requirement already satisfied: tensorflow in /usr/local/lib/python3.7/dist-packages (from astro-datasets) (2.8.2+zzzcolab20220719082949)\n",
            "Requirement already satisfied: pytz>=2017.3 in /usr/local/lib/python3.7/dist-packages (from pandas->astro-datasets) (2022.2.1)\n",
            "Requirement already satisfied: python-dateutil>=2.7.3 in /usr/local/lib/python3.7/dist-packages (from pandas->astro-datasets) (2.8.2)\n",
            "Requirement already satisfied: six>=1.5 in /usr/local/lib/python3.7/dist-packages (from python-dateutil>=2.7.3->pandas->astro-datasets) (1.15.0)\n",
            "Requirement already satisfied: typing-extensions>=3.6.6 in /usr/local/lib/python3.7/dist-packages (from tensorflow->astro-datasets) (4.1.1)\n",
            "Requirement already satisfied: libclang>=9.0.1 in /usr/local/lib/python3.7/dist-packages (from tensorflow->astro-datasets) (14.0.6)\n",
            "Requirement already satisfied: keras-preprocessing>=1.1.1 in /usr/local/lib/python3.7/dist-packages (from tensorflow->astro-datasets) (1.1.2)\n",
            "Requirement already satisfied: google-pasta>=0.1.1 in /usr/local/lib/python3.7/dist-packages (from tensorflow->astro-datasets) (0.2.0)\n",
            "Requirement already satisfied: opt-einsum>=2.3.2 in /usr/local/lib/python3.7/dist-packages (from tensorflow->astro-datasets) (3.3.0)\n",
            "Requirement already satisfied: astunparse>=1.6.0 in /usr/local/lib/python3.7/dist-packages (from tensorflow->astro-datasets) (1.6.3)\n",
            "Requirement already satisfied: wrapt>=1.11.0 in /usr/local/lib/python3.7/dist-packages (from tensorflow->astro-datasets) (1.14.1)\n",
            "Requirement already satisfied: tensorboard<2.9,>=2.8 in /usr/local/lib/python3.7/dist-packages (from tensorflow->astro-datasets) (2.8.0)\n",
            "Requirement already satisfied: termcolor>=1.1.0 in /usr/local/lib/python3.7/dist-packages (from tensorflow->astro-datasets) (1.1.0)\n",
            "Requirement already satisfied: absl-py>=0.4.0 in /usr/local/lib/python3.7/dist-packages (from tensorflow->astro-datasets) (1.2.0)\n",
            "Requirement already satisfied: protobuf<3.20,>=3.9.2 in /usr/local/lib/python3.7/dist-packages (from tensorflow->astro-datasets) (3.17.3)\n",
            "Requirement already satisfied: gast>=0.2.1 in /usr/local/lib/python3.7/dist-packages (from tensorflow->astro-datasets) (0.5.3)\n",
            "Requirement already satisfied: flatbuffers>=1.12 in /usr/local/lib/python3.7/dist-packages (from tensorflow->astro-datasets) (2.0)\n",
            "Requirement already satisfied: h5py>=2.9.0 in /usr/local/lib/python3.7/dist-packages (from tensorflow->astro-datasets) (3.1.0)\n",
            "Requirement already satisfied: tensorflow-io-gcs-filesystem>=0.23.1 in /usr/local/lib/python3.7/dist-packages (from tensorflow->astro-datasets) (0.26.0)\n",
            "Requirement already satisfied: setuptools in /usr/local/lib/python3.7/dist-packages (from tensorflow->astro-datasets) (57.4.0)\n",
            "Requirement already satisfied: tensorflow-estimator<2.9,>=2.8 in /usr/local/lib/python3.7/dist-packages (from tensorflow->astro-datasets) (2.8.0)\n",
            "Requirement already satisfied: keras<2.9,>=2.8.0rc0 in /usr/local/lib/python3.7/dist-packages (from tensorflow->astro-datasets) (2.8.0)\n",
            "Requirement already satisfied: grpcio<2.0,>=1.24.3 in /usr/local/lib/python3.7/dist-packages (from tensorflow->astro-datasets) (1.47.0)\n",
            "Requirement already satisfied: wheel<1.0,>=0.23.0 in /usr/local/lib/python3.7/dist-packages (from astunparse>=1.6.0->tensorflow->astro-datasets) (0.37.1)\n",
            "Requirement already satisfied: cached-property in /usr/local/lib/python3.7/dist-packages (from h5py>=2.9.0->tensorflow->astro-datasets) (1.5.2)\n",
            "Requirement already satisfied: tensorboard-data-server<0.7.0,>=0.6.0 in /usr/local/lib/python3.7/dist-packages (from tensorboard<2.9,>=2.8->tensorflow->astro-datasets) (0.6.1)\n",
            "Requirement already satisfied: google-auth-oauthlib<0.5,>=0.4.1 in /usr/local/lib/python3.7/dist-packages (from tensorboard<2.9,>=2.8->tensorflow->astro-datasets) (0.4.6)\n",
            "Requirement already satisfied: markdown>=2.6.8 in /usr/local/lib/python3.7/dist-packages (from tensorboard<2.9,>=2.8->tensorflow->astro-datasets) (3.4.1)\n",
            "Requirement already satisfied: requests<3,>=2.21.0 in /usr/local/lib/python3.7/dist-packages (from tensorboard<2.9,>=2.8->tensorflow->astro-datasets) (2.23.0)\n",
            "Requirement already satisfied: tensorboard-plugin-wit>=1.6.0 in /usr/local/lib/python3.7/dist-packages (from tensorboard<2.9,>=2.8->tensorflow->astro-datasets) (1.8.1)\n",
            "Requirement already satisfied: werkzeug>=0.11.15 in /usr/local/lib/python3.7/dist-packages (from tensorboard<2.9,>=2.8->tensorflow->astro-datasets) (1.0.1)\n",
            "Requirement already satisfied: google-auth<3,>=1.6.3 in /usr/local/lib/python3.7/dist-packages (from tensorboard<2.9,>=2.8->tensorflow->astro-datasets) (1.35.0)\n",
            "Requirement already satisfied: cachetools<5.0,>=2.0.0 in /usr/local/lib/python3.7/dist-packages (from google-auth<3,>=1.6.3->tensorboard<2.9,>=2.8->tensorflow->astro-datasets) (4.2.4)\n",
            "Requirement already satisfied: pyasn1-modules>=0.2.1 in /usr/local/lib/python3.7/dist-packages (from google-auth<3,>=1.6.3->tensorboard<2.9,>=2.8->tensorflow->astro-datasets) (0.2.8)\n",
            "Requirement already satisfied: rsa<5,>=3.1.4 in /usr/local/lib/python3.7/dist-packages (from google-auth<3,>=1.6.3->tensorboard<2.9,>=2.8->tensorflow->astro-datasets) (4.9)\n",
            "Requirement already satisfied: requests-oauthlib>=0.7.0 in /usr/local/lib/python3.7/dist-packages (from google-auth-oauthlib<0.5,>=0.4.1->tensorboard<2.9,>=2.8->tensorflow->astro-datasets) (1.3.1)\n",
            "Requirement already satisfied: importlib-metadata>=4.4 in /usr/local/lib/python3.7/dist-packages (from markdown>=2.6.8->tensorboard<2.9,>=2.8->tensorflow->astro-datasets) (4.12.0)\n",
            "Requirement already satisfied: zipp>=0.5 in /usr/local/lib/python3.7/dist-packages (from importlib-metadata>=4.4->markdown>=2.6.8->tensorboard<2.9,>=2.8->tensorflow->astro-datasets) (3.8.1)\n",
            "Requirement already satisfied: pyasn1<0.5.0,>=0.4.6 in /usr/local/lib/python3.7/dist-packages (from pyasn1-modules>=0.2.1->google-auth<3,>=1.6.3->tensorboard<2.9,>=2.8->tensorflow->astro-datasets) (0.4.8)\n",
            "Requirement already satisfied: certifi>=2017.4.17 in /usr/local/lib/python3.7/dist-packages (from requests<3,>=2.21.0->tensorboard<2.9,>=2.8->tensorflow->astro-datasets) (2022.6.15)\n",
            "Requirement already satisfied: urllib3!=1.25.0,!=1.25.1,<1.26,>=1.21.1 in /usr/local/lib/python3.7/dist-packages (from requests<3,>=2.21.0->tensorboard<2.9,>=2.8->tensorflow->astro-datasets) (1.24.3)\n",
            "Requirement already satisfied: idna<3,>=2.5 in /usr/local/lib/python3.7/dist-packages (from requests<3,>=2.21.0->tensorboard<2.9,>=2.8->tensorflow->astro-datasets) (2.10)\n",
            "Requirement already satisfied: chardet<4,>=3.0.2 in /usr/local/lib/python3.7/dist-packages (from requests<3,>=2.21.0->tensorboard<2.9,>=2.8->tensorflow->astro-datasets) (3.0.4)\n",
            "Requirement already satisfied: oauthlib>=3.0.0 in /usr/local/lib/python3.7/dist-packages (from requests-oauthlib>=0.7.0->google-auth-oauthlib<0.5,>=0.4.1->tensorboard<2.9,>=2.8->tensorflow->astro-datasets) (3.2.0)\n",
            "Requirement already satisfied: etils[epath] in /usr/local/lib/python3.7/dist-packages (from tensorflow-datasets->astro-datasets) (0.7.1)\n",
            "Requirement already satisfied: tqdm in /usr/local/lib/python3.7/dist-packages (from tensorflow-datasets->astro-datasets) (4.64.0)\n",
            "Requirement already satisfied: dill in /usr/local/lib/python3.7/dist-packages (from tensorflow-datasets->astro-datasets) (0.3.5.1)\n",
            "Requirement already satisfied: promise in /usr/local/lib/python3.7/dist-packages (from tensorflow-datasets->astro-datasets) (2.3)\n",
            "Requirement already satisfied: importlib-resources in /usr/local/lib/python3.7/dist-packages (from tensorflow-datasets->astro-datasets) (5.9.0)\n",
            "Requirement already satisfied: tensorflow-metadata in /usr/local/lib/python3.7/dist-packages (from tensorflow-datasets->astro-datasets) (1.9.0)\n",
            "Requirement already satisfied: toml in /usr/local/lib/python3.7/dist-packages (from tensorflow-datasets->astro-datasets) (0.10.2)\n",
            "Requirement already satisfied: googleapis-common-protos<2,>=1.52.0 in /usr/local/lib/python3.7/dist-packages (from tensorflow-metadata->tensorflow-datasets->astro-datasets) (1.56.4)\n",
            "Looking in indexes: https://pypi.org/simple, https://us-python.pkg.dev/colab-wheels/public/simple/\n",
            "Requirement already satisfied: tensorflow_datasets in /usr/local/lib/python3.7/dist-packages (4.6.0)\n",
            "Requirement already satisfied: absl-py in /usr/local/lib/python3.7/dist-packages (from tensorflow_datasets) (1.2.0)\n",
            "Requirement already satisfied: protobuf>=3.12.2 in /usr/local/lib/python3.7/dist-packages (from tensorflow_datasets) (3.17.3)\n",
            "Requirement already satisfied: typing-extensions in /usr/local/lib/python3.7/dist-packages (from tensorflow_datasets) (4.1.1)\n",
            "Requirement already satisfied: toml in /usr/local/lib/python3.7/dist-packages (from tensorflow_datasets) (0.10.2)\n",
            "Requirement already satisfied: tqdm in /usr/local/lib/python3.7/dist-packages (from tensorflow_datasets) (4.64.0)\n",
            "Requirement already satisfied: requests>=2.19.0 in /usr/local/lib/python3.7/dist-packages (from tensorflow_datasets) (2.23.0)\n",
            "Requirement already satisfied: six in /usr/local/lib/python3.7/dist-packages (from tensorflow_datasets) (1.15.0)\n",
            "Requirement already satisfied: termcolor in /usr/local/lib/python3.7/dist-packages (from tensorflow_datasets) (1.1.0)\n",
            "Requirement already satisfied: promise in /usr/local/lib/python3.7/dist-packages (from tensorflow_datasets) (2.3)\n",
            "Requirement already satisfied: importlib-resources in /usr/local/lib/python3.7/dist-packages (from tensorflow_datasets) (5.9.0)\n",
            "Requirement already satisfied: numpy in /usr/local/lib/python3.7/dist-packages (from tensorflow_datasets) (1.21.6)\n",
            "Requirement already satisfied: tensorflow-metadata in /usr/local/lib/python3.7/dist-packages (from tensorflow_datasets) (1.9.0)\n",
            "Requirement already satisfied: dill in /usr/local/lib/python3.7/dist-packages (from tensorflow_datasets) (0.3.5.1)\n",
            "Requirement already satisfied: etils[epath] in /usr/local/lib/python3.7/dist-packages (from tensorflow_datasets) (0.7.1)\n",
            "Requirement already satisfied: chardet<4,>=3.0.2 in /usr/local/lib/python3.7/dist-packages (from requests>=2.19.0->tensorflow_datasets) (3.0.4)\n",
            "Requirement already satisfied: urllib3!=1.25.0,!=1.25.1,<1.26,>=1.21.1 in /usr/local/lib/python3.7/dist-packages (from requests>=2.19.0->tensorflow_datasets) (1.24.3)\n",
            "Requirement already satisfied: certifi>=2017.4.17 in /usr/local/lib/python3.7/dist-packages (from requests>=2.19.0->tensorflow_datasets) (2022.6.15)\n",
            "Requirement already satisfied: idna<3,>=2.5 in /usr/local/lib/python3.7/dist-packages (from requests>=2.19.0->tensorflow_datasets) (2.10)\n",
            "Requirement already satisfied: zipp in /usr/local/lib/python3.7/dist-packages (from etils[epath]->tensorflow_datasets) (3.8.1)\n",
            "Requirement already satisfied: googleapis-common-protos<2,>=1.52.0 in /usr/local/lib/python3.7/dist-packages (from tensorflow-metadata->tensorflow_datasets) (1.56.4)\n"
          ]
        }
      ]
    },
    {
      "cell_type": "code",
      "source": [
        "shutil.rmtree('bnn_hmc', ignore_errors=True)"
      ],
      "metadata": {
        "id": "W-BbevwMZIfm"
      },
      "execution_count": 4,
      "outputs": []
    },
    {
      "cell_type": "code",
      "source": [
        "!git clone https://github.com/adammoss/bnn_hmc"
      ],
      "metadata": {
        "colab": {
          "base_uri": "https://localhost:8080/"
        },
        "id": "ufAQtnqiZMRg",
        "outputId": "808f3007-6fb7-4509-be6f-379547c2e006"
      },
      "execution_count": 5,
      "outputs": [
        {
          "output_type": "stream",
          "name": "stdout",
          "text": [
            "Cloning into 'bnn_hmc'...\n",
            "remote: Enumerating objects: 475, done.\u001b[K\n",
            "remote: Counting objects: 100% (187/187), done.\u001b[K\n",
            "remote: Compressing objects: 100% (129/129), done.\u001b[K\n",
            "remote: Total 475 (delta 133), reused 93 (delta 58), pack-reused 288\u001b[K\n",
            "Receiving objects: 100% (475/475), 894.05 KiB | 11.76 MiB/s, done.\n",
            "Resolving deltas: 100% (327/327), done.\n"
          ]
        }
      ]
    },
    {
      "cell_type": "code",
      "source": [
        "!cd bnn_hmc && git checkout dropout_wip"
      ],
      "metadata": {
        "colab": {
          "base_uri": "https://localhost:8080/"
        },
        "id": "K2BbPCiPZ8uN",
        "outputId": "1ee7cb4d-e687-46c5-c1e4-f1ba27a0da38"
      },
      "execution_count": 6,
      "outputs": [
        {
          "output_type": "stream",
          "name": "stdout",
          "text": [
            "Branch 'dropout_wip' set up to track remote branch 'dropout_wip' from 'origin'.\n",
            "Switched to a new branch 'dropout_wip'\n"
          ]
        }
      ]
    },
    {
      "cell_type": "code",
      "source": [
        "# https://storage.googleapis.com/jax-releases/jax_cuda_releases.html\n",
        "!pip install --upgrade https://storage.googleapis.com/jax-releases/cuda111/jaxlib-0.1.65+cuda111-cp37-none-manylinux2010_x86_64.whl\n",
        "!pip install jax==0.2.12\n",
        "!pip install dm-haiku==0.0.5.dev0 optax==0.0.6 chex==0.0.6"
      ],
      "metadata": {
        "colab": {
          "base_uri": "https://localhost:8080/"
        },
        "id": "xzrw4ayTZODp",
        "outputId": "4de8faec-24ad-4c46-94f8-efc6d0b72303"
      },
      "execution_count": 7,
      "outputs": [
        {
          "output_type": "stream",
          "name": "stdout",
          "text": [
            "Looking in indexes: https://pypi.org/simple, https://us-python.pkg.dev/colab-wheels/public/simple/\n",
            "Collecting jaxlib==0.1.65+cuda111\n",
            "  Using cached https://storage.googleapis.com/jax-releases/cuda111/jaxlib-0.1.65+cuda111-cp37-none-manylinux2010_x86_64.whl (189.4 MB)\n",
            "Requirement already satisfied: numpy>=1.16 in /usr/local/lib/python3.7/dist-packages (from jaxlib==0.1.65+cuda111) (1.21.6)\n",
            "Requirement already satisfied: scipy in /usr/local/lib/python3.7/dist-packages (from jaxlib==0.1.65+cuda111) (1.7.3)\n",
            "Requirement already satisfied: absl-py in /usr/local/lib/python3.7/dist-packages (from jaxlib==0.1.65+cuda111) (1.2.0)\n",
            "Requirement already satisfied: flatbuffers in /usr/local/lib/python3.7/dist-packages (from jaxlib==0.1.65+cuda111) (2.0)\n",
            "Looking in indexes: https://pypi.org/simple, https://us-python.pkg.dev/colab-wheels/public/simple/\n",
            "Requirement already satisfied: jax==0.2.12 in /usr/local/lib/python3.7/dist-packages (0.2.12)\n",
            "Requirement already satisfied: absl-py in /usr/local/lib/python3.7/dist-packages (from jax==0.2.12) (1.2.0)\n",
            "Requirement already satisfied: numpy>=1.12 in /usr/local/lib/python3.7/dist-packages (from jax==0.2.12) (1.21.6)\n",
            "Requirement already satisfied: opt-einsum in /usr/local/lib/python3.7/dist-packages (from jax==0.2.12) (3.3.0)\n",
            "Looking in indexes: https://pypi.org/simple, https://us-python.pkg.dev/colab-wheels/public/simple/\n",
            "Requirement already satisfied: dm-haiku==0.0.5.dev0 in /usr/local/lib/python3.7/dist-packages (0.0.5.dev0)\n",
            "Requirement already satisfied: optax==0.0.6 in /usr/local/lib/python3.7/dist-packages (0.0.6)\n",
            "Requirement already satisfied: chex==0.0.6 in /usr/local/lib/python3.7/dist-packages (0.0.6)\n",
            "Requirement already satisfied: tabulate>=0.8.9 in /usr/local/lib/python3.7/dist-packages (from dm-haiku==0.0.5.dev0) (0.8.10)\n",
            "Requirement already satisfied: numpy>=1.18.0 in /usr/local/lib/python3.7/dist-packages (from dm-haiku==0.0.5.dev0) (1.21.6)\n",
            "Requirement already satisfied: typing-extensions in /usr/local/lib/python3.7/dist-packages (from dm-haiku==0.0.5.dev0) (4.1.1)\n",
            "Requirement already satisfied: absl-py>=0.7.1 in /usr/local/lib/python3.7/dist-packages (from dm-haiku==0.0.5.dev0) (1.2.0)\n",
            "Requirement already satisfied: jax>=0.1.55 in /usr/local/lib/python3.7/dist-packages (from optax==0.0.6) (0.2.12)\n",
            "Requirement already satisfied: jaxlib>=0.1.37 in /usr/local/lib/python3.7/dist-packages (from optax==0.0.6) (0.1.65+cuda111)\n",
            "Requirement already satisfied: toolz>=0.9.0 in /usr/local/lib/python3.7/dist-packages (from chex==0.0.6) (0.12.0)\n",
            "Requirement already satisfied: dm-tree>=0.1.5 in /usr/local/lib/python3.7/dist-packages (from chex==0.0.6) (0.1.7)\n",
            "Requirement already satisfied: opt-einsum in /usr/local/lib/python3.7/dist-packages (from jax>=0.1.55->optax==0.0.6) (3.3.0)\n",
            "Requirement already satisfied: flatbuffers in /usr/local/lib/python3.7/dist-packages (from jaxlib>=0.1.37->optax==0.0.6) (2.0)\n",
            "Requirement already satisfied: scipy in /usr/local/lib/python3.7/dist-packages (from jaxlib>=0.1.37->optax==0.0.6) (1.7.3)\n"
          ]
        }
      ]
    },
    {
      "cell_type": "code",
      "source": [
        "for i, root in enumerate(glob.glob('/content/runs/*/')):\n",
        "  shutil.rmtree(root, ignore_errors=True)"
      ],
      "metadata": {
        "id": "PqyU4VDRnzyZ"
      },
      "execution_count": 95,
      "outputs": []
    },
    {
      "cell_type": "code",
      "source": [
        "!python3 bnn_hmc/scripts/run_sgd.py --seed=0 --weight_decay=10 --dir=runs/sgd/cmd/ \\\n",
        "--dataset_name=cmd --scaling=asinh --builder_kwargs='{\"simulation\": \"IllustrisTNG\", \"field\": \"Mtot\", \"parameters\": [\"omegam\"]}' \\\n",
        "--model_name=lenet_dropout --init_step_size=1e-7 --num_epochs=100 --eval_freq=5 \\\n",
        "--batch_size=100 --image_size 64 --save_freq=5 --optimizer=SGD --train_split=train[:90%] --test_split=train[90%:95%] \\\n",
        "--patience 50 --dropout_rate 0.1"
      ],
      "metadata": {
        "colab": {
          "base_uri": "https://localhost:8080/"
        },
        "id": "uPxhkD9xZO8x",
        "outputId": "ab531569-7291-449b-d4b2-afda2b0f9cfe"
      },
      "execution_count": 96,
      "outputs": [
        {
          "output_type": "stream",
          "name": "stdout",
          "text": [
            "JAX sees the following devices: [GpuDevice(id=0, process_index=0)]\n",
            "TF sees the following devices: [PhysicalDevice(name='/physical_device:CPU:0', device_type='CPU')]\n",
            "tcmalloc: large alloc 1183137792 bytes == 0xe8e1a000 @  0x7efed5b30887 0x7efec3c357ce 0x7efec3c3a2c2 0x7efec3c408a2 0x7efec3c40e7d 0x7efec3c411e9 0x7efec3232f11 0x7efec322e19f 0x7efec3749d01 0x7efec324d594 0x7efec324e126 0x7efec2963a69 0x7efec295d4e0 0x7efec2967a3c 0x7efec2957ba6 0x7efec2724fa5 0x7efec271a961 0x593784 0x594731 0x548cc1 0x51566f 0x593dd7 0x5118f8 0x549576 0x593fce 0x548ae9 0x51566f 0x598ef4 0x500d94 0x5a7284 0x5a9cf4\n",
            "Starting from random initialization with provided seed\n",
            "/content/bnn_hmc/bnn_hmc/utils/script_utils.py:153: VisibleDeprecationWarning: Creating an ndarray from ragged nested sequences (which is a list-or-tuple of lists-or-tuples-or ndarrays with different lengths or shapes) is deprecated. If you meant to do this, you must specify 'dtype=object' when creating the ndarray.\n",
            "  predict_fn(net_apply, params, net_state, test_set, key))\n",
            "/content/bnn_hmc/bnn_hmc/utils/script_utils.py:155: VisibleDeprecationWarning: Creating an ndarray from ragged nested sequences (which is a list-or-tuple of lists-or-tuples-or ndarrays with different lengths or shapes) is deprecated. If you meant to do this, you must specify 'dtype=object' when creating the ndarray.\n",
            "  predict_fn(net_apply, params, net_state, train_set, key))\n",
            "---  --------  ------------  -----------  -----------  ----------  ---------------  --------------  --------\n",
            "  i         t    train/rmse    train/nll    test/rmse    test/nll  test/ens_rmse    test/ens_nll          lr\n",
            "---  --------  ------------  -----------  -----------  ----------  ---------------  --------------  --------\n",
            "  0    2.6492        0.1153      -0.1621       0.1167     -0.1605                                     0.0000\n",
            "  1    0.2666        0.1165      -0.7305       0.1177     -0.7202                                     0.0000\n",
            "  2    0.2359        0.1154      -0.7402       0.1169     -0.7273                                     0.0000\n",
            "  3    0.2366        0.1153      -0.7403       0.1167     -0.7287                                     0.0000\n",
            "  4    0.2358        0.1153      -0.7409       0.1168     -0.7283                                     0.0000\n",
            "  5    0.2367        0.1155      -0.7401       0.1168     -0.7293                                     0.0000\n",
            "  6    0.2366        0.0991      -0.8798       0.0984     -0.8908                                     0.0000\n",
            "  7    0.2369        0.1289      -0.1596       0.1283     -0.1748                                     0.0000\n",
            "  8    0.2356        0.1051      -0.6946       0.1048     -0.7006                                     0.0000\n",
            "  9    0.2357        0.0932      -0.9590       0.0955     -0.9353                                     0.0000\n",
            " 10    0.2360        0.1206       0.3068       0.1200      0.2544                                     0.0000\n",
            " 11    0.2364        0.0927      -0.7198       0.0928     -0.7510                                     0.0000\n",
            " 12    0.2362        0.1008      -0.7636       0.1006     -0.7638                                     0.0000\n",
            " 13    0.2364        0.0705      -1.2804       0.0713     -1.2692                                     0.0000\n",
            " 14    0.2360        0.0674      -1.2926       0.0676     -1.2975                                     0.0000\n",
            " 15    0.2358        0.1184      -0.4655       0.1190     -0.4557                                     0.0000\n",
            " 16    0.2366        0.1060      -0.1178       0.1062     -0.1308                                     0.0000\n",
            " 17    0.2363        0.0835      -0.9120       0.0846     -0.8767                                     0.0000\n",
            " 18    0.2363        0.0718      -1.3000       0.0731     -1.2661                                     0.0000\n",
            " 19    0.2377        0.0658      -1.4003       0.0674     -1.3682                                     0.0000\n",
            " 20    0.2374        0.0552      -1.5515       0.0578     -1.4967                                     0.0000\n",
            " 21    0.2369        0.0815      -0.8496       0.0824     -0.7965                                     0.0000\n",
            " 22    0.2354        0.0737      -1.2464       0.0750     -1.2035                                     0.0000\n",
            " 23    0.2355        0.0852      -0.8070       0.0864     -0.7470                                     0.0000\n",
            " 24    0.2358        0.0910      -0.6961       0.0920     -0.6497                                     0.0000\n",
            " 25    0.2366        0.0625      -1.4373       0.0644     -1.3751                                     0.0000\n",
            " 26    0.2366        0.0640      -1.4763       0.0664     -1.4172                                     0.0000\n",
            " 27    0.2368        0.0764      -1.1530       0.0779     -1.0915                                     0.0000\n",
            " 28    0.2361        0.0872      -0.6771       0.0886     -0.6069                                     0.0000\n",
            " 29    0.2369        0.0642      -1.4331       0.0663     -1.3870                                     0.0000\n",
            " 30    0.2365        0.0919      -0.3852       0.0927     -0.3245                                     0.0000\n",
            " 31    0.2370        0.0736      -1.0811       0.0751     -1.0123                                     0.0000\n",
            " 32    0.2362        0.0548      -1.6117       0.0582     -1.5262                                     0.0000\n",
            " 33    0.2366        0.0637      -1.4308       0.0664     -1.3287                                     0.0000\n",
            " 34    0.2355        0.0687      -1.2756       0.0709     -1.1854                                     0.0000\n",
            " 35    0.2356        0.0589      -1.5491       0.0623     -1.4543                                     0.0000\n",
            " 36    0.2362        0.0579      -1.5374       0.0608     -1.4346                                     0.0000\n",
            " 37    0.2356        0.0643      -1.4017       0.0674     -1.2810                                     0.0000\n",
            " 38    0.2358        0.0912      -0.5738       0.0925     -0.5034                                     0.0000\n",
            " 39    0.2360        0.0729      -1.2133       0.0752     -1.1125                                     0.0000\n",
            "---  --------  ------------  -----------  -----------  ----------  ---------------  --------------  --------\n",
            "  i         t    train/rmse    train/nll    test/rmse    test/nll  test/ens_rmse    test/ens_nll          lr\n",
            "---  --------  ------------  -----------  -----------  ----------  ---------------  --------------  --------\n",
            " 40    0.2362        0.0656      -1.3585       0.0685     -1.2410                                     0.0000\n",
            " 41    0.2354        0.0624      -1.4140       0.0657     -1.2928                                     0.0000\n",
            " 42    0.2356        0.0754      -1.0152       0.0778     -0.9356                                     0.0000\n",
            " 43    0.2366        0.0708      -1.1631       0.0735     -1.0304                                     0.0000\n",
            " 44    0.2361        0.0595      -1.4846       0.0632     -1.3782                                     0.0000\n",
            " 45    0.2365        0.0569      -1.5807       0.0606     -1.4586                                     0.0000\n",
            " 46    0.2359        0.0679      -1.2717       0.0710     -1.1581                                     0.0000\n",
            " 47    0.2379        0.0636      -1.3539       0.0667     -1.2196                                     0.0000\n",
            " 48    0.2353        0.0681      -1.2174       0.0714     -1.0610                                     0.0000\n",
            " 49    0.2361        0.0572      -1.5004       0.0614     -1.3377                                     0.0000\n",
            " 50    0.2354        0.0761      -1.0158       0.0788     -0.8835                                     0.0000\n",
            " 51    0.2366        0.0677      -1.2709       0.0707     -1.1227                                     0.0000\n",
            " 52    0.2360        0.0593      -1.5153       0.0634     -1.3502                                     0.0000\n",
            " 53    0.2354        0.0640      -1.3221       0.0674     -1.1377                                     0.0000\n",
            " 54    0.2354        0.0563      -1.5708       0.0608     -1.3964                                     0.0000\n",
            " 55    0.2362        0.0588      -1.5052       0.0631     -1.3260                                     0.0000\n",
            " 56    0.2351        0.0714      -1.1413       0.0746     -0.9768                                     0.0000\n",
            " 57    0.2360        0.0545      -1.6182       0.0594     -1.4533                                     0.0000\n",
            " 58    0.2361        0.0645      -1.3098       0.0685     -1.1075                                     0.0000\n",
            " 59    0.2359        0.0774      -0.7741       0.0806     -0.5952                                     0.0000\n",
            " 60    0.2359        0.0706      -1.0462       0.0743     -0.8884                                     0.0000\n",
            " 61    0.2350        0.0515      -1.7008       0.0569     -1.5095                                     0.0000\n",
            " 62    0.2355        0.0539      -1.6520       0.0594     -1.4743                                     0.0000\n",
            " 63    0.2358        0.0735      -0.9036       0.0772     -0.6912                                     0.0000\n",
            " 64    0.2352        0.0638      -1.3000       0.0680     -1.0880                                     0.0000\n",
            " 65    0.2354        0.0785      -0.7197       0.0820     -0.5219                                     0.0000\n",
            " 66    0.2354        0.0782      -0.8063       0.0812     -0.6216                                     0.0000\n",
            " 67    0.2355        0.0663      -1.2815       0.0708     -1.0462                                     0.0000\n",
            " 68    0.2368        0.0586      -1.5050       0.0634     -1.2856                                     0.0000\n",
            " 69    0.2356        0.0703      -1.1125       0.0746     -0.8846                                     0.0000\n",
            " 70    0.2360        0.0584      -1.4792       0.0638     -1.2408                                     0.0000\n",
            " 71    0.2359        0.0581      -1.5198       0.0635     -1.2669                                     0.0000\n",
            " 72    0.2360        0.0596      -1.4704       0.0647     -1.2318                                     0.0000\n",
            " 73    0.2350        0.0676      -1.1767       0.0721     -0.9409                                     0.0000\n",
            " 74    0.2352        0.0582      -1.5129       0.0637     -1.2810                                     0.0000\n",
            " 75    0.2355        0.0583      -1.4907       0.0636     -1.2545                                     0.0000\n",
            " 76    0.2364        0.0610      -1.4187       0.0660     -1.1785                                     0.0000\n",
            " 77    0.2359        0.0567      -1.5639       0.0623     -1.3221                                     0.0000\n",
            " 78    0.2360        0.0651      -1.2192       0.0698     -0.9695                                     0.0000\n",
            " 79    0.2359        0.0619      -1.3818       0.0670     -1.1255                                     0.0000\n",
            "---  --------  ------------  -----------  -----------  ----------  ---------------  --------------  --------\n",
            "  i         t    train/rmse    train/nll    test/rmse    test/nll  test/ens_rmse    test/ens_nll          lr\n",
            "---  --------  ------------  -----------  -----------  ----------  ---------------  --------------  --------\n",
            " 80    0.2359        0.0658      -1.1973       0.0706     -0.9378                                     0.0000\n",
            " 81    0.2348        0.0598      -1.4452       0.0651     -1.1885                                     0.0000\n",
            " 82    0.2353        0.0646      -1.2725       0.0695     -1.0253                                     0.0000\n"
          ]
        }
      ]
    },
    {
      "cell_type": "code",
      "source": [
        "!python3 bnn_hmc/scripts/run_sgd.py --seed=0 --weight_decay=10 --dir=runs/sgd/cmd/ \\\n",
        "--dataset_name=cmd --scaling=asinh --builder_kwargs='{\"simulation\": \"IllustrisTNG\", \"field\": \"Mtot\", \"parameters\": [\"omegam\"]}' \\\n",
        "--model_name=lenet_dropout --init_step_size=1e-7 --num_epochs=100 --eval_freq=5 \\\n",
        "--batch_size=100 --image_size 64 --save_freq=5 --optimizer=SGD --eval_split=train[95%:] \\\n",
        "--patience 10 --dropout_rate 0.1 --repeats 10"
      ],
      "metadata": {
        "colab": {
          "base_uri": "https://localhost:8080/"
        },
        "id": "ZlvAlz6AZPDp",
        "outputId": "4a523096-1e9d-439f-c5ac-15fd50a647a2"
      },
      "execution_count": 97,
      "outputs": [
        {
          "output_type": "stream",
          "name": "stdout",
          "text": [
            "JAX sees the following devices: [GpuDevice(id=0, process_index=0)]\n",
            "TF sees the following devices: [PhysicalDevice(name='/physical_device:CPU:0', device_type='CPU')]\n",
            "tcmalloc: large alloc 1183137792 bytes == 0x106520000 @  0x7f819bb0c887 0x7f8189c117ce 0x7f8189c162c2 0x7f8189c1c8a2 0x7f8189c1ce7d 0x7f8189c1d1e9 0x7f818920ef11 0x7f818920a19f 0x7f8189725d01 0x7f8189229594 0x7f818922a126 0x7f818893fa69 0x7f81889394e0 0x7f8188943a3c 0x7f8188933ba6 0x7f8188700fa5 0x7f81886f6961 0x593784 0x594731 0x548cc1 0x51566f 0x593dd7 0x5118f8 0x549576 0x593fce 0x548ae9 0x51566f 0x598ef4 0x500d94 0x5a7284 0x5a9cf4\n",
            "Continuing the run from the last saved checkpoint\n",
            "bnn_hmc/scripts/run_sgd.py:188: VisibleDeprecationWarning: Creating an ndarray from ragged nested sequences (which is a list-or-tuple of lists-or-tuples-or ndarrays with different lengths or shapes) is deprecated. If you meant to do this, you must specify 'dtype=object' when creating the ndarray.\n",
            "  predict_fn(net_apply, params, net_state, test_set, key))\n",
            "{'scaled_nll': DeviceArray(-1.5121849, dtype=float32), 'scaled_mse': DeviceArray(0.00330166, dtype=float32), 'scaled_rmse': 0.057460055, 'nll': DeviceArray(-1.5121849, dtype=float32), 'mse': DeviceArray(0.00330166, dtype=float32), 'rmse': 0.057460055}\n",
            "{'scaled_nll': DeviceArray(-1.4995964, dtype=float32), 'scaled_mse': DeviceArray(0.00336141, dtype=float32), 'scaled_rmse': 0.057977643, 'nll': DeviceArray(-1.4995964, dtype=float32), 'mse': DeviceArray(0.00336141, dtype=float32), 'rmse': 0.057977643}\n",
            "{'scaled_nll': DeviceArray(-1.5111887, dtype=float32), 'scaled_mse': DeviceArray(0.00325706, dtype=float32), 'scaled_rmse': 0.057070654, 'nll': DeviceArray(-1.5111887, dtype=float32), 'mse': DeviceArray(0.00325706, dtype=float32), 'rmse': 0.057070654}\n",
            "{'scaled_nll': DeviceArray(-1.4930145, dtype=float32), 'scaled_mse': DeviceArray(0.00341881, dtype=float32), 'scaled_rmse': 0.05847055, 'nll': DeviceArray(-1.4930145, dtype=float32), 'mse': DeviceArray(0.00341881, dtype=float32), 'rmse': 0.05847055}\n",
            "{'scaled_nll': DeviceArray(-1.515027, dtype=float32), 'scaled_mse': DeviceArray(0.00328977, dtype=float32), 'scaled_rmse': 0.05735654, 'nll': DeviceArray(-1.515027, dtype=float32), 'mse': DeviceArray(0.00328977, dtype=float32), 'rmse': 0.05735654}\n",
            "{'scaled_nll': DeviceArray(-1.4975413, dtype=float32), 'scaled_mse': DeviceArray(0.00342172, dtype=float32), 'scaled_rmse': 0.05849548, 'nll': DeviceArray(-1.4975413, dtype=float32), 'mse': DeviceArray(0.00342172, dtype=float32), 'rmse': 0.05849548}\n",
            "{'scaled_nll': DeviceArray(-1.5036559, dtype=float32), 'scaled_mse': DeviceArray(0.00335433, dtype=float32), 'scaled_rmse': 0.057916597, 'nll': DeviceArray(-1.5036559, dtype=float32), 'mse': DeviceArray(0.00335433, dtype=float32), 'rmse': 0.057916597}\n",
            "{'scaled_nll': DeviceArray(-1.5148362, dtype=float32), 'scaled_mse': DeviceArray(0.00335469, dtype=float32), 'scaled_rmse': 0.057919707, 'nll': DeviceArray(-1.5148362, dtype=float32), 'mse': DeviceArray(0.00335469, dtype=float32), 'rmse': 0.057919707}\n",
            "{'scaled_nll': DeviceArray(-1.4919432, dtype=float32), 'scaled_mse': DeviceArray(0.00339853, dtype=float32), 'scaled_rmse': 0.05829687, 'nll': DeviceArray(-1.4919432, dtype=float32), 'mse': DeviceArray(0.00339853, dtype=float32), 'rmse': 0.05829687}\n",
            "{'scaled_nll': DeviceArray(-1.5112662, dtype=float32), 'scaled_mse': DeviceArray(0.00333989, dtype=float32), 'scaled_rmse': 0.057791762, 'nll': DeviceArray(-1.5112662, dtype=float32), 'mse': DeviceArray(0.00333989, dtype=float32), 'rmse': 0.057791762}\n"
          ]
        }
      ]
    },
    {
      "cell_type": "code",
      "source": [
        "predictions = []\n",
        "errors = []\n",
        "for i, root in enumerate(glob.glob('/content/runs/sgd/cmd/*/predictions*npy')):\n",
        "  data = np.load(root.replace('predictions', 'test_set')) \n",
        "  prediction = np.load(root)\n",
        "  metrics = np.load(root.replace('predictions', 'metrics'), allow_pickle=True)\n",
        "  print(metrics)\n",
        "  predictions.append(prediction[0,:,0])\n",
        "  errors.append(prediction[0,:,1])\n",
        "predictions = np.array(predictions)\n",
        "errors = np.array(errors)"
      ],
      "metadata": {
        "id": "LsXVjXW7eM6l",
        "colab": {
          "base_uri": "https://localhost:8080/"
        },
        "outputId": "bd534fa0-e6d0-40d0-bd73-7cc1c7292cf3"
      },
      "execution_count": 98,
      "outputs": [
        {
          "output_type": "stream",
          "name": "stdout",
          "text": [
            "{'scaled_nll': array(-1.4930145, dtype=float32), 'scaled_mse': array(0.00341881, dtype=float32), 'scaled_rmse': 0.05847055, 'nll': array(-1.4930145, dtype=float32), 'mse': array(0.00341881, dtype=float32), 'rmse': 0.05847055}\n",
            "{'scaled_nll': array(-1.4995964, dtype=float32), 'scaled_mse': array(0.00336141, dtype=float32), 'scaled_rmse': 0.057977643, 'nll': array(-1.4995964, dtype=float32), 'mse': array(0.00336141, dtype=float32), 'rmse': 0.057977643}\n",
            "{'scaled_nll': array(-1.5112662, dtype=float32), 'scaled_mse': array(0.00333989, dtype=float32), 'scaled_rmse': 0.057791762, 'nll': array(-1.5112662, dtype=float32), 'mse': array(0.00333989, dtype=float32), 'rmse': 0.057791762}\n",
            "{'scaled_nll': array(-1.4975413, dtype=float32), 'scaled_mse': array(0.00342172, dtype=float32), 'scaled_rmse': 0.05849548, 'nll': array(-1.4975413, dtype=float32), 'mse': array(0.00342172, dtype=float32), 'rmse': 0.05849548}\n",
            "{'scaled_nll': array(-1.5111887, dtype=float32), 'scaled_mse': array(0.00325706, dtype=float32), 'scaled_rmse': 0.057070654, 'nll': array(-1.5111887, dtype=float32), 'mse': array(0.00325706, dtype=float32), 'rmse': 0.057070654}\n",
            "{'scaled_nll': array(-1.4919432, dtype=float32), 'scaled_mse': array(0.00339853, dtype=float32), 'scaled_rmse': 0.05829687, 'nll': array(-1.4919432, dtype=float32), 'mse': array(0.00339853, dtype=float32), 'rmse': 0.05829687}\n",
            "{'scaled_nll': array(-1.5148362, dtype=float32), 'scaled_mse': array(0.00335469, dtype=float32), 'scaled_rmse': 0.057919707, 'nll': array(-1.5148362, dtype=float32), 'mse': array(0.00335469, dtype=float32), 'rmse': 0.057919707}\n",
            "{'scaled_nll': array(-1.515027, dtype=float32), 'scaled_mse': array(0.00328977, dtype=float32), 'scaled_rmse': 0.05735654, 'nll': array(-1.515027, dtype=float32), 'mse': array(0.00328977, dtype=float32), 'rmse': 0.05735654}\n",
            "{'scaled_nll': array(-1.5036559, dtype=float32), 'scaled_mse': array(0.00335433, dtype=float32), 'scaled_rmse': 0.057916597, 'nll': array(-1.5036559, dtype=float32), 'mse': array(0.00335433, dtype=float32), 'rmse': 0.057916597}\n",
            "{'scaled_nll': array(-1.5121849, dtype=float32), 'scaled_mse': array(0.00330166, dtype=float32), 'scaled_rmse': 0.057460055, 'nll': array(-1.5121849, dtype=float32), 'mse': array(0.00330166, dtype=float32), 'rmse': 0.057460055}\n"
          ]
        }
      ]
    },
    {
      "cell_type": "code",
      "source": [
        "mean_predictions = np.mean(predictions, axis=0)\n",
        "mean_errors = np.mean(errors, axis=0)\n",
        "total_errors = (mean_errors**2 + np.std(predictions, axis=0)**2)**0.5\n",
        "diffs = mean_predictions - data[0,:,0]"
      ],
      "metadata": {
        "id": "MqfsXjOFoZof"
      },
      "execution_count": 99,
      "outputs": []
    },
    {
      "cell_type": "code",
      "source": [
        "print('Ensemble MSE', np.mean(diffs**2))\n",
        "print('Ensemble MAE', np.mean(np.abs(diffs)))"
      ],
      "metadata": {
        "id": "EpqkcGNToswt",
        "outputId": "853fe2b0-fd19-4b27-9548-6f38973ba3e8",
        "colab": {
          "base_uri": "https://localhost:8080/"
        }
      },
      "execution_count": 100,
      "outputs": [
        {
          "output_type": "stream",
          "name": "stdout",
          "text": [
            "Ensemble MSE 0.0030813662\n",
            "Ensemble MAE 0.044649404\n"
          ]
        }
      ]
    },
    {
      "cell_type": "code",
      "source": [
        "plt.figure(figsize=(10,8))\n",
        "plt.errorbar(data[0,::10,0], mean_predictions[::10], total_errors[::10],  ls='none')\n",
        "plt.errorbar(data[0,::10,0], mean_predictions[::10], mean_errors[::10],  ls='none')\n",
        "plt.plot(np.linspace(0,0.5,10), np.linspace(0,0.5,10), linestyle='--', color='black', alpha=0.5)\n",
        "plt.xlabel('Ground truth', fontsize=14)\n",
        "plt.ylabel('Prediction', fontsize=14)\n",
        "plt.show()"
      ],
      "metadata": {
        "id": "8-6wbGsvovOC",
        "outputId": "48ee4bac-4677-4ed2-d17f-61852b9d8564",
        "colab": {
          "base_uri": "https://localhost:8080/",
          "height": 501
        }
      },
      "execution_count": 101,
      "outputs": [
        {
          "output_type": "display_data",
          "data": {
            "text/plain": [
              "<Figure size 720x576 with 1 Axes>"
            ],
            "image/png": "[encoded data removed]"
          },
          "metadata": {
            "needs_background": "light"
          }
        }
      ]
    },
    {
      "cell_type": "code",
      "source": [
        ""
      ],
      "metadata": {
        "id": "uHk4Asx1ox-F"
      },
      "execution_count": null,
      "outputs": []
    }
  ]
}