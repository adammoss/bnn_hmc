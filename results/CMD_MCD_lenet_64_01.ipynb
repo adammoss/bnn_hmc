{
  "nbformat": 4,
  "nbformat_minor": 0,
  "metadata": {
    "colab": {
      "name": "CMD_MCD_lenet_64_01.ipynb",
      "provenance": [],
      "authorship_tag": "ABX9TyNg+bKBofG+vFMJWGx+T99U",
      "include_colab_link": true
    },
    "kernelspec": {
      "name": "python3",
      "display_name": "Python 3"
    },
    "language_info": {
      "name": "python"
    },
    "accelerator": "GPU",
    "gpuClass": "standard"
  },
  "cells": [
    {
      "cell_type": "markdown",
      "metadata": {
        "id": "view-in-github",
        "colab_type": "text"
      },
      "source": [
        "<a href=\"https://colab.research.google.com/github/adammoss/bnn_hmc/blob/main/results/CMD_MCD_lenet_64_01.ipynb\" target=\"_parent\"><img src=\"https://colab.research.google.com/assets/colab-badge.svg\" alt=\"Open In Colab\"/></a>"
      ]
    },
    {
      "cell_type": "code",
      "execution_count": 1,
      "metadata": {
        "id": "pKwEMxwzWa02"
      },
      "outputs": [],
      "source": [
        "import os\n",
        "import sys\n",
        "import shutil\n",
        "import subprocess\n",
        "import glob\n",
        "import matplotlib.pyplot as plt\n",
        "import seaborn as sns\n",
        "import numpy as np"
      ]
    },
    {
      "cell_type": "code",
      "source": [
        "!nvidia-smi"
      ],
      "metadata": {
        "colab": {
          "base_uri": "https://localhost:8080/"
        },
        "id": "sMBIXrkLZAt9",
        "outputId": "21a1f6fa-1912-42aa-afba-bbc32fcc87aa"
      },
      "execution_count": 2,
      "outputs": [
        {
          "output_type": "stream",
          "name": "stdout",
          "text": [
            "Mon Sep  5 22:23:36 2022       \n",
            "+-----------------------------------------------------------------------------+\n",
            "| NVIDIA-SMI 460.32.03    Driver Version: 460.32.03    CUDA Version: 11.2     |\n",
            "|-------------------------------+----------------------+----------------------+\n",
            "| GPU  Name        Persistence-M| Bus-Id        Disp.A | Volatile Uncorr. ECC |\n",
            "| Fan  Temp  Perf  Pwr:Usage/Cap|         Memory-Usage | GPU-Util  Compute M. |\n",
            "|                               |                      |               MIG M. |\n",
            "|===============================+======================+======================|\n",
            "|   0  Tesla V100-SXM2...  Off  | 00000000:00:04.0 Off |                    0 |\n",
            "| N/A   40C    P0    48W / 300W |      0MiB / 16160MiB |      0%      Default |\n",
            "|                               |                      |                  N/A |\n",
            "+-------------------------------+----------------------+----------------------+\n",
            "                                                                               \n",
            "+-----------------------------------------------------------------------------+\n",
            "| Processes:                                                                  |\n",
            "|  GPU   GI   CI        PID   Type   Process name                  GPU Memory |\n",
            "|        ID   ID                                                   Usage      |\n",
            "|=============================================================================|\n",
            "|  No running processes found                                                 |\n",
            "+-----------------------------------------------------------------------------+\n"
          ]
        }
      ]
    },
    {
      "cell_type": "code",
      "source": [
        "!pip install astro-datasets --upgrade\n",
        "!pip install tensorflow_datasets --upgrade"
      ],
      "metadata": {
        "colab": {
          "base_uri": "https://localhost:8080/"
        },
        "id": "7tvZXaoMZC9y",
        "outputId": "58635442-a68c-4829-87de-17a883e64dd5"
      },
      "execution_count": 3,
      "outputs": [
        {
          "output_type": "stream",
          "name": "stdout",
          "text": [
            "Looking in indexes: https://pypi.org/simple, https://us-python.pkg.dev/colab-wheels/public/simple/\n",
            "Requirement already satisfied: astro-datasets in /usr/local/lib/python3.7/dist-packages (0.0.10)\n",
            "Requirement already satisfied: pandas in /usr/local/lib/python3.7/dist-packages (from astro-datasets) (1.3.5)\n",
            "Requirement already satisfied: tensorflow-datasets in /usr/local/lib/python3.7/dist-packages (from astro-datasets) (4.6.0)\n",
            "Requirement already satisfied: tensorflow in /usr/local/lib/python3.7/dist-packages (from astro-datasets) (2.8.2+zzzcolab20220719082949)\n",
            "Requirement already satisfied: numpy in /usr/local/lib/python3.7/dist-packages (from astro-datasets) (1.21.6)\n",
            "Requirement already satisfied: pytz>=2017.3 in /usr/local/lib/python3.7/dist-packages (from pandas->astro-datasets) (2022.2.1)\n",
            "Requirement already satisfied: python-dateutil>=2.7.3 in /usr/local/lib/python3.7/dist-packages (from pandas->astro-datasets) (2.8.2)\n",
            "Requirement already satisfied: six>=1.5 in /usr/local/lib/python3.7/dist-packages (from python-dateutil>=2.7.3->pandas->astro-datasets) (1.15.0)\n",
            "Requirement already satisfied: grpcio<2.0,>=1.24.3 in /usr/local/lib/python3.7/dist-packages (from tensorflow->astro-datasets) (1.47.0)\n",
            "Requirement already satisfied: flatbuffers>=1.12 in /usr/local/lib/python3.7/dist-packages (from tensorflow->astro-datasets) (2.0.7)\n",
            "Requirement already satisfied: typing-extensions>=3.6.6 in /usr/local/lib/python3.7/dist-packages (from tensorflow->astro-datasets) (4.1.1)\n",
            "Requirement already satisfied: keras-preprocessing>=1.1.1 in /usr/local/lib/python3.7/dist-packages (from tensorflow->astro-datasets) (1.1.2)\n",
            "Requirement already satisfied: keras<2.9,>=2.8.0rc0 in /usr/local/lib/python3.7/dist-packages (from tensorflow->astro-datasets) (2.8.0)\n",
            "Requirement already satisfied: google-pasta>=0.1.1 in /usr/local/lib/python3.7/dist-packages (from tensorflow->astro-datasets) (0.2.0)\n",
            "Requirement already satisfied: tensorflow-estimator<2.9,>=2.8 in /usr/local/lib/python3.7/dist-packages (from tensorflow->astro-datasets) (2.8.0)\n",
            "Requirement already satisfied: astunparse>=1.6.0 in /usr/local/lib/python3.7/dist-packages (from tensorflow->astro-datasets) (1.6.3)\n",
            "Requirement already satisfied: gast>=0.2.1 in /usr/local/lib/python3.7/dist-packages (from tensorflow->astro-datasets) (0.5.3)\n",
            "Requirement already satisfied: setuptools in /usr/local/lib/python3.7/dist-packages (from tensorflow->astro-datasets) (57.4.0)\n",
            "Requirement already satisfied: wrapt>=1.11.0 in /usr/local/lib/python3.7/dist-packages (from tensorflow->astro-datasets) (1.14.1)\n",
            "Requirement already satisfied: tensorboard<2.9,>=2.8 in /usr/local/lib/python3.7/dist-packages (from tensorflow->astro-datasets) (2.8.0)\n",
            "Requirement already satisfied: h5py>=2.9.0 in /usr/local/lib/python3.7/dist-packages (from tensorflow->astro-datasets) (3.1.0)\n",
            "Requirement already satisfied: tensorflow-io-gcs-filesystem>=0.23.1 in /usr/local/lib/python3.7/dist-packages (from tensorflow->astro-datasets) (0.26.0)\n",
            "Requirement already satisfied: opt-einsum>=2.3.2 in /usr/local/lib/python3.7/dist-packages (from tensorflow->astro-datasets) (3.3.0)\n",
            "Requirement already satisfied: libclang>=9.0.1 in /usr/local/lib/python3.7/dist-packages (from tensorflow->astro-datasets) (14.0.6)\n",
            "Requirement already satisfied: protobuf<3.20,>=3.9.2 in /usr/local/lib/python3.7/dist-packages (from tensorflow->astro-datasets) (3.17.3)\n",
            "Requirement already satisfied: termcolor>=1.1.0 in /usr/local/lib/python3.7/dist-packages (from tensorflow->astro-datasets) (1.1.0)\n",
            "Requirement already satisfied: absl-py>=0.4.0 in /usr/local/lib/python3.7/dist-packages (from tensorflow->astro-datasets) (1.2.0)\n",
            "Requirement already satisfied: wheel<1.0,>=0.23.0 in /usr/local/lib/python3.7/dist-packages (from astunparse>=1.6.0->tensorflow->astro-datasets) (0.37.1)\n",
            "Requirement already satisfied: cached-property in /usr/local/lib/python3.7/dist-packages (from h5py>=2.9.0->tensorflow->astro-datasets) (1.5.2)\n",
            "Requirement already satisfied: google-auth-oauthlib<0.5,>=0.4.1 in /usr/local/lib/python3.7/dist-packages (from tensorboard<2.9,>=2.8->tensorflow->astro-datasets) (0.4.6)\n",
            "Requirement already satisfied: tensorboard-plugin-wit>=1.6.0 in /usr/local/lib/python3.7/dist-packages (from tensorboard<2.9,>=2.8->tensorflow->astro-datasets) (1.8.1)\n",
            "Requirement already satisfied: werkzeug>=0.11.15 in /usr/local/lib/python3.7/dist-packages (from tensorboard<2.9,>=2.8->tensorflow->astro-datasets) (1.0.1)\n",
            "Requirement already satisfied: markdown>=2.6.8 in /usr/local/lib/python3.7/dist-packages (from tensorboard<2.9,>=2.8->tensorflow->astro-datasets) (3.4.1)\n",
            "Requirement already satisfied: tensorboard-data-server<0.7.0,>=0.6.0 in /usr/local/lib/python3.7/dist-packages (from tensorboard<2.9,>=2.8->tensorflow->astro-datasets) (0.6.1)\n",
            "Requirement already satisfied: google-auth<3,>=1.6.3 in /usr/local/lib/python3.7/dist-packages (from tensorboard<2.9,>=2.8->tensorflow->astro-datasets) (1.35.0)\n",
            "Requirement already satisfied: requests<3,>=2.21.0 in /usr/local/lib/python3.7/dist-packages (from tensorboard<2.9,>=2.8->tensorflow->astro-datasets) (2.23.0)\n",
            "Requirement already satisfied: cachetools<5.0,>=2.0.0 in /usr/local/lib/python3.7/dist-packages (from google-auth<3,>=1.6.3->tensorboard<2.9,>=2.8->tensorflow->astro-datasets) (4.2.4)\n",
            "Requirement already satisfied: rsa<5,>=3.1.4 in /usr/local/lib/python3.7/dist-packages (from google-auth<3,>=1.6.3->tensorboard<2.9,>=2.8->tensorflow->astro-datasets) (4.9)\n",
            "Requirement already satisfied: pyasn1-modules>=0.2.1 in /usr/local/lib/python3.7/dist-packages (from google-auth<3,>=1.6.3->tensorboard<2.9,>=2.8->tensorflow->astro-datasets) (0.2.8)\n",
            "Requirement already satisfied: requests-oauthlib>=0.7.0 in /usr/local/lib/python3.7/dist-packages (from google-auth-oauthlib<0.5,>=0.4.1->tensorboard<2.9,>=2.8->tensorflow->astro-datasets) (1.3.1)\n",
            "Requirement already satisfied: importlib-metadata>=4.4 in /usr/local/lib/python3.7/dist-packages (from markdown>=2.6.8->tensorboard<2.9,>=2.8->tensorflow->astro-datasets) (4.12.0)\n",
            "Requirement already satisfied: zipp>=0.5 in /usr/local/lib/python3.7/dist-packages (from importlib-metadata>=4.4->markdown>=2.6.8->tensorboard<2.9,>=2.8->tensorflow->astro-datasets) (3.8.1)\n",
            "Requirement already satisfied: pyasn1<0.5.0,>=0.4.6 in /usr/local/lib/python3.7/dist-packages (from pyasn1-modules>=0.2.1->google-auth<3,>=1.6.3->tensorboard<2.9,>=2.8->tensorflow->astro-datasets) (0.4.8)\n",
            "Requirement already satisfied: idna<3,>=2.5 in /usr/local/lib/python3.7/dist-packages (from requests<3,>=2.21.0->tensorboard<2.9,>=2.8->tensorflow->astro-datasets) (2.10)\n",
            "Requirement already satisfied: chardet<4,>=3.0.2 in /usr/local/lib/python3.7/dist-packages (from requests<3,>=2.21.0->tensorboard<2.9,>=2.8->tensorflow->astro-datasets) (3.0.4)\n",
            "Requirement already satisfied: urllib3!=1.25.0,!=1.25.1,<1.26,>=1.21.1 in /usr/local/lib/python3.7/dist-packages (from requests<3,>=2.21.0->tensorboard<2.9,>=2.8->tensorflow->astro-datasets) (1.24.3)\n",
            "Requirement already satisfied: certifi>=2017.4.17 in /usr/local/lib/python3.7/dist-packages (from requests<3,>=2.21.0->tensorboard<2.9,>=2.8->tensorflow->astro-datasets) (2022.6.15)\n",
            "Requirement already satisfied: oauthlib>=3.0.0 in /usr/local/lib/python3.7/dist-packages (from requests-oauthlib>=0.7.0->google-auth-oauthlib<0.5,>=0.4.1->tensorboard<2.9,>=2.8->tensorflow->astro-datasets) (3.2.0)\n",
            "Requirement already satisfied: promise in /usr/local/lib/python3.7/dist-packages (from tensorflow-datasets->astro-datasets) (2.3)\n",
            "Requirement already satisfied: importlib-resources in /usr/local/lib/python3.7/dist-packages (from tensorflow-datasets->astro-datasets) (5.9.0)\n",
            "Requirement already satisfied: etils[epath] in /usr/local/lib/python3.7/dist-packages (from tensorflow-datasets->astro-datasets) (0.7.1)\n",
            "Requirement already satisfied: tqdm in /usr/local/lib/python3.7/dist-packages (from tensorflow-datasets->astro-datasets) (4.64.0)\n",
            "Requirement already satisfied: tensorflow-metadata in /usr/local/lib/python3.7/dist-packages (from tensorflow-datasets->astro-datasets) (1.10.0)\n",
            "Requirement already satisfied: dill in /usr/local/lib/python3.7/dist-packages (from tensorflow-datasets->astro-datasets) (0.3.5.1)\n",
            "Requirement already satisfied: toml in /usr/local/lib/python3.7/dist-packages (from tensorflow-datasets->astro-datasets) (0.10.2)\n",
            "Requirement already satisfied: googleapis-common-protos<2,>=1.52.0 in /usr/local/lib/python3.7/dist-packages (from tensorflow-metadata->tensorflow-datasets->astro-datasets) (1.56.4)\n",
            "Looking in indexes: https://pypi.org/simple, https://us-python.pkg.dev/colab-wheels/public/simple/\n",
            "Requirement already satisfied: tensorflow_datasets in /usr/local/lib/python3.7/dist-packages (4.6.0)\n",
            "Requirement already satisfied: promise in /usr/local/lib/python3.7/dist-packages (from tensorflow_datasets) (2.3)\n",
            "Requirement already satisfied: requests>=2.19.0 in /usr/local/lib/python3.7/dist-packages (from tensorflow_datasets) (2.23.0)\n",
            "Requirement already satisfied: typing-extensions in /usr/local/lib/python3.7/dist-packages (from tensorflow_datasets) (4.1.1)\n",
            "Requirement already satisfied: etils[epath] in /usr/local/lib/python3.7/dist-packages (from tensorflow_datasets) (0.7.1)\n",
            "Requirement already satisfied: absl-py in /usr/local/lib/python3.7/dist-packages (from tensorflow_datasets) (1.2.0)\n",
            "Requirement already satisfied: importlib-resources in /usr/local/lib/python3.7/dist-packages (from tensorflow_datasets) (5.9.0)\n",
            "Requirement already satisfied: six in /usr/local/lib/python3.7/dist-packages (from tensorflow_datasets) (1.15.0)\n",
            "Requirement already satisfied: numpy in /usr/local/lib/python3.7/dist-packages (from tensorflow_datasets) (1.21.6)\n",
            "Requirement already satisfied: termcolor in /usr/local/lib/python3.7/dist-packages (from tensorflow_datasets) (1.1.0)\n",
            "Requirement already satisfied: tqdm in /usr/local/lib/python3.7/dist-packages (from tensorflow_datasets) (4.64.0)\n",
            "Requirement already satisfied: dill in /usr/local/lib/python3.7/dist-packages (from tensorflow_datasets) (0.3.5.1)\n",
            "Requirement already satisfied: tensorflow-metadata in /usr/local/lib/python3.7/dist-packages (from tensorflow_datasets) (1.10.0)\n",
            "Requirement already satisfied: toml in /usr/local/lib/python3.7/dist-packages (from tensorflow_datasets) (0.10.2)\n",
            "Requirement already satisfied: protobuf>=3.12.2 in /usr/local/lib/python3.7/dist-packages (from tensorflow_datasets) (3.17.3)\n",
            "Requirement already satisfied: chardet<4,>=3.0.2 in /usr/local/lib/python3.7/dist-packages (from requests>=2.19.0->tensorflow_datasets) (3.0.4)\n",
            "Requirement already satisfied: urllib3!=1.25.0,!=1.25.1,<1.26,>=1.21.1 in /usr/local/lib/python3.7/dist-packages (from requests>=2.19.0->tensorflow_datasets) (1.24.3)\n",
            "Requirement already satisfied: certifi>=2017.4.17 in /usr/local/lib/python3.7/dist-packages (from requests>=2.19.0->tensorflow_datasets) (2022.6.15)\n",
            "Requirement already satisfied: idna<3,>=2.5 in /usr/local/lib/python3.7/dist-packages (from requests>=2.19.0->tensorflow_datasets) (2.10)\n",
            "Requirement already satisfied: zipp in /usr/local/lib/python3.7/dist-packages (from etils[epath]->tensorflow_datasets) (3.8.1)\n",
            "Requirement already satisfied: googleapis-common-protos<2,>=1.52.0 in /usr/local/lib/python3.7/dist-packages (from tensorflow-metadata->tensorflow_datasets) (1.56.4)\n"
          ]
        }
      ]
    },
    {
      "cell_type": "code",
      "source": [
        "shutil.rmtree('bnn_hmc', ignore_errors=True)"
      ],
      "metadata": {
        "id": "W-BbevwMZIfm"
      },
      "execution_count": 4,
      "outputs": []
    },
    {
      "cell_type": "code",
      "source": [
        "!git clone https://github.com/adammoss/bnn_hmc"
      ],
      "metadata": {
        "colab": {
          "base_uri": "https://localhost:8080/"
        },
        "id": "ufAQtnqiZMRg",
        "outputId": "b9c56953-5587-4684-c7c1-02cd5ae66e13"
      },
      "execution_count": 5,
      "outputs": [
        {
          "output_type": "stream",
          "name": "stdout",
          "text": [
            "Cloning into 'bnn_hmc'...\n",
            "remote: Enumerating objects: 604, done.\u001b[K\n",
            "remote: Counting objects: 100% (73/73), done.\u001b[K\n",
            "remote: Compressing objects: 100% (69/69), done.\u001b[K\n",
            "remote: Total 604 (delta 48), reused 12 (delta 4), pack-reused 531\u001b[K\n",
            "Receiving objects: 100% (604/604), 1.11 MiB | 2.50 MiB/s, done.\n",
            "Resolving deltas: 100% (429/429), done.\n"
          ]
        }
      ]
    },
    {
      "cell_type": "code",
      "source": [
        "!cd bnn_hmc && git checkout dropout_wip"
      ],
      "metadata": {
        "colab": {
          "base_uri": "https://localhost:8080/"
        },
        "id": "K2BbPCiPZ8uN",
        "outputId": "48624fa9-96f9-46e4-b6ec-3af2799118be"
      },
      "execution_count": 6,
      "outputs": [
        {
          "output_type": "stream",
          "name": "stdout",
          "text": [
            "Branch 'dropout_wip' set up to track remote branch 'dropout_wip' from 'origin'.\n",
            "Switched to a new branch 'dropout_wip'\n"
          ]
        }
      ]
    },
    {
      "cell_type": "code",
      "source": [
        "# https://storage.googleapis.com/jax-releases/jax_cuda_releases.html\n",
        "!pip install --upgrade https://storage.googleapis.com/jax-releases/cuda111/jaxlib-0.1.65+cuda111-cp37-none-manylinux2010_x86_64.whl\n",
        "!pip install jax==0.2.12\n",
        "!pip install dm-haiku==0.0.5.dev0 optax==0.0.6 chex==0.0.6"
      ],
      "metadata": {
        "colab": {
          "base_uri": "https://localhost:8080/"
        },
        "id": "xzrw4ayTZODp",
        "outputId": "c62a39cb-b093-46e9-bf9a-8b0da0e5db1d"
      },
      "execution_count": 7,
      "outputs": [
        {
          "output_type": "stream",
          "name": "stdout",
          "text": [
            "Looking in indexes: https://pypi.org/simple, https://us-python.pkg.dev/colab-wheels/public/simple/\n",
            "Collecting jaxlib==0.1.65+cuda111\n",
            "  Using cached https://storage.googleapis.com/jax-releases/cuda111/jaxlib-0.1.65+cuda111-cp37-none-manylinux2010_x86_64.whl (189.4 MB)\n",
            "Requirement already satisfied: scipy in /usr/local/lib/python3.7/dist-packages (from jaxlib==0.1.65+cuda111) (1.7.3)\n",
            "Requirement already satisfied: numpy>=1.16 in /usr/local/lib/python3.7/dist-packages (from jaxlib==0.1.65+cuda111) (1.21.6)\n",
            "Requirement already satisfied: flatbuffers in /usr/local/lib/python3.7/dist-packages (from jaxlib==0.1.65+cuda111) (2.0.7)\n",
            "Requirement already satisfied: absl-py in /usr/local/lib/python3.7/dist-packages (from jaxlib==0.1.65+cuda111) (1.2.0)\n",
            "Looking in indexes: https://pypi.org/simple, https://us-python.pkg.dev/colab-wheels/public/simple/\n",
            "Requirement already satisfied: jax==0.2.12 in /usr/local/lib/python3.7/dist-packages (0.2.12)\n",
            "Requirement already satisfied: opt-einsum in /usr/local/lib/python3.7/dist-packages (from jax==0.2.12) (3.3.0)\n",
            "Requirement already satisfied: numpy>=1.12 in /usr/local/lib/python3.7/dist-packages (from jax==0.2.12) (1.21.6)\n",
            "Requirement already satisfied: absl-py in /usr/local/lib/python3.7/dist-packages (from jax==0.2.12) (1.2.0)\n",
            "Looking in indexes: https://pypi.org/simple, https://us-python.pkg.dev/colab-wheels/public/simple/\n",
            "Requirement already satisfied: dm-haiku==0.0.5.dev0 in /usr/local/lib/python3.7/dist-packages (0.0.5.dev0)\n",
            "Requirement already satisfied: optax==0.0.6 in /usr/local/lib/python3.7/dist-packages (0.0.6)\n",
            "Requirement already satisfied: chex==0.0.6 in /usr/local/lib/python3.7/dist-packages (0.0.6)\n",
            "Requirement already satisfied: tabulate>=0.8.9 in /usr/local/lib/python3.7/dist-packages (from dm-haiku==0.0.5.dev0) (0.8.10)\n",
            "Requirement already satisfied: typing-extensions in /usr/local/lib/python3.7/dist-packages (from dm-haiku==0.0.5.dev0) (4.1.1)\n",
            "Requirement already satisfied: absl-py>=0.7.1 in /usr/local/lib/python3.7/dist-packages (from dm-haiku==0.0.5.dev0) (1.2.0)\n",
            "Requirement already satisfied: numpy>=1.18.0 in /usr/local/lib/python3.7/dist-packages (from dm-haiku==0.0.5.dev0) (1.21.6)\n",
            "Requirement already satisfied: jaxlib>=0.1.37 in /usr/local/lib/python3.7/dist-packages (from optax==0.0.6) (0.1.65+cuda111)\n",
            "Requirement already satisfied: jax>=0.1.55 in /usr/local/lib/python3.7/dist-packages (from optax==0.0.6) (0.2.12)\n",
            "Requirement already satisfied: dm-tree>=0.1.5 in /usr/local/lib/python3.7/dist-packages (from chex==0.0.6) (0.1.7)\n",
            "Requirement already satisfied: toolz>=0.9.0 in /usr/local/lib/python3.7/dist-packages (from chex==0.0.6) (0.12.0)\n",
            "Requirement already satisfied: opt-einsum in /usr/local/lib/python3.7/dist-packages (from jax>=0.1.55->optax==0.0.6) (3.3.0)\n",
            "Requirement already satisfied: flatbuffers in /usr/local/lib/python3.7/dist-packages (from jaxlib>=0.1.37->optax==0.0.6) (2.0.7)\n",
            "Requirement already satisfied: scipy in /usr/local/lib/python3.7/dist-packages (from jaxlib>=0.1.37->optax==0.0.6) (1.7.3)\n"
          ]
        }
      ]
    },
    {
      "cell_type": "code",
      "source": [
        "for i, root in enumerate(glob.glob('/content/runs/*/')):\n",
        "  shutil.rmtree(root, ignore_errors=True)"
      ],
      "metadata": {
        "id": "PqyU4VDRnzyZ"
      },
      "execution_count": 8,
      "outputs": []
    },
    {
      "cell_type": "code",
      "source": [
        "!python3 bnn_hmc/scripts/run_sgd.py --seed=0 --weight_decay=10 --dir=runs/sgd/cmd/ \\\n",
        "--dataset_name=cmd --scaling=asinh --builder_kwargs='{\"simulation\": \"IllustrisTNG\", \"field\": \"Mtot\", \"parameters\": [\"omegam\"]}' \\\n",
        "--model_name=lenet_dropout --init_step_size=1e-7 --num_epochs=100 --eval_freq=5 \\\n",
        "--batch_size=100 --image_size 64 --save_freq=5 --optimizer=SGD --train_split=train[:90%] --test_split=train[90%:95%] \\\n",
        "--patience 50 --dropout_rate 0.1"
      ],
      "metadata": {
        "colab": {
          "base_uri": "https://localhost:8080/"
        },
        "id": "uPxhkD9xZO8x",
        "outputId": "a9083888-136f-4d9c-e9ac-4cec85215fba"
      },
      "execution_count": 9,
      "outputs": [
        {
          "output_type": "stream",
          "name": "stdout",
          "text": [
            "JAX sees the following devices: [GpuDevice(id=0, process_index=0)]\n",
            "TF sees the following devices: [PhysicalDevice(name='/physical_device:CPU:0', device_type='CPU')]\n",
            "Starting from random initialization with provided seed\n",
            "/content/bnn_hmc/bnn_hmc/utils/script_utils.py:153: VisibleDeprecationWarning: Creating an ndarray from ragged nested sequences (which is a list-or-tuple of lists-or-tuples-or ndarrays with different lengths or shapes) is deprecated. If you meant to do this, you must specify 'dtype=object' when creating the ndarray.\n",
            "  predict_fn(net_apply, params, net_state, test_set, key))\n",
            "/content/bnn_hmc/bnn_hmc/utils/script_utils.py:155: VisibleDeprecationWarning: Creating an ndarray from ragged nested sequences (which is a list-or-tuple of lists-or-tuples-or ndarrays with different lengths or shapes) is deprecated. If you meant to do this, you must specify 'dtype=object' when creating the ndarray.\n",
            "  predict_fn(net_apply, params, net_state, train_set, key))\n",
            "---  --------  ------------  -----------  -----------  ----------  ---------------  --------------  --------\n",
            "  i         t    train/rmse    train/nll    test/rmse    test/nll  test/ens_rmse    test/ens_nll          lr\n",
            "---  --------  ------------  -----------  -----------  ----------  ---------------  --------------  --------\n",
            "  0    5.5063        0.1153      -0.1622       0.1167     -0.1606                                     0.0000\n",
            "  1    0.3182        0.1165      -0.7302       0.1178     -0.7198                                     0.0000\n",
            "  2    0.3178        0.1154      -0.7402       0.1169     -0.7273                                     0.0000\n",
            "  3    0.3176        0.1153      -0.7403       0.1167     -0.7287                                     0.0000\n",
            "  4    0.3176        0.1153      -0.7409       0.1168     -0.7282                                     0.0000\n",
            "  5    0.3172        0.1158      -0.7371       0.1171     -0.7258                                     0.0000\n",
            "  6    0.3179        0.1321      -0.3617       0.1313     -0.3784                                     0.0000\n",
            "  7    0.3172        0.1044      -0.7259       0.1021     -0.7699                                     0.0000\n",
            "  8    0.3169        0.0897      -0.9789       0.0891     -0.9901                                     0.0000\n",
            "  9    0.3176        0.1463       0.6899       0.1453      0.6460                                     0.0000\n",
            " 10    0.3180        0.0986      -0.7206       0.0985     -0.7265                                     0.0000\n",
            " 11    0.3175        0.0954      -0.6992       0.0951     -0.7130                                     0.0000\n",
            " 12    0.3188        0.1103      -0.1104       0.1090     -0.1930                                     0.0000\n",
            " 13    0.3179        0.0605      -1.4505       0.0627     -1.4119                                     0.0000\n",
            " 14    0.3177        0.0728      -1.3074       0.0735     -1.2922                                     0.0000\n",
            " 15    0.3173        0.1001      -0.5075       0.0999     -0.5317                                     0.0000\n",
            " 16    0.3173        0.1013      -0.0911       0.1009     -0.1271                                     0.0000\n",
            " 17    0.3170        0.0783      -1.0210       0.0790     -0.9982                                     0.0000\n",
            " 18    0.3179        0.1135       0.2970       0.1137      0.2989                                     0.0000\n",
            " 19    0.3171        0.1009      -0.3510       0.1009     -0.3643                                     0.0000\n",
            " 20    0.3168        0.0631      -1.4836       0.0647     -1.4456                                     0.0000\n",
            " 21    0.3169        0.1034      -0.4959       0.1037     -0.4942                                     0.0000\n",
            " 22    0.3167        0.0656      -1.3827       0.0668     -1.3617                                     0.0000\n",
            " 23    0.3171        0.0864      -0.6959       0.0873     -0.6562                                     0.0000\n",
            " 24    0.3171        0.0850      -0.8144       0.0861     -0.7813                                     0.0000\n",
            " 25    0.3164        0.0699      -1.3492       0.0716     -1.3024                                     0.0000\n",
            " 26    0.3173        0.0936      -0.2913       0.0943     -0.3024                                     0.0000\n",
            " 27    0.3172        0.0642      -1.4390       0.0664     -1.3741                                     0.0000\n",
            " 28    0.3178        0.0850      -0.7645       0.0866     -0.7110                                     0.0000\n",
            " 29    0.3175        0.0801      -0.9312       0.0814     -0.8671                                     0.0000\n",
            " 30    0.3171        0.0823      -0.7978       0.0837     -0.7225                                     0.0000\n",
            " 31    0.3178        0.0662      -1.2972       0.0681     -1.2201                                     0.0000\n",
            " 32    0.3171        0.0794      -0.9588       0.0810     -0.8882                                     0.0000\n",
            " 33    0.3164        0.0735      -1.0530       0.0755     -0.9599                                     0.0000\n",
            " 34    0.3168        0.0768      -1.1201       0.0786     -1.0421                                     0.0000\n",
            " 35    0.3171        0.0898      -0.4048       0.0910     -0.3385                                     0.0000\n",
            " 36    0.3170        0.0796      -0.8918       0.0813     -0.8042                                     0.0000\n",
            " 37    0.3161        0.0801      -0.9211       0.0822     -0.8192                                     0.0000\n",
            " 38    0.3176        0.0682      -1.2748       0.0706     -1.1845                                     0.0000\n",
            " 39    0.3164        0.0744      -1.1756       0.0763     -1.0881                                     0.0000\n",
            "---  --------  ------------  -----------  -----------  ----------  ---------------  --------------  --------\n",
            "  i         t    train/rmse    train/nll    test/rmse    test/nll  test/ens_rmse    test/ens_nll          lr\n",
            "---  --------  ------------  -----------  -----------  ----------  ---------------  --------------  --------\n",
            " 40    0.3169        0.0786      -1.0246       0.0809     -0.9163                                     0.0000\n",
            " 41    0.3169        0.0670      -1.2492       0.0696     -1.1455                                     0.0000\n",
            " 42    0.3174        0.0935      -0.4658       0.0953     -0.4027                                     0.0000\n",
            " 43    0.3167        0.0738      -1.0933       0.0762     -0.9711                                     0.0000\n",
            " 44    0.3179        0.0607      -1.4688       0.0643     -1.3274                                     0.0000\n",
            " 45    0.3176        0.0588      -1.5196       0.0626     -1.3741                                     0.0000\n",
            " 46    0.3178        0.0651      -1.3823       0.0684     -1.2419                                     0.0000\n",
            " 47    0.3164        0.0722      -1.0275       0.0751     -0.8817                                     0.0000\n",
            " 48    0.3171        0.0883      -0.5616       0.0906     -0.4116                                     0.0000\n",
            " 49    0.3174        0.0617      -1.4061       0.0654     -1.2221                                     0.0000\n",
            " 50    0.3206        0.0693      -1.2628       0.0729     -1.1047                                     0.0000\n",
            " 51    0.3188        0.0696      -1.1435       0.0731     -0.9507                                     0.0000\n",
            " 52    0.3179        0.0645      -1.3596       0.0682     -1.1876                                     0.0000\n",
            " 53    0.3184        0.0725      -1.0842       0.0756     -0.8908                                     0.0000\n",
            " 54    0.3195        0.0641      -1.3486       0.0676     -1.1653                                     0.0000\n",
            " 55    0.3166        0.0647      -1.3416       0.0687     -1.1334                                     0.0000\n",
            " 56    0.3177        0.0758      -0.8174       0.0790     -0.6007                                     0.0000\n",
            " 57    0.3176        0.0620      -1.3952       0.0664     -1.1924                                     0.0000\n",
            " 58    0.3173        0.0607      -1.4442       0.0652     -1.2157                                     0.0000\n",
            " 59    0.3180        0.0809      -0.5622       0.0841     -0.3583                                     0.0000\n",
            " 60    0.3173        0.0612      -1.4297       0.0658     -1.2628                                     0.0000\n",
            " 61    0.3173        0.0522      -1.6947       0.0575     -1.4836                                     0.0000\n",
            " 62    0.3178        0.0642      -1.3931       0.0688     -1.1761                                     0.0000\n",
            " 63    0.3172        0.0760      -0.8407       0.0798     -0.5789                                     0.0000\n",
            " 64    0.3181        0.0699      -0.9693       0.0742     -0.7115                                     0.0000\n",
            " 65    0.3173        0.0812      -0.5253       0.0850     -0.2571                                     0.0000\n",
            " 66    0.3171        0.0766      -0.7913       0.0803     -0.5373                                     0.0000\n",
            " 67    0.3177        0.0678      -1.2274       0.0723     -0.9556                                     0.0000\n",
            " 68    0.3184        0.0704      -1.0585       0.0745     -0.7903                                     0.0000\n",
            " 69    0.3177        0.0668      -1.2366       0.0715     -0.9601                                     0.0000\n",
            " 70    0.3172        0.0648      -1.1895       0.0699     -0.8885                                     0.0000\n",
            " 71    0.3167        0.0622      -1.3839       0.0673     -1.0940                                     0.0000\n",
            " 72    0.3175        0.0617      -1.4116       0.0669     -1.1277                                     0.0000\n",
            " 73    0.3169        0.0692      -1.0915       0.0739     -0.7900                                     0.0000\n",
            " 74    0.3179        0.0619      -1.4034       0.0672     -1.1195                                     0.0000\n",
            " 75    0.3173        0.0676      -1.1235       0.0724     -0.8182                                     0.0000\n",
            " 76    0.3188        0.0681      -1.1542       0.0728     -0.8517                                     0.0000\n",
            " 77    0.3175        0.0637      -1.3343       0.0688     -1.0478                                     0.0000\n",
            " 78    0.3187        0.0655      -1.1896       0.0704     -0.8836                                     0.0000\n",
            " 79    0.3424        0.0655      -1.2459       0.0704     -0.9423                                     0.0000\n",
            "---  --------  ------------  -----------  -----------  ----------  ---------------  --------------  --------\n",
            "  i         t    train/rmse    train/nll    test/rmse    test/nll  test/ens_rmse    test/ens_nll          lr\n",
            "---  --------  ------------  -----------  -----------  ----------  ---------------  --------------  --------\n",
            " 80    0.4844        0.0663      -1.1711       0.0713     -0.8498                                     0.0000\n",
            " 81    0.3177        0.0663      -1.2176       0.0713     -0.9041                                     0.0000\n",
            " 82    0.3312        0.0681      -1.0978       0.0728     -0.7927                                     0.0000\n",
            " 83    0.3167        0.0582      -1.5078       0.0638     -1.2051                                     0.0000\n",
            " 84    0.3164        0.0675      -1.1305       0.0724     -0.8061                                     0.0000\n",
            " 85    0.3174        0.0676      -1.1052       0.0725     -0.7779                                     0.0000\n",
            " 86    0.3168        0.0692      -0.9966       0.0740     -0.6701                                     0.0000\n",
            " 87    0.3175        0.0665      -1.1728       0.0717     -0.8478                                     0.0000\n",
            " 88    0.3176        0.0651      -1.2238       0.0703     -0.8837                                     0.0000\n",
            " 89    0.3177        0.0704      -1.0020       0.0753     -0.6625                                     0.0000\n",
            " 90    0.3176        0.0696      -1.0123       0.0745     -0.6788                                     0.0000\n",
            " 91    0.3162        0.0651      -1.2171       0.0704     -0.8844                                     0.0000\n",
            " 92    0.3169        0.0618      -1.3612       0.0674     -1.0293                                     0.0000\n",
            " 93    0.3165        0.0639      -1.2713       0.0693     -0.9349                                     0.0000\n",
            " 94    0.3173        0.0654      -1.2177       0.0706     -0.8796                                     0.0000\n",
            " 95    0.3175        0.0644      -1.2530       0.0698     -0.9137                                     0.0000\n",
            " 96    0.3175        0.0638      -1.2674       0.0692     -0.9312                                     0.0000\n",
            " 97    0.3176        0.0656      -1.2011       0.0708     -0.8618                                     0.0000\n",
            " 98    0.3179        0.0647      -1.2344       0.0700     -0.8961                                     0.0000\n",
            " 99    0.3162        0.0649      -1.2266       0.0702     -0.8883                                     0.0000\n"
          ]
        }
      ]
    },
    {
      "cell_type": "code",
      "source": [
        "!python3 bnn_hmc/scripts/run_sgd.py --seed=0 --weight_decay=10 --dir=runs/sgd/cmd/ \\\n",
        "--dataset_name=cmd --scaling=asinh --builder_kwargs='{\"simulation\": \"IllustrisTNG\", \"field\": \"Mtot\", \"parameters\": [\"omegam\"]}' \\\n",
        "--model_name=lenet_dropout --init_step_size=1e-7 --num_epochs=100 --eval_freq=5 \\\n",
        "--batch_size=100 --image_size 64 --save_freq=5 --optimizer=SGD --eval_split=train[95%:] \\\n",
        "--patience 10 --dropout_rate 0.1 --repeats 10"
      ],
      "metadata": {
        "colab": {
          "base_uri": "https://localhost:8080/"
        },
        "id": "ZlvAlz6AZPDp",
        "outputId": "ab5a6107-360e-49bf-debb-d1f366b7e039"
      },
      "execution_count": 10,
      "outputs": [
        {
          "output_type": "stream",
          "name": "stdout",
          "text": [
            "JAX sees the following devices: [GpuDevice(id=0, process_index=0)]\n",
            "TF sees the following devices: [PhysicalDevice(name='/physical_device:CPU:0', device_type='CPU')]\n",
            "Continuing the run from the last saved checkpoint\n",
            "bnn_hmc/scripts/run_sgd.py:190: VisibleDeprecationWarning: Creating an ndarray from ragged nested sequences (which is a list-or-tuple of lists-or-tuples-or ndarrays with different lengths or shapes) is deprecated. If you meant to do this, you must specify 'dtype=object' when creating the ndarray.\n",
            "  predict_fn(net_apply, params, net_state, test_set, key))\n",
            "{'scaled_nll': -1.5971417427062988, 'scaled_mse': 0.0029247996862977743, 'scaled_rmse': 0.05408141719942049, 'nll': -1.5971417427062988, 'mse': 0.0029247996862977743, 'rmse': 0.05408141719942049}\n"
          ]
        }
      ]
    },
    {
      "cell_type": "code",
      "source": [
        "for i, root in enumerate(glob.glob('/content/runs/sgd/cmd/*/test_set*npy')):\n",
        "  data = np.load(root)\n",
        "for i, root in enumerate(glob.glob('/content/runs/sgd/cmd/*/ensemble_predictions*npy')):\n",
        "  ensemble_predictions = np.load(root)"
      ],
      "metadata": {
        "id": "SOXVZdRLriOI"
      },
      "execution_count": 11,
      "outputs": []
    },
    {
      "cell_type": "code",
      "source": [
        "plt.figure(figsize=(10,8))\n",
        "plt.errorbar(data[0,::10,0], ensemble_predictions[0,::10,0], ensemble_predictions[0,::10,1],  ls='none')\n",
        "plt.plot(np.linspace(0,0.5,10), np.linspace(0,0.5,10), linestyle='--', color='black', alpha=0.5)\n",
        "plt.xlabel('Ground truth', fontsize=14)\n",
        "plt.ylabel('Prediction', fontsize=14)\n",
        "plt.show()"
      ],
      "metadata": {
        "id": "8-6wbGsvovOC",
        "outputId": "e47fbbd8-56d8-4a49-8dbd-0419be3e28b1",
        "colab": {
          "base_uri": "https://localhost:8080/",
          "height": 501
        }
      },
      "execution_count": 12,
      "outputs": [
        {
          "output_type": "display_data",
          "data": {
            "text/plain": [
              "<Figure size 720x576 with 1 Axes>"
            ],
            "image/png": "[encoded data removed]"
          },
          "metadata": {
            "needs_background": "light"
          }
        }
      ]
    },
    {
      "cell_type": "code",
      "source": [],
      "metadata": {
        "id": "uHk4Asx1ox-F"
      },
      "execution_count": 12,
      "outputs": []
    }
  ]
}