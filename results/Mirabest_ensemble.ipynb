{
  "cells": [
    {
      "cell_type": "markdown",
      "metadata": {
        "id": "view-in-github",
        "colab_type": "text"
      },
      "source": [
        "<a href=\"https://colab.research.google.com/github/adammoss/bnn_hmc/blob/main/results/Mirabest_ensemble.ipynb\" target=\"_parent\"><img src=\"https://colab.research.google.com/assets/colab-badge.svg\" alt=\"Open In Colab\"/></a>"
      ]
    },
    {
      "cell_type": "code",
      "execution_count": 1,
      "metadata": {
        "id": "ri22BCCzR-QP"
      },
      "outputs": [],
      "source": [
        "import os\n",
        "import sys\n",
        "import shutil\n",
        "import subprocess"
      ]
    },
    {
      "cell_type": "code",
      "execution_count": 2,
      "metadata": {
        "colab": {
          "base_uri": "https://localhost:8080/"
        },
        "id": "5fyuakmvtHG6",
        "outputId": "a373225e-a6ea-489c-c474-17b12f3fa224"
      },
      "outputs": [
        {
          "output_type": "stream",
          "name": "stdout",
          "text": [
            "Python 3.7.13\n"
          ]
        }
      ],
      "source": [
        "!python --version"
      ]
    },
    {
      "cell_type": "code",
      "execution_count": 3,
      "metadata": {
        "colab": {
          "base_uri": "https://localhost:8080/"
        },
        "id": "fe0MKiBxsHYy",
        "outputId": "3003bef1-491f-443d-8927-99f34da591a6"
      },
      "outputs": [
        {
          "output_type": "stream",
          "name": "stdout",
          "text": [
            "Fri Aug  5 14:37:08 2022       \n",
            "+-----------------------------------------------------------------------------+\n",
            "| NVIDIA-SMI 460.32.03    Driver Version: 460.32.03    CUDA Version: 11.2     |\n",
            "|-------------------------------+----------------------+----------------------+\n",
            "| GPU  Name        Persistence-M| Bus-Id        Disp.A | Volatile Uncorr. ECC |\n",
            "| Fan  Temp  Perf  Pwr:Usage/Cap|         Memory-Usage | GPU-Util  Compute M. |\n",
            "|                               |                      |               MIG M. |\n",
            "|===============================+======================+======================|\n",
            "|   0  Tesla V100-SXM2...  Off  | 00000000:00:04.0 Off |                    0 |\n",
            "| N/A   36C    P0    23W / 300W |      0MiB / 16160MiB |      0%      Default |\n",
            "|                               |                      |                  N/A |\n",
            "+-------------------------------+----------------------+----------------------+\n",
            "                                                                               \n",
            "+-----------------------------------------------------------------------------+\n",
            "| Processes:                                                                  |\n",
            "|  GPU   GI   CI        PID   Type   Process name                  GPU Memory |\n",
            "|        ID   ID                                                   Usage      |\n",
            "|=============================================================================|\n",
            "|  No running processes found                                                 |\n",
            "+-----------------------------------------------------------------------------+\n"
          ]
        }
      ],
      "source": [
        "!nvidia-smi"
      ]
    },
    {
      "cell_type": "code",
      "execution_count": 4,
      "metadata": {
        "colab": {
          "base_uri": "https://localhost:8080/"
        },
        "id": "sMtVSagkaf-h",
        "outputId": "7c768bd1-9cdc-4aba-ff23-75ba18a5af5d"
      },
      "outputs": [
        {
          "output_type": "stream",
          "name": "stdout",
          "text": [
            "Looking in indexes: https://pypi.org/simple, https://us-python.pkg.dev/colab-wheels/public/simple/\n",
            "Collecting astro-datasets\n",
            "  Downloading astro_datasets-0.0.9.tar.gz (12 kB)\n",
            "Requirement already satisfied: tensorflow in /usr/local/lib/python3.7/dist-packages (from astro-datasets) (2.8.2+zzzcolab20220719082949)\n",
            "Requirement already satisfied: tensorflow_datasets in /usr/local/lib/python3.7/dist-packages (from astro-datasets) (4.6.0)\n",
            "Requirement already satisfied: numpy in /usr/local/lib/python3.7/dist-packages (from astro-datasets) (1.21.6)\n",
            "Requirement already satisfied: pandas in /usr/local/lib/python3.7/dist-packages (from astro-datasets) (1.3.5)\n",
            "Requirement already satisfied: python-dateutil>=2.7.3 in /usr/local/lib/python3.7/dist-packages (from pandas->astro-datasets) (2.8.2)\n",
            "Requirement already satisfied: pytz>=2017.3 in /usr/local/lib/python3.7/dist-packages (from pandas->astro-datasets) (2022.1)\n",
            "Requirement already satisfied: six>=1.5 in /usr/local/lib/python3.7/dist-packages (from python-dateutil>=2.7.3->pandas->astro-datasets) (1.15.0)\n",
            "Requirement already satisfied: keras<2.9,>=2.8.0rc0 in /usr/local/lib/python3.7/dist-packages (from tensorflow->astro-datasets) (2.8.0)\n",
            "Requirement already satisfied: setuptools in /usr/local/lib/python3.7/dist-packages (from tensorflow->astro-datasets) (57.4.0)\n",
            "Requirement already satisfied: h5py>=2.9.0 in /usr/local/lib/python3.7/dist-packages (from tensorflow->astro-datasets) (3.1.0)\n",
            "Requirement already satisfied: absl-py>=0.4.0 in /usr/local/lib/python3.7/dist-packages (from tensorflow->astro-datasets) (1.2.0)\n",
            "Requirement already satisfied: astunparse>=1.6.0 in /usr/local/lib/python3.7/dist-packages (from tensorflow->astro-datasets) (1.6.3)\n",
            "Requirement already satisfied: opt-einsum>=2.3.2 in /usr/local/lib/python3.7/dist-packages (from tensorflow->astro-datasets) (3.3.0)\n",
            "Requirement already satisfied: grpcio<2.0,>=1.24.3 in /usr/local/lib/python3.7/dist-packages (from tensorflow->astro-datasets) (1.47.0)\n",
            "Requirement already satisfied: gast>=0.2.1 in /usr/local/lib/python3.7/dist-packages (from tensorflow->astro-datasets) (0.5.3)\n",
            "Requirement already satisfied: tensorflow-estimator<2.9,>=2.8 in /usr/local/lib/python3.7/dist-packages (from tensorflow->astro-datasets) (2.8.0)\n",
            "Requirement already satisfied: google-pasta>=0.1.1 in /usr/local/lib/python3.7/dist-packages (from tensorflow->astro-datasets) (0.2.0)\n",
            "Requirement already satisfied: termcolor>=1.1.0 in /usr/local/lib/python3.7/dist-packages (from tensorflow->astro-datasets) (1.1.0)\n",
            "Requirement already satisfied: tensorboard<2.9,>=2.8 in /usr/local/lib/python3.7/dist-packages (from tensorflow->astro-datasets) (2.8.0)\n",
            "Requirement already satisfied: wrapt>=1.11.0 in /usr/local/lib/python3.7/dist-packages (from tensorflow->astro-datasets) (1.14.1)\n",
            "Requirement already satisfied: libclang>=9.0.1 in /usr/local/lib/python3.7/dist-packages (from tensorflow->astro-datasets) (14.0.6)\n",
            "Requirement already satisfied: flatbuffers>=1.12 in /usr/local/lib/python3.7/dist-packages (from tensorflow->astro-datasets) (2.0)\n",
            "Requirement already satisfied: tensorflow-io-gcs-filesystem>=0.23.1 in /usr/local/lib/python3.7/dist-packages (from tensorflow->astro-datasets) (0.26.0)\n",
            "Requirement already satisfied: keras-preprocessing>=1.1.1 in /usr/local/lib/python3.7/dist-packages (from tensorflow->astro-datasets) (1.1.2)\n",
            "Requirement already satisfied: typing-extensions>=3.6.6 in /usr/local/lib/python3.7/dist-packages (from tensorflow->astro-datasets) (4.1.1)\n",
            "Requirement already satisfied: protobuf<3.20,>=3.9.2 in /usr/local/lib/python3.7/dist-packages (from tensorflow->astro-datasets) (3.17.3)\n",
            "Requirement already satisfied: wheel<1.0,>=0.23.0 in /usr/local/lib/python3.7/dist-packages (from astunparse>=1.6.0->tensorflow->astro-datasets) (0.37.1)\n",
            "Requirement already satisfied: cached-property in /usr/local/lib/python3.7/dist-packages (from h5py>=2.9.0->tensorflow->astro-datasets) (1.5.2)\n",
            "Requirement already satisfied: markdown>=2.6.8 in /usr/local/lib/python3.7/dist-packages (from tensorboard<2.9,>=2.8->tensorflow->astro-datasets) (3.4.1)\n",
            "Requirement already satisfied: werkzeug>=0.11.15 in /usr/local/lib/python3.7/dist-packages (from tensorboard<2.9,>=2.8->tensorflow->astro-datasets) (1.0.1)\n",
            "Requirement already satisfied: google-auth<3,>=1.6.3 in /usr/local/lib/python3.7/dist-packages (from tensorboard<2.9,>=2.8->tensorflow->astro-datasets) (1.35.0)\n",
            "Requirement already satisfied: google-auth-oauthlib<0.5,>=0.4.1 in /usr/local/lib/python3.7/dist-packages (from tensorboard<2.9,>=2.8->tensorflow->astro-datasets) (0.4.6)\n",
            "Requirement already satisfied: tensorboard-plugin-wit>=1.6.0 in /usr/local/lib/python3.7/dist-packages (from tensorboard<2.9,>=2.8->tensorflow->astro-datasets) (1.8.1)\n",
            "Requirement already satisfied: tensorboard-data-server<0.7.0,>=0.6.0 in /usr/local/lib/python3.7/dist-packages (from tensorboard<2.9,>=2.8->tensorflow->astro-datasets) (0.6.1)\n",
            "Requirement already satisfied: requests<3,>=2.21.0 in /usr/local/lib/python3.7/dist-packages (from tensorboard<2.9,>=2.8->tensorflow->astro-datasets) (2.23.0)\n",
            "Requirement already satisfied: pyasn1-modules>=0.2.1 in /usr/local/lib/python3.7/dist-packages (from google-auth<3,>=1.6.3->tensorboard<2.9,>=2.8->tensorflow->astro-datasets) (0.2.8)\n",
            "Requirement already satisfied: cachetools<5.0,>=2.0.0 in /usr/local/lib/python3.7/dist-packages (from google-auth<3,>=1.6.3->tensorboard<2.9,>=2.8->tensorflow->astro-datasets) (4.2.4)\n",
            "Requirement already satisfied: rsa<5,>=3.1.4 in /usr/local/lib/python3.7/dist-packages (from google-auth<3,>=1.6.3->tensorboard<2.9,>=2.8->tensorflow->astro-datasets) (4.9)\n",
            "Requirement already satisfied: requests-oauthlib>=0.7.0 in /usr/local/lib/python3.7/dist-packages (from google-auth-oauthlib<0.5,>=0.4.1->tensorboard<2.9,>=2.8->tensorflow->astro-datasets) (1.3.1)\n",
            "Requirement already satisfied: importlib-metadata>=4.4 in /usr/local/lib/python3.7/dist-packages (from markdown>=2.6.8->tensorboard<2.9,>=2.8->tensorflow->astro-datasets) (4.12.0)\n",
            "Requirement already satisfied: zipp>=0.5 in /usr/local/lib/python3.7/dist-packages (from importlib-metadata>=4.4->markdown>=2.6.8->tensorboard<2.9,>=2.8->tensorflow->astro-datasets) (3.8.1)\n",
            "Requirement already satisfied: pyasn1<0.5.0,>=0.4.6 in /usr/local/lib/python3.7/dist-packages (from pyasn1-modules>=0.2.1->google-auth<3,>=1.6.3->tensorboard<2.9,>=2.8->tensorflow->astro-datasets) (0.4.8)\n",
            "Requirement already satisfied: urllib3!=1.25.0,!=1.25.1,<1.26,>=1.21.1 in /usr/local/lib/python3.7/dist-packages (from requests<3,>=2.21.0->tensorboard<2.9,>=2.8->tensorflow->astro-datasets) (1.24.3)\n",
            "Requirement already satisfied: chardet<4,>=3.0.2 in /usr/local/lib/python3.7/dist-packages (from requests<3,>=2.21.0->tensorboard<2.9,>=2.8->tensorflow->astro-datasets) (3.0.4)\n",
            "Requirement already satisfied: idna<3,>=2.5 in /usr/local/lib/python3.7/dist-packages (from requests<3,>=2.21.0->tensorboard<2.9,>=2.8->tensorflow->astro-datasets) (2.10)\n",
            "Requirement already satisfied: certifi>=2017.4.17 in /usr/local/lib/python3.7/dist-packages (from requests<3,>=2.21.0->tensorboard<2.9,>=2.8->tensorflow->astro-datasets) (2022.6.15)\n",
            "Requirement already satisfied: oauthlib>=3.0.0 in /usr/local/lib/python3.7/dist-packages (from requests-oauthlib>=0.7.0->google-auth-oauthlib<0.5,>=0.4.1->tensorboard<2.9,>=2.8->tensorflow->astro-datasets) (3.2.0)\n",
            "Requirement already satisfied: etils[epath] in /usr/local/lib/python3.7/dist-packages (from tensorflow_datasets->astro-datasets) (0.6.0)\n",
            "Requirement already satisfied: tqdm in /usr/local/lib/python3.7/dist-packages (from tensorflow_datasets->astro-datasets) (4.64.0)\n",
            "Requirement already satisfied: promise in /usr/local/lib/python3.7/dist-packages (from tensorflow_datasets->astro-datasets) (2.3)\n",
            "Requirement already satisfied: tensorflow-metadata in /usr/local/lib/python3.7/dist-packages (from tensorflow_datasets->astro-datasets) (1.9.0)\n",
            "Requirement already satisfied: toml in /usr/local/lib/python3.7/dist-packages (from tensorflow_datasets->astro-datasets) (0.10.2)\n",
            "Requirement already satisfied: dill in /usr/local/lib/python3.7/dist-packages (from tensorflow_datasets->astro-datasets) (0.3.5.1)\n",
            "Requirement already satisfied: importlib-resources in /usr/local/lib/python3.7/dist-packages (from tensorflow_datasets->astro-datasets) (5.9.0)\n",
            "Requirement already satisfied: googleapis-common-protos<2,>=1.52.0 in /usr/local/lib/python3.7/dist-packages (from tensorflow-metadata->tensorflow_datasets->astro-datasets) (1.56.4)\n",
            "Building wheels for collected packages: astro-datasets\n",
            "  Building wheel for astro-datasets (setup.py) ... \u001b[?25l\u001b[?25hdone\n",
            "  Created wheel for astro-datasets: filename=astro_datasets-0.0.9-py3-none-any.whl size=15986 sha256=48d5ddb3e4dca32603f08a3d6decab6c4ae2a88e1d4f4dac6971334d5a5bb86e\n",
            "  Stored in directory: /root/.cache/pip/wheels/77/11/df/7eb516aa333b47883b39adabbe38508a09163be741b476dcda\n",
            "Successfully built astro-datasets\n",
            "Installing collected packages: astro-datasets\n",
            "Successfully installed astro-datasets-0.0.9\n",
            "Looking in indexes: https://pypi.org/simple, https://us-python.pkg.dev/colab-wheels/public/simple/\n",
            "Requirement already satisfied: tensorflow_datasets in /usr/local/lib/python3.7/dist-packages (4.6.0)\n",
            "Requirement already satisfied: etils[epath] in /usr/local/lib/python3.7/dist-packages (from tensorflow_datasets) (0.6.0)\n",
            "Requirement already satisfied: requests>=2.19.0 in /usr/local/lib/python3.7/dist-packages (from tensorflow_datasets) (2.23.0)\n",
            "Requirement already satisfied: typing-extensions in /usr/local/lib/python3.7/dist-packages (from tensorflow_datasets) (4.1.1)\n",
            "Requirement already satisfied: six in /usr/local/lib/python3.7/dist-packages (from tensorflow_datasets) (1.15.0)\n",
            "Requirement already satisfied: dill in /usr/local/lib/python3.7/dist-packages (from tensorflow_datasets) (0.3.5.1)\n",
            "Requirement already satisfied: tqdm in /usr/local/lib/python3.7/dist-packages (from tensorflow_datasets) (4.64.0)\n",
            "Requirement already satisfied: tensorflow-metadata in /usr/local/lib/python3.7/dist-packages (from tensorflow_datasets) (1.9.0)\n",
            "Requirement already satisfied: importlib-resources in /usr/local/lib/python3.7/dist-packages (from tensorflow_datasets) (5.9.0)\n",
            "Requirement already satisfied: numpy in /usr/local/lib/python3.7/dist-packages (from tensorflow_datasets) (1.21.6)\n",
            "Requirement already satisfied: termcolor in /usr/local/lib/python3.7/dist-packages (from tensorflow_datasets) (1.1.0)\n",
            "Requirement already satisfied: protobuf>=3.12.2 in /usr/local/lib/python3.7/dist-packages (from tensorflow_datasets) (3.17.3)\n",
            "Requirement already satisfied: promise in /usr/local/lib/python3.7/dist-packages (from tensorflow_datasets) (2.3)\n",
            "Requirement already satisfied: toml in /usr/local/lib/python3.7/dist-packages (from tensorflow_datasets) (0.10.2)\n",
            "Requirement already satisfied: absl-py in /usr/local/lib/python3.7/dist-packages (from tensorflow_datasets) (1.2.0)\n",
            "Requirement already satisfied: urllib3!=1.25.0,!=1.25.1,<1.26,>=1.21.1 in /usr/local/lib/python3.7/dist-packages (from requests>=2.19.0->tensorflow_datasets) (1.24.3)\n",
            "Requirement already satisfied: certifi>=2017.4.17 in /usr/local/lib/python3.7/dist-packages (from requests>=2.19.0->tensorflow_datasets) (2022.6.15)\n",
            "Requirement already satisfied: chardet<4,>=3.0.2 in /usr/local/lib/python3.7/dist-packages (from requests>=2.19.0->tensorflow_datasets) (3.0.4)\n",
            "Requirement already satisfied: idna<3,>=2.5 in /usr/local/lib/python3.7/dist-packages (from requests>=2.19.0->tensorflow_datasets) (2.10)\n",
            "Requirement already satisfied: zipp in /usr/local/lib/python3.7/dist-packages (from etils[epath]->tensorflow_datasets) (3.8.1)\n",
            "Requirement already satisfied: googleapis-common-protos<2,>=1.52.0 in /usr/local/lib/python3.7/dist-packages (from tensorflow-metadata->tensorflow_datasets) (1.56.4)\n"
          ]
        }
      ],
      "source": [
        "!pip install astro-datasets --upgrade\n",
        "!pip install tensorflow_datasets --upgrade"
      ]
    },
    {
      "cell_type": "code",
      "execution_count": 5,
      "metadata": {
        "id": "1owru02sSDCw"
      },
      "outputs": [],
      "source": [
        "shutil.rmtree('bnn_hmc', ignore_errors=True)"
      ]
    },
    {
      "cell_type": "code",
      "execution_count": 6,
      "metadata": {
        "colab": {
          "base_uri": "https://localhost:8080/"
        },
        "id": "8dWpM70rSF6J",
        "outputId": "63a8d1be-8d27-404d-cde3-5fe54ac827cc"
      },
      "outputs": [
        {
          "output_type": "stream",
          "name": "stdout",
          "text": [
            "Cloning into 'bnn_hmc'...\n",
            "remote: Enumerating objects: 159, done.\u001b[K\n",
            "remote: Counting objects: 100% (159/159), done.\u001b[K\n",
            "remote: Compressing objects: 100% (101/101), done.\u001b[K\n",
            "remote: Total 159 (delta 97), reused 114 (delta 57), pack-reused 0\u001b[K\n",
            "Receiving objects: 100% (159/159), 490.01 KiB | 1.11 MiB/s, done.\n",
            "Resolving deltas: 100% (97/97), done.\n"
          ]
        }
      ],
      "source": [
        "!git clone https://github.com/adammoss/bnn_hmc"
      ]
    },
    {
      "cell_type": "code",
      "execution_count": 7,
      "metadata": {
        "colab": {
          "base_uri": "https://localhost:8080/"
        },
        "id": "zD2r5bldto0q",
        "outputId": "96fd04a1-bfe0-40e0-b483-27e78316f1dd"
      },
      "outputs": [
        {
          "output_type": "stream",
          "name": "stdout",
          "text": [
            "Looking in indexes: https://pypi.org/simple, https://us-python.pkg.dev/colab-wheels/public/simple/\n",
            "Collecting jaxlib==0.1.65+cuda111\n",
            "  Downloading https://storage.googleapis.com/jax-releases/cuda111/jaxlib-0.1.65+cuda111-cp37-none-manylinux2010_x86_64.whl (189.4 MB)\n",
            "\u001b[K     |████████████████████████████████| 189.4 MB 20 kB/s \n",
            "\u001b[?25hRequirement already satisfied: absl-py in /usr/local/lib/python3.7/dist-packages (from jaxlib==0.1.65+cuda111) (1.2.0)\n",
            "Requirement already satisfied: scipy in /usr/local/lib/python3.7/dist-packages (from jaxlib==0.1.65+cuda111) (1.7.3)\n",
            "Requirement already satisfied: flatbuffers in /usr/local/lib/python3.7/dist-packages (from jaxlib==0.1.65+cuda111) (2.0)\n",
            "Requirement already satisfied: numpy>=1.16 in /usr/local/lib/python3.7/dist-packages (from jaxlib==0.1.65+cuda111) (1.21.6)\n",
            "Installing collected packages: jaxlib\n",
            "  Attempting uninstall: jaxlib\n",
            "    Found existing installation: jaxlib 0.3.14+cuda11.cudnn805\n",
            "    Uninstalling jaxlib-0.3.14+cuda11.cudnn805:\n",
            "      Successfully uninstalled jaxlib-0.3.14+cuda11.cudnn805\n",
            "Successfully installed jaxlib-0.1.65+cuda111\n",
            "Looking in indexes: https://pypi.org/simple, https://us-python.pkg.dev/colab-wheels/public/simple/\n",
            "Collecting jax==0.2.12\n",
            "  Downloading jax-0.2.12.tar.gz (590 kB)\n",
            "\u001b[K     |████████████████████████████████| 590 kB 4.3 MB/s \n",
            "\u001b[?25hRequirement already satisfied: numpy>=1.12 in /usr/local/lib/python3.7/dist-packages (from jax==0.2.12) (1.21.6)\n",
            "Requirement already satisfied: absl-py in /usr/local/lib/python3.7/dist-packages (from jax==0.2.12) (1.2.0)\n",
            "Requirement already satisfied: opt_einsum in /usr/local/lib/python3.7/dist-packages (from jax==0.2.12) (3.3.0)\n",
            "Building wheels for collected packages: jax\n",
            "  Building wheel for jax (setup.py) ... \u001b[?25l\u001b[?25hdone\n",
            "  Created wheel for jax: filename=jax-0.2.12-py3-none-any.whl size=682487 sha256=68e111b9048e4ececd94b215646fe040cf597caa446c9fab4329d436c44e5801\n",
            "  Stored in directory: /root/.cache/pip/wheels/f6/4d/e5/73eec5070b77f25664c67bd793d4eb97f41bbf9be7afafd15e\n",
            "Successfully built jax\n",
            "Installing collected packages: jax\n",
            "  Attempting uninstall: jax\n",
            "    Found existing installation: jax 0.3.14\n",
            "    Uninstalling jax-0.3.14:\n",
            "      Successfully uninstalled jax-0.3.14\n",
            "Successfully installed jax-0.2.12\n"
          ]
        }
      ],
      "source": [
        "# https://storage.googleapis.com/jax-releases/jax_cuda_releases.html\n",
        "!pip install --upgrade https://storage.googleapis.com/jax-releases/cuda111/jaxlib-0.1.65+cuda111-cp37-none-manylinux2010_x86_64.whl\n",
        "!pip install jax==0.2.12"
      ]
    },
    {
      "cell_type": "code",
      "execution_count": 8,
      "metadata": {
        "colab": {
          "base_uri": "https://localhost:8080/"
        },
        "id": "vrRR4RjESMir",
        "outputId": "28e4a4b6-4c57-4857-d394-5af7609aa3a1"
      },
      "outputs": [
        {
          "output_type": "stream",
          "name": "stdout",
          "text": [
            "Looking in indexes: https://pypi.org/simple, https://us-python.pkg.dev/colab-wheels/public/simple/\n",
            "Collecting dm-haiku==0.0.5.dev0\n",
            "  Downloading dm_haiku-0.0.5.dev0-py3-none-any.whl (284 kB)\n",
            "\u001b[K     |████████████████████████████████| 284 kB 4.2 MB/s \n",
            "\u001b[?25hCollecting optax==0.0.6\n",
            "  Downloading optax-0.0.6-py3-none-any.whl (96 kB)\n",
            "\u001b[K     |████████████████████████████████| 96 kB 5.8 MB/s \n",
            "\u001b[?25hCollecting chex==0.0.6\n",
            "  Downloading chex-0.0.6-py3-none-any.whl (51 kB)\n",
            "\u001b[K     |████████████████████████████████| 51 kB 605 kB/s \n",
            "\u001b[?25hRequirement already satisfied: numpy>=1.18.0 in /usr/local/lib/python3.7/dist-packages (from dm-haiku==0.0.5.dev0) (1.21.6)\n",
            "Requirement already satisfied: typing-extensions in /usr/local/lib/python3.7/dist-packages (from dm-haiku==0.0.5.dev0) (4.1.1)\n",
            "Requirement already satisfied: absl-py>=0.7.1 in /usr/local/lib/python3.7/dist-packages (from dm-haiku==0.0.5.dev0) (1.2.0)\n",
            "Requirement already satisfied: tabulate>=0.8.9 in /usr/local/lib/python3.7/dist-packages (from dm-haiku==0.0.5.dev0) (0.8.10)\n",
            "Requirement already satisfied: jaxlib>=0.1.37 in /usr/local/lib/python3.7/dist-packages (from optax==0.0.6) (0.1.65+cuda111)\n",
            "Requirement already satisfied: jax>=0.1.55 in /usr/local/lib/python3.7/dist-packages (from optax==0.0.6) (0.2.12)\n",
            "Requirement already satisfied: toolz>=0.9.0 in /usr/local/lib/python3.7/dist-packages (from chex==0.0.6) (0.12.0)\n",
            "Requirement already satisfied: dm-tree>=0.1.5 in /usr/local/lib/python3.7/dist-packages (from chex==0.0.6) (0.1.7)\n",
            "Requirement already satisfied: opt-einsum in /usr/local/lib/python3.7/dist-packages (from jax>=0.1.55->optax==0.0.6) (3.3.0)\n",
            "Requirement already satisfied: scipy in /usr/local/lib/python3.7/dist-packages (from jaxlib>=0.1.37->optax==0.0.6) (1.7.3)\n",
            "Requirement already satisfied: flatbuffers in /usr/local/lib/python3.7/dist-packages (from jaxlib>=0.1.37->optax==0.0.6) (2.0)\n",
            "Installing collected packages: chex, optax, dm-haiku\n",
            "Successfully installed chex-0.0.6 dm-haiku-0.0.5.dev0 optax-0.0.6\n"
          ]
        }
      ],
      "source": [
        "!pip install dm-haiku==0.0.5.dev0 optax==0.0.6 chex==0.0.6"
      ]
    },
    {
      "cell_type": "code",
      "source": [
        "nruns = 20"
      ],
      "metadata": {
        "id": "SZM9dSl9byY7"
      },
      "execution_count": 14,
      "outputs": []
    },
    {
      "cell_type": "code",
      "source": [
        "for i in range(0,nruns):\n",
        " base_cmd = ['python3', 'bnn_hmc/scripts/run_sgd.py', '--seed=%s' % i, '--weight_decay=10', '--dir=runs/sgd/mirabestc/lenet/%s/' % i, \n",
        " '--dataset_name=mirabest/confident', '--model_name=lenet', '--init_step_size=3e-7', '--num_epochs=200', \n",
        " '--eval_freq=5', '--batch_size=53', '--patience=10']\n",
        " train_cmd = base_cmd + ['--train_split=train[:80%]', '--test_split=train[80%:]']\n",
        " eval_cmd = base_cmd + ['--eval_split=test']\n",
        " print(' '.join(train_cmd))\n",
        " subprocess.run(train_cmd, capture_output=True)\n",
        " subprocess.run(eval_cmd, capture_output=True)"
      ],
      "metadata": {
        "colab": {
          "base_uri": "https://localhost:8080/"
        },
        "id": "2eDStfdhVOSh",
        "outputId": "2826e119-add8-4897-c424-fc1a44b036fc"
      },
      "execution_count": 10,
      "outputs": [
        {
          "output_type": "stream",
          "name": "stdout",
          "text": [
            "python3 bnn_hmc/scripts/run_sgd.py --seed=0 --weight_decay=10 --dir=runs/sgd/mirabestc/lenet/0/ --dataset_name=mirabest/confident --model_name=lenet --init_step_size=3e-7 --num_epochs=200 --eval_freq=5 --batch_size=53 --patience=10 --train_split=train[:80%] --test_split=train[80%:]\n",
            "python3 bnn_hmc/scripts/run_sgd.py --seed=1 --weight_decay=10 --dir=runs/sgd/mirabestc/lenet/1/ --dataset_name=mirabest/confident --model_name=lenet --init_step_size=3e-7 --num_epochs=200 --eval_freq=5 --batch_size=53 --patience=10 --train_split=train[:80%] --test_split=train[80%:]\n",
            "python3 bnn_hmc/scripts/run_sgd.py --seed=2 --weight_decay=10 --dir=runs/sgd/mirabestc/lenet/2/ --dataset_name=mirabest/confident --model_name=lenet --init_step_size=3e-7 --num_epochs=200 --eval_freq=5 --batch_size=53 --patience=10 --train_split=train[:80%] --test_split=train[80%:]\n",
            "python3 bnn_hmc/scripts/run_sgd.py --seed=3 --weight_decay=10 --dir=runs/sgd/mirabestc/lenet/3/ --dataset_name=mirabest/confident --model_name=lenet --init_step_size=3e-7 --num_epochs=200 --eval_freq=5 --batch_size=53 --patience=10 --train_split=train[:80%] --test_split=train[80%:]\n",
            "python3 bnn_hmc/scripts/run_sgd.py --seed=4 --weight_decay=10 --dir=runs/sgd/mirabestc/lenet/4/ --dataset_name=mirabest/confident --model_name=lenet --init_step_size=3e-7 --num_epochs=200 --eval_freq=5 --batch_size=53 --patience=10 --train_split=train[:80%] --test_split=train[80%:]\n",
            "python3 bnn_hmc/scripts/run_sgd.py --seed=5 --weight_decay=10 --dir=runs/sgd/mirabestc/lenet/5/ --dataset_name=mirabest/confident --model_name=lenet --init_step_size=3e-7 --num_epochs=200 --eval_freq=5 --batch_size=53 --patience=10 --train_split=train[:80%] --test_split=train[80%:]\n",
            "python3 bnn_hmc/scripts/run_sgd.py --seed=6 --weight_decay=10 --dir=runs/sgd/mirabestc/lenet/6/ --dataset_name=mirabest/confident --model_name=lenet --init_step_size=3e-7 --num_epochs=200 --eval_freq=5 --batch_size=53 --patience=10 --train_split=train[:80%] --test_split=train[80%:]\n",
            "python3 bnn_hmc/scripts/run_sgd.py --seed=7 --weight_decay=10 --dir=runs/sgd/mirabestc/lenet/7/ --dataset_name=mirabest/confident --model_name=lenet --init_step_size=3e-7 --num_epochs=200 --eval_freq=5 --batch_size=53 --patience=10 --train_split=train[:80%] --test_split=train[80%:]\n",
            "python3 bnn_hmc/scripts/run_sgd.py --seed=8 --weight_decay=10 --dir=runs/sgd/mirabestc/lenet/8/ --dataset_name=mirabest/confident --model_name=lenet --init_step_size=3e-7 --num_epochs=200 --eval_freq=5 --batch_size=53 --patience=10 --train_split=train[:80%] --test_split=train[80%:]\n",
            "python3 bnn_hmc/scripts/run_sgd.py --seed=9 --weight_decay=10 --dir=runs/sgd/mirabestc/lenet/9/ --dataset_name=mirabest/confident --model_name=lenet --init_step_size=3e-7 --num_epochs=200 --eval_freq=5 --batch_size=53 --patience=10 --train_split=train[:80%] --test_split=train[80%:]\n",
            "python3 bnn_hmc/scripts/run_sgd.py --seed=10 --weight_decay=10 --dir=runs/sgd/mirabestc/lenet/10/ --dataset_name=mirabest/confident --model_name=lenet --init_step_size=3e-7 --num_epochs=200 --eval_freq=5 --batch_size=53 --patience=10 --train_split=train[:80%] --test_split=train[80%:]\n",
            "python3 bnn_hmc/scripts/run_sgd.py --seed=11 --weight_decay=10 --dir=runs/sgd/mirabestc/lenet/11/ --dataset_name=mirabest/confident --model_name=lenet --init_step_size=3e-7 --num_epochs=200 --eval_freq=5 --batch_size=53 --patience=10 --train_split=train[:80%] --test_split=train[80%:]\n",
            "python3 bnn_hmc/scripts/run_sgd.py --seed=12 --weight_decay=10 --dir=runs/sgd/mirabestc/lenet/12/ --dataset_name=mirabest/confident --model_name=lenet --init_step_size=3e-7 --num_epochs=200 --eval_freq=5 --batch_size=53 --patience=10 --train_split=train[:80%] --test_split=train[80%:]\n",
            "python3 bnn_hmc/scripts/run_sgd.py --seed=13 --weight_decay=10 --dir=runs/sgd/mirabestc/lenet/13/ --dataset_name=mirabest/confident --model_name=lenet --init_step_size=3e-7 --num_epochs=200 --eval_freq=5 --batch_size=53 --patience=10 --train_split=train[:80%] --test_split=train[80%:]\n",
            "python3 bnn_hmc/scripts/run_sgd.py --seed=14 --weight_decay=10 --dir=runs/sgd/mirabestc/lenet/14/ --dataset_name=mirabest/confident --model_name=lenet --init_step_size=3e-7 --num_epochs=200 --eval_freq=5 --batch_size=53 --patience=10 --train_split=train[:80%] --test_split=train[80%:]\n",
            "python3 bnn_hmc/scripts/run_sgd.py --seed=15 --weight_decay=10 --dir=runs/sgd/mirabestc/lenet/15/ --dataset_name=mirabest/confident --model_name=lenet --init_step_size=3e-7 --num_epochs=200 --eval_freq=5 --batch_size=53 --patience=10 --train_split=train[:80%] --test_split=train[80%:]\n",
            "python3 bnn_hmc/scripts/run_sgd.py --seed=16 --weight_decay=10 --dir=runs/sgd/mirabestc/lenet/16/ --dataset_name=mirabest/confident --model_name=lenet --init_step_size=3e-7 --num_epochs=200 --eval_freq=5 --batch_size=53 --patience=10 --train_split=train[:80%] --test_split=train[80%:]\n",
            "python3 bnn_hmc/scripts/run_sgd.py --seed=17 --weight_decay=10 --dir=runs/sgd/mirabestc/lenet/17/ --dataset_name=mirabest/confident --model_name=lenet --init_step_size=3e-7 --num_epochs=200 --eval_freq=5 --batch_size=53 --patience=10 --train_split=train[:80%] --test_split=train[80%:]\n",
            "python3 bnn_hmc/scripts/run_sgd.py --seed=18 --weight_decay=10 --dir=runs/sgd/mirabestc/lenet/18/ --dataset_name=mirabest/confident --model_name=lenet --init_step_size=3e-7 --num_epochs=200 --eval_freq=5 --batch_size=53 --patience=10 --train_split=train[:80%] --test_split=train[80%:]\n",
            "python3 bnn_hmc/scripts/run_sgd.py --seed=19 --weight_decay=10 --dir=runs/sgd/mirabestc/lenet/19/ --dataset_name=mirabest/confident --model_name=lenet --init_step_size=3e-7 --num_epochs=200 --eval_freq=5 --batch_size=53 --patience=10 --train_split=train[:80%] --test_split=train[80%:]\n"
          ]
        }
      ]
    },
    {
      "cell_type": "code",
      "execution_count": 15,
      "metadata": {
        "id": "dj8qoJTKQ4l7"
      },
      "outputs": [],
      "source": [
        "import numpy as np\n",
        "data = np.load('/content/runs/sgd/mirabestc/lenet/0/sgd_mom_0.9__lr_sch_i_3e-07___epochs_200_wd_10.0_batchsize_53_temp_1.0__seed_0/test_set.npy')"
      ]
    },
    {
      "cell_type": "code",
      "execution_count": 16,
      "metadata": {
        "colab": {
          "base_uri": "https://localhost:8080/"
        },
        "id": "yhXkyDWgOrkj",
        "outputId": "de06a637-736e-4bbe-f998-dd2784a1af6a"
      },
      "outputs": [
        {
          "output_type": "stream",
          "name": "stdout",
          "text": [
            "Seed = 0\n",
            "Accuracy: 0.8846153846153846\n",
            "Seed = 1\n",
            "Accuracy: 0.9038461538461539\n",
            "Seed = 2\n",
            "Accuracy: 0.9134615384615384\n",
            "Seed = 3\n",
            "Accuracy: 0.8942307692307693\n",
            "Seed = 4\n",
            "Accuracy: 0.9134615384615384\n",
            "Seed = 5\n",
            "Accuracy: 0.9038461538461539\n",
            "Seed = 6\n",
            "Accuracy: 0.8846153846153846\n",
            "Seed = 7\n",
            "Accuracy: 0.9038461538461539\n",
            "Seed = 8\n",
            "Accuracy: 0.8942307692307693\n",
            "Seed = 9\n",
            "Accuracy: 0.875\n",
            "Seed = 10\n",
            "Accuracy: 0.9038461538461539\n",
            "Seed = 11\n",
            "Accuracy: 0.875\n",
            "Seed = 12\n",
            "Accuracy: 0.9134615384615384\n",
            "Seed = 13\n",
            "Accuracy: 0.8557692307692307\n",
            "Seed = 14\n",
            "Accuracy: 0.875\n",
            "Seed = 15\n",
            "Accuracy: 0.9038461538461539\n",
            "Seed = 16\n",
            "Accuracy: 0.9038461538461539\n",
            "Seed = 17\n",
            "Accuracy: 0.8846153846153846\n",
            "Seed = 18\n",
            "Accuracy: 0.9038461538461539\n",
            "Seed = 19\n",
            "Accuracy: 0.9230769230769231\n"
          ]
        }
      ],
      "source": [
        "for a in range(0, nruns):\n",
        "  prediction = np.load('/content/runs/sgd/mirabestc/lenet/' + str(a) + '/sgd_mom_0.9__lr_sch_i_3e-07___epochs_200_wd_10.0_batchsize_53_temp_1.0__seed_' \n",
        "                       + str(a) + '/predictions.npy')\n",
        "  print('Seed = ' + str(a))\n",
        "  correct, n = 0, 0\n",
        "  \n",
        "  correct += np.sum(np.argmax(prediction, axis=-1) == data)\n",
        "  n += np.size(data)\n",
        "  print('Accuracy:',correct / n)\n"
      ]
    },
    {
      "cell_type": "code",
      "execution_count": 17,
      "metadata": {
        "id": "aFS25i9eY5Dq",
        "colab": {
          "base_uri": "https://localhost:8080/"
        },
        "outputId": "681078b3-e135-4d9d-a372-c63e7634cdcc"
      },
      "outputs": [
        {
          "output_type": "stream",
          "name": "stdout",
          "text": [
            "Predictive Entropy: -48.7095607678644\n",
            "Mutual Information: -54.59803351566714\n",
            "Entropy of a single pass: 5.8884727478027346\n"
          ]
        }
      ],
      "source": [
        "samples_iter = 10\n",
        "softmax = []\n",
        "\n",
        "for a in range(0, nruns):\n",
        "  prediction = np.load('/content/runs/sgd/mirabestc/lenet/' + str(a) + '/sgd_mom_0.9__lr_sch_i_3e-07___epochs_200_wd_10.0_batchsize_53_temp_1.0__seed_' \n",
        "                       + str(a) + '/predictions.npy')\n",
        "  \n",
        "  softmax.append(prediction)\n",
        "\n",
        "softmax = np.array(softmax)\n",
        "\n",
        "\n",
        "\n",
        "def entropy_MI(softmax, samples_iter):\n",
        "\n",
        "    class_0 = softmax[:][0]\n",
        "    class_1 = softmax[:][1]\n",
        "    #biased estimator of predictive entropy, bias will reduce as samples_iter is increased\n",
        "    predictive_entropy = -((np.sum(class_0)/samples_iter) * np.log(np.sum(class_0)/samples_iter) + (np.sum(class_1)/samples_iter) * np.log(np.sum(class_1)/samples_iter))\n",
        "    \n",
        "    #Orignal: -((np.sum(class_0)/samples_iter) * np.log(np.sum(class_0)/samples_iter) + (np.sum(class_1)/samples_iter) * np.log(np.sum(class_1)/samples_iter))\n",
        "    \n",
        "\n",
        "    mutual_info = predictive_entropy + np.sum((class_0 * np.log(class_0)) + (class_1 * np.log(class_1)))/samples_iter\n",
        "\n",
        "    #Original: predictive_entropy + np.sum(class_0*np.log(class_0))/samples_iter +  np.sum(class_1*np.log(class_1))/samples_iter\n",
        "    \n",
        "    #entropy of a single pass\n",
        "    class0 = softmax[:][0][0]\n",
        "    class1 = softmax[:][1][0]\n",
        "    entropy_singlepass = -np.sum((class0 * np.log(class0)) + (class1 * np.log(class1)))/samples_iter\n",
        "\n",
        "    #Original: -(class0 * np.log(class0) + class1 * np.log(class1))\n",
        "\n",
        "    #print(\"Entropy of a single pass:\", entropy_singlepass)\n",
        "    return predictive_entropy, mutual_info, entropy_singlepass\n",
        "\n",
        "\n",
        "\n",
        "predictive_entropy, mutual_info, entropy_singlepass = entropy_MI(softmax, samples_iter)\n",
        "\n",
        "\n",
        "print(\"Predictive Entropy:\", predictive_entropy)\n",
        "print(\"Mutual Information:\", mutual_info)\n",
        "print(\"Entropy of a single pass:\", entropy_singlepass)"
      ]
    },
    {
      "cell_type": "code",
      "source": [
        ""
      ],
      "metadata": {
        "id": "MQkVCp3Wh0jw"
      },
      "execution_count": null,
      "outputs": []
    }
  ],
  "metadata": {
    "accelerator": "GPU",
    "colab": {
      "collapsed_sections": [],
      "name": "Mirabest_ensemble.ipynb",
      "provenance": [],
      "include_colab_link": true
    },
    "gpuClass": "standard",
    "kernelspec": {
      "display_name": "Python 3",
      "name": "python3"
    },
    "language_info": {
      "name": "python"
    }
  },
  "nbformat": 4,
  "nbformat_minor": 0
}