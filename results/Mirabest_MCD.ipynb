{
  "cells": [
    {
      "cell_type": "markdown",
      "metadata": {
        "id": "view-in-github",
        "colab_type": "text"
      },
      "source": [
        "<a href=\"https://colab.research.google.com/github/adammoss/bnn_hmc/blob/main/results/Mirabest_MCD.ipynb\" target=\"_parent\"><img src=\"https://colab.research.google.com/assets/colab-badge.svg\" alt=\"Open In Colab\"/></a>"
      ]
    },
    {
      "cell_type": "code",
      "source": [
        "import tensorflow as tf\n",
        "import numpy as np\n",
        "import os\n",
        "import tensorflow_datasets as tfds\n",
        "from matplotlib import pyplot as plt\n",
        "import seaborn as sns"
      ],
      "metadata": {
        "id": "0Qzhlk1lAcYm"
      },
      "execution_count": 1,
      "outputs": []
    },
    {
      "cell_type": "code",
      "source": [
        "samples_iter = 200\n",
        "dropout = 0.1"
      ],
      "metadata": {
        "id": "fV0em6JQAGyU"
      },
      "execution_count": 2,
      "outputs": []
    },
    {
      "cell_type": "code",
      "source": [
        "!pip install astro-datasets --upgrade\n",
        "!pip install tensorflow_datasets --upgrade\n",
        "import astro_datasets"
      ],
      "metadata": {
        "id": "UCaVOb8qDuss",
        "colab": {
          "base_uri": "https://localhost:8080/"
        },
        "outputId": "53d85503-8169-4c37-9c82-d03228f40155"
      },
      "execution_count": 3,
      "outputs": [
        {
          "output_type": "stream",
          "name": "stdout",
          "text": [
            "Looking in indexes: https://pypi.org/simple, https://us-python.pkg.dev/colab-wheels/public/simple/\n",
            "Requirement already satisfied: astro-datasets in /usr/local/lib/python3.7/dist-packages (0.0.9)\n",
            "Requirement already satisfied: tensorflow in /usr/local/lib/python3.7/dist-packages (from astro-datasets) (2.8.2+zzzcolab20220719082949)\n",
            "Requirement already satisfied: pandas in /usr/local/lib/python3.7/dist-packages (from astro-datasets) (1.3.5)\n",
            "Requirement already satisfied: numpy in /usr/local/lib/python3.7/dist-packages (from astro-datasets) (1.21.6)\n",
            "Requirement already satisfied: tensorflow-datasets in /usr/local/lib/python3.7/dist-packages (from astro-datasets) (4.6.0)\n",
            "Requirement already satisfied: python-dateutil>=2.7.3 in /usr/local/lib/python3.7/dist-packages (from pandas->astro-datasets) (2.8.2)\n",
            "Requirement already satisfied: pytz>=2017.3 in /usr/local/lib/python3.7/dist-packages (from pandas->astro-datasets) (2022.1)\n",
            "Requirement already satisfied: six>=1.5 in /usr/local/lib/python3.7/dist-packages (from python-dateutil>=2.7.3->pandas->astro-datasets) (1.15.0)\n",
            "Requirement already satisfied: keras<2.9,>=2.8.0rc0 in /usr/local/lib/python3.7/dist-packages (from tensorflow->astro-datasets) (2.8.0)\n",
            "Requirement already satisfied: typing-extensions>=3.6.6 in /usr/local/lib/python3.7/dist-packages (from tensorflow->astro-datasets) (4.1.1)\n",
            "Requirement already satisfied: google-pasta>=0.1.1 in /usr/local/lib/python3.7/dist-packages (from tensorflow->astro-datasets) (0.2.0)\n",
            "Requirement already satisfied: keras-preprocessing>=1.1.1 in /usr/local/lib/python3.7/dist-packages (from tensorflow->astro-datasets) (1.1.2)\n",
            "Requirement already satisfied: grpcio<2.0,>=1.24.3 in /usr/local/lib/python3.7/dist-packages (from tensorflow->astro-datasets) (1.47.0)\n",
            "Requirement already satisfied: astunparse>=1.6.0 in /usr/local/lib/python3.7/dist-packages (from tensorflow->astro-datasets) (1.6.3)\n",
            "Requirement already satisfied: flatbuffers>=1.12 in /usr/local/lib/python3.7/dist-packages (from tensorflow->astro-datasets) (2.0)\n",
            "Requirement already satisfied: tensorboard<2.9,>=2.8 in /usr/local/lib/python3.7/dist-packages (from tensorflow->astro-datasets) (2.8.0)\n",
            "Requirement already satisfied: tensorflow-estimator<2.9,>=2.8 in /usr/local/lib/python3.7/dist-packages (from tensorflow->astro-datasets) (2.8.0)\n",
            "Requirement already satisfied: gast>=0.2.1 in /usr/local/lib/python3.7/dist-packages (from tensorflow->astro-datasets) (0.5.3)\n",
            "Requirement already satisfied: setuptools in /usr/local/lib/python3.7/dist-packages (from tensorflow->astro-datasets) (57.4.0)\n",
            "Requirement already satisfied: libclang>=9.0.1 in /usr/local/lib/python3.7/dist-packages (from tensorflow->astro-datasets) (14.0.6)\n",
            "Requirement already satisfied: h5py>=2.9.0 in /usr/local/lib/python3.7/dist-packages (from tensorflow->astro-datasets) (3.1.0)\n",
            "Requirement already satisfied: wrapt>=1.11.0 in /usr/local/lib/python3.7/dist-packages (from tensorflow->astro-datasets) (1.14.1)\n",
            "Requirement already satisfied: termcolor>=1.1.0 in /usr/local/lib/python3.7/dist-packages (from tensorflow->astro-datasets) (1.1.0)\n",
            "Requirement already satisfied: absl-py>=0.4.0 in /usr/local/lib/python3.7/dist-packages (from tensorflow->astro-datasets) (1.2.0)\n",
            "Requirement already satisfied: tensorflow-io-gcs-filesystem>=0.23.1 in /usr/local/lib/python3.7/dist-packages (from tensorflow->astro-datasets) (0.26.0)\n",
            "Requirement already satisfied: protobuf<3.20,>=3.9.2 in /usr/local/lib/python3.7/dist-packages (from tensorflow->astro-datasets) (3.17.3)\n",
            "Requirement already satisfied: opt-einsum>=2.3.2 in /usr/local/lib/python3.7/dist-packages (from tensorflow->astro-datasets) (3.3.0)\n",
            "Requirement already satisfied: wheel<1.0,>=0.23.0 in /usr/local/lib/python3.7/dist-packages (from astunparse>=1.6.0->tensorflow->astro-datasets) (0.37.1)\n",
            "Requirement already satisfied: cached-property in /usr/local/lib/python3.7/dist-packages (from h5py>=2.9.0->tensorflow->astro-datasets) (1.5.2)\n",
            "Requirement already satisfied: google-auth-oauthlib<0.5,>=0.4.1 in /usr/local/lib/python3.7/dist-packages (from tensorboard<2.9,>=2.8->tensorflow->astro-datasets) (0.4.6)\n",
            "Requirement already satisfied: markdown>=2.6.8 in /usr/local/lib/python3.7/dist-packages (from tensorboard<2.9,>=2.8->tensorflow->astro-datasets) (3.4.1)\n",
            "Requirement already satisfied: tensorboard-data-server<0.7.0,>=0.6.0 in /usr/local/lib/python3.7/dist-packages (from tensorboard<2.9,>=2.8->tensorflow->astro-datasets) (0.6.1)\n",
            "Requirement already satisfied: tensorboard-plugin-wit>=1.6.0 in /usr/local/lib/python3.7/dist-packages (from tensorboard<2.9,>=2.8->tensorflow->astro-datasets) (1.8.1)\n",
            "Requirement already satisfied: werkzeug>=0.11.15 in /usr/local/lib/python3.7/dist-packages (from tensorboard<2.9,>=2.8->tensorflow->astro-datasets) (1.0.1)\n",
            "Requirement already satisfied: google-auth<3,>=1.6.3 in /usr/local/lib/python3.7/dist-packages (from tensorboard<2.9,>=2.8->tensorflow->astro-datasets) (1.35.0)\n",
            "Requirement already satisfied: requests<3,>=2.21.0 in /usr/local/lib/python3.7/dist-packages (from tensorboard<2.9,>=2.8->tensorflow->astro-datasets) (2.23.0)\n",
            "Requirement already satisfied: cachetools<5.0,>=2.0.0 in /usr/local/lib/python3.7/dist-packages (from google-auth<3,>=1.6.3->tensorboard<2.9,>=2.8->tensorflow->astro-datasets) (4.2.4)\n",
            "Requirement already satisfied: pyasn1-modules>=0.2.1 in /usr/local/lib/python3.7/dist-packages (from google-auth<3,>=1.6.3->tensorboard<2.9,>=2.8->tensorflow->astro-datasets) (0.2.8)\n",
            "Requirement already satisfied: rsa<5,>=3.1.4 in /usr/local/lib/python3.7/dist-packages (from google-auth<3,>=1.6.3->tensorboard<2.9,>=2.8->tensorflow->astro-datasets) (4.9)\n",
            "Requirement already satisfied: requests-oauthlib>=0.7.0 in /usr/local/lib/python3.7/dist-packages (from google-auth-oauthlib<0.5,>=0.4.1->tensorboard<2.9,>=2.8->tensorflow->astro-datasets) (1.3.1)\n",
            "Requirement already satisfied: importlib-metadata>=4.4 in /usr/local/lib/python3.7/dist-packages (from markdown>=2.6.8->tensorboard<2.9,>=2.8->tensorflow->astro-datasets) (4.12.0)\n",
            "Requirement already satisfied: zipp>=0.5 in /usr/local/lib/python3.7/dist-packages (from importlib-metadata>=4.4->markdown>=2.6.8->tensorboard<2.9,>=2.8->tensorflow->astro-datasets) (3.8.1)\n",
            "Requirement already satisfied: pyasn1<0.5.0,>=0.4.6 in /usr/local/lib/python3.7/dist-packages (from pyasn1-modules>=0.2.1->google-auth<3,>=1.6.3->tensorboard<2.9,>=2.8->tensorflow->astro-datasets) (0.4.8)\n",
            "Requirement already satisfied: urllib3!=1.25.0,!=1.25.1,<1.26,>=1.21.1 in /usr/local/lib/python3.7/dist-packages (from requests<3,>=2.21.0->tensorboard<2.9,>=2.8->tensorflow->astro-datasets) (1.24.3)\n",
            "Requirement already satisfied: idna<3,>=2.5 in /usr/local/lib/python3.7/dist-packages (from requests<3,>=2.21.0->tensorboard<2.9,>=2.8->tensorflow->astro-datasets) (2.10)\n",
            "Requirement already satisfied: chardet<4,>=3.0.2 in /usr/local/lib/python3.7/dist-packages (from requests<3,>=2.21.0->tensorboard<2.9,>=2.8->tensorflow->astro-datasets) (3.0.4)\n",
            "Requirement already satisfied: certifi>=2017.4.17 in /usr/local/lib/python3.7/dist-packages (from requests<3,>=2.21.0->tensorboard<2.9,>=2.8->tensorflow->astro-datasets) (2022.6.15)\n",
            "Requirement already satisfied: oauthlib>=3.0.0 in /usr/local/lib/python3.7/dist-packages (from requests-oauthlib>=0.7.0->google-auth-oauthlib<0.5,>=0.4.1->tensorboard<2.9,>=2.8->tensorflow->astro-datasets) (3.2.0)\n",
            "Requirement already satisfied: tqdm in /usr/local/lib/python3.7/dist-packages (from tensorflow-datasets->astro-datasets) (4.64.0)\n",
            "Requirement already satisfied: importlib-resources in /usr/local/lib/python3.7/dist-packages (from tensorflow-datasets->astro-datasets) (5.9.0)\n",
            "Requirement already satisfied: dill in /usr/local/lib/python3.7/dist-packages (from tensorflow-datasets->astro-datasets) (0.3.5.1)\n",
            "Requirement already satisfied: toml in /usr/local/lib/python3.7/dist-packages (from tensorflow-datasets->astro-datasets) (0.10.2)\n",
            "Requirement already satisfied: tensorflow-metadata in /usr/local/lib/python3.7/dist-packages (from tensorflow-datasets->astro-datasets) (1.9.0)\n",
            "Requirement already satisfied: etils[epath] in /usr/local/lib/python3.7/dist-packages (from tensorflow-datasets->astro-datasets) (0.6.0)\n",
            "Requirement already satisfied: promise in /usr/local/lib/python3.7/dist-packages (from tensorflow-datasets->astro-datasets) (2.3)\n",
            "Requirement already satisfied: googleapis-common-protos<2,>=1.52.0 in /usr/local/lib/python3.7/dist-packages (from tensorflow-metadata->tensorflow-datasets->astro-datasets) (1.56.4)\n",
            "Looking in indexes: https://pypi.org/simple, https://us-python.pkg.dev/colab-wheels/public/simple/\n",
            "Requirement already satisfied: tensorflow_datasets in /usr/local/lib/python3.7/dist-packages (4.6.0)\n",
            "Requirement already satisfied: toml in /usr/local/lib/python3.7/dist-packages (from tensorflow_datasets) (0.10.2)\n",
            "Requirement already satisfied: tqdm in /usr/local/lib/python3.7/dist-packages (from tensorflow_datasets) (4.64.0)\n",
            "Requirement already satisfied: termcolor in /usr/local/lib/python3.7/dist-packages (from tensorflow_datasets) (1.1.0)\n",
            "Requirement already satisfied: protobuf>=3.12.2 in /usr/local/lib/python3.7/dist-packages (from tensorflow_datasets) (3.17.3)\n",
            "Requirement already satisfied: numpy in /usr/local/lib/python3.7/dist-packages (from tensorflow_datasets) (1.21.6)\n",
            "Requirement already satisfied: six in /usr/local/lib/python3.7/dist-packages (from tensorflow_datasets) (1.15.0)\n",
            "Requirement already satisfied: dill in /usr/local/lib/python3.7/dist-packages (from tensorflow_datasets) (0.3.5.1)\n",
            "Requirement already satisfied: importlib-resources in /usr/local/lib/python3.7/dist-packages (from tensorflow_datasets) (5.9.0)\n",
            "Requirement already satisfied: requests>=2.19.0 in /usr/local/lib/python3.7/dist-packages (from tensorflow_datasets) (2.23.0)\n",
            "Requirement already satisfied: typing-extensions in /usr/local/lib/python3.7/dist-packages (from tensorflow_datasets) (4.1.1)\n",
            "Requirement already satisfied: tensorflow-metadata in /usr/local/lib/python3.7/dist-packages (from tensorflow_datasets) (1.9.0)\n",
            "Requirement already satisfied: promise in /usr/local/lib/python3.7/dist-packages (from tensorflow_datasets) (2.3)\n",
            "Requirement already satisfied: absl-py in /usr/local/lib/python3.7/dist-packages (from tensorflow_datasets) (1.2.0)\n",
            "Requirement already satisfied: etils[epath] in /usr/local/lib/python3.7/dist-packages (from tensorflow_datasets) (0.6.0)\n",
            "Requirement already satisfied: idna<3,>=2.5 in /usr/local/lib/python3.7/dist-packages (from requests>=2.19.0->tensorflow_datasets) (2.10)\n",
            "Requirement already satisfied: certifi>=2017.4.17 in /usr/local/lib/python3.7/dist-packages (from requests>=2.19.0->tensorflow_datasets) (2022.6.15)\n",
            "Requirement already satisfied: urllib3!=1.25.0,!=1.25.1,<1.26,>=1.21.1 in /usr/local/lib/python3.7/dist-packages (from requests>=2.19.0->tensorflow_datasets) (1.24.3)\n",
            "Requirement already satisfied: chardet<4,>=3.0.2 in /usr/local/lib/python3.7/dist-packages (from requests>=2.19.0->tensorflow_datasets) (3.0.4)\n",
            "Requirement already satisfied: zipp in /usr/local/lib/python3.7/dist-packages (from etils[epath]->tensorflow_datasets) (3.8.1)\n",
            "Requirement already satisfied: googleapis-common-protos<2,>=1.52.0 in /usr/local/lib/python3.7/dist-packages (from tensorflow-metadata->tensorflow_datasets) (1.56.4)\n"
          ]
        }
      ]
    },
    {
      "cell_type": "markdown",
      "source": [
        "Load dataset, splitting into training, validation and testing"
      ],
      "metadata": {
        "collapsed": false,
        "pycharm": {
          "name": "#%% md\n"
        },
        "id": "3QjJ8hJkDc3P"
      }
    },
    {
      "cell_type": "code",
      "execution_count": 4,
      "outputs": [],
      "source": [
        "dataset_train, info_train = tfds.load(name='mirabest/confident', split='train[:80%]', batch_size=50, as_supervised=True, with_info=True)\n",
        "dataset_valid, info_valid = tfds.load(name='mirabest/confident', split='train[80%:]', batch_size=50, as_supervised=True, with_info=True) \n",
        "dataset_test, info_test = tfds.load(name='mirabest/confident', split='test', batch_size=50, as_supervised=True, with_info=True) "
      ],
      "metadata": {
        "pycharm": {
          "name": "#%%\n"
        },
        "id": "PxcCbkYaDc3R"
      }
    },
    {
      "cell_type": "markdown",
      "source": [
        "Define MCD layer"
      ],
      "metadata": {
        "id": "XaopgRkWW1sP"
      }
    },
    {
      "cell_type": "code",
      "source": [
        "class MonteCarloDropout(tf.keras.layers.Dropout):\n",
        "     def call(self, inputs):\n",
        "         return super().call(inputs, training=True)"
      ],
      "metadata": {
        "id": "UeBngvEAW2Ev"
      },
      "execution_count": 5,
      "outputs": []
    },
    {
      "cell_type": "markdown",
      "source": [
        "Create model"
      ],
      "metadata": {
        "collapsed": false,
        "pycharm": {
          "name": "#%% md\n"
        },
        "id": "BBxP_9PqDc3T"
      }
    },
    {
      "cell_type": "code",
      "execution_count": 6,
      "outputs": [],
      "source": [
        "model = tf.keras.models.Sequential([\n",
        "    tf.keras.layers.Conv2D(6, kernel_size=5, strides=1, padding = 'same', input_shape=(150, 150, 1)),\n",
        "    tf.keras.layers.ReLU(),\n",
        "    tf.keras.layers.MaxPool2D(pool_size=(3, 3), strides=(2,2)),\n",
        "    MonteCarloDropout(dropout),\n",
        "    tf.keras.layers.Conv2D(16, kernel_size=5, strides=1, padding = 'same'),\n",
        "    tf.keras.layers.ReLU(),\n",
        "    tf.keras.layers.MaxPool2D(pool_size=(3, 3), strides=(2,2)),\n",
        "    MonteCarloDropout(dropout),\n",
        "    tf.keras.layers.Conv2D(120, kernel_size=5, strides=1, padding = 'same'),\n",
        "    tf.keras.layers.ReLU(),\n",
        "    tf.keras.layers.MaxPool2D(pool_size=(3, 3), strides=(2,2)),\n",
        "    MonteCarloDropout(dropout),\n",
        "    tf.keras.layers.Flatten(),\n",
        "    tf.keras.layers.Dense(84),\n",
        "    tf.keras.layers.ReLU(),\n",
        "    MonteCarloDropout(dropout),\n",
        "    tf.keras.layers.Dense(2, activation='softmax'),\n",
        "    ])"
      ],
      "metadata": {
        "pycharm": {
          "name": "#%%\n"
        },
        "id": "Njap0BGqDc3T"
      }
    },
    {
      "cell_type": "code",
      "source": [
        "model.summary()"
      ],
      "metadata": {
        "id": "r47JZ-5iDXuf",
        "outputId": "6cfbf373-17ae-4b26-c683-7b35e9929950",
        "colab": {
          "base_uri": "https://localhost:8080/"
        }
      },
      "execution_count": 7,
      "outputs": [
        {
          "output_type": "stream",
          "name": "stdout",
          "text": [
            "Model: \"sequential\"\n",
            "_________________________________________________________________\n",
            " Layer (type)                Output Shape              Param #   \n",
            "=================================================================\n",
            " conv2d (Conv2D)             (None, 150, 150, 6)       156       \n",
            "                                                                 \n",
            " re_lu (ReLU)                (None, 150, 150, 6)       0         \n",
            "                                                                 \n",
            " max_pooling2d (MaxPooling2D  (None, 74, 74, 6)        0         \n",
            " )                                                               \n",
            "                                                                 \n",
            " monte_carlo_dropout (MonteC  (None, 74, 74, 6)        0         \n",
            " arloDropout)                                                    \n",
            "                                                                 \n",
            " conv2d_1 (Conv2D)           (None, 74, 74, 16)        2416      \n",
            "                                                                 \n",
            " re_lu_1 (ReLU)              (None, 74, 74, 16)        0         \n",
            "                                                                 \n",
            " max_pooling2d_1 (MaxPooling  (None, 36, 36, 16)       0         \n",
            " 2D)                                                             \n",
            "                                                                 \n",
            " monte_carlo_dropout_1 (Mont  (None, 36, 36, 16)       0         \n",
            " eCarloDropout)                                                  \n",
            "                                                                 \n",
            " conv2d_2 (Conv2D)           (None, 36, 36, 120)       48120     \n",
            "                                                                 \n",
            " re_lu_2 (ReLU)              (None, 36, 36, 120)       0         \n",
            "                                                                 \n",
            " max_pooling2d_2 (MaxPooling  (None, 17, 17, 120)      0         \n",
            " 2D)                                                             \n",
            "                                                                 \n",
            " monte_carlo_dropout_2 (Mont  (None, 17, 17, 120)      0         \n",
            " eCarloDropout)                                                  \n",
            "                                                                 \n",
            " flatten (Flatten)           (None, 34680)             0         \n",
            "                                                                 \n",
            " dense (Dense)               (None, 84)                2913204   \n",
            "                                                                 \n",
            " re_lu_3 (ReLU)              (None, 84)                0         \n",
            "                                                                 \n",
            " monte_carlo_dropout_3 (Mont  (None, 84)               0         \n",
            " eCarloDropout)                                                  \n",
            "                                                                 \n",
            " dense_1 (Dense)             (None, 2)                 170       \n",
            "                                                                 \n",
            "=================================================================\n",
            "Total params: 2,964,066\n",
            "Trainable params: 2,964,066\n",
            "Non-trainable params: 0\n",
            "_________________________________________________________________\n"
          ]
        }
      ]
    },
    {
      "cell_type": "markdown",
      "source": [
        "Loss function"
      ],
      "metadata": {
        "collapsed": false,
        "pycharm": {
          "name": "#%% md\n"
        },
        "id": "yVQ_MlmaDc3U"
      }
    },
    {
      "cell_type": "code",
      "execution_count": 8,
      "outputs": [],
      "source": [
        "loss=tf.keras.losses.SparseCategoricalCrossentropy()"
      ],
      "metadata": {
        "pycharm": {
          "name": "#%%\n"
        },
        "id": "6yASCNz9Dc3V"
      }
    },
    {
      "cell_type": "markdown",
      "source": [
        "Optimiser and learning rate scheduler"
      ],
      "metadata": {
        "collapsed": false,
        "pycharm": {
          "name": "#%% md\n"
        },
        "id": "o05piryBDc3V"
      }
    },
    {
      "cell_type": "code",
      "execution_count": 9,
      "outputs": [],
      "source": [
        "opt = tf.keras.optimizers.Adam(learning_rate=5e-5)\n",
        "reduce_lr = tf.keras.callbacks.ReduceLROnPlateau(monitor='val_loss', factor=0.95, patience=3)"
      ],
      "metadata": {
        "pycharm": {
          "name": "#%%\n"
        },
        "id": "tRKUeZ8MDc3W"
      }
    },
    {
      "cell_type": "markdown",
      "source": [
        "Compile model"
      ],
      "metadata": {
        "collapsed": false,
        "pycharm": {
          "name": "#%% md\n"
        },
        "id": "poiLvWqlDc3W"
      }
    },
    {
      "cell_type": "code",
      "execution_count": 10,
      "outputs": [],
      "source": [
        "model.compile(optimizer=opt,\n",
        "              loss=loss,\n",
        "              metrics='accuracy')\n"
      ],
      "metadata": {
        "pycharm": {
          "name": "#%%\n"
        },
        "id": "7fT8Wre_Dc3W"
      }
    },
    {
      "cell_type": "markdown",
      "source": [
        "Save best weights"
      ],
      "metadata": {
        "collapsed": false,
        "pycharm": {
          "name": "#%% md\n"
        },
        "id": "b0qDJiw4Dc3X"
      }
    },
    {
      "cell_type": "code",
      "execution_count": 11,
      "outputs": [],
      "source": [
        "checkpoint_path = \"mirabest/cp.ckpt\"\n",
        "checkpoint_dir = os.path.dirname(checkpoint_path)\n",
        "\n",
        "cp_callback = tf.keras.callbacks.ModelCheckpoint(filepath=checkpoint_path,\n",
        "                                                  save_weights_only=False,\n",
        "                                                  monitor='val_loss',\n",
        "                                                  mode='min',\n",
        "                                                  verbose=1,\n",
        "                                                  save_best_only=True)\n",
        "\n",
        "es_callback = tf.keras.callbacks.EarlyStopping(monitor='val_loss', patience=20)"
      ],
      "metadata": {
        "pycharm": {
          "name": "#%%\n"
        },
        "id": "u_ycRk-vDc3X"
      }
    },
    {
      "cell_type": "markdown",
      "source": [
        "Train model"
      ],
      "metadata": {
        "collapsed": false,
        "pycharm": {
          "name": "#%% md\n"
        },
        "id": "JzEdGL4YDc3X"
      }
    },
    {
      "cell_type": "code",
      "execution_count": 12,
      "outputs": [
        {
          "output_type": "stream",
          "name": "stdout",
          "text": [
            "Epoch 1/100\n",
            "12/12 [==============================] - ETA: 0s - loss: 2.1578 - accuracy: 0.5163\n",
            "Epoch 1: val_loss improved from inf to 1.24188, saving model to mirabest/cp.ckpt\n",
            "12/12 [==============================] - 6s 310ms/step - loss: 2.1578 - accuracy: 0.5163 - val_loss: 1.2419 - val_accuracy: 0.5479 - lr: 5.0000e-05\n",
            "Epoch 2/100\n",
            " 8/12 [===================>..........] - ETA: 0s - loss: 0.8971 - accuracy: 0.6375\n",
            "Epoch 2: val_loss improved from 1.24188 to 0.86104, saving model to mirabest/cp.ckpt\n",
            "12/12 [==============================] - 6s 540ms/step - loss: 0.8309 - accuracy: 0.6638 - val_loss: 0.8610 - val_accuracy: 0.5959 - lr: 5.0000e-05\n",
            "Epoch 3/100\n",
            "12/12 [==============================] - ETA: 0s - loss: 0.6289 - accuracy: 0.6895\n",
            "Epoch 3: val_loss did not improve from 0.86104\n",
            "12/12 [==============================] - 0s 14ms/step - loss: 0.6289 - accuracy: 0.6895 - val_loss: 0.9079 - val_accuracy: 0.5890 - lr: 5.0000e-05\n",
            "Epoch 4/100\n",
            " 7/12 [================>.............] - ETA: 0s - loss: 0.6397 - accuracy: 0.6857\n",
            "Epoch 4: val_loss improved from 0.86104 to 0.70937, saving model to mirabest/cp.ckpt\n",
            "12/12 [==============================] - 2s 155ms/step - loss: 0.5792 - accuracy: 0.7118 - val_loss: 0.7094 - val_accuracy: 0.6370 - lr: 5.0000e-05\n",
            "Epoch 5/100\n",
            "12/12 [==============================] - ETA: 0s - loss: 0.4519 - accuracy: 0.7907\n",
            "Epoch 5: val_loss improved from 0.70937 to 0.64704, saving model to mirabest/cp.ckpt\n",
            "12/12 [==============================] - 2s 136ms/step - loss: 0.4519 - accuracy: 0.7907 - val_loss: 0.6470 - val_accuracy: 0.6644 - lr: 5.0000e-05\n",
            "Epoch 6/100\n",
            " 7/12 [================>.............] - ETA: 0s - loss: 0.3710 - accuracy: 0.8286\n",
            "Epoch 6: val_loss did not improve from 0.64704\n",
            "12/12 [==============================] - 0s 13ms/step - loss: 0.3800 - accuracy: 0.8285 - val_loss: 0.6535 - val_accuracy: 0.6849 - lr: 5.0000e-05\n",
            "Epoch 7/100\n",
            " 7/12 [================>.............] - ETA: 0s - loss: 0.3888 - accuracy: 0.8057\n",
            "Epoch 7: val_loss improved from 0.64704 to 0.61694, saving model to mirabest/cp.ckpt\n",
            "12/12 [==============================] - 2s 199ms/step - loss: 0.3788 - accuracy: 0.8148 - val_loss: 0.6169 - val_accuracy: 0.6781 - lr: 5.0000e-05\n",
            "Epoch 8/100\n",
            " 7/12 [================>.............] - ETA: 0s - loss: 0.3845 - accuracy: 0.8343\n",
            "Epoch 8: val_loss improved from 0.61694 to 0.56433, saving model to mirabest/cp.ckpt\n",
            "12/12 [==============================] - 2s 171ms/step - loss: 0.3742 - accuracy: 0.8285 - val_loss: 0.5643 - val_accuracy: 0.7192 - lr: 5.0000e-05\n",
            "Epoch 9/100\n",
            " 7/12 [================>.............] - ETA: 0s - loss: 0.3448 - accuracy: 0.8629\n",
            "Epoch 9: val_loss did not improve from 0.56433\n",
            "12/12 [==============================] - 0s 14ms/step - loss: 0.3380 - accuracy: 0.8679 - val_loss: 0.6262 - val_accuracy: 0.7055 - lr: 5.0000e-05\n",
            "Epoch 10/100\n",
            " 7/12 [================>.............] - ETA: 0s - loss: 0.3409 - accuracy: 0.8400\n",
            "Epoch 10: val_loss improved from 0.56433 to 0.55125, saving model to mirabest/cp.ckpt\n",
            "12/12 [==============================] - 1s 133ms/step - loss: 0.3190 - accuracy: 0.8542 - val_loss: 0.5513 - val_accuracy: 0.7534 - lr: 5.0000e-05\n",
            "Epoch 11/100\n",
            " 7/12 [================>.............] - ETA: 0s - loss: 0.3350 - accuracy: 0.8600\n",
            "Epoch 11: val_loss did not improve from 0.55125\n",
            "12/12 [==============================] - 0s 14ms/step - loss: 0.3196 - accuracy: 0.8576 - val_loss: 0.6266 - val_accuracy: 0.6712 - lr: 5.0000e-05\n",
            "Epoch 12/100\n",
            " 7/12 [================>.............] - ETA: 0s - loss: 0.2916 - accuracy: 0.8714\n",
            "Epoch 12: val_loss did not improve from 0.55125\n",
            "12/12 [==============================] - 0s 15ms/step - loss: 0.2835 - accuracy: 0.8748 - val_loss: 0.5643 - val_accuracy: 0.7329 - lr: 5.0000e-05\n",
            "Epoch 13/100\n",
            " 7/12 [================>.............] - ETA: 0s - loss: 0.2794 - accuracy: 0.8886\n",
            "Epoch 13: val_loss did not improve from 0.55125\n",
            "12/12 [==============================] - 0s 14ms/step - loss: 0.2677 - accuracy: 0.8919 - val_loss: 0.6110 - val_accuracy: 0.7603 - lr: 5.0000e-05\n",
            "Epoch 14/100\n",
            " 7/12 [================>.............] - ETA: 0s - loss: 0.2755 - accuracy: 0.8886\n",
            "Epoch 14: val_loss improved from 0.55125 to 0.49729, saving model to mirabest/cp.ckpt\n",
            "12/12 [==============================] - 2s 137ms/step - loss: 0.2635 - accuracy: 0.8954 - val_loss: 0.4973 - val_accuracy: 0.8014 - lr: 4.7500e-05\n",
            "Epoch 15/100\n",
            " 7/12 [================>.............] - ETA: 0s - loss: 0.2646 - accuracy: 0.8943\n",
            "Epoch 15: val_loss did not improve from 0.49729\n",
            "12/12 [==============================] - 0s 14ms/step - loss: 0.2439 - accuracy: 0.8937 - val_loss: 0.6322 - val_accuracy: 0.7192 - lr: 4.7500e-05\n",
            "Epoch 16/100\n",
            " 7/12 [================>.............] - ETA: 0s - loss: 0.2418 - accuracy: 0.9171\n",
            "Epoch 16: val_loss did not improve from 0.49729\n",
            "12/12 [==============================] - 0s 13ms/step - loss: 0.2303 - accuracy: 0.9142 - val_loss: 0.5057 - val_accuracy: 0.8082 - lr: 4.7500e-05\n",
            "Epoch 17/100\n",
            " 7/12 [================>.............] - ETA: 0s - loss: 0.2347 - accuracy: 0.9057\n",
            "Epoch 17: val_loss did not improve from 0.49729\n",
            "12/12 [==============================] - 0s 13ms/step - loss: 0.2396 - accuracy: 0.8988 - val_loss: 0.5124 - val_accuracy: 0.7808 - lr: 4.7500e-05\n",
            "Epoch 18/100\n",
            " 7/12 [================>.............] - ETA: 0s - loss: 0.2065 - accuracy: 0.9200\n",
            "Epoch 18: val_loss did not improve from 0.49729\n",
            "12/12 [==============================] - 0s 14ms/step - loss: 0.2064 - accuracy: 0.9125 - val_loss: 0.5790 - val_accuracy: 0.7329 - lr: 4.5125e-05\n",
            "Epoch 19/100\n",
            " 7/12 [================>.............] - ETA: 0s - loss: 0.2317 - accuracy: 0.9086\n",
            "Epoch 19: val_loss did not improve from 0.49729\n",
            "12/12 [==============================] - 0s 14ms/step - loss: 0.2151 - accuracy: 0.9160 - val_loss: 0.5408 - val_accuracy: 0.7808 - lr: 4.5125e-05\n",
            "Epoch 20/100\n",
            " 7/12 [================>.............] - ETA: 0s - loss: 0.2189 - accuracy: 0.9057\n",
            "Epoch 20: val_loss did not improve from 0.49729\n",
            "12/12 [==============================] - 0s 14ms/step - loss: 0.2074 - accuracy: 0.9074 - val_loss: 0.6326 - val_accuracy: 0.7534 - lr: 4.5125e-05\n",
            "Epoch 21/100\n",
            "12/12 [==============================] - ETA: 0s - loss: 0.1911 - accuracy: 0.9297\n",
            "Epoch 21: val_loss did not improve from 0.49729\n",
            "12/12 [==============================] - 0s 15ms/step - loss: 0.1911 - accuracy: 0.9297 - val_loss: 0.5557 - val_accuracy: 0.7877 - lr: 4.2869e-05\n",
            "Epoch 22/100\n",
            " 7/12 [================>.............] - ETA: 0s - loss: 0.1718 - accuracy: 0.9371\n",
            "Epoch 22: val_loss did not improve from 0.49729\n",
            "12/12 [==============================] - 0s 15ms/step - loss: 0.1861 - accuracy: 0.9262 - val_loss: 0.5928 - val_accuracy: 0.7808 - lr: 4.2869e-05\n",
            "Epoch 23/100\n",
            " 7/12 [================>.............] - ETA: 0s - loss: 0.1953 - accuracy: 0.9229\n",
            "Epoch 23: val_loss did not improve from 0.49729\n",
            "12/12 [==============================] - 0s 14ms/step - loss: 0.1837 - accuracy: 0.9262 - val_loss: 0.5514 - val_accuracy: 0.7740 - lr: 4.2869e-05\n",
            "Epoch 24/100\n",
            " 7/12 [================>.............] - ETA: 0s - loss: 0.2290 - accuracy: 0.9000\n",
            "Epoch 24: val_loss did not improve from 0.49729\n",
            "12/12 [==============================] - 0s 15ms/step - loss: 0.2042 - accuracy: 0.9160 - val_loss: 0.5106 - val_accuracy: 0.8014 - lr: 4.0725e-05\n",
            "Epoch 25/100\n",
            " 7/12 [================>.............] - ETA: 0s - loss: 0.1822 - accuracy: 0.9314\n",
            "Epoch 25: val_loss did not improve from 0.49729\n",
            "12/12 [==============================] - 0s 14ms/step - loss: 0.1704 - accuracy: 0.9365 - val_loss: 0.4977 - val_accuracy: 0.7945 - lr: 4.0725e-05\n",
            "Epoch 26/100\n",
            " 7/12 [================>.............] - ETA: 0s - loss: 0.1863 - accuracy: 0.9371\n",
            "Epoch 26: val_loss did not improve from 0.49729\n",
            "12/12 [==============================] - 0s 14ms/step - loss: 0.1666 - accuracy: 0.9417 - val_loss: 0.5966 - val_accuracy: 0.7945 - lr: 4.0725e-05\n",
            "Epoch 27/100\n",
            " 7/12 [================>.............] - ETA: 0s - loss: 0.1644 - accuracy: 0.9457\n",
            "Epoch 27: val_loss did not improve from 0.49729\n",
            "12/12 [==============================] - 0s 15ms/step - loss: 0.1605 - accuracy: 0.9485 - val_loss: 0.5841 - val_accuracy: 0.7877 - lr: 3.8689e-05\n",
            "Epoch 28/100\n",
            " 7/12 [================>.............] - ETA: 0s - loss: 0.1612 - accuracy: 0.9343\n",
            "Epoch 28: val_loss improved from 0.49729 to 0.48175, saving model to mirabest/cp.ckpt\n",
            "12/12 [==============================] - 2s 160ms/step - loss: 0.1534 - accuracy: 0.9417 - val_loss: 0.4818 - val_accuracy: 0.8493 - lr: 3.8689e-05\n",
            "Epoch 29/100\n",
            " 7/12 [================>.............] - ETA: 0s - loss: 0.1520 - accuracy: 0.9429\n",
            "Epoch 29: val_loss did not improve from 0.48175\n",
            "12/12 [==============================] - 0s 14ms/step - loss: 0.1376 - accuracy: 0.9503 - val_loss: 0.6355 - val_accuracy: 0.8151 - lr: 3.8689e-05\n",
            "Epoch 30/100\n",
            "12/12 [==============================] - ETA: 0s - loss: 0.1608 - accuracy: 0.9434\n",
            "Epoch 30: val_loss did not improve from 0.48175\n",
            "12/12 [==============================] - 0s 15ms/step - loss: 0.1608 - accuracy: 0.9434 - val_loss: 0.6177 - val_accuracy: 0.7808 - lr: 3.8689e-05\n",
            "Epoch 31/100\n",
            " 7/12 [================>.............] - ETA: 0s - loss: 0.1541 - accuracy: 0.9371\n",
            "Epoch 31: val_loss did not improve from 0.48175\n",
            "12/12 [==============================] - 0s 14ms/step - loss: 0.1521 - accuracy: 0.9383 - val_loss: 0.5877 - val_accuracy: 0.8014 - lr: 3.8689e-05\n",
            "Epoch 32/100\n",
            "12/12 [==============================] - ETA: 0s - loss: 0.1519 - accuracy: 0.9417\n",
            "Epoch 32: val_loss did not improve from 0.48175\n",
            "12/12 [==============================] - 0s 15ms/step - loss: 0.1519 - accuracy: 0.9417 - val_loss: 0.5467 - val_accuracy: 0.8082 - lr: 3.6755e-05\n",
            "Epoch 33/100\n",
            " 7/12 [================>.............] - ETA: 0s - loss: 0.1530 - accuracy: 0.9457\n",
            "Epoch 33: val_loss did not improve from 0.48175\n",
            "12/12 [==============================] - 0s 14ms/step - loss: 0.1325 - accuracy: 0.9485 - val_loss: 0.6955 - val_accuracy: 0.7945 - lr: 3.6755e-05\n",
            "Epoch 34/100\n",
            " 7/12 [================>.............] - ETA: 0s - loss: 0.1241 - accuracy: 0.9457\n",
            "Epoch 34: val_loss did not improve from 0.48175\n",
            "12/12 [==============================] - 0s 14ms/step - loss: 0.1198 - accuracy: 0.9485 - val_loss: 0.5809 - val_accuracy: 0.7808 - lr: 3.6755e-05\n",
            "Epoch 35/100\n",
            "12/12 [==============================] - ETA: 0s - loss: 0.1128 - accuracy: 0.9623\n",
            "Epoch 35: val_loss did not improve from 0.48175\n",
            "12/12 [==============================] - 0s 15ms/step - loss: 0.1128 - accuracy: 0.9623 - val_loss: 0.5389 - val_accuracy: 0.7945 - lr: 3.4917e-05\n",
            "Epoch 36/100\n",
            " 7/12 [================>.............] - ETA: 0s - loss: 0.1425 - accuracy: 0.9457\n",
            "Epoch 36: val_loss did not improve from 0.48175\n",
            "12/12 [==============================] - 0s 14ms/step - loss: 0.1271 - accuracy: 0.9537 - val_loss: 0.5671 - val_accuracy: 0.8219 - lr: 3.4917e-05\n",
            "Epoch 37/100\n",
            "12/12 [==============================] - ETA: 0s - loss: 0.1230 - accuracy: 0.9605\n",
            "Epoch 37: val_loss did not improve from 0.48175\n",
            "12/12 [==============================] - 0s 15ms/step - loss: 0.1230 - accuracy: 0.9605 - val_loss: 0.5709 - val_accuracy: 0.7808 - lr: 3.4917e-05\n",
            "Epoch 38/100\n",
            " 7/12 [================>.............] - ETA: 0s - loss: 0.1335 - accuracy: 0.9429\n",
            "Epoch 38: val_loss did not improve from 0.48175\n",
            "12/12 [==============================] - 0s 14ms/step - loss: 0.1182 - accuracy: 0.9571 - val_loss: 0.5455 - val_accuracy: 0.8356 - lr: 3.3171e-05\n",
            "Epoch 39/100\n",
            "12/12 [==============================] - ETA: 0s - loss: 0.1126 - accuracy: 0.9588\n",
            "Epoch 39: val_loss did not improve from 0.48175\n",
            "12/12 [==============================] - 0s 15ms/step - loss: 0.1126 - accuracy: 0.9588 - val_loss: 0.6788 - val_accuracy: 0.8288 - lr: 3.3171e-05\n",
            "Epoch 40/100\n",
            " 7/12 [================>.............] - ETA: 0s - loss: 0.1064 - accuracy: 0.9686\n",
            "Epoch 40: val_loss did not improve from 0.48175\n",
            "12/12 [==============================] - 0s 14ms/step - loss: 0.1001 - accuracy: 0.9657 - val_loss: 0.5367 - val_accuracy: 0.8493 - lr: 3.3171e-05\n",
            "Epoch 41/100\n",
            "12/12 [==============================] - ETA: 0s - loss: 0.1085 - accuracy: 0.9623\n",
            "Epoch 41: val_loss did not improve from 0.48175\n",
            "12/12 [==============================] - 0s 15ms/step - loss: 0.1085 - accuracy: 0.9623 - val_loss: 0.6454 - val_accuracy: 0.8082 - lr: 3.1512e-05\n",
            "Epoch 42/100\n",
            "12/12 [==============================] - ETA: 0s - loss: 0.1183 - accuracy: 0.9554\n",
            "Epoch 42: val_loss did not improve from 0.48175\n",
            "12/12 [==============================] - 0s 16ms/step - loss: 0.1183 - accuracy: 0.9554 - val_loss: 0.6749 - val_accuracy: 0.8151 - lr: 3.1512e-05\n",
            "Epoch 43/100\n",
            "11/12 [==========================>...] - ETA: 0s - loss: 0.1018 - accuracy: 0.9655\n",
            "Epoch 43: val_loss did not improve from 0.48175\n",
            "12/12 [==============================] - 0s 15ms/step - loss: 0.0996 - accuracy: 0.9674 - val_loss: 0.6589 - val_accuracy: 0.7877 - lr: 3.1512e-05\n",
            "Epoch 44/100\n",
            " 7/12 [================>.............] - ETA: 0s - loss: 0.1035 - accuracy: 0.9514\n",
            "Epoch 44: val_loss did not improve from 0.48175\n",
            "12/12 [==============================] - 0s 14ms/step - loss: 0.1031 - accuracy: 0.9554 - val_loss: 0.5993 - val_accuracy: 0.8288 - lr: 2.9937e-05\n",
            "Epoch 45/100\n",
            " 7/12 [================>.............] - ETA: 0s - loss: 0.1239 - accuracy: 0.9543\n",
            "Epoch 45: val_loss did not improve from 0.48175\n",
            "12/12 [==============================] - 0s 14ms/step - loss: 0.1162 - accuracy: 0.9588 - val_loss: 0.6752 - val_accuracy: 0.7877 - lr: 2.9937e-05\n",
            "Epoch 46/100\n",
            " 7/12 [================>.............] - ETA: 0s - loss: 0.0982 - accuracy: 0.9686\n",
            "Epoch 46: val_loss did not improve from 0.48175\n",
            "12/12 [==============================] - 0s 14ms/step - loss: 0.0902 - accuracy: 0.9691 - val_loss: 0.6538 - val_accuracy: 0.7808 - lr: 2.9937e-05\n",
            "Epoch 47/100\n",
            "12/12 [==============================] - ETA: 0s - loss: 0.0930 - accuracy: 0.9708\n",
            "Epoch 47: val_loss did not improve from 0.48175\n",
            "12/12 [==============================] - 0s 15ms/step - loss: 0.0930 - accuracy: 0.9708 - val_loss: 0.5752 - val_accuracy: 0.8219 - lr: 2.8440e-05\n",
            "Epoch 48/100\n",
            " 7/12 [================>.............] - ETA: 0s - loss: 0.1047 - accuracy: 0.9629\n",
            "Epoch 48: val_loss did not improve from 0.48175\n",
            "12/12 [==============================] - 0s 14ms/step - loss: 0.0960 - accuracy: 0.9657 - val_loss: 0.5549 - val_accuracy: 0.8014 - lr: 2.8440e-05\n"
          ]
        },
        {
          "output_type": "execute_result",
          "data": {
            "text/plain": [
              "<keras.callbacks.History at 0x7fd79029c8d0>"
            ]
          },
          "metadata": {},
          "execution_count": 12
        }
      ],
      "source": [
        "model.fit(dataset_train, epochs=100, callbacks=[reduce_lr, cp_callback, es_callback], validation_data=dataset_valid)"
      ],
      "metadata": {
        "pycharm": {
          "name": "#%%\n"
        },
        "id": "tOeSoxd0Dc3X",
        "colab": {
          "base_uri": "https://localhost:8080/"
        },
        "outputId": "dad0a428-65f2-44c4-a7bc-37e2e7ffb242"
      }
    },
    {
      "cell_type": "markdown",
      "source": [
        "Test model"
      ],
      "metadata": {
        "id": "JnC3v4hG4iEO"
      }
    },
    {
      "cell_type": "code",
      "source": [
        "new_model = tf.keras.models.load_model('mirabest/cp.ckpt')"
      ],
      "metadata": {
        "id": "IxWv_8E_4hq2"
      },
      "execution_count": 21,
      "outputs": []
    },
    {
      "cell_type": "code",
      "source": [
        "softmax = []\n",
        "accuracies = []\n",
        "for _ in range(samples_iter):\n",
        "  y = []\n",
        "  yhat = []\n",
        "  logits = []\n",
        "  for (x_batch, y_batch) in dataset_test:\n",
        "      s = new_model.predict(x_batch)\n",
        "      yhat.append(np.argmax(s, axis=-1))\n",
        "      y.append(y_batch)\n",
        "      logits.append(s)\n",
        "  y = np.concatenate(y)\n",
        "  yhat = np.concatenate(yhat)\n",
        "  softmax.append(np.concatenate(logits))\n",
        "  accuracies.append(np.mean(yhat == y))\n",
        "  print('Accuracy:', np.mean(yhat == y))\n",
        "softmax = np.array(softmax)"
      ],
      "metadata": {
        "id": "j9zVPB_wujKP",
        "outputId": "7b64dafa-7971-4641-adf3-cd18365aff76",
        "colab": {
          "base_uri": "https://localhost:8080/"
        }
      },
      "execution_count": 40,
      "outputs": [
        {
          "output_type": "stream",
          "name": "stdout",
          "text": [
            "Accuracy: 0.8365384615384616\n",
            "Accuracy: 0.8461538461538461\n",
            "Accuracy: 0.8846153846153846\n",
            "Accuracy: 0.8076923076923077\n",
            "Accuracy: 0.8269230769230769\n",
            "Accuracy: 0.8173076923076923\n",
            "Accuracy: 0.8173076923076923\n",
            "Accuracy: 0.8173076923076923\n",
            "Accuracy: 0.8269230769230769\n",
            "Accuracy: 0.8557692307692307\n",
            "Accuracy: 0.8076923076923077\n",
            "Accuracy: 0.8173076923076923\n",
            "Accuracy: 0.8076923076923077\n",
            "Accuracy: 0.875\n",
            "Accuracy: 0.8269230769230769\n",
            "Accuracy: 0.8461538461538461\n",
            "Accuracy: 0.8461538461538461\n",
            "Accuracy: 0.8173076923076923\n",
            "Accuracy: 0.8269230769230769\n",
            "Accuracy: 0.8557692307692307\n",
            "Accuracy: 0.8365384615384616\n",
            "Accuracy: 0.7884615384615384\n",
            "Accuracy: 0.8942307692307693\n",
            "Accuracy: 0.8076923076923077\n",
            "Accuracy: 0.8461538461538461\n",
            "Accuracy: 0.8365384615384616\n",
            "Accuracy: 0.8653846153846154\n",
            "Accuracy: 0.7884615384615384\n",
            "Accuracy: 0.8076923076923077\n",
            "Accuracy: 0.8653846153846154\n",
            "Accuracy: 0.8461538461538461\n",
            "Accuracy: 0.8365384615384616\n",
            "Accuracy: 0.8365384615384616\n",
            "Accuracy: 0.8846153846153846\n",
            "Accuracy: 0.8653846153846154\n",
            "Accuracy: 0.8557692307692307\n",
            "Accuracy: 0.7884615384615384\n",
            "Accuracy: 0.8173076923076923\n",
            "Accuracy: 0.8461538461538461\n",
            "Accuracy: 0.8173076923076923\n",
            "Accuracy: 0.7980769230769231\n",
            "Accuracy: 0.8269230769230769\n",
            "Accuracy: 0.8461538461538461\n",
            "Accuracy: 0.8173076923076923\n",
            "Accuracy: 0.7884615384615384\n",
            "Accuracy: 0.8557692307692307\n",
            "Accuracy: 0.7980769230769231\n",
            "Accuracy: 0.8269230769230769\n",
            "Accuracy: 0.8653846153846154\n",
            "Accuracy: 0.875\n",
            "Accuracy: 0.8269230769230769\n",
            "Accuracy: 0.7980769230769231\n",
            "Accuracy: 0.8269230769230769\n",
            "Accuracy: 0.8365384615384616\n",
            "Accuracy: 0.8653846153846154\n",
            "Accuracy: 0.8269230769230769\n",
            "Accuracy: 0.8557692307692307\n",
            "Accuracy: 0.8461538461538461\n",
            "Accuracy: 0.7884615384615384\n",
            "Accuracy: 0.875\n",
            "Accuracy: 0.8365384615384616\n",
            "Accuracy: 0.7980769230769231\n",
            "Accuracy: 0.8173076923076923\n",
            "Accuracy: 0.8461538461538461\n",
            "Accuracy: 0.8461538461538461\n",
            "Accuracy: 0.8076923076923077\n",
            "Accuracy: 0.8173076923076923\n",
            "Accuracy: 0.8365384615384616\n",
            "Accuracy: 0.7884615384615384\n",
            "Accuracy: 0.7980769230769231\n",
            "Accuracy: 0.8076923076923077\n",
            "Accuracy: 0.8557692307692307\n",
            "Accuracy: 0.7692307692307693\n",
            "Accuracy: 0.8173076923076923\n",
            "Accuracy: 0.8173076923076923\n",
            "Accuracy: 0.8173076923076923\n",
            "Accuracy: 0.8173076923076923\n",
            "Accuracy: 0.8557692307692307\n",
            "Accuracy: 0.8461538461538461\n",
            "Accuracy: 0.7980769230769231\n",
            "Accuracy: 0.8269230769230769\n",
            "Accuracy: 0.8365384615384616\n",
            "Accuracy: 0.8269230769230769\n",
            "Accuracy: 0.8461538461538461\n",
            "Accuracy: 0.8461538461538461\n",
            "Accuracy: 0.8076923076923077\n",
            "Accuracy: 0.8076923076923077\n",
            "Accuracy: 0.7980769230769231\n",
            "Accuracy: 0.7788461538461539\n",
            "Accuracy: 0.8365384615384616\n",
            "Accuracy: 0.7884615384615384\n",
            "Accuracy: 0.8173076923076923\n",
            "Accuracy: 0.8557692307692307\n",
            "Accuracy: 0.7980769230769231\n",
            "Accuracy: 0.7884615384615384\n",
            "Accuracy: 0.8076923076923077\n",
            "Accuracy: 0.8269230769230769\n",
            "Accuracy: 0.8269230769230769\n",
            "Accuracy: 0.8269230769230769\n",
            "Accuracy: 0.8557692307692307\n",
            "Accuracy: 0.8557692307692307\n",
            "Accuracy: 0.8461538461538461\n",
            "Accuracy: 0.8653846153846154\n",
            "Accuracy: 0.8557692307692307\n",
            "Accuracy: 0.875\n",
            "Accuracy: 0.8461538461538461\n",
            "Accuracy: 0.8269230769230769\n",
            "Accuracy: 0.8173076923076923\n",
            "Accuracy: 0.8173076923076923\n",
            "Accuracy: 0.8557692307692307\n",
            "Accuracy: 0.7980769230769231\n",
            "Accuracy: 0.8269230769230769\n",
            "Accuracy: 0.8461538461538461\n",
            "Accuracy: 0.8076923076923077\n",
            "Accuracy: 0.8076923076923077\n",
            "Accuracy: 0.7884615384615384\n",
            "Accuracy: 0.8461538461538461\n",
            "Accuracy: 0.8173076923076923\n",
            "Accuracy: 0.8173076923076923\n",
            "Accuracy: 0.8269230769230769\n",
            "Accuracy: 0.8076923076923077\n",
            "Accuracy: 0.8173076923076923\n",
            "Accuracy: 0.8461538461538461\n",
            "Accuracy: 0.8173076923076923\n",
            "Accuracy: 0.8365384615384616\n",
            "Accuracy: 0.7980769230769231\n",
            "Accuracy: 0.875\n",
            "Accuracy: 0.8076923076923077\n",
            "Accuracy: 0.8557692307692307\n",
            "Accuracy: 0.7980769230769231\n",
            "Accuracy: 0.8365384615384616\n",
            "Accuracy: 0.7788461538461539\n",
            "Accuracy: 0.8173076923076923\n",
            "Accuracy: 0.7980769230769231\n",
            "Accuracy: 0.8365384615384616\n",
            "Accuracy: 0.8269230769230769\n",
            "Accuracy: 0.8557692307692307\n",
            "Accuracy: 0.8173076923076923\n",
            "Accuracy: 0.8557692307692307\n",
            "Accuracy: 0.8076923076923077\n",
            "Accuracy: 0.8461538461538461\n",
            "Accuracy: 0.8653846153846154\n",
            "Accuracy: 0.7884615384615384\n",
            "Accuracy: 0.8076923076923077\n",
            "Accuracy: 0.8365384615384616\n",
            "Accuracy: 0.8269230769230769\n",
            "Accuracy: 0.8076923076923077\n",
            "Accuracy: 0.8173076923076923\n",
            "Accuracy: 0.8365384615384616\n",
            "Accuracy: 0.8653846153846154\n",
            "Accuracy: 0.8365384615384616\n",
            "Accuracy: 0.8365384615384616\n",
            "Accuracy: 0.8269230769230769\n",
            "Accuracy: 0.8173076923076923\n",
            "Accuracy: 0.8365384615384616\n",
            "Accuracy: 0.8365384615384616\n",
            "Accuracy: 0.8173076923076923\n",
            "Accuracy: 0.8173076923076923\n",
            "Accuracy: 0.8365384615384616\n",
            "Accuracy: 0.8076923076923077\n",
            "Accuracy: 0.8365384615384616\n",
            "Accuracy: 0.8076923076923077\n",
            "Accuracy: 0.8653846153846154\n",
            "Accuracy: 0.8653846153846154\n",
            "Accuracy: 0.7980769230769231\n",
            "Accuracy: 0.8653846153846154\n",
            "Accuracy: 0.8365384615384616\n",
            "Accuracy: 0.8173076923076923\n",
            "Accuracy: 0.8269230769230769\n",
            "Accuracy: 0.8173076923076923\n",
            "Accuracy: 0.8173076923076923\n",
            "Accuracy: 0.8365384615384616\n",
            "Accuracy: 0.8173076923076923\n",
            "Accuracy: 0.8461538461538461\n",
            "Accuracy: 0.7980769230769231\n",
            "Accuracy: 0.8557692307692307\n",
            "Accuracy: 0.8269230769230769\n",
            "Accuracy: 0.8173076923076923\n",
            "Accuracy: 0.8461538461538461\n",
            "Accuracy: 0.7884615384615384\n",
            "Accuracy: 0.8173076923076923\n",
            "Accuracy: 0.8461538461538461\n",
            "Accuracy: 0.8076923076923077\n",
            "Accuracy: 0.7980769230769231\n",
            "Accuracy: 0.7980769230769231\n",
            "Accuracy: 0.8269230769230769\n",
            "Accuracy: 0.8173076923076923\n",
            "Accuracy: 0.8461538461538461\n",
            "Accuracy: 0.8076923076923077\n",
            "Accuracy: 0.8076923076923077\n",
            "Accuracy: 0.8365384615384616\n",
            "Accuracy: 0.8365384615384616\n",
            "Accuracy: 0.8557692307692307\n",
            "Accuracy: 0.8173076923076923\n",
            "Accuracy: 0.7692307692307693\n",
            "Accuracy: 0.8846153846153846\n",
            "Accuracy: 0.7788461538461539\n",
            "Accuracy: 0.8269230769230769\n",
            "Accuracy: 0.8269230769230769\n",
            "Accuracy: 0.8461538461538461\n"
          ]
        }
      ]
    },
    {
      "cell_type": "code",
      "source": [
        "print('Accuracy', np.mean(accuracies), np.std(accuracies))"
      ],
      "metadata": {
        "id": "02AZa6Np_6MX",
        "outputId": "21a82bfe-af71-4b93-cbb1-304769dfcc4a",
        "colab": {
          "base_uri": "https://localhost:8080/"
        }
      },
      "execution_count": 41,
      "outputs": [
        {
          "output_type": "stream",
          "name": "stdout",
          "text": [
            "Accuracy 0.8278846153846154 0.024702370343586782\n"
          ]
        }
      ]
    },
    {
      "cell_type": "code",
      "source": [
        "def uncertainty(softmax):\n",
        "  # Per example softmax with shape(num_examples, num_classes)\n",
        "  predictive_entropy = 0\n",
        "  single_pass_entropy = 0\n",
        "  for i in range(softmax.shape[1]):\n",
        "    # Sum over classes\n",
        "    predictive_entropy += -np.mean(softmax[:,i])*np.log(np.mean(softmax[:,i]))\n",
        "    single_pass_entropy += -softmax[:,i]*np.log(softmax[:,i])\n",
        "  single_pass_entropy = np.mean(single_pass_entropy)\n",
        "  mutual_info = predictive_entropy - single_pass_entropy\n",
        "  return predictive_entropy, single_pass_entropy, mutual_info"
      ],
      "metadata": {
        "id": "AFxGXi4JDnS3"
      },
      "execution_count": 42,
      "outputs": []
    },
    {
      "cell_type": "code",
      "source": [
        "predictive_entropies = [] \n",
        "single_pass_entropies = []\n",
        "mutual_infos = []\n",
        "for i in range(softmax.shape[1]):\n",
        "  predictive_entropy, single_pass_entropy, mutual_info = uncertainty(softmax[:,i,:])\n",
        "  predictive_entropies.append(predictive_entropy)\n",
        "  single_pass_entropies.append(single_pass_entropy)\n",
        "  mutual_infos.append(mutual_info)\n",
        "print('Predictive entropy:', np.mean(predictive_entropies), np.std(predictive_entropies))\n",
        "print('Single pass entropy:', np.mean(single_pass_entropies), np.std(single_pass_entropies))\n",
        "print('Mutual info:', np.mean(mutual_infos), np.std(mutual_infos))"
      ],
      "metadata": {
        "id": "xGzYD6acDnVi",
        "outputId": "7dffe366-ac8d-4895-c44b-23fdc8be5852",
        "colab": {
          "base_uri": "https://localhost:8080/"
        }
      },
      "execution_count": 43,
      "outputs": [
        {
          "output_type": "stream",
          "name": "stdout",
          "text": [
            "Predictive entropy: 0.3218774005442496 0.21878331823416716\n",
            "Single pass entropy: 0.25398076 0.17703713\n",
            "Mutual info: 0.06789665813545977 0.055279319310574004\n"
          ]
        }
      ]
    },
    {
      "cell_type": "code",
      "source": [
        "sns.boxplot(predictive_entropies)\n",
        "plt.show()"
      ],
      "metadata": {
        "id": "SBnp5eiNDnYR",
        "outputId": "b6f20193-34fd-41f4-fdec-dab3449bdd8b",
        "colab": {
          "base_uri": "https://localhost:8080/",
          "height": 321
        }
      },
      "execution_count": 44,
      "outputs": [
        {
          "output_type": "stream",
          "name": "stderr",
          "text": [
            "/usr/local/lib/python3.7/dist-packages/seaborn/_decorators.py:43: FutureWarning: Pass the following variable as a keyword arg: x. From version 0.12, the only valid positional argument will be `data`, and passing other arguments without an explicit keyword will result in an error or misinterpretation.\n",
            "  FutureWarning\n"
          ]
        },
        {
          "output_type": "display_data",
          "data": {
            "text/plain": [
              "<Figure size 432x288 with 1 Axes>"
            ],
            "image/png": "[encoded data removed]"
          },
          "metadata": {
            "needs_background": "light"
          }
        }
      ]
    },
    {
      "cell_type": "code",
      "source": [
        "sns.boxplot(single_pass_entropies)\n",
        "plt.show()"
      ],
      "metadata": {
        "id": "8bPVRpEyDnan",
        "outputId": "81e53162-0e67-4e43-b44b-04769f67a1d0",
        "colab": {
          "base_uri": "https://localhost:8080/",
          "height": 321
        }
      },
      "execution_count": 45,
      "outputs": [
        {
          "output_type": "stream",
          "name": "stderr",
          "text": [
            "/usr/local/lib/python3.7/dist-packages/seaborn/_decorators.py:43: FutureWarning: Pass the following variable as a keyword arg: x. From version 0.12, the only valid positional argument will be `data`, and passing other arguments without an explicit keyword will result in an error or misinterpretation.\n",
            "  FutureWarning\n"
          ]
        },
        {
          "output_type": "display_data",
          "data": {
            "text/plain": [
              "<Figure size 432x288 with 1 Axes>"
            ],
            "image/png": "[encoded data removed]"
          },
          "metadata": {
            "needs_background": "light"
          }
        }
      ]
    },
    {
      "cell_type": "code",
      "source": [
        "sns.boxplot(mutual_infos)\n",
        "plt.show()"
      ],
      "metadata": {
        "id": "4IYJt9ocDndX",
        "outputId": "5594a715-a74f-4dfa-a0bf-d60ed9f81345",
        "colab": {
          "base_uri": "https://localhost:8080/",
          "height": 321
        }
      },
      "execution_count": 46,
      "outputs": [
        {
          "output_type": "stream",
          "name": "stderr",
          "text": [
            "/usr/local/lib/python3.7/dist-packages/seaborn/_decorators.py:43: FutureWarning: Pass the following variable as a keyword arg: x. From version 0.12, the only valid positional argument will be `data`, and passing other arguments without an explicit keyword will result in an error or misinterpretation.\n",
            "  FutureWarning\n"
          ]
        },
        {
          "output_type": "display_data",
          "data": {
            "text/plain": [
              "<Figure size 432x288 with 1 Axes>"
            ],
            "image/png": "[encoded data removed]"
          },
          "metadata": {
            "needs_background": "light"
          }
        }
      ]
    }
  ],
  "metadata": {
    "kernelspec": {
      "display_name": "Python 3",
      "language": "python",
      "name": "python3"
    },
    "language_info": {
      "codemirror_mode": {
        "name": "ipython",
        "version": 2
      },
      "file_extension": ".py",
      "mimetype": "text/x-python",
      "name": "python",
      "nbconvert_exporter": "python",
      "pygments_lexer": "ipython2",
      "version": "2.7.6"
    },
    "colab": {
      "name": "Mirabest_MCD.ipynb",
      "provenance": [],
      "collapsed_sections": [],
      "include_colab_link": true
    },
    "accelerator": "GPU",
    "gpuClass": "standard"
  },
  "nbformat": 4,
  "nbformat_minor": 0
}