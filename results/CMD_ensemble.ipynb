{
  "cells": [
    {
      "cell_type": "markdown",
      "metadata": {
        "id": "view-in-github",
        "colab_type": "text"
      },
      "source": [
        "<a href=\"https://colab.research.google.com/github/adammoss/bnn_hmc/blob/main/results/CMD_ensemble.ipynb\" target=\"_parent\"><img src=\"https://colab.research.google.com/assets/colab-badge.svg\" alt=\"Open In Colab\"/></a>"
      ]
    },
    {
      "cell_type": "code",
      "execution_count": null,
      "metadata": {
        "id": "ri22BCCzR-QP"
      },
      "outputs": [],
      "source": [
        "import os\n",
        "import sys\n",
        "import shutil\n",
        "import subprocess\n",
        "import glob\n",
        "import matplotlib.pyplot as plt\n",
        "import seaborn as sns\n",
        "import numpy as np"
      ]
    },
    {
      "cell_type": "code",
      "source": [
        "nruns = 50"
      ],
      "metadata": {
        "id": "EyQ70K9atPhp"
      },
      "execution_count": null,
      "outputs": []
    },
    {
      "cell_type": "code",
      "execution_count": null,
      "metadata": {
        "colab": {
          "base_uri": "https://localhost:8080/"
        },
        "id": "fe0MKiBxsHYy",
        "outputId": "6bcc4bf0-2483-4e2f-a019-80e548bc04a1"
      },
      "outputs": [
        {
          "output_type": "stream",
          "name": "stdout",
          "text": [
            "Thu Aug 11 14:53:18 2022       \n",
            "+-----------------------------------------------------------------------------+\n",
            "| NVIDIA-SMI 460.32.03    Driver Version: 460.32.03    CUDA Version: 11.2     |\n",
            "|-------------------------------+----------------------+----------------------+\n",
            "| GPU  Name        Persistence-M| Bus-Id        Disp.A | Volatile Uncorr. ECC |\n",
            "| Fan  Temp  Perf  Pwr:Usage/Cap|         Memory-Usage | GPU-Util  Compute M. |\n",
            "|                               |                      |               MIG M. |\n",
            "|===============================+======================+======================|\n",
            "|   0  Tesla V100-SXM2...  Off  | 00000000:00:04.0 Off |                    0 |\n",
            "| N/A   35C    P0    25W / 300W |      0MiB / 16160MiB |      0%      Default |\n",
            "|                               |                      |                  N/A |\n",
            "+-------------------------------+----------------------+----------------------+\n",
            "                                                                               \n",
            "+-----------------------------------------------------------------------------+\n",
            "| Processes:                                                                  |\n",
            "|  GPU   GI   CI        PID   Type   Process name                  GPU Memory |\n",
            "|        ID   ID                                                   Usage      |\n",
            "|=============================================================================|\n",
            "|  No running processes found                                                 |\n",
            "+-----------------------------------------------------------------------------+\n"
          ]
        }
      ],
      "source": [
        "!nvidia-smi"
      ]
    },
    {
      "cell_type": "code",
      "execution_count": null,
      "metadata": {
        "colab": {
          "base_uri": "https://localhost:8080/"
        },
        "id": "sMtVSagkaf-h",
        "outputId": "952f9ee6-d90e-44e4-ee6e-3ab9540f025d"
      },
      "outputs": [
        {
          "output_type": "stream",
          "name": "stdout",
          "text": [
            "Looking in indexes: https://pypi.org/simple, https://us-python.pkg.dev/colab-wheels/public/simple/\n",
            "Requirement already satisfied: astro-datasets in /usr/local/lib/python3.7/dist-packages (0.0.9)\n",
            "Requirement already satisfied: numpy in /usr/local/lib/python3.7/dist-packages (from astro-datasets) (1.21.6)\n",
            "Requirement already satisfied: tensorflow-datasets in /usr/local/lib/python3.7/dist-packages (from astro-datasets) (4.6.0)\n",
            "Requirement already satisfied: tensorflow in /usr/local/lib/python3.7/dist-packages (from astro-datasets) (2.8.2+zzzcolab20220719082949)\n",
            "Requirement already satisfied: pandas in /usr/local/lib/python3.7/dist-packages (from astro-datasets) (1.3.5)\n",
            "Requirement already satisfied: pytz>=2017.3 in /usr/local/lib/python3.7/dist-packages (from pandas->astro-datasets) (2022.1)\n",
            "Requirement already satisfied: python-dateutil>=2.7.3 in /usr/local/lib/python3.7/dist-packages (from pandas->astro-datasets) (2.8.2)\n",
            "Requirement already satisfied: six>=1.5 in /usr/local/lib/python3.7/dist-packages (from python-dateutil>=2.7.3->pandas->astro-datasets) (1.15.0)\n",
            "Requirement already satisfied: keras<2.9,>=2.8.0rc0 in /usr/local/lib/python3.7/dist-packages (from tensorflow->astro-datasets) (2.8.0)\n",
            "Requirement already satisfied: protobuf<3.20,>=3.9.2 in /usr/local/lib/python3.7/dist-packages (from tensorflow->astro-datasets) (3.17.3)\n",
            "Requirement already satisfied: tensorboard<2.9,>=2.8 in /usr/local/lib/python3.7/dist-packages (from tensorflow->astro-datasets) (2.8.0)\n",
            "Requirement already satisfied: typing-extensions>=3.6.6 in /usr/local/lib/python3.7/dist-packages (from tensorflow->astro-datasets) (4.1.1)\n",
            "Requirement already satisfied: flatbuffers>=1.12 in /usr/local/lib/python3.7/dist-packages (from tensorflow->astro-datasets) (2.0)\n",
            "Requirement already satisfied: opt-einsum>=2.3.2 in /usr/local/lib/python3.7/dist-packages (from tensorflow->astro-datasets) (3.3.0)\n",
            "Requirement already satisfied: astunparse>=1.6.0 in /usr/local/lib/python3.7/dist-packages (from tensorflow->astro-datasets) (1.6.3)\n",
            "Requirement already satisfied: termcolor>=1.1.0 in /usr/local/lib/python3.7/dist-packages (from tensorflow->astro-datasets) (1.1.0)\n",
            "Requirement already satisfied: absl-py>=0.4.0 in /usr/local/lib/python3.7/dist-packages (from tensorflow->astro-datasets) (1.2.0)\n",
            "Requirement already satisfied: gast>=0.2.1 in /usr/local/lib/python3.7/dist-packages (from tensorflow->astro-datasets) (0.5.3)\n",
            "Requirement already satisfied: wrapt>=1.11.0 in /usr/local/lib/python3.7/dist-packages (from tensorflow->astro-datasets) (1.14.1)\n",
            "Requirement already satisfied: tensorflow-io-gcs-filesystem>=0.23.1 in /usr/local/lib/python3.7/dist-packages (from tensorflow->astro-datasets) (0.26.0)\n",
            "Requirement already satisfied: h5py>=2.9.0 in /usr/local/lib/python3.7/dist-packages (from tensorflow->astro-datasets) (3.1.0)\n",
            "Requirement already satisfied: setuptools in /usr/local/lib/python3.7/dist-packages (from tensorflow->astro-datasets) (57.4.0)\n",
            "Requirement already satisfied: tensorflow-estimator<2.9,>=2.8 in /usr/local/lib/python3.7/dist-packages (from tensorflow->astro-datasets) (2.8.0)\n",
            "Requirement already satisfied: libclang>=9.0.1 in /usr/local/lib/python3.7/dist-packages (from tensorflow->astro-datasets) (14.0.6)\n",
            "Requirement already satisfied: google-pasta>=0.1.1 in /usr/local/lib/python3.7/dist-packages (from tensorflow->astro-datasets) (0.2.0)\n",
            "Requirement already satisfied: keras-preprocessing>=1.1.1 in /usr/local/lib/python3.7/dist-packages (from tensorflow->astro-datasets) (1.1.2)\n",
            "Requirement already satisfied: grpcio<2.0,>=1.24.3 in /usr/local/lib/python3.7/dist-packages (from tensorflow->astro-datasets) (1.47.0)\n",
            "Requirement already satisfied: wheel<1.0,>=0.23.0 in /usr/local/lib/python3.7/dist-packages (from astunparse>=1.6.0->tensorflow->astro-datasets) (0.37.1)\n",
            "Requirement already satisfied: cached-property in /usr/local/lib/python3.7/dist-packages (from h5py>=2.9.0->tensorflow->astro-datasets) (1.5.2)\n",
            "Requirement already satisfied: tensorboard-data-server<0.7.0,>=0.6.0 in /usr/local/lib/python3.7/dist-packages (from tensorboard<2.9,>=2.8->tensorflow->astro-datasets) (0.6.1)\n",
            "Requirement already satisfied: tensorboard-plugin-wit>=1.6.0 in /usr/local/lib/python3.7/dist-packages (from tensorboard<2.9,>=2.8->tensorflow->astro-datasets) (1.8.1)\n",
            "Requirement already satisfied: markdown>=2.6.8 in /usr/local/lib/python3.7/dist-packages (from tensorboard<2.9,>=2.8->tensorflow->astro-datasets) (3.4.1)\n",
            "Requirement already satisfied: google-auth-oauthlib<0.5,>=0.4.1 in /usr/local/lib/python3.7/dist-packages (from tensorboard<2.9,>=2.8->tensorflow->astro-datasets) (0.4.6)\n",
            "Requirement already satisfied: google-auth<3,>=1.6.3 in /usr/local/lib/python3.7/dist-packages (from tensorboard<2.9,>=2.8->tensorflow->astro-datasets) (1.35.0)\n",
            "Requirement already satisfied: requests<3,>=2.21.0 in /usr/local/lib/python3.7/dist-packages (from tensorboard<2.9,>=2.8->tensorflow->astro-datasets) (2.23.0)\n",
            "Requirement already satisfied: werkzeug>=0.11.15 in /usr/local/lib/python3.7/dist-packages (from tensorboard<2.9,>=2.8->tensorflow->astro-datasets) (1.0.1)\n",
            "Requirement already satisfied: cachetools<5.0,>=2.0.0 in /usr/local/lib/python3.7/dist-packages (from google-auth<3,>=1.6.3->tensorboard<2.9,>=2.8->tensorflow->astro-datasets) (4.2.4)\n",
            "Requirement already satisfied: rsa<5,>=3.1.4 in /usr/local/lib/python3.7/dist-packages (from google-auth<3,>=1.6.3->tensorboard<2.9,>=2.8->tensorflow->astro-datasets) (4.9)\n",
            "Requirement already satisfied: pyasn1-modules>=0.2.1 in /usr/local/lib/python3.7/dist-packages (from google-auth<3,>=1.6.3->tensorboard<2.9,>=2.8->tensorflow->astro-datasets) (0.2.8)\n",
            "Requirement already satisfied: requests-oauthlib>=0.7.0 in /usr/local/lib/python3.7/dist-packages (from google-auth-oauthlib<0.5,>=0.4.1->tensorboard<2.9,>=2.8->tensorflow->astro-datasets) (1.3.1)\n",
            "Requirement already satisfied: importlib-metadata>=4.4 in /usr/local/lib/python3.7/dist-packages (from markdown>=2.6.8->tensorboard<2.9,>=2.8->tensorflow->astro-datasets) (4.12.0)\n",
            "Requirement already satisfied: zipp>=0.5 in /usr/local/lib/python3.7/dist-packages (from importlib-metadata>=4.4->markdown>=2.6.8->tensorboard<2.9,>=2.8->tensorflow->astro-datasets) (3.8.1)\n",
            "Requirement already satisfied: pyasn1<0.5.0,>=0.4.6 in /usr/local/lib/python3.7/dist-packages (from pyasn1-modules>=0.2.1->google-auth<3,>=1.6.3->tensorboard<2.9,>=2.8->tensorflow->astro-datasets) (0.4.8)\n",
            "Requirement already satisfied: chardet<4,>=3.0.2 in /usr/local/lib/python3.7/dist-packages (from requests<3,>=2.21.0->tensorboard<2.9,>=2.8->tensorflow->astro-datasets) (3.0.4)\n",
            "Requirement already satisfied: urllib3!=1.25.0,!=1.25.1,<1.26,>=1.21.1 in /usr/local/lib/python3.7/dist-packages (from requests<3,>=2.21.0->tensorboard<2.9,>=2.8->tensorflow->astro-datasets) (1.24.3)\n",
            "Requirement already satisfied: idna<3,>=2.5 in /usr/local/lib/python3.7/dist-packages (from requests<3,>=2.21.0->tensorboard<2.9,>=2.8->tensorflow->astro-datasets) (2.10)\n",
            "Requirement already satisfied: certifi>=2017.4.17 in /usr/local/lib/python3.7/dist-packages (from requests<3,>=2.21.0->tensorboard<2.9,>=2.8->tensorflow->astro-datasets) (2022.6.15)\n",
            "Requirement already satisfied: oauthlib>=3.0.0 in /usr/local/lib/python3.7/dist-packages (from requests-oauthlib>=0.7.0->google-auth-oauthlib<0.5,>=0.4.1->tensorboard<2.9,>=2.8->tensorflow->astro-datasets) (3.2.0)\n",
            "Requirement already satisfied: importlib-resources in /usr/local/lib/python3.7/dist-packages (from tensorflow-datasets->astro-datasets) (5.9.0)\n",
            "Requirement already satisfied: dill in /usr/local/lib/python3.7/dist-packages (from tensorflow-datasets->astro-datasets) (0.3.5.1)\n",
            "Requirement already satisfied: tensorflow-metadata in /usr/local/lib/python3.7/dist-packages (from tensorflow-datasets->astro-datasets) (1.9.0)\n",
            "Requirement already satisfied: etils[epath] in /usr/local/lib/python3.7/dist-packages (from tensorflow-datasets->astro-datasets) (0.6.0)\n",
            "Requirement already satisfied: toml in /usr/local/lib/python3.7/dist-packages (from tensorflow-datasets->astro-datasets) (0.10.2)\n",
            "Requirement already satisfied: tqdm in /usr/local/lib/python3.7/dist-packages (from tensorflow-datasets->astro-datasets) (4.64.0)\n",
            "Requirement already satisfied: promise in /usr/local/lib/python3.7/dist-packages (from tensorflow-datasets->astro-datasets) (2.3)\n",
            "Requirement already satisfied: googleapis-common-protos<2,>=1.52.0 in /usr/local/lib/python3.7/dist-packages (from tensorflow-metadata->tensorflow-datasets->astro-datasets) (1.56.4)\n",
            "Looking in indexes: https://pypi.org/simple, https://us-python.pkg.dev/colab-wheels/public/simple/\n",
            "Requirement already satisfied: tensorflow_datasets in /usr/local/lib/python3.7/dist-packages (4.6.0)\n",
            "Requirement already satisfied: numpy in /usr/local/lib/python3.7/dist-packages (from tensorflow_datasets) (1.21.6)\n",
            "Requirement already satisfied: etils[epath] in /usr/local/lib/python3.7/dist-packages (from tensorflow_datasets) (0.6.0)\n",
            "Requirement already satisfied: termcolor in /usr/local/lib/python3.7/dist-packages (from tensorflow_datasets) (1.1.0)\n",
            "Requirement already satisfied: importlib-resources in /usr/local/lib/python3.7/dist-packages (from tensorflow_datasets) (5.9.0)\n",
            "Requirement already satisfied: dill in /usr/local/lib/python3.7/dist-packages (from tensorflow_datasets) (0.3.5.1)\n",
            "Requirement already satisfied: six in /usr/local/lib/python3.7/dist-packages (from tensorflow_datasets) (1.15.0)\n",
            "Requirement already satisfied: tqdm in /usr/local/lib/python3.7/dist-packages (from tensorflow_datasets) (4.64.0)\n",
            "Requirement already satisfied: absl-py in /usr/local/lib/python3.7/dist-packages (from tensorflow_datasets) (1.2.0)\n",
            "Requirement already satisfied: protobuf>=3.12.2 in /usr/local/lib/python3.7/dist-packages (from tensorflow_datasets) (3.17.3)\n",
            "Requirement already satisfied: typing-extensions in /usr/local/lib/python3.7/dist-packages (from tensorflow_datasets) (4.1.1)\n",
            "Requirement already satisfied: promise in /usr/local/lib/python3.7/dist-packages (from tensorflow_datasets) (2.3)\n",
            "Requirement already satisfied: requests>=2.19.0 in /usr/local/lib/python3.7/dist-packages (from tensorflow_datasets) (2.23.0)\n",
            "Requirement already satisfied: toml in /usr/local/lib/python3.7/dist-packages (from tensorflow_datasets) (0.10.2)\n",
            "Requirement already satisfied: tensorflow-metadata in /usr/local/lib/python3.7/dist-packages (from tensorflow_datasets) (1.9.0)\n",
            "Requirement already satisfied: idna<3,>=2.5 in /usr/local/lib/python3.7/dist-packages (from requests>=2.19.0->tensorflow_datasets) (2.10)\n",
            "Requirement already satisfied: certifi>=2017.4.17 in /usr/local/lib/python3.7/dist-packages (from requests>=2.19.0->tensorflow_datasets) (2022.6.15)\n",
            "Requirement already satisfied: urllib3!=1.25.0,!=1.25.1,<1.26,>=1.21.1 in /usr/local/lib/python3.7/dist-packages (from requests>=2.19.0->tensorflow_datasets) (1.24.3)\n",
            "Requirement already satisfied: chardet<4,>=3.0.2 in /usr/local/lib/python3.7/dist-packages (from requests>=2.19.0->tensorflow_datasets) (3.0.4)\n",
            "Requirement already satisfied: zipp in /usr/local/lib/python3.7/dist-packages (from etils[epath]->tensorflow_datasets) (3.8.1)\n",
            "Requirement already satisfied: googleapis-common-protos<2,>=1.52.0 in /usr/local/lib/python3.7/dist-packages (from tensorflow-metadata->tensorflow_datasets) (1.56.4)\n"
          ]
        }
      ],
      "source": [
        "!pip install astro-datasets --upgrade\n",
        "!pip install tensorflow_datasets --upgrade"
      ]
    },
    {
      "cell_type": "code",
      "execution_count": null,
      "metadata": {
        "id": "1owru02sSDCw"
      },
      "outputs": [],
      "source": [
        "shutil.rmtree('bnn_hmc', ignore_errors=True)"
      ]
    },
    {
      "cell_type": "code",
      "execution_count": null,
      "metadata": {
        "colab": {
          "base_uri": "https://localhost:8080/"
        },
        "id": "8dWpM70rSF6J",
        "outputId": "9b6da993-9549-41f4-b8ae-e2947f411ea2"
      },
      "outputs": [
        {
          "output_type": "stream",
          "name": "stdout",
          "text": [
            "Cloning into 'bnn_hmc'...\n",
            "remote: Enumerating objects: 193, done.\u001b[K\n",
            "remote: Counting objects: 100% (193/193), done.\u001b[K\n",
            "remote: Compressing objects: 100% (137/137), done.\u001b[K\n",
            "remote: Total 193 (delta 121), reused 114 (delta 55), pack-reused 0\u001b[K\n",
            "Receiving objects: 100% (193/193), 589.11 KiB | 4.99 MiB/s, done.\n",
            "Resolving deltas: 100% (121/121), done.\n"
          ]
        }
      ],
      "source": [
        "!git clone https://github.com/adammoss/bnn_hmc"
      ]
    },
    {
      "cell_type": "code",
      "execution_count": null,
      "metadata": {
        "colab": {
          "base_uri": "https://localhost:8080/"
        },
        "id": "zD2r5bldto0q",
        "outputId": "800af703-eb3f-48e6-da90-e38e78d7143a"
      },
      "outputs": [
        {
          "output_type": "stream",
          "name": "stdout",
          "text": [
            "Looking in indexes: https://pypi.org/simple, https://us-python.pkg.dev/colab-wheels/public/simple/\n",
            "Collecting jaxlib==0.1.65+cuda111\n",
            "  Using cached https://storage.googleapis.com/jax-releases/cuda111/jaxlib-0.1.65+cuda111-cp37-none-manylinux2010_x86_64.whl (189.4 MB)\n",
            "Requirement already satisfied: flatbuffers in /usr/local/lib/python3.7/dist-packages (from jaxlib==0.1.65+cuda111) (2.0)\n",
            "Requirement already satisfied: numpy>=1.16 in /usr/local/lib/python3.7/dist-packages (from jaxlib==0.1.65+cuda111) (1.21.6)\n",
            "Requirement already satisfied: absl-py in /usr/local/lib/python3.7/dist-packages (from jaxlib==0.1.65+cuda111) (1.2.0)\n",
            "Requirement already satisfied: scipy in /usr/local/lib/python3.7/dist-packages (from jaxlib==0.1.65+cuda111) (1.7.3)\n",
            "Looking in indexes: https://pypi.org/simple, https://us-python.pkg.dev/colab-wheels/public/simple/\n",
            "Requirement already satisfied: jax==0.2.12 in /usr/local/lib/python3.7/dist-packages (0.2.12)\n",
            "Requirement already satisfied: opt-einsum in /usr/local/lib/python3.7/dist-packages (from jax==0.2.12) (3.3.0)\n",
            "Requirement already satisfied: absl-py in /usr/local/lib/python3.7/dist-packages (from jax==0.2.12) (1.2.0)\n",
            "Requirement already satisfied: numpy>=1.12 in /usr/local/lib/python3.7/dist-packages (from jax==0.2.12) (1.21.6)\n",
            "Looking in indexes: https://pypi.org/simple, https://us-python.pkg.dev/colab-wheels/public/simple/\n",
            "Requirement already satisfied: dm-haiku==0.0.5.dev0 in /usr/local/lib/python3.7/dist-packages (0.0.5.dev0)\n",
            "Requirement already satisfied: optax==0.0.6 in /usr/local/lib/python3.7/dist-packages (0.0.6)\n",
            "Requirement already satisfied: chex==0.0.6 in /usr/local/lib/python3.7/dist-packages (0.0.6)\n",
            "Requirement already satisfied: typing-extensions in /usr/local/lib/python3.7/dist-packages (from dm-haiku==0.0.5.dev0) (4.1.1)\n",
            "Requirement already satisfied: tabulate>=0.8.9 in /usr/local/lib/python3.7/dist-packages (from dm-haiku==0.0.5.dev0) (0.8.10)\n",
            "Requirement already satisfied: numpy>=1.18.0 in /usr/local/lib/python3.7/dist-packages (from dm-haiku==0.0.5.dev0) (1.21.6)\n",
            "Requirement already satisfied: absl-py>=0.7.1 in /usr/local/lib/python3.7/dist-packages (from dm-haiku==0.0.5.dev0) (1.2.0)\n",
            "Requirement already satisfied: jaxlib>=0.1.37 in /usr/local/lib/python3.7/dist-packages (from optax==0.0.6) (0.1.65+cuda111)\n",
            "Requirement already satisfied: jax>=0.1.55 in /usr/local/lib/python3.7/dist-packages (from optax==0.0.6) (0.2.12)\n",
            "Requirement already satisfied: toolz>=0.9.0 in /usr/local/lib/python3.7/dist-packages (from chex==0.0.6) (0.12.0)\n",
            "Requirement already satisfied: dm-tree>=0.1.5 in /usr/local/lib/python3.7/dist-packages (from chex==0.0.6) (0.1.7)\n",
            "Requirement already satisfied: opt-einsum in /usr/local/lib/python3.7/dist-packages (from jax>=0.1.55->optax==0.0.6) (3.3.0)\n",
            "Requirement already satisfied: scipy in /usr/local/lib/python3.7/dist-packages (from jaxlib>=0.1.37->optax==0.0.6) (1.7.3)\n",
            "Requirement already satisfied: flatbuffers in /usr/local/lib/python3.7/dist-packages (from jaxlib>=0.1.37->optax==0.0.6) (2.0)\n"
          ]
        }
      ],
      "source": [
        "# https://storage.googleapis.com/jax-releases/jax_cuda_releases.html\n",
        "!pip install --upgrade https://storage.googleapis.com/jax-releases/cuda111/jaxlib-0.1.65+cuda111-cp37-none-manylinux2010_x86_64.whl\n",
        "!pip install jax==0.2.12\n",
        "!pip install dm-haiku==0.0.5.dev0 optax==0.0.6 chex==0.0.6"
      ]
    },
    {
      "cell_type": "code",
      "source": [
        "for i in range(nruns):\n",
        " base_cmd = ['python3', 'bnn_hmc/scripts/run_sgd.py', '--seed=%s' % i, '--weight_decay=10', '--dir=runs/sgd/mirabestc/lenet/%s/' % i, \n",
        " '--dataset_name=mirabest/confident', '--model_name=lenet', '--init_step_size=3e-7', '--num_epochs=200', \n",
        " '--eval_freq=5', '--batch_size=53', '--patience=10']\n",
        " train_cmd = base_cmd + ['--train_split=train[:80%]', '--test_split=train[80%:]']\n",
        " eval_cmd = base_cmd + ['--eval_split=test']\n",
        " print(' '.join(train_cmd))\n",
        " subprocess.run(train_cmd, capture_output=True)\n",
        " subprocess.run(eval_cmd, capture_output=True)"
      ],
      "metadata": {
        "colab": {
          "base_uri": "https://localhost:8080/"
        },
        "id": "2eDStfdhVOSh",
        "outputId": "c8d62216-2d73-4c39-e1d3-2d2ce6d9fd20"
      },
      "execution_count": null,
      "outputs": [
        {
          "output_type": "stream",
          "name": "stdout",
          "text": [
            "python3 bnn_hmc/scripts/run_sgd.py --seed=0 --weight_decay=10 --dir=runs/sgd/mirabestc/lenet/0/ --dataset_name=mirabest/confident --model_name=lenet --init_step_size=3e-7 --num_epochs=200 --eval_freq=5 --batch_size=53 --patience=10 --train_split=train[:80%] --test_split=train[80%:]\n",
            "python3 bnn_hmc/scripts/run_sgd.py --seed=1 --weight_decay=10 --dir=runs/sgd/mirabestc/lenet/1/ --dataset_name=mirabest/confident --model_name=lenet --init_step_size=3e-7 --num_epochs=200 --eval_freq=5 --batch_size=53 --patience=10 --train_split=train[:80%] --test_split=train[80%:]\n",
            "python3 bnn_hmc/scripts/run_sgd.py --seed=2 --weight_decay=10 --dir=runs/sgd/mirabestc/lenet/2/ --dataset_name=mirabest/confident --model_name=lenet --init_step_size=3e-7 --num_epochs=200 --eval_freq=5 --batch_size=53 --patience=10 --train_split=train[:80%] --test_split=train[80%:]\n",
            "python3 bnn_hmc/scripts/run_sgd.py --seed=3 --weight_decay=10 --dir=runs/sgd/mirabestc/lenet/3/ --dataset_name=mirabest/confident --model_name=lenet --init_step_size=3e-7 --num_epochs=200 --eval_freq=5 --batch_size=53 --patience=10 --train_split=train[:80%] --test_split=train[80%:]\n",
            "python3 bnn_hmc/scripts/run_sgd.py --seed=4 --weight_decay=10 --dir=runs/sgd/mirabestc/lenet/4/ --dataset_name=mirabest/confident --model_name=lenet --init_step_size=3e-7 --num_epochs=200 --eval_freq=5 --batch_size=53 --patience=10 --train_split=train[:80%] --test_split=train[80%:]\n",
            "python3 bnn_hmc/scripts/run_sgd.py --seed=5 --weight_decay=10 --dir=runs/sgd/mirabestc/lenet/5/ --dataset_name=mirabest/confident --model_name=lenet --init_step_size=3e-7 --num_epochs=200 --eval_freq=5 --batch_size=53 --patience=10 --train_split=train[:80%] --test_split=train[80%:]\n",
            "python3 bnn_hmc/scripts/run_sgd.py --seed=6 --weight_decay=10 --dir=runs/sgd/mirabestc/lenet/6/ --dataset_name=mirabest/confident --model_name=lenet --init_step_size=3e-7 --num_epochs=200 --eval_freq=5 --batch_size=53 --patience=10 --train_split=train[:80%] --test_split=train[80%:]\n",
            "python3 bnn_hmc/scripts/run_sgd.py --seed=7 --weight_decay=10 --dir=runs/sgd/mirabestc/lenet/7/ --dataset_name=mirabest/confident --model_name=lenet --init_step_size=3e-7 --num_epochs=200 --eval_freq=5 --batch_size=53 --patience=10 --train_split=train[:80%] --test_split=train[80%:]\n",
            "python3 bnn_hmc/scripts/run_sgd.py --seed=8 --weight_decay=10 --dir=runs/sgd/mirabestc/lenet/8/ --dataset_name=mirabest/confident --model_name=lenet --init_step_size=3e-7 --num_epochs=200 --eval_freq=5 --batch_size=53 --patience=10 --train_split=train[:80%] --test_split=train[80%:]\n",
            "python3 bnn_hmc/scripts/run_sgd.py --seed=9 --weight_decay=10 --dir=runs/sgd/mirabestc/lenet/9/ --dataset_name=mirabest/confident --model_name=lenet --init_step_size=3e-7 --num_epochs=200 --eval_freq=5 --batch_size=53 --patience=10 --train_split=train[:80%] --test_split=train[80%:]\n",
            "python3 bnn_hmc/scripts/run_sgd.py --seed=10 --weight_decay=10 --dir=runs/sgd/mirabestc/lenet/10/ --dataset_name=mirabest/confident --model_name=lenet --init_step_size=3e-7 --num_epochs=200 --eval_freq=5 --batch_size=53 --patience=10 --train_split=train[:80%] --test_split=train[80%:]\n",
            "python3 bnn_hmc/scripts/run_sgd.py --seed=11 --weight_decay=10 --dir=runs/sgd/mirabestc/lenet/11/ --dataset_name=mirabest/confident --model_name=lenet --init_step_size=3e-7 --num_epochs=200 --eval_freq=5 --batch_size=53 --patience=10 --train_split=train[:80%] --test_split=train[80%:]\n",
            "python3 bnn_hmc/scripts/run_sgd.py --seed=12 --weight_decay=10 --dir=runs/sgd/mirabestc/lenet/12/ --dataset_name=mirabest/confident --model_name=lenet --init_step_size=3e-7 --num_epochs=200 --eval_freq=5 --batch_size=53 --patience=10 --train_split=train[:80%] --test_split=train[80%:]\n",
            "python3 bnn_hmc/scripts/run_sgd.py --seed=13 --weight_decay=10 --dir=runs/sgd/mirabestc/lenet/13/ --dataset_name=mirabest/confident --model_name=lenet --init_step_size=3e-7 --num_epochs=200 --eval_freq=5 --batch_size=53 --patience=10 --train_split=train[:80%] --test_split=train[80%:]\n",
            "python3 bnn_hmc/scripts/run_sgd.py --seed=14 --weight_decay=10 --dir=runs/sgd/mirabestc/lenet/14/ --dataset_name=mirabest/confident --model_name=lenet --init_step_size=3e-7 --num_epochs=200 --eval_freq=5 --batch_size=53 --patience=10 --train_split=train[:80%] --test_split=train[80%:]\n",
            "python3 bnn_hmc/scripts/run_sgd.py --seed=15 --weight_decay=10 --dir=runs/sgd/mirabestc/lenet/15/ --dataset_name=mirabest/confident --model_name=lenet --init_step_size=3e-7 --num_epochs=200 --eval_freq=5 --batch_size=53 --patience=10 --train_split=train[:80%] --test_split=train[80%:]\n",
            "python3 bnn_hmc/scripts/run_sgd.py --seed=16 --weight_decay=10 --dir=runs/sgd/mirabestc/lenet/16/ --dataset_name=mirabest/confident --model_name=lenet --init_step_size=3e-7 --num_epochs=200 --eval_freq=5 --batch_size=53 --patience=10 --train_split=train[:80%] --test_split=train[80%:]\n",
            "python3 bnn_hmc/scripts/run_sgd.py --seed=17 --weight_decay=10 --dir=runs/sgd/mirabestc/lenet/17/ --dataset_name=mirabest/confident --model_name=lenet --init_step_size=3e-7 --num_epochs=200 --eval_freq=5 --batch_size=53 --patience=10 --train_split=train[:80%] --test_split=train[80%:]\n",
            "python3 bnn_hmc/scripts/run_sgd.py --seed=18 --weight_decay=10 --dir=runs/sgd/mirabestc/lenet/18/ --dataset_name=mirabest/confident --model_name=lenet --init_step_size=3e-7 --num_epochs=200 --eval_freq=5 --batch_size=53 --patience=10 --train_split=train[:80%] --test_split=train[80%:]\n",
            "python3 bnn_hmc/scripts/run_sgd.py --seed=19 --weight_decay=10 --dir=runs/sgd/mirabestc/lenet/19/ --dataset_name=mirabest/confident --model_name=lenet --init_step_size=3e-7 --num_epochs=200 --eval_freq=5 --batch_size=53 --patience=10 --train_split=train[:80%] --test_split=train[80%:]\n",
            "python3 bnn_hmc/scripts/run_sgd.py --seed=20 --weight_decay=10 --dir=runs/sgd/mirabestc/lenet/20/ --dataset_name=mirabest/confident --model_name=lenet --init_step_size=3e-7 --num_epochs=200 --eval_freq=5 --batch_size=53 --patience=10 --train_split=train[:80%] --test_split=train[80%:]\n",
            "python3 bnn_hmc/scripts/run_sgd.py --seed=21 --weight_decay=10 --dir=runs/sgd/mirabestc/lenet/21/ --dataset_name=mirabest/confident --model_name=lenet --init_step_size=3e-7 --num_epochs=200 --eval_freq=5 --batch_size=53 --patience=10 --train_split=train[:80%] --test_split=train[80%:]\n",
            "python3 bnn_hmc/scripts/run_sgd.py --seed=22 --weight_decay=10 --dir=runs/sgd/mirabestc/lenet/22/ --dataset_name=mirabest/confident --model_name=lenet --init_step_size=3e-7 --num_epochs=200 --eval_freq=5 --batch_size=53 --patience=10 --train_split=train[:80%] --test_split=train[80%:]\n",
            "python3 bnn_hmc/scripts/run_sgd.py --seed=23 --weight_decay=10 --dir=runs/sgd/mirabestc/lenet/23/ --dataset_name=mirabest/confident --model_name=lenet --init_step_size=3e-7 --num_epochs=200 --eval_freq=5 --batch_size=53 --patience=10 --train_split=train[:80%] --test_split=train[80%:]\n",
            "python3 bnn_hmc/scripts/run_sgd.py --seed=24 --weight_decay=10 --dir=runs/sgd/mirabestc/lenet/24/ --dataset_name=mirabest/confident --model_name=lenet --init_step_size=3e-7 --num_epochs=200 --eval_freq=5 --batch_size=53 --patience=10 --train_split=train[:80%] --test_split=train[80%:]\n",
            "python3 bnn_hmc/scripts/run_sgd.py --seed=25 --weight_decay=10 --dir=runs/sgd/mirabestc/lenet/25/ --dataset_name=mirabest/confident --model_name=lenet --init_step_size=3e-7 --num_epochs=200 --eval_freq=5 --batch_size=53 --patience=10 --train_split=train[:80%] --test_split=train[80%:]\n",
            "python3 bnn_hmc/scripts/run_sgd.py --seed=26 --weight_decay=10 --dir=runs/sgd/mirabestc/lenet/26/ --dataset_name=mirabest/confident --model_name=lenet --init_step_size=3e-7 --num_epochs=200 --eval_freq=5 --batch_size=53 --patience=10 --train_split=train[:80%] --test_split=train[80%:]\n",
            "python3 bnn_hmc/scripts/run_sgd.py --seed=27 --weight_decay=10 --dir=runs/sgd/mirabestc/lenet/27/ --dataset_name=mirabest/confident --model_name=lenet --init_step_size=3e-7 --num_epochs=200 --eval_freq=5 --batch_size=53 --patience=10 --train_split=train[:80%] --test_split=train[80%:]\n",
            "python3 bnn_hmc/scripts/run_sgd.py --seed=28 --weight_decay=10 --dir=runs/sgd/mirabestc/lenet/28/ --dataset_name=mirabest/confident --model_name=lenet --init_step_size=3e-7 --num_epochs=200 --eval_freq=5 --batch_size=53 --patience=10 --train_split=train[:80%] --test_split=train[80%:]\n",
            "python3 bnn_hmc/scripts/run_sgd.py --seed=29 --weight_decay=10 --dir=runs/sgd/mirabestc/lenet/29/ --dataset_name=mirabest/confident --model_name=lenet --init_step_size=3e-7 --num_epochs=200 --eval_freq=5 --batch_size=53 --patience=10 --train_split=train[:80%] --test_split=train[80%:]\n",
            "python3 bnn_hmc/scripts/run_sgd.py --seed=30 --weight_decay=10 --dir=runs/sgd/mirabestc/lenet/30/ --dataset_name=mirabest/confident --model_name=lenet --init_step_size=3e-7 --num_epochs=200 --eval_freq=5 --batch_size=53 --patience=10 --train_split=train[:80%] --test_split=train[80%:]\n",
            "python3 bnn_hmc/scripts/run_sgd.py --seed=31 --weight_decay=10 --dir=runs/sgd/mirabestc/lenet/31/ --dataset_name=mirabest/confident --model_name=lenet --init_step_size=3e-7 --num_epochs=200 --eval_freq=5 --batch_size=53 --patience=10 --train_split=train[:80%] --test_split=train[80%:]\n",
            "python3 bnn_hmc/scripts/run_sgd.py --seed=32 --weight_decay=10 --dir=runs/sgd/mirabestc/lenet/32/ --dataset_name=mirabest/confident --model_name=lenet --init_step_size=3e-7 --num_epochs=200 --eval_freq=5 --batch_size=53 --patience=10 --train_split=train[:80%] --test_split=train[80%:]\n",
            "python3 bnn_hmc/scripts/run_sgd.py --seed=33 --weight_decay=10 --dir=runs/sgd/mirabestc/lenet/33/ --dataset_name=mirabest/confident --model_name=lenet --init_step_size=3e-7 --num_epochs=200 --eval_freq=5 --batch_size=53 --patience=10 --train_split=train[:80%] --test_split=train[80%:]\n",
            "python3 bnn_hmc/scripts/run_sgd.py --seed=34 --weight_decay=10 --dir=runs/sgd/mirabestc/lenet/34/ --dataset_name=mirabest/confident --model_name=lenet --init_step_size=3e-7 --num_epochs=200 --eval_freq=5 --batch_size=53 --patience=10 --train_split=train[:80%] --test_split=train[80%:]\n",
            "python3 bnn_hmc/scripts/run_sgd.py --seed=35 --weight_decay=10 --dir=runs/sgd/mirabestc/lenet/35/ --dataset_name=mirabest/confident --model_name=lenet --init_step_size=3e-7 --num_epochs=200 --eval_freq=5 --batch_size=53 --patience=10 --train_split=train[:80%] --test_split=train[80%:]\n",
            "python3 bnn_hmc/scripts/run_sgd.py --seed=36 --weight_decay=10 --dir=runs/sgd/mirabestc/lenet/36/ --dataset_name=mirabest/confident --model_name=lenet --init_step_size=3e-7 --num_epochs=200 --eval_freq=5 --batch_size=53 --patience=10 --train_split=train[:80%] --test_split=train[80%:]\n",
            "python3 bnn_hmc/scripts/run_sgd.py --seed=37 --weight_decay=10 --dir=runs/sgd/mirabestc/lenet/37/ --dataset_name=mirabest/confident --model_name=lenet --init_step_size=3e-7 --num_epochs=200 --eval_freq=5 --batch_size=53 --patience=10 --train_split=train[:80%] --test_split=train[80%:]\n",
            "python3 bnn_hmc/scripts/run_sgd.py --seed=38 --weight_decay=10 --dir=runs/sgd/mirabestc/lenet/38/ --dataset_name=mirabest/confident --model_name=lenet --init_step_size=3e-7 --num_epochs=200 --eval_freq=5 --batch_size=53 --patience=10 --train_split=train[:80%] --test_split=train[80%:]\n",
            "python3 bnn_hmc/scripts/run_sgd.py --seed=39 --weight_decay=10 --dir=runs/sgd/mirabestc/lenet/39/ --dataset_name=mirabest/confident --model_name=lenet --init_step_size=3e-7 --num_epochs=200 --eval_freq=5 --batch_size=53 --patience=10 --train_split=train[:80%] --test_split=train[80%:]\n",
            "python3 bnn_hmc/scripts/run_sgd.py --seed=40 --weight_decay=10 --dir=runs/sgd/mirabestc/lenet/40/ --dataset_name=mirabest/confident --model_name=lenet --init_step_size=3e-7 --num_epochs=200 --eval_freq=5 --batch_size=53 --patience=10 --train_split=train[:80%] --test_split=train[80%:]\n",
            "python3 bnn_hmc/scripts/run_sgd.py --seed=41 --weight_decay=10 --dir=runs/sgd/mirabestc/lenet/41/ --dataset_name=mirabest/confident --model_name=lenet --init_step_size=3e-7 --num_epochs=200 --eval_freq=5 --batch_size=53 --patience=10 --train_split=train[:80%] --test_split=train[80%:]\n",
            "python3 bnn_hmc/scripts/run_sgd.py --seed=42 --weight_decay=10 --dir=runs/sgd/mirabestc/lenet/42/ --dataset_name=mirabest/confident --model_name=lenet --init_step_size=3e-7 --num_epochs=200 --eval_freq=5 --batch_size=53 --patience=10 --train_split=train[:80%] --test_split=train[80%:]\n",
            "python3 bnn_hmc/scripts/run_sgd.py --seed=43 --weight_decay=10 --dir=runs/sgd/mirabestc/lenet/43/ --dataset_name=mirabest/confident --model_name=lenet --init_step_size=3e-7 --num_epochs=200 --eval_freq=5 --batch_size=53 --patience=10 --train_split=train[:80%] --test_split=train[80%:]\n",
            "python3 bnn_hmc/scripts/run_sgd.py --seed=44 --weight_decay=10 --dir=runs/sgd/mirabestc/lenet/44/ --dataset_name=mirabest/confident --model_name=lenet --init_step_size=3e-7 --num_epochs=200 --eval_freq=5 --batch_size=53 --patience=10 --train_split=train[:80%] --test_split=train[80%:]\n",
            "python3 bnn_hmc/scripts/run_sgd.py --seed=45 --weight_decay=10 --dir=runs/sgd/mirabestc/lenet/45/ --dataset_name=mirabest/confident --model_name=lenet --init_step_size=3e-7 --num_epochs=200 --eval_freq=5 --batch_size=53 --patience=10 --train_split=train[:80%] --test_split=train[80%:]\n",
            "python3 bnn_hmc/scripts/run_sgd.py --seed=46 --weight_decay=10 --dir=runs/sgd/mirabestc/lenet/46/ --dataset_name=mirabest/confident --model_name=lenet --init_step_size=3e-7 --num_epochs=200 --eval_freq=5 --batch_size=53 --patience=10 --train_split=train[:80%] --test_split=train[80%:]\n",
            "python3 bnn_hmc/scripts/run_sgd.py --seed=47 --weight_decay=10 --dir=runs/sgd/mirabestc/lenet/47/ --dataset_name=mirabest/confident --model_name=lenet --init_step_size=3e-7 --num_epochs=200 --eval_freq=5 --batch_size=53 --patience=10 --train_split=train[:80%] --test_split=train[80%:]\n",
            "python3 bnn_hmc/scripts/run_sgd.py --seed=48 --weight_decay=10 --dir=runs/sgd/mirabestc/lenet/48/ --dataset_name=mirabest/confident --model_name=lenet --init_step_size=3e-7 --num_epochs=200 --eval_freq=5 --batch_size=53 --patience=10 --train_split=train[:80%] --test_split=train[80%:]\n",
            "python3 bnn_hmc/scripts/run_sgd.py --seed=49 --weight_decay=10 --dir=runs/sgd/mirabestc/lenet/49/ --dataset_name=mirabest/confident --model_name=lenet --init_step_size=3e-7 --num_epochs=200 --eval_freq=5 --batch_size=53 --patience=10 --train_split=train[:80%] --test_split=train[80%:]\n"
          ]
        }
      ]
    },
    {
      "cell_type": "code",
      "execution_count": null,
      "metadata": {
        "colab": {
          "base_uri": "https://localhost:8080/"
        },
        "id": "yhXkyDWgOrkj",
        "outputId": "0f1abf0d-0df8-47ee-ec84-f0db9e227182"
      },
      "outputs": [
        {
          "output_type": "stream",
          "name": "stdout",
          "text": [
            "Accuracy 0.89557695 0.018645918\n",
            "NLL 0.30361935 0.036195856\n",
            "ECE 0.070390984 0.014845853\n"
          ]
        }
      ],
      "source": [
        "accuracies = []\n",
        "nlls = []\n",
        "eces = []\n",
        "softmax = []\n",
        "for i, root in enumerate(glob.glob('/content/runs/sgd/mirabestc/lenet/*/*/')):\n",
        "  data = np.load(root + '/test_set.npy')  \n",
        "  prediction = np.load(root + '/predictions.npy')\n",
        "  metrics = np.load(root + '/metrics.npy', allow_pickle=True)\n",
        "  accuracies.append(metrics.item()['accuracy'])\n",
        "  nlls.append(metrics.item()['nll'])\n",
        "  eces.append(metrics.item()['ece'])\n",
        "  softmax.append(np.squeeze(prediction))\n",
        "print('Accuracy', np.mean(accuracies), np.std(accuracies))\n",
        "print('NLL', np.mean(nlls), np.std(nlls))\n",
        "print('ECE', np.mean(eces), np.std(eces))\n",
        "softmax = np.array(softmax)"
      ]
    },
    {
      "cell_type": "code",
      "source": [
        "def uncertainty(softmax):\n",
        "  # Per example softmax with shape(num_examples, num_classes)\n",
        "  predictive_entropy = 0\n",
        "  single_pass_entropy = 0\n",
        "  for i in range(softmax.shape[1]):\n",
        "    # Sum over classes\n",
        "    predictive_entropy += -np.mean(softmax[:,i])*np.log(np.mean(softmax[:,i]))\n",
        "    single_pass_entropy += -softmax[:,i]*np.log(softmax[:,i])\n",
        "  single_pass_entropy = np.mean(single_pass_entropy)\n",
        "  mutual_info = predictive_entropy - single_pass_entropy\n",
        "  return predictive_entropy, single_pass_entropy, mutual_info"
      ],
      "metadata": {
        "id": "StORKbIX5WfY"
      },
      "execution_count": null,
      "outputs": []
    },
    {
      "cell_type": "code",
      "source": [
        "predictive_entropies = [] \n",
        "single_pass_entropies = []\n",
        "mutual_infos = []\n",
        "for i in range(softmax.shape[1]):\n",
        "  predictive_entropy, single_pass_entropy, mutual_info = uncertainty(softmax[:,i,:])\n",
        "  predictive_entropies.append(predictive_entropy)\n",
        "  single_pass_entropies.append(single_pass_entropy)\n",
        "  mutual_infos.append(mutual_info)\n",
        "print('Predictive entropy:', np.mean(predictive_entropies), np.std(predictive_entropies))\n",
        "print('Single pass entropy:', np.mean(single_pass_entropies), np.std(single_pass_entropies))\n",
        "print('Mutual info:', np.mean(mutual_infos), np.std(mutual_infos))"
      ],
      "metadata": {
        "id": "irRgQcsrAAEV",
        "outputId": "4ee127e0-12c7-44da-83e3-7f57757cf651",
        "colab": {
          "base_uri": "https://localhost:8080/"
        }
      },
      "execution_count": null,
      "outputs": [
        {
          "output_type": "stream",
          "name": "stdout",
          "text": [
            "Predictive entropy: 0.27155006662808145 0.22990705240843187\n",
            "Single pass entropy: 0.24367192 0.205041\n",
            "Mutual info: 0.0278781314857322 0.03316762072376633\n"
          ]
        }
      ]
    },
    {
      "cell_type": "code",
      "source": [
        "sns.boxplot(predictive_entropies)\n",
        "plt.show()"
      ],
      "metadata": {
        "id": "GZk1S2xLMpJq",
        "outputId": "4732fae7-60e4-4c7e-8bee-6b3d2eb8a866",
        "colab": {
          "base_uri": "https://localhost:8080/",
          "height": 321
        }
      },
      "execution_count": null,
      "outputs": [
        {
          "output_type": "stream",
          "name": "stderr",
          "text": [
            "/usr/local/lib/python3.7/dist-packages/seaborn/_decorators.py:43: FutureWarning: Pass the following variable as a keyword arg: x. From version 0.12, the only valid positional argument will be `data`, and passing other arguments without an explicit keyword will result in an error or misinterpretation.\n",
            "  FutureWarning\n"
          ]
        },
        {
          "output_type": "display_data",
          "data": {
            "text/plain": [
              "<Figure size 432x288 with 1 Axes>"
            ],
            "image/png": "[encoded data removed]"
          },
          "metadata": {
            "needs_background": "light"
          }
        }
      ]
    },
    {
      "cell_type": "code",
      "source": [
        "sns.boxplot(single_pass_entropies)\n",
        "plt.show()"
      ],
      "metadata": {
        "id": "jB95TfL7M1ax",
        "outputId": "604cd1a1-f89e-4375-d936-3cf643f56be2",
        "colab": {
          "base_uri": "https://localhost:8080/",
          "height": 321
        }
      },
      "execution_count": null,
      "outputs": [
        {
          "output_type": "stream",
          "name": "stderr",
          "text": [
            "/usr/local/lib/python3.7/dist-packages/seaborn/_decorators.py:43: FutureWarning: Pass the following variable as a keyword arg: x. From version 0.12, the only valid positional argument will be `data`, and passing other arguments without an explicit keyword will result in an error or misinterpretation.\n",
            "  FutureWarning\n"
          ]
        },
        {
          "output_type": "display_data",
          "data": {
            "text/plain": [
              "<Figure size 432x288 with 1 Axes>"
            ],
            "image/png": "[encoded data removed]"
          },
          "metadata": {
            "needs_background": "light"
          }
        }
      ]
    },
    {
      "cell_type": "code",
      "source": [
        "sns.boxplot(mutual_infos)\n",
        "plt.show()"
      ],
      "metadata": {
        "id": "P2lrt1FSM59f",
        "outputId": "d3bbc525-b3ca-4fa4-cdd6-e918bd9eea57",
        "colab": {
          "base_uri": "https://localhost:8080/",
          "height": 321
        }
      },
      "execution_count": null,
      "outputs": [
        {
          "output_type": "stream",
          "name": "stderr",
          "text": [
            "/usr/local/lib/python3.7/dist-packages/seaborn/_decorators.py:43: FutureWarning: Pass the following variable as a keyword arg: x. From version 0.12, the only valid positional argument will be `data`, and passing other arguments without an explicit keyword will result in an error or misinterpretation.\n",
            "  FutureWarning\n"
          ]
        },
        {
          "output_type": "display_data",
          "data": {
            "text/plain": [
              "<Figure size 432x288 with 1 Axes>"
            ],
            "image/png": "[encoded data removed]"
          },
          "metadata": {
            "needs_background": "light"
          }
        }
      ]
    }
  ],
  "metadata": {
    "accelerator": "GPU",
    "colab": {
      "collapsed_sections": [],
      "name": "CMD_ensemble.ipynb",
      "provenance": [],
      "include_colab_link": true
    },
    "gpuClass": "standard",
    "kernelspec": {
      "display_name": "Python 3",
      "name": "python3"
    },
    "language_info": {
      "name": "python"
    }
  },
  "nbformat": 4,
  "nbformat_minor": 0
}