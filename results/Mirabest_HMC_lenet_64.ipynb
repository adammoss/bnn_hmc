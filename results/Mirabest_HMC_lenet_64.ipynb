{
  "cells": [
    {
      "cell_type": "markdown",
      "metadata": {
        "id": "view-in-github",
        "colab_type": "text"
      },
      "source": [
        "<a href=\"https://colab.research.google.com/github/adammoss/bnn_hmc/blob/main/results/Mirabest_HMC_lenet_64.ipynb\" target=\"_parent\"><img src=\"https://colab.research.google.com/assets/colab-badge.svg\" alt=\"Open In Colab\"/></a>"
      ]
    },
    {
      "cell_type": "code",
      "execution_count": 1,
      "metadata": {
        "id": "cEcM5CI0elXH"
      },
      "outputs": [],
      "source": [
        "import os\n",
        "import sys\n",
        "import shutil\n",
        "import subprocess\n",
        "import glob\n",
        "import matplotlib.pyplot as plt\n",
        "import seaborn as sns\n",
        "import numpy as np"
      ]
    },
    {
      "cell_type": "code",
      "execution_count": 2,
      "metadata": {
        "colab": {
          "base_uri": "https://localhost:8080/"
        },
        "id": "PG8C5D59em9G",
        "outputId": "8b0f5b5a-c479-4ac9-cd58-00b58e202a4c"
      },
      "outputs": [
        {
          "output_type": "stream",
          "name": "stdout",
          "text": [
            "Sun Sep  4 19:05:15 2022       \n",
            "+-----------------------------------------------------------------------------+\n",
            "| NVIDIA-SMI 460.32.03    Driver Version: 460.32.03    CUDA Version: 11.2     |\n",
            "|-------------------------------+----------------------+----------------------+\n",
            "| GPU  Name        Persistence-M| Bus-Id        Disp.A | Volatile Uncorr. ECC |\n",
            "| Fan  Temp  Perf  Pwr:Usage/Cap|         Memory-Usage | GPU-Util  Compute M. |\n",
            "|                               |                      |               MIG M. |\n",
            "|===============================+======================+======================|\n",
            "|   0  Tesla V100-SXM2...  Off  | 00000000:00:04.0 Off |                    0 |\n",
            "| N/A   40C    P0    26W / 300W |      0MiB / 16160MiB |      0%      Default |\n",
            "|                               |                      |                  N/A |\n",
            "+-------------------------------+----------------------+----------------------+\n",
            "                                                                               \n",
            "+-----------------------------------------------------------------------------+\n",
            "| Processes:                                                                  |\n",
            "|  GPU   GI   CI        PID   Type   Process name                  GPU Memory |\n",
            "|        ID   ID                                                   Usage      |\n",
            "|=============================================================================|\n",
            "|  No running processes found                                                 |\n",
            "+-----------------------------------------------------------------------------+\n"
          ]
        }
      ],
      "source": [
        "!nvidia-smi"
      ]
    },
    {
      "cell_type": "code",
      "execution_count": 3,
      "metadata": {
        "colab": {
          "base_uri": "https://localhost:8080/"
        },
        "id": "FsPmIiW8er6E",
        "outputId": "11edfa79-41df-413f-ef92-24d0f850bbde"
      },
      "outputs": [
        {
          "output_type": "stream",
          "name": "stdout",
          "text": [
            "Looking in indexes: https://pypi.org/simple, https://us-python.pkg.dev/colab-wheels/public/simple/\n",
            "Collecting astro-datasets\n",
            "  Downloading astro_datasets-0.0.10.tar.gz (12 kB)\n",
            "Requirement already satisfied: tensorflow in /usr/local/lib/python3.7/dist-packages (from astro-datasets) (2.8.2+zzzcolab20220719082949)\n",
            "Requirement already satisfied: tensorflow_datasets in /usr/local/lib/python3.7/dist-packages (from astro-datasets) (4.6.0)\n",
            "Requirement already satisfied: numpy in /usr/local/lib/python3.7/dist-packages (from astro-datasets) (1.21.6)\n",
            "Requirement already satisfied: pandas in /usr/local/lib/python3.7/dist-packages (from astro-datasets) (1.3.5)\n",
            "Requirement already satisfied: python-dateutil>=2.7.3 in /usr/local/lib/python3.7/dist-packages (from pandas->astro-datasets) (2.8.2)\n",
            "Requirement already satisfied: pytz>=2017.3 in /usr/local/lib/python3.7/dist-packages (from pandas->astro-datasets) (2022.2.1)\n",
            "Requirement already satisfied: six>=1.5 in /usr/local/lib/python3.7/dist-packages (from python-dateutil>=2.7.3->pandas->astro-datasets) (1.15.0)\n",
            "Requirement already satisfied: wrapt>=1.11.0 in /usr/local/lib/python3.7/dist-packages (from tensorflow->astro-datasets) (1.14.1)\n",
            "Requirement already satisfied: opt-einsum>=2.3.2 in /usr/local/lib/python3.7/dist-packages (from tensorflow->astro-datasets) (3.3.0)\n",
            "Requirement already satisfied: h5py>=2.9.0 in /usr/local/lib/python3.7/dist-packages (from tensorflow->astro-datasets) (3.1.0)\n",
            "Requirement already satisfied: gast>=0.2.1 in /usr/local/lib/python3.7/dist-packages (from tensorflow->astro-datasets) (0.5.3)\n",
            "Requirement already satisfied: tensorflow-io-gcs-filesystem>=0.23.1 in /usr/local/lib/python3.7/dist-packages (from tensorflow->astro-datasets) (0.26.0)\n",
            "Requirement already satisfied: typing-extensions>=3.6.6 in /usr/local/lib/python3.7/dist-packages (from tensorflow->astro-datasets) (4.1.1)\n",
            "Requirement already satisfied: termcolor>=1.1.0 in /usr/local/lib/python3.7/dist-packages (from tensorflow->astro-datasets) (1.1.0)\n",
            "Requirement already satisfied: google-pasta>=0.1.1 in /usr/local/lib/python3.7/dist-packages (from tensorflow->astro-datasets) (0.2.0)\n",
            "Requirement already satisfied: absl-py>=0.4.0 in /usr/local/lib/python3.7/dist-packages (from tensorflow->astro-datasets) (1.2.0)\n",
            "Requirement already satisfied: libclang>=9.0.1 in /usr/local/lib/python3.7/dist-packages (from tensorflow->astro-datasets) (14.0.6)\n",
            "Requirement already satisfied: tensorboard<2.9,>=2.8 in /usr/local/lib/python3.7/dist-packages (from tensorflow->astro-datasets) (2.8.0)\n",
            "Requirement already satisfied: tensorflow-estimator<2.9,>=2.8 in /usr/local/lib/python3.7/dist-packages (from tensorflow->astro-datasets) (2.8.0)\n",
            "Requirement already satisfied: protobuf<3.20,>=3.9.2 in /usr/local/lib/python3.7/dist-packages (from tensorflow->astro-datasets) (3.17.3)\n",
            "Requirement already satisfied: grpcio<2.0,>=1.24.3 in /usr/local/lib/python3.7/dist-packages (from tensorflow->astro-datasets) (1.47.0)\n",
            "Requirement already satisfied: setuptools in /usr/local/lib/python3.7/dist-packages (from tensorflow->astro-datasets) (57.4.0)\n",
            "Requirement already satisfied: keras<2.9,>=2.8.0rc0 in /usr/local/lib/python3.7/dist-packages (from tensorflow->astro-datasets) (2.8.0)\n",
            "Requirement already satisfied: astunparse>=1.6.0 in /usr/local/lib/python3.7/dist-packages (from tensorflow->astro-datasets) (1.6.3)\n",
            "Requirement already satisfied: flatbuffers>=1.12 in /usr/local/lib/python3.7/dist-packages (from tensorflow->astro-datasets) (2.0.7)\n",
            "Requirement already satisfied: keras-preprocessing>=1.1.1 in /usr/local/lib/python3.7/dist-packages (from tensorflow->astro-datasets) (1.1.2)\n",
            "Requirement already satisfied: wheel<1.0,>=0.23.0 in /usr/local/lib/python3.7/dist-packages (from astunparse>=1.6.0->tensorflow->astro-datasets) (0.37.1)\n",
            "Requirement already satisfied: cached-property in /usr/local/lib/python3.7/dist-packages (from h5py>=2.9.0->tensorflow->astro-datasets) (1.5.2)\n",
            "Requirement already satisfied: tensorboard-data-server<0.7.0,>=0.6.0 in /usr/local/lib/python3.7/dist-packages (from tensorboard<2.9,>=2.8->tensorflow->astro-datasets) (0.6.1)\n",
            "Requirement already satisfied: google-auth-oauthlib<0.5,>=0.4.1 in /usr/local/lib/python3.7/dist-packages (from tensorboard<2.9,>=2.8->tensorflow->astro-datasets) (0.4.6)\n",
            "Requirement already satisfied: google-auth<3,>=1.6.3 in /usr/local/lib/python3.7/dist-packages (from tensorboard<2.9,>=2.8->tensorflow->astro-datasets) (1.35.0)\n",
            "Requirement already satisfied: markdown>=2.6.8 in /usr/local/lib/python3.7/dist-packages (from tensorboard<2.9,>=2.8->tensorflow->astro-datasets) (3.4.1)\n",
            "Requirement already satisfied: requests<3,>=2.21.0 in /usr/local/lib/python3.7/dist-packages (from tensorboard<2.9,>=2.8->tensorflow->astro-datasets) (2.23.0)\n",
            "Requirement already satisfied: werkzeug>=0.11.15 in /usr/local/lib/python3.7/dist-packages (from tensorboard<2.9,>=2.8->tensorflow->astro-datasets) (1.0.1)\n",
            "Requirement already satisfied: tensorboard-plugin-wit>=1.6.0 in /usr/local/lib/python3.7/dist-packages (from tensorboard<2.9,>=2.8->tensorflow->astro-datasets) (1.8.1)\n",
            "Requirement already satisfied: cachetools<5.0,>=2.0.0 in /usr/local/lib/python3.7/dist-packages (from google-auth<3,>=1.6.3->tensorboard<2.9,>=2.8->tensorflow->astro-datasets) (4.2.4)\n",
            "Requirement already satisfied: rsa<5,>=3.1.4 in /usr/local/lib/python3.7/dist-packages (from google-auth<3,>=1.6.3->tensorboard<2.9,>=2.8->tensorflow->astro-datasets) (4.9)\n",
            "Requirement already satisfied: pyasn1-modules>=0.2.1 in /usr/local/lib/python3.7/dist-packages (from google-auth<3,>=1.6.3->tensorboard<2.9,>=2.8->tensorflow->astro-datasets) (0.2.8)\n",
            "Requirement already satisfied: requests-oauthlib>=0.7.0 in /usr/local/lib/python3.7/dist-packages (from google-auth-oauthlib<0.5,>=0.4.1->tensorboard<2.9,>=2.8->tensorflow->astro-datasets) (1.3.1)\n",
            "Requirement already satisfied: importlib-metadata>=4.4 in /usr/local/lib/python3.7/dist-packages (from markdown>=2.6.8->tensorboard<2.9,>=2.8->tensorflow->astro-datasets) (4.12.0)\n",
            "Requirement already satisfied: zipp>=0.5 in /usr/local/lib/python3.7/dist-packages (from importlib-metadata>=4.4->markdown>=2.6.8->tensorboard<2.9,>=2.8->tensorflow->astro-datasets) (3.8.1)\n",
            "Requirement already satisfied: pyasn1<0.5.0,>=0.4.6 in /usr/local/lib/python3.7/dist-packages (from pyasn1-modules>=0.2.1->google-auth<3,>=1.6.3->tensorboard<2.9,>=2.8->tensorflow->astro-datasets) (0.4.8)\n",
            "Requirement already satisfied: idna<3,>=2.5 in /usr/local/lib/python3.7/dist-packages (from requests<3,>=2.21.0->tensorboard<2.9,>=2.8->tensorflow->astro-datasets) (2.10)\n",
            "Requirement already satisfied: urllib3!=1.25.0,!=1.25.1,<1.26,>=1.21.1 in /usr/local/lib/python3.7/dist-packages (from requests<3,>=2.21.0->tensorboard<2.9,>=2.8->tensorflow->astro-datasets) (1.24.3)\n",
            "Requirement already satisfied: chardet<4,>=3.0.2 in /usr/local/lib/python3.7/dist-packages (from requests<3,>=2.21.0->tensorboard<2.9,>=2.8->tensorflow->astro-datasets) (3.0.4)\n",
            "Requirement already satisfied: certifi>=2017.4.17 in /usr/local/lib/python3.7/dist-packages (from requests<3,>=2.21.0->tensorboard<2.9,>=2.8->tensorflow->astro-datasets) (2022.6.15)\n",
            "Requirement already satisfied: oauthlib>=3.0.0 in /usr/local/lib/python3.7/dist-packages (from requests-oauthlib>=0.7.0->google-auth-oauthlib<0.5,>=0.4.1->tensorboard<2.9,>=2.8->tensorflow->astro-datasets) (3.2.0)\n",
            "Requirement already satisfied: promise in /usr/local/lib/python3.7/dist-packages (from tensorflow_datasets->astro-datasets) (2.3)\n",
            "Requirement already satisfied: dill in /usr/local/lib/python3.7/dist-packages (from tensorflow_datasets->astro-datasets) (0.3.5.1)\n",
            "Requirement already satisfied: importlib-resources in /usr/local/lib/python3.7/dist-packages (from tensorflow_datasets->astro-datasets) (5.9.0)\n",
            "Requirement already satisfied: etils[epath] in /usr/local/lib/python3.7/dist-packages (from tensorflow_datasets->astro-datasets) (0.7.1)\n",
            "Requirement already satisfied: tensorflow-metadata in /usr/local/lib/python3.7/dist-packages (from tensorflow_datasets->astro-datasets) (1.10.0)\n",
            "Requirement already satisfied: tqdm in /usr/local/lib/python3.7/dist-packages (from tensorflow_datasets->astro-datasets) (4.64.0)\n",
            "Requirement already satisfied: toml in /usr/local/lib/python3.7/dist-packages (from tensorflow_datasets->astro-datasets) (0.10.2)\n",
            "Requirement already satisfied: googleapis-common-protos<2,>=1.52.0 in /usr/local/lib/python3.7/dist-packages (from tensorflow-metadata->tensorflow_datasets->astro-datasets) (1.56.4)\n",
            "Building wheels for collected packages: astro-datasets\n",
            "  Building wheel for astro-datasets (setup.py) ... \u001b[?25l\u001b[?25hdone\n",
            "  Created wheel for astro-datasets: filename=astro_datasets-0.0.10-py3-none-any.whl size=15992 sha256=02050af18432975551b6804310141f2b19a0efaa662e6ddb2de4f6cb2af1d2ed\n",
            "  Stored in directory: /root/.cache/pip/wheels/33/b2/9d/97c264f6addbd178fe1c8ff119617e1515cb8c0d0f220605cf\n",
            "Successfully built astro-datasets\n",
            "Installing collected packages: astro-datasets\n",
            "Successfully installed astro-datasets-0.0.10\n",
            "Looking in indexes: https://pypi.org/simple, https://us-python.pkg.dev/colab-wheels/public/simple/\n",
            "Requirement already satisfied: tensorflow_datasets in /usr/local/lib/python3.7/dist-packages (4.6.0)\n",
            "Requirement already satisfied: importlib-resources in /usr/local/lib/python3.7/dist-packages (from tensorflow_datasets) (5.9.0)\n",
            "Requirement already satisfied: six in /usr/local/lib/python3.7/dist-packages (from tensorflow_datasets) (1.15.0)\n",
            "Requirement already satisfied: etils[epath] in /usr/local/lib/python3.7/dist-packages (from tensorflow_datasets) (0.7.1)\n",
            "Requirement already satisfied: toml in /usr/local/lib/python3.7/dist-packages (from tensorflow_datasets) (0.10.2)\n",
            "Requirement already satisfied: typing-extensions in /usr/local/lib/python3.7/dist-packages (from tensorflow_datasets) (4.1.1)\n",
            "Requirement already satisfied: termcolor in /usr/local/lib/python3.7/dist-packages (from tensorflow_datasets) (1.1.0)\n",
            "Requirement already satisfied: promise in /usr/local/lib/python3.7/dist-packages (from tensorflow_datasets) (2.3)\n",
            "Requirement already satisfied: requests>=2.19.0 in /usr/local/lib/python3.7/dist-packages (from tensorflow_datasets) (2.23.0)\n",
            "Requirement already satisfied: dill in /usr/local/lib/python3.7/dist-packages (from tensorflow_datasets) (0.3.5.1)\n",
            "Requirement already satisfied: protobuf>=3.12.2 in /usr/local/lib/python3.7/dist-packages (from tensorflow_datasets) (3.17.3)\n",
            "Requirement already satisfied: tensorflow-metadata in /usr/local/lib/python3.7/dist-packages (from tensorflow_datasets) (1.10.0)\n",
            "Requirement already satisfied: numpy in /usr/local/lib/python3.7/dist-packages (from tensorflow_datasets) (1.21.6)\n",
            "Requirement already satisfied: tqdm in /usr/local/lib/python3.7/dist-packages (from tensorflow_datasets) (4.64.0)\n",
            "Requirement already satisfied: absl-py in /usr/local/lib/python3.7/dist-packages (from tensorflow_datasets) (1.2.0)\n",
            "Requirement already satisfied: idna<3,>=2.5 in /usr/local/lib/python3.7/dist-packages (from requests>=2.19.0->tensorflow_datasets) (2.10)\n",
            "Requirement already satisfied: urllib3!=1.25.0,!=1.25.1,<1.26,>=1.21.1 in /usr/local/lib/python3.7/dist-packages (from requests>=2.19.0->tensorflow_datasets) (1.24.3)\n",
            "Requirement already satisfied: certifi>=2017.4.17 in /usr/local/lib/python3.7/dist-packages (from requests>=2.19.0->tensorflow_datasets) (2022.6.15)\n",
            "Requirement already satisfied: chardet<4,>=3.0.2 in /usr/local/lib/python3.7/dist-packages (from requests>=2.19.0->tensorflow_datasets) (3.0.4)\n",
            "Requirement already satisfied: zipp in /usr/local/lib/python3.7/dist-packages (from etils[epath]->tensorflow_datasets) (3.8.1)\n",
            "Requirement already satisfied: googleapis-common-protos<2,>=1.52.0 in /usr/local/lib/python3.7/dist-packages (from tensorflow-metadata->tensorflow_datasets) (1.56.4)\n"
          ]
        }
      ],
      "source": [
        "!pip install astro-datasets --upgrade\n",
        "!pip install tensorflow_datasets --upgrade"
      ]
    },
    {
      "cell_type": "code",
      "execution_count": 4,
      "metadata": {
        "id": "OyWHvzUKezqy"
      },
      "outputs": [],
      "source": [
        "shutil.rmtree('bnn_hmc', ignore_errors=True)"
      ]
    },
    {
      "cell_type": "code",
      "execution_count": 5,
      "metadata": {
        "colab": {
          "base_uri": "https://localhost:8080/"
        },
        "id": "8R140H13f4HU",
        "outputId": "3544e229-f5f5-4144-b969-27875f44242c"
      },
      "outputs": [
        {
          "output_type": "stream",
          "name": "stdout",
          "text": [
            "Cloning into 'bnn_hmc'...\n",
            "remote: Enumerating objects: 570, done.\u001b[K\n",
            "remote: Counting objects: 100% (39/39), done.\u001b[K\n",
            "remote: Compressing objects: 100% (39/39), done.\u001b[K\n",
            "remote: Total 570 (delta 26), reused 0 (delta 0), pack-reused 531\u001b[K\n",
            "Receiving objects: 100% (570/570), 1.08 MiB | 8.69 MiB/s, done.\n",
            "Resolving deltas: 100% (407/407), done.\n"
          ]
        }
      ],
      "source": [
        "!git clone https://github.com/adammoss/bnn_hmc"
      ]
    },
    {
      "cell_type": "code",
      "execution_count": 6,
      "metadata": {
        "colab": {
          "base_uri": "https://localhost:8080/"
        },
        "id": "urf92bikf6tn",
        "outputId": "22603c1b-9b70-44cb-f9c1-da3a2c00ea1c"
      },
      "outputs": [
        {
          "output_type": "stream",
          "name": "stdout",
          "text": [
            "Looking in indexes: https://pypi.org/simple, https://us-python.pkg.dev/colab-wheels/public/simple/\n",
            "Collecting jaxlib==0.1.65+cuda111\n",
            "  Downloading https://storage.googleapis.com/jax-releases/cuda111/jaxlib-0.1.65+cuda111-cp37-none-manylinux2010_x86_64.whl (189.4 MB)\n",
            "\u001b[K     |████████████████████████████████| 189.4 MB 20 kB/s \n",
            "\u001b[?25hRequirement already satisfied: absl-py in /usr/local/lib/python3.7/dist-packages (from jaxlib==0.1.65+cuda111) (1.2.0)\n",
            "Requirement already satisfied: flatbuffers in /usr/local/lib/python3.7/dist-packages (from jaxlib==0.1.65+cuda111) (2.0.7)\n",
            "Requirement already satisfied: scipy in /usr/local/lib/python3.7/dist-packages (from jaxlib==0.1.65+cuda111) (1.7.3)\n",
            "Requirement already satisfied: numpy>=1.16 in /usr/local/lib/python3.7/dist-packages (from jaxlib==0.1.65+cuda111) (1.21.6)\n",
            "Installing collected packages: jaxlib\n",
            "  Attempting uninstall: jaxlib\n",
            "    Found existing installation: jaxlib 0.3.14+cuda11.cudnn805\n",
            "    Uninstalling jaxlib-0.3.14+cuda11.cudnn805:\n",
            "      Successfully uninstalled jaxlib-0.3.14+cuda11.cudnn805\n",
            "Successfully installed jaxlib-0.1.65+cuda111\n",
            "Looking in indexes: https://pypi.org/simple, https://us-python.pkg.dev/colab-wheels/public/simple/\n",
            "Collecting jax==0.2.12\n",
            "  Downloading jax-0.2.12.tar.gz (590 kB)\n",
            "\u001b[K     |████████████████████████████████| 590 kB 14.8 MB/s \n",
            "\u001b[?25hRequirement already satisfied: numpy>=1.12 in /usr/local/lib/python3.7/dist-packages (from jax==0.2.12) (1.21.6)\n",
            "Requirement already satisfied: absl-py in /usr/local/lib/python3.7/dist-packages (from jax==0.2.12) (1.2.0)\n",
            "Requirement already satisfied: opt_einsum in /usr/local/lib/python3.7/dist-packages (from jax==0.2.12) (3.3.0)\n",
            "Building wheels for collected packages: jax\n",
            "  Building wheel for jax (setup.py) ... \u001b[?25l\u001b[?25hdone\n",
            "  Created wheel for jax: filename=jax-0.2.12-py3-none-any.whl size=682487 sha256=d012f93574e52a771c0d29a4655da598eb03b0096dff6916aebd907bb450f8f3\n",
            "  Stored in directory: /root/.cache/pip/wheels/f6/4d/e5/73eec5070b77f25664c67bd793d4eb97f41bbf9be7afafd15e\n",
            "Successfully built jax\n",
            "Installing collected packages: jax\n",
            "  Attempting uninstall: jax\n",
            "    Found existing installation: jax 0.3.14\n",
            "    Uninstalling jax-0.3.14:\n",
            "      Successfully uninstalled jax-0.3.14\n",
            "Successfully installed jax-0.2.12\n",
            "Looking in indexes: https://pypi.org/simple, https://us-python.pkg.dev/colab-wheels/public/simple/\n",
            "Collecting dm-haiku==0.0.5.dev0\n",
            "  Downloading dm_haiku-0.0.5.dev0-py3-none-any.whl (284 kB)\n",
            "\u001b[K     |████████████████████████████████| 284 kB 14.6 MB/s \n",
            "\u001b[?25hCollecting optax==0.0.6\n",
            "  Downloading optax-0.0.6-py3-none-any.whl (96 kB)\n",
            "\u001b[K     |████████████████████████████████| 96 kB 6.8 MB/s \n",
            "\u001b[?25hCollecting chex==0.0.6\n",
            "  Downloading chex-0.0.6-py3-none-any.whl (51 kB)\n",
            "\u001b[K     |████████████████████████████████| 51 kB 660 kB/s \n",
            "\u001b[?25hRequirement already satisfied: tabulate>=0.8.9 in /usr/local/lib/python3.7/dist-packages (from dm-haiku==0.0.5.dev0) (0.8.10)\n",
            "Requirement already satisfied: absl-py>=0.7.1 in /usr/local/lib/python3.7/dist-packages (from dm-haiku==0.0.5.dev0) (1.2.0)\n",
            "Requirement already satisfied: typing-extensions in /usr/local/lib/python3.7/dist-packages (from dm-haiku==0.0.5.dev0) (4.1.1)\n",
            "Requirement already satisfied: numpy>=1.18.0 in /usr/local/lib/python3.7/dist-packages (from dm-haiku==0.0.5.dev0) (1.21.6)\n",
            "Requirement already satisfied: jax>=0.1.55 in /usr/local/lib/python3.7/dist-packages (from optax==0.0.6) (0.2.12)\n",
            "Requirement already satisfied: jaxlib>=0.1.37 in /usr/local/lib/python3.7/dist-packages (from optax==0.0.6) (0.1.65+cuda111)\n",
            "Requirement already satisfied: toolz>=0.9.0 in /usr/local/lib/python3.7/dist-packages (from chex==0.0.6) (0.12.0)\n",
            "Requirement already satisfied: dm-tree>=0.1.5 in /usr/local/lib/python3.7/dist-packages (from chex==0.0.6) (0.1.7)\n",
            "Requirement already satisfied: opt-einsum in /usr/local/lib/python3.7/dist-packages (from jax>=0.1.55->optax==0.0.6) (3.3.0)\n",
            "Requirement already satisfied: scipy in /usr/local/lib/python3.7/dist-packages (from jaxlib>=0.1.37->optax==0.0.6) (1.7.3)\n",
            "Requirement already satisfied: flatbuffers in /usr/local/lib/python3.7/dist-packages (from jaxlib>=0.1.37->optax==0.0.6) (2.0.7)\n",
            "Installing collected packages: chex, optax, dm-haiku\n",
            "Successfully installed chex-0.0.6 dm-haiku-0.0.5.dev0 optax-0.0.6\n"
          ]
        }
      ],
      "source": [
        "# https://storage.googleapis.com/jax-releases/jax_cuda_releases.html\n",
        "!pip install --upgrade https://storage.googleapis.com/jax-releases/cuda111/jaxlib-0.1.65+cuda111-cp37-none-manylinux2010_x86_64.whl\n",
        "!pip install jax==0.2.12\n",
        "!pip install dm-haiku==0.0.5.dev0 optax==0.0.6 chex==0.0.6"
      ]
    },
    {
      "cell_type": "code",
      "execution_count": 7,
      "metadata": {
        "id": "PbDWdR6Rf_Gd"
      },
      "outputs": [],
      "source": [
        "for i, root in enumerate(glob.glob('/content/runs/*/')):\n",
        "  shutil.rmtree(root, ignore_errors=True)"
      ]
    },
    {
      "cell_type": "code",
      "execution_count": 8,
      "metadata": {
        "colab": {
          "base_uri": "https://localhost:8080/"
        },
        "id": "jnbq7Qmp4vL1",
        "outputId": "dd5fe989-b85b-428f-e6f8-dddbff159e35"
      },
      "outputs": [
        {
          "output_type": "stream",
          "name": "stdout",
          "text": [
            "JAX sees the following devices: [GpuDevice(id=0, process_index=0)]\n",
            "TF sees the following devices: [PhysicalDevice(name='/physical_device:CPU:0', device_type='CPU')]\n",
            "2022-09-04 19:06:02.384027: W tensorflow/core/platform/cloud/google_auth_provider.cc:184] All attempts to get a Google authentication bearer token failed, returning an empty token. Retrieving token from files failed with \"NOT_FOUND: Could not locate the credentials file.\". Retrieving token from GCE failed with \"NOT_FOUND: Error executing an HTTP request: HTTP response code 404\".\n",
            "\u001b[1mDownloading and preparing dataset Unknown size (download: Unknown size, generated: Unknown size, total: Unknown size) to ~/tensorflow_datasets/mirabest/confident/1.0.0...\u001b[0m\n",
            "Dl Completed...: 0 url [00:00, ? url/s]\n",
            "Dl Size...: 0 MiB [00:00, ? MiB/s]\u001b[A\n",
            "\n",
            "Dl Completed...:   0% 0/1 [00:00<?, ? url/s]\n",
            "Dl Size...: 0 MiB [00:00, ? MiB/s]\u001b[A\n",
            "\n",
            "Dl Completed...:   0% 0/1 [00:00<?, ? url/s]\n",
            "Dl Size...: 0 MiB [00:00, ? MiB/s]\u001b[A\n",
            "\n",
            "Dl Completed...: 100% 1/1 [00:00<00:00,  3.39 url/s]\n",
            "Dl Size...: 0 MiB [00:00, ? MiB/s]\u001b[A\n",
            "\n",
            "Dl Completed...: 100% 1/1 [00:00<00:00,  3.39 url/s]\n",
            "Dl Size...: 0 MiB [00:00, ? MiB/s]\u001b[A\n",
            "\n",
            "Extraction completed...:   0% 0/1 [00:00<?, ? file/s]\u001b[A\u001b[A\n",
            "\n",
            "Dl Completed...: 100% 1/1 [00:00<00:00,  3.39 url/s]\n",
            "Dl Size...: 0 MiB [00:00, ? MiB/s]\u001b[A\n",
            "\n",
            "Extraction completed...: 100% 1/1 [00:00<00:00,  1.83 file/s]\n",
            "Dl Size...: 0 MiB [00:00, ? MiB/s]\n",
            "Dl Completed...: 100% 1/1 [00:00<00:00,  1.83 url/s]\n",
            "Generating splits...:   0% 0/2 [00:00<?, ? splits/s]\n",
            "Generating train examples...: 0 examples [00:00, ? examples/s]\u001b[A\n",
            "Generating train examples...: 89 examples [00:00, 885.04 examples/s]\u001b[A\n",
            "Generating train examples...: 178 examples [00:00, 875.29 examples/s]\u001b[A\n",
            "Generating train examples...: 266 examples [00:00, 836.45 examples/s]\u001b[A\n",
            "Generating train examples...: 358 examples [00:00, 866.11 examples/s]\u001b[A\n",
            "Generating train examples...: 445 examples [00:00, 836.96 examples/s]\u001b[A\n",
            "Generating train examples...: 529 examples [00:00, 516.99 examples/s]\u001b[A\n",
            "Generating train examples...: 601 examples [00:00, 561.17 examples/s]\u001b[A\n",
            "Generating train examples...: 669 examples [00:01, 587.01 examples/s]\u001b[A\n",
            "                                                                     \u001b[A\n",
            "Shuffling ~/tensorflow_datasets/mirabest/confident/1.0.0.incompleteUSCAX5/mirabest-train.tfrecord*...:   0% 0/729 [00:00<?, ? examples/s]\u001b[A\n",
            "Generating splits...:  50% 1/2 [00:01<00:01,  1.14s/ splits]\n",
            "Generating test examples...: 0 examples [00:00, ? examples/s]\u001b[A\n",
            "Generating test examples...: 88 examples [00:00, 876.09 examples/s]\u001b[A\n",
            "                                                                   \u001b[A\n",
            "Shuffling ~/tensorflow_datasets/mirabest/confident/1.0.0.incompleteUSCAX5/mirabest-test.tfrecord*...:   0% 0/104 [00:00<?, ? examples/s]\u001b[A\n",
            "\u001b[1mDataset mirabest downloaded and prepared to ~/tensorflow_datasets/mirabest/confident/1.0.0. Subsequent calls will reuse this data.\u001b[0m\n",
            "Starting from random initialization with provided seed\n",
            "/content/bnn_hmc/bnn_hmc/utils/script_utils.py:152: VisibleDeprecationWarning: Creating an ndarray from ragged nested sequences (which is a list-or-tuple of lists-or-tuples-or ndarrays with different lengths or shapes) is deprecated. If you meant to do this, you must specify 'dtype=object' when creating the ndarray.\n",
            "  predict_fn(net_apply, params, net_state, test_set))\n",
            "/content/bnn_hmc/bnn_hmc/utils/script_utils.py:154: VisibleDeprecationWarning: Creating an ndarray from ragged nested sequences (which is a list-or-tuple of lists-or-tuples-or ndarrays with different lengths or shapes) is deprecated. If you meant to do this, you must specify 'dtype=object' when creating the ndarray.\n",
            "  predict_fn(net_apply, params, net_state, train_set))\n",
            "---  --------  ----------------  ---------------  ----------  -------------------  --------------  --------------  ----------  ----------\n",
            "  i         t    train/accuracy    test/accuracy    test/nll  test/ens_accuracy    test/ens_nll    test/ens_ece      accept_p    accepted\n",
            "---  --------  ----------------  ---------------  ----------  -------------------  --------------  --------------  ----------  ----------\n",
            "  0   46.6818            0.9811           0.8288      0.8477                                                           1.0000      1.0000\n",
            "  1   46.5328            0.9623           0.8151      0.7135                                                           1.0000      1.0000\n",
            "  2   46.6435            0.9588           0.7466      1.5712                                                           1.0000      1.0000\n",
            "  3   46.5534            0.9434           0.8151      0.5908                                                           1.0000      1.0000\n",
            "  4   46.8643            0.9468           0.7740      1.0508                                                           1.0000      1.0000\n",
            "  5   46.5805            0.9588           0.8630      0.6511                                                           0.9821      1.0000\n",
            "  6   46.7041            0.9365           0.7534      0.8273                                                           1.0000      1.0000\n",
            "  7   46.6231            0.9468           0.8630      0.6025                                                           1.0000      1.0000\n",
            "  8   46.5703            0.9451           0.8219      0.6986                                                           1.0000      1.0000\n",
            "  9   46.6191            0.9434           0.8014      0.5404                                                           0.9164      1.0000\n",
            " 10   46.7219            0.9314           0.7945      0.7644               0.7945          0.7644          0.1289      1.0000      1.0000\n",
            " 11   46.7564            0.9520           0.8082      0.9167               0.8356          0.4600          0.0783      1.0000      1.0000\n",
            " 12   46.8078            0.9468           0.8151      0.7312               0.8493          0.3570          0.0816      1.0000      1.0000\n",
            " 13   46.7927            0.9348           0.8288      0.7614               0.8699          0.3538          0.0669      0.9442      1.0000\n",
            " 14   46.7570            0.9554           0.8014      0.6506               0.8630          0.3260          0.0923      1.0000      1.0000\n",
            " 15   46.9155            0.9485           0.8425      0.7432               0.8767          0.3084          0.0769      1.0000      1.0000\n",
            " 16   46.8215            0.9434           0.7877      1.0530               0.8562          0.3092          0.0963      1.0000      1.0000\n",
            " 17   46.8033            0.9520           0.7671      0.8613               0.8630          0.3211          0.0697      0.9864      1.0000\n",
            " 18   46.8085            0.9571           0.7945      0.6731               0.8562          0.3137          0.0880      0.9928      1.0000\n",
            " 19   46.7870            0.9623           0.8219      0.8764               0.8767          0.3132          0.0668      1.0000      1.0000\n",
            " 20   46.8393            0.9623           0.8562      0.5639               0.8699          0.3039          0.0718      0.9724      1.0000\n",
            " 21   46.8071            0.9623           0.8425      0.8176               0.8767          0.3024          0.0672      1.0000      1.0000\n",
            " 22   46.7905            0.9571           0.7740      0.7733               0.8699          0.3003          0.0672      1.0000      1.0000\n",
            " 23   46.7982            0.9623           0.8356      0.8259               0.8630          0.2970          0.0699      1.0000      1.0000\n",
            " 24   46.8298            0.9691           0.8288      0.5254               0.8836          0.2960          0.0908      1.0000      1.0000\n",
            " 25   46.8608            0.9605           0.8014      0.6905               0.8767          0.2964          0.0734      1.0000      1.0000\n",
            " 26   46.9399            0.9400           0.7534      1.0074               0.8767          0.2995          0.1041      0.9726      1.0000\n",
            " 27   47.7182            0.9520           0.7945      0.8528               0.8836          0.3003          0.0917      1.0000      1.0000\n",
            " 28   46.8382            0.9503           0.8425      0.9799               0.8904          0.2985          0.0841      1.0000      1.0000\n",
            " 29   46.8743            0.9537           0.8151      0.5459               0.8904          0.2962          0.0964      1.0000      1.0000\n",
            " 30   46.8180            0.9554           0.8562      0.5577               0.8836          0.2944          0.1022      1.0000      1.0000\n",
            " 31   46.8592            0.9520           0.8493      0.6416               0.8904          0.2930          0.1057      1.0000      1.0000\n",
            " 32   46.7840            0.9348           0.8082      0.8248               0.8904          0.2933          0.1048      1.0000      1.0000\n",
            " 33   46.8382            0.9503           0.8219      0.7209               0.8904          0.2923          0.0921      1.0000      1.0000\n",
            " 34   46.8485            0.9331           0.7329      0.9168               0.8904          0.2956          0.0853      1.0000      1.0000\n",
            " 35   46.7957            0.9554           0.8082      0.9314               0.8836          0.2948          0.0935      0.9254      1.0000\n",
            " 36   46.9164            0.9588           0.7808      1.0578               0.8904          0.2964          0.0832      1.0000      1.0000\n",
            " 37   46.8219            0.9468           0.8288      0.6153               0.8904          0.2922          0.0939      1.0000      1.0000\n",
            " 38   47.0140            0.9434           0.8288      0.9532               0.8973          0.2889          0.0990      0.9852      1.0000\n",
            " 39   46.8670            0.9588           0.8493      0.4986               0.8904          0.2833          0.0757      0.9976      1.0000\n",
            "---  --------  ----------------  ---------------  ----------  -------------------  --------------  --------------  ----------  ----------\n",
            "  i         t    train/accuracy    test/accuracy    test/nll    test/ens_accuracy    test/ens_nll    test/ens_ece    accept_p    accepted\n",
            "---  --------  ----------------  ---------------  ----------  -------------------  --------------  --------------  ----------  ----------\n",
            " 40   46.8576            0.9657           0.8219      0.7098               0.8904          0.2819          0.0815      1.0000      1.0000\n",
            " 41   46.8858            0.9588           0.7945      0.6533               0.8904          0.2817          0.0718      1.0000      1.0000\n",
            " 42   46.8378            0.9451           0.7945      1.1621               0.8836          0.2825          0.0870      1.0000      1.0000\n",
            " 43   46.8718            0.9520           0.8219      0.6332               0.8836          0.2815          0.0868      0.9524      1.0000\n",
            " 44   47.9219            0.9554           0.8219      0.6720               0.8836          0.2809          0.0975      1.0000      1.0000\n",
            " 45   46.9350            0.9417           0.8014      0.8506               0.8836          0.2818          0.0839      1.0000      1.0000\n",
            " 46   46.8754            0.9554           0.7740      0.9234               0.8836          0.2832          0.0714      1.0000      1.0000\n",
            " 47   46.8917            0.9588           0.7877      0.8418               0.8767          0.2840          0.0707      1.0000      1.0000\n",
            " 48   46.9029            0.9485           0.8425      0.5819               0.8904          0.2815          0.0756      1.0000      1.0000\n",
            " 49   46.9037            0.9605           0.8219      0.8097               0.8973          0.2804          0.0773      1.0000      1.0000\n",
            " 50   46.9104            0.9451           0.8288      0.6780               0.8973          0.2791          0.0937      1.0000      1.0000\n",
            " 51   46.9128            0.9417           0.8014      0.8529               0.8973          0.2800          0.0805      1.0000      1.0000\n",
            " 52   47.1122            0.9537           0.8493      0.9466               0.8973          0.2791          0.0705      0.9926      1.0000\n",
            " 53   46.8981            0.9520           0.8630      0.5672               0.9110          0.2776          0.0863      0.9694      1.0000\n",
            " 54   46.9502            0.9383           0.8356      0.6262               0.8973          0.2772          0.0764      0.9736      1.0000\n",
            " 55   46.8961            0.9640           0.8151      0.7689               0.8973          0.2770          0.0897      0.9995      1.0000\n",
            " 56   46.8719            0.9468           0.8014      0.7632               0.9110          0.2773          0.0897      1.0000      1.0000\n",
            " 57   46.8406            0.9451           0.8151      0.8408               0.9041          0.2773          0.0894      1.0000      1.0000\n",
            " 58   46.8372            0.9314           0.8014      0.7574               0.9041          0.2773          0.0978      1.0000      1.0000\n",
            " 59   46.8347            0.9503           0.8151      0.8159               0.8973          0.2771          0.0903      1.0000      1.0000\n",
            " 60   46.9778            0.9571           0.8082      0.5659               0.9041          0.2771          0.1038      0.9408      1.0000\n",
            " 61   46.9002            0.9605           0.8425      0.5301               0.8973          0.2765          0.1077      1.0000      1.0000\n",
            " 62   46.8896            0.9451           0.8630      0.5646               0.9041          0.2745          0.1061      1.0000      1.0000\n",
            " 63   46.9438            0.9451           0.8356      0.5597               0.9041          0.2733          0.1060      1.0000      1.0000\n",
            " 64   46.9251            0.9365           0.7808      0.5815               0.9041          0.2746          0.0975      1.0000      1.0000\n",
            " 65   46.8544            0.9417           0.8082      0.8491               0.9041          0.2743          0.0957      0.9679      1.0000\n",
            " 66   46.8569            0.9623           0.8014      0.9254               0.9041          0.2750          0.0960      1.0000      1.0000\n",
            " 67   46.9094            0.9605           0.8014      1.0822               0.8973          0.2756          0.0840      1.0000      1.0000\n",
            " 68   47.0860            0.9314           0.8493      0.6071               0.8973          0.2754          0.0836      0.9962      1.0000\n",
            " 69   46.8309            0.9485           0.7808      0.7164               0.8973          0.2758          0.0836      1.0000      1.0000\n",
            " 70   46.8556            0.9451           0.8356      0.5571               0.9041          0.2750          0.0906      0.9881      1.0000\n",
            " 71   46.8415            0.9554           0.8151      0.8087               0.9041          0.2750          0.0927      0.9853      1.0000\n",
            " 72   46.8259            0.9554           0.8356      0.5174               0.9041          0.2744          0.0993      1.0000      1.0000\n",
            " 73   46.8908            0.9588           0.7808      0.7604               0.9110          0.2749          0.0839      1.0000      1.0000\n",
            " 74   46.9137            0.9520           0.7945      1.0044               0.9041          0.2756          0.0863      0.9816      1.0000\n",
            " 75   46.9333            0.9520           0.8699      0.7100               0.9041          0.2745          0.0837      1.0000      1.0000\n",
            " 76   46.8796            0.9297           0.7808      0.6907               0.9041          0.2751          0.0833      1.0000      1.0000\n",
            " 77   46.8824            0.9520           0.8356      0.5980               0.9041          0.2745          0.0853      0.9913      1.0000\n",
            " 78   46.8552            0.9503           0.7671      0.9288               0.9041          0.2754          0.0849      0.9816      1.0000\n",
            " 79   46.8402            0.9623           0.8219      0.6372               0.8904          0.2746          0.0870      0.9792      1.0000\n",
            "---  --------  ----------------  ---------------  ----------  -------------------  --------------  --------------  ----------  ----------\n",
            "  i         t    train/accuracy    test/accuracy    test/nll    test/ens_accuracy    test/ens_nll    test/ens_ece    accept_p    accepted\n",
            "---  --------  ----------------  ---------------  ----------  -------------------  --------------  --------------  ----------  ----------\n",
            " 80   46.8651            0.9571           0.8082      0.6916               0.8973          0.2748          0.0800      0.9972      1.0000\n",
            " 81   46.8240            0.9485           0.8014      0.5838               0.8904          0.2746          0.0822      0.8944      1.0000\n",
            " 82   46.8942            0.9451           0.7877      0.8402               0.8904          0.2751          0.0780      1.0000      1.0000\n",
            " 83   46.8587            0.9605           0.7808      0.7999               0.8904          0.2758          0.0805      1.0000      1.0000\n",
            " 84   46.9811            0.9520           0.8288      0.8517               0.8904          0.2751          0.0727      0.9693      1.0000\n",
            " 85   46.9626            0.9537           0.7603      0.8553               0.8904          0.2763          0.0748      0.9223      1.0000\n",
            " 86   47.2285            0.9228           0.7603      0.9677               0.8904          0.2776          0.0818      1.0000      1.0000\n",
            " 87   46.9110            0.9520           0.7466      0.8576               0.8904          0.2790          0.0823      0.9811      1.0000\n",
            " 88   46.9214            0.9537           0.8014      0.7226               0.8904          0.2792          0.0892      0.9531      1.0000\n",
            " 89   46.9389            0.9485           0.8014      0.7356               0.8904          0.2792          0.0806      1.0000      1.0000\n",
            " 90   46.9654            0.9588           0.8151      0.6830               0.8904          0.2791          0.0894      1.0000      1.0000\n",
            " 91   46.9903            0.9485           0.8836      0.4285               0.8904          0.2778          0.0891      0.9963      1.0000\n",
            " 92   46.9000            0.9640           0.7945      0.7673               0.8904          0.2779          0.0890      0.9570      1.0000\n",
            " 93   46.9536            0.9451           0.8151      0.6280               0.8973          0.2775          0.0763      1.0000      1.0000\n",
            " 94   46.8859            0.9503           0.8014      0.8696               0.8904          0.2780          0.0739      0.9968      1.0000\n",
            " 95   46.9586            0.9468           0.8151      0.5735               0.8904          0.2778          0.0738      0.9879      1.0000\n",
            " 96   46.9839            0.9503           0.8493      0.4571               0.8904          0.2774          0.0719      0.9973      1.0000\n",
            " 97   46.9250            0.9571           0.8425      0.5417               0.8904          0.2769          0.0854      1.0000      1.0000\n",
            " 98   46.9676            0.9451           0.8219      0.5681               0.8904          0.2767          0.0855      0.9444      1.0000\n",
            " 99   46.9674            0.9503           0.7740      0.7968               0.8904          0.2773          0.0843      0.9907      1.0000\n"
          ]
        }
      ],
      "source": [
        "!python3 bnn_hmc/scripts/run_hmc.py --seed=0 --weight_decay=100 --temperature=1. \\\n",
        "  --dir=runs/hmc/cifar10/gaussian/ --dataset_name=mirabest/confident \\\n",
        "  --model_name=lenet --step_size=3.e-05 --trajectory_len=0.15 \\\n",
        "  --num_iterations=100 --max_num_leapfrog_steps=5300 \\\n",
        "  --num_burn_in_iterations=10 --image_size=64 --train_split=train[:80%] --test_split=train[80%:]"
      ]
    },
    {
      "cell_type": "code",
      "execution_count": 11,
      "metadata": {
        "id": "GDyzsiNDuNTs"
      },
      "outputs": [],
      "source": []
    }
  ],
  "metadata": {
    "accelerator": "GPU",
    "colab": {
      "provenance": [],
      "authorship_tag": "ABX9TyOJmf2mS6oZvI9+KBN3KDur",
      "include_colab_link": true
    },
    "gpuClass": "standard",
    "kernelspec": {
      "display_name": "Python 3",
      "name": "python3"
    },
    "language_info": {
      "name": "python"
    }
  },
  "nbformat": 4,
  "nbformat_minor": 0
}