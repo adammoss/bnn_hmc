{
  "cells": [
    {
      "cell_type": "markdown",
      "metadata": {
        "id": "view-in-github",
        "colab_type": "text"
      },
      "source": [
        "<a href=\"https://colab.research.google.com/github/adammoss/bnn_hmc/blob/main/results/results_analysis.ipynb\" target=\"_parent\"><img src=\"https://colab.research.google.com/assets/colab-badge.svg\" alt=\"Open In Colab\"/></a>"
      ]
    },
    {
      "cell_type": "code",
      "execution_count": 65,
      "metadata": {
        "id": "CTpoYCMKx_xz"
      },
      "outputs": [],
      "source": [
        "import os\n",
        "import sys\n",
        "import shutil\n",
        "import glob\n",
        "import matplotlib.pyplot as plt\n",
        "import numpy as np\n",
        "import seaborn as sns\n",
        "from google.colab import drive\n",
        "from sklearn.metrics import roc_auc_score\n",
        "import subprocess"
      ]
    },
    {
      "cell_type": "code",
      "execution_count": 66,
      "metadata": {
        "colab": {
          "base_uri": "https://localhost:8080/"
        },
        "id": "NUUVWJzkyKBI",
        "outputId": "4ad9e639-1134-4982-a046-b3307dc3c96e"
      },
      "outputs": [
        {
          "output_type": "stream",
          "name": "stdout",
          "text": [
            "env: XLA_FLAGS=--xla_gpu_cuda_data_dir=/usr/local/cuda-11.2\n"
          ]
        }
      ],
      "source": [
        "%env XLA_FLAGS=--xla_gpu_cuda_data_dir=/usr/local/cuda-11.2"
      ]
    },
    {
      "cell_type": "code",
      "execution_count": 67,
      "metadata": {
        "colab": {
          "base_uri": "https://localhost:8080/"
        },
        "id": "3SyE8zDiyM7M",
        "outputId": "5ecaa225-3fa3-43a7-c0ad-fa87b5b10381"
      },
      "outputs": [
        {
          "output_type": "stream",
          "name": "stdout",
          "text": [
            "Drive already mounted at /content/drive; to attempt to forcibly remount, call drive.mount(\"/content/drive\", force_remount=True).\n"
          ]
        }
      ],
      "source": [
        "drive.mount('/content/drive')"
      ]
    },
    {
      "cell_type": "code",
      "execution_count": 68,
      "metadata": {
        "colab": {
          "base_uri": "https://localhost:8080/"
        },
        "id": "P9qEANREyOsy",
        "outputId": "038305ec-d889-4245-987a-ba4cd456f6d6"
      },
      "outputs": [
        {
          "output_type": "stream",
          "name": "stdout",
          "text": [
            "Fri Nov 18 14:35:39 2022       \n",
            "+-----------------------------------------------------------------------------+\n",
            "| NVIDIA-SMI 460.32.03    Driver Version: 460.32.03    CUDA Version: 11.2     |\n",
            "|-------------------------------+----------------------+----------------------+\n",
            "| GPU  Name        Persistence-M| Bus-Id        Disp.A | Volatile Uncorr. ECC |\n",
            "| Fan  Temp  Perf  Pwr:Usage/Cap|         Memory-Usage | GPU-Util  Compute M. |\n",
            "|                               |                      |               MIG M. |\n",
            "|===============================+======================+======================|\n",
            "|   0  A100-SXM4-40GB      Off  | 00000000:00:04.0 Off |                    0 |\n",
            "| N/A   32C    P0    42W / 400W |      0MiB / 40536MiB |      0%      Default |\n",
            "|                               |                      |             Disabled |\n",
            "+-------------------------------+----------------------+----------------------+\n",
            "                                                                               \n",
            "+-----------------------------------------------------------------------------+\n",
            "| Processes:                                                                  |\n",
            "|  GPU   GI   CI        PID   Type   Process name                  GPU Memory |\n",
            "|        ID   ID                                                   Usage      |\n",
            "|=============================================================================|\n",
            "|  No running processes found                                                 |\n",
            "+-----------------------------------------------------------------------------+\n"
          ]
        }
      ],
      "source": [
        "!nvidia-smi"
      ]
    },
    {
      "cell_type": "code",
      "execution_count": 69,
      "metadata": {
        "colab": {
          "base_uri": "https://localhost:8080/"
        },
        "id": "q0sta1ynu2PO",
        "outputId": "bc56c1a5-80a5-4a4d-cad6-c9e33b8ec743"
      },
      "outputs": [
        {
          "output_type": "stream",
          "name": "stdout",
          "text": [
            "Looking in indexes: https://pypi.org/simple, https://us-python.pkg.dev/colab-wheels/public/simple/\n",
            "Requirement already satisfied: astro-datasets in /usr/local/lib/python3.7/dist-packages (0.0.17)\n",
            "Requirement already satisfied: tensorflow-datasets in /usr/local/lib/python3.7/dist-packages (from astro-datasets) (4.7.0)\n",
            "Requirement already satisfied: numpy in /usr/local/lib/python3.7/dist-packages (from astro-datasets) (1.21.6)\n",
            "Requirement already satisfied: pandas in /usr/local/lib/python3.7/dist-packages (from astro-datasets) (1.3.5)\n",
            "Requirement already satisfied: tensorflow in /usr/local/lib/python3.7/dist-packages (from astro-datasets) (2.9.2)\n",
            "Requirement already satisfied: pytz>=2017.3 in /usr/local/lib/python3.7/dist-packages (from pandas->astro-datasets) (2022.6)\n",
            "Requirement already satisfied: python-dateutil>=2.7.3 in /usr/local/lib/python3.7/dist-packages (from pandas->astro-datasets) (2.8.2)\n",
            "Requirement already satisfied: six>=1.5 in /usr/local/lib/python3.7/dist-packages (from python-dateutil>=2.7.3->pandas->astro-datasets) (1.15.0)\n",
            "Requirement already satisfied: keras-preprocessing>=1.1.1 in /usr/local/lib/python3.7/dist-packages (from tensorflow->astro-datasets) (1.1.2)\n",
            "Requirement already satisfied: packaging in /usr/local/lib/python3.7/dist-packages (from tensorflow->astro-datasets) (21.3)\n",
            "Requirement already satisfied: libclang>=13.0.0 in /usr/local/lib/python3.7/dist-packages (from tensorflow->astro-datasets) (14.0.6)\n",
            "Requirement already satisfied: termcolor>=1.1.0 in /usr/local/lib/python3.7/dist-packages (from tensorflow->astro-datasets) (2.1.0)\n",
            "Requirement already satisfied: flatbuffers<2,>=1.12 in /usr/local/lib/python3.7/dist-packages (from tensorflow->astro-datasets) (1.12)\n",
            "Requirement already satisfied: keras<2.10.0,>=2.9.0rc0 in /usr/local/lib/python3.7/dist-packages (from tensorflow->astro-datasets) (2.9.0)\n",
            "Requirement already satisfied: typing-extensions>=3.6.6 in /usr/local/lib/python3.7/dist-packages (from tensorflow->astro-datasets) (4.1.1)\n",
            "Requirement already satisfied: protobuf<3.20,>=3.9.2 in /usr/local/lib/python3.7/dist-packages (from tensorflow->astro-datasets) (3.19.6)\n",
            "Requirement already satisfied: google-pasta>=0.1.1 in /usr/local/lib/python3.7/dist-packages (from tensorflow->astro-datasets) (0.2.0)\n",
            "Requirement already satisfied: grpcio<2.0,>=1.24.3 in /usr/local/lib/python3.7/dist-packages (from tensorflow->astro-datasets) (1.50.0)\n",
            "Requirement already satisfied: tensorboard<2.10,>=2.9 in /usr/local/lib/python3.7/dist-packages (from tensorflow->astro-datasets) (2.9.1)\n",
            "Requirement already satisfied: astunparse>=1.6.0 in /usr/local/lib/python3.7/dist-packages (from tensorflow->astro-datasets) (1.6.3)\n",
            "Requirement already satisfied: tensorflow-estimator<2.10.0,>=2.9.0rc0 in /usr/local/lib/python3.7/dist-packages (from tensorflow->astro-datasets) (2.9.0)\n",
            "Requirement already satisfied: absl-py>=1.0.0 in /usr/local/lib/python3.7/dist-packages (from tensorflow->astro-datasets) (1.3.0)\n",
            "Requirement already satisfied: tensorflow-io-gcs-filesystem>=0.23.1 in /usr/local/lib/python3.7/dist-packages (from tensorflow->astro-datasets) (0.27.0)\n",
            "Requirement already satisfied: gast<=0.4.0,>=0.2.1 in /usr/local/lib/python3.7/dist-packages (from tensorflow->astro-datasets) (0.4.0)\n",
            "Requirement already satisfied: wrapt>=1.11.0 in /usr/local/lib/python3.7/dist-packages (from tensorflow->astro-datasets) (1.14.1)\n",
            "Requirement already satisfied: opt-einsum>=2.3.2 in /usr/local/lib/python3.7/dist-packages (from tensorflow->astro-datasets) (3.3.0)\n",
            "Requirement already satisfied: h5py>=2.9.0 in /usr/local/lib/python3.7/dist-packages (from tensorflow->astro-datasets) (3.1.0)\n",
            "Requirement already satisfied: setuptools in /usr/local/lib/python3.7/dist-packages (from tensorflow->astro-datasets) (57.4.0)\n",
            "Requirement already satisfied: wheel<1.0,>=0.23.0 in /usr/local/lib/python3.7/dist-packages (from astunparse>=1.6.0->tensorflow->astro-datasets) (0.38.3)\n",
            "Requirement already satisfied: cached-property in /usr/local/lib/python3.7/dist-packages (from h5py>=2.9.0->tensorflow->astro-datasets) (1.5.2)\n",
            "Requirement already satisfied: werkzeug>=1.0.1 in /usr/local/lib/python3.7/dist-packages (from tensorboard<2.10,>=2.9->tensorflow->astro-datasets) (1.0.1)\n",
            "Requirement already satisfied: requests<3,>=2.21.0 in /usr/local/lib/python3.7/dist-packages (from tensorboard<2.10,>=2.9->tensorflow->astro-datasets) (2.23.0)\n",
            "Requirement already satisfied: markdown>=2.6.8 in /usr/local/lib/python3.7/dist-packages (from tensorboard<2.10,>=2.9->tensorflow->astro-datasets) (3.4.1)\n",
            "Requirement already satisfied: tensorboard-data-server<0.7.0,>=0.6.0 in /usr/local/lib/python3.7/dist-packages (from tensorboard<2.10,>=2.9->tensorflow->astro-datasets) (0.6.1)\n",
            "Requirement already satisfied: google-auth<3,>=1.6.3 in /usr/local/lib/python3.7/dist-packages (from tensorboard<2.10,>=2.9->tensorflow->astro-datasets) (2.14.1)\n",
            "Requirement already satisfied: tensorboard-plugin-wit>=1.6.0 in /usr/local/lib/python3.7/dist-packages (from tensorboard<2.10,>=2.9->tensorflow->astro-datasets) (1.8.1)\n",
            "Requirement already satisfied: google-auth-oauthlib<0.5,>=0.4.1 in /usr/local/lib/python3.7/dist-packages (from tensorboard<2.10,>=2.9->tensorflow->astro-datasets) (0.4.6)\n",
            "Requirement already satisfied: cachetools<6.0,>=2.0.0 in /usr/local/lib/python3.7/dist-packages (from google-auth<3,>=1.6.3->tensorboard<2.10,>=2.9->tensorflow->astro-datasets) (5.2.0)\n",
            "Requirement already satisfied: rsa<5,>=3.1.4 in /usr/local/lib/python3.7/dist-packages (from google-auth<3,>=1.6.3->tensorboard<2.10,>=2.9->tensorflow->astro-datasets) (4.9)\n",
            "Requirement already satisfied: pyasn1-modules>=0.2.1 in /usr/local/lib/python3.7/dist-packages (from google-auth<3,>=1.6.3->tensorboard<2.10,>=2.9->tensorflow->astro-datasets) (0.2.8)\n",
            "Requirement already satisfied: requests-oauthlib>=0.7.0 in /usr/local/lib/python3.7/dist-packages (from google-auth-oauthlib<0.5,>=0.4.1->tensorboard<2.10,>=2.9->tensorflow->astro-datasets) (1.3.1)\n",
            "Requirement already satisfied: importlib-metadata>=4.4 in /usr/local/lib/python3.7/dist-packages (from markdown>=2.6.8->tensorboard<2.10,>=2.9->tensorflow->astro-datasets) (4.13.0)\n",
            "Requirement already satisfied: zipp>=0.5 in /usr/local/lib/python3.7/dist-packages (from importlib-metadata>=4.4->markdown>=2.6.8->tensorboard<2.10,>=2.9->tensorflow->astro-datasets) (3.10.0)\n",
            "Requirement already satisfied: pyasn1<0.5.0,>=0.4.6 in /usr/local/lib/python3.7/dist-packages (from pyasn1-modules>=0.2.1->google-auth<3,>=1.6.3->tensorboard<2.10,>=2.9->tensorflow->astro-datasets) (0.4.8)\n",
            "Requirement already satisfied: chardet<4,>=3.0.2 in /usr/local/lib/python3.7/dist-packages (from requests<3,>=2.21.0->tensorboard<2.10,>=2.9->tensorflow->astro-datasets) (3.0.4)\n",
            "Requirement already satisfied: urllib3!=1.25.0,!=1.25.1,<1.26,>=1.21.1 in /usr/local/lib/python3.7/dist-packages (from requests<3,>=2.21.0->tensorboard<2.10,>=2.9->tensorflow->astro-datasets) (1.24.3)\n",
            "Requirement already satisfied: idna<3,>=2.5 in /usr/local/lib/python3.7/dist-packages (from requests<3,>=2.21.0->tensorboard<2.10,>=2.9->tensorflow->astro-datasets) (2.10)\n",
            "Requirement already satisfied: certifi>=2017.4.17 in /usr/local/lib/python3.7/dist-packages (from requests<3,>=2.21.0->tensorboard<2.10,>=2.9->tensorflow->astro-datasets) (2022.9.24)\n",
            "Requirement already satisfied: oauthlib>=3.0.0 in /usr/local/lib/python3.7/dist-packages (from requests-oauthlib>=0.7.0->google-auth-oauthlib<0.5,>=0.4.1->tensorboard<2.10,>=2.9->tensorflow->astro-datasets) (3.2.2)\n",
            "Requirement already satisfied: pyparsing!=3.0.5,>=2.0.2 in /usr/local/lib/python3.7/dist-packages (from packaging->tensorflow->astro-datasets) (3.0.9)\n",
            "Requirement already satisfied: etils[epath] in /usr/local/lib/python3.7/dist-packages (from tensorflow-datasets->astro-datasets) (0.9.0)\n",
            "Requirement already satisfied: promise in /usr/local/lib/python3.7/dist-packages (from tensorflow-datasets->astro-datasets) (2.3)\n",
            "Requirement already satisfied: importlib-resources in /usr/local/lib/python3.7/dist-packages (from tensorflow-datasets->astro-datasets) (5.10.0)\n",
            "Requirement already satisfied: tqdm in /usr/local/lib/python3.7/dist-packages (from tensorflow-datasets->astro-datasets) (4.64.1)\n",
            "Requirement already satisfied: toml in /usr/local/lib/python3.7/dist-packages (from tensorflow-datasets->astro-datasets) (0.10.2)\n",
            "Requirement already satisfied: tensorflow-metadata in /usr/local/lib/python3.7/dist-packages (from tensorflow-datasets->astro-datasets) (1.10.0)\n",
            "Requirement already satisfied: dill in /usr/local/lib/python3.7/dist-packages (from tensorflow-datasets->astro-datasets) (0.3.6)\n",
            "Requirement already satisfied: googleapis-common-protos<2,>=1.52.0 in /usr/local/lib/python3.7/dist-packages (from tensorflow-metadata->tensorflow-datasets->astro-datasets) (1.56.4)\n",
            "Looking in indexes: https://pypi.org/simple, https://us-python.pkg.dev/colab-wheels/public/simple/\n",
            "Requirement already satisfied: tensorflow_datasets in /usr/local/lib/python3.7/dist-packages (4.7.0)\n",
            "Requirement already satisfied: absl-py in /usr/local/lib/python3.7/dist-packages (from tensorflow_datasets) (1.3.0)\n",
            "Requirement already satisfied: dill in /usr/local/lib/python3.7/dist-packages (from tensorflow_datasets) (0.3.6)\n",
            "Requirement already satisfied: typing-extensions in /usr/local/lib/python3.7/dist-packages (from tensorflow_datasets) (4.1.1)\n",
            "Requirement already satisfied: promise in /usr/local/lib/python3.7/dist-packages (from tensorflow_datasets) (2.3)\n",
            "Requirement already satisfied: termcolor in /usr/local/lib/python3.7/dist-packages (from tensorflow_datasets) (2.1.0)\n",
            "Requirement already satisfied: six in /usr/local/lib/python3.7/dist-packages (from tensorflow_datasets) (1.15.0)\n",
            "Requirement already satisfied: numpy in /usr/local/lib/python3.7/dist-packages (from tensorflow_datasets) (1.21.6)\n",
            "Requirement already satisfied: protobuf>=3.12.2 in /usr/local/lib/python3.7/dist-packages (from tensorflow_datasets) (3.19.6)\n",
            "Requirement already satisfied: toml in /usr/local/lib/python3.7/dist-packages (from tensorflow_datasets) (0.10.2)\n",
            "Requirement already satisfied: etils[epath] in /usr/local/lib/python3.7/dist-packages (from tensorflow_datasets) (0.9.0)\n",
            "Requirement already satisfied: importlib-resources in /usr/local/lib/python3.7/dist-packages (from tensorflow_datasets) (5.10.0)\n",
            "Requirement already satisfied: requests>=2.19.0 in /usr/local/lib/python3.7/dist-packages (from tensorflow_datasets) (2.23.0)\n",
            "Requirement already satisfied: tensorflow-metadata in /usr/local/lib/python3.7/dist-packages (from tensorflow_datasets) (1.10.0)\n",
            "Requirement already satisfied: tqdm in /usr/local/lib/python3.7/dist-packages (from tensorflow_datasets) (4.64.1)\n",
            "Requirement already satisfied: idna<3,>=2.5 in /usr/local/lib/python3.7/dist-packages (from requests>=2.19.0->tensorflow_datasets) (2.10)\n",
            "Requirement already satisfied: urllib3!=1.25.0,!=1.25.1,<1.26,>=1.21.1 in /usr/local/lib/python3.7/dist-packages (from requests>=2.19.0->tensorflow_datasets) (1.24.3)\n",
            "Requirement already satisfied: chardet<4,>=3.0.2 in /usr/local/lib/python3.7/dist-packages (from requests>=2.19.0->tensorflow_datasets) (3.0.4)\n",
            "Requirement already satisfied: certifi>=2017.4.17 in /usr/local/lib/python3.7/dist-packages (from requests>=2.19.0->tensorflow_datasets) (2022.9.24)\n",
            "Requirement already satisfied: zipp in /usr/local/lib/python3.7/dist-packages (from etils[epath]->tensorflow_datasets) (3.10.0)\n",
            "Requirement already satisfied: googleapis-common-protos<2,>=1.52.0 in /usr/local/lib/python3.7/dist-packages (from tensorflow-metadata->tensorflow_datasets) (1.56.4)\n"
          ]
        }
      ],
      "source": [
        "!pip install astro-datasets --upgrade\n",
        "!pip install tensorflow_datasets --upgrade"
      ]
    },
    {
      "cell_type": "code",
      "execution_count": 70,
      "metadata": {
        "colab": {
          "base_uri": "https://localhost:8080/"
        },
        "id": "KWP041JVu1QW",
        "outputId": "ec1ba418-4da1-452b-8027-636581de3ee3"
      },
      "outputs": [
        {
          "output_type": "stream",
          "name": "stdout",
          "text": [
            "Looking in indexes: https://pypi.org/simple, https://us-python.pkg.dev/colab-wheels/public/simple/\n",
            "Collecting jaxlib==0.1.65+cuda111\n",
            "  Using cached https://storage.googleapis.com/jax-releases/cuda111/jaxlib-0.1.65+cuda111-cp37-none-manylinux2010_x86_64.whl (189.4 MB)\n",
            "Requirement already satisfied: flatbuffers in /usr/local/lib/python3.7/dist-packages (from jaxlib==0.1.65+cuda111) (1.12)\n",
            "Requirement already satisfied: absl-py in /usr/local/lib/python3.7/dist-packages (from jaxlib==0.1.65+cuda111) (1.3.0)\n",
            "Requirement already satisfied: numpy>=1.16 in /usr/local/lib/python3.7/dist-packages (from jaxlib==0.1.65+cuda111) (1.21.6)\n",
            "Requirement already satisfied: scipy in /usr/local/lib/python3.7/dist-packages (from jaxlib==0.1.65+cuda111) (1.7.3)\n",
            "Looking in indexes: https://pypi.org/simple, https://us-python.pkg.dev/colab-wheels/public/simple/\n",
            "Requirement already satisfied: jax==0.2.12 in /usr/local/lib/python3.7/dist-packages (0.2.12)\n",
            "Requirement already satisfied: absl-py in /usr/local/lib/python3.7/dist-packages (from jax==0.2.12) (1.3.0)\n",
            "Requirement already satisfied: numpy>=1.12 in /usr/local/lib/python3.7/dist-packages (from jax==0.2.12) (1.21.6)\n",
            "Requirement already satisfied: opt-einsum in /usr/local/lib/python3.7/dist-packages (from jax==0.2.12) (3.3.0)\n",
            "Looking in indexes: https://pypi.org/simple, https://us-python.pkg.dev/colab-wheels/public/simple/\n",
            "Requirement already satisfied: dm-haiku==0.0.5.dev0 in /usr/local/lib/python3.7/dist-packages (0.0.5.dev0)\n",
            "Requirement already satisfied: optax==0.0.6 in /usr/local/lib/python3.7/dist-packages (0.0.6)\n",
            "Requirement already satisfied: chex==0.0.6 in /usr/local/lib/python3.7/dist-packages (0.0.6)\n",
            "Requirement already satisfied: numpy>=1.18.0 in /usr/local/lib/python3.7/dist-packages (from dm-haiku==0.0.5.dev0) (1.21.6)\n",
            "Requirement already satisfied: typing-extensions in /usr/local/lib/python3.7/dist-packages (from dm-haiku==0.0.5.dev0) (4.1.1)\n",
            "Requirement already satisfied: tabulate>=0.8.9 in /usr/local/lib/python3.7/dist-packages (from dm-haiku==0.0.5.dev0) (0.8.10)\n",
            "Requirement already satisfied: absl-py>=0.7.1 in /usr/local/lib/python3.7/dist-packages (from dm-haiku==0.0.5.dev0) (1.3.0)\n",
            "Requirement already satisfied: jaxlib>=0.1.37 in /usr/local/lib/python3.7/dist-packages (from optax==0.0.6) (0.1.65+cuda111)\n",
            "Requirement already satisfied: jax>=0.1.55 in /usr/local/lib/python3.7/dist-packages (from optax==0.0.6) (0.2.12)\n",
            "Requirement already satisfied: dm-tree>=0.1.5 in /usr/local/lib/python3.7/dist-packages (from chex==0.0.6) (0.1.7)\n",
            "Requirement already satisfied: toolz>=0.9.0 in /usr/local/lib/python3.7/dist-packages (from chex==0.0.6) (0.12.0)\n",
            "Requirement already satisfied: opt-einsum in /usr/local/lib/python3.7/dist-packages (from jax>=0.1.55->optax==0.0.6) (3.3.0)\n",
            "Requirement already satisfied: scipy in /usr/local/lib/python3.7/dist-packages (from jaxlib>=0.1.37->optax==0.0.6) (1.7.3)\n",
            "Requirement already satisfied: flatbuffers in /usr/local/lib/python3.7/dist-packages (from jaxlib>=0.1.37->optax==0.0.6) (1.12)\n"
          ]
        }
      ],
      "source": [
        "# https://storage.googleapis.com/jax-releases/jax_cuda_releases.html\n",
        "!pip install --upgrade https://storage.googleapis.com/jax-releases/cuda111/jaxlib-0.1.65+cuda111-cp37-none-manylinux2010_x86_64.whl\n",
        "!pip install jax==0.2.12\n",
        "!pip install dm-haiku==0.0.5.dev0 optax==0.0.6 chex==0.0.6"
      ]
    },
    {
      "cell_type": "code",
      "execution_count": 71,
      "metadata": {
        "id": "rQrY3hq6u7c3"
      },
      "outputs": [],
      "source": [
        "shutil.rmtree('bnn_hmc', ignore_errors=True)"
      ]
    },
    {
      "cell_type": "code",
      "execution_count": 72,
      "metadata": {
        "colab": {
          "base_uri": "https://localhost:8080/"
        },
        "id": "UgP-dnwRvCJt",
        "outputId": "ec368675-320e-4b59-febb-d2f884585dde"
      },
      "outputs": [
        {
          "output_type": "stream",
          "name": "stdout",
          "text": [
            "Cloning into 'bnn_hmc'...\n",
            "remote: Enumerating objects: 1428, done.\u001b[K\n",
            "remote: Counting objects: 100% (425/425), done.\u001b[K\n",
            "remote: Compressing objects: 100% (189/189), done.\u001b[K\n",
            "remote: Total 1428 (delta 289), reused 367 (delta 236), pack-reused 1003\u001b[K\n",
            "Receiving objects: 100% (1428/1428), 1.67 MiB | 20.66 MiB/s, done.\n",
            "Resolving deltas: 100% (969/969), done.\n"
          ]
        }
      ],
      "source": [
        "!git clone https://github.com/adammoss/bnn_hmc"
      ]
    },
    {
      "cell_type": "code",
      "source": [
        "!cd bnn_hmc && git checkout plot_posterior"
      ],
      "metadata": {
        "colab": {
          "base_uri": "https://localhost:8080/"
        },
        "id": "mrHJeYdB9CPc",
        "outputId": "dbf43d3f-d35d-409e-8bb3-d54b6db05e7c"
      },
      "execution_count": 73,
      "outputs": [
        {
          "output_type": "stream",
          "name": "stdout",
          "text": [
            "Branch 'plot_posterior' set up to track remote branch 'plot_posterior' from 'origin'.\n",
            "Switched to a new branch 'plot_posterior'\n"
          ]
        }
      ]
    },
    {
      "cell_type": "code",
      "execution_count": 74,
      "metadata": {
        "id": "REIW0g9QVirt"
      },
      "outputs": [],
      "source": [
        "class Analyse:\n",
        "\n",
        "  def __init__(self, root, dataset, method):\n",
        "    dirs = glob.glob(root + '/runs/' + method + '/' + dataset +  '/*/')\n",
        "    accuracy = []\n",
        "    nll = []\n",
        "    ece = []\n",
        "    rmse = []\n",
        "    mae = []\n",
        "    auc = []\n",
        "    ood_accuracy = []\n",
        "    ood_nll = []\n",
        "    ood_ece = []\n",
        "    ood_rmse = []\n",
        "    ood_mae = []\n",
        "    ood_auc = []\n",
        "    best_model = []\n",
        "    for dir in dirs:\n",
        "      if method in ['vi', 'mcd']:\n",
        "        files = glob.glob(dir + '/*/ensemble_prediction*')\n",
        "      elif method == 'sgd':\n",
        "        files = glob.glob(dir + '/*/*/ensemble_prediction*')\n",
        "      if len(files) != 1:\n",
        "        raise ValueError\n",
        "      dir = '/'.join(files[0].split('/')[:-1])\n",
        "      ensemble_metrics = np.load(glob.glob(os.path.join(dir, 'e*metric*'))[0], allow_pickle=True)\n",
        "      test_set = np.squeeze(np.load(glob.glob(os.path.join(dir, 'test_set*'))[0]))\n",
        "      ensemble_predictions = np.squeeze(np.load(glob.glob(os.path.join(dir, 'e*prediction*'))[0]))\n",
        "      if 'accuracy' in ensemble_metrics.item():\n",
        "        accuracy.append(ensemble_metrics.item()['accuracy'])\n",
        "        ece.append(ensemble_metrics.item()['ece'])\n",
        "        classification = True\n",
        "        num_classes = ensemble_predictions.shape[1]\n",
        "        targets = np.eye(num_classes)[test_set]\n",
        "        auc.append(roc_auc_score(targets, ensemble_predictions))\n",
        "      else:\n",
        "        rmse.append(ensemble_metrics.item()['rmse'])\n",
        "        classification = False\n",
        "        mae.append(np.mean(np.abs(ensemble_predictions[:,0] - test_set[:])))\n",
        "        #plt.errorbar(test_set[:], ensemble_predictions[:,0], yerr=ensemble_predictions[:,1], ls='none')\n",
        "        #plt.show()\n",
        "      nll.append(ensemble_metrics.item()['nll'])\n",
        "      best_model += glob.glob(os.path.join(dir, 'model_best.pt'))\n",
        "\n",
        "      try:\n",
        "        ood_ensemble_metrics = np.load(glob.glob(os.path.join(dir, 'ood*metric*'))[0], allow_pickle=True)\n",
        "      except:\n",
        "        ood_ensemble_metrics = None\n",
        "      if ood_ensemble_metrics is not None:\n",
        "        ood_test_set = np.squeeze(np.load(glob.glob(os.path.join(dir, 'ood*test_set*'))[0]))\n",
        "        ood_ensemble_predictions = np.squeeze(np.load(glob.glob(os.path.join(dir, 'ood*en*prediction*'))[0]))\n",
        "        if 'accuracy' in ood_ensemble_metrics.item():\n",
        "          ood_accuracy.append(ood_ensemble_metrics.item()['accuracy'])\n",
        "          ood_ece.append(ood_ensemble_metrics.item()['ece'])\n",
        "          ood_classification = True\n",
        "          ood_num_classes = ood_ensemble_predictions.shape[1]\n",
        "          ood_targets = np.eye(num_classes)[ood_test_set]\n",
        "          ood_auc.append(roc_auc_score(ood_targets, ood_ensemble_predictions))\n",
        "        else:\n",
        "          ood_rmse.append(ood_ensemble_metrics.item()['rmse'])\n",
        "          ood_classification = False\n",
        "          ood_mae.append(np.mean(np.abs(ood_ensemble_predictions[:,0] - ood_test_set[:])))\n",
        "          #plt.errorbar(ood_test_set[:], ood_ensemble_predictions[:,0], yerr=ood_ensemble_predictions[:,1], ls='none')\n",
        "          #plt.show()\n",
        "        ood_nll.append(ood_ensemble_metrics.item()['nll'])\n",
        "\n",
        "    print('Mean, std nll:', np.mean(nll), np.std(nll))\n",
        "    print(nll)\n",
        "    if classification:\n",
        "      print('Mean, std accuracy:', np.mean(accuracy), np.std(accuracy))\n",
        "      print('Mean, std ECE:', np.mean(ece), np.std(ece))\n",
        "      print('Mean, std AUC:', np.mean(auc), np.std(auc))\n",
        "    else:\n",
        "      print('Mean, std RMSE:', np.mean(rmse), np.std(rmse))\n",
        "      print('Mean, std MAE:', np.mean(mae), np.std(mae))\n",
        "\n",
        "    print('OOD Mean, std nll:', np.mean(ood_nll), np.std(ood_nll))\n",
        "    if classification:\n",
        "      print('OOD Mean, std accuracy:', np.mean(ood_accuracy), np.std(ood_accuracy))\n",
        "      print('OOD Mean, std ECE:', np.mean(ood_ece), np.std(ood_ece))\n",
        "      print('OOD Mean, std AUC:', np.mean(ood_auc), np.std(ood_auc))\n",
        "    else:\n",
        "      print('OOD Mean, std RMSE:', np.mean(ood_rmse), np.std(ood_rmse))\n",
        "      print('OOD Mean, std MAE:', np.mean(ood_mae), np.std(ood_mae))\n",
        "\n",
        "    self.best_model = best_model\n"
      ]
    },
    {
      "cell_type": "code",
      "execution_count": 75,
      "metadata": {
        "colab": {
          "base_uri": "https://localhost:8080/"
        },
        "id": "VqTViNxpWANe",
        "outputId": "53ac8227-72e5-4d61-f727-20a2afdf7c3a"
      },
      "outputs": [
        {
          "output_type": "stream",
          "name": "stdout",
          "text": [
            "Mean, std nll: 0.24429865 0.017628966\n",
            "[0.234675, 0.26902804, 0.22919288]\n",
            "Mean, std accuracy: 0.89743596 0.016343\n",
            "Mean, std ECE: 0.05894014086478796 0.00907933273750058\n",
            "Mean, std AUC: 0.9669758812615955 0.006928615250048689\n",
            "OOD Mean, std nll: 0.915706 0.018178225\n",
            "OOD Mean, std accuracy: 0.6530612 0.016663186\n",
            "OOD Mean, std ECE: 0.21839887349783968 0.023385840761520137\n",
            "OOD Mean, std AUC: 0.6838888888888889 0.008314794192830995\n"
          ]
        },
        {
          "output_type": "execute_result",
          "data": {
            "text/plain": [
              "<__main__.Analyse at 0x7f0716767d50>"
            ]
          },
          "metadata": {},
          "execution_count": 75
        }
      ],
      "source": [
        "Analyse('/content/drive/MyDrive/bnn_results4', 'mirabest/confident', 'vi')"
      ]
    },
    {
      "cell_type": "code",
      "execution_count": 76,
      "metadata": {
        "colab": {
          "base_uri": "https://localhost:8080/"
        },
        "id": "7OIoYzhvZYIC",
        "outputId": "8f8fb861-c3cd-4e9f-bb0c-11761aa39fb6"
      },
      "outputs": [
        {
          "output_type": "stream",
          "name": "stdout",
          "text": [
            "Mean, std nll: 0.21311915 0.015662044\n",
            "[0.23483269, 0.20604926, 0.19847545]\n",
            "Mean, std accuracy: 0.9070513 0.011992511\n",
            "Mean, std ECE: 0.0669620133554324 0.0061246756119942855\n",
            "Mean, std AUC: 0.976252319109462 0.004165110263570222\n",
            "OOD Mean, std nll: 0.97117907 0.098817885\n",
            "OOD Mean, std accuracy: 0.6530612 0.028861487\n",
            "OOD Mean, std ECE: 0.22127578706562923 0.01724063509770188\n",
            "OOD Mean, std AUC: 0.7094444444444444 0.004374448818895448\n"
          ]
        }
      ],
      "source": [
        "ra = Analyse('/content/drive/MyDrive/bnn_results4', 'mirabest/confident', 'sgd')"
      ]
    },
    {
      "cell_type": "code",
      "source": [
        "base_cmd = ['python3', 'bnn_hmc/scripts/make_posterior_surface_plot.py', '--dir=runs/sgd/mirabest/confident',\n",
        "'--dataset_name=mirabest/confident', '--model_name=lenet', '--grid_size=100',\n",
        "'--image_size=64', '--train_split=train[:90%]', '--eval_split=test',\n",
        "'--checkpoint1=%s' % ra.best_model[0], \n",
        "'--checkpoint2=%s' % ra.best_model[1], \n",
        "'--checkpoint3=%s' % ra.best_model[2]]\n",
        "' '.join(base_cmd)\n",
        "p = subprocess.run(base_cmd, capture_output=True)\n",
        "print(p.stdout.decode('utf8'))"
      ],
      "metadata": {
        "colab": {
          "base_uri": "https://localhost:8080/"
        },
        "id": "ielG7Sh4ixU5",
        "outputId": "27a2e96c-d570-44ed-b52a-2b441e6d79bc"
      },
      "execution_count": 77,
      "outputs": [
        {
          "output_type": "stream",
          "name": "stdout",
          "text": [
            "JAX sees the following devices: [GpuDevice(id=0, process_index=0)]\n",
            "TF sees the following devices: [PhysicalDevice(name='/physical_device:CPU:0', device_type='CPU')]\n",
            "Namespace(builder_kwargs=None, checkpoint1='/content/drive/MyDrive/bnn_results4/runs/sgd/mirabest/confident/2/4/sgd__opt_sgd_0.9__lr_sch_i_3e-07___epochs_300_wd_10_batchsize_53_temp_1.0__seed_14/model_best.pt', checkpoint2='/content/drive/MyDrive/bnn_results4/runs/sgd/mirabest/confident/1/4/sgd__opt_sgd_0.9__lr_sch_i_3e-07___epochs_300_wd_10_batchsize_53_temp_1.0__seed_9/model_best.pt', checkpoint3='/content/drive/MyDrive/bnn_results4/runs/sgd/mirabest/confident/0/4/sgd__opt_sgd_0.9__lr_sch_i_3e-07___epochs_300_wd_10_batchsize_53_temp_1.0__seed_4/model_best.pt', dataset_name='mirabest/confident', dir='runs/sgd/mirabest/confident', ensemble_exclude_metric=None, ensemble_exclude_value=1.0, ensemble_root=None, eval_split='test', grid_size=100, image_size=64, init_checkpoint=None, limit_bottom=-0.75, limit_left=-0.75, limit_right=1.75, limit_top=1.75, model_name='lenet', output_prefix=None, patience=None, plot=False, scaling=None, seed=0, subset_train_to=None, tabulate_freq=40, temperature=1.0, test_builder_kwargs=None, test_dataset_name=None, test_split='test', tpu_ip=None, train_split='train[:90%]', use_float64=False, weight_decay=15.0)\n",
            "{'accuracy': DeviceArray(0.9756097, dtype=float32), 'nll': 0.098435275, 'ece': DeviceArray(0.04346034, dtype=float32)}\n",
            "{'accuracy': DeviceArray(0.8942308, dtype=float32), 'nll': 0.2511923, 'ece': DeviceArray(0.05270803, dtype=float32)}\n",
            "{'accuracy': DeviceArray(0.96951216, dtype=float32), 'nll': 0.13384518, 'ece': DeviceArray(0.0585083, dtype=float32)}\n",
            "{'accuracy': DeviceArray(0.8846154, dtype=float32), 'nll': 0.2500986, 'ece': DeviceArray(0.06859691, dtype=float32)}\n",
            "{'accuracy': DeviceArray(0.9817073, dtype=float32), 'nll': 0.09637598, 'ece': DeviceArray(0.04476827, dtype=float32)}\n",
            "{'accuracy': DeviceArray(0.91346157, dtype=float32), 'nll': 0.1939045, 'ece': DeviceArray(0.04960917, dtype=float32)}\n",
            "Log likes:\n",
            "(ShardedDeviceArray([-238346.88], dtype=float32), ShardedDeviceArray([-64.57354], dtype=float32), ShardedDeviceArray([-238282.3], dtype=float32))\n",
            "(ShardedDeviceArray([-238404.62], dtype=float32), ShardedDeviceArray([-87.802444], dtype=float32), ShardedDeviceArray([-238316.83], dtype=float32))\n",
            "(ShardedDeviceArray([-238382.58], dtype=float32), ShardedDeviceArray([-63.22264], dtype=float32), ShardedDeviceArray([-238319.36], dtype=float32))\n",
            "\n"
          ]
        }
      ]
    },
    {
      "cell_type": "code",
      "source": [
        "d = np.load('/content/runs/sgd/mirabest/confident/posterior_visualization/surface_plot.npz')\n",
        "log_probs = d['log_probs']\n",
        "log_likelihoods = d['log_likelihoods']\n",
        "grid = d['grid']\n",
        "z_cut = log_likelihoods[np.isfinite(log_likelihoods)]"
      ],
      "metadata": {
        "id": "lHVzAjlvjEt7"
      },
      "execution_count": 78,
      "outputs": []
    },
    {
      "cell_type": "code",
      "source": [
        "np.max(z_cut) "
      ],
      "metadata": {
        "colab": {
          "base_uri": "https://localhost:8080/"
        },
        "id": "bIPSKYD9ALV-",
        "outputId": "d29da882-3f60-4e14-fcf9-26397256366d"
      },
      "execution_count": 79,
      "outputs": [
        {
          "output_type": "execute_result",
          "data": {
            "text/plain": [
              "-53.54815673828125"
            ]
          },
          "metadata": {},
          "execution_count": 79
        }
      ]
    },
    {
      "cell_type": "code",
      "source": [
        "levels = np.linspace(-3000, -0, 100)\n",
        "plt.contourf(grid[:,:,0], grid[:,:,1], log_likelihoods, levels=levels)\n",
        "plt.plot([0., 1., 0.5], [0., 0., 1.], \"o\", ms=2, markeredgecolor=\"k\")\n",
        "plt.colorbar()\n",
        "plt.show()"
      ],
      "metadata": {
        "colab": {
          "base_uri": "https://localhost:8080/",
          "height": 269
        },
        "id": "Ig83dgxWrmBF",
        "outputId": "3e744bb9-1aa3-493f-f69a-5789fbde18b1"
      },
      "execution_count": 80,
      "outputs": [
        {
          "output_type": "display_data",
          "data": {
            "text/plain": [
              "<Figure size 432x288 with 2 Axes>"
            ],
            "image/png": "[encoded data removed]"
          },
          "metadata": {
            "needs_background": "light"
          }
        }
      ]
    },
    {
      "cell_type": "code",
      "execution_count": 81,
      "metadata": {
        "colab": {
          "base_uri": "https://localhost:8080/"
        },
        "id": "q9JryLwQlghv",
        "outputId": "48dbea80-2326-448e-9410-c1a53591acaa"
      },
      "outputs": [
        {
          "output_type": "stream",
          "name": "stdout",
          "text": [
            "Mean, std nll: 0.33196008 0.009896372\n",
            "[0.33176246, 0.31993955, 0.3441782]\n",
            "Mean, std accuracy: 0.86538464 0.013598231\n",
            "Mean, std ECE: 0.10493433 0.004451591\n",
            "Mean, std AUC: 0.9390228818800247 0.0026469925243082872\n",
            "OOD Mean, std nll: 0.7837495 0.060497165\n",
            "OOD Mean, std accuracy: 0.67346936 0.016663186\n",
            "OOD Mean, std ECE: 0.18827839 0.018977564\n",
            "OOD Mean, std AUC: 0.6711111111111111 0.034246744460938776\n"
          ]
        },
        {
          "output_type": "execute_result",
          "data": {
            "text/plain": [
              "<__main__.Analyse at 0x7f0716517850>"
            ]
          },
          "metadata": {},
          "execution_count": 81
        }
      ],
      "source": [
        "Analyse('/content/drive/MyDrive/bnn_results4', 'mirabest/confident', 'mcd')"
      ]
    },
    {
      "cell_type": "code",
      "execution_count": 82,
      "metadata": {
        "colab": {
          "base_uri": "https://localhost:8080/"
        },
        "id": "gUFm9B1Snubb",
        "outputId": "cc80f5fa-83e3-4507-9d10-ccc55d7dade3"
      },
      "outputs": [
        {
          "output_type": "stream",
          "name": "stdout",
          "text": [
            "Mean, std nll: -1.372750997543335 0.06035629666110258\n",
            "[-1.4084981679916382, -1.2877511978149414, -1.4220036268234253]\n",
            "Mean, std RMSE: 0.06099770430638318 0.0029773118351376637\n",
            "Mean, std MAE: 0.04865661 0.0028058838\n",
            "OOD Mean, std nll: -1.1575834353764851 0.019672097613345162\n",
            "OOD Mean, std RMSE: 0.07852634760166648 0.002375851976387673\n",
            "OOD Mean, std MAE: 0.06166321 0.0013773936\n"
          ]
        },
        {
          "output_type": "execute_result",
          "data": {
            "text/plain": [
              "<__main__.Analyse at 0x7f0716811a50>"
            ]
          },
          "metadata": {},
          "execution_count": 82
        }
      ],
      "source": [
        "Analyse('/content/drive/MyDrive/bnn_results4', 'cmd', 'vi')"
      ]
    },
    {
      "cell_type": "code",
      "execution_count": 83,
      "metadata": {
        "colab": {
          "base_uri": "https://localhost:8080/"
        },
        "id": "9INOk4JXrf20",
        "outputId": "b8873b75-5ff0-43c3-e347-bdb14f70f5fd"
      },
      "outputs": [
        {
          "output_type": "stream",
          "name": "stdout",
          "text": [
            "Mean, std nll: -1.5290119250615437 0.03566489026895294\n",
            "[-1.5047599077224731, -1.579437494277954, -1.502838373184204]\n",
            "Mean, std RMSE: 0.051581344295004515 0.0007870756792035808\n",
            "Mean, std MAE: 0.040950853 0.0010835979\n",
            "OOD Mean, std nll: -0.87586325 0.2397272\n",
            "OOD Mean, std RMSE: 0.081979014 0.00015028888\n",
            "OOD Mean, std MAE: 0.06582836 0.00093221094\n"
          ]
        }
      ],
      "source": [
        "ra = Analyse('/content/drive/MyDrive/bnn_results4', 'cmd', 'sgd')"
      ]
    },
    {
      "cell_type": "code",
      "source": [
        "base_cmd = ['python3', 'bnn_hmc/scripts/make_posterior_surface_plot.py', '--dir=runs/sgd/cmd/',\n",
        "'--dataset_name=cmd', '--model_name=lenet', '--grid_size=100', '--scaling=asinh',\n",
        "'--builder_kwargs={\"simulation\": \"IllustrisTNG\", \"field\": \"Mtot\", \"parameters\": [\"omegam\"]}',\n",
        "'--image_size=64', '--train_split=train[:90%]', '--eval_split=train[95%:]',\n",
        "'--checkpoint1=%s' % ra.best_model[0], \n",
        "'--checkpoint2=%s' % ra.best_model[1], \n",
        "'--checkpoint3=%s' % ra.best_model[2]]\n",
        "p = subprocess.run(base_cmd, capture_output=True)\n",
        "print(p.stdout.decode('utf8'))"
      ],
      "metadata": {
        "colab": {
          "base_uri": "https://localhost:8080/"
        },
        "id": "I_l8Jip2jufs",
        "outputId": "88407f7b-2894-49a9-d58c-786e93bc3b38"
      },
      "execution_count": 84,
      "outputs": [
        {
          "output_type": "stream",
          "name": "stdout",
          "text": [
            "JAX sees the following devices: [GpuDevice(id=0, process_index=0)]\n",
            "TF sees the following devices: [PhysicalDevice(name='/physical_device:CPU:0', device_type='CPU')]\n",
            "Namespace(builder_kwargs='{\"simulation\": \"IllustrisTNG\", \"field\": \"Mtot\", \"parameters\": [\"omegam\"]}', checkpoint1='/content/drive/MyDrive/bnn_results4/runs/sgd/cmd/2/4/sgd__opt_sgd_0.9__lr_sch_i_1e-08___epochs_300_wd_10_batchsize_100_temp_1.0__seed_14/model_best.pt', checkpoint2='/content/drive/MyDrive/bnn_results4/runs/sgd/cmd/0/4/sgd__opt_sgd_0.9__lr_sch_i_1e-08___epochs_300_wd_10_batchsize_100_temp_1.0__seed_4/model_best.pt', checkpoint3='/content/drive/MyDrive/bnn_results4/runs/sgd/cmd/1/4/sgd__opt_sgd_0.9__lr_sch_i_1e-08___epochs_300_wd_10_batchsize_100_temp_1.0__seed_9/model_best.pt', dataset_name='cmd', dir='runs/sgd/cmd/', ensemble_exclude_metric=None, ensemble_exclude_value=1.0, ensemble_root=None, eval_split='train[95%:]', grid_size=100, image_size=64, init_checkpoint=None, limit_bottom=-0.75, limit_left=-0.75, limit_right=1.75, limit_top=1.75, model_name='lenet', output_prefix=None, patience=None, plot=False, scaling='asinh', seed=0, subset_train_to=None, tabulate_freq=40, temperature=1.0, test_builder_kwargs=None, test_dataset_name=None, test_split='test', tpu_ip=None, train_split='train[:90%]', use_float64=False, weight_decay=15.0)\n",
            "{'scaled_nll': DeviceArray(-1.717861, dtype=float32), 'scaled_mse': DeviceArray(0.00211729, dtype=float32), 'scaled_rmse': 0.046014044, 'nll': DeviceArray(-1.717861, dtype=float32), 'mse': DeviceArray(0.00211729, dtype=float32), 'rmse': 0.046014044}\n",
            "{'scaled_nll': DeviceArray(-1.6277887, dtype=float32), 'scaled_mse': DeviceArray(0.0025596, dtype=float32), 'scaled_rmse': 0.050592504, 'nll': DeviceArray(-1.6277887, dtype=float32), 'mse': DeviceArray(0.0025596, dtype=float32), 'rmse': 0.050592504}\n",
            "{'scaled_nll': DeviceArray(-1.4968299, dtype=float32), 'scaled_mse': DeviceArray(0.00273988, dtype=float32), 'scaled_rmse': 0.052343868, 'nll': DeviceArray(-1.4968299, dtype=float32), 'mse': DeviceArray(0.00273988, dtype=float32), 'rmse': 0.052343868}\n",
            "{'scaled_nll': DeviceArray(-1.388624, dtype=float32), 'scaled_mse': DeviceArray(0.00336108, dtype=float32), 'scaled_rmse': 0.057974838, 'nll': DeviceArray(-1.388624, dtype=float32), 'mse': DeviceArray(0.00336108, dtype=float32), 'rmse': 0.057974838}\n",
            "{'scaled_nll': DeviceArray(-1.4235226, dtype=float32), 'scaled_mse': DeviceArray(0.00306185, dtype=float32), 'scaled_rmse': 0.05533395, 'nll': DeviceArray(-1.4235226, dtype=float32), 'mse': DeviceArray(0.00306185, dtype=float32), 'rmse': 0.05533395}\n",
            "{'scaled_nll': DeviceArray(-1.3696631, dtype=float32), 'scaled_mse': DeviceArray(0.00342883, dtype=float32), 'scaled_rmse': 0.058556195, 'nll': DeviceArray(-1.3696631, dtype=float32), 'mse': DeviceArray(0.00342883, dtype=float32), 'rmse': 0.058556195}\n",
            "Log likes:\n",
            "(ShardedDeviceArray([-215252.73], dtype=float32), ShardedDeviceArray([23191.125], dtype=float32), ShardedDeviceArray([-238443.86], dtype=float32))\n",
            "(ShardedDeviceArray([-218177.03], dtype=float32), ShardedDeviceArray([20207.203], dtype=float32), ShardedDeviceArray([-238384.23], dtype=float32))\n",
            "(ShardedDeviceArray([-219157.75], dtype=float32), ShardedDeviceArray([19217.555], dtype=float32), ShardedDeviceArray([-238375.31], dtype=float32))\n",
            "\n"
          ]
        }
      ]
    },
    {
      "cell_type": "code",
      "source": [
        "d = np.load('/content/runs/sgd/cmd/posterior_visualization/surface_plot.npz')\n",
        "log_probs = d['log_probs']\n",
        "log_likelihoods = d['log_likelihoods']\n",
        "grid = d['grid']\n",
        "z_cut = log_likelihoods[np.isfinite(log_likelihoods)]"
      ],
      "metadata": {
        "id": "V-8uL2j7kPgC"
      },
      "execution_count": 85,
      "outputs": []
    },
    {
      "cell_type": "code",
      "source": [
        "print(np.max(z_cut) / 15000)"
      ],
      "metadata": {
        "colab": {
          "base_uri": "https://localhost:8080/"
        },
        "id": "pBnGyFWJAneM",
        "outputId": "dbf5428b-fa65-44f3-ef80-994fa071f414"
      },
      "execution_count": 86,
      "outputs": [
        {
          "output_type": "stream",
          "name": "stdout",
          "text": [
            "1.5482236979166666\n"
          ]
        }
      ]
    },
    {
      "cell_type": "code",
      "source": [
        "levels = np.linspace(-400000, 20000, 100)\n",
        "plt.contourf(grid[:,:,0], grid[:,:,1], log_likelihoods, levels=levels)\n",
        "plt.plot([0., 1., 0.5], [0., 0., 1.], \"o\", ms=2, markeredgecolor=\"k\")\n",
        "plt.colorbar()\n",
        "plt.show()"
      ],
      "metadata": {
        "colab": {
          "base_uri": "https://localhost:8080/",
          "height": 265
        },
        "id": "61PT-4Bnpv08",
        "outputId": "74c8c8e1-6529-417a-cc6f-548abc232efc"
      },
      "execution_count": 87,
      "outputs": [
        {
          "output_type": "display_data",
          "data": {
            "text/plain": [
              "<Figure size 432x288 with 2 Axes>"
            ],
            "image/png": "[encoded data removed]"
          },
          "metadata": {
            "needs_background": "light"
          }
        }
      ]
    },
    {
      "cell_type": "code",
      "execution_count": 88,
      "metadata": {
        "colab": {
          "base_uri": "https://localhost:8080/"
        },
        "id": "MPv_6Z1d8KZ7",
        "outputId": "75061b2f-dffb-46b9-ff4f-50ef9bfb41aa"
      },
      "outputs": [
        {
          "output_type": "stream",
          "name": "stdout",
          "text": [
            "Mean, std nll: -1.6538066466649373 0.027239119436160725\n",
            "[-1.615360975265503, -1.670931339263916, -1.675127625465393]\n",
            "Mean, std RMSE: 0.050921085661624337 0.001529052148427447\n",
            "Mean, std MAE: 0.039841432 0.0013411181\n",
            "OOD Mean, std nll: -0.27002639571825665 0.3717282748811189\n",
            "OOD Mean, std RMSE: 0.08474296981552343 0.005509459062342425\n",
            "OOD Mean, std MAE: 0.0644827 0.0051137186\n"
          ]
        },
        {
          "output_type": "execute_result",
          "data": {
            "text/plain": [
              "<__main__.Analyse at 0x7f07166d9390>"
            ]
          },
          "metadata": {},
          "execution_count": 88
        }
      ],
      "source": [
        "Analyse('/content/drive/MyDrive/bnn_results4', 'cmd', 'mcd')"
      ]
    },
    {
      "cell_type": "code",
      "source": [
        "Analyse('/content/drive/MyDrive/bnn_results4', 'slc/space', 'vi')"
      ],
      "metadata": {
        "colab": {
          "base_uri": "https://localhost:8080/"
        },
        "id": "MPvuAKnvD_h9",
        "outputId": "a21cf364-87ad-4cc2-885e-c1cc65555592"
      },
      "execution_count": 89,
      "outputs": [
        {
          "output_type": "stream",
          "name": "stdout",
          "text": [
            "Mean, std nll: 0.57076526 0.0076243374\n",
            "[0.56092155, 0.5794979, 0.5718763]\n",
            "Mean, std accuracy: 0.68931675 0.0075144637\n",
            "Mean, std ECE: 0.10309401011466979 0.006363819015921188\n",
            "Mean, std AUC: 0.8605233665654318 0.0020395948482515715\n",
            "OOD Mean, std nll: nan nan\n",
            "OOD Mean, std accuracy: nan nan\n",
            "OOD Mean, std ECE: nan nan\n",
            "OOD Mean, std AUC: nan nan\n"
          ]
        },
        {
          "output_type": "stream",
          "name": "stderr",
          "text": [
            "/usr/local/lib/python3.7/dist-packages/numpy/core/fromnumeric.py:3441: RuntimeWarning: Mean of empty slice.\n",
            "  out=out, **kwargs)\n",
            "/usr/local/lib/python3.7/dist-packages/numpy/core/_methods.py:189: RuntimeWarning: invalid value encountered in double_scalars\n",
            "  ret = ret.dtype.type(ret / rcount)\n",
            "/usr/local/lib/python3.7/dist-packages/numpy/core/_methods.py:263: RuntimeWarning: Degrees of freedom <= 0 for slice\n",
            "  keepdims=keepdims, where=where)\n",
            "/usr/local/lib/python3.7/dist-packages/numpy/core/_methods.py:223: RuntimeWarning: invalid value encountered in true_divide\n",
            "  subok=False)\n",
            "/usr/local/lib/python3.7/dist-packages/numpy/core/_methods.py:254: RuntimeWarning: invalid value encountered in double_scalars\n",
            "  ret = ret.dtype.type(ret / rcount)\n"
          ]
        },
        {
          "output_type": "execute_result",
          "data": {
            "text/plain": [
              "<__main__.Analyse at 0x7f07166bc250>"
            ]
          },
          "metadata": {},
          "execution_count": 89
        }
      ]
    },
    {
      "cell_type": "code",
      "source": [
        "ra = Analyse('/content/drive/MyDrive/bnn_results4', 'slc/space', 'sgd')"
      ],
      "metadata": {
        "colab": {
          "base_uri": "https://localhost:8080/"
        },
        "id": "k5Oh8fNACPpO",
        "outputId": "d0c20a4c-856e-47f2-f12e-fc03a28f8ece"
      },
      "execution_count": 90,
      "outputs": [
        {
          "output_type": "stream",
          "name": "stdout",
          "text": [
            "Mean, std nll: 0.5219005 0.01013932\n",
            "[0.51815164, 0.5357611, 0.5117888]\n",
            "Mean, std accuracy: 0.7195 0.0028363692\n",
            "Mean, std ECE: 0.08235779230793318 0.008641534558929954\n",
            "Mean, std AUC: 0.878692435521717 0.0015284343004093998\n",
            "OOD Mean, std nll: nan nan\n",
            "OOD Mean, std accuracy: nan nan\n",
            "OOD Mean, std ECE: nan nan\n",
            "OOD Mean, std AUC: nan nan\n"
          ]
        },
        {
          "output_type": "stream",
          "name": "stderr",
          "text": [
            "/usr/local/lib/python3.7/dist-packages/numpy/core/fromnumeric.py:3441: RuntimeWarning: Mean of empty slice.\n",
            "  out=out, **kwargs)\n",
            "/usr/local/lib/python3.7/dist-packages/numpy/core/_methods.py:189: RuntimeWarning: invalid value encountered in double_scalars\n",
            "  ret = ret.dtype.type(ret / rcount)\n",
            "/usr/local/lib/python3.7/dist-packages/numpy/core/_methods.py:263: RuntimeWarning: Degrees of freedom <= 0 for slice\n",
            "  keepdims=keepdims, where=where)\n",
            "/usr/local/lib/python3.7/dist-packages/numpy/core/_methods.py:223: RuntimeWarning: invalid value encountered in true_divide\n",
            "  subok=False)\n",
            "/usr/local/lib/python3.7/dist-packages/numpy/core/_methods.py:254: RuntimeWarning: invalid value encountered in double_scalars\n",
            "  ret = ret.dtype.type(ret / rcount)\n"
          ]
        }
      ]
    },
    {
      "cell_type": "code",
      "source": [
        "base_cmd = ['python3', 'bnn_hmc/scripts/make_posterior_surface_plot.py', '--dir=runs/sgd/slc/space/',\n",
        "'--dataset_name=slc/space', '--model_name=lenet', '--grid_size=100',\n",
        "'--image_size=64', '--train_split=train[:80%]', '--eval_split=test',\n",
        "'--checkpoint1=%s' % ra.best_model[0], \n",
        "'--checkpoint2=%s' % ra.best_model[1], \n",
        "'--checkpoint3=%s' % ra.best_model[2]]\n",
        "p = subprocess.run(base_cmd, capture_output=True)\n",
        "print(p.stdout.decode('utf8'))"
      ],
      "metadata": {
        "colab": {
          "base_uri": "https://localhost:8080/"
        },
        "id": "2KwkqebaBJH_",
        "outputId": "95073054-99a7-4dcd-e914-4aee261c2923"
      },
      "execution_count": 91,
      "outputs": [
        {
          "output_type": "stream",
          "name": "stdout",
          "text": [
            "JAX sees the following devices: [GpuDevice(id=0, process_index=0)]\n",
            "TF sees the following devices: [PhysicalDevice(name='/physical_device:CPU:0', device_type='CPU')]\n",
            "Namespace(builder_kwargs=None, checkpoint1='/content/drive/MyDrive/bnn_results4/runs/sgd/slc/space/2/4/sgd__opt_sgd_0.9__lr_sch_i_3e-07___epochs_300_wd_10_batchsize_100_temp_1.0__seed_14/model_best.pt', checkpoint2='/content/drive/MyDrive/bnn_results4/runs/sgd/slc/space/1/4/sgd__opt_sgd_0.9__lr_sch_i_3e-07___epochs_300_wd_10_batchsize_100_temp_1.0__seed_9/model_best.pt', checkpoint3='/content/drive/MyDrive/bnn_results4/runs/sgd/slc/space/0/4/sgd__opt_sgd_0.9__lr_sch_i_3e-07___epochs_300_wd_10_batchsize_100_temp_1.0__seed_4/model_best.pt', dataset_name='slc/space', dir='runs/sgd/slc/space/', ensemble_exclude_metric=None, ensemble_exclude_value=1.0, ensemble_root=None, eval_split='test', grid_size=100, image_size=64, init_checkpoint=None, limit_bottom=-0.75, limit_left=-0.75, limit_right=1.75, limit_top=1.75, model_name='lenet', output_prefix=None, patience=None, plot=False, scaling=None, seed=0, subset_train_to=None, tabulate_freq=40, temperature=1.0, test_builder_kwargs=None, test_dataset_name=None, test_split='test', tpu_ip=None, train_split='train[:80%]', use_float64=False, weight_decay=15.0)\n",
            "{'accuracy': DeviceArray(0.89018756, dtype=float32), 'nll': 0.24969867, 'ece': DeviceArray(0.03571853, dtype=float32)}\n",
            "{'accuracy': DeviceArray(0.7152, dtype=float32), 'nll': 0.5359906, 'ece': DeviceArray(0.08092707, dtype=float32)}\n",
            "{'accuracy': DeviceArray(0.92068756, dtype=float32), 'nll': 0.18717024, 'ece': DeviceArray(0.03390764, dtype=float32)}\n",
            "{'accuracy': DeviceArray(0.71665, dtype=float32), 'nll': 0.60543704, 'ece': DeviceArray(0.11751994, dtype=float32)}\n",
            "{'accuracy': DeviceArray(0.90650004, dtype=float32), 'nll': 0.21313278, 'ece': DeviceArray(0.02817205, dtype=float32)}\n",
            "{'accuracy': DeviceArray(0.72450006, dtype=float32), 'nll': 0.5864351, 'ece': DeviceArray(0.10179435, dtype=float32)}\n",
            "Log likes:\n",
            "(ShardedDeviceArray([-242385.55], dtype=float32), ShardedDeviceArray([-3995.179], dtype=float32), ShardedDeviceArray([-238390.38], dtype=float32))\n",
            "(ShardedDeviceArray([-241436.44], dtype=float32), ShardedDeviceArray([-2994.724], dtype=float32), ShardedDeviceArray([-238441.72], dtype=float32))\n",
            "(ShardedDeviceArray([-241843.7], dtype=float32), ShardedDeviceArray([-3410.1245], dtype=float32), ShardedDeviceArray([-238433.58], dtype=float32))\n",
            "\n"
          ]
        }
      ]
    },
    {
      "cell_type": "code",
      "source": [
        "d = np.load('/content/runs/sgd/slc/space/posterior_visualization/surface_plot.npz')\n",
        "log_probs = d['log_probs']\n",
        "log_likelihoods = d['log_likelihoods']\n",
        "grid = d['grid']\n",
        "z_cut = log_likelihoods[np.isfinite(log_likelihoods)]"
      ],
      "metadata": {
        "id": "BpZJt9ngBJ4X"
      },
      "execution_count": 92,
      "outputs": []
    },
    {
      "cell_type": "code",
      "source": [
        "print(np.max(z_cut) / 15000)"
      ],
      "metadata": {
        "colab": {
          "base_uri": "https://localhost:8080/"
        },
        "id": "h6FBF5r4FhzE",
        "outputId": "35b955f2-23f4-4bd6-8422-cb9b59f1dc33"
      },
      "execution_count": 93,
      "outputs": [
        {
          "output_type": "stream",
          "name": "stdout",
          "text": [
            "-0.19284474283854167\n"
          ]
        }
      ]
    },
    {
      "cell_type": "code",
      "source": [
        "levels = np.linspace(-40000, 2000, 100)\n",
        "plt.contourf(grid[:,:,0], grid[:,:,1], log_likelihoods, levels=levels)\n",
        "plt.plot([0., 1., 0.5], [0., 0., 1.], \"o\", ms=2, markeredgecolor=\"k\")\n",
        "plt.colorbar()\n",
        "plt.show()"
      ],
      "metadata": {
        "colab": {
          "base_uri": "https://localhost:8080/",
          "height": 265
        },
        "id": "fd4QJfeIBJ7M",
        "outputId": "80968d05-9ba9-47d9-8569-5fbfb96bb969"
      },
      "execution_count": 94,
      "outputs": [
        {
          "output_type": "display_data",
          "data": {
            "text/plain": [
              "<Figure size 432x288 with 2 Axes>"
            ],
            "image/png": "[encoded data removed]"
          },
          "metadata": {
            "needs_background": "light"
          }
        }
      ]
    },
    {
      "cell_type": "code",
      "source": [
        "Analyse('/content/drive/MyDrive/bnn_results4', 'slc/space', 'mcd')"
      ],
      "metadata": {
        "colab": {
          "base_uri": "https://localhost:8080/"
        },
        "id": "jPlLvk9ECea6",
        "outputId": "3b738ace-3bdc-4345-c65b-3736cc477d89"
      },
      "execution_count": 95,
      "outputs": [
        {
          "output_type": "stream",
          "name": "stdout",
          "text": [
            "Mean, std nll: 0.55310565 0.03922746\n",
            "[0.52673686, 0.60855955, 0.52402073]\n",
            "Mean, std accuracy: 0.7047167 0.00875455\n",
            "Mean, std ECE: 0.08170188 0.020485546\n",
            "Mean, std AUC: 0.8666161934128594 0.007418121130355344\n",
            "OOD Mean, std nll: nan nan\n",
            "OOD Mean, std accuracy: nan nan\n",
            "OOD Mean, std ECE: nan nan\n",
            "OOD Mean, std AUC: nan nan\n"
          ]
        },
        {
          "output_type": "stream",
          "name": "stderr",
          "text": [
            "/usr/local/lib/python3.7/dist-packages/numpy/core/fromnumeric.py:3441: RuntimeWarning: Mean of empty slice.\n",
            "  out=out, **kwargs)\n",
            "/usr/local/lib/python3.7/dist-packages/numpy/core/_methods.py:189: RuntimeWarning: invalid value encountered in double_scalars\n",
            "  ret = ret.dtype.type(ret / rcount)\n",
            "/usr/local/lib/python3.7/dist-packages/numpy/core/_methods.py:263: RuntimeWarning: Degrees of freedom <= 0 for slice\n",
            "  keepdims=keepdims, where=where)\n",
            "/usr/local/lib/python3.7/dist-packages/numpy/core/_methods.py:223: RuntimeWarning: invalid value encountered in true_divide\n",
            "  subok=False)\n",
            "/usr/local/lib/python3.7/dist-packages/numpy/core/_methods.py:254: RuntimeWarning: invalid value encountered in double_scalars\n",
            "  ret = ret.dtype.type(ret / rcount)\n"
          ]
        },
        {
          "output_type": "execute_result",
          "data": {
            "text/plain": [
              "<__main__.Analyse at 0x7f07167919d0>"
            ]
          },
          "metadata": {},
          "execution_count": 95
        }
      ]
    },
    {
      "cell_type": "code",
      "source": [
        "Analyse('/content/drive/MyDrive/bnn_results4', 'mlsst/Y10', 'vi')"
      ],
      "metadata": {
        "colab": {
          "base_uri": "https://localhost:8080/"
        },
        "id": "BoiBa8W_CjM5",
        "outputId": "6aa9808b-613c-43d0-d929-4b8d1e2df2c3"
      },
      "execution_count": 96,
      "outputs": [
        {
          "output_type": "stream",
          "name": "stdout",
          "text": [
            "Mean, std nll: 0.7303545 0.013643114\n",
            "[0.7470963, 0.7136778, 0.73028916]\n",
            "Mean, std accuracy: 0.7281707 0.0011934302\n",
            "Mean, std ECE: 0.03469654665776772 0.0042552583492991665\n",
            "Mean, std AUC: 0.8601072446306982 0.001553659834044372\n",
            "OOD Mean, std nll: 1.3624474 0.0765565\n",
            "OOD Mean, std accuracy: 0.53536856 0.00548787\n",
            "OOD Mean, std ECE: 0.24190705103476542 0.01822432547065041\n",
            "OOD Mean, std AUC: 0.7047097885099389 0.00042827994044606244\n"
          ]
        },
        {
          "output_type": "execute_result",
          "data": {
            "text/plain": [
              "<__main__.Analyse at 0x7f0717ded250>"
            ]
          },
          "metadata": {},
          "execution_count": 96
        }
      ]
    },
    {
      "cell_type": "code",
      "source": [
        "ra = Analyse('/content/drive/MyDrive/bnn_results4', 'mlsst/Y10', 'sgd')"
      ],
      "metadata": {
        "colab": {
          "base_uri": "https://localhost:8080/"
        },
        "id": "ck51Sht5Fs38",
        "outputId": "a3e1eb23-7fe4-48ba-ca57-67e47639f61d"
      },
      "execution_count": 97,
      "outputs": [
        {
          "output_type": "stream",
          "name": "stdout",
          "text": [
            "Mean, std nll: 0.7441036 0.0061378796\n",
            "[0.735424, 0.7485377, 0.748349]\n",
            "Mean, std accuracy: 0.68379253 0.006824745\n",
            "Mean, std ECE: 0.047549211805823666 0.005562942629604232\n",
            "Mean, std AUC: 0.842916828637323 0.0032653736555740614\n",
            "OOD Mean, std nll: 1.0769275 0.024906585\n",
            "OOD Mean, std accuracy: 0.53596425 0.005620968\n",
            "OOD Mean, std ECE: 0.18594472 0.013087376\n",
            "OOD Mean, std AUC: 0.7387832818204857 0.0007788339905827964\n"
          ]
        }
      ]
    },
    {
      "cell_type": "code",
      "source": [
        "base_cmd = ['python3', 'bnn_hmc/scripts/make_posterior_surface_plot.py', '--dir=runs/sgd/mlsst/Y10/',\n",
        "'--dataset_name=mlsst/Y10', '--model_name=lenet', '--grid_size=100', '--scaling=asinh',\n",
        "'--image_size=64', '--train_split=train', '--eval_split=test',\n",
        "'--checkpoint1=%s' % ra.best_model[0], \n",
        "'--checkpoint2=%s' % ra.best_model[1], \n",
        "'--checkpoint3=%s' % ra.best_model[2]]\n",
        "p = subprocess.run(base_cmd, capture_output=True)\n",
        "print(p.stdout.decode('utf8'))"
      ],
      "metadata": {
        "colab": {
          "base_uri": "https://localhost:8080/"
        },
        "id": "oHqYPvIWFxAF",
        "outputId": "f32ccb60-e307-414f-9f32-d0150eaefc98"
      },
      "execution_count": 98,
      "outputs": [
        {
          "output_type": "stream",
          "name": "stdout",
          "text": [
            "JAX sees the following devices: [GpuDevice(id=0, process_index=0)]\n",
            "TF sees the following devices: [PhysicalDevice(name='/physical_device:CPU:0', device_type='CPU')]\n",
            "Namespace(builder_kwargs=None, checkpoint1='/content/drive/MyDrive/bnn_results4/runs/sgd/mlsst/Y10/2/4/sgd__opt_adam__lr_sch_i_1e-05___epochs_300_wd_10_batchsize_100_temp_1.0__seed_14/model_best.pt', checkpoint2='/content/drive/MyDrive/bnn_results4/runs/sgd/mlsst/Y10/1/4/sgd__opt_adam__lr_sch_i_1e-05___epochs_300_wd_10_batchsize_100_temp_1.0__seed_9/model_best.pt', checkpoint3='/content/drive/MyDrive/bnn_results4/runs/sgd/mlsst/Y10/0/4/sgd__opt_adam__lr_sch_i_1e-05___epochs_300_wd_10_batchsize_100_temp_1.0__seed_4/model_best.pt', dataset_name='mlsst/Y10', dir='runs/sgd/mlsst/Y10/', ensemble_exclude_metric=None, ensemble_exclude_value=1.0, ensemble_root=None, eval_split='test', grid_size=100, image_size=64, init_checkpoint=None, limit_bottom=-0.75, limit_left=-0.75, limit_right=1.75, limit_top=1.75, model_name='lenet', output_prefix=None, patience=None, plot=False, scaling='asinh', seed=0, subset_train_to=None, tabulate_freq=40, temperature=1.0, test_builder_kwargs=None, test_dataset_name=None, test_split='test', tpu_ip=None, train_split='train', use_float64=False, weight_decay=15.0)\n",
            "{'accuracy': DeviceArray(0.77136284, dtype=float32), 'nll': 0.59574115, 'ece': DeviceArray(0.08159491, dtype=float32)}\n",
            "{'accuracy': DeviceArray(0.66329116, dtype=float32), 'nll': 0.78431994, 'ece': DeviceArray(0.02466034, dtype=float32)}\n",
            "{'accuracy': DeviceArray(0.75731254, dtype=float32), 'nll': 0.623712, 'ece': DeviceArray(0.08272619, dtype=float32)}\n",
            "{'accuracy': DeviceArray(0.6408042, dtype=float32), 'nll': 0.81225646, 'ece': DeviceArray(0.03086051, dtype=float32)}\n",
            "{'accuracy': DeviceArray(0.7612296, dtype=float32), 'nll': 0.61492676, 'ece': DeviceArray(0.07567427, dtype=float32)}\n",
            "{'accuracy': DeviceArray(0.6512286, dtype=float32), 'nll': 0.7929663, 'ece': DeviceArray(0.02609187, dtype=float32)}\n",
            "Log likes:\n",
            "(ShardedDeviceArray([-252363.05], dtype=float32), ShardedDeviceArray([-13992.172], dtype=float32), ShardedDeviceArray([-238370.88], dtype=float32))\n",
            "(ShardedDeviceArray([-253020.88], dtype=float32), ShardedDeviceArray([-14649.123], dtype=float32), ShardedDeviceArray([-238371.75], dtype=float32))\n",
            "(ShardedDeviceArray([-252868.92], dtype=float32), ShardedDeviceArray([-14442.786], dtype=float32), ShardedDeviceArray([-238426.14], dtype=float32))\n",
            "\n"
          ]
        }
      ]
    },
    {
      "cell_type": "code",
      "source": [
        "d = np.load('/content/runs/sgd/mlsst/Y10/posterior_visualization/surface_plot.npz')\n",
        "log_probs = d['log_probs']\n",
        "log_likelihoods = d['log_likelihoods'] / 20000\n",
        "grid = d['grid']\n",
        "z_cut = log_likelihoods[np.isfinite(log_likelihoods)]"
      ],
      "metadata": {
        "id": "-Uj2CccfGEJ6"
      },
      "execution_count": 99,
      "outputs": []
    },
    {
      "cell_type": "code",
      "source": [
        "print(np.max(z_cut) / 20000)"
      ],
      "metadata": {
        "colab": {
          "base_uri": "https://localhost:8080/"
        },
        "id": "FmuSV79jF-Pd",
        "outputId": "da0330a0-a1ad-451c-cab7-58b698a5c27c"
      },
      "execution_count": 100,
      "outputs": [
        {
          "output_type": "stream",
          "name": "stdout",
          "text": [
            "-3.5030766601562505e-05\n"
          ]
        }
      ]
    },
    {
      "cell_type": "code",
      "source": [
        "levels = np.linspace(-4, 0, 100)\n",
        "plt.contourf(grid[:,:,0], grid[:,:,1], log_likelihoods, levels=levels)\n",
        "plt.plot([0., 1., 0.5], [0., 0., 1.], \"o\", ms=2, markeredgecolor=\"k\")\n",
        "plt.colorbar()\n",
        "plt.show()"
      ],
      "metadata": {
        "colab": {
          "base_uri": "https://localhost:8080/",
          "height": 269
        },
        "id": "FbRjr3JIGCLJ",
        "outputId": "2f8e1988-b067-4d6e-c36d-6fdbbe8064d7"
      },
      "execution_count": 101,
      "outputs": [
        {
          "output_type": "display_data",
          "data": {
            "text/plain": [
              "<Figure size 432x288 with 2 Axes>"
            ],
            "image/png": "[encoded data removed]"
          },
          "metadata": {
            "needs_background": "light"
          }
        }
      ]
    },
    {
      "cell_type": "code",
      "source": [
        "!zip -r bnn_results_analysis.zip /content/runs "
      ],
      "metadata": {
        "colab": {
          "base_uri": "https://localhost:8080/"
        },
        "id": "OycDk4RbGKX4",
        "outputId": "81e69464-6570-4ca4-e4f1-3be99c841e01"
      },
      "execution_count": 102,
      "outputs": [
        {
          "output_type": "stream",
          "name": "stdout",
          "text": [
            "  adding: content/runs/ (stored 0%)\n",
            "  adding: content/runs/sgd/ (stored 0%)\n",
            "  adding: content/runs/sgd/mlsst/ (stored 0%)\n",
            "  adding: content/runs/sgd/mlsst/Y10/ (stored 0%)\n",
            "  adding: content/runs/sgd/mlsst/Y10/posterior_visualization/ (stored 0%)\n",
            "  adding: content/runs/sgd/mlsst/Y10/posterior_visualization/command.sh (deflated 62%)\n",
            "  adding: content/runs/sgd/mlsst/Y10/posterior_visualization/surface_plot.npz (deflated 65%)\n",
            "  adding: content/runs/sgd/mirabest/ (stored 0%)\n",
            "  adding: content/runs/sgd/mirabest/confident/ (stored 0%)\n",
            "  adding: content/runs/sgd/mirabest/confident/posterior_visualization/ (stored 0%)\n",
            "  adding: content/runs/sgd/mirabest/confident/posterior_visualization/command.sh (deflated 64%)\n",
            "  adding: content/runs/sgd/mirabest/confident/posterior_visualization/surface_plot.npz (deflated 66%)\n",
            "  adding: content/runs/sgd/slc/ (stored 0%)\n",
            "  adding: content/runs/sgd/slc/space/ (stored 0%)\n",
            "  adding: content/runs/sgd/slc/space/posterior_visualization/ (stored 0%)\n",
            "  adding: content/runs/sgd/slc/space/posterior_visualization/command.sh (deflated 63%)\n",
            "  adding: content/runs/sgd/slc/space/posterior_visualization/surface_plot.npz (deflated 65%)\n",
            "  adding: content/runs/sgd/cmd/ (stored 0%)\n",
            "  adding: content/runs/sgd/cmd/posterior_visualization/ (stored 0%)\n",
            "  adding: content/runs/sgd/cmd/posterior_visualization/command.sh (deflated 57%)\n",
            "  adding: content/runs/sgd/cmd/posterior_visualization/surface_plot.npz (deflated 67%)\n"
          ]
        }
      ]
    },
    {
      "cell_type": "code",
      "source": [
        "!cp /content/bnn_results_analysis.zip /content/drive/MyDrive"
      ],
      "metadata": {
        "id": "M7wZJVhtTnOT"
      },
      "execution_count": 103,
      "outputs": []
    },
    {
      "cell_type": "code",
      "source": [],
      "metadata": {
        "id": "od6--8s7TtOc"
      },
      "execution_count": null,
      "outputs": []
    }
  ],
  "metadata": {
    "colab": {
      "provenance": [],
      "authorship_tag": "ABX9TyMYhmALZ1EsTBiGO9COlDel",
      "include_colab_link": true
    },
    "kernelspec": {
      "display_name": "Python 3",
      "name": "python3"
    },
    "language_info": {
      "name": "python"
    },
    "accelerator": "GPU",
    "gpuClass": "premium"
  },
  "nbformat": 4,
  "nbformat_minor": 0
}