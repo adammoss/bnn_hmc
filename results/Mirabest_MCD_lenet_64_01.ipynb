{
  "nbformat": 4,
  "nbformat_minor": 0,
  "metadata": {
    "colab": {
      "name": "Mirabest_MCD_lenet_64_01.ipynb",
      "provenance": [],
      "authorship_tag": "ABX9TyM+qmt0YQNjKOPj3TynTPio",
      "include_colab_link": true
    },
    "kernelspec": {
      "name": "python3",
      "display_name": "Python 3"
    },
    "language_info": {
      "name": "python"
    },
    "accelerator": "GPU",
    "gpuClass": "standard"
  },
  "cells": [
    {
      "cell_type": "markdown",
      "metadata": {
        "id": "view-in-github",
        "colab_type": "text"
      },
      "source": [
        "<a href=\"https://colab.research.google.com/github/adammoss/bnn_hmc/blob/main/results/Mirabest_MCD_lenet_64_01.ipynb\" target=\"_parent\"><img src=\"https://colab.research.google.com/assets/colab-badge.svg\" alt=\"Open In Colab\"/></a>"
      ]
    },
    {
      "cell_type": "code",
      "execution_count": 1,
      "metadata": {
        "id": "0PUrQk-IMK41"
      },
      "outputs": [],
      "source": [
        "import os\n",
        "import sys\n",
        "import shutil\n",
        "import subprocess\n",
        "import glob\n",
        "import matplotlib.pyplot as plt\n",
        "import seaborn as sns\n",
        "import numpy as np"
      ]
    },
    {
      "cell_type": "code",
      "source": [
        "!nvidia-smi"
      ],
      "metadata": {
        "colab": {
          "base_uri": "https://localhost:8080/"
        },
        "id": "Aet_Ao9MMyDo",
        "outputId": "f5cbde91-e236-41ad-e86e-6da84701322d"
      },
      "execution_count": 2,
      "outputs": [
        {
          "output_type": "stream",
          "name": "stdout",
          "text": [
            "Tue Aug 23 18:57:40 2022       \n",
            "+-----------------------------------------------------------------------------+\n",
            "| NVIDIA-SMI 460.32.03    Driver Version: 460.32.03    CUDA Version: 11.2     |\n",
            "|-------------------------------+----------------------+----------------------+\n",
            "| GPU  Name        Persistence-M| Bus-Id        Disp.A | Volatile Uncorr. ECC |\n",
            "| Fan  Temp  Perf  Pwr:Usage/Cap|         Memory-Usage | GPU-Util  Compute M. |\n",
            "|                               |                      |               MIG M. |\n",
            "|===============================+======================+======================|\n",
            "|   0  Tesla V100-SXM2...  Off  | 00000000:00:04.0 Off |                    0 |\n",
            "| N/A   36C    P0    25W / 300W |      0MiB / 16160MiB |      0%      Default |\n",
            "|                               |                      |                  N/A |\n",
            "+-------------------------------+----------------------+----------------------+\n",
            "                                                                               \n",
            "+-----------------------------------------------------------------------------+\n",
            "| Processes:                                                                  |\n",
            "|  GPU   GI   CI        PID   Type   Process name                  GPU Memory |\n",
            "|        ID   ID                                                   Usage      |\n",
            "|=============================================================================|\n",
            "|  No running processes found                                                 |\n",
            "+-----------------------------------------------------------------------------+\n"
          ]
        }
      ]
    },
    {
      "cell_type": "code",
      "source": [
        "!pip install astro-datasets --upgrade\n",
        "!pip install tensorflow_datasets --upgrade"
      ],
      "metadata": {
        "colab": {
          "base_uri": "https://localhost:8080/"
        },
        "id": "Us-4go3IM7mU",
        "outputId": "b7d76b35-b113-459e-b90b-dda0268cb37e"
      },
      "execution_count": 3,
      "outputs": [
        {
          "output_type": "stream",
          "name": "stdout",
          "text": [
            "Looking in indexes: https://pypi.org/simple, https://us-python.pkg.dev/colab-wheels/public/simple/\n",
            "Collecting astro-datasets\n",
            "  Downloading astro_datasets-0.0.10.tar.gz (12 kB)\n",
            "Requirement already satisfied: tensorflow in /usr/local/lib/python3.7/dist-packages (from astro-datasets) (2.8.2+zzzcolab20220719082949)\n",
            "Requirement already satisfied: tensorflow_datasets in /usr/local/lib/python3.7/dist-packages (from astro-datasets) (4.6.0)\n",
            "Requirement already satisfied: numpy in /usr/local/lib/python3.7/dist-packages (from astro-datasets) (1.21.6)\n",
            "Requirement already satisfied: pandas in /usr/local/lib/python3.7/dist-packages (from astro-datasets) (1.3.5)\n",
            "Requirement already satisfied: python-dateutil>=2.7.3 in /usr/local/lib/python3.7/dist-packages (from pandas->astro-datasets) (2.8.2)\n",
            "Requirement already satisfied: pytz>=2017.3 in /usr/local/lib/python3.7/dist-packages (from pandas->astro-datasets) (2022.2.1)\n",
            "Requirement already satisfied: six>=1.5 in /usr/local/lib/python3.7/dist-packages (from python-dateutil>=2.7.3->pandas->astro-datasets) (1.15.0)\n",
            "Requirement already satisfied: tensorflow-estimator<2.9,>=2.8 in /usr/local/lib/python3.7/dist-packages (from tensorflow->astro-datasets) (2.8.0)\n",
            "Requirement already satisfied: libclang>=9.0.1 in /usr/local/lib/python3.7/dist-packages (from tensorflow->astro-datasets) (14.0.6)\n",
            "Requirement already satisfied: grpcio<2.0,>=1.24.3 in /usr/local/lib/python3.7/dist-packages (from tensorflow->astro-datasets) (1.47.0)\n",
            "Requirement already satisfied: h5py>=2.9.0 in /usr/local/lib/python3.7/dist-packages (from tensorflow->astro-datasets) (3.1.0)\n",
            "Requirement already satisfied: setuptools in /usr/local/lib/python3.7/dist-packages (from tensorflow->astro-datasets) (57.4.0)\n",
            "Requirement already satisfied: astunparse>=1.6.0 in /usr/local/lib/python3.7/dist-packages (from tensorflow->astro-datasets) (1.6.3)\n",
            "Requirement already satisfied: opt-einsum>=2.3.2 in /usr/local/lib/python3.7/dist-packages (from tensorflow->astro-datasets) (3.3.0)\n",
            "Requirement already satisfied: google-pasta>=0.1.1 in /usr/local/lib/python3.7/dist-packages (from tensorflow->astro-datasets) (0.2.0)\n",
            "Requirement already satisfied: keras-preprocessing>=1.1.1 in /usr/local/lib/python3.7/dist-packages (from tensorflow->astro-datasets) (1.1.2)\n",
            "Requirement already satisfied: termcolor>=1.1.0 in /usr/local/lib/python3.7/dist-packages (from tensorflow->astro-datasets) (1.1.0)\n",
            "Requirement already satisfied: tensorflow-io-gcs-filesystem>=0.23.1 in /usr/local/lib/python3.7/dist-packages (from tensorflow->astro-datasets) (0.26.0)\n",
            "Requirement already satisfied: typing-extensions>=3.6.6 in /usr/local/lib/python3.7/dist-packages (from tensorflow->astro-datasets) (4.1.1)\n",
            "Requirement already satisfied: wrapt>=1.11.0 in /usr/local/lib/python3.7/dist-packages (from tensorflow->astro-datasets) (1.14.1)\n",
            "Requirement already satisfied: keras<2.9,>=2.8.0rc0 in /usr/local/lib/python3.7/dist-packages (from tensorflow->astro-datasets) (2.8.0)\n",
            "Requirement already satisfied: absl-py>=0.4.0 in /usr/local/lib/python3.7/dist-packages (from tensorflow->astro-datasets) (1.2.0)\n",
            "Requirement already satisfied: gast>=0.2.1 in /usr/local/lib/python3.7/dist-packages (from tensorflow->astro-datasets) (0.5.3)\n",
            "Requirement already satisfied: protobuf<3.20,>=3.9.2 in /usr/local/lib/python3.7/dist-packages (from tensorflow->astro-datasets) (3.17.3)\n",
            "Requirement already satisfied: flatbuffers>=1.12 in /usr/local/lib/python3.7/dist-packages (from tensorflow->astro-datasets) (2.0)\n",
            "Requirement already satisfied: tensorboard<2.9,>=2.8 in /usr/local/lib/python3.7/dist-packages (from tensorflow->astro-datasets) (2.8.0)\n",
            "Requirement already satisfied: wheel<1.0,>=0.23.0 in /usr/local/lib/python3.7/dist-packages (from astunparse>=1.6.0->tensorflow->astro-datasets) (0.37.1)\n",
            "Requirement already satisfied: cached-property in /usr/local/lib/python3.7/dist-packages (from h5py>=2.9.0->tensorflow->astro-datasets) (1.5.2)\n",
            "Requirement already satisfied: tensorboard-plugin-wit>=1.6.0 in /usr/local/lib/python3.7/dist-packages (from tensorboard<2.9,>=2.8->tensorflow->astro-datasets) (1.8.1)\n",
            "Requirement already satisfied: google-auth-oauthlib<0.5,>=0.4.1 in /usr/local/lib/python3.7/dist-packages (from tensorboard<2.9,>=2.8->tensorflow->astro-datasets) (0.4.6)\n",
            "Requirement already satisfied: markdown>=2.6.8 in /usr/local/lib/python3.7/dist-packages (from tensorboard<2.9,>=2.8->tensorflow->astro-datasets) (3.4.1)\n",
            "Requirement already satisfied: google-auth<3,>=1.6.3 in /usr/local/lib/python3.7/dist-packages (from tensorboard<2.9,>=2.8->tensorflow->astro-datasets) (1.35.0)\n",
            "Requirement already satisfied: tensorboard-data-server<0.7.0,>=0.6.0 in /usr/local/lib/python3.7/dist-packages (from tensorboard<2.9,>=2.8->tensorflow->astro-datasets) (0.6.1)\n",
            "Requirement already satisfied: requests<3,>=2.21.0 in /usr/local/lib/python3.7/dist-packages (from tensorboard<2.9,>=2.8->tensorflow->astro-datasets) (2.23.0)\n",
            "Requirement already satisfied: werkzeug>=0.11.15 in /usr/local/lib/python3.7/dist-packages (from tensorboard<2.9,>=2.8->tensorflow->astro-datasets) (1.0.1)\n",
            "Requirement already satisfied: cachetools<5.0,>=2.0.0 in /usr/local/lib/python3.7/dist-packages (from google-auth<3,>=1.6.3->tensorboard<2.9,>=2.8->tensorflow->astro-datasets) (4.2.4)\n",
            "Requirement already satisfied: rsa<5,>=3.1.4 in /usr/local/lib/python3.7/dist-packages (from google-auth<3,>=1.6.3->tensorboard<2.9,>=2.8->tensorflow->astro-datasets) (4.9)\n",
            "Requirement already satisfied: pyasn1-modules>=0.2.1 in /usr/local/lib/python3.7/dist-packages (from google-auth<3,>=1.6.3->tensorboard<2.9,>=2.8->tensorflow->astro-datasets) (0.2.8)\n",
            "Requirement already satisfied: requests-oauthlib>=0.7.0 in /usr/local/lib/python3.7/dist-packages (from google-auth-oauthlib<0.5,>=0.4.1->tensorboard<2.9,>=2.8->tensorflow->astro-datasets) (1.3.1)\n",
            "Requirement already satisfied: importlib-metadata>=4.4 in /usr/local/lib/python3.7/dist-packages (from markdown>=2.6.8->tensorboard<2.9,>=2.8->tensorflow->astro-datasets) (4.12.0)\n",
            "Requirement already satisfied: zipp>=0.5 in /usr/local/lib/python3.7/dist-packages (from importlib-metadata>=4.4->markdown>=2.6.8->tensorboard<2.9,>=2.8->tensorflow->astro-datasets) (3.8.1)\n",
            "Requirement already satisfied: pyasn1<0.5.0,>=0.4.6 in /usr/local/lib/python3.7/dist-packages (from pyasn1-modules>=0.2.1->google-auth<3,>=1.6.3->tensorboard<2.9,>=2.8->tensorflow->astro-datasets) (0.4.8)\n",
            "Requirement already satisfied: idna<3,>=2.5 in /usr/local/lib/python3.7/dist-packages (from requests<3,>=2.21.0->tensorboard<2.9,>=2.8->tensorflow->astro-datasets) (2.10)\n",
            "Requirement already satisfied: chardet<4,>=3.0.2 in /usr/local/lib/python3.7/dist-packages (from requests<3,>=2.21.0->tensorboard<2.9,>=2.8->tensorflow->astro-datasets) (3.0.4)\n",
            "Requirement already satisfied: urllib3!=1.25.0,!=1.25.1,<1.26,>=1.21.1 in /usr/local/lib/python3.7/dist-packages (from requests<3,>=2.21.0->tensorboard<2.9,>=2.8->tensorflow->astro-datasets) (1.24.3)\n",
            "Requirement already satisfied: certifi>=2017.4.17 in /usr/local/lib/python3.7/dist-packages (from requests<3,>=2.21.0->tensorboard<2.9,>=2.8->tensorflow->astro-datasets) (2022.6.15)\n",
            "Requirement already satisfied: oauthlib>=3.0.0 in /usr/local/lib/python3.7/dist-packages (from requests-oauthlib>=0.7.0->google-auth-oauthlib<0.5,>=0.4.1->tensorboard<2.9,>=2.8->tensorflow->astro-datasets) (3.2.0)\n",
            "Requirement already satisfied: importlib-resources in /usr/local/lib/python3.7/dist-packages (from tensorflow_datasets->astro-datasets) (5.9.0)\n",
            "Requirement already satisfied: tqdm in /usr/local/lib/python3.7/dist-packages (from tensorflow_datasets->astro-datasets) (4.64.0)\n",
            "Requirement already satisfied: tensorflow-metadata in /usr/local/lib/python3.7/dist-packages (from tensorflow_datasets->astro-datasets) (1.9.0)\n",
            "Requirement already satisfied: etils[epath] in /usr/local/lib/python3.7/dist-packages (from tensorflow_datasets->astro-datasets) (0.7.1)\n",
            "Requirement already satisfied: promise in /usr/local/lib/python3.7/dist-packages (from tensorflow_datasets->astro-datasets) (2.3)\n",
            "Requirement already satisfied: toml in /usr/local/lib/python3.7/dist-packages (from tensorflow_datasets->astro-datasets) (0.10.2)\n",
            "Requirement already satisfied: dill in /usr/local/lib/python3.7/dist-packages (from tensorflow_datasets->astro-datasets) (0.3.5.1)\n",
            "Requirement already satisfied: googleapis-common-protos<2,>=1.52.0 in /usr/local/lib/python3.7/dist-packages (from tensorflow-metadata->tensorflow_datasets->astro-datasets) (1.56.4)\n",
            "Building wheels for collected packages: astro-datasets\n",
            "  Building wheel for astro-datasets (setup.py) ... \u001b[?25l\u001b[?25hdone\n",
            "  Created wheel for astro-datasets: filename=astro_datasets-0.0.10-py3-none-any.whl size=15992 sha256=762be962c0357e0d1fb61742ad9abc39cda8678fe3c4ea675b065e58a7f5799e\n",
            "  Stored in directory: /root/.cache/pip/wheels/33/b2/9d/97c264f6addbd178fe1c8ff119617e1515cb8c0d0f220605cf\n",
            "Successfully built astro-datasets\n",
            "Installing collected packages: astro-datasets\n",
            "Successfully installed astro-datasets-0.0.10\n",
            "Looking in indexes: https://pypi.org/simple, https://us-python.pkg.dev/colab-wheels/public/simple/\n",
            "Requirement already satisfied: tensorflow_datasets in /usr/local/lib/python3.7/dist-packages (4.6.0)\n",
            "Requirement already satisfied: requests>=2.19.0 in /usr/local/lib/python3.7/dist-packages (from tensorflow_datasets) (2.23.0)\n",
            "Requirement already satisfied: importlib-resources in /usr/local/lib/python3.7/dist-packages (from tensorflow_datasets) (5.9.0)\n",
            "Requirement already satisfied: numpy in /usr/local/lib/python3.7/dist-packages (from tensorflow_datasets) (1.21.6)\n",
            "Requirement already satisfied: typing-extensions in /usr/local/lib/python3.7/dist-packages (from tensorflow_datasets) (4.1.1)\n",
            "Requirement already satisfied: dill in /usr/local/lib/python3.7/dist-packages (from tensorflow_datasets) (0.3.5.1)\n",
            "Requirement already satisfied: six in /usr/local/lib/python3.7/dist-packages (from tensorflow_datasets) (1.15.0)\n",
            "Requirement already satisfied: termcolor in /usr/local/lib/python3.7/dist-packages (from tensorflow_datasets) (1.1.0)\n",
            "Requirement already satisfied: tqdm in /usr/local/lib/python3.7/dist-packages (from tensorflow_datasets) (4.64.0)\n",
            "Requirement already satisfied: absl-py in /usr/local/lib/python3.7/dist-packages (from tensorflow_datasets) (1.2.0)\n",
            "Requirement already satisfied: tensorflow-metadata in /usr/local/lib/python3.7/dist-packages (from tensorflow_datasets) (1.9.0)\n",
            "Requirement already satisfied: etils[epath] in /usr/local/lib/python3.7/dist-packages (from tensorflow_datasets) (0.7.1)\n",
            "Requirement already satisfied: promise in /usr/local/lib/python3.7/dist-packages (from tensorflow_datasets) (2.3)\n",
            "Requirement already satisfied: toml in /usr/local/lib/python3.7/dist-packages (from tensorflow_datasets) (0.10.2)\n",
            "Requirement already satisfied: protobuf>=3.12.2 in /usr/local/lib/python3.7/dist-packages (from tensorflow_datasets) (3.17.3)\n",
            "Requirement already satisfied: urllib3!=1.25.0,!=1.25.1,<1.26,>=1.21.1 in /usr/local/lib/python3.7/dist-packages (from requests>=2.19.0->tensorflow_datasets) (1.24.3)\n",
            "Requirement already satisfied: certifi>=2017.4.17 in /usr/local/lib/python3.7/dist-packages (from requests>=2.19.0->tensorflow_datasets) (2022.6.15)\n",
            "Requirement already satisfied: chardet<4,>=3.0.2 in /usr/local/lib/python3.7/dist-packages (from requests>=2.19.0->tensorflow_datasets) (3.0.4)\n",
            "Requirement already satisfied: idna<3,>=2.5 in /usr/local/lib/python3.7/dist-packages (from requests>=2.19.0->tensorflow_datasets) (2.10)\n",
            "Requirement already satisfied: zipp in /usr/local/lib/python3.7/dist-packages (from etils[epath]->tensorflow_datasets) (3.8.1)\n",
            "Requirement already satisfied: googleapis-common-protos<2,>=1.52.0 in /usr/local/lib/python3.7/dist-packages (from tensorflow-metadata->tensorflow_datasets) (1.56.4)\n"
          ]
        }
      ]
    },
    {
      "cell_type": "code",
      "source": [
        "shutil.rmtree('bnn_hmc', ignore_errors=True)"
      ],
      "metadata": {
        "id": "rgof0YRNNhjF"
      },
      "execution_count": 4,
      "outputs": []
    },
    {
      "cell_type": "code",
      "source": [
        "!git clone https://github.com/adammoss/bnn_hmc"
      ],
      "metadata": {
        "colab": {
          "base_uri": "https://localhost:8080/"
        },
        "id": "emPwFWJiNnJS",
        "outputId": "9249e4b8-3105-4564-bb05-a2e51c80ea7e"
      },
      "execution_count": 5,
      "outputs": [
        {
          "output_type": "stream",
          "name": "stdout",
          "text": [
            "Cloning into 'bnn_hmc'...\n",
            "remote: Enumerating objects: 499, done.\u001b[K\n",
            "remote: Counting objects: 100% (211/211), done.\u001b[K\n",
            "remote: Compressing objects: 100% (153/153), done.\u001b[K\n",
            "remote: Total 499 (delta 149), reused 93 (delta 58), pack-reused 288\u001b[K\n",
            "Receiving objects: 100% (499/499), 971.99 KiB | 3.48 MiB/s, done.\n",
            "Resolving deltas: 100% (343/343), done.\n"
          ]
        }
      ]
    },
    {
      "cell_type": "code",
      "source": [
        "!cd bnn_hmc && git checkout dropout_wip"
      ],
      "metadata": {
        "colab": {
          "base_uri": "https://localhost:8080/"
        },
        "id": "xtmi7zCNNuKH",
        "outputId": "00936f21-e84c-439c-bc1e-32d46c0c34e7"
      },
      "execution_count": 6,
      "outputs": [
        {
          "output_type": "stream",
          "name": "stdout",
          "text": [
            "Branch 'dropout_wip' set up to track remote branch 'dropout_wip' from 'origin'.\n",
            "Switched to a new branch 'dropout_wip'\n"
          ]
        }
      ]
    },
    {
      "cell_type": "code",
      "source": [
        "# https://storage.googleapis.com/jax-releases/jax_cuda_releases.html\n",
        "!pip install --upgrade https://storage.googleapis.com/jax-releases/cuda111/jaxlib-0.1.65+cuda111-cp37-none-manylinux2010_x86_64.whl\n",
        "!pip install jax==0.2.12\n",
        "!pip install dm-haiku==0.0.5.dev0 optax==0.0.6 chex==0.0.6"
      ],
      "metadata": {
        "colab": {
          "base_uri": "https://localhost:8080/"
        },
        "id": "vwH_X6vwNyaz",
        "outputId": "aeeaf580-ebc7-4d1a-b8b9-34dc09ed3a8e"
      },
      "execution_count": 7,
      "outputs": [
        {
          "output_type": "stream",
          "name": "stdout",
          "text": [
            "Looking in indexes: https://pypi.org/simple, https://us-python.pkg.dev/colab-wheels/public/simple/\n",
            "Collecting jaxlib==0.1.65+cuda111\n",
            "  Downloading https://storage.googleapis.com/jax-releases/cuda111/jaxlib-0.1.65+cuda111-cp37-none-manylinux2010_x86_64.whl (189.4 MB)\n",
            "\u001b[K     |████████████████████████████████| 189.4 MB 17 kB/s \n",
            "\u001b[?25hRequirement already satisfied: absl-py in /usr/local/lib/python3.7/dist-packages (from jaxlib==0.1.65+cuda111) (1.2.0)\n",
            "Requirement already satisfied: flatbuffers in /usr/local/lib/python3.7/dist-packages (from jaxlib==0.1.65+cuda111) (2.0)\n",
            "Requirement already satisfied: numpy>=1.16 in /usr/local/lib/python3.7/dist-packages (from jaxlib==0.1.65+cuda111) (1.21.6)\n",
            "Requirement already satisfied: scipy in /usr/local/lib/python3.7/dist-packages (from jaxlib==0.1.65+cuda111) (1.7.3)\n",
            "Installing collected packages: jaxlib\n",
            "  Attempting uninstall: jaxlib\n",
            "    Found existing installation: jaxlib 0.3.14+cuda11.cudnn805\n",
            "    Uninstalling jaxlib-0.3.14+cuda11.cudnn805:\n",
            "      Successfully uninstalled jaxlib-0.3.14+cuda11.cudnn805\n",
            "Successfully installed jaxlib-0.1.65+cuda111\n",
            "Looking in indexes: https://pypi.org/simple, https://us-python.pkg.dev/colab-wheels/public/simple/\n",
            "Collecting jax==0.2.12\n",
            "  Downloading jax-0.2.12.tar.gz (590 kB)\n",
            "\u001b[K     |████████████████████████████████| 590 kB 13.5 MB/s \n",
            "\u001b[?25hRequirement already satisfied: numpy>=1.12 in /usr/local/lib/python3.7/dist-packages (from jax==0.2.12) (1.21.6)\n",
            "Requirement already satisfied: absl-py in /usr/local/lib/python3.7/dist-packages (from jax==0.2.12) (1.2.0)\n",
            "Requirement already satisfied: opt_einsum in /usr/local/lib/python3.7/dist-packages (from jax==0.2.12) (3.3.0)\n",
            "Building wheels for collected packages: jax\n",
            "  Building wheel for jax (setup.py) ... \u001b[?25l\u001b[?25hdone\n",
            "  Created wheel for jax: filename=jax-0.2.12-py3-none-any.whl size=682487 sha256=c13fae0c7c70f5f44e764796f340c210c7b78c77885c03bf3b38d6a4c1c3fb4d\n",
            "  Stored in directory: /root/.cache/pip/wheels/f6/4d/e5/73eec5070b77f25664c67bd793d4eb97f41bbf9be7afafd15e\n",
            "Successfully built jax\n",
            "Installing collected packages: jax\n",
            "  Attempting uninstall: jax\n",
            "    Found existing installation: jax 0.3.14\n",
            "    Uninstalling jax-0.3.14:\n",
            "      Successfully uninstalled jax-0.3.14\n",
            "Successfully installed jax-0.2.12\n",
            "Looking in indexes: https://pypi.org/simple, https://us-python.pkg.dev/colab-wheels/public/simple/\n",
            "Collecting dm-haiku==0.0.5.dev0\n",
            "  Downloading dm_haiku-0.0.5.dev0-py3-none-any.whl (284 kB)\n",
            "\u001b[K     |████████████████████████████████| 284 kB 13.6 MB/s \n",
            "\u001b[?25hCollecting optax==0.0.6\n",
            "  Downloading optax-0.0.6-py3-none-any.whl (96 kB)\n",
            "\u001b[K     |████████████████████████████████| 96 kB 6.8 MB/s \n",
            "\u001b[?25hCollecting chex==0.0.6\n",
            "  Downloading chex-0.0.6-py3-none-any.whl (51 kB)\n",
            "\u001b[K     |████████████████████████████████| 51 kB 652 kB/s \n",
            "\u001b[?25hRequirement already satisfied: tabulate>=0.8.9 in /usr/local/lib/python3.7/dist-packages (from dm-haiku==0.0.5.dev0) (0.8.10)\n",
            "Requirement already satisfied: numpy>=1.18.0 in /usr/local/lib/python3.7/dist-packages (from dm-haiku==0.0.5.dev0) (1.21.6)\n",
            "Requirement already satisfied: typing-extensions in /usr/local/lib/python3.7/dist-packages (from dm-haiku==0.0.5.dev0) (4.1.1)\n",
            "Requirement already satisfied: absl-py>=0.7.1 in /usr/local/lib/python3.7/dist-packages (from dm-haiku==0.0.5.dev0) (1.2.0)\n",
            "Requirement already satisfied: jax>=0.1.55 in /usr/local/lib/python3.7/dist-packages (from optax==0.0.6) (0.2.12)\n",
            "Requirement already satisfied: jaxlib>=0.1.37 in /usr/local/lib/python3.7/dist-packages (from optax==0.0.6) (0.1.65+cuda111)\n",
            "Requirement already satisfied: toolz>=0.9.0 in /usr/local/lib/python3.7/dist-packages (from chex==0.0.6) (0.12.0)\n",
            "Requirement already satisfied: dm-tree>=0.1.5 in /usr/local/lib/python3.7/dist-packages (from chex==0.0.6) (0.1.7)\n",
            "Requirement already satisfied: opt-einsum in /usr/local/lib/python3.7/dist-packages (from jax>=0.1.55->optax==0.0.6) (3.3.0)\n",
            "Requirement already satisfied: scipy in /usr/local/lib/python3.7/dist-packages (from jaxlib>=0.1.37->optax==0.0.6) (1.7.3)\n",
            "Requirement already satisfied: flatbuffers in /usr/local/lib/python3.7/dist-packages (from jaxlib>=0.1.37->optax==0.0.6) (2.0)\n",
            "Installing collected packages: chex, optax, dm-haiku\n",
            "Successfully installed chex-0.0.6 dm-haiku-0.0.5.dev0 optax-0.0.6\n"
          ]
        }
      ]
    },
    {
      "cell_type": "code",
      "source": [
        "for i, root in enumerate(glob.glob('/content/runs/*/')):\n",
        "  shutil.rmtree(root, ignore_errors=True)"
      ],
      "metadata": {
        "id": "zHyF9LiXFaJ6"
      },
      "execution_count": 30,
      "outputs": []
    },
    {
      "cell_type": "code",
      "source": [
        "!python3 bnn_hmc/scripts/run_sgd.py --seed=0 --weight_decay=10 --dir=runs/sgd/mirabestc/ \\\n",
        "--dataset_name=mirabest/confident --model_name=lenet_dropout --init_step_size=3e-7 --num_epochs=200 --eval_freq=5 \\\n",
        "--batch_size=53 --save_freq=5 --optimizer=SGD --train_split=train[:80%] --test_split=train[80%:] --patience 10 --dropout_rate 0.1 --image_size=64"
      ],
      "metadata": {
        "colab": {
          "base_uri": "https://localhost:8080/"
        },
        "id": "iMNgd6oQN7cC",
        "outputId": "22c8674a-69f0-47a8-ef9a-8a40becf6d6d"
      },
      "execution_count": 31,
      "outputs": [
        {
          "output_type": "stream",
          "name": "stdout",
          "text": [
            "JAX sees the following devices: [GpuDevice(id=0, process_index=0)]\n",
            "TF sees the following devices: [PhysicalDevice(name='/physical_device:CPU:0', device_type='CPU')]\n",
            "Starting from random initialization with provided seed\n",
            "/content/bnn_hmc/bnn_hmc/utils/script_utils.py:153: VisibleDeprecationWarning: Creating an ndarray from ragged nested sequences (which is a list-or-tuple of lists-or-tuples-or ndarrays with different lengths or shapes) is deprecated. If you meant to do this, you must specify 'dtype=object' when creating the ndarray.\n",
            "  predict_fn(net_apply, params, net_state, test_set, key))\n",
            "/content/bnn_hmc/bnn_hmc/utils/script_utils.py:155: VisibleDeprecationWarning: Creating an ndarray from ragged nested sequences (which is a list-or-tuple of lists-or-tuples-or ndarrays with different lengths or shapes) is deprecated. If you meant to do this, you must specify 'dtype=object' when creating the ndarray.\n",
            "  predict_fn(net_apply, params, net_state, train_set, key))\n",
            "---  --------  ----------------  ---------------  ----------  -------------------  --------------  --------------  --------\n",
            "  i         t    train/accuracy    test/accuracy    test/nll  test/ens_accuracy    test/ens_nll    test/ens_ece          lr\n",
            "---  --------  ----------------  ---------------  ----------  -------------------  --------------  --------------  --------\n",
            "  0    2.5653            0.4923           0.5137      0.6853                                                         0.0000\n",
            "  1    0.0208            0.5334           0.4726      0.6882                                                         0.0000\n",
            "  2    0.0209            0.6295           0.6781      0.6711                                                         0.0000\n",
            "  3    0.0217            0.5575           0.5137      0.6745                                                         0.0000\n",
            "  4    0.0206            0.6141           0.5548      0.6672                                                         0.0000\n",
            "  5    0.0209            0.6895           0.5753      0.6603                                                         0.0000\n",
            "  6    0.0204            0.7307           0.6986      0.6524                                                         0.0000\n",
            "  7    0.0209            0.7444           0.5959      0.6483                                                         0.0000\n",
            "  8    0.0208            0.7547           0.6918      0.6400                                                         0.0000\n",
            "  9    0.0210            0.7393           0.6027      0.6447                                                         0.0000\n",
            " 10    0.0208            0.7770           0.7055      0.6362                                                         0.0000\n",
            " 11    0.0218            0.7136           0.5890      0.6429                                                         0.0000\n",
            " 12    0.0209            0.7650           0.6370      0.6259                                                         0.0000\n",
            " 13    0.0208            0.7650           0.7329      0.6224                                                         0.0000\n",
            " 14    0.0209            0.7530           0.6096      0.6272                                                         0.0000\n",
            " 15    0.0215            0.7959           0.7397      0.6131                                                         0.0000\n",
            " 16    0.0206            0.8130           0.7466      0.6083                                                         0.0000\n",
            " 17    0.0208            0.7959           0.7466      0.6035                                                         0.0000\n",
            " 18    0.0205            0.8182           0.7260      0.5937                                                         0.0000\n",
            " 19    0.0211            0.8182           0.7192      0.5916                                                         0.0000\n",
            " 20    0.0214            0.8027           0.7192      0.5895                                                         0.0000\n",
            " 21    0.0207            0.7736           0.7397      0.5932                                                         0.0000\n",
            " 22    0.0208            0.8113           0.6575      0.5838                                                         0.0000\n",
            " 23    0.0204            0.8319           0.7466      0.5706                                                         0.0000\n",
            " 24    0.0237            0.8233           0.6918      0.5720                                                         0.0000\n",
            " 25    0.0220            0.8148           0.7603      0.5743                                                         0.0000\n",
            " 26    0.0208            0.8268           0.6712      0.5700                                                         0.0000\n",
            " 27    0.0210            0.8285           0.7055      0.5631                                                         0.0000\n",
            " 28    0.0209            0.8353           0.7260      0.5502                                                         0.0000\n",
            " 29    0.0212            0.8165           0.7603      0.5596                                                         0.0000\n",
            " 30    0.0209            0.8353           0.7329      0.5522                                                         0.0000\n",
            " 31    0.0204            0.8113           0.6575      0.5703                                                         0.0000\n",
            " 32    0.0211            0.8370           0.7740      0.5434                                                         0.0000\n",
            " 33    0.0209            0.8576           0.7329      0.5398                                                         0.0000\n",
            " 34    0.0207            0.8679           0.7329      0.5332                                                         0.0000\n",
            " 35    0.0213            0.8576           0.7466      0.5312                                                         0.0000\n",
            " 36    0.0217            0.8491           0.6986      0.5398                                                         0.0000\n",
            " 37    0.0211            0.8748           0.7534      0.5213                                                         0.0000\n",
            " 38    0.0211            0.8508           0.7671      0.5255                                                         0.0000\n",
            " 39    0.0205            0.8388           0.7740      0.5313                                                         0.0000\n",
            "---  --------  ----------------  ---------------  ----------  -------------------  --------------  --------------  --------\n",
            "  i         t    train/accuracy    test/accuracy    test/nll  test/ens_accuracy    test/ens_nll    test/ens_ece          lr\n",
            "---  --------  ----------------  ---------------  ----------  -------------------  --------------  --------------  --------\n",
            " 40    0.0208            0.8611           0.7192      0.5246                                                         0.0000\n",
            " 41    0.0207            0.8696           0.7808      0.5099                                                         0.0000\n",
            " 42    0.0209            0.8679           0.7192      0.5185                                                         0.0000\n",
            " 43    0.0210            0.8662           0.7123      0.5166                                                         0.0000\n",
            " 44    0.0209            0.8542           0.7877      0.5114                                                         0.0000\n",
            " 45    0.0211            0.8731           0.7808      0.5028                                                         0.0000\n",
            " 46    0.0207            0.9005           0.7808      0.4939                                                         0.0000\n",
            " 47    0.0217            0.9005           0.7808      0.4916                                                         0.0000\n",
            " 48    0.0209            0.8782           0.7466      0.5032                                                         0.0000\n",
            " 49    0.0212            0.8714           0.7808      0.4977                                                         0.0000\n",
            " 50    0.0209            0.8593           0.7192      0.5143                                                         0.0000\n",
            " 51    0.0209            0.8919           0.7534      0.4913                                                         0.0000\n",
            " 52    0.0209            0.8782           0.8014      0.4892                                                         0.0000\n",
            " 53    0.0211            0.8645           0.7877      0.4931                                                         0.0000\n",
            " 54    0.0207            0.8782           0.7397      0.4966                                                         0.0000\n",
            " 55    0.0215            0.8902           0.7603      0.4804                                                         0.0000\n",
            " 56    0.0198            0.8525           0.7945      0.5045                                                         0.0000\n",
            " 57    0.0210            0.8782           0.8082      0.4843                                                         0.0000\n",
            " 58    0.0209            0.9022           0.7877      0.4700                                                         0.0000\n",
            " 59    0.0218            0.8937           0.7671      0.4762                                                         0.0000\n",
            " 60    0.0228            0.8988           0.8082      0.4674                                                         0.0000\n",
            " 61    0.0231            0.8868           0.8014      0.4702                                                         0.0000\n",
            " 62    0.0225            0.9005           0.7740      0.4674                                                         0.0000\n",
            " 63    0.0230            0.8593           0.7740      0.4865                                                         0.0000\n",
            " 64    0.0223            0.8834           0.7397      0.4861                                                         0.0000\n",
            " 65    0.0225            0.9039           0.7877      0.4633                                                         0.0000\n",
            " 66    0.0230            0.9057           0.7808      0.4669                                                         0.0000\n",
            " 67    0.0222            0.8937           0.7945      0.4624                                                         0.0000\n",
            " 68    0.0224            0.8988           0.7671      0.4676                                                         0.0000\n",
            " 69    0.0227            0.8885           0.7603      0.4698                                                         0.0000\n",
            " 70    0.0227            0.9091           0.8288      0.4467                                                         0.0000\n",
            " 71    0.0233            0.8799           0.8151      0.4609                                                         0.0000\n",
            " 72    0.0235            0.8611           0.8219      0.4764                                                         0.0000\n",
            " 73    0.0227            0.9057           0.7671      0.4523                                                         0.0000\n",
            " 74    0.0226            0.9091           0.7808      0.4532                                                         0.0000\n",
            " 75    0.0226            0.8834           0.8082      0.4549                                                         0.0000\n",
            " 76    0.0227            0.9022           0.7808      0.4534                                                         0.0000\n",
            " 77    0.0225            0.9057           0.8014      0.4423                                                         0.0000\n",
            " 78    0.0222            0.8971           0.8151      0.4429                                                         0.0000\n",
            " 79    0.0226            0.9091           0.8014      0.4406                                                         0.0000\n",
            "---  --------  ----------------  ---------------  ----------  -------------------  --------------  --------------  --------\n",
            "  i         t    train/accuracy    test/accuracy    test/nll  test/ens_accuracy    test/ens_nll    test/ens_ece          lr\n",
            "---  --------  ----------------  ---------------  ----------  -------------------  --------------  --------------  --------\n",
            " 80    0.0237            0.8954           0.8151      0.4438                                                         0.0000\n",
            " 81    0.0226            0.8971           0.8151      0.4409                                                         0.0000\n",
            " 82    0.0226            0.8816           0.8082      0.4450                                                         0.0000\n",
            " 83    0.0225            0.8954           0.8151      0.4360                                                         0.0000\n",
            " 84    0.0224            0.9142           0.8219      0.4243                                                         0.0000\n",
            " 85    0.0225            0.9057           0.7877      0.4316                                                         0.0000\n",
            " 86    0.0228            0.8919           0.8493      0.4354                                                         0.0000\n",
            " 87    0.0222            0.9160           0.8082      0.4266                                                         0.0000\n",
            " 88    0.0226            0.9074           0.8288      0.4290                                                         0.0000\n",
            " 89    0.0224            0.9108           0.7945      0.4344                                                         0.0000\n",
            " 90    0.0227            0.9039           0.8219      0.4295                                                         0.0000\n",
            " 91    0.0231            0.9022           0.8288      0.4299                                                         0.0000\n",
            " 92    0.0228            0.9074           0.8288      0.4267                                                         0.0000\n",
            " 93    0.0229            0.9211           0.8219      0.4197                                                         0.0000\n",
            " 94    0.0224            0.9108           0.7945      0.4227                                                         0.0000\n",
            " 95    0.0223            0.9142           0.7877      0.4262                                                         0.0000\n",
            " 96    0.0222            0.8628           0.8219      0.4587                                                         0.0000\n",
            " 97    0.0227            0.9142           0.7740      0.4396                                                         0.0000\n",
            " 98    0.0234            0.9177           0.8219      0.4231                                                         0.0000\n",
            " 99    0.0226            0.9177           0.7945      0.4244                                                         0.0000\n",
            "100    0.0226            0.9177           0.7808      0.4248                                                         0.0000\n",
            "101    0.0229            0.9245           0.8219      0.4126                                                         0.0000\n",
            "102    0.0226            0.9211           0.7808      0.4181                                                         0.0000\n",
            "103    0.0234            0.9160           0.8151      0.4186                                                         0.0000\n",
            "104    0.0228            0.9160           0.8356      0.4204                                                         0.0000\n",
            "105    0.0230            0.9194           0.8288      0.4177                                                         0.0000\n",
            "106    0.0225            0.9194           0.8014      0.4154                                                         0.0000\n",
            "107    0.0235            0.9211           0.8082      0.4144                                                         0.0000\n",
            "108    0.0227            0.9228           0.7877      0.4217                                                         0.0000\n",
            "109    0.0232            0.9074           0.8356      0.4153                                                         0.0000\n",
            "110    0.0230            0.9211           0.8288      0.4095                                                         0.0000\n",
            "111    0.0225            0.9142           0.7740      0.4168                                                         0.0000\n",
            "112    0.0226            0.9228           0.8356      0.4082                                                         0.0000\n",
            "113    0.0221            0.9297           0.8014      0.4099                                                         0.0000\n",
            "114    0.0222            0.9280           0.8356      0.4076                                                         0.0000\n",
            "115    0.0229            0.9297           0.8288      0.4089                                                         0.0000\n",
            "116    0.0229            0.9280           0.8014      0.4119                                                         0.0000\n",
            "117    0.0225            0.9228           0.8288      0.4109                                                         0.0000\n",
            "118    0.0234            0.9194           0.8151      0.4121                                                         0.0000\n",
            "119    0.0230            0.9211           0.7945      0.4135                                                         0.0000\n",
            "---  --------  ----------------  ---------------  ----------  -------------------  --------------  --------------  --------\n",
            "  i         t    train/accuracy    test/accuracy    test/nll  test/ens_accuracy    test/ens_nll    test/ens_ece          lr\n",
            "---  --------  ----------------  ---------------  ----------  -------------------  --------------  --------------  --------\n",
            "120    0.0234            0.8902           0.8630      0.4303                                                         0.0000\n",
            "121    0.0224            0.9142           0.7945      0.4238                                                         0.0000\n",
            "122    0.0226            0.8954           0.8562      0.4215                                                         0.0000\n",
            "123    0.0223            0.9245           0.8082      0.4083                                                         0.0000\n",
            "124    0.0230            0.9228           0.7877      0.4147                                                         0.0000\n",
            "125    0.0228            0.9262           0.8288      0.4064                                                         0.0000\n",
            "126    0.0228            0.9245           0.7877      0.4146                                                         0.0000\n",
            "127    0.0228            0.9091           0.8425      0.4175                                                         0.0000\n",
            "128    0.0236            0.9177           0.7740      0.4167                                                         0.0000\n",
            "129    0.0224            0.9280           0.8288      0.4062                                                         0.0000\n",
            "130    0.0232            0.9280           0.8288      0.4047                                                         0.0000\n",
            "131    0.0228            0.9331           0.8014      0.4073                                                         0.0000\n",
            "132    0.0232            0.9331           0.7877      0.4078                                                         0.0000\n",
            "133    0.0229            0.9245           0.8356      0.4065                                                         0.0000\n",
            "134    0.0228            0.9211           0.8356      0.4082                                                         0.0000\n",
            "135    0.0226            0.9211           0.7945      0.4135                                                         0.0000\n",
            "136    0.0228            0.9348           0.8082      0.4022                                                         0.0000\n",
            "137    0.0222            0.9365           0.8151      0.4004                                                         0.0000\n",
            "138    0.0227            0.9297           0.7808      0.4047                                                         0.0000\n",
            "139    0.0221            0.9280           0.8356      0.4020                                                         0.0000\n",
            "140    0.0226            0.9314           0.8151      0.4042                                                         0.0000\n",
            "141    0.0223            0.9211           0.8356      0.4063                                                         0.0000\n",
            "142    0.0226            0.9331           0.7945      0.4071                                                         0.0000\n",
            "143    0.0224            0.9228           0.7740      0.4120                                                         0.0000\n",
            "144    0.0228            0.9348           0.8219      0.4044                                                         0.0000\n",
            "145    0.0242            0.9331           0.8151      0.4033                                                         0.0000\n",
            "146    0.0228            0.9348           0.8014      0.4033                                                         0.0000\n",
            "147    0.0225            0.9331           0.8151      0.4015                                                         0.0000\n"
          ]
        }
      ]
    },
    {
      "cell_type": "code",
      "source": [
        "!python3 bnn_hmc/scripts/run_sgd.py --seed=0 --weight_decay=10 --dir=runs/sgd/mirabestc/ \\\n",
        "--dataset_name=mirabest/confident --model_name=lenet_dropout --init_step_size=3e-7 --num_epochs=200 --eval_freq=5 \\\n",
        "--batch_size=53 --save_freq=5 --optimizer=SGD --eval_split=test --repeats 10 --dropout_rate 0.1 --image_size=64"
      ],
      "metadata": {
        "colab": {
          "base_uri": "https://localhost:8080/"
        },
        "id": "EsneCfTdOEXr",
        "outputId": "76b24c64-bf7b-4fec-e39d-a135c6f002d3"
      },
      "execution_count": 32,
      "outputs": [
        {
          "output_type": "stream",
          "name": "stdout",
          "text": [
            "JAX sees the following devices: [GpuDevice(id=0, process_index=0)]\n",
            "TF sees the following devices: [PhysicalDevice(name='/physical_device:CPU:0', device_type='CPU')]\n",
            "Continuing the run from the last saved checkpoint\n",
            "bnn_hmc/scripts/run_sgd.py:188: VisibleDeprecationWarning: Creating an ndarray from ragged nested sequences (which is a list-or-tuple of lists-or-tuples-or ndarrays with different lengths or shapes) is deprecated. If you meant to do this, you must specify 'dtype=object' when creating the ndarray.\n",
            "  predict_fn(net_apply, params, net_state, test_set, key))\n",
            "{'accuracy': DeviceArray(0.7980769, dtype=float32), 'nll': 0.42368758, 'ece': DeviceArray(0.12928662, dtype=float32)}\n",
            "{'accuracy': DeviceArray(0.82692313, dtype=float32), 'nll': 0.40749693, 'ece': DeviceArray(0.10266504, dtype=float32)}\n",
            "{'accuracy': DeviceArray(0.7788462, dtype=float32), 'nll': 0.4359023, 'ece': DeviceArray(0.11005834, dtype=float32)}\n",
            "{'accuracy': DeviceArray(0.78846157, dtype=float32), 'nll': 0.43548253, 'ece': DeviceArray(0.09992589, dtype=float32)}\n",
            "{'accuracy': DeviceArray(0.78846157, dtype=float32), 'nll': 0.42939276, 'ece': DeviceArray(0.09764922, dtype=float32)}\n",
            "{'accuracy': DeviceArray(0.7788462, dtype=float32), 'nll': 0.47164187, 'ece': DeviceArray(0.13677299, dtype=float32)}\n",
            "{'accuracy': DeviceArray(0.7980769, dtype=float32), 'nll': 0.39923245, 'ece': DeviceArray(0.10101091, dtype=float32)}\n",
            "{'accuracy': DeviceArray(0.82692313, dtype=float32), 'nll': 0.40050396, 'ece': DeviceArray(0.07189962, dtype=float32)}\n",
            "{'accuracy': DeviceArray(0.7596154, dtype=float32), 'nll': 0.43346235, 'ece': DeviceArray(0.07265346, dtype=float32)}\n",
            "{'accuracy': DeviceArray(0.78846157, dtype=float32), 'nll': 0.4168779, 'ece': DeviceArray(0.08627478, dtype=float32)}\n"
          ]
        }
      ]
    },
    {
      "cell_type": "code",
      "source": [
        "softmax = []\n",
        "for i, root in enumerate(glob.glob('/content/runs/sgd/mirabestc/*/predictions*npy')):\n",
        "  data = np.load(root.replace('predictions', 'test_set')) \n",
        "  prediction = np.load(root)\n",
        "  metrics = np.load(root.replace('predictions', 'metrics'), allow_pickle=True)\n",
        "  print(metrics)\n",
        "  softmax.append(np.squeeze(prediction))\n",
        "softmax = np.array(softmax)"
      ],
      "metadata": {
        "colab": {
          "base_uri": "https://localhost:8080/"
        },
        "id": "4T-FRBg69f4g",
        "outputId": "b889eae0-4654-488e-aa87-711f6a34e1c9"
      },
      "execution_count": 33,
      "outputs": [
        {
          "output_type": "stream",
          "name": "stdout",
          "text": [
            "{'accuracy': array(0.78846157, dtype=float32), 'nll': 0.43548253, 'ece': array(0.09992589, dtype=float32)}\n",
            "{'accuracy': array(0.82692313, dtype=float32), 'nll': 0.40749693, 'ece': array(0.10266504, dtype=float32)}\n",
            "{'accuracy': array(0.78846157, dtype=float32), 'nll': 0.4168779, 'ece': array(0.08627478, dtype=float32)}\n",
            "{'accuracy': array(0.7788462, dtype=float32), 'nll': 0.47164187, 'ece': array(0.13677299, dtype=float32)}\n",
            "{'accuracy': array(0.7788462, dtype=float32), 'nll': 0.4359023, 'ece': array(0.11005834, dtype=float32)}\n",
            "{'accuracy': array(0.7596154, dtype=float32), 'nll': 0.43346235, 'ece': array(0.07265346, dtype=float32)}\n",
            "{'accuracy': array(0.82692313, dtype=float32), 'nll': 0.40050396, 'ece': array(0.07189962, dtype=float32)}\n",
            "{'accuracy': array(0.78846157, dtype=float32), 'nll': 0.42939276, 'ece': array(0.09764922, dtype=float32)}\n",
            "{'accuracy': array(0.7980769, dtype=float32), 'nll': 0.39923245, 'ece': array(0.10101091, dtype=float32)}\n",
            "{'accuracy': array(0.7980769, dtype=float32), 'nll': 0.42368758, 'ece': array(0.12928662, dtype=float32)}\n"
          ]
        }
      ]
    },
    {
      "cell_type": "code",
      "source": [
        "mean_softmax = np.mean(softmax, axis=0)\n",
        "ensemble_accuracy = np.mean(np.argmax(mean_softmax, axis=-1) == data)\n",
        "print('Ensemble accuracy', ensemble_accuracy)"
      ],
      "metadata": {
        "colab": {
          "base_uri": "https://localhost:8080/"
        },
        "id": "HkvBd_wYDlXb",
        "outputId": "a38c5bca-0914-4e85-c761-b48c2afcd220"
      },
      "execution_count": 34,
      "outputs": [
        {
          "output_type": "stream",
          "name": "stdout",
          "text": [
            "Ensemble accuracy 0.8173076923076923\n"
          ]
        }
      ]
    },
    {
      "cell_type": "code",
      "source": [
        "def uncertainty(softmax):\n",
        "  # Per example softmax with shape(num_examples, num_classes)\n",
        "  predictive_entropy = 0\n",
        "  single_pass_entropy = 0\n",
        "  for i in range(softmax.shape[1]):\n",
        "    # Sum over classes\n",
        "    predictive_entropy += -np.mean(softmax[:,i])*np.log(np.mean(softmax[:,i]))\n",
        "    single_pass_entropy += -softmax[:,i]*np.log(softmax[:,i])\n",
        "  single_pass_entropy = np.mean(single_pass_entropy)\n",
        "  mutual_info = predictive_entropy - single_pass_entropy\n",
        "  return predictive_entropy, single_pass_entropy, mutual_info"
      ],
      "metadata": {
        "id": "-rGuT8ImChqs"
      },
      "execution_count": 35,
      "outputs": []
    },
    {
      "cell_type": "code",
      "source": [
        "predictive_entropies = [] \n",
        "single_pass_entropies = []\n",
        "mutual_infos = []\n",
        "for i in range(softmax.shape[1]):\n",
        "  predictive_entropy, single_pass_entropy, mutual_info = uncertainty(softmax[:,i,:])\n",
        "  predictive_entropies.append(predictive_entropy)\n",
        "  single_pass_entropies.append(single_pass_entropy)\n",
        "  mutual_infos.append(mutual_info)\n",
        "print('Predictive entropy:', np.mean(predictive_entropies), np.std(predictive_entropies))\n",
        "print('Single pass entropy:', np.mean(single_pass_entropies), np.std(single_pass_entropies))\n",
        "print('Mutual info:', np.mean(mutual_infos), np.std(mutual_infos))"
      ],
      "metadata": {
        "colab": {
          "base_uri": "https://localhost:8080/"
        },
        "id": "hxbrzrl1CuNJ",
        "outputId": "7bc09f17-e710-4f08-8480-473ed1b25304"
      },
      "execution_count": 36,
      "outputs": [
        {
          "output_type": "stream",
          "name": "stdout",
          "text": [
            "Predictive entropy: 0.4766870346267332 0.18460015952918946\n",
            "Single pass entropy: 0.41631457 0.16598146\n",
            "Mutual info: 0.06037243846423315 0.04724010846464461\n"
          ]
        }
      ]
    },
    {
      "cell_type": "code",
      "source": [
        "sns.boxplot(predictive_entropies)\n",
        "plt.show()"
      ],
      "metadata": {
        "colab": {
          "base_uri": "https://localhost:8080/",
          "height": 321
        },
        "id": "Li9H5hVCCwXr",
        "outputId": "5b261479-f4e1-43b3-8750-00fe8caa6a1b"
      },
      "execution_count": 37,
      "outputs": [
        {
          "output_type": "stream",
          "name": "stderr",
          "text": [
            "/usr/local/lib/python3.7/dist-packages/seaborn/_decorators.py:43: FutureWarning: Pass the following variable as a keyword arg: x. From version 0.12, the only valid positional argument will be `data`, and passing other arguments without an explicit keyword will result in an error or misinterpretation.\n",
            "  FutureWarning\n"
          ]
        },
        {
          "output_type": "display_data",
          "data": {
            "text/plain": [
              "<Figure size 432x288 with 1 Axes>"
            ],
            "image/png": "[encoded data removed]"
          },
          "metadata": {
            "needs_background": "light"
          }
        }
      ]
    },
    {
      "cell_type": "code",
      "source": [
        "sns.boxplot(single_pass_entropies)\n",
        "plt.show()"
      ],
      "metadata": {
        "colab": {
          "base_uri": "https://localhost:8080/",
          "height": 321
        },
        "id": "Teyj6WXSCyge",
        "outputId": "81a65acb-38df-4b2f-e20f-4ddcbc61924e"
      },
      "execution_count": 38,
      "outputs": [
        {
          "output_type": "stream",
          "name": "stderr",
          "text": [
            "/usr/local/lib/python3.7/dist-packages/seaborn/_decorators.py:43: FutureWarning: Pass the following variable as a keyword arg: x. From version 0.12, the only valid positional argument will be `data`, and passing other arguments without an explicit keyword will result in an error or misinterpretation.\n",
            "  FutureWarning\n"
          ]
        },
        {
          "output_type": "display_data",
          "data": {
            "text/plain": [
              "<Figure size 432x288 with 1 Axes>"
            ],
            "image/png": "[encoded data removed]"
          },
          "metadata": {
            "needs_background": "light"
          }
        }
      ]
    },
    {
      "cell_type": "code",
      "source": [
        "sns.boxplot(mutual_infos)\n",
        "plt.show()"
      ],
      "metadata": {
        "colab": {
          "base_uri": "https://localhost:8080/",
          "height": 321
        },
        "id": "mQu6a2PaC7lX",
        "outputId": "7a3dbc13-feb2-4b00-cfcf-a54e2cdda008"
      },
      "execution_count": 39,
      "outputs": [
        {
          "output_type": "stream",
          "name": "stderr",
          "text": [
            "/usr/local/lib/python3.7/dist-packages/seaborn/_decorators.py:43: FutureWarning: Pass the following variable as a keyword arg: x. From version 0.12, the only valid positional argument will be `data`, and passing other arguments without an explicit keyword will result in an error or misinterpretation.\n",
            "  FutureWarning\n"
          ]
        },
        {
          "output_type": "display_data",
          "data": {
            "text/plain": [
              "<Figure size 432x288 with 1 Axes>"
            ],
            "image/png": "[encoded data removed]"
          },
          "metadata": {
            "needs_background": "light"
          }
        }
      ]
    },
    {
      "cell_type": "code",
      "source": [
        ""
      ],
      "metadata": {
        "id": "DfvTarcAC_3J"
      },
      "execution_count": 16,
      "outputs": []
    }
  ]
}
