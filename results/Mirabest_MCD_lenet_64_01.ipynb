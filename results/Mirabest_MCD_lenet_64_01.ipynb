{
  "nbformat": 4,
  "nbformat_minor": 0,
  "metadata": {
    "colab": {
      "name": "Mirabest_MCD_lenet_64_01.ipynb",
      "provenance": [],
      "authorship_tag": "ABX9TyOUzPWFFsvJdBzzgutZu20H",
      "include_colab_link": true
    },
    "kernelspec": {
      "name": "python3",
      "display_name": "Python 3"
    },
    "language_info": {
      "name": "python"
    },
    "accelerator": "GPU",
    "gpuClass": "standard"
  },
  "cells": [
    {
      "cell_type": "markdown",
      "metadata": {
        "id": "view-in-github",
        "colab_type": "text"
      },
      "source": [
        "<a href=\"https://colab.research.google.com/github/adammoss/bnn_hmc/blob/main/results/Mirabest_MCD_lenet_64_01.ipynb\" target=\"_parent\"><img src=\"https://colab.research.google.com/assets/colab-badge.svg\" alt=\"Open In Colab\"/></a>"
      ]
    },
    {
      "cell_type": "code",
      "execution_count": 19,
      "metadata": {
        "id": "0PUrQk-IMK41"
      },
      "outputs": [],
      "source": [
        "import os\n",
        "import sys\n",
        "import shutil\n",
        "import subprocess\n",
        "import glob\n",
        "import matplotlib.pyplot as plt\n",
        "import seaborn as sns\n",
        "import numpy as np"
      ]
    },
    {
      "cell_type": "code",
      "source": [
        "!nvidia-smi"
      ],
      "metadata": {
        "colab": {
          "base_uri": "https://localhost:8080/"
        },
        "id": "Aet_Ao9MMyDo",
        "outputId": "8300f501-7014-468b-c141-110c9076290e"
      },
      "execution_count": 20,
      "outputs": [
        {
          "output_type": "stream",
          "name": "stdout",
          "text": [
            "Mon Sep  5 22:10:54 2022       \n",
            "+-----------------------------------------------------------------------------+\n",
            "| NVIDIA-SMI 460.32.03    Driver Version: 460.32.03    CUDA Version: 11.2     |\n",
            "|-------------------------------+----------------------+----------------------+\n",
            "| GPU  Name        Persistence-M| Bus-Id        Disp.A | Volatile Uncorr. ECC |\n",
            "| Fan  Temp  Perf  Pwr:Usage/Cap|         Memory-Usage | GPU-Util  Compute M. |\n",
            "|                               |                      |               MIG M. |\n",
            "|===============================+======================+======================|\n",
            "|   0  Tesla V100-SXM2...  Off  | 00000000:00:04.0 Off |                    0 |\n",
            "| N/A   40C    P0    24W / 300W |      0MiB / 16160MiB |      0%      Default |\n",
            "|                               |                      |                  N/A |\n",
            "+-------------------------------+----------------------+----------------------+\n",
            "                                                                               \n",
            "+-----------------------------------------------------------------------------+\n",
            "| Processes:                                                                  |\n",
            "|  GPU   GI   CI        PID   Type   Process name                  GPU Memory |\n",
            "|        ID   ID                                                   Usage      |\n",
            "|=============================================================================|\n",
            "|  No running processes found                                                 |\n",
            "+-----------------------------------------------------------------------------+\n"
          ]
        }
      ]
    },
    {
      "cell_type": "code",
      "source": [
        "!pip install astro-datasets --upgrade\n",
        "!pip install tensorflow_datasets --upgrade"
      ],
      "metadata": {
        "colab": {
          "base_uri": "https://localhost:8080/"
        },
        "id": "Us-4go3IM7mU",
        "outputId": "9e061652-dd45-4d41-d71f-b3a25fae019a"
      },
      "execution_count": 21,
      "outputs": [
        {
          "output_type": "stream",
          "name": "stdout",
          "text": [
            "Looking in indexes: https://pypi.org/simple, https://us-python.pkg.dev/colab-wheels/public/simple/\n",
            "Requirement already satisfied: astro-datasets in /usr/local/lib/python3.7/dist-packages (0.0.10)\n",
            "Requirement already satisfied: tensorflow-datasets in /usr/local/lib/python3.7/dist-packages (from astro-datasets) (4.6.0)\n",
            "Requirement already satisfied: numpy in /usr/local/lib/python3.7/dist-packages (from astro-datasets) (1.21.6)\n",
            "Requirement already satisfied: pandas in /usr/local/lib/python3.7/dist-packages (from astro-datasets) (1.3.5)\n",
            "Requirement already satisfied: tensorflow in /usr/local/lib/python3.7/dist-packages (from astro-datasets) (2.8.2+zzzcolab20220719082949)\n",
            "Requirement already satisfied: pytz>=2017.3 in /usr/local/lib/python3.7/dist-packages (from pandas->astro-datasets) (2022.2.1)\n",
            "Requirement already satisfied: python-dateutil>=2.7.3 in /usr/local/lib/python3.7/dist-packages (from pandas->astro-datasets) (2.8.2)\n",
            "Requirement already satisfied: six>=1.5 in /usr/local/lib/python3.7/dist-packages (from python-dateutil>=2.7.3->pandas->astro-datasets) (1.15.0)\n",
            "Requirement already satisfied: termcolor>=1.1.0 in /usr/local/lib/python3.7/dist-packages (from tensorflow->astro-datasets) (1.1.0)\n",
            "Requirement already satisfied: tensorflow-io-gcs-filesystem>=0.23.1 in /usr/local/lib/python3.7/dist-packages (from tensorflow->astro-datasets) (0.26.0)\n",
            "Requirement already satisfied: libclang>=9.0.1 in /usr/local/lib/python3.7/dist-packages (from tensorflow->astro-datasets) (14.0.6)\n",
            "Requirement already satisfied: tensorboard<2.9,>=2.8 in /usr/local/lib/python3.7/dist-packages (from tensorflow->astro-datasets) (2.8.0)\n",
            "Requirement already satisfied: keras<2.9,>=2.8.0rc0 in /usr/local/lib/python3.7/dist-packages (from tensorflow->astro-datasets) (2.8.0)\n",
            "Requirement already satisfied: flatbuffers>=1.12 in /usr/local/lib/python3.7/dist-packages (from tensorflow->astro-datasets) (2.0.7)\n",
            "Requirement already satisfied: google-pasta>=0.1.1 in /usr/local/lib/python3.7/dist-packages (from tensorflow->astro-datasets) (0.2.0)\n",
            "Requirement already satisfied: setuptools in /usr/local/lib/python3.7/dist-packages (from tensorflow->astro-datasets) (57.4.0)\n",
            "Requirement already satisfied: protobuf<3.20,>=3.9.2 in /usr/local/lib/python3.7/dist-packages (from tensorflow->astro-datasets) (3.17.3)\n",
            "Requirement already satisfied: h5py>=2.9.0 in /usr/local/lib/python3.7/dist-packages (from tensorflow->astro-datasets) (3.1.0)\n",
            "Requirement already satisfied: grpcio<2.0,>=1.24.3 in /usr/local/lib/python3.7/dist-packages (from tensorflow->astro-datasets) (1.47.0)\n",
            "Requirement already satisfied: wrapt>=1.11.0 in /usr/local/lib/python3.7/dist-packages (from tensorflow->astro-datasets) (1.14.1)\n",
            "Requirement already satisfied: astunparse>=1.6.0 in /usr/local/lib/python3.7/dist-packages (from tensorflow->astro-datasets) (1.6.3)\n",
            "Requirement already satisfied: absl-py>=0.4.0 in /usr/local/lib/python3.7/dist-packages (from tensorflow->astro-datasets) (1.2.0)\n",
            "Requirement already satisfied: keras-preprocessing>=1.1.1 in /usr/local/lib/python3.7/dist-packages (from tensorflow->astro-datasets) (1.1.2)\n",
            "Requirement already satisfied: typing-extensions>=3.6.6 in /usr/local/lib/python3.7/dist-packages (from tensorflow->astro-datasets) (4.1.1)\n",
            "Requirement already satisfied: gast>=0.2.1 in /usr/local/lib/python3.7/dist-packages (from tensorflow->astro-datasets) (0.5.3)\n",
            "Requirement already satisfied: tensorflow-estimator<2.9,>=2.8 in /usr/local/lib/python3.7/dist-packages (from tensorflow->astro-datasets) (2.8.0)\n",
            "Requirement already satisfied: opt-einsum>=2.3.2 in /usr/local/lib/python3.7/dist-packages (from tensorflow->astro-datasets) (3.3.0)\n",
            "Requirement already satisfied: wheel<1.0,>=0.23.0 in /usr/local/lib/python3.7/dist-packages (from astunparse>=1.6.0->tensorflow->astro-datasets) (0.37.1)\n",
            "Requirement already satisfied: cached-property in /usr/local/lib/python3.7/dist-packages (from h5py>=2.9.0->tensorflow->astro-datasets) (1.5.2)\n",
            "Requirement already satisfied: markdown>=2.6.8 in /usr/local/lib/python3.7/dist-packages (from tensorboard<2.9,>=2.8->tensorflow->astro-datasets) (3.4.1)\n",
            "Requirement already satisfied: google-auth-oauthlib<0.5,>=0.4.1 in /usr/local/lib/python3.7/dist-packages (from tensorboard<2.9,>=2.8->tensorflow->astro-datasets) (0.4.6)\n",
            "Requirement already satisfied: tensorboard-plugin-wit>=1.6.0 in /usr/local/lib/python3.7/dist-packages (from tensorboard<2.9,>=2.8->tensorflow->astro-datasets) (1.8.1)\n",
            "Requirement already satisfied: requests<3,>=2.21.0 in /usr/local/lib/python3.7/dist-packages (from tensorboard<2.9,>=2.8->tensorflow->astro-datasets) (2.23.0)\n",
            "Requirement already satisfied: tensorboard-data-server<0.7.0,>=0.6.0 in /usr/local/lib/python3.7/dist-packages (from tensorboard<2.9,>=2.8->tensorflow->astro-datasets) (0.6.1)\n",
            "Requirement already satisfied: google-auth<3,>=1.6.3 in /usr/local/lib/python3.7/dist-packages (from tensorboard<2.9,>=2.8->tensorflow->astro-datasets) (1.35.0)\n",
            "Requirement already satisfied: werkzeug>=0.11.15 in /usr/local/lib/python3.7/dist-packages (from tensorboard<2.9,>=2.8->tensorflow->astro-datasets) (1.0.1)\n",
            "Requirement already satisfied: rsa<5,>=3.1.4 in /usr/local/lib/python3.7/dist-packages (from google-auth<3,>=1.6.3->tensorboard<2.9,>=2.8->tensorflow->astro-datasets) (4.9)\n",
            "Requirement already satisfied: cachetools<5.0,>=2.0.0 in /usr/local/lib/python3.7/dist-packages (from google-auth<3,>=1.6.3->tensorboard<2.9,>=2.8->tensorflow->astro-datasets) (4.2.4)\n",
            "Requirement already satisfied: pyasn1-modules>=0.2.1 in /usr/local/lib/python3.7/dist-packages (from google-auth<3,>=1.6.3->tensorboard<2.9,>=2.8->tensorflow->astro-datasets) (0.2.8)\n",
            "Requirement already satisfied: requests-oauthlib>=0.7.0 in /usr/local/lib/python3.7/dist-packages (from google-auth-oauthlib<0.5,>=0.4.1->tensorboard<2.9,>=2.8->tensorflow->astro-datasets) (1.3.1)\n",
            "Requirement already satisfied: importlib-metadata>=4.4 in /usr/local/lib/python3.7/dist-packages (from markdown>=2.6.8->tensorboard<2.9,>=2.8->tensorflow->astro-datasets) (4.12.0)\n",
            "Requirement already satisfied: zipp>=0.5 in /usr/local/lib/python3.7/dist-packages (from importlib-metadata>=4.4->markdown>=2.6.8->tensorboard<2.9,>=2.8->tensorflow->astro-datasets) (3.8.1)\n",
            "Requirement already satisfied: pyasn1<0.5.0,>=0.4.6 in /usr/local/lib/python3.7/dist-packages (from pyasn1-modules>=0.2.1->google-auth<3,>=1.6.3->tensorboard<2.9,>=2.8->tensorflow->astro-datasets) (0.4.8)\n",
            "Requirement already satisfied: chardet<4,>=3.0.2 in /usr/local/lib/python3.7/dist-packages (from requests<3,>=2.21.0->tensorboard<2.9,>=2.8->tensorflow->astro-datasets) (3.0.4)\n",
            "Requirement already satisfied: urllib3!=1.25.0,!=1.25.1,<1.26,>=1.21.1 in /usr/local/lib/python3.7/dist-packages (from requests<3,>=2.21.0->tensorboard<2.9,>=2.8->tensorflow->astro-datasets) (1.24.3)\n",
            "Requirement already satisfied: certifi>=2017.4.17 in /usr/local/lib/python3.7/dist-packages (from requests<3,>=2.21.0->tensorboard<2.9,>=2.8->tensorflow->astro-datasets) (2022.6.15)\n",
            "Requirement already satisfied: idna<3,>=2.5 in /usr/local/lib/python3.7/dist-packages (from requests<3,>=2.21.0->tensorboard<2.9,>=2.8->tensorflow->astro-datasets) (2.10)\n",
            "Requirement already satisfied: oauthlib>=3.0.0 in /usr/local/lib/python3.7/dist-packages (from requests-oauthlib>=0.7.0->google-auth-oauthlib<0.5,>=0.4.1->tensorboard<2.9,>=2.8->tensorflow->astro-datasets) (3.2.0)\n",
            "Requirement already satisfied: dill in /usr/local/lib/python3.7/dist-packages (from tensorflow-datasets->astro-datasets) (0.3.5.1)\n",
            "Requirement already satisfied: tqdm in /usr/local/lib/python3.7/dist-packages (from tensorflow-datasets->astro-datasets) (4.64.0)\n",
            "Requirement already satisfied: toml in /usr/local/lib/python3.7/dist-packages (from tensorflow-datasets->astro-datasets) (0.10.2)\n",
            "Requirement already satisfied: promise in /usr/local/lib/python3.7/dist-packages (from tensorflow-datasets->astro-datasets) (2.3)\n",
            "Requirement already satisfied: tensorflow-metadata in /usr/local/lib/python3.7/dist-packages (from tensorflow-datasets->astro-datasets) (1.10.0)\n",
            "Requirement already satisfied: importlib-resources in /usr/local/lib/python3.7/dist-packages (from tensorflow-datasets->astro-datasets) (5.9.0)\n",
            "Requirement already satisfied: etils[epath] in /usr/local/lib/python3.7/dist-packages (from tensorflow-datasets->astro-datasets) (0.7.1)\n",
            "Requirement already satisfied: googleapis-common-protos<2,>=1.52.0 in /usr/local/lib/python3.7/dist-packages (from tensorflow-metadata->tensorflow-datasets->astro-datasets) (1.56.4)\n",
            "Looking in indexes: https://pypi.org/simple, https://us-python.pkg.dev/colab-wheels/public/simple/\n",
            "Requirement already satisfied: tensorflow_datasets in /usr/local/lib/python3.7/dist-packages (4.6.0)\n",
            "Requirement already satisfied: protobuf>=3.12.2 in /usr/local/lib/python3.7/dist-packages (from tensorflow_datasets) (3.17.3)\n",
            "Requirement already satisfied: tensorflow-metadata in /usr/local/lib/python3.7/dist-packages (from tensorflow_datasets) (1.10.0)\n",
            "Requirement already satisfied: tqdm in /usr/local/lib/python3.7/dist-packages (from tensorflow_datasets) (4.64.0)\n",
            "Requirement already satisfied: termcolor in /usr/local/lib/python3.7/dist-packages (from tensorflow_datasets) (1.1.0)\n",
            "Requirement already satisfied: promise in /usr/local/lib/python3.7/dist-packages (from tensorflow_datasets) (2.3)\n",
            "Requirement already satisfied: dill in /usr/local/lib/python3.7/dist-packages (from tensorflow_datasets) (0.3.5.1)\n",
            "Requirement already satisfied: numpy in /usr/local/lib/python3.7/dist-packages (from tensorflow_datasets) (1.21.6)\n",
            "Requirement already satisfied: typing-extensions in /usr/local/lib/python3.7/dist-packages (from tensorflow_datasets) (4.1.1)\n",
            "Requirement already satisfied: requests>=2.19.0 in /usr/local/lib/python3.7/dist-packages (from tensorflow_datasets) (2.23.0)\n",
            "Requirement already satisfied: etils[epath] in /usr/local/lib/python3.7/dist-packages (from tensorflow_datasets) (0.7.1)\n",
            "Requirement already satisfied: six in /usr/local/lib/python3.7/dist-packages (from tensorflow_datasets) (1.15.0)\n",
            "Requirement already satisfied: importlib-resources in /usr/local/lib/python3.7/dist-packages (from tensorflow_datasets) (5.9.0)\n",
            "Requirement already satisfied: absl-py in /usr/local/lib/python3.7/dist-packages (from tensorflow_datasets) (1.2.0)\n",
            "Requirement already satisfied: toml in /usr/local/lib/python3.7/dist-packages (from tensorflow_datasets) (0.10.2)\n",
            "Requirement already satisfied: certifi>=2017.4.17 in /usr/local/lib/python3.7/dist-packages (from requests>=2.19.0->tensorflow_datasets) (2022.6.15)\n",
            "Requirement already satisfied: chardet<4,>=3.0.2 in /usr/local/lib/python3.7/dist-packages (from requests>=2.19.0->tensorflow_datasets) (3.0.4)\n",
            "Requirement already satisfied: idna<3,>=2.5 in /usr/local/lib/python3.7/dist-packages (from requests>=2.19.0->tensorflow_datasets) (2.10)\n",
            "Requirement already satisfied: urllib3!=1.25.0,!=1.25.1,<1.26,>=1.21.1 in /usr/local/lib/python3.7/dist-packages (from requests>=2.19.0->tensorflow_datasets) (1.24.3)\n",
            "Requirement already satisfied: zipp in /usr/local/lib/python3.7/dist-packages (from etils[epath]->tensorflow_datasets) (3.8.1)\n",
            "Requirement already satisfied: googleapis-common-protos<2,>=1.52.0 in /usr/local/lib/python3.7/dist-packages (from tensorflow-metadata->tensorflow_datasets) (1.56.4)\n"
          ]
        }
      ]
    },
    {
      "cell_type": "code",
      "source": [
        "shutil.rmtree('bnn_hmc', ignore_errors=True)"
      ],
      "metadata": {
        "id": "rgof0YRNNhjF"
      },
      "execution_count": 22,
      "outputs": []
    },
    {
      "cell_type": "code",
      "source": [
        "!git clone https://github.com/adammoss/bnn_hmc"
      ],
      "metadata": {
        "colab": {
          "base_uri": "https://localhost:8080/"
        },
        "id": "emPwFWJiNnJS",
        "outputId": "2caa3504-3b09-4798-8b2a-a602ab8e86c3"
      },
      "execution_count": 23,
      "outputs": [
        {
          "output_type": "stream",
          "name": "stdout",
          "text": [
            "Cloning into 'bnn_hmc'...\n",
            "remote: Enumerating objects: 600, done.\u001b[K\n",
            "remote: Counting objects: 100% (69/69), done.\u001b[K\n",
            "remote: Compressing objects: 100% (65/65), done.\u001b[K\n",
            "remote: Total 600 (delta 45), reused 12 (delta 4), pack-reused 531\u001b[K\n",
            "Receiving objects: 100% (600/600), 1.10 MiB | 14.44 MiB/s, done.\n",
            "Resolving deltas: 100% (426/426), done.\n"
          ]
        }
      ]
    },
    {
      "cell_type": "code",
      "source": [
        "!cd bnn_hmc && git checkout dropout_wip"
      ],
      "metadata": {
        "colab": {
          "base_uri": "https://localhost:8080/"
        },
        "id": "xtmi7zCNNuKH",
        "outputId": "f187ba9e-d5c2-45d8-c9b4-f3494380f2dd"
      },
      "execution_count": 24,
      "outputs": [
        {
          "output_type": "stream",
          "name": "stdout",
          "text": [
            "Branch 'dropout_wip' set up to track remote branch 'dropout_wip' from 'origin'.\n",
            "Switched to a new branch 'dropout_wip'\n"
          ]
        }
      ]
    },
    {
      "cell_type": "code",
      "source": [
        "# https://storage.googleapis.com/jax-releases/jax_cuda_releases.html\n",
        "!pip install --upgrade https://storage.googleapis.com/jax-releases/cuda111/jaxlib-0.1.65+cuda111-cp37-none-manylinux2010_x86_64.whl\n",
        "!pip install jax==0.2.12\n",
        "!pip install dm-haiku==0.0.5.dev0 optax==0.0.6 chex==0.0.6"
      ],
      "metadata": {
        "colab": {
          "base_uri": "https://localhost:8080/"
        },
        "id": "vwH_X6vwNyaz",
        "outputId": "cf742ce6-4ce8-41e0-a605-5bd5a911a728"
      },
      "execution_count": 25,
      "outputs": [
        {
          "output_type": "stream",
          "name": "stdout",
          "text": [
            "Looking in indexes: https://pypi.org/simple, https://us-python.pkg.dev/colab-wheels/public/simple/\n",
            "Collecting jaxlib==0.1.65+cuda111\n",
            "  Using cached https://storage.googleapis.com/jax-releases/cuda111/jaxlib-0.1.65+cuda111-cp37-none-manylinux2010_x86_64.whl (189.4 MB)\n",
            "Requirement already satisfied: flatbuffers in /usr/local/lib/python3.7/dist-packages (from jaxlib==0.1.65+cuda111) (2.0.7)\n",
            "Requirement already satisfied: scipy in /usr/local/lib/python3.7/dist-packages (from jaxlib==0.1.65+cuda111) (1.7.3)\n",
            "Requirement already satisfied: absl-py in /usr/local/lib/python3.7/dist-packages (from jaxlib==0.1.65+cuda111) (1.2.0)\n",
            "Requirement already satisfied: numpy>=1.16 in /usr/local/lib/python3.7/dist-packages (from jaxlib==0.1.65+cuda111) (1.21.6)\n",
            "Looking in indexes: https://pypi.org/simple, https://us-python.pkg.dev/colab-wheels/public/simple/\n",
            "Requirement already satisfied: jax==0.2.12 in /usr/local/lib/python3.7/dist-packages (0.2.12)\n",
            "Requirement already satisfied: opt-einsum in /usr/local/lib/python3.7/dist-packages (from jax==0.2.12) (3.3.0)\n",
            "Requirement already satisfied: numpy>=1.12 in /usr/local/lib/python3.7/dist-packages (from jax==0.2.12) (1.21.6)\n",
            "Requirement already satisfied: absl-py in /usr/local/lib/python3.7/dist-packages (from jax==0.2.12) (1.2.0)\n",
            "Looking in indexes: https://pypi.org/simple, https://us-python.pkg.dev/colab-wheels/public/simple/\n",
            "Requirement already satisfied: dm-haiku==0.0.5.dev0 in /usr/local/lib/python3.7/dist-packages (0.0.5.dev0)\n",
            "Requirement already satisfied: optax==0.0.6 in /usr/local/lib/python3.7/dist-packages (0.0.6)\n",
            "Requirement already satisfied: chex==0.0.6 in /usr/local/lib/python3.7/dist-packages (0.0.6)\n",
            "Requirement already satisfied: absl-py>=0.7.1 in /usr/local/lib/python3.7/dist-packages (from dm-haiku==0.0.5.dev0) (1.2.0)\n",
            "Requirement already satisfied: typing-extensions in /usr/local/lib/python3.7/dist-packages (from dm-haiku==0.0.5.dev0) (4.1.1)\n",
            "Requirement already satisfied: numpy>=1.18.0 in /usr/local/lib/python3.7/dist-packages (from dm-haiku==0.0.5.dev0) (1.21.6)\n",
            "Requirement already satisfied: tabulate>=0.8.9 in /usr/local/lib/python3.7/dist-packages (from dm-haiku==0.0.5.dev0) (0.8.10)\n",
            "Requirement already satisfied: jax>=0.1.55 in /usr/local/lib/python3.7/dist-packages (from optax==0.0.6) (0.2.12)\n",
            "Requirement already satisfied: jaxlib>=0.1.37 in /usr/local/lib/python3.7/dist-packages (from optax==0.0.6) (0.1.65+cuda111)\n",
            "Requirement already satisfied: dm-tree>=0.1.5 in /usr/local/lib/python3.7/dist-packages (from chex==0.0.6) (0.1.7)\n",
            "Requirement already satisfied: toolz>=0.9.0 in /usr/local/lib/python3.7/dist-packages (from chex==0.0.6) (0.12.0)\n",
            "Requirement already satisfied: opt-einsum in /usr/local/lib/python3.7/dist-packages (from jax>=0.1.55->optax==0.0.6) (3.3.0)\n",
            "Requirement already satisfied: flatbuffers in /usr/local/lib/python3.7/dist-packages (from jaxlib>=0.1.37->optax==0.0.6) (2.0.7)\n",
            "Requirement already satisfied: scipy in /usr/local/lib/python3.7/dist-packages (from jaxlib>=0.1.37->optax==0.0.6) (1.7.3)\n"
          ]
        }
      ]
    },
    {
      "cell_type": "code",
      "source": [
        "for i, root in enumerate(glob.glob('/content/runs/*/')):\n",
        "  shutil.rmtree(root, ignore_errors=True)"
      ],
      "metadata": {
        "id": "zHyF9LiXFaJ6"
      },
      "execution_count": 26,
      "outputs": []
    },
    {
      "cell_type": "code",
      "source": [
        "!python3 bnn_hmc/scripts/run_sgd.py --seed=0 --weight_decay=10 --dir=runs/sgd/mirabestc/ \\\n",
        "--dataset_name=mirabest/confident --model_name=lenet_dropout --init_step_size=3e-7 --num_epochs=200 --eval_freq=5 \\\n",
        "--batch_size=53 --save_freq=5 --optimizer=SGD --train_split=train[:80%] --test_split=train[80%:] --patience 10 \\\n",
        "--dropout_rate 0.1 --image_size=64"
      ],
      "metadata": {
        "colab": {
          "base_uri": "https://localhost:8080/"
        },
        "id": "iMNgd6oQN7cC",
        "outputId": "e573b3dd-cdc6-4ace-c87a-2ccca0012a7e"
      },
      "execution_count": 27,
      "outputs": [
        {
          "output_type": "stream",
          "name": "stdout",
          "text": [
            "JAX sees the following devices: [GpuDevice(id=0, process_index=0)]\n",
            "TF sees the following devices: [PhysicalDevice(name='/physical_device:CPU:0', device_type='CPU')]\n",
            "Starting from random initialization with provided seed\n",
            "/content/bnn_hmc/bnn_hmc/utils/script_utils.py:153: VisibleDeprecationWarning: Creating an ndarray from ragged nested sequences (which is a list-or-tuple of lists-or-tuples-or ndarrays with different lengths or shapes) is deprecated. If you meant to do this, you must specify 'dtype=object' when creating the ndarray.\n",
            "  predict_fn(net_apply, params, net_state, test_set, key))\n",
            "/content/bnn_hmc/bnn_hmc/utils/script_utils.py:155: VisibleDeprecationWarning: Creating an ndarray from ragged nested sequences (which is a list-or-tuple of lists-or-tuples-or ndarrays with different lengths or shapes) is deprecated. If you meant to do this, you must specify 'dtype=object' when creating the ndarray.\n",
            "  predict_fn(net_apply, params, net_state, train_set, key))\n",
            "---  --------  ----------------  ---------------  ----------  -------------------  --------------  --------------  --------\n",
            "  i         t    train/accuracy    test/accuracy    test/nll  test/ens_accuracy    test/ens_nll    test/ens_ece          lr\n",
            "---  --------  ----------------  ---------------  ----------  -------------------  --------------  --------------  --------\n",
            "  0    2.6308            0.4923           0.5137      0.6853                                                         0.0000\n",
            "  1    0.0231            0.5334           0.4726      0.6882                                                         0.0000\n",
            "  2    0.0228            0.6312           0.6781      0.6711                                                         0.0000\n",
            "  3    0.0232            0.5575           0.5068      0.6746                                                         0.0000\n",
            "  4    0.0230            0.6141           0.5548      0.6670                                                         0.0000\n",
            "  5    0.0240            0.7015           0.5822      0.6590                                                         0.0000\n",
            "  6    0.0227            0.7290           0.6712      0.6518                                                         0.0000\n",
            "  7    0.0229            0.7427           0.6096      0.6462                                                         0.0000\n",
            "  8    0.0231            0.7530           0.6918      0.6383                                                         0.0000\n",
            "  9    0.0231            0.7376           0.5959      0.6422                                                         0.0000\n",
            " 10    0.0229            0.7564           0.6986      0.6358                                                         0.0000\n",
            " 11    0.0228            0.7187           0.5890      0.6425                                                         0.0000\n",
            " 12    0.0254            0.7564           0.6027      0.6291                                                         0.0000\n",
            " 13    0.0242            0.7684           0.7260      0.6214                                                         0.0000\n",
            " 14    0.0227            0.7599           0.6164      0.6261                                                         0.0000\n",
            " 15    0.0230            0.7787           0.7192      0.6125                                                         0.0000\n",
            " 16    0.0226            0.7976           0.7260      0.6077                                                         0.0000\n",
            " 17    0.0232            0.7907           0.7329      0.6029                                                         0.0000\n",
            " 18    0.0232            0.8130           0.7192      0.5944                                                         0.0000\n",
            " 19    0.0231            0.8233           0.7192      0.5915                                                         0.0000\n",
            " 20    0.0228            0.7976           0.7055      0.5893                                                         0.0000\n",
            " 21    0.0230            0.7770           0.7397      0.5930                                                         0.0000\n",
            " 22    0.0236            0.8113           0.6781      0.5814                                                         0.0000\n",
            " 23    0.0230            0.8336           0.7397      0.5685                                                         0.0000\n",
            " 24    0.0229            0.8199           0.6986      0.5710                                                         0.0000\n",
            " 25    0.0231            0.8096           0.7603      0.5736                                                         0.0000\n",
            " 26    0.0232            0.8233           0.6781      0.5669                                                         0.0000\n",
            " 27    0.0235            0.8370           0.7192      0.5607                                                         0.0000\n",
            " 28    0.0226            0.8302           0.7260      0.5492                                                         0.0000\n",
            " 29    0.0236            0.8130           0.7671      0.5597                                                         0.0000\n",
            " 30    0.0228            0.8370           0.7397      0.5530                                                         0.0000\n",
            " 31    0.0227            0.8199           0.6986      0.5639                                                         0.0000\n",
            " 32    0.0231            0.8473           0.7808      0.5384                                                         0.0000\n",
            " 33    0.0226            0.8576           0.7397      0.5363                                                         0.0000\n",
            " 34    0.0244            0.8645           0.7397      0.5340                                                         0.0000\n",
            " 35    0.0232            0.8559           0.7466      0.5311                                                         0.0000\n",
            " 36    0.0234            0.8525           0.6849      0.5383                                                         0.0000\n",
            " 37    0.0234            0.8731           0.7671      0.5199                                                         0.0000\n",
            " 38    0.0232            0.8525           0.7671      0.5257                                                         0.0000\n",
            " 39    0.0231            0.8336           0.7740      0.5329                                                         0.0000\n",
            "---  --------  ----------------  ---------------  ----------  -------------------  --------------  --------------  --------\n",
            "  i         t    train/accuracy    test/accuracy    test/nll  test/ens_accuracy    test/ens_nll    test/ens_ece          lr\n",
            "---  --------  ----------------  ---------------  ----------  -------------------  --------------  --------------  --------\n",
            " 40    0.0231            0.8628           0.7055      0.5224                                                         0.0000\n",
            " 41    0.0242            0.8714           0.7808      0.5104                                                         0.0000\n",
            " 42    0.0231            0.8696           0.7260      0.5207                                                         0.0000\n",
            " 43    0.0227            0.8696           0.7192      0.5170                                                         0.0000\n",
            " 44    0.0232            0.8542           0.7877      0.5102                                                         0.0000\n",
            " 45    0.0226            0.8782           0.7877      0.5007                                                         0.0000\n",
            " 46    0.0234            0.8988           0.7877      0.4959                                                         0.0000\n",
            " 47    0.0229            0.9039           0.7808      0.4910                                                         0.0000\n",
            " 48    0.0234            0.8834           0.7671      0.5010                                                         0.0000\n",
            " 49    0.0229            0.8731           0.7808      0.4981                                                         0.0000\n",
            " 50    0.0232            0.8611           0.7260      0.5158                                                         0.0000\n",
            " 51    0.0234            0.8919           0.7466      0.4911                                                         0.0000\n",
            " 52    0.0229            0.8748           0.8014      0.4904                                                         0.0000\n",
            " 53    0.0225            0.8628           0.7877      0.4926                                                         0.0000\n",
            " 54    0.0229            0.8731           0.7329      0.4984                                                         0.0000\n",
            " 55    0.0233            0.8971           0.7671      0.4769                                                         0.0000\n",
            " 56    0.0227            0.8473           0.8082      0.5070                                                         0.0000\n",
            " 57    0.0227            0.8748           0.8082      0.4839                                                         0.0000\n",
            " 58    0.0229            0.8971           0.7740      0.4721                                                         0.0000\n",
            " 59    0.0231            0.8937           0.7671      0.4755                                                         0.0000\n",
            " 60    0.0229            0.8988           0.8151      0.4678                                                         0.0000\n",
            " 61    0.0238            0.8851           0.7877      0.4722                                                         0.0000\n",
            " 62    0.0228            0.8954           0.7877      0.4677                                                         0.0000\n",
            " 63    0.0230            0.8593           0.7808      0.4864                                                         0.0000\n",
            " 64    0.0225            0.8868           0.7466      0.4886                                                         0.0000\n",
            " 65    0.0228            0.9022           0.7877      0.4653                                                         0.0000\n",
            " 66    0.0231            0.9057           0.7808      0.4670                                                         0.0000\n",
            " 67    0.0232            0.8954           0.8014      0.4618                                                         0.0000\n",
            " 68    0.0248            0.8988           0.7671      0.4686                                                         0.0000\n",
            " 69    0.0231            0.8902           0.7603      0.4703                                                         0.0000\n",
            " 70    0.0230            0.9091           0.8219      0.4476                                                         0.0000\n",
            " 71    0.0230            0.8799           0.8219      0.4605                                                         0.0000\n",
            " 72    0.0232            0.8628           0.8219      0.4754                                                         0.0000\n",
            " 73    0.0251            0.9039           0.7877      0.4469                                                         0.0000\n",
            " 74    0.0231            0.9074           0.7877      0.4484                                                         0.0000\n",
            " 75    0.0233            0.8902           0.8082      0.4511                                                         0.0000\n",
            " 76    0.0250            0.9022           0.8014      0.4510                                                         0.0000\n",
            " 77    0.0226            0.9074           0.7945      0.4418                                                         0.0000\n",
            " 78    0.0235            0.8971           0.8219      0.4437                                                         0.0000\n",
            " 79    0.0235            0.9074           0.7945      0.4419                                                         0.0000\n",
            "---  --------  ----------------  ---------------  ----------  -------------------  --------------  --------------  --------\n",
            "  i         t    train/accuracy    test/accuracy    test/nll  test/ens_accuracy    test/ens_nll    test/ens_ece          lr\n",
            "---  --------  ----------------  ---------------  ----------  -------------------  --------------  --------------  --------\n",
            " 80    0.0241            0.8902           0.8151      0.4430                                                         0.0000\n",
            " 81    0.0229            0.8937           0.8014      0.4405                                                         0.0000\n",
            " 82    0.0232            0.8799           0.8014      0.4460                                                         0.0000\n",
            " 83    0.0229            0.8902           0.8151      0.4368                                                         0.0000\n",
            " 84    0.0233            0.9160           0.8219      0.4233                                                         0.0000\n",
            " 85    0.0227            0.9074           0.7877      0.4299                                                         0.0000\n",
            " 86    0.0229            0.8868           0.8356      0.4359                                                         0.0000\n",
            " 87    0.0225            0.9160           0.8014      0.4263                                                         0.0000\n",
            " 88    0.0230            0.9074           0.8219      0.4277                                                         0.0000\n",
            " 89    0.0230            0.9108           0.7877      0.4335                                                         0.0000\n",
            " 90    0.0243            0.9057           0.8288      0.4296                                                         0.0000\n",
            " 91    0.0233            0.8988           0.8356      0.4300                                                         0.0000\n",
            " 92    0.0245            0.9074           0.8288      0.4264                                                         0.0000\n",
            " 93    0.0238            0.9194           0.8151      0.4197                                                         0.0000\n",
            " 94    0.0246            0.9142           0.7877      0.4230                                                         0.0000\n",
            " 95    0.0259            0.9125           0.7877      0.4267                                                         0.0000\n",
            " 96    0.0230            0.8696           0.8288      0.4573                                                         0.0000\n",
            " 97    0.0233            0.9108           0.7808      0.4406                                                         0.0000\n",
            " 98    0.0236            0.9160           0.8219      0.4229                                                         0.0000\n",
            " 99    0.0233            0.9177           0.7945      0.4239                                                         0.0000\n",
            "100    0.0229            0.9194           0.7808      0.4243                                                         0.0000\n",
            "101    0.0230            0.9228           0.8288      0.4126                                                         0.0000\n",
            "102    0.0230            0.9262           0.7945      0.4178                                                         0.0000\n",
            "103    0.0230            0.9160           0.8082      0.4180                                                         0.0000\n",
            "104    0.0233            0.9160           0.8288      0.4194                                                         0.0000\n",
            "105    0.0231            0.9211           0.8219      0.4170                                                         0.0000\n",
            "106    0.0229            0.9211           0.8014      0.4150                                                         0.0000\n",
            "107    0.0227            0.9194           0.8082      0.4136                                                         0.0000\n",
            "108    0.0236            0.9228           0.7877      0.4208                                                         0.0000\n",
            "109    0.0225            0.9074           0.8493      0.4144                                                         0.0000\n",
            "110    0.0230            0.9211           0.8219      0.4084                                                         0.0000\n",
            "111    0.0227            0.9177           0.7877      0.4166                                                         0.0000\n",
            "112    0.0233            0.9228           0.8288      0.4078                                                         0.0000\n",
            "113    0.0227            0.9297           0.7945      0.4092                                                         0.0000\n",
            "114    0.0227            0.9280           0.8288      0.4061                                                         0.0000\n",
            "115    0.0229            0.9280           0.8219      0.4070                                                         0.0000\n",
            "116    0.0230            0.9262           0.8014      0.4100                                                         0.0000\n",
            "117    0.0229            0.9228           0.8288      0.4095                                                         0.0000\n",
            "118    0.0226            0.9211           0.8151      0.4116                                                         0.0000\n",
            "119    0.0223            0.9211           0.8014      0.4126                                                         0.0000\n",
            "---  --------  ----------------  ---------------  ----------  -------------------  --------------  --------------  --------\n",
            "  i         t    train/accuracy    test/accuracy    test/nll  test/ens_accuracy    test/ens_nll    test/ens_ece          lr\n",
            "---  --------  ----------------  ---------------  ----------  -------------------  --------------  --------------  --------\n",
            "120    0.0230            0.8902           0.8630      0.4260                                                         0.0000\n",
            "121    0.0238            0.9160           0.8014      0.4242                                                         0.0000\n",
            "122    0.0241            0.9022           0.8562      0.4174                                                         0.0000\n",
            "123    0.0233            0.9245           0.8014      0.4061                                                         0.0000\n",
            "124    0.0229            0.9211           0.7945      0.4148                                                         0.0000\n",
            "125    0.0228            0.9262           0.8288      0.4052                                                         0.0000\n",
            "126    0.0233            0.9245           0.7808      0.4148                                                         0.0000\n",
            "127    0.0230            0.9142           0.8425      0.4138                                                         0.0000\n",
            "128    0.0237            0.9194           0.7877      0.4147                                                         0.0000\n",
            "129    0.0227            0.9245           0.8151      0.4040                                                         0.0000\n",
            "130    0.0234            0.9262           0.8219      0.4025                                                         0.0000\n",
            "131    0.0232            0.9331           0.7945      0.4059                                                         0.0000\n",
            "132    0.0228            0.9348           0.7740      0.4066                                                         0.0000\n",
            "133    0.0227            0.9297           0.8288      0.4037                                                         0.0000\n",
            "134    0.0229            0.9228           0.8356      0.4053                                                         0.0000\n",
            "135    0.0236            0.9177           0.7877      0.4149                                                         0.0000\n",
            "136    0.0230            0.9331           0.8082      0.4019                                                         0.0000\n",
            "137    0.0230            0.9331           0.8151      0.3997                                                         0.0000\n",
            "138    0.0228            0.9297           0.7808      0.4041                                                         0.0000\n",
            "139    0.0230            0.9297           0.8288      0.4001                                                         0.0000\n",
            "140    0.0225            0.9314           0.8151      0.4024                                                         0.0000\n",
            "141    0.0231            0.9228           0.8356      0.4042                                                         0.0000\n",
            "142    0.0232            0.9314           0.7877      0.4058                                                         0.0000\n",
            "143    0.0228            0.9211           0.7808      0.4111                                                         0.0000\n",
            "144    0.0232            0.9297           0.8151      0.4029                                                         0.0000\n",
            "145    0.0230            0.9331           0.8151      0.4021                                                         0.0000\n",
            "146    0.0223            0.9331           0.8082      0.4028                                                         0.0000\n",
            "147    0.0226            0.9331           0.8151      0.4006                                                         0.0000\n"
          ]
        }
      ]
    },
    {
      "cell_type": "code",
      "source": [
        "!python3 bnn_hmc/scripts/run_sgd.py --seed=0 --weight_decay=10 --dir=runs/sgd/mirabestc/ \\\n",
        "--dataset_name=mirabest/confident --model_name=lenet_dropout --init_step_size=3e-7 --num_epochs=200 --eval_freq=5 \\\n",
        "--batch_size=53 --save_freq=5 --optimizer=SGD --eval_split=test --repeats 10 --dropout_rate 0.1 --image_size=64"
      ],
      "metadata": {
        "colab": {
          "base_uri": "https://localhost:8080/"
        },
        "id": "EsneCfTdOEXr",
        "outputId": "3334d3d8-b0a0-4461-f271-43c0a19510db"
      },
      "execution_count": 28,
      "outputs": [
        {
          "output_type": "stream",
          "name": "stdout",
          "text": [
            "JAX sees the following devices: [GpuDevice(id=0, process_index=0)]\n",
            "TF sees the following devices: [PhysicalDevice(name='/physical_device:CPU:0', device_type='CPU')]\n",
            "Continuing the run from the last saved checkpoint\n",
            "bnn_hmc/scripts/run_sgd.py:190: VisibleDeprecationWarning: Creating an ndarray from ragged nested sequences (which is a list-or-tuple of lists-or-tuples-or ndarrays with different lengths or shapes) is deprecated. If you meant to do this, you must specify 'dtype=object' when creating the ndarray.\n",
            "  predict_fn(net_apply, params, net_state, test_set, key))\n",
            "{'accuracy': DeviceArray(0.8173077, dtype=float32), 'nll': 0.37170264, 'ece': DeviceArray(0.1332449, dtype=float32)}\n"
          ]
        }
      ]
    },
    {
      "cell_type": "code",
      "source": [
        "softmax = []\n",
        "for i, root in enumerate(glob.glob('/content/runs/sgd/mirabestc/*/predictions*npy')):\n",
        "  prediction = np.load(root)\n",
        "  softmax.append(np.squeeze(prediction))\n",
        "softmax = np.array(softmax)"
      ],
      "metadata": {
        "id": "4T-FRBg69f4g"
      },
      "execution_count": 29,
      "outputs": []
    },
    {
      "cell_type": "code",
      "source": [
        "def uncertainty(softmax):\n",
        "  # Per example softmax with shape(num_examples, num_classes)\n",
        "  predictive_entropy = 0\n",
        "  single_pass_entropy = 0\n",
        "  for i in range(softmax.shape[1]):\n",
        "    # Sum over classes\n",
        "    predictive_entropy += -np.mean(softmax[:,i])*np.log(np.mean(softmax[:,i]))\n",
        "    single_pass_entropy += -softmax[:,i]*np.log(softmax[:,i])\n",
        "  single_pass_entropy = np.mean(single_pass_entropy)\n",
        "  mutual_info = predictive_entropy - single_pass_entropy\n",
        "  return predictive_entropy, single_pass_entropy, mutual_info"
      ],
      "metadata": {
        "id": "-rGuT8ImChqs"
      },
      "execution_count": 30,
      "outputs": []
    },
    {
      "cell_type": "code",
      "source": [
        "predictive_entropies = [] \n",
        "single_pass_entropies = []\n",
        "mutual_infos = []\n",
        "for i in range(softmax.shape[1]):\n",
        "  predictive_entropy, single_pass_entropy, mutual_info = uncertainty(softmax[:,i,:])\n",
        "  predictive_entropies.append(predictive_entropy)\n",
        "  single_pass_entropies.append(single_pass_entropy)\n",
        "  mutual_infos.append(mutual_info)\n",
        "print('Predictive entropy:', np.mean(predictive_entropies), np.std(predictive_entropies))\n",
        "print('Single pass entropy:', np.mean(single_pass_entropies), np.std(single_pass_entropies))\n",
        "print('Mutual info:', np.mean(mutual_infos), np.std(mutual_infos))"
      ],
      "metadata": {
        "colab": {
          "base_uri": "https://localhost:8080/"
        },
        "id": "hxbrzrl1CuNJ",
        "outputId": "f93f4ee0-f1da-428e-e392-46a597071e42"
      },
      "execution_count": 31,
      "outputs": [
        {
          "output_type": "stream",
          "name": "stdout",
          "text": [
            "Predictive entropy: 0.475809407602915 0.18524258843208888\n",
            "Single pass entropy: 0.4150225 0.16628912\n",
            "Mutual info: 0.060786921041793764 0.04780274338542248\n"
          ]
        }
      ]
    },
    {
      "cell_type": "code",
      "source": [
        "sns.boxplot(predictive_entropies)\n",
        "plt.show()"
      ],
      "metadata": {
        "colab": {
          "base_uri": "https://localhost:8080/",
          "height": 321
        },
        "id": "Li9H5hVCCwXr",
        "outputId": "e789dac4-ae08-48fc-f9e9-c3b8d58adc7a"
      },
      "execution_count": 32,
      "outputs": [
        {
          "output_type": "stream",
          "name": "stderr",
          "text": [
            "/usr/local/lib/python3.7/dist-packages/seaborn/_decorators.py:43: FutureWarning: Pass the following variable as a keyword arg: x. From version 0.12, the only valid positional argument will be `data`, and passing other arguments without an explicit keyword will result in an error or misinterpretation.\n",
            "  FutureWarning\n"
          ]
        },
        {
          "output_type": "display_data",
          "data": {
            "text/plain": [
              "<Figure size 432x288 with 1 Axes>"
            ],
            "image/png": "[encoded data removed]"
          },
          "metadata": {
            "needs_background": "light"
          }
        }
      ]
    },
    {
      "cell_type": "code",
      "source": [
        "sns.boxplot(single_pass_entropies)\n",
        "plt.show()"
      ],
      "metadata": {
        "colab": {
          "base_uri": "https://localhost:8080/",
          "height": 321
        },
        "id": "Teyj6WXSCyge",
        "outputId": "c31fb84f-acc8-4faf-ac2b-45708935cda3"
      },
      "execution_count": 33,
      "outputs": [
        {
          "output_type": "stream",
          "name": "stderr",
          "text": [
            "/usr/local/lib/python3.7/dist-packages/seaborn/_decorators.py:43: FutureWarning: Pass the following variable as a keyword arg: x. From version 0.12, the only valid positional argument will be `data`, and passing other arguments without an explicit keyword will result in an error or misinterpretation.\n",
            "  FutureWarning\n"
          ]
        },
        {
          "output_type": "display_data",
          "data": {
            "text/plain": [
              "<Figure size 432x288 with 1 Axes>"
            ],
            "image/png": "[encoded data removed]"
          },
          "metadata": {
            "needs_background": "light"
          }
        }
      ]
    },
    {
      "cell_type": "code",
      "source": [
        "sns.boxplot(mutual_infos)\n",
        "plt.show()"
      ],
      "metadata": {
        "colab": {
          "base_uri": "https://localhost:8080/",
          "height": 321
        },
        "id": "mQu6a2PaC7lX",
        "outputId": "fe829287-a76f-4bda-abcf-584fe834a5d6"
      },
      "execution_count": 34,
      "outputs": [
        {
          "output_type": "stream",
          "name": "stderr",
          "text": [
            "/usr/local/lib/python3.7/dist-packages/seaborn/_decorators.py:43: FutureWarning: Pass the following variable as a keyword arg: x. From version 0.12, the only valid positional argument will be `data`, and passing other arguments without an explicit keyword will result in an error or misinterpretation.\n",
            "  FutureWarning\n"
          ]
        },
        {
          "output_type": "display_data",
          "data": {
            "text/plain": [
              "<Figure size 432x288 with 1 Axes>"
            ],
            "image/png": "[encoded data removed]"
          },
          "metadata": {
            "needs_background": "light"
          }
        }
      ]
    },
    {
      "cell_type": "code",
      "source": [],
      "metadata": {
        "id": "DfvTarcAC_3J"
      },
      "execution_count": 34,
      "outputs": []
    }
  ]
}